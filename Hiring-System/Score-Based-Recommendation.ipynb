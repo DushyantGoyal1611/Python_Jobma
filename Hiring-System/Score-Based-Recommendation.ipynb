{
 "cells": [
  {
   "cell_type": "code",
   "execution_count": 1,
   "id": "08cb91f5-dcde-4b45-8930-447f322c4875",
   "metadata": {},
   "outputs": [],
   "source": [
    "import pandas as pd\n",
    "import numpy as np\n",
    "import matplotlib.pyplot as plt\n",
    "import seaborn as sns\n",
    "\n",
    "# Scikit-Learn\n",
    "from sklearn.model_selection import train_test_split\n",
    "from sklearn.preprocessing import StandardScaler\n",
    "\n",
    "# Torch\n",
    "import torch\n",
    "import torch.nn as nn\n",
    "import torch.nn.functional as F"
   ]
  },
  {
   "cell_type": "code",
   "execution_count": 2,
   "id": "70ea23e7-19de-4723-8995-121f889d9caf",
   "metadata": {},
   "outputs": [],
   "source": [
    "df = pd.read_csv('recruitment_data.csv')\n",
    "df['id'] = df.index"
   ]
  },
  {
   "cell_type": "code",
   "execution_count": 3,
   "id": "a6c9613b-6aa4-4483-b9f3-d9c9e81e7260",
   "metadata": {},
   "outputs": [
    {
     "data": {
      "text/html": [
       "<div>\n",
       "<style scoped>\n",
       "    .dataframe tbody tr th:only-of-type {\n",
       "        vertical-align: middle;\n",
       "    }\n",
       "\n",
       "    .dataframe tbody tr th {\n",
       "        vertical-align: top;\n",
       "    }\n",
       "\n",
       "    .dataframe thead th {\n",
       "        text-align: right;\n",
       "    }\n",
       "</style>\n",
       "<table border=\"1\" class=\"dataframe\">\n",
       "  <thead>\n",
       "    <tr style=\"text-align: right;\">\n",
       "      <th></th>\n",
       "      <th>Age</th>\n",
       "      <th>Gender</th>\n",
       "      <th>EducationLevel</th>\n",
       "      <th>ExperienceYears</th>\n",
       "      <th>PreviousCompanies</th>\n",
       "      <th>DistanceFromCompany</th>\n",
       "      <th>InterviewScore</th>\n",
       "      <th>SkillScore</th>\n",
       "      <th>PersonalityScore</th>\n",
       "      <th>RecruitmentStrategy</th>\n",
       "      <th>HiringDecision</th>\n",
       "      <th>id</th>\n",
       "    </tr>\n",
       "  </thead>\n",
       "  <tbody>\n",
       "    <tr>\n",
       "      <th>0</th>\n",
       "      <td>26</td>\n",
       "      <td>1</td>\n",
       "      <td>2</td>\n",
       "      <td>0</td>\n",
       "      <td>3</td>\n",
       "      <td>26.783828</td>\n",
       "      <td>48</td>\n",
       "      <td>78</td>\n",
       "      <td>91</td>\n",
       "      <td>1</td>\n",
       "      <td>1</td>\n",
       "      <td>0</td>\n",
       "    </tr>\n",
       "    <tr>\n",
       "      <th>1</th>\n",
       "      <td>39</td>\n",
       "      <td>1</td>\n",
       "      <td>4</td>\n",
       "      <td>12</td>\n",
       "      <td>3</td>\n",
       "      <td>25.862694</td>\n",
       "      <td>35</td>\n",
       "      <td>68</td>\n",
       "      <td>80</td>\n",
       "      <td>2</td>\n",
       "      <td>1</td>\n",
       "      <td>1</td>\n",
       "    </tr>\n",
       "    <tr>\n",
       "      <th>2</th>\n",
       "      <td>48</td>\n",
       "      <td>0</td>\n",
       "      <td>2</td>\n",
       "      <td>3</td>\n",
       "      <td>2</td>\n",
       "      <td>9.920805</td>\n",
       "      <td>20</td>\n",
       "      <td>67</td>\n",
       "      <td>13</td>\n",
       "      <td>2</td>\n",
       "      <td>0</td>\n",
       "      <td>2</td>\n",
       "    </tr>\n",
       "    <tr>\n",
       "      <th>3</th>\n",
       "      <td>34</td>\n",
       "      <td>1</td>\n",
       "      <td>2</td>\n",
       "      <td>5</td>\n",
       "      <td>2</td>\n",
       "      <td>6.407751</td>\n",
       "      <td>36</td>\n",
       "      <td>27</td>\n",
       "      <td>70</td>\n",
       "      <td>3</td>\n",
       "      <td>0</td>\n",
       "      <td>3</td>\n",
       "    </tr>\n",
       "    <tr>\n",
       "      <th>4</th>\n",
       "      <td>30</td>\n",
       "      <td>0</td>\n",
       "      <td>1</td>\n",
       "      <td>6</td>\n",
       "      <td>1</td>\n",
       "      <td>43.105343</td>\n",
       "      <td>23</td>\n",
       "      <td>52</td>\n",
       "      <td>85</td>\n",
       "      <td>2</td>\n",
       "      <td>0</td>\n",
       "      <td>4</td>\n",
       "    </tr>\n",
       "  </tbody>\n",
       "</table>\n",
       "</div>"
      ],
      "text/plain": [
       "   Age  Gender  EducationLevel  ExperienceYears  PreviousCompanies  \\\n",
       "0   26       1               2                0                  3   \n",
       "1   39       1               4               12                  3   \n",
       "2   48       0               2                3                  2   \n",
       "3   34       1               2                5                  2   \n",
       "4   30       0               1                6                  1   \n",
       "\n",
       "   DistanceFromCompany  InterviewScore  SkillScore  PersonalityScore  \\\n",
       "0            26.783828              48          78                91   \n",
       "1            25.862694              35          68                80   \n",
       "2             9.920805              20          67                13   \n",
       "3             6.407751              36          27                70   \n",
       "4            43.105343              23          52                85   \n",
       "\n",
       "   RecruitmentStrategy  HiringDecision  id  \n",
       "0                    1               1   0  \n",
       "1                    2               1   1  \n",
       "2                    2               0   2  \n",
       "3                    3               0   3  \n",
       "4                    2               0   4  "
      ]
     },
     "execution_count": 3,
     "metadata": {},
     "output_type": "execute_result"
    }
   ],
   "source": [
    "df.head()"
   ]
  },
  {
   "cell_type": "code",
   "execution_count": 4,
   "id": "99a1a3f1-15ee-49af-a0f4-fb219f618c1f",
   "metadata": {},
   "outputs": [
    {
     "data": {
      "text/plain": [
       "(1500, 12)"
      ]
     },
     "execution_count": 4,
     "metadata": {},
     "output_type": "execute_result"
    }
   ],
   "source": [
    "df.shape"
   ]
  },
  {
   "cell_type": "code",
   "execution_count": 5,
   "id": "828dce41-72fd-4ff6-a9df-cf4e6be39423",
   "metadata": {},
   "outputs": [
    {
     "data": {
      "text/plain": [
       "Age                    0\n",
       "Gender                 0\n",
       "EducationLevel         0\n",
       "ExperienceYears        0\n",
       "PreviousCompanies      0\n",
       "DistanceFromCompany    0\n",
       "InterviewScore         0\n",
       "SkillScore             0\n",
       "PersonalityScore       0\n",
       "RecruitmentStrategy    0\n",
       "HiringDecision         0\n",
       "id                     0\n",
       "dtype: int64"
      ]
     },
     "execution_count": 5,
     "metadata": {},
     "output_type": "execute_result"
    }
   ],
   "source": [
    "df.isnull().sum()"
   ]
  },
  {
   "cell_type": "code",
   "execution_count": 6,
   "id": "d9808a44-9f15-42e9-9667-548eca3751a0",
   "metadata": {},
   "outputs": [
    {
     "data": {
      "text/plain": [
       "array([2, 4, 1, 3], dtype=int64)"
      ]
     },
     "execution_count": 6,
     "metadata": {},
     "output_type": "execute_result"
    }
   ],
   "source": [
    "df['EducationLevel'].unique()"
   ]
  },
  {
   "cell_type": "code",
   "execution_count": 7,
   "id": "c346ef23-59bb-4ad2-a778-6ab80f3bb2d4",
   "metadata": {},
   "outputs": [
    {
     "data": {
      "text/html": [
       "<div>\n",
       "<style scoped>\n",
       "    .dataframe tbody tr th:only-of-type {\n",
       "        vertical-align: middle;\n",
       "    }\n",
       "\n",
       "    .dataframe tbody tr th {\n",
       "        vertical-align: top;\n",
       "    }\n",
       "\n",
       "    .dataframe thead th {\n",
       "        text-align: right;\n",
       "    }\n",
       "</style>\n",
       "<table border=\"1\" class=\"dataframe\">\n",
       "  <thead>\n",
       "    <tr style=\"text-align: right;\">\n",
       "      <th></th>\n",
       "      <th>Age</th>\n",
       "      <th>Gender</th>\n",
       "      <th>EducationLevel</th>\n",
       "      <th>ExperienceYears</th>\n",
       "      <th>PreviousCompanies</th>\n",
       "      <th>DistanceFromCompany</th>\n",
       "      <th>InterviewScore</th>\n",
       "      <th>SkillScore</th>\n",
       "      <th>PersonalityScore</th>\n",
       "      <th>RecruitmentStrategy</th>\n",
       "      <th>HiringDecision</th>\n",
       "      <th>id</th>\n",
       "    </tr>\n",
       "  </thead>\n",
       "  <tbody>\n",
       "    <tr>\n",
       "      <th>count</th>\n",
       "      <td>1500.000000</td>\n",
       "      <td>1500.000000</td>\n",
       "      <td>1500.000000</td>\n",
       "      <td>1500.000000</td>\n",
       "      <td>1500.00000</td>\n",
       "      <td>1500.000000</td>\n",
       "      <td>1500.000000</td>\n",
       "      <td>1500.000000</td>\n",
       "      <td>1500.000000</td>\n",
       "      <td>1500.000000</td>\n",
       "      <td>1500.000000</td>\n",
       "      <td>1500.000000</td>\n",
       "    </tr>\n",
       "    <tr>\n",
       "      <th>mean</th>\n",
       "      <td>35.148667</td>\n",
       "      <td>0.492000</td>\n",
       "      <td>2.188000</td>\n",
       "      <td>7.694000</td>\n",
       "      <td>3.00200</td>\n",
       "      <td>25.505379</td>\n",
       "      <td>50.564000</td>\n",
       "      <td>51.116000</td>\n",
       "      <td>49.387333</td>\n",
       "      <td>1.893333</td>\n",
       "      <td>0.310000</td>\n",
       "      <td>749.500000</td>\n",
       "    </tr>\n",
       "    <tr>\n",
       "      <th>std</th>\n",
       "      <td>9.252728</td>\n",
       "      <td>0.500103</td>\n",
       "      <td>0.862449</td>\n",
       "      <td>4.641414</td>\n",
       "      <td>1.41067</td>\n",
       "      <td>14.567151</td>\n",
       "      <td>28.626215</td>\n",
       "      <td>29.353563</td>\n",
       "      <td>29.353201</td>\n",
       "      <td>0.689642</td>\n",
       "      <td>0.462647</td>\n",
       "      <td>433.157015</td>\n",
       "    </tr>\n",
       "    <tr>\n",
       "      <th>min</th>\n",
       "      <td>20.000000</td>\n",
       "      <td>0.000000</td>\n",
       "      <td>1.000000</td>\n",
       "      <td>0.000000</td>\n",
       "      <td>1.00000</td>\n",
       "      <td>1.031376</td>\n",
       "      <td>0.000000</td>\n",
       "      <td>0.000000</td>\n",
       "      <td>0.000000</td>\n",
       "      <td>1.000000</td>\n",
       "      <td>0.000000</td>\n",
       "      <td>0.000000</td>\n",
       "    </tr>\n",
       "    <tr>\n",
       "      <th>25%</th>\n",
       "      <td>27.000000</td>\n",
       "      <td>0.000000</td>\n",
       "      <td>2.000000</td>\n",
       "      <td>4.000000</td>\n",
       "      <td>2.00000</td>\n",
       "      <td>12.838851</td>\n",
       "      <td>25.000000</td>\n",
       "      <td>25.750000</td>\n",
       "      <td>23.000000</td>\n",
       "      <td>1.000000</td>\n",
       "      <td>0.000000</td>\n",
       "      <td>374.750000</td>\n",
       "    </tr>\n",
       "    <tr>\n",
       "      <th>50%</th>\n",
       "      <td>35.000000</td>\n",
       "      <td>0.000000</td>\n",
       "      <td>2.000000</td>\n",
       "      <td>8.000000</td>\n",
       "      <td>3.00000</td>\n",
       "      <td>25.502239</td>\n",
       "      <td>52.000000</td>\n",
       "      <td>53.000000</td>\n",
       "      <td>49.000000</td>\n",
       "      <td>2.000000</td>\n",
       "      <td>0.000000</td>\n",
       "      <td>749.500000</td>\n",
       "    </tr>\n",
       "    <tr>\n",
       "      <th>75%</th>\n",
       "      <td>43.000000</td>\n",
       "      <td>1.000000</td>\n",
       "      <td>3.000000</td>\n",
       "      <td>12.000000</td>\n",
       "      <td>4.00000</td>\n",
       "      <td>37.737996</td>\n",
       "      <td>75.000000</td>\n",
       "      <td>76.000000</td>\n",
       "      <td>76.000000</td>\n",
       "      <td>2.000000</td>\n",
       "      <td>1.000000</td>\n",
       "      <td>1124.250000</td>\n",
       "    </tr>\n",
       "    <tr>\n",
       "      <th>max</th>\n",
       "      <td>50.000000</td>\n",
       "      <td>1.000000</td>\n",
       "      <td>4.000000</td>\n",
       "      <td>15.000000</td>\n",
       "      <td>5.00000</td>\n",
       "      <td>50.992462</td>\n",
       "      <td>100.000000</td>\n",
       "      <td>100.000000</td>\n",
       "      <td>100.000000</td>\n",
       "      <td>3.000000</td>\n",
       "      <td>1.000000</td>\n",
       "      <td>1499.000000</td>\n",
       "    </tr>\n",
       "  </tbody>\n",
       "</table>\n",
       "</div>"
      ],
      "text/plain": [
       "               Age       Gender  EducationLevel  ExperienceYears  \\\n",
       "count  1500.000000  1500.000000     1500.000000      1500.000000   \n",
       "mean     35.148667     0.492000        2.188000         7.694000   \n",
       "std       9.252728     0.500103        0.862449         4.641414   \n",
       "min      20.000000     0.000000        1.000000         0.000000   \n",
       "25%      27.000000     0.000000        2.000000         4.000000   \n",
       "50%      35.000000     0.000000        2.000000         8.000000   \n",
       "75%      43.000000     1.000000        3.000000        12.000000   \n",
       "max      50.000000     1.000000        4.000000        15.000000   \n",
       "\n",
       "       PreviousCompanies  DistanceFromCompany  InterviewScore   SkillScore  \\\n",
       "count         1500.00000          1500.000000     1500.000000  1500.000000   \n",
       "mean             3.00200            25.505379       50.564000    51.116000   \n",
       "std              1.41067            14.567151       28.626215    29.353563   \n",
       "min              1.00000             1.031376        0.000000     0.000000   \n",
       "25%              2.00000            12.838851       25.000000    25.750000   \n",
       "50%              3.00000            25.502239       52.000000    53.000000   \n",
       "75%              4.00000            37.737996       75.000000    76.000000   \n",
       "max              5.00000            50.992462      100.000000   100.000000   \n",
       "\n",
       "       PersonalityScore  RecruitmentStrategy  HiringDecision           id  \n",
       "count       1500.000000          1500.000000     1500.000000  1500.000000  \n",
       "mean          49.387333             1.893333        0.310000   749.500000  \n",
       "std           29.353201             0.689642        0.462647   433.157015  \n",
       "min            0.000000             1.000000        0.000000     0.000000  \n",
       "25%           23.000000             1.000000        0.000000   374.750000  \n",
       "50%           49.000000             2.000000        0.000000   749.500000  \n",
       "75%           76.000000             2.000000        1.000000  1124.250000  \n",
       "max          100.000000             3.000000        1.000000  1499.000000  "
      ]
     },
     "execution_count": 7,
     "metadata": {},
     "output_type": "execute_result"
    }
   ],
   "source": [
    "df.describe()"
   ]
  },
  {
   "cell_type": "markdown",
   "id": "bc83d87d-0848-46a7-a3ee-2268488c8a70",
   "metadata": {},
   "source": [
    "## Boxplot (for outliers)"
   ]
  },
  {
   "cell_type": "code",
   "execution_count": 9,
   "id": "53d0313a-145a-4749-9604-b20e37c2c473",
   "metadata": {},
   "outputs": [
    {
     "data": {
      "image/png": "[encoded data removed]",
      "text/plain": [
       "<Figure size 1500x600 with 1 Axes>"
      ]
     },
     "metadata": {},
     "output_type": "display_data"
    }
   ],
   "source": [
    "plt.figure(figsize=(15,6))\n",
    "sns.boxplot(data=df)\n",
    "plt.title(\"Boxplot of Candidate Features\")\n",
    "plt.xticks(rotation=45)\n",
    "plt.show()"
   ]
  },
  {
   "cell_type": "code",
   "execution_count": 10,
   "id": "6444cf8b-7fc6-4911-bb32-7ef23210934d",
   "metadata": {},
   "outputs": [
    {
     "data": {
      "text/plain": [
       "<Axes: >"
      ]
     },
     "execution_count": 10,
     "metadata": {},
     "output_type": "execute_result"
    },
    {
     "data": {
      "image/png": "[encoded data removed]",
      "text/plain": [
       "<Figure size 1000x600 with 2 Axes>"
      ]
     },
     "metadata": {},
     "output_type": "display_data"
    }
   ],
   "source": [
    "## Heatmap \n",
    "corr_matrix = df.corr()\n",
    "\n",
    "plt.figure(figsize=(10,6))\n",
    "sns.heatmap(corr_matrix, annot=True, cmap='coolwarm', fmt=\".2f\", linewidths=0.5)"
   ]
  },
  {
   "cell_type": "code",
   "execution_count": 11,
   "id": "e6fd2a41-7745-439b-8b99-e0aa11370f90",
   "metadata": {},
   "outputs": [
    {
     "name": "stdout",
     "output_type": "stream",
     "text": [
      "<class 'pandas.core.frame.DataFrame'>\n",
      "RangeIndex: 1500 entries, 0 to 1499\n",
      "Data columns (total 12 columns):\n",
      " #   Column               Non-Null Count  Dtype  \n",
      "---  ------               --------------  -----  \n",
      " 0   Age                  1500 non-null   int64  \n",
      " 1   Gender               1500 non-null   int64  \n",
      " 2   EducationLevel       1500 non-null   int64  \n",
      " 3   ExperienceYears      1500 non-null   int64  \n",
      " 4   PreviousCompanies    1500 non-null   int64  \n",
      " 5   DistanceFromCompany  1500 non-null   float64\n",
      " 6   InterviewScore       1500 non-null   int64  \n",
      " 7   SkillScore           1500 non-null   int64  \n",
      " 8   PersonalityScore     1500 non-null   int64  \n",
      " 9   RecruitmentStrategy  1500 non-null   int64  \n",
      " 10  HiringDecision       1500 non-null   int64  \n",
      " 11  id                   1500 non-null   int64  \n",
      "dtypes: float64(1), int64(11)\n",
      "memory usage: 140.8 KB\n"
     ]
    }
   ],
   "source": [
    "df.info()"
   ]
  },
  {
   "cell_type": "code",
   "execution_count": 12,
   "id": "c4ccddc9-ffea-413e-b515-99244380dc82",
   "metadata": {},
   "outputs": [],
   "source": [
    "numerical_df = df.copy()\n",
    "numerical_df.drop(['HiringDecision','id'], axis=1, inplace=True)\n",
    "\n",
    "df = df[['HiringDecision']]"
   ]
  },
  {
   "cell_type": "markdown",
   "id": "d2277121-eb4b-458a-a886-00a9b1ee566b",
   "metadata": {},
   "source": [
    "## Feature Scaling"
   ]
  },
  {
   "cell_type": "code",
   "execution_count": 14,
   "id": "707b88ae-96e3-4653-bec0-83aa331b212f",
   "metadata": {},
   "outputs": [
    {
     "data": {
      "text/html": [
       "<style>#sk-container-id-1 {\n",
       "  /* Definition of color scheme common for light and dark mode */\n",
       "  --sklearn-color-text: black;\n",
       "  --sklearn-color-line: gray;\n",
       "  /* Definition of color scheme for unfitted estimators */\n",
       "  --sklearn-color-unfitted-level-0: #fff5e6;\n",
       "  --sklearn-color-unfitted-level-1: #f6e4d2;\n",
       "  --sklearn-color-unfitted-level-2: #ffe0b3;\n",
       "  --sklearn-color-unfitted-level-3: chocolate;\n",
       "  /* Definition of color scheme for fitted estimators */\n",
       "  --sklearn-color-fitted-level-0: #f0f8ff;\n",
       "  --sklearn-color-fitted-level-1: #d4ebff;\n",
       "  --sklearn-color-fitted-level-2: #b3dbfd;\n",
       "  --sklearn-color-fitted-level-3: cornflowerblue;\n",
       "\n",
       "  /* Specific color for light theme */\n",
       "  --sklearn-color-text-on-default-background: var(--sg-text-color, var(--theme-code-foreground, var(--jp-content-font-color1, black)));\n",
       "  --sklearn-color-background: var(--sg-background-color, var(--theme-background, var(--jp-layout-color0, white)));\n",
       "  --sklearn-color-border-box: var(--sg-text-color, var(--theme-code-foreground, var(--jp-content-font-color1, black)));\n",
       "  --sklearn-color-icon: #696969;\n",
       "\n",
       "  @media (prefers-color-scheme: dark) {\n",
       "    /* Redefinition of color scheme for dark theme */\n",
       "    --sklearn-color-text-on-default-background: var(--sg-text-color, var(--theme-code-foreground, var(--jp-content-font-color1, white)));\n",
       "    --sklearn-color-background: var(--sg-background-color, var(--theme-background, var(--jp-layout-color0, #111)));\n",
       "    --sklearn-color-border-box: var(--sg-text-color, var(--theme-code-foreground, var(--jp-content-font-color1, white)));\n",
       "    --sklearn-color-icon: #878787;\n",
       "  }\n",
       "}\n",
       "\n",
       "#sk-container-id-1 {\n",
       "  color: var(--sklearn-color-text);\n",
       "}\n",
       "\n",
       "#sk-container-id-1 pre {\n",
       "  padding: 0;\n",
       "}\n",
       "\n",
       "#sk-container-id-1 input.sk-hidden--visually {\n",
       "  border: 0;\n",
       "  clip: rect(1px 1px 1px 1px);\n",
       "  clip: rect(1px, 1px, 1px, 1px);\n",
       "  height: 1px;\n",
       "  margin: -1px;\n",
       "  overflow: hidden;\n",
       "  padding: 0;\n",
       "  position: absolute;\n",
       "  width: 1px;\n",
       "}\n",
       "\n",
       "#sk-container-id-1 div.sk-dashed-wrapped {\n",
       "  border: 1px dashed var(--sklearn-color-line);\n",
       "  margin: 0 0.4em 0.5em 0.4em;\n",
       "  box-sizing: border-box;\n",
       "  padding-bottom: 0.4em;\n",
       "  background-color: var(--sklearn-color-background);\n",
       "}\n",
       "\n",
       "#sk-container-id-1 div.sk-container {\n",
       "  /* jupyter's `normalize.less` sets `[hidden] { display: none; }`\n",
       "     but bootstrap.min.css set `[hidden] { display: none !important; }`\n",
       "     so we also need the `!important` here to be able to override the\n",
       "     default hidden behavior on the sphinx rendered scikit-learn.org.\n",
       "     See: https://github.com/scikit-learn/scikit-learn/issues/21755 */\n",
       "  display: inline-block !important;\n",
       "  position: relative;\n",
       "}\n",
       "\n",
       "#sk-container-id-1 div.sk-text-repr-fallback {\n",
       "  display: none;\n",
       "}\n",
       "\n",
       "div.sk-parallel-item,\n",
       "div.sk-serial,\n",
       "div.sk-item {\n",
       "  /* draw centered vertical line to link estimators */\n",
       "  background-image: linear-gradient(var(--sklearn-color-text-on-default-background), var(--sklearn-color-text-on-default-background));\n",
       "  background-size: 2px 100%;\n",
       "  background-repeat: no-repeat;\n",
       "  background-position: center center;\n",
       "}\n",
       "\n",
       "/* Parallel-specific style estimator block */\n",
       "\n",
       "#sk-container-id-1 div.sk-parallel-item::after {\n",
       "  content: \"\";\n",
       "  width: 100%;\n",
       "  border-bottom: 2px solid var(--sklearn-color-text-on-default-background);\n",
       "  flex-grow: 1;\n",
       "}\n",
       "\n",
       "#sk-container-id-1 div.sk-parallel {\n",
       "  display: flex;\n",
       "  align-items: stretch;\n",
       "  justify-content: center;\n",
       "  background-color: var(--sklearn-color-background);\n",
       "  position: relative;\n",
       "}\n",
       "\n",
       "#sk-container-id-1 div.sk-parallel-item {\n",
       "  display: flex;\n",
       "  flex-direction: column;\n",
       "}\n",
       "\n",
       "#sk-container-id-1 div.sk-parallel-item:first-child::after {\n",
       "  align-self: flex-end;\n",
       "  width: 50%;\n",
       "}\n",
       "\n",
       "#sk-container-id-1 div.sk-parallel-item:last-child::after {\n",
       "  align-self: flex-start;\n",
       "  width: 50%;\n",
       "}\n",
       "\n",
       "#sk-container-id-1 div.sk-parallel-item:only-child::after {\n",
       "  width: 0;\n",
       "}\n",
       "\n",
       "/* Serial-specific style estimator block */\n",
       "\n",
       "#sk-container-id-1 div.sk-serial {\n",
       "  display: flex;\n",
       "  flex-direction: column;\n",
       "  align-items: center;\n",
       "  background-color: var(--sklearn-color-background);\n",
       "  padding-right: 1em;\n",
       "  padding-left: 1em;\n",
       "}\n",
       "\n",
       "\n",
       "/* Toggleable style: style used for estimator/Pipeline/ColumnTransformer box that is\n",
       "clickable and can be expanded/collapsed.\n",
       "- Pipeline and ColumnTransformer use this feature and define the default style\n",
       "- Estimators will overwrite some part of the style using the `sk-estimator` class\n",
       "*/\n",
       "\n",
       "/* Pipeline and ColumnTransformer style (default) */\n",
       "\n",
       "#sk-container-id-1 div.sk-toggleable {\n",
       "  /* Default theme specific background. It is overwritten whether we have a\n",
       "  specific estimator or a Pipeline/ColumnTransformer */\n",
       "  background-color: var(--sklearn-color-background);\n",
       "}\n",
       "\n",
       "/* Toggleable label */\n",
       "#sk-container-id-1 label.sk-toggleable__label {\n",
       "  cursor: pointer;\n",
       "  display: block;\n",
       "  width: 100%;\n",
       "  margin-bottom: 0;\n",
       "  padding: 0.5em;\n",
       "  box-sizing: border-box;\n",
       "  text-align: center;\n",
       "}\n",
       "\n",
       "#sk-container-id-1 label.sk-toggleable__label-arrow:before {\n",
       "  /* Arrow on the left of the label */\n",
       "  content: \"▸\";\n",
       "  float: left;\n",
       "  margin-right: 0.25em;\n",
       "  color: var(--sklearn-color-icon);\n",
       "}\n",
       "\n",
       "#sk-container-id-1 label.sk-toggleable__label-arrow:hover:before {\n",
       "  color: var(--sklearn-color-text);\n",
       "}\n",
       "\n",
       "/* Toggleable content - dropdown */\n",
       "\n",
       "#sk-container-id-1 div.sk-toggleable__content {\n",
       "  max-height: 0;\n",
       "  max-width: 0;\n",
       "  overflow: hidden;\n",
       "  text-align: left;\n",
       "  /* unfitted */\n",
       "  background-color: var(--sklearn-color-unfitted-level-0);\n",
       "}\n",
       "\n",
       "#sk-container-id-1 div.sk-toggleable__content.fitted {\n",
       "  /* fitted */\n",
       "  background-color: var(--sklearn-color-fitted-level-0);\n",
       "}\n",
       "\n",
       "#sk-container-id-1 div.sk-toggleable__content pre {\n",
       "  margin: 0.2em;\n",
       "  border-radius: 0.25em;\n",
       "  color: var(--sklearn-color-text);\n",
       "  /* unfitted */\n",
       "  background-color: var(--sklearn-color-unfitted-level-0);\n",
       "}\n",
       "\n",
       "#sk-container-id-1 div.sk-toggleable__content.fitted pre {\n",
       "  /* unfitted */\n",
       "  background-color: var(--sklearn-color-fitted-level-0);\n",
       "}\n",
       "\n",
       "#sk-container-id-1 input.sk-toggleable__control:checked~div.sk-toggleable__content {\n",
       "  /* Expand drop-down */\n",
       "  max-height: 200px;\n",
       "  max-width: 100%;\n",
       "  overflow: auto;\n",
       "}\n",
       "\n",
       "#sk-container-id-1 input.sk-toggleable__control:checked~label.sk-toggleable__label-arrow:before {\n",
       "  content: \"▾\";\n",
       "}\n",
       "\n",
       "/* Pipeline/ColumnTransformer-specific style */\n",
       "\n",
       "#sk-container-id-1 div.sk-label input.sk-toggleable__control:checked~label.sk-toggleable__label {\n",
       "  color: var(--sklearn-color-text);\n",
       "  background-color: var(--sklearn-color-unfitted-level-2);\n",
       "}\n",
       "\n",
       "#sk-container-id-1 div.sk-label.fitted input.sk-toggleable__control:checked~label.sk-toggleable__label {\n",
       "  background-color: var(--sklearn-color-fitted-level-2);\n",
       "}\n",
       "\n",
       "/* Estimator-specific style */\n",
       "\n",
       "/* Colorize estimator box */\n",
       "#sk-container-id-1 div.sk-estimator input.sk-toggleable__control:checked~label.sk-toggleable__label {\n",
       "  /* unfitted */\n",
       "  background-color: var(--sklearn-color-unfitted-level-2);\n",
       "}\n",
       "\n",
       "#sk-container-id-1 div.sk-estimator.fitted input.sk-toggleable__control:checked~label.sk-toggleable__label {\n",
       "  /* fitted */\n",
       "  background-color: var(--sklearn-color-fitted-level-2);\n",
       "}\n",
       "\n",
       "#sk-container-id-1 div.sk-label label.sk-toggleable__label,\n",
       "#sk-container-id-1 div.sk-label label {\n",
       "  /* The background is the default theme color */\n",
       "  color: var(--sklearn-color-text-on-default-background);\n",
       "}\n",
       "\n",
       "/* On hover, darken the color of the background */\n",
       "#sk-container-id-1 div.sk-label:hover label.sk-toggleable__label {\n",
       "  color: var(--sklearn-color-text);\n",
       "  background-color: var(--sklearn-color-unfitted-level-2);\n",
       "}\n",
       "\n",
       "/* Label box, darken color on hover, fitted */\n",
       "#sk-container-id-1 div.sk-label.fitted:hover label.sk-toggleable__label.fitted {\n",
       "  color: var(--sklearn-color-text);\n",
       "  background-color: var(--sklearn-color-fitted-level-2);\n",
       "}\n",
       "\n",
       "/* Estimator label */\n",
       "\n",
       "#sk-container-id-1 div.sk-label label {\n",
       "  font-family: monospace;\n",
       "  font-weight: bold;\n",
       "  display: inline-block;\n",
       "  line-height: 1.2em;\n",
       "}\n",
       "\n",
       "#sk-container-id-1 div.sk-label-container {\n",
       "  text-align: center;\n",
       "}\n",
       "\n",
       "/* Estimator-specific */\n",
       "#sk-container-id-1 div.sk-estimator {\n",
       "  font-family: monospace;\n",
       "  border: 1px dotted var(--sklearn-color-border-box);\n",
       "  border-radius: 0.25em;\n",
       "  box-sizing: border-box;\n",
       "  margin-bottom: 0.5em;\n",
       "  /* unfitted */\n",
       "  background-color: var(--sklearn-color-unfitted-level-0);\n",
       "}\n",
       "\n",
       "#sk-container-id-1 div.sk-estimator.fitted {\n",
       "  /* fitted */\n",
       "  background-color: var(--sklearn-color-fitted-level-0);\n",
       "}\n",
       "\n",
       "/* on hover */\n",
       "#sk-container-id-1 div.sk-estimator:hover {\n",
       "  /* unfitted */\n",
       "  background-color: var(--sklearn-color-unfitted-level-2);\n",
       "}\n",
       "\n",
       "#sk-container-id-1 div.sk-estimator.fitted:hover {\n",
       "  /* fitted */\n",
       "  background-color: var(--sklearn-color-fitted-level-2);\n",
       "}\n",
       "\n",
       "/* Specification for estimator info (e.g. \"i\" and \"?\") */\n",
       "\n",
       "/* Common style for \"i\" and \"?\" */\n",
       "\n",
       ".sk-estimator-doc-link,\n",
       "a:link.sk-estimator-doc-link,\n",
       "a:visited.sk-estimator-doc-link {\n",
       "  float: right;\n",
       "  font-size: smaller;\n",
       "  line-height: 1em;\n",
       "  font-family: monospace;\n",
       "  background-color: var(--sklearn-color-background);\n",
       "  border-radius: 1em;\n",
       "  height: 1em;\n",
       "  width: 1em;\n",
       "  text-decoration: none !important;\n",
       "  margin-left: 1ex;\n",
       "  /* unfitted */\n",
       "  border: var(--sklearn-color-unfitted-level-1) 1pt solid;\n",
       "  color: var(--sklearn-color-unfitted-level-1);\n",
       "}\n",
       "\n",
       ".sk-estimator-doc-link.fitted,\n",
       "a:link.sk-estimator-doc-link.fitted,\n",
       "a:visited.sk-estimator-doc-link.fitted {\n",
       "  /* fitted */\n",
       "  border: var(--sklearn-color-fitted-level-1) 1pt solid;\n",
       "  color: var(--sklearn-color-fitted-level-1);\n",
       "}\n",
       "\n",
       "/* On hover */\n",
       "div.sk-estimator:hover .sk-estimator-doc-link:hover,\n",
       ".sk-estimator-doc-link:hover,\n",
       "div.sk-label-container:hover .sk-estimator-doc-link:hover,\n",
       ".sk-estimator-doc-link:hover {\n",
       "  /* unfitted */\n",
       "  background-color: var(--sklearn-color-unfitted-level-3);\n",
       "  color: var(--sklearn-color-background);\n",
       "  text-decoration: none;\n",
       "}\n",
       "\n",
       "div.sk-estimator.fitted:hover .sk-estimator-doc-link.fitted:hover,\n",
       ".sk-estimator-doc-link.fitted:hover,\n",
       "div.sk-label-container:hover .sk-estimator-doc-link.fitted:hover,\n",
       ".sk-estimator-doc-link.fitted:hover {\n",
       "  /* fitted */\n",
       "  background-color: var(--sklearn-color-fitted-level-3);\n",
       "  color: var(--sklearn-color-background);\n",
       "  text-decoration: none;\n",
       "}\n",
       "\n",
       "/* Span, style for the box shown on hovering the info icon */\n",
       ".sk-estimator-doc-link span {\n",
       "  display: none;\n",
       "  z-index: 9999;\n",
       "  position: relative;\n",
       "  font-weight: normal;\n",
       "  right: .2ex;\n",
       "  padding: .5ex;\n",
       "  margin: .5ex;\n",
       "  width: min-content;\n",
       "  min-width: 20ex;\n",
       "  max-width: 50ex;\n",
       "  color: var(--sklearn-color-text);\n",
       "  box-shadow: 2pt 2pt 4pt #999;\n",
       "  /* unfitted */\n",
       "  background: var(--sklearn-color-unfitted-level-0);\n",
       "  border: .5pt solid var(--sklearn-color-unfitted-level-3);\n",
       "}\n",
       "\n",
       ".sk-estimator-doc-link.fitted span {\n",
       "  /* fitted */\n",
       "  background: var(--sklearn-color-fitted-level-0);\n",
       "  border: var(--sklearn-color-fitted-level-3);\n",
       "}\n",
       "\n",
       ".sk-estimator-doc-link:hover span {\n",
       "  display: block;\n",
       "}\n",
       "\n",
       "/* \"?\"-specific style due to the `<a>` HTML tag */\n",
       "\n",
       "#sk-container-id-1 a.estimator_doc_link {\n",
       "  float: right;\n",
       "  font-size: 1rem;\n",
       "  line-height: 1em;\n",
       "  font-family: monospace;\n",
       "  background-color: var(--sklearn-color-background);\n",
       "  border-radius: 1rem;\n",
       "  height: 1rem;\n",
       "  width: 1rem;\n",
       "  text-decoration: none;\n",
       "  /* unfitted */\n",
       "  color: var(--sklearn-color-unfitted-level-1);\n",
       "  border: var(--sklearn-color-unfitted-level-1) 1pt solid;\n",
       "}\n",
       "\n",
       "#sk-container-id-1 a.estimator_doc_link.fitted {\n",
       "  /* fitted */\n",
       "  border: var(--sklearn-color-fitted-level-1) 1pt solid;\n",
       "  color: var(--sklearn-color-fitted-level-1);\n",
       "}\n",
       "\n",
       "/* On hover */\n",
       "#sk-container-id-1 a.estimator_doc_link:hover {\n",
       "  /* unfitted */\n",
       "  background-color: var(--sklearn-color-unfitted-level-3);\n",
       "  color: var(--sklearn-color-background);\n",
       "  text-decoration: none;\n",
       "}\n",
       "\n",
       "#sk-container-id-1 a.estimator_doc_link.fitted:hover {\n",
       "  /* fitted */\n",
       "  background-color: var(--sklearn-color-fitted-level-3);\n",
       "}\n",
       "</style><div id=\"sk-container-id-1\" class=\"sk-top-container\"><div class=\"sk-text-repr-fallback\"><pre>StandardScaler()</pre><b>In a Jupyter environment, please rerun this cell to show the HTML representation or trust the notebook. <br />On GitHub, the HTML representation is unable to render, please try loading this page with nbviewer.org.</b></div><div class=\"sk-container\" hidden><div class=\"sk-item\"><div class=\"sk-estimator  sk-toggleable\"><input class=\"sk-toggleable__control sk-hidden--visually\" id=\"sk-estimator-id-1\" type=\"checkbox\" checked><label for=\"sk-estimator-id-1\" class=\"sk-toggleable__label  sk-toggleable__label-arrow \">&nbsp;&nbsp;StandardScaler<a class=\"sk-estimator-doc-link \" rel=\"noreferrer\" target=\"_blank\" href=\"https://scikit-learn.org/1.5/modules/generated/sklearn.preprocessing.StandardScaler.html\">?<span>Documentation for StandardScaler</span></a><span class=\"sk-estimator-doc-link \">i<span>Not fitted</span></span></label><div class=\"sk-toggleable__content \"><pre>StandardScaler()</pre></div> </div></div></div></div>"
      ],
      "text/plain": [
       "StandardScaler()"
      ]
     },
     "execution_count": 14,
     "metadata": {},
     "output_type": "execute_result"
    }
   ],
   "source": [
    "scaler = StandardScaler()\n",
    "scaler"
   ]
  },
  {
   "cell_type": "code",
   "execution_count": 15,
   "id": "d9a21d09-67c4-479d-b6ae-bf10384aca01",
   "metadata": {},
   "outputs": [
    {
     "data": {
      "text/plain": [
       "numpy.ndarray"
      ]
     },
     "execution_count": 15,
     "metadata": {},
     "output_type": "execute_result"
    }
   ],
   "source": [
    "numerical_df = scaler.fit_transform(numerical_df)\n",
    "type(numerical_df)"
   ]
  },
  {
   "cell_type": "code",
   "execution_count": 16,
   "id": "dc568bb3-d1f3-4029-998a-6af9601848ac",
   "metadata": {},
   "outputs": [
    {
     "data": {
      "text/plain": [
       "pandas.core.frame.DataFrame"
      ]
     },
     "execution_count": 16,
     "metadata": {},
     "output_type": "execute_result"
    }
   ],
   "source": [
    "numerical_df = pd.DataFrame(numerical_df, columns=scaler.get_feature_names_out())\n",
    "numerical_df['id'] = numerical_df.index\n",
    "type(numerical_df)"
   ]
  },
  {
   "cell_type": "code",
   "execution_count": 17,
   "id": "0fd578ad-325d-4011-8c75-cf9c1dee086c",
   "metadata": {},
   "outputs": [
    {
     "data": {
      "text/html": [
       "<div>\n",
       "<style scoped>\n",
       "    .dataframe tbody tr th:only-of-type {\n",
       "        vertical-align: middle;\n",
       "    }\n",
       "\n",
       "    .dataframe tbody tr th {\n",
       "        vertical-align: top;\n",
       "    }\n",
       "\n",
       "    .dataframe thead th {\n",
       "        text-align: right;\n",
       "    }\n",
       "</style>\n",
       "<table border=\"1\" class=\"dataframe\">\n",
       "  <thead>\n",
       "    <tr style=\"text-align: right;\">\n",
       "      <th></th>\n",
       "      <th>Age</th>\n",
       "      <th>Gender</th>\n",
       "      <th>EducationLevel</th>\n",
       "      <th>ExperienceYears</th>\n",
       "      <th>PreviousCompanies</th>\n",
       "      <th>DistanceFromCompany</th>\n",
       "      <th>InterviewScore</th>\n",
       "      <th>SkillScore</th>\n",
       "      <th>PersonalityScore</th>\n",
       "      <th>RecruitmentStrategy</th>\n",
       "      <th>id</th>\n",
       "    </tr>\n",
       "  </thead>\n",
       "  <tbody>\n",
       "    <tr>\n",
       "      <th>0</th>\n",
       "      <td>-0.989083</td>\n",
       "      <td>1.016130</td>\n",
       "      <td>-0.218057</td>\n",
       "      <td>-1.658237</td>\n",
       "      <td>-0.001418</td>\n",
       "      <td>0.087792</td>\n",
       "      <td>-0.089598</td>\n",
       "      <td>0.916174</td>\n",
       "      <td>1.418126</td>\n",
       "      <td>-1.295790</td>\n",
       "      <td>0</td>\n",
       "    </tr>\n",
       "    <tr>\n",
       "      <th>1</th>\n",
       "      <td>0.416376</td>\n",
       "      <td>1.016130</td>\n",
       "      <td>2.101694</td>\n",
       "      <td>0.928044</td>\n",
       "      <td>-0.001418</td>\n",
       "      <td>0.024537</td>\n",
       "      <td>-0.543879</td>\n",
       "      <td>0.575386</td>\n",
       "      <td>1.043255</td>\n",
       "      <td>0.154721</td>\n",
       "      <td>1</td>\n",
       "    </tr>\n",
       "    <tr>\n",
       "      <th>2</th>\n",
       "      <td>1.389387</td>\n",
       "      <td>-0.984126</td>\n",
       "      <td>-0.218057</td>\n",
       "      <td>-1.011667</td>\n",
       "      <td>-0.710538</td>\n",
       "      <td>-1.070200</td>\n",
       "      <td>-1.068049</td>\n",
       "      <td>0.541307</td>\n",
       "      <td>-1.240051</td>\n",
       "      <td>0.154721</td>\n",
       "      <td>2</td>\n",
       "    </tr>\n",
       "    <tr>\n",
       "      <th>3</th>\n",
       "      <td>-0.124185</td>\n",
       "      <td>1.016130</td>\n",
       "      <td>-0.218057</td>\n",
       "      <td>-0.580620</td>\n",
       "      <td>-0.710538</td>\n",
       "      <td>-1.311444</td>\n",
       "      <td>-0.508934</td>\n",
       "      <td>-0.821844</td>\n",
       "      <td>0.702463</td>\n",
       "      <td>1.605233</td>\n",
       "      <td>3</td>\n",
       "    </tr>\n",
       "    <tr>\n",
       "      <th>4</th>\n",
       "      <td>-0.556634</td>\n",
       "      <td>-0.984126</td>\n",
       "      <td>-1.377932</td>\n",
       "      <td>-0.365097</td>\n",
       "      <td>-1.419657</td>\n",
       "      <td>1.208598</td>\n",
       "      <td>-0.963215</td>\n",
       "      <td>0.030126</td>\n",
       "      <td>1.213651</td>\n",
       "      <td>0.154721</td>\n",
       "      <td>4</td>\n",
       "    </tr>\n",
       "  </tbody>\n",
       "</table>\n",
       "</div>"
      ],
      "text/plain": [
       "        Age    Gender  EducationLevel  ExperienceYears  PreviousCompanies  \\\n",
       "0 -0.989083  1.016130       -0.218057        -1.658237          -0.001418   \n",
       "1  0.416376  1.016130        2.101694         0.928044          -0.001418   \n",
       "2  1.389387 -0.984126       -0.218057        -1.011667          -0.710538   \n",
       "3 -0.124185  1.016130       -0.218057        -0.580620          -0.710538   \n",
       "4 -0.556634 -0.984126       -1.377932        -0.365097          -1.419657   \n",
       "\n",
       "   DistanceFromCompany  InterviewScore  SkillScore  PersonalityScore  \\\n",
       "0             0.087792       -0.089598    0.916174          1.418126   \n",
       "1             0.024537       -0.543879    0.575386          1.043255   \n",
       "2            -1.070200       -1.068049    0.541307         -1.240051   \n",
       "3            -1.311444       -0.508934   -0.821844          0.702463   \n",
       "4             1.208598       -0.963215    0.030126          1.213651   \n",
       "\n",
       "   RecruitmentStrategy  id  \n",
       "0            -1.295790   0  \n",
       "1             0.154721   1  \n",
       "2             0.154721   2  \n",
       "3             1.605233   3  \n",
       "4             0.154721   4  "
      ]
     },
     "execution_count": 17,
     "metadata": {},
     "output_type": "execute_result"
    }
   ],
   "source": [
    "numerical_df.head()"
   ]
  },
  {
   "cell_type": "code",
   "execution_count": 18,
   "id": "58df4e42-42e3-4cbb-bd4e-b65a96910946",
   "metadata": {},
   "outputs": [
    {
     "name": "stdout",
     "output_type": "stream",
     "text": [
      "Means after scaling:\n",
      " Age                      0.0\n",
      "Gender                   0.0\n",
      "EducationLevel          -0.0\n",
      "ExperienceYears          0.0\n",
      "PreviousCompanies        0.0\n",
      "DistanceFromCompany     -0.0\n",
      "InterviewScore          -0.0\n",
      "SkillScore               0.0\n",
      "PersonalityScore         0.0\n",
      "RecruitmentStrategy      0.0\n",
      "id                     749.5\n",
      "dtype: float64\n",
      "Standard deviations after scaling:\n",
      " Age                      1.00033\n",
      "Gender                   1.00033\n",
      "EducationLevel           1.00033\n",
      "ExperienceYears          1.00033\n",
      "PreviousCompanies        1.00033\n",
      "DistanceFromCompany      1.00033\n",
      "InterviewScore           1.00033\n",
      "SkillScore               1.00033\n",
      "PersonalityScore         1.00033\n",
      "RecruitmentStrategy      1.00033\n",
      "id                     433.15702\n",
      "dtype: float64\n"
     ]
    }
   ],
   "source": [
    "print(\"Means after scaling:\\n\", numerical_df.mean().round(5))\n",
    "print(\"Standard deviations after scaling:\\n\", numerical_df.std().round(5))"
   ]
  },
  {
   "cell_type": "code",
   "execution_count": 19,
   "id": "53353182-ae52-4213-a3c6-61be984e52df",
   "metadata": {},
   "outputs": [
    {
     "data": {
      "text/plain": [
       "(1500, 11)"
      ]
     },
     "execution_count": 19,
     "metadata": {},
     "output_type": "execute_result"
    }
   ],
   "source": [
    "numerical_df.shape"
   ]
  },
  {
   "cell_type": "code",
   "execution_count": 20,
   "id": "4fa6c01f-a17d-4954-b31d-9b13b6e1a205",
   "metadata": {},
   "outputs": [
    {
     "data": {
      "text/plain": [
       "(1500, 12)"
      ]
     },
     "execution_count": 20,
     "metadata": {},
     "output_type": "execute_result"
    }
   ],
   "source": [
    "df = df.join(numerical_df, how='inner')\n",
    "df.shape"
   ]
  },
  {
   "cell_type": "code",
   "execution_count": 21,
   "id": "7fa1bfd3-9dae-4206-a265-83a780971aee",
   "metadata": {},
   "outputs": [
    {
     "data": {
      "text/plain": [
       "Index(['HiringDecision', 'Age', 'Gender', 'EducationLevel', 'ExperienceYears',\n",
       "       'PreviousCompanies', 'DistanceFromCompany', 'InterviewScore',\n",
       "       'SkillScore', 'PersonalityScore', 'RecruitmentStrategy', 'id'],\n",
       "      dtype='object')"
      ]
     },
     "execution_count": 21,
     "metadata": {},
     "output_type": "execute_result"
    }
   ],
   "source": [
    "df.columns"
   ]
  },
  {
   "cell_type": "markdown",
   "id": "72f96c25-18a0-44b9-8b02-8c11f02ab4fd",
   "metadata": {},
   "source": [
    "## Unsupervised Learning"
   ]
  },
  {
   "cell_type": "code",
   "execution_count": 23,
   "id": "38cce37c-0809-4a64-ae62-fa2be15beec5",
   "metadata": {},
   "outputs": [],
   "source": [
    "X = df.drop(columns=['id', 'HiringDecision'], errors='ignore')"
   ]
  },
  {
   "cell_type": "code",
   "execution_count": 24,
   "id": "b1404e97-cd8f-47a3-9185-3800007b6fdb",
   "metadata": {},
   "outputs": [
    {
     "data": {
      "text/html": [
       "<div>\n",
       "<style scoped>\n",
       "    .dataframe tbody tr th:only-of-type {\n",
       "        vertical-align: middle;\n",
       "    }\n",
       "\n",
       "    .dataframe tbody tr th {\n",
       "        vertical-align: top;\n",
       "    }\n",
       "\n",
       "    .dataframe thead th {\n",
       "        text-align: right;\n",
       "    }\n",
       "</style>\n",
       "<table border=\"1\" class=\"dataframe\">\n",
       "  <thead>\n",
       "    <tr style=\"text-align: right;\">\n",
       "      <th></th>\n",
       "      <th>Age</th>\n",
       "      <th>Gender</th>\n",
       "      <th>EducationLevel</th>\n",
       "      <th>ExperienceYears</th>\n",
       "      <th>PreviousCompanies</th>\n",
       "      <th>DistanceFromCompany</th>\n",
       "      <th>InterviewScore</th>\n",
       "      <th>SkillScore</th>\n",
       "      <th>PersonalityScore</th>\n",
       "      <th>RecruitmentStrategy</th>\n",
       "    </tr>\n",
       "  </thead>\n",
       "  <tbody>\n",
       "    <tr>\n",
       "      <th>0</th>\n",
       "      <td>-0.989083</td>\n",
       "      <td>1.016130</td>\n",
       "      <td>-0.218057</td>\n",
       "      <td>-1.658237</td>\n",
       "      <td>-0.001418</td>\n",
       "      <td>0.087792</td>\n",
       "      <td>-0.089598</td>\n",
       "      <td>0.916174</td>\n",
       "      <td>1.418126</td>\n",
       "      <td>-1.295790</td>\n",
       "    </tr>\n",
       "    <tr>\n",
       "      <th>1</th>\n",
       "      <td>0.416376</td>\n",
       "      <td>1.016130</td>\n",
       "      <td>2.101694</td>\n",
       "      <td>0.928044</td>\n",
       "      <td>-0.001418</td>\n",
       "      <td>0.024537</td>\n",
       "      <td>-0.543879</td>\n",
       "      <td>0.575386</td>\n",
       "      <td>1.043255</td>\n",
       "      <td>0.154721</td>\n",
       "    </tr>\n",
       "    <tr>\n",
       "      <th>2</th>\n",
       "      <td>1.389387</td>\n",
       "      <td>-0.984126</td>\n",
       "      <td>-0.218057</td>\n",
       "      <td>-1.011667</td>\n",
       "      <td>-0.710538</td>\n",
       "      <td>-1.070200</td>\n",
       "      <td>-1.068049</td>\n",
       "      <td>0.541307</td>\n",
       "      <td>-1.240051</td>\n",
       "      <td>0.154721</td>\n",
       "    </tr>\n",
       "    <tr>\n",
       "      <th>3</th>\n",
       "      <td>-0.124185</td>\n",
       "      <td>1.016130</td>\n",
       "      <td>-0.218057</td>\n",
       "      <td>-0.580620</td>\n",
       "      <td>-0.710538</td>\n",
       "      <td>-1.311444</td>\n",
       "      <td>-0.508934</td>\n",
       "      <td>-0.821844</td>\n",
       "      <td>0.702463</td>\n",
       "      <td>1.605233</td>\n",
       "    </tr>\n",
       "    <tr>\n",
       "      <th>4</th>\n",
       "      <td>-0.556634</td>\n",
       "      <td>-0.984126</td>\n",
       "      <td>-1.377932</td>\n",
       "      <td>-0.365097</td>\n",
       "      <td>-1.419657</td>\n",
       "      <td>1.208598</td>\n",
       "      <td>-0.963215</td>\n",
       "      <td>0.030126</td>\n",
       "      <td>1.213651</td>\n",
       "      <td>0.154721</td>\n",
       "    </tr>\n",
       "  </tbody>\n",
       "</table>\n",
       "</div>"
      ],
      "text/plain": [
       "        Age    Gender  EducationLevel  ExperienceYears  PreviousCompanies  \\\n",
       "0 -0.989083  1.016130       -0.218057        -1.658237          -0.001418   \n",
       "1  0.416376  1.016130        2.101694         0.928044          -0.001418   \n",
       "2  1.389387 -0.984126       -0.218057        -1.011667          -0.710538   \n",
       "3 -0.124185  1.016130       -0.218057        -0.580620          -0.710538   \n",
       "4 -0.556634 -0.984126       -1.377932        -0.365097          -1.419657   \n",
       "\n",
       "   DistanceFromCompany  InterviewScore  SkillScore  PersonalityScore  \\\n",
       "0             0.087792       -0.089598    0.916174          1.418126   \n",
       "1             0.024537       -0.543879    0.575386          1.043255   \n",
       "2            -1.070200       -1.068049    0.541307         -1.240051   \n",
       "3            -1.311444       -0.508934   -0.821844          0.702463   \n",
       "4             1.208598       -0.963215    0.030126          1.213651   \n",
       "\n",
       "   RecruitmentStrategy  \n",
       "0            -1.295790  \n",
       "1             0.154721  \n",
       "2             0.154721  \n",
       "3             1.605233  \n",
       "4             0.154721  "
      ]
     },
     "execution_count": 24,
     "metadata": {},
     "output_type": "execute_result"
    }
   ],
   "source": [
    "X.head()"
   ]
  },
  {
   "cell_type": "code",
   "execution_count": 25,
   "id": "8211acdd-52be-4757-8753-8f920fb79f65",
   "metadata": {},
   "outputs": [],
   "source": [
    "''' Train-Test Split '''\n",
    "X_train, X_test = train_test_split(X, test_size=0.2, random_state=42)"
   ]
  },
  {
   "cell_type": "code",
   "execution_count": 26,
   "id": "34c99e36-c9ba-4176-bb5b-e9a7d484644c",
   "metadata": {},
   "outputs": [],
   "source": [
    "X_train_index = X_train.index\n",
    "X_test_index = X_test.index"
   ]
  },
  {
   "cell_type": "code",
   "execution_count": 27,
   "id": "03a74d65-7e72-450d-a63c-bf6b1b3eba34",
   "metadata": {},
   "outputs": [
    {
     "data": {
      "text/plain": [
       "(pandas.core.frame.DataFrame, pandas.core.frame.DataFrame)"
      ]
     },
     "execution_count": 27,
     "metadata": {},
     "output_type": "execute_result"
    }
   ],
   "source": [
    "type(X_train), type(X_test)"
   ]
  },
  {
   "cell_type": "code",
   "execution_count": 28,
   "id": "cba62b4f-00fe-4a17-bc44-82499fc33c8d",
   "metadata": {},
   "outputs": [
    {
     "data": {
      "text/plain": [
       "(1200, 300)"
      ]
     },
     "execution_count": 28,
     "metadata": {},
     "output_type": "execute_result"
    }
   ],
   "source": [
    "len(X_train), len(X_test)"
   ]
  },
  {
   "cell_type": "code",
   "execution_count": 29,
   "id": "7e05fbb6-1ca9-46f1-a865-7a8901592781",
   "metadata": {},
   "outputs": [],
   "source": [
    "''' Convert to Tensors '''\n",
    "X_train_tensor = torch.tensor(X_train.values, dtype=torch.float32)\n",
    "X_test_tensor = torch.tensor(X_test.values, dtype=torch.float32)"
   ]
  },
  {
   "cell_type": "code",
   "execution_count": 30,
   "id": "d0b7a1d4-f836-4c3a-a220-9f89378b397e",
   "metadata": {},
   "outputs": [
    {
     "data": {
      "text/plain": [
       "(torch.Tensor, torch.Tensor)"
      ]
     },
     "execution_count": 30,
     "metadata": {},
     "output_type": "execute_result"
    }
   ],
   "source": [
    "type(X_train_tensor), type(X_test_tensor)"
   ]
  },
  {
   "cell_type": "code",
   "execution_count": 31,
   "id": "9cd79789-b962-4e27-b1f6-d4210101a94d",
   "metadata": {},
   "outputs": [],
   "source": [
    "# ''' Employer Preferences '''\n",
    "# employer_pref = X.mean().values.reshape(1,-1)\n",
    "# employer_tensor = torch.tensor(employer_pref, dtype=torch.float32)"
   ]
  },
  {
   "cell_type": "code",
   "execution_count": 32,
   "id": "087ff891-ab3b-4b66-8208-987dbedc8cfa",
   "metadata": {},
   "outputs": [],
   "source": [
    "# type(employer_tensor)"
   ]
  },
  {
   "cell_type": "code",
   "execution_count": 33,
   "id": "40c7b4f3-b299-4f94-8a53-dcb7e2e0dcf1",
   "metadata": {},
   "outputs": [],
   "source": [
    "## Neural Network Model\n",
    "class CandidateRecommender(nn.Module):\n",
    "    def __init__(self, input_dim):\n",
    "        super(CandidateRecommender, self).__init__()\n",
    "        self.fc1 = nn.Linear(input_dim, 16)\n",
    "        self.fc2 = nn.Linear(16, 8)\n",
    "        self.fc3 = nn.Linear(8, 1)\n",
    "        self.relu = nn.ReLU()\n",
    "\n",
    "    def forward(self, x):\n",
    "        x = self.relu(self.fc1(x))\n",
    "        x = self.relu(self.fc2(x))\n",
    "        return self.fc3(x)"
   ]
  },
  {
   "cell_type": "code",
   "execution_count": 34,
   "id": "debe392e-cf65-4713-9260-718b73719be1",
   "metadata": {},
   "outputs": [
    {
     "data": {
      "text/plain": [
       "CandidateRecommender(\n",
       "  (fc1): Linear(in_features=10, out_features=16, bias=True)\n",
       "  (fc2): Linear(in_features=16, out_features=8, bias=True)\n",
       "  (fc3): Linear(in_features=8, out_features=1, bias=True)\n",
       "  (relu): ReLU()\n",
       ")"
      ]
     },
     "execution_count": 34,
     "metadata": {},
     "output_type": "execute_result"
    }
   ],
   "source": [
    "## Initializing the model\n",
    "input_dim = X_train.shape[1]\n",
    "model_0 = CandidateRecommender(input_dim)\n",
    "model_0"
   ]
  },
  {
   "cell_type": "code",
   "execution_count": 35,
   "id": "7f2783c9-0c33-4965-a486-770ae235ae05",
   "metadata": {},
   "outputs": [],
   "source": [
    "''' Important Parameters '''\n",
    "learning_rate = 0.01\n",
    "epochs = 20"
   ]
  },
  {
   "cell_type": "code",
   "execution_count": 36,
   "id": "89ad9f0e-a97e-46ce-91d6-e87750a3610f",
   "metadata": {},
   "outputs": [],
   "source": [
    "''' Loss Function and Optimizer '''\n",
    "loss_function = nn.MSELoss()\n",
    "optimizer = torch.optim.Adam(model_0.parameters(), lr=learning_rate)"
   ]
  },
  {
   "cell_type": "code",
   "execution_count": 37,
   "id": "9d27abc2-097c-4ed9-8083-59a66511c5ce",
   "metadata": {},
   "outputs": [
    {
     "name": "stdout",
     "output_type": "stream",
     "text": [
      "Epoch 0, Loss: 1.8270\n",
      "Epoch 1, Loss: 1.6336\n",
      "Epoch 2, Loss: 1.4647\n",
      "Epoch 3, Loss: 1.3119\n",
      "Epoch 4, Loss: 1.1709\n",
      "Epoch 5, Loss: 1.0364\n",
      "Epoch 6, Loss: 0.9047\n",
      "Epoch 7, Loss: 0.7753\n",
      "Epoch 8, Loss: 0.6495\n",
      "Epoch 9, Loss: 0.5302\n",
      "Epoch 10, Loss: 0.4203\n",
      "Epoch 11, Loss: 0.3238\n",
      "Epoch 12, Loss: 0.2449\n",
      "Epoch 13, Loss: 0.1876\n",
      "Epoch 14, Loss: 0.1544\n",
      "Epoch 15, Loss: 0.1444\n",
      "Epoch 16, Loss: 0.1525\n",
      "Epoch 17, Loss: 0.1688\n",
      "Epoch 18, Loss: 0.1824\n",
      "Epoch 19, Loss: 0.1856\n"
     ]
    }
   ],
   "source": [
    "for epoch in range(epochs):\n",
    "    predictions = model_0(X_train_tensor)\n",
    "    loss = loss_function(predictions, torch.ones_like(predictions))\n",
    "    optimizer.zero_grad()\n",
    "    loss.backward()\n",
    "    optimizer.step()\n",
    "    \n",
    "    print(f\"Epoch {epoch}, Loss: {loss.item():.4f}\")"
   ]
  },
  {
   "cell_type": "code",
   "execution_count": 38,
   "id": "8d684900-354e-4536-8786-b3d4fc7f6361",
   "metadata": {},
   "outputs": [
    {
     "name": "stdout",
     "output_type": "stream",
     "text": [
      "        id     score\n",
      "136    908  2.245500\n",
      "139    966  2.222336\n",
      "194   1300  2.182938\n",
      "704    264  2.179249\n",
      "620   1450  2.111028\n",
      "...    ...       ...\n",
      "199   1048  0.405856\n",
      "1051    95  0.399914\n",
      "754    498  0.369437\n",
      "778    356  0.353943\n",
      "768   1407  0.264538\n",
      "\n",
      "[1200 rows x 2 columns]\n"
     ]
    }
   ],
   "source": [
    "with torch.no_grad():\n",
    "    scores = model_0(X_train_tensor).flatten()\n",
    "\n",
    "    ranking_df = pd.DataFrame({\n",
    "        'id': X_train_index,  # Ensure IDs are stored correctly\n",
    "        'score': scores.numpy()\n",
    "    })\n",
    "\n",
    "    # Sort candidates based on score\n",
    "    ranked_candidates = ranking_df.sort_values(by='score', ascending=False)\n",
    "\n",
    "    print(ranked_candidates[['id', 'score']])"
   ]
  },
  {
   "cell_type": "markdown",
   "id": "265c08cd-60b2-42aa-ba2d-a2567911ab95",
   "metadata": {},
   "source": [
    "## Test it on Employer's Preferences "
   ]
  },
  {
   "cell_type": "code",
   "execution_count": 40,
   "id": "b59a2745-b159-4c7b-9214-d487289fa026",
   "metadata": {},
   "outputs": [
    {
     "name": "stderr",
     "output_type": "stream",
     "text": [
      "C:\\ProgramData\\anaconda3\\Lib\\site-packages\\sklearn\\base.py:493: UserWarning: X does not have valid feature names, but StandardScaler was fitted with feature names\n",
      "  warnings.warn(\n"
     ]
    }
   ],
   "source": [
    "recruiter_pref = np.array([[30, 1, 3, 5, 2, 10, 85, 80, 75, 2]])\n",
    "recruiter_pref_scaled = scaler.transform(recruiter_pref)\n",
    "\n",
    "# Convert to PyTorch tensor\n",
    "recruiter_tensor = torch.tensor(recruiter_pref_scaled, dtype=torch.float32)"
   ]
  },
  {
   "cell_type": "code",
   "execution_count": 41,
   "id": "93ed0066-1977-42bf-b50d-2219f909f66d",
   "metadata": {},
   "outputs": [
    {
     "data": {
      "text/plain": [
       "torch.Tensor"
      ]
     },
     "execution_count": 41,
     "metadata": {},
     "output_type": "execute_result"
    }
   ],
   "source": [
    "type(recruiter_tensor)"
   ]
  },
  {
   "cell_type": "code",
   "execution_count": 42,
   "id": "0bf1ce0c-8806-4bfd-8898-8225d33cde89",
   "metadata": {},
   "outputs": [
    {
     "name": "stdout",
     "output_type": "stream",
     "text": [
      "       id     score\n",
      "279  1357  0.874193\n",
      "80   1034  0.760995\n",
      "103  1084  0.759664\n",
      "268  1074  0.674816\n",
      "282  1232  0.629582\n",
      "<class 'pandas.core.frame.DataFrame'>\n"
     ]
    }
   ],
   "source": [
    "with torch.no_grad():\n",
    "    scores = F.cosine_similarity(recruiter_tensor, X_test_tensor)\n",
    "\n",
    "    ranking_df = pd.DataFrame({\n",
    "        'id':X_test_index,\n",
    "        'score':scores\n",
    "    })\n",
    "\n",
    "    ranked_candidates = ranking_df.sort_values(by='score', ascending=False)\n",
    "\n",
    "    print(ranked_candidates[['id','score']].head())\n",
    "    print(type(ranked_candidates))"
   ]
  }
 ],
 "metadata": {
  "kernelspec": {
   "display_name": "Python 3 (ipykernel)",
   "language": "python",
   "name": "python3"
  },
  "language_info": {
   "codemirror_mode": {
    "name": "ipython",
    "version": 3
   },
   "file_extension": ".py",
   "mimetype": "text/x-python",
   "name": "python",
   "nbconvert_exporter": "python",
   "pygments_lexer": "ipython3",
   "version": "3.12.7"
  }
 },
 "nbformat": 4,
 "nbformat_minor": 5
}
