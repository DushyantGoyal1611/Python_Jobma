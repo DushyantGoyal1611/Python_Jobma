{
 "cells": [
  {
   "cell_type": "code",
   "execution_count": 65,
   "id": "e21c7269-4f78-495f-811f-3cd4e9a52e60",
   "metadata": {},
   "outputs": [],
   "source": [
    "import torch\n",
    "import numpy as np"
   ]
  },
  {
   "cell_type": "code",
   "execution_count": 2,
   "id": "326c7652-25d3-4a8e-8a81-633893d2ae35",
   "metadata": {},
   "outputs": [
    {
     "name": "stdout",
     "output_type": "stream",
     "text": [
      "2.6.0+cpu\n"
     ]
    }
   ],
   "source": [
    "print(torch.__version__)"
   ]
  },
  {
   "cell_type": "markdown",
   "id": "62f8f3a6-5ca2-4f75-8097-8b1d2c65a7c4",
   "metadata": {},
   "source": [
    "<font size=\"4\" color='yellow'>To check if GPU is available</font>"
   ]
  },
  {
   "cell_type": "code",
   "execution_count": 4,
   "id": "0a753244-bdea-4c57-a2a1-c53bb87fd102",
   "metadata": {},
   "outputs": [
    {
     "name": "stdout",
     "output_type": "stream",
     "text": [
      "GPU is Not Available. Using CPU\n"
     ]
    }
   ],
   "source": [
    "if torch.cuda.is_available():\n",
    "    print('GPU is Available')\n",
    "    print(torch.cuda.get_device_name(0))\n",
    "else:\n",
    "    print('GPU is Not Available. Using CPU')"
   ]
  },
  {
   "cell_type": "markdown",
   "id": "8d5f768a-9c7b-40b5-9697-65e92d2d9f8d",
   "metadata": {},
   "source": [
    "<font size=\"4\" color='yellow'>Ways to Create Tensors</font>"
   ]
  },
  {
   "cell_type": "code",
   "execution_count": 5,
   "id": "7928c2dd-8963-47ae-9c5f-3da1a0a7d0bb",
   "metadata": {},
   "outputs": [],
   "source": [
    "a = torch.empty(2,3)"
   ]
  },
  {
   "cell_type": "code",
   "execution_count": 6,
   "id": "2960a1b4-1530-4fa1-adbd-7f19bb90f913",
   "metadata": {},
   "outputs": [
    {
     "name": "stdout",
     "output_type": "stream",
     "text": [
      "tensor([[0., 0., 0.],\n",
      "        [0., 0., 0.]])\n",
      "<class 'torch.Tensor'>\n"
     ]
    }
   ],
   "source": [
    "print(a)\n",
    "print(type(a))"
   ]
  },
  {
   "cell_type": "code",
   "execution_count": 8,
   "id": "434af783-cb6f-41ee-84c4-2ae17631ecfb",
   "metadata": {},
   "outputs": [
    {
     "data": {
      "text/plain": [
       "tensor([[0., 0., 0.],\n",
       "        [0., 0., 0.]])"
      ]
     },
     "execution_count": 8,
     "metadata": {},
     "output_type": "execute_result"
    }
   ],
   "source": [
    "torch.zeros(2,3)"
   ]
  },
  {
   "cell_type": "code",
   "execution_count": 9,
   "id": "416c0463-877e-46d0-b730-f25dc2818397",
   "metadata": {},
   "outputs": [
    {
     "data": {
      "text/plain": [
       "tensor([[1., 1., 1.],\n",
       "        [1., 1., 1.]])"
      ]
     },
     "execution_count": 9,
     "metadata": {},
     "output_type": "execute_result"
    }
   ],
   "source": [
    "torch.ones(2,3)"
   ]
  },
  {
   "cell_type": "code",
   "execution_count": 10,
   "id": "68e7eaa5-9fa5-4fe1-8f0d-662547017f81",
   "metadata": {},
   "outputs": [
    {
     "data": {
      "text/plain": [
       "tensor([[0.4153, 0.5729, 0.5572],\n",
       "        [0.2511, 0.0930, 0.4488]])"
      ]
     },
     "execution_count": 10,
     "metadata": {},
     "output_type": "execute_result"
    }
   ],
   "source": [
    "torch.rand(2,3)"
   ]
  },
  {
   "cell_type": "code",
   "execution_count": 11,
   "id": "3df8eff6-c040-4916-b080-982dff64fba6",
   "metadata": {},
   "outputs": [
    {
     "data": {
      "text/plain": [
       "tensor([[0.5645, 0.0301, 0.2451],\n",
       "        [0.3472, 0.5647, 0.6621]])"
      ]
     },
     "execution_count": 11,
     "metadata": {},
     "output_type": "execute_result"
    }
   ],
   "source": [
    "torch.rand(2,3)"
   ]
  },
  {
   "cell_type": "code",
   "execution_count": 12,
   "id": "790f48a2-05db-4b7e-b62d-fcfe43bf3448",
   "metadata": {},
   "outputs": [
    {
     "data": {
      "text/plain": [
       "tensor([[0.1117, 0.8158, 0.2626],\n",
       "        [0.4839, 0.6765, 0.7539]])"
      ]
     },
     "execution_count": 12,
     "metadata": {},
     "output_type": "execute_result"
    }
   ],
   "source": [
    "torch.manual_seed(100)\n",
    "torch.rand(2,3)"
   ]
  },
  {
   "cell_type": "code",
   "execution_count": 14,
   "id": "06176dff-c761-4ecf-979a-db850b3c200c",
   "metadata": {},
   "outputs": [
    {
     "data": {
      "text/plain": [
       "tensor([[0.1117, 0.8158, 0.2626],\n",
       "        [0.4839, 0.6765, 0.7539]])"
      ]
     },
     "execution_count": 14,
     "metadata": {},
     "output_type": "execute_result"
    }
   ],
   "source": [
    "torch.manual_seed(100)\n",
    "torch.rand(2,3)"
   ]
  },
  {
   "cell_type": "code",
   "execution_count": 27,
   "id": "ceb127ea-2a43-47df-a24d-a1e89b79c1fb",
   "metadata": {},
   "outputs": [
    {
     "name": "stdout",
     "output_type": "stream",
     "text": [
      "tensor([[1, 2, 3],\n",
      "        [4, 5, 6]])\n",
      "<class 'torch.Tensor'>\n",
      "torch.Size([2, 3])\n"
     ]
    }
   ],
   "source": [
    "# Manually Created Tensors\n",
    "a = torch.tensor([[1,2,3],[4,5,6]])\n",
    "print(a)\n",
    "print(type(a))\n",
    "print(a.shape)"
   ]
  },
  {
   "cell_type": "code",
   "execution_count": 51,
   "id": "634b9b6a-82bd-408a-8efe-6dc894563eea",
   "metadata": {},
   "outputs": [
    {
     "data": {
      "text/plain": [
       "tensor([1., 2., 3., 4., 5., 6.])"
      ]
     },
     "execution_count": 51,
     "metadata": {},
     "output_type": "execute_result"
    }
   ],
   "source": [
    "a.flatten()"
   ]
  },
  {
   "cell_type": "code",
   "execution_count": 25,
   "id": "42f0afe0-9e8e-405f-a03e-137c455eb109",
   "metadata": {},
   "outputs": [
    {
     "name": "stdout",
     "output_type": "stream",
     "text": [
      "Using arange: tensor([1, 2, 3, 4, 5, 6, 7, 8, 9])\n",
      "Using linspace: tensor([ 0.0000,  1.4286,  2.8571,  4.2857,  5.7143,  7.1429,  8.5714, 10.0000])\n",
      "Using eye: tensor([[1., 0., 0., 0., 0.],\n",
      "        [0., 1., 0., 0., 0.],\n",
      "        [0., 0., 1., 0., 0.],\n",
      "        [0., 0., 0., 1., 0.],\n",
      "        [0., 0., 0., 0., 1.]])\n",
      "Using full: tensor([[5, 5, 5],\n",
      "        [5, 5, 5],\n",
      "        [5, 5, 5]])\n"
     ]
    }
   ],
   "source": [
    "# Other tensor creating methods\n",
    "\n",
    "# arange\n",
    "print(f'Using arange: {torch.arange(1,10)}')\n",
    "\n",
    "# linspace(linear space)\n",
    "print(f'Using linspace: {torch.linspace(0,10,8)}')\n",
    "\n",
    "# eye (Identity Matrix)\n",
    "print(f'Using eye: {torch.eye(5)}')\n",
    "\n",
    "# full\n",
    "print(f'Using full: {torch.full((3,3),5)}')"
   ]
  },
  {
   "cell_type": "code",
   "execution_count": 28,
   "id": "6da7f75f-00cd-499f-a77b-82152dff10d2",
   "metadata": {},
   "outputs": [
    {
     "data": {
      "text/plain": [
       "tensor([[0, 0, 0],\n",
       "        [0, 0, 0]])"
      ]
     },
     "execution_count": 28,
     "metadata": {},
     "output_type": "execute_result"
    }
   ],
   "source": [
    "# if we want to create tensor of same size as given, we'll use _like\n",
    "torch.empty_like(a)"
   ]
  },
  {
   "cell_type": "code",
   "execution_count": 30,
   "id": "f173e3e1-3dbf-4507-845b-1e41b5b4e639",
   "metadata": {},
   "outputs": [
    {
     "data": {
      "text/plain": [
       "torch.int64"
      ]
     },
     "execution_count": 30,
     "metadata": {},
     "output_type": "execute_result"
    }
   ],
   "source": [
    "a.dtype"
   ]
  },
  {
   "cell_type": "code",
   "execution_count": 38,
   "id": "a342dde0-a8c3-4c08-8350-81c73f4158b6",
   "metadata": {},
   "outputs": [],
   "source": [
    "# change data type\n",
    "a = a.to(torch.float32)"
   ]
  },
  {
   "cell_type": "code",
   "execution_count": 39,
   "id": "e664a916-ae08-46a7-a3b9-b0f71ac9c60b",
   "metadata": {},
   "outputs": [
    {
     "data": {
      "text/plain": [
       "torch.float32"
      ]
     },
     "execution_count": 39,
     "metadata": {},
     "output_type": "execute_result"
    }
   ],
   "source": [
    "a.dtype"
   ]
  },
  {
   "cell_type": "markdown",
   "id": "232e82c6-253b-464c-ac19-2fe2d2d84668",
   "metadata": {},
   "source": [
    "<font size=\"4\" color='yellow'>Copying a Tensor</font>"
   ]
  },
  {
   "cell_type": "code",
   "execution_count": 42,
   "id": "f94e8351-ef27-4a73-9a51-e355901adf7c",
   "metadata": {},
   "outputs": [
    {
     "data": {
      "text/plain": [
       "tensor([[1, 2, 3],\n",
       "        [4, 5, 6]])"
      ]
     },
     "execution_count": 42,
     "metadata": {},
     "output_type": "execute_result"
    }
   ],
   "source": [
    "arr1 = torch.tensor([[1,2,3],[4,5,6]])\n",
    "arr1"
   ]
  },
  {
   "cell_type": "code",
   "execution_count": 43,
   "id": "672fa59c-82f1-4544-a776-d38762f266d3",
   "metadata": {},
   "outputs": [
    {
     "data": {
      "text/plain": [
       "tensor([[1, 2, 3],\n",
       "        [4, 5, 6]])"
      ]
     },
     "execution_count": 43,
     "metadata": {},
     "output_type": "execute_result"
    }
   ],
   "source": [
    "# using clone() we can create a copy of a tensor\n",
    "arr2 = arr1.clone()\n",
    "arr2"
   ]
  },
  {
   "cell_type": "code",
   "execution_count": 46,
   "id": "285aabfa-c8ed-4aed-b62e-b34072f9aa34",
   "metadata": {},
   "outputs": [
    {
     "data": {
      "text/plain": [
       "tensor([[0, 2, 3],\n",
       "        [4, 5, 6]])"
      ]
     },
     "execution_count": 46,
     "metadata": {},
     "output_type": "execute_result"
    }
   ],
   "source": [
    "arr1[0][0] = 0\n",
    "arr1"
   ]
  },
  {
   "cell_type": "code",
   "execution_count": 47,
   "id": "c35f1564-d308-4692-9aa8-3d45b08f6f0a",
   "metadata": {},
   "outputs": [
    {
     "data": {
      "text/plain": [
       "tensor([[1, 2, 3],\n",
       "        [4, 5, 6]])"
      ]
     },
     "execution_count": 47,
     "metadata": {},
     "output_type": "execute_result"
    }
   ],
   "source": [
    "arr2"
   ]
  },
  {
   "cell_type": "code",
   "execution_count": null,
   "id": "8abc5d52-4f93-40b6-874f-30106e485532",
   "metadata": {},
   "outputs": [],
   "source": [
    "# Here, we have created a copy of arr1, so if we change any of them, then the other will not have any effect."
   ]
  },
  {
   "cell_type": "code",
   "execution_count": 49,
   "id": "00b3419a-500e-46e5-b370-9d383b604efb",
   "metadata": {},
   "outputs": [
    {
     "name": "stdout",
     "output_type": "stream",
     "text": [
      "2119085601280\n",
      "2119085599360\n"
     ]
    }
   ],
   "source": [
    "# to check their location\n",
    "print(id(arr1))\n",
    "print(id(arr2))"
   ]
  },
  {
   "cell_type": "markdown",
   "id": "3797c05f-6427-4a16-989b-5c144af0e504",
   "metadata": {},
   "source": [
    "<font size=\"4\" color='yellow'>Permute</font>"
   ]
  },
  {
   "cell_type": "code",
   "execution_count": 62,
   "id": "ce0b4efd-3ef8-49d3-9c04-ec4aceacd46d",
   "metadata": {},
   "outputs": [
    {
     "name": "stdout",
     "output_type": "stream",
     "text": [
      "tensor([[[0.5277, 0.2472, 0.7909, 0.4235],\n",
      "         [0.0169, 0.2209, 0.9535, 0.7064],\n",
      "         [0.1629, 0.8902, 0.5163, 0.0359]],\n",
      "\n",
      "        [[0.6476, 0.3430, 0.3182, 0.5261],\n",
      "         [0.0447, 0.5123, 0.9051, 0.5989],\n",
      "         [0.4450, 0.7278, 0.4563, 0.3389]]])\n",
      "torch.Size([2, 3, 4])\n"
     ]
    }
   ],
   "source": [
    " # This function is used to rearrange the dimensions of a tensor.\n",
    "arr = torch.rand(2,3,4)\n",
    "print(arr)\n",
    "print(arr.shape)"
   ]
  },
  {
   "cell_type": "code",
   "execution_count": 64,
   "id": "d6b1e700-550f-4eca-a0d7-8484d0451084",
   "metadata": {},
   "outputs": [
    {
     "name": "stdout",
     "output_type": "stream",
     "text": [
      "torch.Size([4, 2, 3])\n"
     ]
    }
   ],
   "source": [
    "permuted_arr = arr.permute(2,0,1)\n",
    "permuted_arr\n",
    "print(permuted_arr.shape)"
   ]
  },
  {
   "cell_type": "markdown",
   "id": "9750f377-793b-4759-9b9d-140273a341dd",
   "metadata": {},
   "source": [
    "<font size=\"4\" color='yellow'>Tensor to Numpy</font>"
   ]
  },
  {
   "cell_type": "code",
   "execution_count": 66,
   "id": "7c7410ce-87a2-46e1-a272-7465ffc1e32b",
   "metadata": {},
   "outputs": [],
   "source": [
    "num_arr = arr.numpy()"
   ]
  },
  {
   "cell_type": "code",
   "execution_count": 67,
   "id": "2b10e6b4-f686-4236-82bb-4afc8a01476a",
   "metadata": {},
   "outputs": [
    {
     "name": "stdout",
     "output_type": "stream",
     "text": [
      "[[[0.5276887  0.24718356 0.79088616 0.42348665]\n",
      "  [0.01689917 0.22089463 0.95353633 0.70640296]\n",
      "  [0.16287827 0.890198   0.5162713  0.03588456]]\n",
      "\n",
      " [[0.6476328  0.34302562 0.31824023 0.5260877 ]\n",
      "  [0.04465872 0.512348   0.9050759  0.59885734]\n",
      "  [0.44500393 0.7278287  0.45625782 0.3388673 ]]]\n",
      "<class 'numpy.ndarray'>\n"
     ]
    }
   ],
   "source": [
    "print(num_arr)\n",
    "print(type(num_arr))"
   ]
  },
  {
   "cell_type": "markdown",
   "id": "be69a1df-7428-4669-9039-11f428ab39ff",
   "metadata": {},
   "source": [
    "<font size=\"4\" color='yellow'>Numpy to Tensor</font>"
   ]
  },
  {
   "cell_type": "code",
   "execution_count": 68,
   "id": "5654c67f-4077-48f8-a701-f8d545956b13",
   "metadata": {},
   "outputs": [],
   "source": [
    "arr = torch.from_numpy(num_arr)"
   ]
  },
  {
   "cell_type": "code",
   "execution_count": 69,
   "id": "90334d10-9a0a-4a3f-8389-2f69f3728b20",
   "metadata": {},
   "outputs": [
    {
     "name": "stdout",
     "output_type": "stream",
     "text": [
      "tensor([[[0.5277, 0.2472, 0.7909, 0.4235],\n",
      "         [0.0169, 0.2209, 0.9535, 0.7064],\n",
      "         [0.1629, 0.8902, 0.5163, 0.0359]],\n",
      "\n",
      "        [[0.6476, 0.3430, 0.3182, 0.5261],\n",
      "         [0.0447, 0.5123, 0.9051, 0.5989],\n",
      "         [0.4450, 0.7278, 0.4563, 0.3389]]])\n",
      "<class 'torch.Tensor'>\n"
     ]
    }
   ],
   "source": [
    "print(arr)\n",
    "print(type(arr))"
   ]
  }
 ],
 "metadata": {
  "kernelspec": {
   "display_name": "Python 3 (ipykernel)",
   "language": "python",
   "name": "python3"
  },
  "language_info": {
   "codemirror_mode": {
    "name": "ipython",
    "version": 3
   },
   "file_extension": ".py",
   "mimetype": "text/x-python",
   "name": "python",
   "nbconvert_exporter": "python",
   "pygments_lexer": "ipython3",
   "version": "3.13.1"
  }
 },
 "nbformat": 4,
 "nbformat_minor": 5
}
