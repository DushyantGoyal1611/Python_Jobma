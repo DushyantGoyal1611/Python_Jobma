{
 "cells": [
  {
   "cell_type": "code",
   "execution_count": 1,
   "id": "876cf67c-3517-4c45-a908-03a1f1a404b8",
   "metadata": {},
   "outputs": [],
   "source": [
    "import torch\n",
    "import numpy as np"
   ]
  },
  {
   "cell_type": "markdown",
   "id": "439d49ec-8e20-4e2e-99e6-d6cb55f760cd",
   "metadata": {},
   "source": [
    "<font size=\"4\" color='yellow'>Scalar</font>"
   ]
  },
  {
   "cell_type": "code",
   "execution_count": 2,
   "id": "96ed58d7-aa72-4d3a-b936-208e48a3dee4",
   "metadata": {},
   "outputs": [
    {
     "data": {
      "text/plain": [
       "tensor(7)"
      ]
     },
     "execution_count": 2,
     "metadata": {},
     "output_type": "execute_result"
    }
   ],
   "source": [
    "scalar = torch.tensor(7)\n",
    "scalar"
   ]
  },
  {
   "cell_type": "code",
   "execution_count": 3,
   "id": "19dda237-47ee-4f96-b350-ef63eba9f0e9",
   "metadata": {},
   "outputs": [
    {
     "data": {
      "text/plain": [
       "0"
      ]
     },
     "execution_count": 3,
     "metadata": {},
     "output_type": "execute_result"
    }
   ],
   "source": [
    "scalar.ndim"
   ]
  },
  {
   "cell_type": "code",
   "execution_count": 4,
   "id": "229f8ca4-4510-422f-878a-d08f1e10674c",
   "metadata": {},
   "outputs": [
    {
     "data": {
      "text/plain": [
       "7"
      ]
     },
     "execution_count": 4,
     "metadata": {},
     "output_type": "execute_result"
    }
   ],
   "source": [
    "# Get tensor back as Python int\n",
    "scalar.item()"
   ]
  },
  {
   "cell_type": "markdown",
   "id": "bd0bdaa0-9e34-40bb-8243-30df5a6ee97c",
   "metadata": {},
   "source": [
    "<font size=\"4\" color='yellow'>Vector</font>"
   ]
  },
  {
   "cell_type": "code",
   "execution_count": 5,
   "id": "9b6fc4d8-f0d5-4e2c-aae3-d53931c0a511",
   "metadata": {},
   "outputs": [
    {
     "data": {
      "text/plain": [
       "tensor([7, 8])"
      ]
     },
     "execution_count": 5,
     "metadata": {},
     "output_type": "execute_result"
    }
   ],
   "source": [
    "vector = torch.tensor([7,8])\n",
    "vector"
   ]
  },
  {
   "cell_type": "code",
   "execution_count": 6,
   "id": "acad0b75-623b-49ea-8066-94ad7facf0c1",
   "metadata": {},
   "outputs": [
    {
     "data": {
      "text/plain": [
       "1"
      ]
     },
     "execution_count": 6,
     "metadata": {},
     "output_type": "execute_result"
    }
   ],
   "source": [
    "vector.ndim"
   ]
  },
  {
   "cell_type": "code",
   "execution_count": 7,
   "id": "8330bfd9-de1a-4e71-9010-904a62df45f0",
   "metadata": {},
   "outputs": [
    {
     "data": {
      "text/plain": [
       "torch.Size([2])"
      ]
     },
     "execution_count": 7,
     "metadata": {},
     "output_type": "execute_result"
    }
   ],
   "source": [
    "vector.shape"
   ]
  },
  {
   "cell_type": "markdown",
   "id": "2f0fd969-ee27-413f-a7cf-40c90c428b13",
   "metadata": {},
   "source": [
    "<font size=\"4\" color='yellow'>Matrix</font>"
   ]
  },
  {
   "cell_type": "code",
   "execution_count": 8,
   "id": "c4faa5d3-dea3-4610-bac7-a1922b71f1af",
   "metadata": {},
   "outputs": [
    {
     "data": {
      "text/plain": [
       "tensor([[1, 2],\n",
       "        [3, 4]])"
      ]
     },
     "execution_count": 8,
     "metadata": {},
     "output_type": "execute_result"
    }
   ],
   "source": [
    "matrix = torch.tensor([[1,2],[3,4]])\n",
    "matrix"
   ]
  },
  {
   "cell_type": "code",
   "execution_count": 9,
   "id": "4e45a3f6-8072-4c0a-9eae-5180926ea16a",
   "metadata": {},
   "outputs": [
    {
     "data": {
      "text/plain": [
       "2"
      ]
     },
     "execution_count": 9,
     "metadata": {},
     "output_type": "execute_result"
    }
   ],
   "source": [
    "matrix.ndim"
   ]
  },
  {
   "cell_type": "code",
   "execution_count": 10,
   "id": "a3ec7f16-7ec5-4b2e-b802-f0c65c048c6e",
   "metadata": {},
   "outputs": [
    {
     "data": {
      "text/plain": [
       "torch.Size([2, 2])"
      ]
     },
     "execution_count": 10,
     "metadata": {},
     "output_type": "execute_result"
    }
   ],
   "source": [
    "matrix.shape"
   ]
  },
  {
   "cell_type": "markdown",
   "id": "e98c321c-efca-43b5-a649-91d00876ee8c",
   "metadata": {},
   "source": [
    "<font size=\"4\" color='yellow'>Tensor</font>"
   ]
  },
  {
   "cell_type": "code",
   "execution_count": 11,
   "id": "ac3c64b1-cecd-46c4-a554-640b6393bfb5",
   "metadata": {},
   "outputs": [
    {
     "data": {
      "text/plain": [
       "tensor([[[1, 1, 1],\n",
       "         [2, 2, 2],\n",
       "         [3, 3, 3]]])"
      ]
     },
     "execution_count": 11,
     "metadata": {},
     "output_type": "execute_result"
    }
   ],
   "source": [
    "tensor1 = torch.tensor([[[1,1,1],[2,2,2],[3,3,3]]])\n",
    "tensor1"
   ]
  },
  {
   "cell_type": "code",
   "execution_count": 12,
   "id": "5c8ff832-7b8c-4e73-9434-789956a10d1b",
   "metadata": {},
   "outputs": [
    {
     "data": {
      "text/plain": [
       "3"
      ]
     },
     "execution_count": 12,
     "metadata": {},
     "output_type": "execute_result"
    }
   ],
   "source": [
    "tensor1.ndim"
   ]
  },
  {
   "cell_type": "code",
   "execution_count": 13,
   "id": "1793ce23-e3ab-42b8-b055-27c8c4ecd77f",
   "metadata": {},
   "outputs": [
    {
     "data": {
      "text/plain": [
       "torch.Size([1, 3, 3])"
      ]
     },
     "execution_count": 13,
     "metadata": {},
     "output_type": "execute_result"
    }
   ],
   "source": [
    "tensor1.shape"
   ]
  },
  {
   "cell_type": "code",
   "execution_count": 14,
   "id": "722ec97f-5e4d-40a1-b645-e63a56b17e2e",
   "metadata": {},
   "outputs": [
    {
     "data": {
      "text/plain": [
       "tensor([[[1, 1, 1],\n",
       "         [2, 2, 2],\n",
       "         [3, 3, 3]],\n",
       "\n",
       "        [[4, 4, 4],\n",
       "         [5, 5, 5],\n",
       "         [6, 6, 6]]])"
      ]
     },
     "execution_count": 14,
     "metadata": {},
     "output_type": "execute_result"
    }
   ],
   "source": [
    "tensor2 = torch.tensor([[[1,1,1],[2,2,2],[3,3,3]],\n",
    "                       [[4,4,4],[5,5,5],[6,6,6]]])\n",
    "tensor2"
   ]
  },
  {
   "cell_type": "code",
   "execution_count": 15,
   "id": "1f211950-12c2-4017-97af-cb22e872004d",
   "metadata": {},
   "outputs": [
    {
     "data": {
      "text/plain": [
       "3"
      ]
     },
     "execution_count": 15,
     "metadata": {},
     "output_type": "execute_result"
    }
   ],
   "source": [
    "tensor2.ndim"
   ]
  },
  {
   "cell_type": "code",
   "execution_count": 16,
   "id": "fcb24e55-fcdd-4b7c-bd79-2668d438e5d6",
   "metadata": {},
   "outputs": [
    {
     "data": {
      "text/plain": [
       "torch.Size([2, 3, 3])"
      ]
     },
     "execution_count": 16,
     "metadata": {},
     "output_type": "execute_result"
    }
   ],
   "source": [
    "tensor2.shape"
   ]
  },
  {
   "cell_type": "code",
   "execution_count": 17,
   "id": "c4f373d1-a167-439b-9925-a9fd673529c4",
   "metadata": {},
   "outputs": [],
   "source": [
    "# dtype"
   ]
  },
  {
   "cell_type": "code",
   "execution_count": 18,
   "id": "2b88667a-dd33-4fe0-ab4b-20fe8a5ad968",
   "metadata": {},
   "outputs": [],
   "source": [
    "float_tensor = torch.tensor([3,6,9], dtype=torch.float32)"
   ]
  },
  {
   "cell_type": "code",
   "execution_count": 19,
   "id": "a57ea935-c90d-4daf-8ad0-165cd7cf1870",
   "metadata": {},
   "outputs": [
    {
     "name": "stdout",
     "output_type": "stream",
     "text": [
      "tensor([3., 6., 9.])\n",
      "torch.float32\n"
     ]
    }
   ],
   "source": [
    "print(float_tensor)\n",
    "print(float_tensor.dtype)"
   ]
  },
  {
   "cell_type": "code",
   "execution_count": 20,
   "id": "a8da1aff-b1fd-45ed-a8d1-023efe0cc051",
   "metadata": {},
   "outputs": [],
   "source": [
    "int_tensor = torch.tensor([2,4,8], dtype=torch.int64)"
   ]
  },
  {
   "cell_type": "code",
   "execution_count": 21,
   "id": "528e3cfd-5c79-4153-82be-8b34b01a909a",
   "metadata": {},
   "outputs": [
    {
     "name": "stdout",
     "output_type": "stream",
     "text": [
      "tensor([2, 4, 8])\n",
      "torch.int64\n"
     ]
    }
   ],
   "source": [
    "print(int_tensor)\n",
    "print(int_tensor.dtype)"
   ]
  },
  {
   "cell_type": "code",
   "execution_count": 22,
   "id": "ca034575-7305-4488-94b1-dbdc8db0497a",
   "metadata": {},
   "outputs": [
    {
     "data": {
      "text/plain": [
       "tensor([ 6., 24., 72.])"
      ]
     },
     "execution_count": 22,
     "metadata": {},
     "output_type": "execute_result"
    }
   ],
   "source": [
    "float_tensor * int_tensor"
   ]
  },
  {
   "cell_type": "code",
   "execution_count": 23,
   "id": "c6b65572-503f-4049-b0b9-3f5e98c7a534",
   "metadata": {},
   "outputs": [
    {
     "data": {
      "text/plain": [
       "device(type='cpu')"
      ]
     },
     "execution_count": 23,
     "metadata": {},
     "output_type": "execute_result"
    }
   ],
   "source": [
    "int_tensor.device"
   ]
  },
  {
   "cell_type": "markdown",
   "id": "15ff29fa-bad6-45cd-b0d4-79129379c7fa",
   "metadata": {},
   "source": [
    "<font size=\"4\" color='yellow'>Details about a Created Tensor</font>"
   ]
  },
  {
   "cell_type": "code",
   "execution_count": 24,
   "id": "87f15e4c-f7d5-472e-baea-ba633973d7d4",
   "metadata": {},
   "outputs": [],
   "source": [
    "arr = torch.rand(3,4)"
   ]
  },
  {
   "cell_type": "code",
   "execution_count": 25,
   "id": "35a94eb9-7ac2-4380-9376-32ba2fb25ffc",
   "metadata": {},
   "outputs": [
    {
     "name": "stdout",
     "output_type": "stream",
     "text": [
      "tensor([[0.0608, 0.3364, 0.6700, 0.4950],\n",
      "        [0.4542, 0.1746, 0.8516, 0.2357],\n",
      "        [0.3200, 0.5434, 0.0816, 0.0872]])\n",
      "\n",
      "Datatype of Tensor: torch.float32\n",
      "Shape of Tensor: torch.Size([3, 4])\n",
      "Device on which Tensor: cpu\n"
     ]
    }
   ],
   "source": [
    "print(arr)\n",
    "print()\n",
    "print(f\"Datatype of Tensor: {arr.dtype}\")\n",
    "print(f\"Shape of Tensor: {arr.shape}\")\n",
    "print(f\"Device on which Tensor: {arr.device}\")"
   ]
  },
  {
   "cell_type": "markdown",
   "id": "bb94ece9-4752-4e42-973e-de24e13274a8",
   "metadata": {},
   "source": [
    "<font size=\"4\" color='yellow'>Manipulating Tensor</font>"
   ]
  },
  {
   "cell_type": "code",
   "execution_count": 26,
   "id": "85a01dba-006e-484b-b9aa-f2993dead274",
   "metadata": {},
   "outputs": [],
   "source": [
    "arr1 = torch.tensor([1,2,3])"
   ]
  },
  {
   "cell_type": "code",
   "execution_count": 27,
   "id": "63d0dbb2-3acb-4b6e-9024-052605e664a4",
   "metadata": {},
   "outputs": [
    {
     "name": "stdout",
     "output_type": "stream",
     "text": [
      "Addition: tensor([11, 12, 13])\n",
      "Subtraction: tensor([-9, -8, -7])\n",
      "Multiplication: tensor([10, 20, 30])\n",
      "Division: tensor([0.1000, 0.2000, 0.3000])\n",
      "Modulus: tensor([1, 2, 3])\n"
     ]
    }
   ],
   "source": [
    "print(f\"Addition: {torch.add(arr1,10)}\")\n",
    "print(f\"Subtraction: {arr1 - 10}\")\n",
    "print(f\"Multiplication: {torch.mul(arr1,10)}\")\n",
    "print(f\"Division: {torch.div(arr1,10)}\")\n",
    "print(f\"Modulus: {torch.remainder(arr1,10)}\")"
   ]
  },
  {
   "cell_type": "code",
   "execution_count": 28,
   "id": "56c8117f-080e-4cfa-9501-4c82ba515904",
   "metadata": {},
   "outputs": [
    {
     "name": "stdout",
     "output_type": "stream",
     "text": [
      "Element-wise Multiplication: tensor([1, 4, 9])\n"
     ]
    }
   ],
   "source": [
    "# Element-wise multiplication\n",
    "arr1 = torch.tensor([1,2,3])\n",
    "arr2 = torch.tensor([1,2,3])\n",
    "\n",
    "print(f'Element-wise Multiplication: {arr1 * arr2}')"
   ]
  },
  {
   "cell_type": "code",
   "execution_count": 29,
   "id": "5fe79397-b370-49ca-bee0-b267b8f26dfa",
   "metadata": {},
   "outputs": [
    {
     "name": "stdout",
     "output_type": "stream",
     "text": [
      "Matrix Multiplication: 14\n"
     ]
    }
   ],
   "source": [
    "# Matrix multiplication\n",
    "arr1 = torch.tensor([1,2,3])\n",
    "arr2 = torch.tensor([1,2,3])\n",
    "\n",
    "print(f'Matrix Multiplication: {torch.matmul(arr1,arr2)}')"
   ]
  },
  {
   "cell_type": "code",
   "execution_count": 30,
   "id": "41dae929-3a1a-49f5-80bb-3c49b8c5393c",
   "metadata": {},
   "outputs": [
    {
     "data": {
      "text/plain": [
       "tensor([1., 2., 3., 4., 5., 6., 7., 8., 9.])"
      ]
     },
     "execution_count": 30,
     "metadata": {},
     "output_type": "execute_result"
    }
   ],
   "source": [
    "tensor_arr = torch.arange(1, 10, dtype=torch.float32)\n",
    "tensor_arr"
   ]
  },
  {
   "cell_type": "code",
   "execution_count": 31,
   "id": "9b1c8fc3-f8f7-498f-b6b1-a7da16c523d0",
   "metadata": {},
   "outputs": [
    {
     "data": {
      "text/plain": [
       "torch.float32"
      ]
     },
     "execution_count": 31,
     "metadata": {},
     "output_type": "execute_result"
    }
   ],
   "source": [
    "tensor_arr.dtype"
   ]
  },
  {
   "cell_type": "code",
   "execution_count": 32,
   "id": "3e8348f1-b021-47a9-90aa-d48239461971",
   "metadata": {},
   "outputs": [
    {
     "name": "stdout",
     "output_type": "stream",
     "text": [
      "Min: 1.0\n",
      "Max: 9.0\n",
      "Sum: 45.0\n",
      "Mean: 5.0\n"
     ]
    }
   ],
   "source": [
    "print(f'Min: {tensor_arr.min()}')\n",
    "print(f'Max: {tensor_arr.max()}')\n",
    "print(f'Sum: {tensor_arr.sum()}')\n",
    "print(f'Mean: {tensor_arr.mean()}')"
   ]
  },
  {
   "cell_type": "code",
   "execution_count": 33,
   "id": "b0895f0a-a5e0-44ef-a8f8-a93dc2f3d022",
   "metadata": {},
   "outputs": [
    {
     "name": "stdout",
     "output_type": "stream",
     "text": [
      "Position of Smallest Element: 0\n",
      "Position of Largest Element: 8\n",
      "Sorted Index: tensor([0, 1, 2, 3, 4, 5, 6, 7, 8])\n"
     ]
    }
   ],
   "source": [
    "print(f'Position of Smallest Element: {tensor_arr.argmin()}')\n",
    "print(f'Position of Largest Element: {tensor_arr.argmax()}')\n",
    "print(f'Sorted Index: {tensor_arr.argsort()}')"
   ]
  },
  {
   "cell_type": "code",
   "execution_count": 34,
   "id": "6fd42c1e-20bf-4557-b61b-6a393ac6cd0e",
   "metadata": {},
   "outputs": [
    {
     "data": {
      "text/plain": [
       "(tensor([[0.3235, 0.0825, 0.8544],\n",
       "         [0.8280, 0.0028, 0.9934]]),\n",
       " torch.Size([2, 3]))"
      ]
     },
     "execution_count": 34,
     "metadata": {},
     "output_type": "execute_result"
    }
   ],
   "source": [
    "arr = torch.rand(2,3)\n",
    "arr,arr.shape"
   ]
  },
  {
   "cell_type": "code",
   "execution_count": 35,
   "id": "f4e6f54b-66bb-416d-9efc-a8e9807c26b2",
   "metadata": {},
   "outputs": [
    {
     "data": {
      "text/plain": [
       "(tensor([[0.3235, 0.0825],\n",
       "         [0.8544, 0.8280],\n",
       "         [0.0028, 0.9934]]),\n",
       " torch.Size([3, 2]))"
      ]
     },
     "execution_count": 35,
     "metadata": {},
     "output_type": "execute_result"
    }
   ],
   "source": [
    "arr = arr.reshape(3,2)\n",
    "arr, arr.shape"
   ]
  },
  {
   "cell_type": "code",
   "execution_count": 36,
   "id": "2b09bc4b-6346-4a52-99bb-0d65890dd1f6",
   "metadata": {},
   "outputs": [
    {
     "data": {
      "text/plain": [
       "tensor([0.3235, 0.0825, 0.8544, 0.8280, 0.0028, 0.9934])"
      ]
     },
     "execution_count": 36,
     "metadata": {},
     "output_type": "execute_result"
    }
   ],
   "source": [
    "arr.flatten()"
   ]
  },
  {
   "cell_type": "code",
   "execution_count": 37,
   "id": "1c034a47-a466-474e-8fd0-6c366e79bac7",
   "metadata": {},
   "outputs": [
    {
     "data": {
      "text/plain": [
       "(tensor([[1],\n",
       "         [2],\n",
       "         [3]]),\n",
       " torch.Size([3]),\n",
       " torch.Size([3, 1]))"
      ]
     },
     "execution_count": 37,
     "metadata": {},
     "output_type": "execute_result"
    }
   ],
   "source": [
    "# after set unsqueeze 1, tensor becomes 2d\n",
    "\n",
    "tensor = torch.tensor([1,2,3])\n",
    "arr = tensor.unsqueeze(1)\n",
    "arr, tensor.shape, arr.shape"
   ]
  },
  {
   "cell_type": "code",
   "execution_count": 38,
   "id": "b6f58c8c-88e2-46a6-bbed-70b9651b9704",
   "metadata": {},
   "outputs": [
    {
     "data": {
      "text/plain": [
       "tensor([1, 2, 3])"
      ]
     },
     "execution_count": 38,
     "metadata": {},
     "output_type": "execute_result"
    }
   ],
   "source": [
    "x = arr.squeeze()\n",
    "x"
   ]
  },
  {
   "cell_type": "code",
   "execution_count": 39,
   "id": "112503b0-a326-4552-9e8b-0ed2dcdc4568",
   "metadata": {},
   "outputs": [
    {
     "data": {
      "text/plain": [
       "(tensor([[[0.9836, 0.1223, 0.1075],\n",
       "          [0.7254, 0.8215, 0.5523],\n",
       "          [0.5338, 0.4649, 0.9066],\n",
       "          [0.2183, 0.7116, 0.1660]],\n",
       " \n",
       "         [[0.8148, 0.6436, 0.4616],\n",
       "          [0.6790, 0.1220, 0.8803],\n",
       "          [0.9853, 0.8876, 0.8459],\n",
       "          [0.1981, 0.6003, 0.5478]]]),\n",
       " torch.Size([2, 4, 3]))"
      ]
     },
     "execution_count": 39,
     "metadata": {},
     "output_type": "execute_result"
    }
   ],
   "source": [
    "# permute\n",
    "arr = torch.rand(2,4,3)\n",
    "arr, arr.shape"
   ]
  },
  {
   "cell_type": "code",
   "execution_count": 40,
   "id": "2161c4ed-37ec-4da1-b5a9-86dbd8125487",
   "metadata": {},
   "outputs": [
    {
     "data": {
      "text/plain": [
       "(tensor([[[0.9836, 0.7254, 0.5338, 0.2183],\n",
       "          [0.8148, 0.6790, 0.9853, 0.1981]],\n",
       " \n",
       "         [[0.1223, 0.8215, 0.4649, 0.7116],\n",
       "          [0.6436, 0.1220, 0.8876, 0.6003]],\n",
       " \n",
       "         [[0.1075, 0.5523, 0.9066, 0.1660],\n",
       "          [0.4616, 0.8803, 0.8459, 0.5478]]]),\n",
       " torch.Size([3, 2, 4]))"
      ]
     },
     "execution_count": 40,
     "metadata": {},
     "output_type": "execute_result"
    }
   ],
   "source": [
    "permuted_arr = arr.permute(2,0,1)\n",
    "permuted_arr, permuted_arr.shape"
   ]
  },
  {
   "cell_type": "markdown",
   "id": "811a1d92-e000-4c69-9152-73bbf7912e3b",
   "metadata": {},
   "source": [
    "<font size=\"4\" color='yellow'>Indexing</font>"
   ]
  },
  {
   "cell_type": "code",
   "execution_count": 41,
   "id": "4877560c-4146-4cb7-ba82-6e907a19b783",
   "metadata": {},
   "outputs": [
    {
     "name": "stdout",
     "output_type": "stream",
     "text": [
      "tensor([1, 2, 3, 4, 5, 6, 7, 8, 9])\n",
      "tensor(1)\n",
      "tensor(5)\n",
      "tensor(9)\n"
     ]
    }
   ],
   "source": [
    "# Basic Indexing\n",
    "arr = torch.arange(1,10)\n",
    "print(arr)\n",
    "print(arr[0]) # First Element\n",
    "print(arr[4]) # Element at 4th position\n",
    "print(arr[-1]) # Last Element"
   ]
  },
  {
   "cell_type": "code",
   "execution_count": 42,
   "id": "8d2355b0-076a-4792-a130-84802d5a18ee",
   "metadata": {},
   "outputs": [
    {
     "name": "stdout",
     "output_type": "stream",
     "text": [
      "tensor([[0.8932, 0.9052],\n",
      "        [0.0300, 0.1493]])\n",
      "tensor(0.8932)\n",
      "tensor(0.9052)\n",
      "tensor(0.0300)\n",
      "tensor(0.9052)\n"
     ]
    }
   ],
   "source": [
    "# Indexing in 2d\n",
    "\n",
    "arr = torch.rand(2,2)\n",
    "print(arr)\n",
    "print(arr[0][0])\n",
    "print(arr[0][1])\n",
    "print(arr[1][0])\n",
    "print(arr[0][1])"
   ]
  },
  {
   "cell_type": "code",
   "execution_count": 43,
   "id": "d70c3808-caa9-450d-8178-36740521cd98",
   "metadata": {},
   "outputs": [
    {
     "name": "stdout",
     "output_type": "stream",
     "text": [
      "tensor([[[0.1443, 0.9792],\n",
      "         [0.9768, 0.1196]],\n",
      "\n",
      "        [[0.8738, 0.3513],\n",
      "         [0.4129, 0.6312]]])\n",
      "tensor(0.1443)\n",
      "tensor(0.8738)\n",
      "tensor([[0.1443, 0.9792],\n",
      "        [0.9768, 0.1196]])\n",
      "\n",
      "tensor([[0.8738, 0.3513],\n",
      "        [0.4129, 0.6312]])\n"
     ]
    }
   ],
   "source": [
    "# Indexing in 3d\n",
    "# 3d = [batch, row, columns]\n",
    "\n",
    "arr = torch.rand(2,2,2)\n",
    "print(arr)\n",
    "print(arr[0][0][0])\n",
    "print(arr[1][0][0])\n",
    "print(arr[0][:][:])\n",
    "print()\n",
    "print(arr[1][:][:])"
   ]
  },
  {
   "cell_type": "markdown",
   "id": "69861bd6-ef1d-4546-81a2-6f0feece8098",
   "metadata": {},
   "source": [
    "<font size=\"4\" color='yellow'>Tensor to Numpy</font>"
   ]
  },
  {
   "cell_type": "code",
   "execution_count": 44,
   "id": "b23a3648-8b13-4ea0-908b-0131c96477e4",
   "metadata": {},
   "outputs": [],
   "source": [
    "tensors = torch.rand([2,2])"
   ]
  },
  {
   "cell_type": "code",
   "execution_count": 45,
   "id": "d32af503-d3cc-4b15-8eae-b459db63a68f",
   "metadata": {},
   "outputs": [],
   "source": [
    "num_arr = tensors.numpy()"
   ]
  },
  {
   "cell_type": "code",
   "execution_count": 46,
   "id": "49d453de-7f46-4ba4-82a1-e3afd7a53ba0",
   "metadata": {},
   "outputs": [
    {
     "name": "stdout",
     "output_type": "stream",
     "text": [
      "[[0.6483172  0.09843659]\n",
      " [0.45395392 0.15300101]]\n",
      "<class 'numpy.ndarray'>\n"
     ]
    }
   ],
   "source": [
    "print(num_arr)\n",
    "print(type(num_arr))"
   ]
  },
  {
   "cell_type": "markdown",
   "id": "87f6868d-8701-49a1-b528-6585bcedf848",
   "metadata": {},
   "source": [
    "<font size=\"4\" color='yellow'>Numpy to Tensor</font>"
   ]
  },
  {
   "cell_type": "code",
   "execution_count": 47,
   "id": "6ce93c67-a98c-49c5-83ad-01dc9f242cf1",
   "metadata": {},
   "outputs": [],
   "source": [
    "tensors = torch.from_numpy(num_arr)"
   ]
  },
  {
   "cell_type": "code",
   "execution_count": 48,
   "id": "7f6214e1-9c64-4b19-937a-14e73967784a",
   "metadata": {},
   "outputs": [
    {
     "name": "stdout",
     "output_type": "stream",
     "text": [
      "tensor([[0.6483, 0.0984],\n",
      "        [0.4540, 0.1530]])\n",
      "<class 'torch.Tensor'>\n"
     ]
    }
   ],
   "source": [
    "print(tensors)\n",
    "print(type(tensors))"
   ]
  },
  {
   "cell_type": "markdown",
   "id": "31f0b0f0-0de3-4db9-8ec2-292ee29b5b69",
   "metadata": {},
   "source": [
    "<font size=\"4\" color='yellow'>Reproducibility</font>"
   ]
  },
  {
   "cell_type": "code",
   "execution_count": 49,
   "id": "45cfc781-c7d9-4641-8fda-2c72074b8ffd",
   "metadata": {},
   "outputs": [
    {
     "name": "stdout",
     "output_type": "stream",
     "text": [
      "tensor([[0.9892, 0.7898],\n",
      "        [0.7581, 0.5585]])\n",
      "tensor([[0.1701, 0.4731],\n",
      "        [0.1601, 0.4961]])\n",
      "tensor([[False, False],\n",
      "        [False, False]])\n"
     ]
    }
   ],
   "source": [
    "# It will give different result\n",
    "\n",
    "tensor1 = torch.rand(2,2)\n",
    "tensor2 = torch.rand(2,2)\n",
    "\n",
    "print(tensor1)\n",
    "print(tensor2)\n",
    "print(tensor1 == tensor2)"
   ]
  },
  {
   "cell_type": "code",
   "execution_count": 50,
   "id": "7522d80a-3b1a-49e3-8dd2-b0b7f829d350",
   "metadata": {},
   "outputs": [],
   "source": [
    "# # It will give same result\n",
    "\n",
    "# torch.manual_seed(42)\n",
    "# tensor1 = torch.rand(2,2)\n",
    "\n",
    "# torch.manual_seed(42)\n",
    "# tensor2 = torch.rand(2,2)\n",
    "\n",
    "# print(tensor1)\n",
    "# print(tensor2)\n",
    "# print(tensor1 == tensor2)"
   ]
  },
  {
   "cell_type": "code",
   "execution_count": 56,
   "id": "435ba97c-5353-46e7-978e-302854e9af6a",
   "metadata": {},
   "outputs": [
    {
     "name": "stdout",
     "output_type": "stream",
     "text": [
      "tensor([[0.1315, 0.2505],\n",
      "        [0.6915, 0.6674]])\n"
     ]
    }
   ],
   "source": [
    "tensor1 = torch.rand(2,2)\n",
    "print(tensor1)"
   ]
  },
  {
   "cell_type": "code",
   "execution_count": 59,
   "id": "260437d2-a408-40a7-99ae-68b755253cd0",
   "metadata": {},
   "outputs": [
    {
     "name": "stdout",
     "output_type": "stream",
     "text": [
      "tensor([[0.1315, 0.2505],\n",
      "        [0.6915, 0.6674]])\n"
     ]
    }
   ],
   "source": [
    "tensor2 = tensor1.clone()\n",
    "print(tensor2)"
   ]
  }
 ],
 "metadata": {
  "kernelspec": {
   "display_name": "Python 3 (ipykernel)",
   "language": "python",
   "name": "python3"
  },
  "language_info": {
   "codemirror_mode": {
    "name": "ipython",
    "version": 3
   },
   "file_extension": ".py",
   "mimetype": "text/x-python",
   "name": "python",
   "nbconvert_exporter": "python",
   "pygments_lexer": "ipython3",
   "version": "3.13.1"
  }
 },
 "nbformat": 4,
 "nbformat_minor": 5
}
