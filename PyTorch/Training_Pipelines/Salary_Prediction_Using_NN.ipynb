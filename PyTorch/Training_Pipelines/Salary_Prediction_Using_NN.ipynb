{
 "cells": [
  {
   "cell_type": "code",
   "execution_count": 1,
   "id": "5a1cece5-048a-460e-8588-af31d1d5b00f",
   "metadata": {},
   "outputs": [],
   "source": [
    "import os\n",
    "\n",
    "import numpy as np\n",
    "import pandas as pd\n",
    "import torch\n",
    "import torch.nn as nn\n",
    "import matplotlib.pyplot as plt\n",
    "\n",
    "from sklearn.model_selection import train_test_split\n",
    "from sklearn.preprocessing import StandardScaler\n",
    "from torch.utils.data import Dataset, DataLoader"
   ]
  },
  {
   "cell_type": "code",
   "execution_count": 2,
   "id": "ac5617bb-ac1d-4b04-b67f-d886392d578e",
   "metadata": {},
   "outputs": [],
   "source": [
    "df = pd.read_csv('Salary_dataset.csv')"
   ]
  },
  {
   "cell_type": "code",
   "execution_count": 3,
   "id": "c230dfc1-e756-4dd7-999b-733f5f0a70f7",
   "metadata": {},
   "outputs": [
    {
     "data": {
      "text/html": [
       "<div>\n",
       "<style scoped>\n",
       "    .dataframe tbody tr th:only-of-type {\n",
       "        vertical-align: middle;\n",
       "    }\n",
       "\n",
       "    .dataframe tbody tr th {\n",
       "        vertical-align: top;\n",
       "    }\n",
       "\n",
       "    .dataframe thead th {\n",
       "        text-align: right;\n",
       "    }\n",
       "</style>\n",
       "<table border=\"1\" class=\"dataframe\">\n",
       "  <thead>\n",
       "    <tr style=\"text-align: right;\">\n",
       "      <th></th>\n",
       "      <th>Unnamed: 0</th>\n",
       "      <th>YearsExperience</th>\n",
       "      <th>Salary</th>\n",
       "    </tr>\n",
       "  </thead>\n",
       "  <tbody>\n",
       "    <tr>\n",
       "      <th>0</th>\n",
       "      <td>0</td>\n",
       "      <td>1.2</td>\n",
       "      <td>39344.0</td>\n",
       "    </tr>\n",
       "    <tr>\n",
       "      <th>1</th>\n",
       "      <td>1</td>\n",
       "      <td>1.4</td>\n",
       "      <td>46206.0</td>\n",
       "    </tr>\n",
       "    <tr>\n",
       "      <th>2</th>\n",
       "      <td>2</td>\n",
       "      <td>1.6</td>\n",
       "      <td>37732.0</td>\n",
       "    </tr>\n",
       "    <tr>\n",
       "      <th>3</th>\n",
       "      <td>3</td>\n",
       "      <td>2.1</td>\n",
       "      <td>43526.0</td>\n",
       "    </tr>\n",
       "    <tr>\n",
       "      <th>4</th>\n",
       "      <td>4</td>\n",
       "      <td>2.3</td>\n",
       "      <td>39892.0</td>\n",
       "    </tr>\n",
       "  </tbody>\n",
       "</table>\n",
       "</div>"
      ],
      "text/plain": [
       "   Unnamed: 0  YearsExperience   Salary\n",
       "0           0              1.2  39344.0\n",
       "1           1              1.4  46206.0\n",
       "2           2              1.6  37732.0\n",
       "3           3              2.1  43526.0\n",
       "4           4              2.3  39892.0"
      ]
     },
     "execution_count": 3,
     "metadata": {},
     "output_type": "execute_result"
    }
   ],
   "source": [
    "df.head()"
   ]
  },
  {
   "cell_type": "code",
   "execution_count": 4,
   "id": "2fde9c06-7b24-4c35-a716-cbf1b507d18e",
   "metadata": {},
   "outputs": [],
   "source": [
    "df.drop('Unnamed: 0', axis=1, inplace=True)"
   ]
  },
  {
   "cell_type": "code",
   "execution_count": 5,
   "id": "c71e3024-a31f-4f91-a4c4-aaceb74b831f",
   "metadata": {},
   "outputs": [
    {
     "data": {
      "text/html": [
       "<div>\n",
       "<style scoped>\n",
       "    .dataframe tbody tr th:only-of-type {\n",
       "        vertical-align: middle;\n",
       "    }\n",
       "\n",
       "    .dataframe tbody tr th {\n",
       "        vertical-align: top;\n",
       "    }\n",
       "\n",
       "    .dataframe thead th {\n",
       "        text-align: right;\n",
       "    }\n",
       "</style>\n",
       "<table border=\"1\" class=\"dataframe\">\n",
       "  <thead>\n",
       "    <tr style=\"text-align: right;\">\n",
       "      <th></th>\n",
       "      <th>YearsExperience</th>\n",
       "      <th>Salary</th>\n",
       "    </tr>\n",
       "  </thead>\n",
       "  <tbody>\n",
       "    <tr>\n",
       "      <th>0</th>\n",
       "      <td>1.2</td>\n",
       "      <td>39344.0</td>\n",
       "    </tr>\n",
       "    <tr>\n",
       "      <th>1</th>\n",
       "      <td>1.4</td>\n",
       "      <td>46206.0</td>\n",
       "    </tr>\n",
       "    <tr>\n",
       "      <th>2</th>\n",
       "      <td>1.6</td>\n",
       "      <td>37732.0</td>\n",
       "    </tr>\n",
       "    <tr>\n",
       "      <th>3</th>\n",
       "      <td>2.1</td>\n",
       "      <td>43526.0</td>\n",
       "    </tr>\n",
       "    <tr>\n",
       "      <th>4</th>\n",
       "      <td>2.3</td>\n",
       "      <td>39892.0</td>\n",
       "    </tr>\n",
       "  </tbody>\n",
       "</table>\n",
       "</div>"
      ],
      "text/plain": [
       "   YearsExperience   Salary\n",
       "0              1.2  39344.0\n",
       "1              1.4  46206.0\n",
       "2              1.6  37732.0\n",
       "3              2.1  43526.0\n",
       "4              2.3  39892.0"
      ]
     },
     "execution_count": 5,
     "metadata": {},
     "output_type": "execute_result"
    }
   ],
   "source": [
    "df.head()"
   ]
  },
  {
   "cell_type": "markdown",
   "id": "0664aacb-cf12-4762-8b7b-7ecb5f296169",
   "metadata": {},
   "source": [
    "<font size=\"6\" color='pink'>Data Splitting</font>"
   ]
  },
  {
   "cell_type": "code",
   "execution_count": 6,
   "id": "8c1d05b7-2f4a-4e49-a65c-19b1f2574cb5",
   "metadata": {},
   "outputs": [],
   "source": [
    "y = df['Salary']\n",
    "df.drop('Salary', axis=1, inplace=True)\n",
    "X = df"
   ]
  },
  {
   "cell_type": "code",
   "execution_count": 7,
   "id": "9b9dc2f3-3a9b-45b9-b3bc-bd24cd0ff580",
   "metadata": {},
   "outputs": [],
   "source": [
    "X_train, X_test, y_train, y_test = train_test_split(X, y, test_size=0.2, random_state=42)"
   ]
  },
  {
   "cell_type": "code",
   "execution_count": 8,
   "id": "bdfee11f-3087-46ee-80f4-f2e734bcbf2d",
   "metadata": {},
   "outputs": [
    {
     "name": "stdout",
     "output_type": "stream",
     "text": [
      "Length of X_train is 24\n",
      "Length of X_test is 6\n",
      "Length of y_train is 24\n",
      "Length of X_test is 6\n"
     ]
    }
   ],
   "source": [
    "print(f'Length of X_train is {len(X_train)}')\n",
    "print(f'Length of X_test is {len(X_test)}')\n",
    "print(f'Length of y_train is {len(y_train)}')\n",
    "print(f'Length of X_test is {len(y_test)}')"
   ]
  },
  {
   "cell_type": "code",
   "execution_count": 9,
   "id": "69eb1abe-54d1-4676-90e7-4e2af98fd508",
   "metadata": {},
   "outputs": [
    {
     "name": "stdout",
     "output_type": "stream",
     "text": [
      "Type of X_train is <class 'pandas.core.frame.DataFrame'>\n",
      "Type of X_test is <class 'pandas.core.frame.DataFrame'>\n",
      "Type of y_train is <class 'pandas.core.series.Series'>\n",
      "Type of X_test is <class 'pandas.core.series.Series'>\n"
     ]
    }
   ],
   "source": [
    "print(f'Type of X_train is {type(X_train)}')\n",
    "print(f'Type of X_test is {type(X_test)}')\n",
    "print(f'Type of y_train is {type(y_train)}')\n",
    "print(f'Type of X_test is {type(y_test)}')"
   ]
  },
  {
   "cell_type": "markdown",
   "id": "0a6fbbee-2de6-46ea-876f-f322749c6076",
   "metadata": {},
   "source": [
    "<font size=\"4\" color='yellow'>Data Scaling</font>"
   ]
  },
  {
   "cell_type": "code",
   "execution_count": 10,
   "id": "86205263-ce52-46a2-a3cd-a0d76ff79892",
   "metadata": {},
   "outputs": [],
   "source": [
    "scalerX = StandardScaler()\n",
    "scalery = StandardScaler()"
   ]
  },
  {
   "cell_type": "code",
   "execution_count": 11,
   "id": "6f491de5-3780-451f-8f0c-59d6e1901c74",
   "metadata": {},
   "outputs": [],
   "source": [
    "X_train = scalerX.fit_transform(X_train)\n",
    "X_test = scalerX.transform(X_test)"
   ]
  },
  {
   "cell_type": "code",
   "execution_count": 12,
   "id": "b7f1d180-0190-4122-bf5a-2ad6f1bc9bfc",
   "metadata": {},
   "outputs": [],
   "source": [
    "y_train = scalery.fit_transform(y_train.values.reshape(-1,1))\n",
    "y_test = scalery.transform(y_test.values.reshape(-1,1))"
   ]
  },
  {
   "cell_type": "code",
   "execution_count": 13,
   "id": "09af2d39-4aad-484c-9659-e8b5c3c4f33a",
   "metadata": {},
   "outputs": [
    {
     "name": "stdout",
     "output_type": "stream",
     "text": [
      "Type of X_train is <class 'numpy.ndarray'>\n",
      "Type of X_test is <class 'numpy.ndarray'>\n",
      "Type of y_train is <class 'numpy.ndarray'>\n",
      "Type of X_test is <class 'numpy.ndarray'>\n"
     ]
    }
   ],
   "source": [
    "print(f'Type of X_train is {type(X_train)}')\n",
    "print(f'Type of X_test is {type(X_test)}')\n",
    "print(f'Type of y_train is {type(y_train)}')\n",
    "print(f'Type of X_test is {type(y_test)}')"
   ]
  },
  {
   "cell_type": "code",
   "execution_count": 14,
   "id": "b119d60f-2b42-4c91-a260-311440c782e8",
   "metadata": {},
   "outputs": [],
   "source": [
    "y_train = torch.tensor(y_train, dtype=torch.float32)\n",
    "y_test = torch.tensor(y_test, dtype=torch.float32)"
   ]
  },
  {
   "cell_type": "code",
   "execution_count": 15,
   "id": "0d160e75-9982-4ba8-a9d9-4cf88eeb8a8b",
   "metadata": {},
   "outputs": [
    {
     "name": "stdout",
     "output_type": "stream",
     "text": [
      "<class 'torch.Tensor'>\n",
      "<class 'torch.Tensor'>\n"
     ]
    }
   ],
   "source": [
    "print(type(y_train))\n",
    "print(type(y_test))"
   ]
  },
  {
   "cell_type": "code",
   "execution_count": 16,
   "id": "59c02f99-c12d-4d80-9393-f0469c023a3b",
   "metadata": {},
   "outputs": [],
   "source": [
    "X_train = torch.tensor(X_train, dtype=torch.float32)\n",
    "X_test = torch.tensor(X_test, dtype=torch.float32)"
   ]
  },
  {
   "cell_type": "code",
   "execution_count": 17,
   "id": "3bd7fb50-7a53-4024-8f7d-624c79921c2a",
   "metadata": {},
   "outputs": [
    {
     "name": "stdout",
     "output_type": "stream",
     "text": [
      "<class 'torch.Tensor'>\n",
      "<class 'torch.Tensor'>\n"
     ]
    }
   ],
   "source": [
    "print(type(X_train))\n",
    "print(type(X_test))"
   ]
  },
  {
   "cell_type": "code",
   "execution_count": 18,
   "id": "f7eb7558-4697-4fc1-acb7-d1add5af7352",
   "metadata": {},
   "outputs": [],
   "source": [
    "def plot_predictions(\n",
    "    train_data=X_train,\n",
    "    train_labels=y_train,\n",
    "    test_data=X_test,\n",
    "    test_labels=y_test,\n",
    "    predictions=None\n",
    "):\n",
    "    plt.figure(figsize=(10,6))\n",
    "\n",
    "    # Scatter plot of training and testing data\n",
    "    plt.scatter(train_data, train_labels, c='b', s=4, label=\"Training Data\")\n",
    "    plt.scatter(test_data, test_labels, c='g', s=4, label=\"Testing Data\")\n",
    "\n",
    "    if predictions is not None:\n",
    "        plt.scatter(test_data, predictions, c='r', s=4, label=\"Predictions\")\n",
    "\n",
    "        # Generate full range of X values\n",
    "        full_range = torch.linspace(train_data.min().item(), train_data.max().item(), 100).reshape(-1,1)\n",
    "\n",
    "        # Use inference mode to predict best-fit line\n",
    "        with torch.inference_mode():\n",
    "            best_fit = model(full_range).flatten()  # Ensure it is 1D\n",
    "\n",
    "        plt.plot(full_range.flatten(), best_fit, c='y', linewidth=2, label=\"Best Fit Line\")\n",
    "\n",
    "    plt.legend()\n",
    "    plt.xlabel(\"X values\")\n",
    "    plt.ylabel(\"Y values\")\n",
    "    plt.title(\"Data and Best Fit Line\")\n",
    "    plt.show()\n"
   ]
  },
  {
   "cell_type": "code",
   "execution_count": 19,
   "id": "dd63c868-2547-4c50-a8ad-4ad77c212c2d",
   "metadata": {},
   "outputs": [
    {
     "data": {
      "image/png": "[encoded data removed]",
      "text/plain": [
       "<Figure size 1000x600 with 1 Axes>"
      ]
     },
     "metadata": {},
     "output_type": "display_data"
    }
   ],
   "source": [
    "plot_predictions()"
   ]
  },
  {
   "cell_type": "markdown",
   "id": "0affd5d4-25ac-4596-91c8-0c9803b5a608",
   "metadata": {},
   "source": [
    "<font size=\"6\" color='pink'>Defining the Model</font>"
   ]
  },
  {
   "cell_type": "code",
   "execution_count": 20,
   "id": "1afce738-946d-488c-be30-c10a05f32c45",
   "metadata": {},
   "outputs": [],
   "source": [
    "class SalaryPrediction(nn.Module):\n",
    "    def __init__(self, num_features):\n",
    "        super().__init__()\n",
    "        self.linear = nn.Linear(num_features, 1)\n",
    "\n",
    "    def forward(self, X):\n",
    "        return self.linear(X)"
   ]
  },
  {
   "cell_type": "code",
   "execution_count": 21,
   "id": "b2f3230b-abc8-4a09-b787-5d0f4d1f9eda",
   "metadata": {},
   "outputs": [
    {
     "name": "stdout",
     "output_type": "stream",
     "text": [
      "OrderedDict({'linear.weight': tensor([[0.7645]]), 'linear.bias': tensor([0.8300])})\n"
     ]
    }
   ],
   "source": [
    "torch.manual_seed(42)\n",
    "model = SalaryPrediction(X_train.shape[1])\n",
    "print(model.state_dict())"
   ]
  },
  {
   "cell_type": "code",
   "execution_count": 22,
   "id": "5eef499a-a4d2-449e-b4d0-0a53ed690a60",
   "metadata": {},
   "outputs": [],
   "source": [
    "with torch.inference_mode():\n",
    "    y_pred = model(X_test)\n",
    "    y_pred"
   ]
  },
  {
   "cell_type": "code",
   "execution_count": 23,
   "id": "76a735c1-1bb5-4047-9f49-26b0471203fd",
   "metadata": {},
   "outputs": [
    {
     "data": {
      "image/png": "[encoded data removed]",
      "text/plain": [
       "<Figure size 1000x600 with 1 Axes>"
      ]
     },
     "metadata": {},
     "output_type": "display_data"
    }
   ],
   "source": [
    "plot_predictions(predictions=y_pred)"
   ]
  },
  {
   "cell_type": "markdown",
   "id": "126d55a8-0c51-4a63-b87c-92fbbb4b1a64",
   "metadata": {},
   "source": [
    "<font size=\"4\" color='yellow'>Important Parameters</font>"
   ]
  },
  {
   "cell_type": "code",
   "execution_count": 24,
   "id": "1ecae730-ad44-47a0-a032-4b11cb5c8841",
   "metadata": {},
   "outputs": [],
   "source": [
    "learning_rate = 0.01\n",
    "epochs = 100"
   ]
  },
  {
   "cell_type": "markdown",
   "id": "345927cf-691f-47c3-a106-f31386237495",
   "metadata": {},
   "source": [
    "<font size=\"4\" color='yellow'>Loss Function and Optimizer</font>"
   ]
  },
  {
   "cell_type": "code",
   "execution_count": 25,
   "id": "2dfc8192-b9e7-49b9-bbca-57a2bb1ed3ab",
   "metadata": {},
   "outputs": [],
   "source": [
    "loss_function = nn.MSELoss()\n",
    "optimizer = torch.optim.SGD(model.parameters(), lr=learning_rate)"
   ]
  },
  {
   "cell_type": "markdown",
   "id": "787c5877-588a-43de-bea3-d8a8b4bff7bd",
   "metadata": {},
   "source": [
    "<font size=\"4\" color='yellow'>Training Pipeline</font>"
   ]
  },
  {
   "cell_type": "code",
   "execution_count": 26,
   "id": "9f56abb7-219a-47cb-a9e1-b3e031742d91",
   "metadata": {},
   "outputs": [
    {
     "name": "stdout",
     "output_type": "stream",
     "text": [
      "Epoch: 1 | Loss: 0.7717103958129883 | Test Loss: 0.5110109448432922\n",
      "OrderedDict({'linear.weight': tensor([[0.7689]]), 'linear.bias': tensor([0.8134])})\n",
      "Epoch: 2 | Loss: 0.7425549030303955 | Test Loss: 0.48998865485191345\n",
      "OrderedDict({'linear.weight': tensor([[0.7732]]), 'linear.bias': tensor([0.7971])})\n",
      "Epoch: 3 | Loss: 0.7145540118217468 | Test Loss: 0.46986618638038635\n",
      "OrderedDict({'linear.weight': tensor([[0.7773]]), 'linear.bias': tensor([0.7812])})\n",
      "Epoch: 4 | Loss: 0.6876617074012756 | Test Loss: 0.4506066143512726\n",
      "OrderedDict({'linear.weight': tensor([[0.7814]]), 'linear.bias': tensor([0.7656])})\n",
      "Epoch: 5 | Loss: 0.6618345379829407 | Test Loss: 0.43217432498931885\n",
      "OrderedDict({'linear.weight': tensor([[0.7854]]), 'linear.bias': tensor([0.7503])})\n",
      "Epoch: 6 | Loss: 0.6370301246643066 | Test Loss: 0.4145354926586151\n",
      "OrderedDict({'linear.weight': tensor([[0.7894]]), 'linear.bias': tensor([0.7353])})\n",
      "Epoch: 7 | Loss: 0.613207995891571 | Test Loss: 0.3976571559906006\n",
      "OrderedDict({'linear.weight': tensor([[0.7932]]), 'linear.bias': tensor([0.7206])})\n",
      "Epoch: 8 | Loss: 0.590329110622406 | Test Loss: 0.3815082013607025\n",
      "OrderedDict({'linear.weight': tensor([[0.7970]]), 'linear.bias': tensor([0.7061])})\n",
      "Epoch: 9 | Loss: 0.5683562755584717 | Test Loss: 0.3660583794116974\n",
      "OrderedDict({'linear.weight': tensor([[0.8007]]), 'linear.bias': tensor([0.6920])})\n",
      "Epoch: 10 | Loss: 0.5472536087036133 | Test Loss: 0.35127881169319153\n",
      "OrderedDict({'linear.weight': tensor([[0.8043]]), 'linear.bias': tensor([0.6782])})\n",
      "Epoch: 11 | Loss: 0.5269865989685059 | Test Loss: 0.33714190125465393\n",
      "OrderedDict({'linear.weight': tensor([[0.8079]]), 'linear.bias': tensor([0.6646])})\n",
      "Epoch: 12 | Loss: 0.5075221657752991 | Test Loss: 0.32362091541290283\n",
      "OrderedDict({'linear.weight': tensor([[0.8114]]), 'linear.bias': tensor([0.6513])})\n",
      "Epoch: 13 | Loss: 0.48882853984832764 | Test Loss: 0.31069037318229675\n",
      "OrderedDict({'linear.weight': tensor([[0.8148]]), 'linear.bias': tensor([0.6383])})\n",
      "Epoch: 14 | Loss: 0.4708751142024994 | Test Loss: 0.29832592606544495\n",
      "OrderedDict({'linear.weight': tensor([[0.8181]]), 'linear.bias': tensor([0.6255])})\n",
      "Epoch: 15 | Loss: 0.4536327123641968 | Test Loss: 0.2865038514137268\n",
      "OrderedDict({'linear.weight': tensor([[0.8214]]), 'linear.bias': tensor([0.6130])})\n",
      "Epoch: 16 | Loss: 0.43707308173179626 | Test Loss: 0.27520179748535156\n",
      "OrderedDict({'linear.weight': tensor([[0.8246]]), 'linear.bias': tensor([0.6008])})\n",
      "Epoch: 17 | Loss: 0.4211691915988922 | Test Loss: 0.2643980383872986\n",
      "OrderedDict({'linear.weight': tensor([[0.8278]]), 'linear.bias': tensor([0.5887])})\n",
      "Epoch: 18 | Loss: 0.40589508414268494 | Test Loss: 0.2540718615055084\n",
      "OrderedDict({'linear.weight': tensor([[0.8309]]), 'linear.bias': tensor([0.5770])})\n",
      "Epoch: 19 | Loss: 0.39122581481933594 | Test Loss: 0.2442033886909485\n",
      "OrderedDict({'linear.weight': tensor([[0.8339]]), 'linear.bias': tensor([0.5654])})\n",
      "Epoch: 20 | Loss: 0.37713751196861267 | Test Loss: 0.2347734421491623\n",
      "OrderedDict({'linear.weight': tensor([[0.8369]]), 'linear.bias': tensor([0.5541])})\n",
      "Epoch: 21 | Loss: 0.36360713839530945 | Test Loss: 0.22576379776000977\n",
      "OrderedDict({'linear.weight': tensor([[0.8398]]), 'linear.bias': tensor([0.5430])})\n",
      "Epoch: 22 | Loss: 0.35061249136924744 | Test Loss: 0.217156782746315\n",
      "OrderedDict({'linear.weight': tensor([[0.8426]]), 'linear.bias': tensor([0.5322])})\n",
      "Epoch: 23 | Loss: 0.33813241124153137 | Test Loss: 0.20893557369709015\n",
      "OrderedDict({'linear.weight': tensor([[0.8454]]), 'linear.bias': tensor([0.5215])})\n",
      "Epoch: 24 | Loss: 0.32614657282829285 | Test Loss: 0.20108403265476227\n",
      "OrderedDict({'linear.weight': tensor([[0.8481]]), 'linear.bias': tensor([0.5111])})\n",
      "Epoch: 25 | Loss: 0.31463536620140076 | Test Loss: 0.1935865432024002\n",
      "OrderedDict({'linear.weight': tensor([[0.8508]]), 'linear.bias': tensor([0.5009])})\n",
      "Epoch: 26 | Loss: 0.30358001589775085 | Test Loss: 0.18642835319042206\n",
      "OrderedDict({'linear.weight': tensor([[0.8534]]), 'linear.bias': tensor([0.4909])})\n",
      "Epoch: 27 | Loss: 0.2929624617099762 | Test Loss: 0.17959505319595337\n",
      "OrderedDict({'linear.weight': tensor([[0.8560]]), 'linear.bias': tensor([0.4810])})\n",
      "Epoch: 28 | Loss: 0.28276532888412476 | Test Loss: 0.17307300865650177\n",
      "OrderedDict({'linear.weight': tensor([[0.8585]]), 'linear.bias': tensor([0.4714])})\n",
      "Epoch: 29 | Loss: 0.2729720175266266 | Test Loss: 0.1668490767478943\n",
      "OrderedDict({'linear.weight': tensor([[0.8610]]), 'linear.bias': tensor([0.4620])})\n",
      "Epoch: 30 | Loss: 0.2635665833950043 | Test Loss: 0.16091066598892212\n",
      "OrderedDict({'linear.weight': tensor([[0.8634]]), 'linear.bias': tensor([0.4528])})\n",
      "Epoch: 31 | Loss: 0.2545335292816162 | Test Loss: 0.15524566173553467\n",
      "OrderedDict({'linear.weight': tensor([[0.8658]]), 'linear.bias': tensor([0.4437])})\n",
      "Epoch: 32 | Loss: 0.24585820734500885 | Test Loss: 0.1498425006866455\n",
      "OrderedDict({'linear.weight': tensor([[0.8681]]), 'linear.bias': tensor([0.4348])})\n",
      "Epoch: 33 | Loss: 0.23752641677856445 | Test Loss: 0.14469003677368164\n",
      "OrderedDict({'linear.weight': tensor([[0.8704]]), 'linear.bias': tensor([0.4261])})\n",
      "Epoch: 34 | Loss: 0.22952456772327423 | Test Loss: 0.13977763056755066\n",
      "OrderedDict({'linear.weight': tensor([[0.8726]]), 'linear.bias': tensor([0.4176])})\n",
      "Epoch: 35 | Loss: 0.22183962166309357 | Test Loss: 0.13509501516819\n",
      "OrderedDict({'linear.weight': tensor([[0.8748]]), 'linear.bias': tensor([0.4093])})\n",
      "Epoch: 36 | Loss: 0.21445898711681366 | Test Loss: 0.1306324452161789\n",
      "OrderedDict({'linear.weight': tensor([[0.8770]]), 'linear.bias': tensor([0.4011])})\n",
      "Epoch: 37 | Loss: 0.20737062394618988 | Test Loss: 0.12638050317764282\n",
      "OrderedDict({'linear.weight': tensor([[0.8791]]), 'linear.bias': tensor([0.3930])})\n",
      "Epoch: 38 | Loss: 0.2005629539489746 | Test Loss: 0.12233010679483414\n",
      "OrderedDict({'linear.weight': tensor([[0.8811]]), 'linear.bias': tensor([0.3852])})\n",
      "Epoch: 39 | Loss: 0.19402487576007843 | Test Loss: 0.11847268790006638\n",
      "OrderedDict({'linear.weight': tensor([[0.8832]]), 'linear.bias': tensor([0.3775])})\n",
      "Epoch: 40 | Loss: 0.18774569034576416 | Test Loss: 0.1147998794913292\n",
      "OrderedDict({'linear.weight': tensor([[0.8851]]), 'linear.bias': tensor([0.3699])})\n",
      "Epoch: 41 | Loss: 0.18171517550945282 | Test Loss: 0.11130381375551224\n",
      "OrderedDict({'linear.weight': tensor([[0.8871]]), 'linear.bias': tensor([0.3625])})\n",
      "Epoch: 42 | Loss: 0.17592346668243408 | Test Loss: 0.10797682404518127\n",
      "OrderedDict({'linear.weight': tensor([[0.8890]]), 'linear.bias': tensor([0.3553])})\n",
      "Epoch: 43 | Loss: 0.17036108672618866 | Test Loss: 0.10481160134077072\n",
      "OrderedDict({'linear.weight': tensor([[0.8908]]), 'linear.bias': tensor([0.3482])})\n",
      "Epoch: 44 | Loss: 0.1650189757347107 | Test Loss: 0.10180113464593887\n",
      "OrderedDict({'linear.weight': tensor([[0.8927]]), 'linear.bias': tensor([0.3412])})\n",
      "Epoch: 45 | Loss: 0.15988844633102417 | Test Loss: 0.09893874078989029\n",
      "OrderedDict({'linear.weight': tensor([[0.8945]]), 'linear.bias': tensor([0.3344])})\n",
      "Epoch: 46 | Loss: 0.15496109426021576 | Test Loss: 0.09621793031692505\n",
      "OrderedDict({'linear.weight': tensor([[0.8962]]), 'linear.bias': tensor([0.3277])})\n",
      "Epoch: 47 | Loss: 0.1502288430929184 | Test Loss: 0.09363257884979248\n",
      "OrderedDict({'linear.weight': tensor([[0.8979]]), 'linear.bias': tensor([0.3211])})\n",
      "Epoch: 48 | Loss: 0.14568398892879486 | Test Loss: 0.09117672592401505\n",
      "OrderedDict({'linear.weight': tensor([[0.8996]]), 'linear.bias': tensor([0.3147])})\n",
      "Epoch: 49 | Loss: 0.1413191258907318 | Test Loss: 0.08884472399950027\n",
      "OrderedDict({'linear.weight': tensor([[0.9013]]), 'linear.bias': tensor([0.3084])})\n",
      "Epoch: 50 | Loss: 0.1371270716190338 | Test Loss: 0.08663114905357361\n",
      "OrderedDict({'linear.weight': tensor([[0.9029]]), 'linear.bias': tensor([0.3023])})\n",
      "Epoch: 51 | Loss: 0.13310106098651886 | Test Loss: 0.08453074842691422\n",
      "OrderedDict({'linear.weight': tensor([[0.9045]]), 'linear.bias': tensor([0.2962])})\n",
      "Epoch: 52 | Loss: 0.12923447787761688 | Test Loss: 0.08253856003284454\n",
      "OrderedDict({'linear.weight': tensor([[0.9060]]), 'linear.bias': tensor([0.2903])})\n",
      "Epoch: 53 | Loss: 0.1255210041999817 | Test Loss: 0.08064980804920197\n",
      "OrderedDict({'linear.weight': tensor([[0.9075]]), 'linear.bias': tensor([0.2845])})\n",
      "Epoch: 54 | Loss: 0.12195459008216858 | Test Loss: 0.07885988801717758\n",
      "OrderedDict({'linear.weight': tensor([[0.9090]]), 'linear.bias': tensor([0.2788])})\n",
      "Epoch: 55 | Loss: 0.11852937936782837 | Test Loss: 0.07716439664363861\n",
      "OrderedDict({'linear.weight': tensor([[0.9105]]), 'linear.bias': tensor([0.2732])})\n",
      "Epoch: 56 | Loss: 0.11523985117673874 | Test Loss: 0.07555914670228958\n",
      "OrderedDict({'linear.weight': tensor([[0.9119]]), 'linear.bias': tensor([0.2678])})\n",
      "Epoch: 57 | Loss: 0.11208055168390274 | Test Loss: 0.07404009252786636\n",
      "OrderedDict({'linear.weight': tensor([[0.9133]]), 'linear.bias': tensor([0.2624])})\n",
      "Epoch: 58 | Loss: 0.10904639214277267 | Test Loss: 0.07260335236787796\n",
      "OrderedDict({'linear.weight': tensor([[0.9147]]), 'linear.bias': tensor([0.2572])})\n",
      "Epoch: 59 | Loss: 0.10613236576318741 | Test Loss: 0.07124524563550949\n",
      "OrderedDict({'linear.weight': tensor([[0.9160]]), 'linear.bias': tensor([0.2520])})\n",
      "Epoch: 60 | Loss: 0.1033337190747261 | Test Loss: 0.06996221095323563\n",
      "OrderedDict({'linear.weight': tensor([[0.9174]]), 'linear.bias': tensor([0.2470])})\n",
      "Epoch: 61 | Loss: 0.10064592212438583 | Test Loss: 0.06875086575746536\n",
      "OrderedDict({'linear.weight': tensor([[0.9187]]), 'linear.bias': tensor([0.2420])})\n",
      "Epoch: 62 | Loss: 0.09806454181671143 | Test Loss: 0.06760793179273605\n",
      "OrderedDict({'linear.weight': tensor([[0.9199]]), 'linear.bias': tensor([0.2372])})\n",
      "Epoch: 63 | Loss: 0.0955854058265686 | Test Loss: 0.06653029471635818\n",
      "OrderedDict({'linear.weight': tensor([[0.9212]]), 'linear.bias': tensor([0.2324])})\n",
      "Epoch: 64 | Loss: 0.09320443123579025 | Test Loss: 0.06551498174667358\n",
      "OrderedDict({'linear.weight': tensor([[0.9224]]), 'linear.bias': tensor([0.2278])})\n",
      "Epoch: 65 | Loss: 0.09091773629188538 | Test Loss: 0.06455914676189423\n",
      "OrderedDict({'linear.weight': tensor([[0.9236]]), 'linear.bias': tensor([0.2232])})\n",
      "Epoch: 66 | Loss: 0.0887216106057167 | Test Loss: 0.06365998834371567\n",
      "OrderedDict({'linear.weight': tensor([[0.9248]]), 'linear.bias': tensor([0.2188])})\n",
      "Epoch: 67 | Loss: 0.08661244064569473 | Test Loss: 0.06281495839357376\n",
      "OrderedDict({'linear.weight': tensor([[0.9259]]), 'linear.bias': tensor([0.2144])})\n",
      "Epoch: 68 | Loss: 0.08458679169416428 | Test Loss: 0.062021490186452866\n",
      "OrderedDict({'linear.weight': tensor([[0.9270]]), 'linear.bias': tensor([0.2101])})\n",
      "Epoch: 69 | Loss: 0.08264137804508209 | Test Loss: 0.06127720698714256\n",
      "OrderedDict({'linear.weight': tensor([[0.9281]]), 'linear.bias': tensor([0.2059])})\n",
      "Epoch: 70 | Loss: 0.08077297359704971 | Test Loss: 0.060579802840948105\n",
      "OrderedDict({'linear.weight': tensor([[0.9292]]), 'linear.bias': tensor([0.2018])})\n",
      "Epoch: 71 | Loss: 0.07897858321666718 | Test Loss: 0.05992706120014191\n",
      "OrderedDict({'linear.weight': tensor([[0.9303]]), 'linear.bias': tensor([0.1978])})\n",
      "Epoch: 72 | Loss: 0.0772552490234375 | Test Loss: 0.059316862374544144\n",
      "OrderedDict({'linear.weight': tensor([[0.9313]]), 'linear.bias': tensor([0.1938])})\n",
      "Epoch: 73 | Loss: 0.07560014724731445 | Test Loss: 0.05874723196029663\n",
      "OrderedDict({'linear.weight': tensor([[0.9323]]), 'linear.bias': tensor([0.1899])})\n",
      "Epoch: 74 | Loss: 0.07401060312986374 | Test Loss: 0.05821618437767029\n",
      "OrderedDict({'linear.weight': tensor([[0.9333]]), 'linear.bias': tensor([0.1861])})\n",
      "Epoch: 75 | Loss: 0.07248399406671524 | Test Loss: 0.05772189795970917\n",
      "OrderedDict({'linear.weight': tensor([[0.9343]]), 'linear.bias': tensor([0.1824])})\n",
      "Epoch: 76 | Loss: 0.07101783156394958 | Test Loss: 0.05726262554526329\n",
      "OrderedDict({'linear.weight': tensor([[0.9353]]), 'linear.bias': tensor([0.1788])})\n",
      "Epoch: 77 | Loss: 0.06960973888635635 | Test Loss: 0.05683662369847298\n",
      "OrderedDict({'linear.weight': tensor([[0.9362]]), 'linear.bias': tensor([0.1752])})\n",
      "Epoch: 78 | Loss: 0.0682574063539505 | Test Loss: 0.05644229054450989\n",
      "OrderedDict({'linear.weight': tensor([[0.9371]]), 'linear.bias': tensor([0.1717])})\n",
      "Epoch: 79 | Loss: 0.06695861369371414 | Test Loss: 0.05607809126377106\n",
      "OrderedDict({'linear.weight': tensor([[0.9380]]), 'linear.bias': tensor([0.1682])})\n",
      "Epoch: 80 | Loss: 0.06571126729249954 | Test Loss: 0.0557425357401371\n",
      "OrderedDict({'linear.weight': tensor([[0.9389]]), 'linear.bias': tensor([0.1649])})\n",
      "Epoch: 81 | Loss: 0.06451331079006195 | Test Loss: 0.05543418601155281\n",
      "OrderedDict({'linear.weight': tensor([[0.9398]]), 'linear.bias': tensor([0.1616])})\n",
      "Epoch: 82 | Loss: 0.06336278468370438 | Test Loss: 0.05515170469880104\n",
      "OrderedDict({'linear.weight': tensor([[0.9406]]), 'linear.bias': tensor([0.1584])})\n",
      "Epoch: 83 | Loss: 0.062257830053567886 | Test Loss: 0.05489380657672882\n",
      "OrderedDict({'linear.weight': tensor([[0.9414]]), 'linear.bias': tensor([0.1552])})\n",
      "Epoch: 84 | Loss: 0.06119664013385773 | Test Loss: 0.05465922877192497\n",
      "OrderedDict({'linear.weight': tensor([[0.9422]]), 'linear.bias': tensor([0.1521])})\n",
      "Epoch: 85 | Loss: 0.06017746031284332 | Test Loss: 0.054446782916784286\n",
      "OrderedDict({'linear.weight': tensor([[0.9430]]), 'linear.bias': tensor([0.1490])})\n",
      "Epoch: 86 | Loss: 0.059198636561632156 | Test Loss: 0.05425534024834633\n",
      "OrderedDict({'linear.weight': tensor([[0.9438]]), 'linear.bias': tensor([0.1461])})\n",
      "Epoch: 87 | Loss: 0.05825858935713768 | Test Loss: 0.05408385023474693\n",
      "OrderedDict({'linear.weight': tensor([[0.9446]]), 'linear.bias': tensor([0.1431])})\n",
      "Epoch: 88 | Loss: 0.05735575035214424 | Test Loss: 0.053931206464767456\n",
      "OrderedDict({'linear.weight': tensor([[0.9453]]), 'linear.bias': tensor([0.1403])})\n",
      "Epoch: 89 | Loss: 0.056488677859306335 | Test Loss: 0.05379648879170418\n",
      "OrderedDict({'linear.weight': tensor([[0.9461]]), 'linear.bias': tensor([0.1375])})\n",
      "Epoch: 90 | Loss: 0.055655937641859055 | Test Loss: 0.053678710013628006\n",
      "OrderedDict({'linear.weight': tensor([[0.9468]]), 'linear.bias': tensor([0.1347])})\n",
      "Epoch: 91 | Loss: 0.054856181144714355 | Test Loss: 0.05357697233557701\n",
      "OrderedDict({'linear.weight': tensor([[0.9475]]), 'linear.bias': tensor([0.1320])})\n",
      "Epoch: 92 | Loss: 0.05408807471394539 | Test Loss: 0.05349043384194374\n",
      "OrderedDict({'linear.weight': tensor([[0.9482]]), 'linear.bias': tensor([0.1294])})\n",
      "Epoch: 93 | Loss: 0.05335040017962456 | Test Loss: 0.05341826379299164\n",
      "OrderedDict({'linear.weight': tensor([[0.9489]]), 'linear.bias': tensor([0.1268])})\n",
      "Epoch: 94 | Loss: 0.05264193192124367 | Test Loss: 0.05335963889956474\n",
      "OrderedDict({'linear.weight': tensor([[0.9495]]), 'linear.bias': tensor([0.1243])})\n",
      "Epoch: 95 | Loss: 0.051961515098810196 | Test Loss: 0.053313855081796646\n",
      "OrderedDict({'linear.weight': tensor([[0.9502]]), 'linear.bias': tensor([0.1218])})\n",
      "Epoch: 96 | Loss: 0.051308054476976395 | Test Loss: 0.053280171006917953\n",
      "OrderedDict({'linear.weight': tensor([[0.9508]]), 'linear.bias': tensor([0.1193])})\n",
      "Epoch: 97 | Loss: 0.05068046227097511 | Test Loss: 0.05325790122151375\n",
      "OrderedDict({'linear.weight': tensor([[0.9515]]), 'linear.bias': tensor([0.1170])})\n",
      "Epoch: 98 | Loss: 0.05007772147655487 | Test Loss: 0.0532463937997818\n",
      "OrderedDict({'linear.weight': tensor([[0.9521]]), 'linear.bias': tensor([0.1146])})\n",
      "Epoch: 99 | Loss: 0.04949885979294777 | Test Loss: 0.05324506387114525\n",
      "OrderedDict({'linear.weight': tensor([[0.9527]]), 'linear.bias': tensor([0.1123])})\n",
      "Epoch: 100 | Loss: 0.048942919820547104 | Test Loss: 0.05325324833393097\n",
      "OrderedDict({'linear.weight': tensor([[0.9533]]), 'linear.bias': tensor([0.1101])})\n"
     ]
    }
   ],
   "source": [
    "torch.manual_seed(42)\n",
    "epoch_count = []\n",
    "loss_values = []\n",
    "test_loss_values = []\n",
    "\n",
    "for epoch in range(epochs):\n",
    "    # Training Mode\n",
    "\n",
    "    # Forward Propogation\n",
    "    y_pred_train = model(X_train)\n",
    "\n",
    "    # Loss Function\n",
    "    loss = loss_function(y_pred_train, y_train)\n",
    "\n",
    "    # Set Gradients to Zero\n",
    "    optimizer.zero_grad()\n",
    "\n",
    "    # Back Propogation\n",
    "    loss.backward()\n",
    "\n",
    "    # Update the Parameters\n",
    "    optimizer.step()\n",
    "\n",
    "    # Testing Mode\n",
    "\n",
    "    model.eval()\n",
    "    with torch.inference_mode():\n",
    "        y_pred_test = model(X_test)\n",
    "\n",
    "        loss_test = loss_function(y_pred_test, y_test)\n",
    "\n",
    "    epoch_count.append(epoch)    \n",
    "    loss_values.append(loss.item())    \n",
    "    test_loss_values.append(loss_test.item())\n",
    "\n",
    "    print(f\"Epoch: {epoch+1} | Loss: {loss} | Test Loss: {loss_test}\")\n",
    "    print(model.state_dict())"
   ]
  },
  {
   "cell_type": "code",
   "execution_count": 27,
   "id": "5572d88e-6349-4e93-8541-f3115a19b589",
   "metadata": {},
   "outputs": [
    {
     "data": {
      "image/png": "[encoded data removed]",
      "text/plain": [
       "<Figure size 1000x600 with 1 Axes>"
      ]
     },
     "metadata": {},
     "output_type": "display_data"
    }
   ],
   "source": [
    "plot_predictions(predictions=y_pred_test)"
   ]
  },
  {
   "cell_type": "code",
   "execution_count": 28,
   "id": "d1cf561b-3345-4018-a362-06d1728c1451",
   "metadata": {},
   "outputs": [
    {
     "data": {
      "image/png": "[encoded data removed]",
      "text/plain": [
       "<Figure size 640x480 with 1 Axes>"
      ]
     },
     "metadata": {},
     "output_type": "display_data"
    }
   ],
   "source": [
    "plt.plot(epoch_count, loss_values, label='Train Loss')\n",
    "plt.plot(epoch_count, test_loss_values, label='Train Loss')\n",
    "plt.title(\"Training and Testing Loss Curves\")\n",
    "plt.xlabel('Epochs')\n",
    "plt.ylabel('Loss')\n",
    "plt.legend()\n",
    "plt.show()"
   ]
  },
  {
   "cell_type": "markdown",
   "id": "207d5817-e6fc-4798-a969-9e3a1dc0e141",
   "metadata": {},
   "source": [
    "<font size=\"6\" color='pink'>Saving and Loading the Model</font>"
   ]
  },
  {
   "cell_type": "markdown",
   "id": "7c9ac292-2469-4ab5-85dc-4fa08f4fe694",
   "metadata": {},
   "source": [
    "<font size=\"4\" color='yellow'>Saving and Loading Whole Model</font>"
   ]
  },
  {
   "cell_type": "code",
   "execution_count": 29,
   "id": "98c8e84b-361a-4fb7-a2c5-555cb7c8da13",
   "metadata": {},
   "outputs": [],
   "source": [
    "num_features = X_train.shape[1]\n",
    "model = SalaryPrediction(num_features)"
   ]
  },
  {
   "cell_type": "code",
   "execution_count": 30,
   "id": "6e279a25-4b64-47c3-8bb6-07a8f1d9d3ef",
   "metadata": {},
   "outputs": [],
   "source": [
    "os.makedirs(\"Model/Full_Models\", exist_ok=True)\n",
    "os.makedirs(\"Model/Models_Parameters\", exist_ok=True)"
   ]
  },
  {
   "cell_type": "code",
   "execution_count": 31,
   "id": "6f994d72-550b-43a1-8f66-2c39e90e0712",
   "metadata": {},
   "outputs": [
    {
     "name": "stdout",
     "output_type": "stream",
     "text": [
      "Full model saved at: Model/Full_Models/SalaryPredictionModel.pth\n"
     ]
    }
   ],
   "source": [
    "full_model_path = \"Model/Full_Models/SalaryPredictionModel.pth\"\n",
    "torch.save(model, full_model_path)\n",
    "print(f\"Full model saved at: {full_model_path}\")"
   ]
  },
  {
   "cell_type": "code",
   "execution_count": 32,
   "id": "e78da6fa-c22c-4e73-869c-835d7789b830",
   "metadata": {},
   "outputs": [
    {
     "name": "stdout",
     "output_type": "stream",
     "text": [
      "Full model loaded successfully!\n"
     ]
    }
   ],
   "source": [
    "loaded_full_model = torch.load(full_model_path, weights_only=False)\n",
    "loaded_full_model.eval() \n",
    "print(\"Full model loaded successfully!\")"
   ]
  },
  {
   "cell_type": "markdown",
   "id": "64014c12-83de-4635-8caf-6bcc036725bb",
   "metadata": {},
   "source": [
    "<font size=\"4\" color='yellow'>Saving and Loading only Parameters of Model(Weights and Bias)</font>"
   ]
  },
  {
   "cell_type": "code",
   "execution_count": 33,
   "id": "ffed733c-f804-4e9c-9101-c453ed298454",
   "metadata": {},
   "outputs": [
    {
     "name": "stdout",
     "output_type": "stream",
     "text": [
      "Model parameters saved at: Model/Models_Parameters/RegressionModelParams.pth\n"
     ]
    }
   ],
   "source": [
    "params_model_path = \"Model/Models_Parameters/RegressionModelParams.pth\"\n",
    "torch.save(model.state_dict(), params_model_path)\n",
    "print(f\"Model parameters saved at: {params_model_path}\")"
   ]
  },
  {
   "cell_type": "code",
   "execution_count": 34,
   "id": "4367d86d-82f0-4056-98b1-33cf2af7adf6",
   "metadata": {},
   "outputs": [
    {
     "name": "stdout",
     "output_type": "stream",
     "text": [
      "Model with only parameters loaded successfully!\n"
     ]
    }
   ],
   "source": [
    "num_features = X_train.shape[1]\n",
    "model_with_loaded_params = SalaryPrediction(num_features)\n",
    "\n",
    "# Load the saved parameters into the model\n",
    "model_with_loaded_params.load_state_dict(torch.load(params_model_path))\n",
    "model_with_loaded_params.eval()\n",
    "print(\"Model with only parameters loaded successfully!\")"
   ]
  }
 ],
 "metadata": {
  "kernelspec": {
   "display_name": "Python 3 (ipykernel)",
   "language": "python",
   "name": "python3"
  },
  "language_info": {
   "codemirror_mode": {
    "name": "ipython",
    "version": 3
   },
   "file_extension": ".py",
   "mimetype": "text/x-python",
   "name": "python",
   "nbconvert_exporter": "python",
   "pygments_lexer": "ipython3",
   "version": "3.13.1"
  }
 },
 "nbformat": 4,
 "nbformat_minor": 5
}
