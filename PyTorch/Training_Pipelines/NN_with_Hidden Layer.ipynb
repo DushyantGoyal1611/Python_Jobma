{
 "cells": [
  {
   "cell_type": "code",
   "execution_count": 1,
   "id": "574b5c43-6e90-49ef-8a18-bb8aeb25accd",
   "metadata": {},
   "outputs": [],
   "source": [
    "import torch\n",
    "import torch.nn as nn\n",
    "from torchinfo import summary"
   ]
  },
  {
   "cell_type": "code",
   "execution_count": 2,
   "id": "16910ec6-edc4-4e5f-80b2-a9c6c3680900",
   "metadata": {},
   "outputs": [],
   "source": [
    "# class Model(nn.Module):\n",
    "#     def __init__(self, num_features):\n",
    "#         super().__init__()\n",
    "#         self.linear1 = nn.Linear(num_features, 3)\n",
    "#         self.relu = nn.ReLU()\n",
    "#         self.linear2 = nn.Linear(3,1)\n",
    "#         self.sigmoid = nn.Sigmoid()\n",
    "\n",
    "#     def forward(self, features):\n",
    "#         output = self.linear1(features)\n",
    "#         output = self.relu(output)\n",
    "#         output = self.linear2(output)\n",
    "#         output = self.sigmoid(output)"
   ]
  },
  {
   "cell_type": "code",
   "execution_count": 13,
   "id": "6c91da8b-d041-4175-a573-e31300e35d48",
   "metadata": {},
   "outputs": [],
   "source": [
    "# In above code the forward function will start looking very complex, to simplify it, use 'Sequential Container'\n",
    "class Model(nn.Module):\n",
    "    def __init__(self, num_features):\n",
    "        super().__init__()\n",
    "        self.network = nn.Sequential(\n",
    "            nn.Linear(num_features, 3),\n",
    "            nn.ReLU(),\n",
    "            nn.Linear(3,1),\n",
    "            nn.Sigmoid()\n",
    "        )\n",
    "\n",
    "    def forward(self, features):\n",
    "        output = self.network(features)\n",
    "        return output"
   ]
  },
  {
   "cell_type": "code",
   "execution_count": 17,
   "id": "5f7e9bc3-a422-4776-b70c-97a1a58a7086",
   "metadata": {},
   "outputs": [
    {
     "data": {
      "text/plain": [
       "tensor([[0.5157],\n",
       "        [0.5178],\n",
       "        [0.5166],\n",
       "        [0.5240],\n",
       "        [0.5204],\n",
       "        [0.5336],\n",
       "        [0.5163],\n",
       "        [0.5150],\n",
       "        [0.5176],\n",
       "        [0.5198]], grad_fn=<SigmoidBackward0>)"
      ]
     },
     "execution_count": 17,
     "metadata": {},
     "output_type": "execute_result"
    }
   ],
   "source": [
    "# create dataset\n",
    "features = torch.rand(10,5)\n",
    "\n",
    "# create model\n",
    "model = Model(features.shape[1])\n",
    "\n",
    "model(features)"
   ]
  }
 ],
 "metadata": {
  "kernelspec": {
   "display_name": "Python 3 (ipykernel)",
   "language": "python",
   "name": "python3"
  },
  "language_info": {
   "codemirror_mode": {
    "name": "ipython",
    "version": 3
   },
   "file_extension": ".py",
   "mimetype": "text/x-python",
   "name": "python",
   "nbconvert_exporter": "python",
   "pygments_lexer": "ipython3",
   "version": "3.13.1"
  }
 },
 "nbformat": 4,
 "nbformat_minor": 5
}
