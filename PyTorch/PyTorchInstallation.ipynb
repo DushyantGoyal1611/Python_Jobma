{
 "cells": [
  {
   "cell_type": "code",
   "execution_count": null,
   "id": "7a3b59f3-936e-41ec-95be-cf6270286df8",
   "metadata": {},
   "outputs": [],
   "source": [
    "pip install jupyterlab torch torchvision torchaudio"
   ]
  },
  {
   "cell_type": "code",
   "execution_count": null,
   "id": "4dd47bc8-aace-4475-a43e-e16f8fcab904",
   "metadata": {},
   "outputs": [],
   "source": [
    "pip install torchmetrics"
   ]
  },
  {
   "cell_type": "code",
   "execution_count": null,
   "id": "12d02db9-7c9d-4757-9f7c-352bb1370612",
   "metadata": {},
   "outputs": [],
   "source": [
    "pip install nltk"
   ]
  },
  {
   "cell_type": "code",
   "execution_count": null,
   "id": "85796e32-a2ac-451e-88ce-dab0b2007c71",
   "metadata": {},
   "outputs": [],
   "source": [
    "pip install pandas numpy"
   ]
  },
  {
   "cell_type": "code",
   "execution_count": null,
   "id": "58b7e033-c875-4c38-8742-a883ac2338b5",
   "metadata": {},
   "outputs": [],
   "source": [
    "pip install matplotlib"
   ]
  },
  {
   "cell_type": "code",
   "execution_count": 2,
   "id": "d7d30224-a513-44c7-b020-3d50481feeb3",
   "metadata": {},
   "outputs": [
    {
     "name": "stdout",
     "output_type": "stream",
     "text": [
      "Defaulting to user installation because normal site-packages is not writeable\n",
      "Collecting spacy\n",
      "  Downloading spacy-3.8.4-cp312-cp312-win_amd64.whl.metadata (27 kB)\n",
      "Collecting spacy-legacy<3.1.0,>=3.0.11 (from spacy)\n",
      "  Downloading spacy_legacy-3.0.12-py2.py3-none-any.whl.metadata (2.8 kB)\n",
      "Collecting spacy-loggers<2.0.0,>=1.0.0 (from spacy)\n",
      "  Downloading spacy_loggers-1.0.5-py3-none-any.whl.metadata (23 kB)\n",
      "Collecting murmurhash<1.1.0,>=0.28.0 (from spacy)\n",
      "  Downloading murmurhash-1.0.12-cp312-cp312-win_amd64.whl.metadata (2.2 kB)\n",
      "Collecting cymem<2.1.0,>=2.0.2 (from spacy)\n",
      "  Downloading cymem-2.0.11-cp312-cp312-win_amd64.whl.metadata (8.8 kB)\n",
      "Collecting preshed<3.1.0,>=3.0.2 (from spacy)\n",
      "  Downloading preshed-3.0.9-cp312-cp312-win_amd64.whl.metadata (2.2 kB)\n",
      "Collecting thinc<8.4.0,>=8.3.4 (from spacy)\n",
      "  Downloading thinc-8.3.4-cp312-cp312-win_amd64.whl.metadata (15 kB)\n",
      "Collecting wasabi<1.2.0,>=0.9.1 (from spacy)\n",
      "  Downloading wasabi-1.1.3-py3-none-any.whl.metadata (28 kB)\n",
      "Collecting srsly<3.0.0,>=2.4.3 (from spacy)\n",
      "  Downloading srsly-2.5.1-cp312-cp312-win_amd64.whl.metadata (20 kB)\n",
      "Collecting catalogue<2.1.0,>=2.0.6 (from spacy)\n",
      "  Downloading catalogue-2.0.10-py3-none-any.whl.metadata (14 kB)\n",
      "Collecting weasel<0.5.0,>=0.1.0 (from spacy)\n",
      "  Downloading weasel-0.4.1-py3-none-any.whl.metadata (4.6 kB)\n",
      "Requirement already satisfied: typer<1.0.0,>=0.3.0 in c:\\programdata\\anaconda3\\lib\\site-packages (from spacy) (0.9.0)\n",
      "Requirement already satisfied: tqdm<5.0.0,>=4.38.0 in c:\\programdata\\anaconda3\\lib\\site-packages (from spacy) (4.66.5)\n",
      "Requirement already satisfied: numpy>=1.19.0 in c:\\programdata\\anaconda3\\lib\\site-packages (from spacy) (1.26.4)\n",
      "Requirement already satisfied: requests<3.0.0,>=2.13.0 in c:\\programdata\\anaconda3\\lib\\site-packages (from spacy) (2.32.3)\n",
      "Requirement already satisfied: pydantic!=1.8,!=1.8.1,<3.0.0,>=1.7.4 in c:\\programdata\\anaconda3\\lib\\site-packages (from spacy) (2.8.2)\n",
      "Requirement already satisfied: jinja2 in c:\\programdata\\anaconda3\\lib\\site-packages (from spacy) (3.1.4)\n",
      "Requirement already satisfied: setuptools in c:\\programdata\\anaconda3\\lib\\site-packages (from spacy) (75.1.0)\n",
      "Requirement already satisfied: packaging>=20.0 in c:\\programdata\\anaconda3\\lib\\site-packages (from spacy) (24.1)\n",
      "Collecting langcodes<4.0.0,>=3.2.0 (from spacy)\n",
      "  Downloading langcodes-3.5.0-py3-none-any.whl.metadata (29 kB)\n",
      "Collecting language-data>=1.2 (from langcodes<4.0.0,>=3.2.0->spacy)\n",
      "  Downloading language_data-1.3.0-py3-none-any.whl.metadata (4.3 kB)\n",
      "Requirement already satisfied: annotated-types>=0.4.0 in c:\\programdata\\anaconda3\\lib\\site-packages (from pydantic!=1.8,!=1.8.1,<3.0.0,>=1.7.4->spacy) (0.6.0)\n",
      "Requirement already satisfied: pydantic-core==2.20.1 in c:\\programdata\\anaconda3\\lib\\site-packages (from pydantic!=1.8,!=1.8.1,<3.0.0,>=1.7.4->spacy) (2.20.1)\n",
      "Requirement already satisfied: typing-extensions>=4.6.1 in c:\\programdata\\anaconda3\\lib\\site-packages (from pydantic!=1.8,!=1.8.1,<3.0.0,>=1.7.4->spacy) (4.11.0)\n",
      "Requirement already satisfied: charset-normalizer<4,>=2 in c:\\programdata\\anaconda3\\lib\\site-packages (from requests<3.0.0,>=2.13.0->spacy) (3.3.2)\n",
      "Requirement already satisfied: idna<4,>=2.5 in c:\\programdata\\anaconda3\\lib\\site-packages (from requests<3.0.0,>=2.13.0->spacy) (3.7)\n",
      "Requirement already satisfied: urllib3<3,>=1.21.1 in c:\\programdata\\anaconda3\\lib\\site-packages (from requests<3.0.0,>=2.13.0->spacy) (2.2.3)\n",
      "Requirement already satisfied: certifi>=2017.4.17 in c:\\programdata\\anaconda3\\lib\\site-packages (from requests<3.0.0,>=2.13.0->spacy) (2025.1.31)\n",
      "Collecting blis<1.3.0,>=1.2.0 (from thinc<8.4.0,>=8.3.4->spacy)\n",
      "  Downloading blis-1.2.0-cp312-cp312-win_amd64.whl.metadata (7.9 kB)\n",
      "Collecting confection<1.0.0,>=0.0.1 (from thinc<8.4.0,>=8.3.4->spacy)\n",
      "  Downloading confection-0.1.5-py3-none-any.whl.metadata (19 kB)\n",
      "Requirement already satisfied: colorama in c:\\programdata\\anaconda3\\lib\\site-packages (from tqdm<5.0.0,>=4.38.0->spacy) (0.4.6)\n",
      "Requirement already satisfied: click<9.0.0,>=7.1.1 in c:\\programdata\\anaconda3\\lib\\site-packages (from typer<1.0.0,>=0.3.0->spacy) (8.1.7)\n",
      "Collecting cloudpathlib<1.0.0,>=0.7.0 (from weasel<0.5.0,>=0.1.0->spacy)\n",
      "  Downloading cloudpathlib-0.21.0-py3-none-any.whl.metadata (14 kB)\n",
      "Requirement already satisfied: smart-open<8.0.0,>=5.2.1 in c:\\programdata\\anaconda3\\lib\\site-packages (from weasel<0.5.0,>=0.1.0->spacy) (5.2.1)\n",
      "Requirement already satisfied: MarkupSafe>=2.0 in c:\\programdata\\anaconda3\\lib\\site-packages (from jinja2->spacy) (2.1.3)\n",
      "Collecting marisa-trie>=1.1.0 (from language-data>=1.2->langcodes<4.0.0,>=3.2.0->spacy)\n",
      "  Downloading marisa_trie-1.2.1-cp312-cp312-win_amd64.whl.metadata (9.3 kB)\n",
      "Downloading spacy-3.8.4-cp312-cp312-win_amd64.whl (11.8 MB)\n",
      "   ---------------------------------------- 0.0/11.8 MB ? eta -:--:--\n",
      "    --------------------------------------- 0.3/11.8 MB ? eta -:--:--\n",
      "   -- ------------------------------------- 0.8/11.8 MB 2.1 MB/s eta 0:00:06\n",
      "   --- ------------------------------------ 1.0/11.8 MB 2.3 MB/s eta 0:00:05\n",
      "   ---- ----------------------------------- 1.3/11.8 MB 1.9 MB/s eta 0:00:06\n",
      "   ----- ---------------------------------- 1.6/11.8 MB 1.6 MB/s eta 0:00:07\n",
      "   ----- ---------------------------------- 1.6/11.8 MB 1.6 MB/s eta 0:00:07\n",
      "   ------- -------------------------------- 2.1/11.8 MB 1.4 MB/s eta 0:00:07\n",
      "   -------- ------------------------------- 2.4/11.8 MB 1.4 MB/s eta 0:00:07\n",
      "   -------- ------------------------------- 2.6/11.8 MB 1.5 MB/s eta 0:00:07\n",
      "   --------- ------------------------------ 2.9/11.8 MB 1.4 MB/s eta 0:00:07\n",
      "   ---------- ----------------------------- 3.1/11.8 MB 1.4 MB/s eta 0:00:07\n",
      "   ------------ --------------------------- 3.7/11.8 MB 1.4 MB/s eta 0:00:06\n",
      "   ------------- -------------------------- 3.9/11.8 MB 1.5 MB/s eta 0:00:06\n",
      "   --------------- ------------------------ 4.5/11.8 MB 1.5 MB/s eta 0:00:05\n",
      "   --------------- ------------------------ 4.5/11.8 MB 1.5 MB/s eta 0:00:05\n",
      "   ---------------- ----------------------- 4.7/11.8 MB 1.4 MB/s eta 0:00:05\n",
      "   ----------------- ---------------------- 5.2/11.8 MB 1.5 MB/s eta 0:00:05\n",
      "   ------------------ --------------------- 5.5/11.8 MB 1.5 MB/s eta 0:00:05\n",
      "   -------------------- ------------------- 6.0/11.8 MB 1.5 MB/s eta 0:00:04\n",
      "   --------------------- ------------------ 6.3/11.8 MB 1.5 MB/s eta 0:00:04\n",
      "   ---------------------- ----------------- 6.6/11.8 MB 1.5 MB/s eta 0:00:04\n",
      "   ----------------------- ---------------- 6.8/11.8 MB 1.5 MB/s eta 0:00:04\n",
      "   ------------------------ --------------- 7.1/11.8 MB 1.5 MB/s eta 0:00:04\n",
      "   ------------------------ --------------- 7.3/11.8 MB 1.5 MB/s eta 0:00:03\n",
      "   ------------------------- -------------- 7.6/11.8 MB 1.5 MB/s eta 0:00:03\n",
      "   --------------------------- ------------ 8.1/11.8 MB 1.5 MB/s eta 0:00:03\n",
      "   ---------------------------- ----------- 8.4/11.8 MB 1.5 MB/s eta 0:00:03\n",
      "   ----------------------------- ---------- 8.7/11.8 MB 1.5 MB/s eta 0:00:03\n",
      "   ------------------------------- -------- 9.2/11.8 MB 1.5 MB/s eta 0:00:02\n",
      "   -------------------------------- ------- 9.4/11.8 MB 1.5 MB/s eta 0:00:02\n",
      "   --------------------------------- ------ 10.0/11.8 MB 1.5 MB/s eta 0:00:02\n",
      "   ---------------------------------- ----- 10.2/11.8 MB 1.5 MB/s eta 0:00:02\n",
      "   ------------------------------------ --- 10.7/11.8 MB 1.5 MB/s eta 0:00:01\n",
      "   ------------------------------------- -- 11.0/11.8 MB 1.5 MB/s eta 0:00:01\n",
      "   -------------------------------------- - 11.3/11.8 MB 1.5 MB/s eta 0:00:01\n",
      "   ---------------------------------------  11.5/11.8 MB 1.5 MB/s eta 0:00:01\n",
      "   ---------------------------------------  11.5/11.8 MB 1.5 MB/s eta 0:00:01\n",
      "   ---------------------------------------- 11.8/11.8 MB 1.5 MB/s eta 0:00:00\n",
      "Downloading catalogue-2.0.10-py3-none-any.whl (17 kB)\n",
      "Downloading cymem-2.0.11-cp312-cp312-win_amd64.whl (39 kB)\n",
      "Downloading langcodes-3.5.0-py3-none-any.whl (182 kB)\n",
      "Downloading murmurhash-1.0.12-cp312-cp312-win_amd64.whl (25 kB)\n",
      "Downloading preshed-3.0.9-cp312-cp312-win_amd64.whl (122 kB)\n",
      "Downloading spacy_legacy-3.0.12-py2.py3-none-any.whl (29 kB)\n",
      "Downloading spacy_loggers-1.0.5-py3-none-any.whl (22 kB)\n",
      "Downloading srsly-2.5.1-cp312-cp312-win_amd64.whl (632 kB)\n",
      "   ---------------------------------------- 0.0/632.6 kB ? eta -:--:--\n",
      "   ---------------------------------------- 0.0/632.6 kB ? eta -:--:--\n",
      "   --------------------------------- ------ 524.3/632.6 kB 8.5 MB/s eta 0:00:01\n",
      "   --------------------------------- ------ 524.3/632.6 kB 8.5 MB/s eta 0:00:01\n",
      "   -------------------------------------- 632.6/632.6 kB 877.9 kB/s eta 0:00:00\n",
      "Downloading thinc-8.3.4-cp312-cp312-win_amd64.whl (1.5 MB)\n",
      "   ---------------------------------------- 0.0/1.5 MB ? eta -:--:--\n",
      "   ---------------------------------------- 0.0/1.5 MB ? eta -:--:--\n",
      "   ------- -------------------------------- 0.3/1.5 MB ? eta -:--:--\n",
      "   --------------------- ------------------ 0.8/1.5 MB 1.3 MB/s eta 0:00:01\n",
      "   ---------------------------- ----------- 1.0/1.5 MB 1.5 MB/s eta 0:00:01\n",
      "   ------------------------------------ --- 1.3/1.5 MB 1.5 MB/s eta 0:00:01\n",
      "   ---------------------------------------- 1.5/1.5 MB 1.4 MB/s eta 0:00:00\n",
      "Downloading wasabi-1.1.3-py3-none-any.whl (27 kB)\n",
      "Downloading weasel-0.4.1-py3-none-any.whl (50 kB)\n",
      "Downloading blis-1.2.0-cp312-cp312-win_amd64.whl (6.3 MB)\n",
      "   ---------------------------------------- 0.0/6.3 MB ? eta -:--:--\n",
      "   ---------------------------------------- 0.0/6.3 MB ? eta -:--:--\n",
      "   --- ------------------------------------ 0.5/6.3 MB 1.5 MB/s eta 0:00:04\n",
      "   ----- ---------------------------------- 0.8/6.3 MB 1.7 MB/s eta 0:00:04\n",
      "   ------ --------------------------------- 1.0/6.3 MB 1.5 MB/s eta 0:00:04\n",
      "   ---------- ----------------------------- 1.6/6.3 MB 1.7 MB/s eta 0:00:03\n",
      "   ------------- -------------------------- 2.1/6.3 MB 1.9 MB/s eta 0:00:03\n",
      "   --------------- ------------------------ 2.4/6.3 MB 1.9 MB/s eta 0:00:03\n",
      "   ---------------- ----------------------- 2.6/6.3 MB 1.9 MB/s eta 0:00:02\n",
      "   -------------------- ------------------- 3.1/6.3 MB 1.8 MB/s eta 0:00:02\n",
      "   --------------------- ------------------ 3.4/6.3 MB 1.8 MB/s eta 0:00:02\n",
      "   ----------------------- ---------------- 3.7/6.3 MB 1.8 MB/s eta 0:00:02\n",
      "   -------------------------- ------------- 4.2/6.3 MB 1.8 MB/s eta 0:00:02\n",
      "   ---------------------------- ----------- 4.5/6.3 MB 1.7 MB/s eta 0:00:02\n",
      "   ------------------------------ --------- 4.7/6.3 MB 1.7 MB/s eta 0:00:01\n",
      "   ------------------------------- -------- 5.0/6.3 MB 1.7 MB/s eta 0:00:01\n",
      "   --------------------------------- ------ 5.2/6.3 MB 1.6 MB/s eta 0:00:01\n",
      "   ----------------------------------- ---- 5.5/6.3 MB 1.6 MB/s eta 0:00:01\n",
      "   -------------------------------------- - 6.0/6.3 MB 1.6 MB/s eta 0:00:01\n",
      "   ---------------------------------------- 6.3/6.3 MB 1.6 MB/s eta 0:00:00\n",
      "Downloading cloudpathlib-0.21.0-py3-none-any.whl (52 kB)\n",
      "Downloading confection-0.1.5-py3-none-any.whl (35 kB)\n",
      "Downloading language_data-1.3.0-py3-none-any.whl (5.4 MB)\n",
      "   ---------------------------------------- 0.0/5.4 MB ? eta -:--:--\n",
      "   - -------------------------------------- 0.3/5.4 MB ? eta -:--:--\n",
      "   ----- ---------------------------------- 0.8/5.4 MB 2.1 MB/s eta 0:00:03\n",
      "   ------- -------------------------------- 1.0/5.4 MB 1.7 MB/s eta 0:00:03\n",
      "   --------- ------------------------------ 1.3/5.4 MB 1.5 MB/s eta 0:00:03\n",
      "   ----------- ---------------------------- 1.6/5.4 MB 1.5 MB/s eta 0:00:03\n",
      "   ------------- -------------------------- 1.8/5.4 MB 1.4 MB/s eta 0:00:03\n",
      "   --------------- ------------------------ 2.1/5.4 MB 1.5 MB/s eta 0:00:03\n",
      "   ------------------- -------------------- 2.6/5.4 MB 1.6 MB/s eta 0:00:02\n",
      "   ----------------------- ---------------- 3.1/5.4 MB 1.6 MB/s eta 0:00:02\n",
      "   ----------------------- ---------------- 3.1/5.4 MB 1.6 MB/s eta 0:00:02\n",
      "   --------------------------- ------------ 3.7/5.4 MB 1.6 MB/s eta 0:00:02\n",
      "   ------------------------------- -------- 4.2/5.4 MB 1.6 MB/s eta 0:00:01\n",
      "   --------------------------------- ------ 4.5/5.4 MB 1.6 MB/s eta 0:00:01\n",
      "   ------------------------------------ --- 5.0/5.4 MB 1.7 MB/s eta 0:00:01\n",
      "   ---------------------------------------- 5.4/5.4 MB 1.7 MB/s eta 0:00:00\n",
      "Downloading marisa_trie-1.2.1-cp312-cp312-win_amd64.whl (150 kB)\n",
      "Installing collected packages: cymem, wasabi, spacy-loggers, spacy-legacy, murmurhash, marisa-trie, cloudpathlib, catalogue, blis, srsly, preshed, language-data, langcodes, confection, weasel, thinc, spacy\n",
      "Successfully installed blis-1.2.0 catalogue-2.0.10 cloudpathlib-0.21.0 confection-0.1.5 cymem-2.0.11 langcodes-3.5.0 language-data-1.3.0 marisa-trie-1.2.1 murmurhash-1.0.12 preshed-3.0.9 spacy-3.8.4 spacy-legacy-3.0.12 spacy-loggers-1.0.5 srsly-2.5.1 thinc-8.3.4 wasabi-1.1.3 weasel-0.4.1\n",
      "Note: you may need to restart the kernel to use updated packages.\n"
     ]
    },
    {
     "name": "stderr",
     "output_type": "stream",
     "text": [
      "  WARNING: The script weasel.exe is installed in 'C:\\Users\\Dushyant\\AppData\\Roaming\\Python\\Python312\\Scripts' which is not on PATH.\n",
      "  Consider adding this directory to PATH or, if you prefer to suppress this warning, use --no-warn-script-location.\n",
      "  WARNING: The script spacy.exe is installed in 'C:\\Users\\Dushyant\\AppData\\Roaming\\Python\\Python312\\Scripts' which is not on PATH.\n",
      "  Consider adding this directory to PATH or, if you prefer to suppress this warning, use --no-warn-script-location.\n"
     ]
    }
   ],
   "source": [
    "pip install spacy"
   ]
  },
  {
   "cell_type": "code",
   "execution_count": 5,
   "id": "f22a8f17-c7e2-484c-ac58-157db1ec077d",
   "metadata": {},
   "outputs": [
    {
     "name": "stdout",
     "output_type": "stream",
     "text": [
      "Defaulting to user installation because normal site-packages is not writeable\n",
      "Collecting TextBlob\n",
      "  Downloading textblob-0.19.0-py3-none-any.whl.metadata (4.4 kB)\n",
      "Requirement already satisfied: nltk>=3.9 in c:\\programdata\\anaconda3\\lib\\site-packages (from TextBlob) (3.9.1)\n",
      "Requirement already satisfied: click in c:\\programdata\\anaconda3\\lib\\site-packages (from nltk>=3.9->TextBlob) (8.1.7)\n",
      "Requirement already satisfied: joblib in c:\\programdata\\anaconda3\\lib\\site-packages (from nltk>=3.9->TextBlob) (1.4.2)\n",
      "Requirement already satisfied: regex>=2021.8.3 in c:\\programdata\\anaconda3\\lib\\site-packages (from nltk>=3.9->TextBlob) (2024.9.11)\n",
      "Requirement already satisfied: tqdm in c:\\programdata\\anaconda3\\lib\\site-packages (from nltk>=3.9->TextBlob) (4.66.5)\n",
      "Requirement already satisfied: colorama in c:\\programdata\\anaconda3\\lib\\site-packages (from click->nltk>=3.9->TextBlob) (0.4.6)\n",
      "Downloading textblob-0.19.0-py3-none-any.whl (624 kB)\n",
      "   ---------------------------------------- 0.0/624.3 kB ? eta -:--:--\n",
      "   ---------------------------------------- 0.0/624.3 kB ? eta -:--:--\n",
      "   --------------------------------- ------ 524.3/624.3 kB 1.9 MB/s eta 0:00:01\n",
      "   ---------------------------------------- 624.3/624.3 kB 1.4 MB/s eta 0:00:00\n",
      "Installing collected packages: TextBlob\n",
      "Successfully installed TextBlob-0.19.0\n",
      "Note: you may need to restart the kernel to use updated packages.\n"
     ]
    }
   ],
   "source": [
    "pip install TextBlob"
   ]
  },
  {
   "cell_type": "code",
   "execution_count": 8,
   "id": "2263392a-2789-47d7-b715-0d9a45f3598a",
   "metadata": {},
   "outputs": [
    {
     "name": "stdout",
     "output_type": "stream",
     "text": [
      "Defaulting to user installation because normal site-packages is not writeable\n",
      "Collecting KeyBERT\n",
      "  Downloading keybert-0.9.0-py3-none-any.whl.metadata (15 kB)\n",
      "Requirement already satisfied: numpy>=1.18.5 in c:\\programdata\\anaconda3\\lib\\site-packages (from KeyBERT) (1.26.4)\n",
      "Requirement already satisfied: rich>=10.4.0 in c:\\programdata\\anaconda3\\lib\\site-packages (from KeyBERT) (13.7.1)\n",
      "Requirement already satisfied: scikit-learn>=0.22.2 in c:\\programdata\\anaconda3\\lib\\site-packages (from KeyBERT) (1.5.1)\n",
      "Collecting sentence-transformers>=0.3.8 (from KeyBERT)\n",
      "  Downloading sentence_transformers-3.4.1-py3-none-any.whl.metadata (10 kB)\n",
      "Requirement already satisfied: markdown-it-py>=2.2.0 in c:\\programdata\\anaconda3\\lib\\site-packages (from rich>=10.4.0->KeyBERT) (2.2.0)\n",
      "Requirement already satisfied: pygments<3.0.0,>=2.13.0 in c:\\programdata\\anaconda3\\lib\\site-packages (from rich>=10.4.0->KeyBERT) (2.15.1)\n",
      "Requirement already satisfied: scipy>=1.6.0 in c:\\programdata\\anaconda3\\lib\\site-packages (from scikit-learn>=0.22.2->KeyBERT) (1.13.1)\n",
      "Requirement already satisfied: joblib>=1.2.0 in c:\\programdata\\anaconda3\\lib\\site-packages (from scikit-learn>=0.22.2->KeyBERT) (1.4.2)\n",
      "Requirement already satisfied: threadpoolctl>=3.1.0 in c:\\programdata\\anaconda3\\lib\\site-packages (from scikit-learn>=0.22.2->KeyBERT) (3.5.0)\n",
      "Collecting transformers<5.0.0,>=4.41.0 (from sentence-transformers>=0.3.8->KeyBERT)\n",
      "  Using cached transformers-4.49.0-py3-none-any.whl.metadata (44 kB)\n",
      "Requirement already satisfied: tqdm in c:\\programdata\\anaconda3\\lib\\site-packages (from sentence-transformers>=0.3.8->KeyBERT) (4.66.5)\n",
      "Requirement already satisfied: torch>=1.11.0 in c:\\users\\dushyant\\appdata\\roaming\\python\\python312\\site-packages (from sentence-transformers>=0.3.8->KeyBERT) (2.6.0)\n",
      "Collecting huggingface-hub>=0.20.0 (from sentence-transformers>=0.3.8->KeyBERT)\n",
      "  Downloading huggingface_hub-0.29.3-py3-none-any.whl.metadata (13 kB)\n",
      "Requirement already satisfied: Pillow in c:\\programdata\\anaconda3\\lib\\site-packages (from sentence-transformers>=0.3.8->KeyBERT) (10.4.0)\n",
      "Requirement already satisfied: filelock in c:\\programdata\\anaconda3\\lib\\site-packages (from huggingface-hub>=0.20.0->sentence-transformers>=0.3.8->KeyBERT) (3.13.1)\n",
      "Requirement already satisfied: fsspec>=2023.5.0 in c:\\programdata\\anaconda3\\lib\\site-packages (from huggingface-hub>=0.20.0->sentence-transformers>=0.3.8->KeyBERT) (2024.6.1)\n",
      "Requirement already satisfied: packaging>=20.9 in c:\\programdata\\anaconda3\\lib\\site-packages (from huggingface-hub>=0.20.0->sentence-transformers>=0.3.8->KeyBERT) (24.1)\n",
      "Requirement already satisfied: pyyaml>=5.1 in c:\\programdata\\anaconda3\\lib\\site-packages (from huggingface-hub>=0.20.0->sentence-transformers>=0.3.8->KeyBERT) (6.0.1)\n",
      "Requirement already satisfied: requests in c:\\programdata\\anaconda3\\lib\\site-packages (from huggingface-hub>=0.20.0->sentence-transformers>=0.3.8->KeyBERT) (2.32.3)\n",
      "Requirement already satisfied: typing-extensions>=3.7.4.3 in c:\\programdata\\anaconda3\\lib\\site-packages (from huggingface-hub>=0.20.0->sentence-transformers>=0.3.8->KeyBERT) (4.11.0)\n",
      "Requirement already satisfied: mdurl~=0.1 in c:\\programdata\\anaconda3\\lib\\site-packages (from markdown-it-py>=2.2.0->rich>=10.4.0->KeyBERT) (0.1.0)\n",
      "Requirement already satisfied: networkx in c:\\programdata\\anaconda3\\lib\\site-packages (from torch>=1.11.0->sentence-transformers>=0.3.8->KeyBERT) (3.3)\n",
      "Requirement already satisfied: jinja2 in c:\\programdata\\anaconda3\\lib\\site-packages (from torch>=1.11.0->sentence-transformers>=0.3.8->KeyBERT) (3.1.4)\n",
      "Requirement already satisfied: setuptools in c:\\programdata\\anaconda3\\lib\\site-packages (from torch>=1.11.0->sentence-transformers>=0.3.8->KeyBERT) (75.1.0)\n",
      "Requirement already satisfied: sympy==1.13.1 in c:\\users\\dushyant\\appdata\\roaming\\python\\python312\\site-packages (from torch>=1.11.0->sentence-transformers>=0.3.8->KeyBERT) (1.13.1)\n",
      "Requirement already satisfied: mpmath<1.4,>=1.1.0 in c:\\programdata\\anaconda3\\lib\\site-packages (from sympy==1.13.1->torch>=1.11.0->sentence-transformers>=0.3.8->KeyBERT) (1.3.0)\n",
      "Requirement already satisfied: colorama in c:\\programdata\\anaconda3\\lib\\site-packages (from tqdm->sentence-transformers>=0.3.8->KeyBERT) (0.4.6)\n",
      "Requirement already satisfied: regex!=2019.12.17 in c:\\programdata\\anaconda3\\lib\\site-packages (from transformers<5.0.0,>=4.41.0->sentence-transformers>=0.3.8->KeyBERT) (2024.9.11)\n",
      "Collecting tokenizers<0.22,>=0.21 (from transformers<5.0.0,>=4.41.0->sentence-transformers>=0.3.8->KeyBERT)\n",
      "  Downloading tokenizers-0.21.1-cp39-abi3-win_amd64.whl.metadata (6.9 kB)\n",
      "Collecting safetensors>=0.4.1 (from transformers<5.0.0,>=4.41.0->sentence-transformers>=0.3.8->KeyBERT)\n",
      "  Using cached safetensors-0.5.3-cp38-abi3-win_amd64.whl.metadata (3.9 kB)\n",
      "Requirement already satisfied: MarkupSafe>=2.0 in c:\\programdata\\anaconda3\\lib\\site-packages (from jinja2->torch>=1.11.0->sentence-transformers>=0.3.8->KeyBERT) (2.1.3)\n",
      "Requirement already satisfied: charset-normalizer<4,>=2 in c:\\programdata\\anaconda3\\lib\\site-packages (from requests->huggingface-hub>=0.20.0->sentence-transformers>=0.3.8->KeyBERT) (3.3.2)\n",
      "Requirement already satisfied: idna<4,>=2.5 in c:\\programdata\\anaconda3\\lib\\site-packages (from requests->huggingface-hub>=0.20.0->sentence-transformers>=0.3.8->KeyBERT) (3.7)\n",
      "Requirement already satisfied: urllib3<3,>=1.21.1 in c:\\programdata\\anaconda3\\lib\\site-packages (from requests->huggingface-hub>=0.20.0->sentence-transformers>=0.3.8->KeyBERT) (2.2.3)\n",
      "Requirement already satisfied: certifi>=2017.4.17 in c:\\programdata\\anaconda3\\lib\\site-packages (from requests->huggingface-hub>=0.20.0->sentence-transformers>=0.3.8->KeyBERT) (2025.1.31)\n",
      "Downloading keybert-0.9.0-py3-none-any.whl (41 kB)\n",
      "Downloading sentence_transformers-3.4.1-py3-none-any.whl (275 kB)\n",
      "Downloading huggingface_hub-0.29.3-py3-none-any.whl (468 kB)\n",
      "Using cached transformers-4.49.0-py3-none-any.whl (10.0 MB)\n",
      "Using cached safetensors-0.5.3-cp38-abi3-win_amd64.whl (308 kB)\n",
      "Downloading tokenizers-0.21.1-cp39-abi3-win_amd64.whl (2.4 MB)\n",
      "   ---------------------------------------- 0.0/2.4 MB ? eta -:--:--\n",
      "   ---- ----------------------------------- 0.3/2.4 MB ? eta -:--:--\n",
      "   -------- ------------------------------- 0.5/2.4 MB 1.0 MB/s eta 0:00:02\n",
      "   ----------------- ---------------------- 1.0/2.4 MB 1.5 MB/s eta 0:00:01\n",
      "   --------------------- ------------------ 1.3/2.4 MB 1.6 MB/s eta 0:00:01\n",
      "   ------------------------- -------------- 1.6/2.4 MB 1.6 MB/s eta 0:00:01\n",
      "   ------------------------------ --------- 1.8/2.4 MB 1.4 MB/s eta 0:00:01\n",
      "   ------------------------------ --------- 1.8/2.4 MB 1.4 MB/s eta 0:00:01\n",
      "   ---------------------------------- ----- 2.1/2.4 MB 1.3 MB/s eta 0:00:01\n",
      "   ---------------------------------------- 2.4/2.4 MB 1.2 MB/s eta 0:00:00\n",
      "Installing collected packages: safetensors, huggingface-hub, tokenizers, transformers, sentence-transformers, KeyBERT\n",
      "Successfully installed KeyBERT-0.9.0 huggingface-hub-0.29.3 safetensors-0.5.3 sentence-transformers-3.4.1 tokenizers-0.21.1 transformers-4.49.0\n",
      "Note: you may need to restart the kernel to use updated packages.\n"
     ]
    },
    {
     "name": "stderr",
     "output_type": "stream",
     "text": [
      "  WARNING: The script huggingface-cli.exe is installed in 'C:\\Users\\Dushyant\\AppData\\Roaming\\Python\\Python312\\Scripts' which is not on PATH.\n",
      "  Consider adding this directory to PATH or, if you prefer to suppress this warning, use --no-warn-script-location.\n",
      "  WARNING: The script transformers-cli.exe is installed in 'C:\\Users\\Dushyant\\AppData\\Roaming\\Python\\Python312\\Scripts' which is not on PATH.\n",
      "  Consider adding this directory to PATH or, if you prefer to suppress this warning, use --no-warn-script-location.\n"
     ]
    }
   ],
   "source": [
    "pip install KeyBERT"
   ]
  },
  {
   "cell_type": "code",
   "execution_count": 12,
   "id": "c12bf4e4-0453-4ca0-aa15-13c1bd640c14",
   "metadata": {},
   "outputs": [
    {
     "ename": "SyntaxError",
     "evalue": "invalid syntax (581980377.py, line 1)",
     "output_type": "error",
     "traceback": [
      "\u001b[1;36m  Cell \u001b[1;32mIn[12], line 1\u001b[1;36m\u001b[0m\n\u001b[1;33m    python -m spacy download en_core_web_sm\u001b[0m\n\u001b[1;37m              ^\u001b[0m\n\u001b[1;31mSyntaxError\u001b[0m\u001b[1;31m:\u001b[0m invalid syntax\n"
     ]
    }
   ],
   "source": [
    "python -m spacy download en_core_web_sm"
   ]
  }
 ],
 "metadata": {
  "kernelspec": {
   "display_name": "Python 3 (ipykernel)",
   "language": "python",
   "name": "python3"
  },
  "language_info": {
   "codemirror_mode": {
    "name": "ipython",
    "version": 3
   },
   "file_extension": ".py",
   "mimetype": "text/x-python",
   "name": "python",
   "nbconvert_exporter": "python",
   "pygments_lexer": "ipython3",
   "version": "3.12.7"
  }
 },
 "nbformat": 4,
 "nbformat_minor": 5
}
