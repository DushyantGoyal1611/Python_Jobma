{
 "cells": [
  {
   "cell_type": "markdown",
   "id": "ec837770-a1b9-4ca6-a3d4-a811876a2187",
   "metadata": {},
   "source": [
    "<font size=\"6\" color='#ff7234'>Multiple Regression</font>"
   ]
  },
  {
   "cell_type": "code",
   "execution_count": 1,
   "id": "32b42120-426d-4780-bc6d-61bc92f7558f",
   "metadata": {
    "scrolled": true
   },
   "outputs": [
    {
     "name": "stdout",
     "output_type": "stream",
     "text": [
      "Requirement already satisfied: seaborn in c:\\users\\dushyant\\downloads\\lib\\site-packages (0.13.2)\n",
      "Requirement already satisfied: numpy!=1.24.0,>=1.20 in c:\\users\\dushyant\\downloads\\lib\\site-packages (from seaborn) (2.2.2)\n",
      "Requirement already satisfied: pandas>=1.2 in c:\\users\\dushyant\\downloads\\lib\\site-packages (from seaborn) (2.2.3)\n",
      "Requirement already satisfied: matplotlib!=3.6.1,>=3.4 in c:\\users\\dushyant\\downloads\\lib\\site-packages (from seaborn) (3.10.0)\n",
      "Requirement already satisfied: contourpy>=1.0.1 in c:\\users\\dushyant\\downloads\\lib\\site-packages (from matplotlib!=3.6.1,>=3.4->seaborn) (1.3.1)\n",
      "Requirement already satisfied: cycler>=0.10 in c:\\users\\dushyant\\downloads\\lib\\site-packages (from matplotlib!=3.6.1,>=3.4->seaborn) (0.12.1)\n",
      "Requirement already satisfied: fonttools>=4.22.0 in c:\\users\\dushyant\\downloads\\lib\\site-packages (from matplotlib!=3.6.1,>=3.4->seaborn) (4.55.8)\n",
      "Requirement already satisfied: kiwisolver>=1.3.1 in c:\\users\\dushyant\\downloads\\lib\\site-packages (from matplotlib!=3.6.1,>=3.4->seaborn) (1.4.8)\n",
      "Requirement already satisfied: packaging>=20.0 in c:\\users\\dushyant\\downloads\\lib\\site-packages (from matplotlib!=3.6.1,>=3.4->seaborn) (24.2)\n",
      "Requirement already satisfied: pillow>=8 in c:\\users\\dushyant\\downloads\\lib\\site-packages (from matplotlib!=3.6.1,>=3.4->seaborn) (11.1.0)\n",
      "Requirement already satisfied: pyparsing>=2.3.1 in c:\\users\\dushyant\\downloads\\lib\\site-packages (from matplotlib!=3.6.1,>=3.4->seaborn) (3.2.1)\n",
      "Requirement already satisfied: python-dateutil>=2.7 in c:\\users\\dushyant\\downloads\\lib\\site-packages (from matplotlib!=3.6.1,>=3.4->seaborn) (2.9.0.post0)\n",
      "Requirement already satisfied: pytz>=2020.1 in c:\\users\\dushyant\\downloads\\lib\\site-packages (from pandas>=1.2->seaborn) (2025.1)\n",
      "Requirement already satisfied: tzdata>=2022.7 in c:\\users\\dushyant\\downloads\\lib\\site-packages (from pandas>=1.2->seaborn) (2025.1)\n",
      "Requirement already satisfied: six>=1.5 in c:\\users\\dushyant\\downloads\\lib\\site-packages (from python-dateutil>=2.7->matplotlib!=3.6.1,>=3.4->seaborn) (1.17.0)\n",
      "Note: you may need to restart the kernel to use updated packages.\n"
     ]
    }
   ],
   "source": [
    "pip install seaborn"
   ]
  },
  {
   "cell_type": "code",
   "execution_count": 2,
   "id": "4e3bb14b-d2c0-4ebd-92be-333618732d41",
   "metadata": {},
   "outputs": [],
   "source": [
    "import numpy as np\n",
    "import pandas as pd\n",
    "import matplotlib.pyplot as plt\n",
    "import seaborn as sns\n",
    "\n",
    "# Scikit-Learn\n",
    "from sklearn.model_selection import train_test_split\n",
    "from sklearn.linear_model import LinearRegression\n",
    "from sklearn.metrics import mean_absolute_error, mean_squared_error, mean_absolute_percentage_error, make_scorer"
   ]
  },
  {
   "cell_type": "code",
   "execution_count": 3,
   "id": "e79bf132-08cd-409d-afcf-179c047bd5d4",
   "metadata": {},
   "outputs": [],
   "source": [
    "df = pd.read_csv('NIFTY_50.csv')"
   ]
  },
  {
   "cell_type": "code",
   "execution_count": 4,
   "id": "6176ed31-7474-44da-8d5c-95b4fe6586a4",
   "metadata": {},
   "outputs": [
    {
     "data": {
      "text/html": [
       "<div>\n",
       "<style scoped>\n",
       "    .dataframe tbody tr th:only-of-type {\n",
       "        vertical-align: middle;\n",
       "    }\n",
       "\n",
       "    .dataframe tbody tr th {\n",
       "        vertical-align: top;\n",
       "    }\n",
       "\n",
       "    .dataframe thead th {\n",
       "        text-align: right;\n",
       "    }\n",
       "</style>\n",
       "<table border=\"1\" class=\"dataframe\">\n",
       "  <thead>\n",
       "    <tr style=\"text-align: right;\">\n",
       "      <th></th>\n",
       "      <th>Date</th>\n",
       "      <th>Open</th>\n",
       "      <th>High</th>\n",
       "      <th>Low</th>\n",
       "      <th>Close</th>\n",
       "      <th>Shares Traded</th>\n",
       "      <th>Turnover (₹ Cr)</th>\n",
       "    </tr>\n",
       "  </thead>\n",
       "  <tbody>\n",
       "    <tr>\n",
       "      <th>0</th>\n",
       "      <td>19-NOV-2024</td>\n",
       "      <td>23529.55</td>\n",
       "      <td>23780.65</td>\n",
       "      <td>23464.80</td>\n",
       "      <td>23518.50</td>\n",
       "      <td>297477279</td>\n",
       "      <td>30486.78</td>\n",
       "    </tr>\n",
       "    <tr>\n",
       "      <th>1</th>\n",
       "      <td>21-NOV-2024</td>\n",
       "      <td>23488.45</td>\n",
       "      <td>23507.30</td>\n",
       "      <td>23263.15</td>\n",
       "      <td>23349.90</td>\n",
       "      <td>420332354</td>\n",
       "      <td>40900.89</td>\n",
       "    </tr>\n",
       "    <tr>\n",
       "      <th>2</th>\n",
       "      <td>22-NOV-2024</td>\n",
       "      <td>23411.80</td>\n",
       "      <td>23956.10</td>\n",
       "      <td>23359.00</td>\n",
       "      <td>23907.25</td>\n",
       "      <td>367562789</td>\n",
       "      <td>39257.52</td>\n",
       "    </tr>\n",
       "    <tr>\n",
       "      <th>3</th>\n",
       "      <td>25-NOV-2024</td>\n",
       "      <td>24253.55</td>\n",
       "      <td>24351.55</td>\n",
       "      <td>24135.45</td>\n",
       "      <td>24221.90</td>\n",
       "      <td>687172787</td>\n",
       "      <td>85975.81</td>\n",
       "    </tr>\n",
       "    <tr>\n",
       "      <th>4</th>\n",
       "      <td>26-NOV-2024</td>\n",
       "      <td>24343.30</td>\n",
       "      <td>24343.30</td>\n",
       "      <td>24125.40</td>\n",
       "      <td>24194.50</td>\n",
       "      <td>230691771</td>\n",
       "      <td>24140.67</td>\n",
       "    </tr>\n",
       "  </tbody>\n",
       "</table>\n",
       "</div>"
      ],
      "text/plain": [
       "         Date      Open      High       Low     Close   Shares Traded   \\\n",
       "0  19-NOV-2024  23529.55  23780.65  23464.80  23518.50       297477279   \n",
       "1  21-NOV-2024  23488.45  23507.30  23263.15  23349.90       420332354   \n",
       "2  22-NOV-2024  23411.80  23956.10  23359.00  23907.25       367562789   \n",
       "3  25-NOV-2024  24253.55  24351.55  24135.45  24221.90       687172787   \n",
       "4  26-NOV-2024  24343.30  24343.30  24125.40  24194.50       230691771   \n",
       "\n",
       "   Turnover (₹ Cr)  \n",
       "0         30486.78  \n",
       "1         40900.89  \n",
       "2         39257.52  \n",
       "3         85975.81  \n",
       "4         24140.67  "
      ]
     },
     "execution_count": 4,
     "metadata": {},
     "output_type": "execute_result"
    }
   ],
   "source": [
    "df.head()"
   ]
  },
  {
   "cell_type": "code",
   "execution_count": 5,
   "id": "29569e87-ad8c-478a-90f1-ab15c1e34346",
   "metadata": {},
   "outputs": [
    {
     "data": {
      "text/html": [
       "<div>\n",
       "<style scoped>\n",
       "    .dataframe tbody tr th:only-of-type {\n",
       "        vertical-align: middle;\n",
       "    }\n",
       "\n",
       "    .dataframe tbody tr th {\n",
       "        vertical-align: top;\n",
       "    }\n",
       "\n",
       "    .dataframe thead th {\n",
       "        text-align: right;\n",
       "    }\n",
       "</style>\n",
       "<table border=\"1\" class=\"dataframe\">\n",
       "  <thead>\n",
       "    <tr style=\"text-align: right;\">\n",
       "      <th></th>\n",
       "      <th>Date</th>\n",
       "      <th>Open</th>\n",
       "      <th>High</th>\n",
       "      <th>Low</th>\n",
       "      <th>Close</th>\n",
       "      <th>Shares Traded</th>\n",
       "      <th>Turnover (₹ Cr)</th>\n",
       "    </tr>\n",
       "  </thead>\n",
       "  <tbody>\n",
       "    <tr>\n",
       "      <th>0</th>\n",
       "      <td>19-NOV-2024</td>\n",
       "      <td>23529.55</td>\n",
       "      <td>23780.65</td>\n",
       "      <td>23464.80</td>\n",
       "      <td>23518.50</td>\n",
       "      <td>297477279</td>\n",
       "      <td>30486.78</td>\n",
       "    </tr>\n",
       "    <tr>\n",
       "      <th>1</th>\n",
       "      <td>21-NOV-2024</td>\n",
       "      <td>23488.45</td>\n",
       "      <td>23507.30</td>\n",
       "      <td>23263.15</td>\n",
       "      <td>23349.90</td>\n",
       "      <td>420332354</td>\n",
       "      <td>40900.89</td>\n",
       "    </tr>\n",
       "    <tr>\n",
       "      <th>2</th>\n",
       "      <td>22-NOV-2024</td>\n",
       "      <td>23411.80</td>\n",
       "      <td>23956.10</td>\n",
       "      <td>23359.00</td>\n",
       "      <td>23907.25</td>\n",
       "      <td>367562789</td>\n",
       "      <td>39257.52</td>\n",
       "    </tr>\n",
       "    <tr>\n",
       "      <th>3</th>\n",
       "      <td>25-NOV-2024</td>\n",
       "      <td>24253.55</td>\n",
       "      <td>24351.55</td>\n",
       "      <td>24135.45</td>\n",
       "      <td>24221.90</td>\n",
       "      <td>687172787</td>\n",
       "      <td>85975.81</td>\n",
       "    </tr>\n",
       "    <tr>\n",
       "      <th>4</th>\n",
       "      <td>26-NOV-2024</td>\n",
       "      <td>24343.30</td>\n",
       "      <td>24343.30</td>\n",
       "      <td>24125.40</td>\n",
       "      <td>24194.50</td>\n",
       "      <td>230691771</td>\n",
       "      <td>24140.67</td>\n",
       "    </tr>\n",
       "  </tbody>\n",
       "</table>\n",
       "</div>"
      ],
      "text/plain": [
       "         Date      Open      High       Low     Close   Shares Traded   \\\n",
       "0  19-NOV-2024  23529.55  23780.65  23464.80  23518.50       297477279   \n",
       "1  21-NOV-2024  23488.45  23507.30  23263.15  23349.90       420332354   \n",
       "2  22-NOV-2024  23411.80  23956.10  23359.00  23907.25       367562789   \n",
       "3  25-NOV-2024  24253.55  24351.55  24135.45  24221.90       687172787   \n",
       "4  26-NOV-2024  24343.30  24343.30  24125.40  24194.50       230691771   \n",
       "\n",
       "   Turnover (₹ Cr)  \n",
       "0         30486.78  \n",
       "1         40900.89  \n",
       "2         39257.52  \n",
       "3         85975.81  \n",
       "4         24140.67  "
      ]
     },
     "execution_count": 5,
     "metadata": {},
     "output_type": "execute_result"
    }
   ],
   "source": [
    "df.head()"
   ]
  },
  {
   "cell_type": "code",
   "execution_count": 6,
   "id": "a8faf117-1bc3-4bf5-b400-20a7198ec298",
   "metadata": {},
   "outputs": [
    {
     "data": {
      "text/plain": [
       "(65, 7)"
      ]
     },
     "execution_count": 6,
     "metadata": {},
     "output_type": "execute_result"
    }
   ],
   "source": [
    "df.shape"
   ]
  },
  {
   "cell_type": "code",
   "execution_count": 7,
   "id": "b0c7a528-5299-49c1-a6bd-502bd1a63c27",
   "metadata": {},
   "outputs": [
    {
     "name": "stdout",
     "output_type": "stream",
     "text": [
      "<class 'pandas.core.frame.DataFrame'>\n",
      "RangeIndex: 65 entries, 0 to 64\n",
      "Data columns (total 7 columns):\n",
      " #   Column           Non-Null Count  Dtype  \n",
      "---  ------           --------------  -----  \n",
      " 0   Date             65 non-null     object \n",
      " 1   Open             65 non-null     float64\n",
      " 2   High             65 non-null     float64\n",
      " 3   Low              65 non-null     float64\n",
      " 4   Close            65 non-null     float64\n",
      " 5   Shares Traded    65 non-null     int64  \n",
      " 6   Turnover (₹ Cr)  65 non-null     float64\n",
      "dtypes: float64(5), int64(1), object(1)\n",
      "memory usage: 3.7+ KB\n"
     ]
    }
   ],
   "source": [
    "df.info()"
   ]
  },
  {
   "cell_type": "code",
   "execution_count": 8,
   "id": "054a571a-369b-4c3d-a96c-7599dbd0b857",
   "metadata": {},
   "outputs": [
    {
     "data": {
      "text/plain": [
       "Date               0\n",
       "Open               0\n",
       "High               0\n",
       "Low                0\n",
       "Close              0\n",
       "Shares Traded      0\n",
       "Turnover (₹ Cr)    0\n",
       "dtype: int64"
      ]
     },
     "execution_count": 8,
     "metadata": {},
     "output_type": "execute_result"
    }
   ],
   "source": [
    "df.isnull().sum()"
   ]
  },
  {
   "cell_type": "code",
   "execution_count": 9,
   "id": "2db5265c-54a2-4e2e-9ea8-34f529c267b5",
   "metadata": {},
   "outputs": [
    {
     "data": {
      "text/html": [
       "<div>\n",
       "<style scoped>\n",
       "    .dataframe tbody tr th:only-of-type {\n",
       "        vertical-align: middle;\n",
       "    }\n",
       "\n",
       "    .dataframe tbody tr th {\n",
       "        vertical-align: top;\n",
       "    }\n",
       "\n",
       "    .dataframe thead th {\n",
       "        text-align: right;\n",
       "    }\n",
       "</style>\n",
       "<table border=\"1\" class=\"dataframe\">\n",
       "  <thead>\n",
       "    <tr style=\"text-align: right;\">\n",
       "      <th></th>\n",
       "      <th>Open</th>\n",
       "      <th>High</th>\n",
       "      <th>Low</th>\n",
       "      <th>Close</th>\n",
       "      <th>Shares Traded</th>\n",
       "      <th>Turnover (₹ Cr)</th>\n",
       "    </tr>\n",
       "  </thead>\n",
       "  <tbody>\n",
       "    <tr>\n",
       "      <th>count</th>\n",
       "      <td>65.000000</td>\n",
       "      <td>65.000000</td>\n",
       "      <td>65.000000</td>\n",
       "      <td>65.000000</td>\n",
       "      <td>6.500000e+01</td>\n",
       "      <td>65.000000</td>\n",
       "    </tr>\n",
       "    <tr>\n",
       "      <th>mean</th>\n",
       "      <td>23726.129231</td>\n",
       "      <td>23836.730000</td>\n",
       "      <td>23575.797692</td>\n",
       "      <td>23701.490000</td>\n",
       "      <td>2.860115e+08</td>\n",
       "      <td>28215.205385</td>\n",
       "    </tr>\n",
       "    <tr>\n",
       "      <th>std</th>\n",
       "      <td>537.829356</td>\n",
       "      <td>538.611395</td>\n",
       "      <td>536.997997</td>\n",
       "      <td>547.641412</td>\n",
       "      <td>7.985044e+07</td>\n",
       "      <td>9752.826232</td>\n",
       "    </tr>\n",
       "    <tr>\n",
       "      <th>min</th>\n",
       "      <td>22809.900000</td>\n",
       "      <td>22974.200000</td>\n",
       "      <td>22725.450000</td>\n",
       "      <td>22829.150000</td>\n",
       "      <td>1.549219e+08</td>\n",
       "      <td>14266.260000</td>\n",
       "    </tr>\n",
       "    <tr>\n",
       "      <th>25%</th>\n",
       "      <td>23290.400000</td>\n",
       "      <td>23381.600000</td>\n",
       "      <td>23139.200000</td>\n",
       "      <td>23213.200000</td>\n",
       "      <td>2.481393e+08</td>\n",
       "      <td>23315.920000</td>\n",
       "    </tr>\n",
       "    <tr>\n",
       "      <th>50%</th>\n",
       "      <td>23674.750000</td>\n",
       "      <td>23780.650000</td>\n",
       "      <td>23503.050000</td>\n",
       "      <td>23644.800000</td>\n",
       "      <td>2.729453e+08</td>\n",
       "      <td>26890.370000</td>\n",
       "    </tr>\n",
       "    <tr>\n",
       "      <th>75%</th>\n",
       "      <td>24196.400000</td>\n",
       "      <td>24301.700000</td>\n",
       "      <td>23976.000000</td>\n",
       "      <td>24188.650000</td>\n",
       "      <td>3.128719e+08</td>\n",
       "      <td>30885.590000</td>\n",
       "    </tr>\n",
       "    <tr>\n",
       "      <th>max</th>\n",
       "      <td>24753.400000</td>\n",
       "      <td>24857.750000</td>\n",
       "      <td>24620.500000</td>\n",
       "      <td>24768.300000</td>\n",
       "      <td>6.871728e+08</td>\n",
       "      <td>85975.810000</td>\n",
       "    </tr>\n",
       "  </tbody>\n",
       "</table>\n",
       "</div>"
      ],
      "text/plain": [
       "              Open          High           Low         Close   Shares Traded   \\\n",
       "count     65.000000     65.000000     65.000000     65.000000    6.500000e+01   \n",
       "mean   23726.129231  23836.730000  23575.797692  23701.490000    2.860115e+08   \n",
       "std      537.829356    538.611395    536.997997    547.641412    7.985044e+07   \n",
       "min    22809.900000  22974.200000  22725.450000  22829.150000    1.549219e+08   \n",
       "25%    23290.400000  23381.600000  23139.200000  23213.200000    2.481393e+08   \n",
       "50%    23674.750000  23780.650000  23503.050000  23644.800000    2.729453e+08   \n",
       "75%    24196.400000  24301.700000  23976.000000  24188.650000    3.128719e+08   \n",
       "max    24753.400000  24857.750000  24620.500000  24768.300000    6.871728e+08   \n",
       "\n",
       "       Turnover (₹ Cr)  \n",
       "count        65.000000  \n",
       "mean      28215.205385  \n",
       "std        9752.826232  \n",
       "min       14266.260000  \n",
       "25%       23315.920000  \n",
       "50%       26890.370000  \n",
       "75%       30885.590000  \n",
       "max       85975.810000  "
      ]
     },
     "execution_count": 9,
     "metadata": {},
     "output_type": "execute_result"
    }
   ],
   "source": [
    "df.describe()"
   ]
  },
  {
   "cell_type": "code",
   "execution_count": 10,
   "id": "44f26a72-e442-4b81-831a-59094fe69b24",
   "metadata": {},
   "outputs": [],
   "source": [
    "df = df.rename(columns={'Date ':'Date', 'Open ':'Open', 'High ':'High', 'Low ':'Low', 'Close ':'Close', 'Shares Traded ':'Shares Traded', 'Turnover (₹ Cr)' : 'Turnover(₹ Cr)'})"
   ]
  },
  {
   "cell_type": "markdown",
   "id": "9e9a1dde-d1d5-4177-bcbc-40491540a15b",
   "metadata": {},
   "source": [
    "<font size=\"4\" color='yellow'>Handling Date and Time</font>"
   ]
  },
  {
   "cell_type": "code",
   "execution_count": 11,
   "id": "db708154-7aa1-49c9-814d-148cf6630ada",
   "metadata": {},
   "outputs": [],
   "source": [
    "df[\"Date\"] = pd.to_datetime(df[\"Date\"], format=\"%d-%b-%Y\")"
   ]
  },
  {
   "cell_type": "code",
   "execution_count": 12,
   "id": "1dde3582-d2fb-4ba0-8581-8f54c55261b7",
   "metadata": {},
   "outputs": [],
   "source": [
    "df['Day'] = df['Date'].dt.day\n",
    "df['Month'] = df['Date'].dt.month\n",
    "df['Year'] = df['Date'].dt.year"
   ]
  },
  {
   "cell_type": "code",
   "execution_count": 13,
   "id": "ac3dd670-506e-41e0-84a9-dfcf2d7dd377",
   "metadata": {},
   "outputs": [
    {
     "data": {
      "text/plain": [
       "Index(['Date', 'Open', 'High', 'Low', 'Close', 'Shares Traded',\n",
       "       'Turnover(₹ Cr)', 'Day', 'Month', 'Year'],\n",
       "      dtype='object')"
      ]
     },
     "execution_count": 13,
     "metadata": {},
     "output_type": "execute_result"
    }
   ],
   "source": [
    "df.columns"
   ]
  },
  {
   "cell_type": "code",
   "execution_count": 14,
   "id": "cd7848a1-25b3-4bd3-9bf4-9e6a3c01d90d",
   "metadata": {},
   "outputs": [
    {
     "data": {
      "text/html": [
       "<div>\n",
       "<style scoped>\n",
       "    .dataframe tbody tr th:only-of-type {\n",
       "        vertical-align: middle;\n",
       "    }\n",
       "\n",
       "    .dataframe tbody tr th {\n",
       "        vertical-align: top;\n",
       "    }\n",
       "\n",
       "    .dataframe thead th {\n",
       "        text-align: right;\n",
       "    }\n",
       "</style>\n",
       "<table border=\"1\" class=\"dataframe\">\n",
       "  <thead>\n",
       "    <tr style=\"text-align: right;\">\n",
       "      <th></th>\n",
       "      <th>Date</th>\n",
       "      <th>Open</th>\n",
       "      <th>High</th>\n",
       "      <th>Low</th>\n",
       "      <th>Close</th>\n",
       "      <th>Shares Traded</th>\n",
       "      <th>Turnover(₹ Cr)</th>\n",
       "      <th>Day</th>\n",
       "      <th>Month</th>\n",
       "      <th>Year</th>\n",
       "    </tr>\n",
       "  </thead>\n",
       "  <tbody>\n",
       "    <tr>\n",
       "      <th>0</th>\n",
       "      <td>2024-11-19</td>\n",
       "      <td>23529.55</td>\n",
       "      <td>23780.65</td>\n",
       "      <td>23464.80</td>\n",
       "      <td>23518.50</td>\n",
       "      <td>297477279</td>\n",
       "      <td>30486.78</td>\n",
       "      <td>19</td>\n",
       "      <td>11</td>\n",
       "      <td>2024</td>\n",
       "    </tr>\n",
       "    <tr>\n",
       "      <th>1</th>\n",
       "      <td>2024-11-21</td>\n",
       "      <td>23488.45</td>\n",
       "      <td>23507.30</td>\n",
       "      <td>23263.15</td>\n",
       "      <td>23349.90</td>\n",
       "      <td>420332354</td>\n",
       "      <td>40900.89</td>\n",
       "      <td>21</td>\n",
       "      <td>11</td>\n",
       "      <td>2024</td>\n",
       "    </tr>\n",
       "    <tr>\n",
       "      <th>2</th>\n",
       "      <td>2024-11-22</td>\n",
       "      <td>23411.80</td>\n",
       "      <td>23956.10</td>\n",
       "      <td>23359.00</td>\n",
       "      <td>23907.25</td>\n",
       "      <td>367562789</td>\n",
       "      <td>39257.52</td>\n",
       "      <td>22</td>\n",
       "      <td>11</td>\n",
       "      <td>2024</td>\n",
       "    </tr>\n",
       "    <tr>\n",
       "      <th>3</th>\n",
       "      <td>2024-11-25</td>\n",
       "      <td>24253.55</td>\n",
       "      <td>24351.55</td>\n",
       "      <td>24135.45</td>\n",
       "      <td>24221.90</td>\n",
       "      <td>687172787</td>\n",
       "      <td>85975.81</td>\n",
       "      <td>25</td>\n",
       "      <td>11</td>\n",
       "      <td>2024</td>\n",
       "    </tr>\n",
       "    <tr>\n",
       "      <th>4</th>\n",
       "      <td>2024-11-26</td>\n",
       "      <td>24343.30</td>\n",
       "      <td>24343.30</td>\n",
       "      <td>24125.40</td>\n",
       "      <td>24194.50</td>\n",
       "      <td>230691771</td>\n",
       "      <td>24140.67</td>\n",
       "      <td>26</td>\n",
       "      <td>11</td>\n",
       "      <td>2024</td>\n",
       "    </tr>\n",
       "  </tbody>\n",
       "</table>\n",
       "</div>"
      ],
      "text/plain": [
       "        Date      Open      High       Low     Close  Shares Traded  \\\n",
       "0 2024-11-19  23529.55  23780.65  23464.80  23518.50      297477279   \n",
       "1 2024-11-21  23488.45  23507.30  23263.15  23349.90      420332354   \n",
       "2 2024-11-22  23411.80  23956.10  23359.00  23907.25      367562789   \n",
       "3 2024-11-25  24253.55  24351.55  24135.45  24221.90      687172787   \n",
       "4 2024-11-26  24343.30  24343.30  24125.40  24194.50      230691771   \n",
       "\n",
       "   Turnover(₹ Cr)  Day  Month  Year  \n",
       "0        30486.78   19     11  2024  \n",
       "1        40900.89   21     11  2024  \n",
       "2        39257.52   22     11  2024  \n",
       "3        85975.81   25     11  2024  \n",
       "4        24140.67   26     11  2024  "
      ]
     },
     "execution_count": 14,
     "metadata": {},
     "output_type": "execute_result"
    }
   ],
   "source": [
    "df.head()"
   ]
  },
  {
   "cell_type": "code",
   "execution_count": 15,
   "id": "d484246e-9937-4a8d-b558-7e1ee0266fe1",
   "metadata": {},
   "outputs": [],
   "source": [
    "df.drop('Date', axis=1, inplace=True)"
   ]
  },
  {
   "cell_type": "code",
   "execution_count": 16,
   "id": "4e552fec-66ab-46a0-96f7-a57652d54c28",
   "metadata": {},
   "outputs": [
    {
     "data": {
      "text/html": [
       "<div>\n",
       "<style scoped>\n",
       "    .dataframe tbody tr th:only-of-type {\n",
       "        vertical-align: middle;\n",
       "    }\n",
       "\n",
       "    .dataframe tbody tr th {\n",
       "        vertical-align: top;\n",
       "    }\n",
       "\n",
       "    .dataframe thead th {\n",
       "        text-align: right;\n",
       "    }\n",
       "</style>\n",
       "<table border=\"1\" class=\"dataframe\">\n",
       "  <thead>\n",
       "    <tr style=\"text-align: right;\">\n",
       "      <th></th>\n",
       "      <th>Open</th>\n",
       "      <th>High</th>\n",
       "      <th>Low</th>\n",
       "      <th>Close</th>\n",
       "      <th>Shares Traded</th>\n",
       "      <th>Turnover(₹ Cr)</th>\n",
       "      <th>Day</th>\n",
       "      <th>Month</th>\n",
       "      <th>Year</th>\n",
       "    </tr>\n",
       "  </thead>\n",
       "  <tbody>\n",
       "    <tr>\n",
       "      <th>0</th>\n",
       "      <td>23529.55</td>\n",
       "      <td>23780.65</td>\n",
       "      <td>23464.80</td>\n",
       "      <td>23518.5</td>\n",
       "      <td>297477279</td>\n",
       "      <td>30486.78</td>\n",
       "      <td>19</td>\n",
       "      <td>11</td>\n",
       "      <td>2024</td>\n",
       "    </tr>\n",
       "    <tr>\n",
       "      <th>1</th>\n",
       "      <td>23488.45</td>\n",
       "      <td>23507.30</td>\n",
       "      <td>23263.15</td>\n",
       "      <td>23349.9</td>\n",
       "      <td>420332354</td>\n",
       "      <td>40900.89</td>\n",
       "      <td>21</td>\n",
       "      <td>11</td>\n",
       "      <td>2024</td>\n",
       "    </tr>\n",
       "  </tbody>\n",
       "</table>\n",
       "</div>"
      ],
      "text/plain": [
       "       Open      High       Low    Close  Shares Traded  Turnover(₹ Cr)  Day  \\\n",
       "0  23529.55  23780.65  23464.80  23518.5      297477279        30486.78   19   \n",
       "1  23488.45  23507.30  23263.15  23349.9      420332354        40900.89   21   \n",
       "\n",
       "   Month  Year  \n",
       "0     11  2024  \n",
       "1     11  2024  "
      ]
     },
     "execution_count": 16,
     "metadata": {},
     "output_type": "execute_result"
    }
   ],
   "source": [
    "df.head(2)"
   ]
  },
  {
   "cell_type": "code",
   "execution_count": 17,
   "id": "9eafd0c6-e1ad-42b2-b1ef-5d1c79cee8bc",
   "metadata": {},
   "outputs": [
    {
     "data": {
      "text/plain": [
       "Open              0\n",
       "High              0\n",
       "Low               0\n",
       "Close             0\n",
       "Shares Traded     0\n",
       "Turnover(₹ Cr)    0\n",
       "Day               0\n",
       "Month             0\n",
       "Year              0\n",
       "dtype: int64"
      ]
     },
     "execution_count": 17,
     "metadata": {},
     "output_type": "execute_result"
    }
   ],
   "source": [
    "df.isnull().sum()"
   ]
  },
  {
   "cell_type": "code",
   "execution_count": 18,
   "id": "603e0840-bd2e-49c8-b2f2-b66fd7ca90da",
   "metadata": {},
   "outputs": [
    {
     "name": "stdout",
     "output_type": "stream",
     "text": [
      "<class 'pandas.core.frame.DataFrame'>\n",
      "RangeIndex: 65 entries, 0 to 64\n",
      "Data columns (total 9 columns):\n",
      " #   Column          Non-Null Count  Dtype  \n",
      "---  ------          --------------  -----  \n",
      " 0   Open            65 non-null     float64\n",
      " 1   High            65 non-null     float64\n",
      " 2   Low             65 non-null     float64\n",
      " 3   Close           65 non-null     float64\n",
      " 4   Shares Traded   65 non-null     int64  \n",
      " 5   Turnover(₹ Cr)  65 non-null     float64\n",
      " 6   Day             65 non-null     int32  \n",
      " 7   Month           65 non-null     int32  \n",
      " 8   Year            65 non-null     int32  \n",
      "dtypes: float64(5), int32(3), int64(1)\n",
      "memory usage: 3.9 KB\n"
     ]
    }
   ],
   "source": [
    "df.info()"
   ]
  },
  {
   "cell_type": "markdown",
   "id": "8274d6c6-9e80-49b4-8f26-d8a6d9e7d672",
   "metadata": {},
   "source": [
    "<font size=\"6\" color='pink'>Visualization</font>"
   ]
  },
  {
   "cell_type": "markdown",
   "id": "90b055d0-53ba-496d-a5e9-5419baa2ee26",
   "metadata": {},
   "source": [
    "<font size=\"4\" color='yellow'>HeatMap</font>"
   ]
  },
  {
   "cell_type": "code",
   "execution_count": 19,
   "id": "5c45170f-0742-4c28-a13e-493615832c8e",
   "metadata": {},
   "outputs": [
    {
     "data": {
      "text/html": [
       "<div>\n",
       "<style scoped>\n",
       "    .dataframe tbody tr th:only-of-type {\n",
       "        vertical-align: middle;\n",
       "    }\n",
       "\n",
       "    .dataframe tbody tr th {\n",
       "        vertical-align: top;\n",
       "    }\n",
       "\n",
       "    .dataframe thead th {\n",
       "        text-align: right;\n",
       "    }\n",
       "</style>\n",
       "<table border=\"1\" class=\"dataframe\">\n",
       "  <thead>\n",
       "    <tr style=\"text-align: right;\">\n",
       "      <th></th>\n",
       "      <th>Open</th>\n",
       "      <th>High</th>\n",
       "      <th>Low</th>\n",
       "      <th>Close</th>\n",
       "      <th>Shares Traded</th>\n",
       "      <th>Turnover(₹ Cr)</th>\n",
       "      <th>Day</th>\n",
       "      <th>Month</th>\n",
       "      <th>Year</th>\n",
       "    </tr>\n",
       "  </thead>\n",
       "  <tbody>\n",
       "    <tr>\n",
       "      <th>Open</th>\n",
       "      <td>1.000000</td>\n",
       "      <td>0.981552</td>\n",
       "      <td>0.978097</td>\n",
       "      <td>0.952034</td>\n",
       "      <td>0.017643</td>\n",
       "      <td>0.151859</td>\n",
       "      <td>-0.268100</td>\n",
       "      <td>0.733698</td>\n",
       "      <td>-0.728766</td>\n",
       "    </tr>\n",
       "    <tr>\n",
       "      <th>High</th>\n",
       "      <td>0.981552</td>\n",
       "      <td>1.000000</td>\n",
       "      <td>0.974685</td>\n",
       "      <td>0.979971</td>\n",
       "      <td>0.047049</td>\n",
       "      <td>0.185937</td>\n",
       "      <td>-0.246611</td>\n",
       "      <td>0.758629</td>\n",
       "      <td>-0.757202</td>\n",
       "    </tr>\n",
       "    <tr>\n",
       "      <th>Low</th>\n",
       "      <td>0.978097</td>\n",
       "      <td>0.974685</td>\n",
       "      <td>1.000000</td>\n",
       "      <td>0.976202</td>\n",
       "      <td>-0.018917</td>\n",
       "      <td>0.122769</td>\n",
       "      <td>-0.237830</td>\n",
       "      <td>0.749751</td>\n",
       "      <td>-0.746887</td>\n",
       "    </tr>\n",
       "    <tr>\n",
       "      <th>Close</th>\n",
       "      <td>0.952034</td>\n",
       "      <td>0.979971</td>\n",
       "      <td>0.976202</td>\n",
       "      <td>1.000000</td>\n",
       "      <td>0.006217</td>\n",
       "      <td>0.147186</td>\n",
       "      <td>-0.261227</td>\n",
       "      <td>0.744456</td>\n",
       "      <td>-0.741556</td>\n",
       "    </tr>\n",
       "    <tr>\n",
       "      <th>Shares Traded</th>\n",
       "      <td>0.017643</td>\n",
       "      <td>0.047049</td>\n",
       "      <td>-0.018917</td>\n",
       "      <td>0.006217</td>\n",
       "      <td>1.000000</td>\n",
       "      <td>0.960216</td>\n",
       "      <td>0.082519</td>\n",
       "      <td>0.016010</td>\n",
       "      <td>-0.040429</td>\n",
       "    </tr>\n",
       "    <tr>\n",
       "      <th>Turnover(₹ Cr)</th>\n",
       "      <td>0.151859</td>\n",
       "      <td>0.185937</td>\n",
       "      <td>0.122769</td>\n",
       "      <td>0.147186</td>\n",
       "      <td>0.960216</td>\n",
       "      <td>1.000000</td>\n",
       "      <td>0.090227</td>\n",
       "      <td>0.156507</td>\n",
       "      <td>-0.183596</td>\n",
       "    </tr>\n",
       "    <tr>\n",
       "      <th>Day</th>\n",
       "      <td>-0.268100</td>\n",
       "      <td>-0.246611</td>\n",
       "      <td>-0.237830</td>\n",
       "      <td>-0.261227</td>\n",
       "      <td>0.082519</td>\n",
       "      <td>0.090227</td>\n",
       "      <td>1.000000</td>\n",
       "      <td>0.196271</td>\n",
       "      <td>-0.234045</td>\n",
       "    </tr>\n",
       "    <tr>\n",
       "      <th>Month</th>\n",
       "      <td>0.733698</td>\n",
       "      <td>0.758629</td>\n",
       "      <td>0.749751</td>\n",
       "      <td>0.744456</td>\n",
       "      <td>0.016010</td>\n",
       "      <td>0.156507</td>\n",
       "      <td>0.196271</td>\n",
       "      <td>1.000000</td>\n",
       "      <td>-0.995938</td>\n",
       "    </tr>\n",
       "    <tr>\n",
       "      <th>Year</th>\n",
       "      <td>-0.728766</td>\n",
       "      <td>-0.757202</td>\n",
       "      <td>-0.746887</td>\n",
       "      <td>-0.741556</td>\n",
       "      <td>-0.040429</td>\n",
       "      <td>-0.183596</td>\n",
       "      <td>-0.234045</td>\n",
       "      <td>-0.995938</td>\n",
       "      <td>1.000000</td>\n",
       "    </tr>\n",
       "  </tbody>\n",
       "</table>\n",
       "</div>"
      ],
      "text/plain": [
       "                    Open      High       Low     Close  Shares Traded  \\\n",
       "Open            1.000000  0.981552  0.978097  0.952034       0.017643   \n",
       "High            0.981552  1.000000  0.974685  0.979971       0.047049   \n",
       "Low             0.978097  0.974685  1.000000  0.976202      -0.018917   \n",
       "Close           0.952034  0.979971  0.976202  1.000000       0.006217   \n",
       "Shares Traded   0.017643  0.047049 -0.018917  0.006217       1.000000   \n",
       "Turnover(₹ Cr)  0.151859  0.185937  0.122769  0.147186       0.960216   \n",
       "Day            -0.268100 -0.246611 -0.237830 -0.261227       0.082519   \n",
       "Month           0.733698  0.758629  0.749751  0.744456       0.016010   \n",
       "Year           -0.728766 -0.757202 -0.746887 -0.741556      -0.040429   \n",
       "\n",
       "                Turnover(₹ Cr)       Day     Month      Year  \n",
       "Open                  0.151859 -0.268100  0.733698 -0.728766  \n",
       "High                  0.185937 -0.246611  0.758629 -0.757202  \n",
       "Low                   0.122769 -0.237830  0.749751 -0.746887  \n",
       "Close                 0.147186 -0.261227  0.744456 -0.741556  \n",
       "Shares Traded         0.960216  0.082519  0.016010 -0.040429  \n",
       "Turnover(₹ Cr)        1.000000  0.090227  0.156507 -0.183596  \n",
       "Day                   0.090227  1.000000  0.196271 -0.234045  \n",
       "Month                 0.156507  0.196271  1.000000 -0.995938  \n",
       "Year                 -0.183596 -0.234045 -0.995938  1.000000  "
      ]
     },
     "execution_count": 19,
     "metadata": {},
     "output_type": "execute_result"
    }
   ],
   "source": [
    "# correlation matrix\n",
    "corr_matrix = df.corr()\n",
    "corr_matrix"
   ]
  },
  {
   "cell_type": "code",
   "execution_count": 20,
   "id": "ccb47f76-e535-4102-99a1-b790e47a5491",
   "metadata": {},
   "outputs": [
    {
     "data": {
      "image/png": "[encoded data removed]",
      "text/plain": [
       "<Figure size 1000x600 with 2 Axes>"
      ]
     },
     "metadata": {},
     "output_type": "display_data"
    }
   ],
   "source": [
    "plt.figure(figsize=(10,6))\n",
    "sns.heatmap(corr_matrix, cmap='coolwarm', annot=True, fmt='.2f')\n",
    "plt.title(\"Correlation Matrix HeatMap\")\n",
    "plt.show()"
   ]
  },
  {
   "cell_type": "markdown",
   "id": "442dc58a-c174-49da-86ee-f2058bc816e4",
   "metadata": {},
   "source": [
    "<font size=\"4\" color='yellow'>Scatter Charts</font>"
   ]
  },
  {
   "cell_type": "code",
   "execution_count": 21,
   "id": "dcb27e95-cc03-4fc9-9815-4a07e485f92d",
   "metadata": {},
   "outputs": [
    {
     "data": {
      "image/png": "[encoded data removed]",
      "text/plain": [
       "<Figure size 600x400 with 1 Axes>"
      ]
     },
     "metadata": {},
     "output_type": "display_data"
    },
    {
     "data": {
      "image/png": "[encoded data removed]",
      "text/plain": [
       "<Figure size 600x400 with 1 Axes>"
      ]
     },
     "metadata": {},
     "output_type": "display_data"
    },
    {
     "data": {
      "image/png": "[encoded data removed]",
      "text/plain": [
       "<Figure size 600x400 with 1 Axes>"
      ]
     },
     "metadata": {},
     "output_type": "display_data"
    },
    {
     "data": {
      "image/png": "[encoded data removed]",
      "text/plain": [
       "<Figure size 600x400 with 1 Axes>"
      ]
     },
     "metadata": {},
     "output_type": "display_data"
    },
    {
     "data": {
      "image/png": "[encoded data removed]",
      "text/plain": [
       "<Figure size 600x400 with 1 Axes>"
      ]
     },
     "metadata": {},
     "output_type": "display_data"
    }
   ],
   "source": [
    "features = [\"Open\", \"High\", \"Low\", \"Shares Traded\", \"Turnover(₹ Cr)\"]\n",
    "for feature in features:\n",
    "    plt.figure(figsize=(6, 4))\n",
    "    sns.scatterplot(x=df[feature], y=df[\"Close\"])\n",
    "    plt.title(f\"Scatter Plot of {feature} vs Close\")\n",
    "    plt.show()"
   ]
  },
  {
   "cell_type": "markdown",
   "id": "de227535-127e-4570-a530-29ce5cd349ed",
   "metadata": {},
   "source": [
    "<font size=\"6\" color='pink'>Data Splitting</font>"
   ]
  },
  {
   "cell_type": "code",
   "execution_count": 22,
   "id": "37fd7e7f-9b16-4cac-95ed-e7d07b99e4a4",
   "metadata": {},
   "outputs": [
    {
     "data": {
      "text/plain": [
       "Index(['Open', 'High', 'Low', 'Close', 'Shares Traded', 'Turnover(₹ Cr)',\n",
       "       'Day', 'Month', 'Year'],\n",
       "      dtype='object')"
      ]
     },
     "execution_count": 22,
     "metadata": {},
     "output_type": "execute_result"
    }
   ],
   "source": [
    "df.columns"
   ]
  },
  {
   "cell_type": "code",
   "execution_count": 23,
   "id": "48c5fb5d-a21d-44a6-92b9-1ea183f13e25",
   "metadata": {},
   "outputs": [],
   "source": [
    "y = df['Close']\n",
    "df.drop('Close', axis=1, inplace=True)\n",
    "X= df"
   ]
  },
  {
   "cell_type": "code",
   "execution_count": 24,
   "id": "5d60463d-63f6-46fe-8dfe-d0e2e3553c02",
   "metadata": {},
   "outputs": [],
   "source": [
    "X_train, X_test, y_train, y_test = train_test_split(X, y, test_size=0.2, random_state=42)"
   ]
  },
  {
   "cell_type": "code",
   "execution_count": 25,
   "id": "c05fe27a-b971-4a64-85be-1b61cfe9367f",
   "metadata": {},
   "outputs": [
    {
     "name": "stdout",
     "output_type": "stream",
     "text": [
      "Length of X_train is 52\n",
      "Length of X_test is 13\n",
      "Length of y_train is 52\n",
      "Length of y_test is 13\n"
     ]
    }
   ],
   "source": [
    "print(f\"Length of X_train is {len(X_train)}\")\n",
    "print(f\"Length of X_test is {len(X_test)}\")\n",
    "print(f\"Length of y_train is {len(y_train)}\")\n",
    "print(f\"Length of y_test is {len(y_test)}\")"
   ]
  },
  {
   "cell_type": "markdown",
   "id": "46ffe4af-0e67-4f91-8351-c7b025fcd39a",
   "metadata": {},
   "source": [
    "<font size=\"6\" color='pink'>Model Training</font>"
   ]
  },
  {
   "cell_type": "code",
   "execution_count": 26,
   "id": "33814aed-0600-452d-8f12-65feca4df2f0",
   "metadata": {},
   "outputs": [
    {
     "data": {
      "text/html": [
       "<style>#sk-container-id-1 {\n",
       "  /* Definition of color scheme common for light and dark mode */\n",
       "  --sklearn-color-text: #000;\n",
       "  --sklearn-color-text-muted: #666;\n",
       "  --sklearn-color-line: gray;\n",
       "  /* Definition of color scheme for unfitted estimators */\n",
       "  --sklearn-color-unfitted-level-0: #fff5e6;\n",
       "  --sklearn-color-unfitted-level-1: #f6e4d2;\n",
       "  --sklearn-color-unfitted-level-2: #ffe0b3;\n",
       "  --sklearn-color-unfitted-level-3: chocolate;\n",
       "  /* Definition of color scheme for fitted estimators */\n",
       "  --sklearn-color-fitted-level-0: #f0f8ff;\n",
       "  --sklearn-color-fitted-level-1: #d4ebff;\n",
       "  --sklearn-color-fitted-level-2: #b3dbfd;\n",
       "  --sklearn-color-fitted-level-3: cornflowerblue;\n",
       "\n",
       "  /* Specific color for light theme */\n",
       "  --sklearn-color-text-on-default-background: var(--sg-text-color, var(--theme-code-foreground, var(--jp-content-font-color1, black)));\n",
       "  --sklearn-color-background: var(--sg-background-color, var(--theme-background, var(--jp-layout-color0, white)));\n",
       "  --sklearn-color-border-box: var(--sg-text-color, var(--theme-code-foreground, var(--jp-content-font-color1, black)));\n",
       "  --sklearn-color-icon: #696969;\n",
       "\n",
       "  @media (prefers-color-scheme: dark) {\n",
       "    /* Redefinition of color scheme for dark theme */\n",
       "    --sklearn-color-text-on-default-background: var(--sg-text-color, var(--theme-code-foreground, var(--jp-content-font-color1, white)));\n",
       "    --sklearn-color-background: var(--sg-background-color, var(--theme-background, var(--jp-layout-color0, #111)));\n",
       "    --sklearn-color-border-box: var(--sg-text-color, var(--theme-code-foreground, var(--jp-content-font-color1, white)));\n",
       "    --sklearn-color-icon: #878787;\n",
       "  }\n",
       "}\n",
       "\n",
       "#sk-container-id-1 {\n",
       "  color: var(--sklearn-color-text);\n",
       "}\n",
       "\n",
       "#sk-container-id-1 pre {\n",
       "  padding: 0;\n",
       "}\n",
       "\n",
       "#sk-container-id-1 input.sk-hidden--visually {\n",
       "  border: 0;\n",
       "  clip: rect(1px 1px 1px 1px);\n",
       "  clip: rect(1px, 1px, 1px, 1px);\n",
       "  height: 1px;\n",
       "  margin: -1px;\n",
       "  overflow: hidden;\n",
       "  padding: 0;\n",
       "  position: absolute;\n",
       "  width: 1px;\n",
       "}\n",
       "\n",
       "#sk-container-id-1 div.sk-dashed-wrapped {\n",
       "  border: 1px dashed var(--sklearn-color-line);\n",
       "  margin: 0 0.4em 0.5em 0.4em;\n",
       "  box-sizing: border-box;\n",
       "  padding-bottom: 0.4em;\n",
       "  background-color: var(--sklearn-color-background);\n",
       "}\n",
       "\n",
       "#sk-container-id-1 div.sk-container {\n",
       "  /* jupyter's `normalize.less` sets `[hidden] { display: none; }`\n",
       "     but bootstrap.min.css set `[hidden] { display: none !important; }`\n",
       "     so we also need the `!important` here to be able to override the\n",
       "     default hidden behavior on the sphinx rendered scikit-learn.org.\n",
       "     See: https://github.com/scikit-learn/scikit-learn/issues/21755 */\n",
       "  display: inline-block !important;\n",
       "  position: relative;\n",
       "}\n",
       "\n",
       "#sk-container-id-1 div.sk-text-repr-fallback {\n",
       "  display: none;\n",
       "}\n",
       "\n",
       "div.sk-parallel-item,\n",
       "div.sk-serial,\n",
       "div.sk-item {\n",
       "  /* draw centered vertical line to link estimators */\n",
       "  background-image: linear-gradient(var(--sklearn-color-text-on-default-background), var(--sklearn-color-text-on-default-background));\n",
       "  background-size: 2px 100%;\n",
       "  background-repeat: no-repeat;\n",
       "  background-position: center center;\n",
       "}\n",
       "\n",
       "/* Parallel-specific style estimator block */\n",
       "\n",
       "#sk-container-id-1 div.sk-parallel-item::after {\n",
       "  content: \"\";\n",
       "  width: 100%;\n",
       "  border-bottom: 2px solid var(--sklearn-color-text-on-default-background);\n",
       "  flex-grow: 1;\n",
       "}\n",
       "\n",
       "#sk-container-id-1 div.sk-parallel {\n",
       "  display: flex;\n",
       "  align-items: stretch;\n",
       "  justify-content: center;\n",
       "  background-color: var(--sklearn-color-background);\n",
       "  position: relative;\n",
       "}\n",
       "\n",
       "#sk-container-id-1 div.sk-parallel-item {\n",
       "  display: flex;\n",
       "  flex-direction: column;\n",
       "}\n",
       "\n",
       "#sk-container-id-1 div.sk-parallel-item:first-child::after {\n",
       "  align-self: flex-end;\n",
       "  width: 50%;\n",
       "}\n",
       "\n",
       "#sk-container-id-1 div.sk-parallel-item:last-child::after {\n",
       "  align-self: flex-start;\n",
       "  width: 50%;\n",
       "}\n",
       "\n",
       "#sk-container-id-1 div.sk-parallel-item:only-child::after {\n",
       "  width: 0;\n",
       "}\n",
       "\n",
       "/* Serial-specific style estimator block */\n",
       "\n",
       "#sk-container-id-1 div.sk-serial {\n",
       "  display: flex;\n",
       "  flex-direction: column;\n",
       "  align-items: center;\n",
       "  background-color: var(--sklearn-color-background);\n",
       "  padding-right: 1em;\n",
       "  padding-left: 1em;\n",
       "}\n",
       "\n",
       "\n",
       "/* Toggleable style: style used for estimator/Pipeline/ColumnTransformer box that is\n",
       "clickable and can be expanded/collapsed.\n",
       "- Pipeline and ColumnTransformer use this feature and define the default style\n",
       "- Estimators will overwrite some part of the style using the `sk-estimator` class\n",
       "*/\n",
       "\n",
       "/* Pipeline and ColumnTransformer style (default) */\n",
       "\n",
       "#sk-container-id-1 div.sk-toggleable {\n",
       "  /* Default theme specific background. It is overwritten whether we have a\n",
       "  specific estimator or a Pipeline/ColumnTransformer */\n",
       "  background-color: var(--sklearn-color-background);\n",
       "}\n",
       "\n",
       "/* Toggleable label */\n",
       "#sk-container-id-1 label.sk-toggleable__label {\n",
       "  cursor: pointer;\n",
       "  display: flex;\n",
       "  width: 100%;\n",
       "  margin-bottom: 0;\n",
       "  padding: 0.5em;\n",
       "  box-sizing: border-box;\n",
       "  text-align: center;\n",
       "  align-items: start;\n",
       "  justify-content: space-between;\n",
       "  gap: 0.5em;\n",
       "}\n",
       "\n",
       "#sk-container-id-1 label.sk-toggleable__label .caption {\n",
       "  font-size: 0.6rem;\n",
       "  font-weight: lighter;\n",
       "  color: var(--sklearn-color-text-muted);\n",
       "}\n",
       "\n",
       "#sk-container-id-1 label.sk-toggleable__label-arrow:before {\n",
       "  /* Arrow on the left of the label */\n",
       "  content: \"▸\";\n",
       "  float: left;\n",
       "  margin-right: 0.25em;\n",
       "  color: var(--sklearn-color-icon);\n",
       "}\n",
       "\n",
       "#sk-container-id-1 label.sk-toggleable__label-arrow:hover:before {\n",
       "  color: var(--sklearn-color-text);\n",
       "}\n",
       "\n",
       "/* Toggleable content - dropdown */\n",
       "\n",
       "#sk-container-id-1 div.sk-toggleable__content {\n",
       "  max-height: 0;\n",
       "  max-width: 0;\n",
       "  overflow: hidden;\n",
       "  text-align: left;\n",
       "  /* unfitted */\n",
       "  background-color: var(--sklearn-color-unfitted-level-0);\n",
       "}\n",
       "\n",
       "#sk-container-id-1 div.sk-toggleable__content.fitted {\n",
       "  /* fitted */\n",
       "  background-color: var(--sklearn-color-fitted-level-0);\n",
       "}\n",
       "\n",
       "#sk-container-id-1 div.sk-toggleable__content pre {\n",
       "  margin: 0.2em;\n",
       "  border-radius: 0.25em;\n",
       "  color: var(--sklearn-color-text);\n",
       "  /* unfitted */\n",
       "  background-color: var(--sklearn-color-unfitted-level-0);\n",
       "}\n",
       "\n",
       "#sk-container-id-1 div.sk-toggleable__content.fitted pre {\n",
       "  /* unfitted */\n",
       "  background-color: var(--sklearn-color-fitted-level-0);\n",
       "}\n",
       "\n",
       "#sk-container-id-1 input.sk-toggleable__control:checked~div.sk-toggleable__content {\n",
       "  /* Expand drop-down */\n",
       "  max-height: 200px;\n",
       "  max-width: 100%;\n",
       "  overflow: auto;\n",
       "}\n",
       "\n",
       "#sk-container-id-1 input.sk-toggleable__control:checked~label.sk-toggleable__label-arrow:before {\n",
       "  content: \"▾\";\n",
       "}\n",
       "\n",
       "/* Pipeline/ColumnTransformer-specific style */\n",
       "\n",
       "#sk-container-id-1 div.sk-label input.sk-toggleable__control:checked~label.sk-toggleable__label {\n",
       "  color: var(--sklearn-color-text);\n",
       "  background-color: var(--sklearn-color-unfitted-level-2);\n",
       "}\n",
       "\n",
       "#sk-container-id-1 div.sk-label.fitted input.sk-toggleable__control:checked~label.sk-toggleable__label {\n",
       "  background-color: var(--sklearn-color-fitted-level-2);\n",
       "}\n",
       "\n",
       "/* Estimator-specific style */\n",
       "\n",
       "/* Colorize estimator box */\n",
       "#sk-container-id-1 div.sk-estimator input.sk-toggleable__control:checked~label.sk-toggleable__label {\n",
       "  /* unfitted */\n",
       "  background-color: var(--sklearn-color-unfitted-level-2);\n",
       "}\n",
       "\n",
       "#sk-container-id-1 div.sk-estimator.fitted input.sk-toggleable__control:checked~label.sk-toggleable__label {\n",
       "  /* fitted */\n",
       "  background-color: var(--sklearn-color-fitted-level-2);\n",
       "}\n",
       "\n",
       "#sk-container-id-1 div.sk-label label.sk-toggleable__label,\n",
       "#sk-container-id-1 div.sk-label label {\n",
       "  /* The background is the default theme color */\n",
       "  color: var(--sklearn-color-text-on-default-background);\n",
       "}\n",
       "\n",
       "/* On hover, darken the color of the background */\n",
       "#sk-container-id-1 div.sk-label:hover label.sk-toggleable__label {\n",
       "  color: var(--sklearn-color-text);\n",
       "  background-color: var(--sklearn-color-unfitted-level-2);\n",
       "}\n",
       "\n",
       "/* Label box, darken color on hover, fitted */\n",
       "#sk-container-id-1 div.sk-label.fitted:hover label.sk-toggleable__label.fitted {\n",
       "  color: var(--sklearn-color-text);\n",
       "  background-color: var(--sklearn-color-fitted-level-2);\n",
       "}\n",
       "\n",
       "/* Estimator label */\n",
       "\n",
       "#sk-container-id-1 div.sk-label label {\n",
       "  font-family: monospace;\n",
       "  font-weight: bold;\n",
       "  display: inline-block;\n",
       "  line-height: 1.2em;\n",
       "}\n",
       "\n",
       "#sk-container-id-1 div.sk-label-container {\n",
       "  text-align: center;\n",
       "}\n",
       "\n",
       "/* Estimator-specific */\n",
       "#sk-container-id-1 div.sk-estimator {\n",
       "  font-family: monospace;\n",
       "  border: 1px dotted var(--sklearn-color-border-box);\n",
       "  border-radius: 0.25em;\n",
       "  box-sizing: border-box;\n",
       "  margin-bottom: 0.5em;\n",
       "  /* unfitted */\n",
       "  background-color: var(--sklearn-color-unfitted-level-0);\n",
       "}\n",
       "\n",
       "#sk-container-id-1 div.sk-estimator.fitted {\n",
       "  /* fitted */\n",
       "  background-color: var(--sklearn-color-fitted-level-0);\n",
       "}\n",
       "\n",
       "/* on hover */\n",
       "#sk-container-id-1 div.sk-estimator:hover {\n",
       "  /* unfitted */\n",
       "  background-color: var(--sklearn-color-unfitted-level-2);\n",
       "}\n",
       "\n",
       "#sk-container-id-1 div.sk-estimator.fitted:hover {\n",
       "  /* fitted */\n",
       "  background-color: var(--sklearn-color-fitted-level-2);\n",
       "}\n",
       "\n",
       "/* Specification for estimator info (e.g. \"i\" and \"?\") */\n",
       "\n",
       "/* Common style for \"i\" and \"?\" */\n",
       "\n",
       ".sk-estimator-doc-link,\n",
       "a:link.sk-estimator-doc-link,\n",
       "a:visited.sk-estimator-doc-link {\n",
       "  float: right;\n",
       "  font-size: smaller;\n",
       "  line-height: 1em;\n",
       "  font-family: monospace;\n",
       "  background-color: var(--sklearn-color-background);\n",
       "  border-radius: 1em;\n",
       "  height: 1em;\n",
       "  width: 1em;\n",
       "  text-decoration: none !important;\n",
       "  margin-left: 0.5em;\n",
       "  text-align: center;\n",
       "  /* unfitted */\n",
       "  border: var(--sklearn-color-unfitted-level-1) 1pt solid;\n",
       "  color: var(--sklearn-color-unfitted-level-1);\n",
       "}\n",
       "\n",
       ".sk-estimator-doc-link.fitted,\n",
       "a:link.sk-estimator-doc-link.fitted,\n",
       "a:visited.sk-estimator-doc-link.fitted {\n",
       "  /* fitted */\n",
       "  border: var(--sklearn-color-fitted-level-1) 1pt solid;\n",
       "  color: var(--sklearn-color-fitted-level-1);\n",
       "}\n",
       "\n",
       "/* On hover */\n",
       "div.sk-estimator:hover .sk-estimator-doc-link:hover,\n",
       ".sk-estimator-doc-link:hover,\n",
       "div.sk-label-container:hover .sk-estimator-doc-link:hover,\n",
       ".sk-estimator-doc-link:hover {\n",
       "  /* unfitted */\n",
       "  background-color: var(--sklearn-color-unfitted-level-3);\n",
       "  color: var(--sklearn-color-background);\n",
       "  text-decoration: none;\n",
       "}\n",
       "\n",
       "div.sk-estimator.fitted:hover .sk-estimator-doc-link.fitted:hover,\n",
       ".sk-estimator-doc-link.fitted:hover,\n",
       "div.sk-label-container:hover .sk-estimator-doc-link.fitted:hover,\n",
       ".sk-estimator-doc-link.fitted:hover {\n",
       "  /* fitted */\n",
       "  background-color: var(--sklearn-color-fitted-level-3);\n",
       "  color: var(--sklearn-color-background);\n",
       "  text-decoration: none;\n",
       "}\n",
       "\n",
       "/* Span, style for the box shown on hovering the info icon */\n",
       ".sk-estimator-doc-link span {\n",
       "  display: none;\n",
       "  z-index: 9999;\n",
       "  position: relative;\n",
       "  font-weight: normal;\n",
       "  right: .2ex;\n",
       "  padding: .5ex;\n",
       "  margin: .5ex;\n",
       "  width: min-content;\n",
       "  min-width: 20ex;\n",
       "  max-width: 50ex;\n",
       "  color: var(--sklearn-color-text);\n",
       "  box-shadow: 2pt 2pt 4pt #999;\n",
       "  /* unfitted */\n",
       "  background: var(--sklearn-color-unfitted-level-0);\n",
       "  border: .5pt solid var(--sklearn-color-unfitted-level-3);\n",
       "}\n",
       "\n",
       ".sk-estimator-doc-link.fitted span {\n",
       "  /* fitted */\n",
       "  background: var(--sklearn-color-fitted-level-0);\n",
       "  border: var(--sklearn-color-fitted-level-3);\n",
       "}\n",
       "\n",
       ".sk-estimator-doc-link:hover span {\n",
       "  display: block;\n",
       "}\n",
       "\n",
       "/* \"?\"-specific style due to the `<a>` HTML tag */\n",
       "\n",
       "#sk-container-id-1 a.estimator_doc_link {\n",
       "  float: right;\n",
       "  font-size: 1rem;\n",
       "  line-height: 1em;\n",
       "  font-family: monospace;\n",
       "  background-color: var(--sklearn-color-background);\n",
       "  border-radius: 1rem;\n",
       "  height: 1rem;\n",
       "  width: 1rem;\n",
       "  text-decoration: none;\n",
       "  /* unfitted */\n",
       "  color: var(--sklearn-color-unfitted-level-1);\n",
       "  border: var(--sklearn-color-unfitted-level-1) 1pt solid;\n",
       "}\n",
       "\n",
       "#sk-container-id-1 a.estimator_doc_link.fitted {\n",
       "  /* fitted */\n",
       "  border: var(--sklearn-color-fitted-level-1) 1pt solid;\n",
       "  color: var(--sklearn-color-fitted-level-1);\n",
       "}\n",
       "\n",
       "/* On hover */\n",
       "#sk-container-id-1 a.estimator_doc_link:hover {\n",
       "  /* unfitted */\n",
       "  background-color: var(--sklearn-color-unfitted-level-3);\n",
       "  color: var(--sklearn-color-background);\n",
       "  text-decoration: none;\n",
       "}\n",
       "\n",
       "#sk-container-id-1 a.estimator_doc_link.fitted:hover {\n",
       "  /* fitted */\n",
       "  background-color: var(--sklearn-color-fitted-level-3);\n",
       "}\n",
       "</style><div id=\"sk-container-id-1\" class=\"sk-top-container\"><div class=\"sk-text-repr-fallback\"><pre>LinearRegression()</pre><b>In a Jupyter environment, please rerun this cell to show the HTML representation or trust the notebook. <br />On GitHub, the HTML representation is unable to render, please try loading this page with nbviewer.org.</b></div><div class=\"sk-container\" hidden><div class=\"sk-item\"><div class=\"sk-estimator fitted sk-toggleable\"><input class=\"sk-toggleable__control sk-hidden--visually\" id=\"sk-estimator-id-1\" type=\"checkbox\" checked><label for=\"sk-estimator-id-1\" class=\"sk-toggleable__label fitted sk-toggleable__label-arrow\"><div><div>LinearRegression</div></div><div><a class=\"sk-estimator-doc-link fitted\" rel=\"noreferrer\" target=\"_blank\" href=\"https://scikit-learn.org/1.6/modules/generated/sklearn.linear_model.LinearRegression.html\">?<span>Documentation for LinearRegression</span></a><span class=\"sk-estimator-doc-link fitted\">i<span>Fitted</span></span></div></label><div class=\"sk-toggleable__content fitted\"><pre>LinearRegression()</pre></div> </div></div></div></div>"
      ],
      "text/plain": [
       "LinearRegression()"
      ]
     },
     "execution_count": 26,
     "metadata": {},
     "output_type": "execute_result"
    }
   ],
   "source": [
    "model = LinearRegression()\n",
    "model.fit(X_train, y_train)"
   ]
  },
  {
   "cell_type": "code",
   "execution_count": 27,
   "id": "93715448-77d3-4fcd-9af1-e0dccf98ddcb",
   "metadata": {},
   "outputs": [
    {
     "data": {
      "text/plain": [
       "13"
      ]
     },
     "execution_count": 27,
     "metadata": {},
     "output_type": "execute_result"
    }
   ],
   "source": [
    "y_pred = model.predict(X_test)\n",
    "len(y_pred)"
   ]
  },
  {
   "cell_type": "markdown",
   "id": "2452f900-a4c0-40ba-97e2-6baff5aac6cc",
   "metadata": {},
   "source": [
    "<font size=\"6\" color='pink'>Visualization</font>"
   ]
  },
  {
   "cell_type": "code",
   "execution_count": 28,
   "id": "2b328d25-270a-487d-89e1-c482e7ff47ad",
   "metadata": {},
   "outputs": [
    {
     "data": {
      "image/png": "[encoded data removed]",
      "text/plain": [
       "<Figure size 640x480 with 1 Axes>"
      ]
     },
     "metadata": {},
     "output_type": "display_data"
    }
   ],
   "source": [
    "sns.regplot(x=y_test, y=y_pred, line_kws={'color': 'red'})\n",
    "plt.show()"
   ]
  },
  {
   "cell_type": "markdown",
   "id": "d882b845-e7c1-44cc-9ea3-aa67c0ca11ee",
   "metadata": {},
   "source": [
    "<font size=\"6\" color='pink'>Evaluation</font>"
   ]
  },
  {
   "cell_type": "code",
   "execution_count": 29,
   "id": "738e1e64-d97e-4559-a170-27fca36e01a2",
   "metadata": {},
   "outputs": [
    {
     "name": "stdout",
     "output_type": "stream",
     "text": [
      "Error rate is 0.30%\n"
     ]
    }
   ],
   "source": [
    "mape = np.mean(np.abs((y_test-y_pred)/y_test))*100\n",
    "print(f\"Error rate is {mape:.2f}%\")"
   ]
  },
  {
   "cell_type": "code",
   "execution_count": 30,
   "id": "83e96a24-6bcc-40b6-9484-11e89cc42642",
   "metadata": {},
   "outputs": [
    {
     "name": "stdout",
     "output_type": "stream",
     "text": [
      "Mean Absolute Error is 70.4621897343887\n"
     ]
    }
   ],
   "source": [
    "mae = mean_absolute_error(y_test, y_pred)\n",
    "print(f'Mean Absolute Error is {mae}')"
   ]
  },
  {
   "cell_type": "code",
   "execution_count": 31,
   "id": "ff6c88bc-fb9e-438f-b21b-dc0c97643241",
   "metadata": {},
   "outputs": [
    {
     "name": "stdout",
     "output_type": "stream",
     "text": [
      "Mean Squared Error is 8093.380538716373\n"
     ]
    }
   ],
   "source": [
    "mse = mean_squared_error(y_test, y_pred)\n",
    "print(f'Mean Squared Error is {mse}')"
   ]
  },
  {
   "cell_type": "code",
   "execution_count": 32,
   "id": "4f379baa-14cb-41ca-ac22-30772a766044",
   "metadata": {},
   "outputs": [
    {
     "name": "stdout",
     "output_type": "stream",
     "text": [
      "Root Mean Squared Error is 89.96321769877049\n"
     ]
    }
   ],
   "source": [
    "rmse = np.sqrt(mean_squared_error(y_test, y_pred))\n",
    "print(f'Root Mean Squared Error is {rmse}')"
   ]
  },
  {
   "cell_type": "markdown",
   "id": "9081e410-b63b-4e03-a8fe-97272a5e53ac",
   "metadata": {},
   "source": [
    "<font size=\"6\" color='pink'>Accuracy Testing</font>"
   ]
  },
  {
   "cell_type": "code",
   "execution_count": 33,
   "id": "83a85386-e32f-4bdf-8fac-d84862c0eb11",
   "metadata": {},
   "outputs": [
    {
     "data": {
      "text/plain": [
       "pandas.core.frame.DataFrame"
      ]
     },
     "execution_count": 33,
     "metadata": {},
     "output_type": "execute_result"
    }
   ],
   "source": [
    "type(X_train)"
   ]
  },
  {
   "cell_type": "code",
   "execution_count": 34,
   "id": "4d0349bf-5217-4057-a038-ebe8b3dceeb9",
   "metadata": {},
   "outputs": [
    {
     "data": {
      "text/html": [
       "<div>\n",
       "<style scoped>\n",
       "    .dataframe tbody tr th:only-of-type {\n",
       "        vertical-align: middle;\n",
       "    }\n",
       "\n",
       "    .dataframe tbody tr th {\n",
       "        vertical-align: top;\n",
       "    }\n",
       "\n",
       "    .dataframe thead th {\n",
       "        text-align: right;\n",
       "    }\n",
       "</style>\n",
       "<table border=\"1\" class=\"dataframe\">\n",
       "  <thead>\n",
       "    <tr style=\"text-align: right;\">\n",
       "      <th></th>\n",
       "      <th>Open</th>\n",
       "      <th>High</th>\n",
       "      <th>Low</th>\n",
       "      <th>Shares Traded</th>\n",
       "      <th>Turnover(₹ Cr)</th>\n",
       "      <th>Day</th>\n",
       "      <th>Month</th>\n",
       "      <th>Year</th>\n",
       "    </tr>\n",
       "  </thead>\n",
       "  <tbody>\n",
       "    <tr>\n",
       "      <th>13</th>\n",
       "      <td>24633.90</td>\n",
       "      <td>24705.00</td>\n",
       "      <td>24580.05</td>\n",
       "      <td>248139308</td>\n",
       "      <td>25099.79</td>\n",
       "      <td>9</td>\n",
       "      <td>12</td>\n",
       "      <td>2024</td>\n",
       "    </tr>\n",
       "    <tr>\n",
       "      <th>34</th>\n",
       "      <td>23746.65</td>\n",
       "      <td>23751.85</td>\n",
       "      <td>23496.15</td>\n",
       "      <td>266375381</td>\n",
       "      <td>24718.54</td>\n",
       "      <td>8</td>\n",
       "      <td>1</td>\n",
       "      <td>2025</td>\n",
       "    </tr>\n",
       "  </tbody>\n",
       "</table>\n",
       "</div>"
      ],
      "text/plain": [
       "        Open      High       Low  Shares Traded  Turnover(₹ Cr)  Day  Month  \\\n",
       "13  24633.90  24705.00  24580.05      248139308        25099.79    9     12   \n",
       "34  23746.65  23751.85  23496.15      266375381        24718.54    8      1   \n",
       "\n",
       "    Year  \n",
       "13  2024  \n",
       "34  2025  "
      ]
     },
     "execution_count": 34,
     "metadata": {},
     "output_type": "execute_result"
    }
   ],
   "source": [
    "X_train.head(2)"
   ]
  },
  {
   "cell_type": "code",
   "execution_count": 35,
   "id": "10fb3011-2d74-4dc3-902d-51b7be094a82",
   "metadata": {},
   "outputs": [],
   "source": [
    "test1 = np.array([22963.65, 22992.50, 22801.50, 48139308, 25099.79, 18, 1, 2025]).reshape(1,-1)"
   ]
  },
  {
   "cell_type": "code",
   "execution_count": 36,
   "id": "b2620e7d-e526-4258-9da3-f9fc30a2108f",
   "metadata": {},
   "outputs": [
    {
     "name": "stdout",
     "output_type": "stream",
     "text": [
      "Closing Amount is 22850\n"
     ]
    },
    {
     "name": "stderr",
     "output_type": "stream",
     "text": [
      "C:\\Users\\Dushyant\\Downloads\\Lib\\site-packages\\sklearn\\utils\\validation.py:2739: UserWarning: X does not have valid feature names, but LinearRegression was fitted with feature names\n",
      "  warnings.warn(\n"
     ]
    }
   ],
   "source": [
    "predicted_performance = model.predict(test1)\n",
    "print(f\"Closing Amount is {predicted_performance[0].astype(int)}\")"
   ]
  }
 ],
 "metadata": {
  "kernelspec": {
   "display_name": "Python 3 (ipykernel)",
   "language": "python",
   "name": "python3"
  },
  "language_info": {
   "codemirror_mode": {
    "name": "ipython",
    "version": 3
   },
   "file_extension": ".py",
   "mimetype": "text/x-python",
   "name": "python",
   "nbconvert_exporter": "python",
   "pygments_lexer": "ipython3",
   "version": "3.13.1"
  }
 },
 "nbformat": 4,
 "nbformat_minor": 5
}
