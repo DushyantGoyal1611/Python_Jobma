{
 "cells": [
  {
   "cell_type": "code",
   "execution_count": 1,
   "id": "f3cc161b-9e56-442e-98e8-8a84e9109eb6",
   "metadata": {},
   "outputs": [],
   "source": [
    "import pandas as pd\n",
    "import numpy as np\n",
    "import matplotlib.pyplot as plt\n",
    "import os\n",
    "\n",
    "# Torch \n",
    "import torch\n",
    "import torch.nn as nn\n",
    "import torch.nn.functional as F\n",
    "from torchmetrics import Accuracy\n",
    "from torch.utils.data import Dataset, DataLoader\n",
    "\n",
    "# Scikit-Learn\n",
    "# Models\n",
    "import sklearn\n",
    "from sklearn.ensemble import RandomForestClassifier\n",
    "from sklearn.metrics import accuracy_score\n",
    "# Data Encoding and Scaling\n",
    "from sklearn.compose import ColumnTransformer\n",
    "from sklearn.preprocessing import LabelEncoder, OrdinalEncoder, OneHotEncoder, StandardScaler, FunctionTransformer\n",
    "from sklearn.model_selection import train_test_split\n",
    "from sklearn.decomposition import PCA\n",
    "\n",
    "# Natural Language Processing(NLP)\n",
    "import nltk\n",
    "from nltk.tokenize import word_tokenize\n",
    "from nltk.corpus import stopwords\n",
    "from nltk.stem import WordNetLemmatizer\n",
    "# Word Embedding\n",
    "import gensim\n",
    "from gensim.models import Word2Vec\n",
    "\n",
    "# Pipeline\n",
    "from sklearn.pipeline import Pipeline\n",
    "from sklearn import set_config\n"
   ]
  },
  {
   "cell_type": "code",
   "execution_count": 2,
   "id": "0ac1578e-d4ae-4aab-92cf-ba881ff86487",
   "metadata": {},
   "outputs": [
    {
     "data": {
      "text/plain": [
       "'cpu'"
      ]
     },
     "execution_count": 2,
     "metadata": {},
     "output_type": "execute_result"
    }
   ],
   "source": [
    "device = 'cuda' if torch.cuda.is_available() else 'cpu'\n",
    "device"
   ]
  },
  {
   "cell_type": "code",
   "execution_count": 3,
   "id": "4b28bf69-9fe3-4e0c-b4d1-a3698b361abe",
   "metadata": {},
   "outputs": [],
   "source": [
    "df = pd.read_csv('IntervieweeDataset.csv')"
   ]
  },
  {
   "cell_type": "code",
   "execution_count": 4,
   "id": "b6f221f7-0f91-4601-8a92-0aac30df327c",
   "metadata": {},
   "outputs": [
    {
     "data": {
      "text/plain": [
       "(21256, 52)"
      ]
     },
     "execution_count": 4,
     "metadata": {},
     "output_type": "execute_result"
    }
   ],
   "source": [
    "df.shape"
   ]
  },
  {
   "cell_type": "code",
   "execution_count": 5,
   "id": "cd07b3e9-b03d-483e-9d60-0c8291e846da",
   "metadata": {},
   "outputs": [],
   "source": [
    "df.dropna(inplace=True)"
   ]
  },
  {
   "cell_type": "code",
   "execution_count": 6,
   "id": "024a656e-9e20-4e7a-8c4a-067c7fb3b16a",
   "metadata": {},
   "outputs": [],
   "source": [
    "df.drop(df.iloc[:, 8:18], axis=1, inplace=True)"
   ]
  },
  {
   "cell_type": "code",
   "execution_count": 7,
   "id": "29003729-2b17-4862-8f88-121045dddb69",
   "metadata": {},
   "outputs": [],
   "source": [
    "df.drop(['Name',\n",
    "        'Pre Interview Check',\n",
    "         'Experienced Candidate (Nature of work)',\n",
    "         'Call-pitch Elements used during the call Sales Scenario',\n",
    "         \"But, my child's exam are going on now, so we will keep the counselling session after the exams get over.(Time: Favourable pitch: Counsellor hype)\",\n",
    "         'Let me discuss it with my child',\n",
    "         \"Sir being in education industry I know this is a marketing gimmick and at the end of the day you'll be selling the app.\",\n",
    "         'Comments',\n",
    "         'RedFlags Comments in Interview',\n",
    "         'Whether joined the company or not\\n',\n",
    "         'Role Location to be given to the candidate'\n",
    "        ], axis=1, inplace=True)"
   ]
  },
  {
   "cell_type": "code",
   "execution_count": 8,
   "id": "7b87dec7-b89a-4e98-9358-08dd6b2eecde",
   "metadata": {},
   "outputs": [
    {
     "data": {
      "text/plain": [
       "array(['Reject', 'Select'], dtype=object)"
      ]
     },
     "execution_count": 8,
     "metadata": {},
     "output_type": "execute_result"
    }
   ],
   "source": [
    "df['Interview Verdict'] = df['Interview Verdict'].replace({'Premium Select':'Select', 'Borderline Select':'Select', 'Borderline Reject':'Reject'})\n",
    "df['Interview Verdict'].unique()"
   ]
  },
  {
   "cell_type": "code",
   "execution_count": 9,
   "id": "db945e23-1dc9-472a-9c0c-7b84d912ed2e",
   "metadata": {},
   "outputs": [],
   "source": [
    "df = df[df['Interview Verdict'] == 'Reject']"
   ]
  },
  {
   "cell_type": "code",
   "execution_count": 130,
   "id": "1ceb3799-237c-400d-bf53-ff8f856fc7ad",
   "metadata": {},
   "outputs": [
    {
     "name": "stdout",
     "output_type": "stream",
     "text": [
      "Age                                                                                                                      25\n",
      "Gender                                                                                                               Female\n",
      "Education                                                                                                      B.E / B-Tech\n",
      "Marital status                                                                                                      Married\n",
      "Mode of Interview                                                                                                    Laptop\n",
      "Fluency in English based on introduction                                  Taking gaps while speaking due to lack of cont...\n",
      "Does the candidate has mother tongue influence while speaking english.                                                   No\n",
      "Acquaintance and Referral                                                                                                No\n",
      "Candidate Status                                                                                    Fresher(only 2022 grad)\n",
      "Last Fixed CTC (lakhs)                                                                                              Fresher\n",
      "Currently Employed                                                                                                       No\n",
      "Experienced candidate - (Experience in months)                                                           Fresher(<6 months)\n",
      "What was the type of Role?                                                                                          Fresher\n",
      "Role acceptance                                                            Yes : Think and says yes.(Shows some hesitation)\n",
      "Candidate is willing to relocate                                                    No - Want Specific Centre Location Only\n",
      "Confidence Score                                                                                                          7\n",
      "Structured Thinking Score                                                                                                 4\n",
      "Regional Fluency Score                                                                                                    5\n",
      "Name: 12243, dtype: object\n"
     ]
    }
   ],
   "source": [
    "print(df.loc[12243,:])"
   ]
  },
  {
   "cell_type": "code",
   "execution_count": 11,
   "id": "26b51240-bb4f-4d10-8e99-5272212448f5",
   "metadata": {},
   "outputs": [],
   "source": [
    "''' Renaming the Columns '''\n",
    "\n",
    "df.rename(columns={'What was the type of Role?\\t': 'What was the type of Role?'}, inplace=True)\n",
    "df.rename(columns = {'Has acquaintance in Company and has spoken to him/her before applying?' : 'Acquaintance and Referral'}, inplace=True)\n",
    "df.rename(columns = {'Type of Graduation/Post Graduation' : 'Education'}, inplace=True)\n",
    "df.rename(columns= {'Mode of interview given by candidate?' : 'Mode of Interview'}, inplace=True)\n",
    "df.rename(columns={'Last Fixed CTC (lakhs) ' : 'Last Fixed CTC (lakhs)'}, inplace=True)"
   ]
  },
  {
   "cell_type": "code",
   "execution_count": 12,
   "id": "962dc275-1339-4059-8d31-2c98766f4f80",
   "metadata": {},
   "outputs": [
    {
     "data": {
      "text/plain": [
       "Age                                                                       0\n",
       "Gender                                                                    0\n",
       "Education                                                                 0\n",
       "Marital status                                                            0\n",
       "Mode of Interview                                                         0\n",
       "Fluency in English based on introduction                                  0\n",
       "Does the candidate has mother tongue influence while speaking english.    0\n",
       "Acquaintance and Referral                                                 0\n",
       "Candidate Status                                                          0\n",
       "Last Fixed CTC (lakhs)                                                    0\n",
       "Currently Employed                                                        0\n",
       "Experienced candidate - (Experience in months)                            0\n",
       "What was the type of Role?                                                0\n",
       "How many slides candidate have submitted in PPT?                          0\n",
       "Role acceptance                                                           0\n",
       "Interview Verdict                                                         0\n",
       "Candidate is willing to relocate                                          0\n",
       "Confidence based on Introduction (English).1                              0\n",
       "Confidence based on the topic given  .1                                   0\n",
       "Confidence Based on the PPT Question.1                                    0\n",
       "Confidence based on the sales scenario.1                                  0\n",
       "Structured Thinking (In regional only).1                                  0\n",
       "Structured Thinking Based on the PPT Question.1                           0\n",
       "Structured Thinking( Call pitch).1                                        0\n",
       "Regional fluency based on the topic given  .1                             0\n",
       "Regional fluency Based on the PPT Question.1                              0\n",
       "Regional fluency based on the  sales scenario.1                           0\n",
       "Confidence Score                                                          0\n",
       "Structured Thinking Score                                                 0\n",
       "Regional Fluency Score                                                    0\n",
       "Total Score                                                               0\n",
       "dtype: int64"
      ]
     },
     "execution_count": 12,
     "metadata": {},
     "output_type": "execute_result"
    }
   ],
   "source": [
    "df.isnull().sum()"
   ]
  },
  {
   "cell_type": "code",
   "execution_count": 13,
   "id": "2d524c71-35eb-4b48-9871-890108c61936",
   "metadata": {},
   "outputs": [],
   "source": [
    "df.drop(df.iloc[:,17:-5], axis=1, inplace=True)"
   ]
  },
  {
   "cell_type": "code",
   "execution_count": 14,
   "id": "a1767960-dbf6-4d45-9eaa-4c2739a7a28e",
   "metadata": {},
   "outputs": [],
   "source": [
    "df.drop(['Interview Verdict', 'Regional fluency based on the  sales scenario.1'], axis=1, inplace=True)"
   ]
  },
  {
   "cell_type": "code",
   "execution_count": 15,
   "id": "d6ee2450-c3f3-4d49-80f6-6f8b374e3bca",
   "metadata": {},
   "outputs": [],
   "source": [
    "df.drop(['Total Score', 'How many slides candidate have submitted in PPT?'], axis=1, inplace=True)"
   ]
  },
  {
   "cell_type": "code",
   "execution_count": 16,
   "id": "70553599-9b90-4d3c-9593-fd55fd9e7a6b",
   "metadata": {},
   "outputs": [
    {
     "data": {
      "text/plain": [
       "(4397, 18)"
      ]
     },
     "execution_count": 16,
     "metadata": {},
     "output_type": "execute_result"
    }
   ],
   "source": [
    "df.shape"
   ]
  },
  {
   "cell_type": "code",
   "execution_count": 17,
   "id": "e00e1489-ed2b-438d-8aae-78101dc427d1",
   "metadata": {},
   "outputs": [
    {
     "data": {
      "text/plain": [
       "['Age',\n",
       " 'Gender',\n",
       " 'Education',\n",
       " 'Marital status',\n",
       " 'Mode of Interview',\n",
       " 'Fluency in English based on introduction',\n",
       " 'Does the candidate has mother tongue influence while speaking english.',\n",
       " 'Acquaintance and Referral',\n",
       " 'Candidate Status',\n",
       " 'Last Fixed CTC (lakhs)',\n",
       " 'Currently Employed',\n",
       " 'Experienced candidate - (Experience in months)',\n",
       " 'What was the type of Role?',\n",
       " 'Role acceptance',\n",
       " 'Candidate is willing to relocate',\n",
       " 'Confidence Score',\n",
       " 'Structured Thinking Score',\n",
       " 'Regional Fluency Score']"
      ]
     },
     "execution_count": 17,
     "metadata": {},
     "output_type": "execute_result"
    }
   ],
   "source": [
    "df.columns.tolist()"
   ]
  },
  {
   "cell_type": "code",
   "execution_count": 18,
   "id": "4ae648cb-b844-4e50-aca0-694d3f9019ee",
   "metadata": {},
   "outputs": [],
   "source": [
    "education_mapping = {\n",
    "    'Engineering & Technology': [\n",
    "        'B.E / B-Tech', 'M.E / M-Tech', 'B-Tech - INTEGRATED', 'BE - CSe and CDAC',\n",
    "        'B.ENG', 'Bachelors of planning', 'B.Arch', 'Bachelor of Architecture', 'B.ARC'\n",
    "    ],\n",
    "    'Science & Medical': [\n",
    "        'BSc or MSc', 'BSC', 'MS', 'Masters in biotechnology', 'PG - msc biochemistry',\n",
    "        'Bio science', 'masters in biology', 'biotech', 'Masters of Statistics',\n",
    "        'Bachelors in biotechnology', 'Ph D genetics', 'MBBS', 'Bachelor in medical lab',\n",
    "        'B.Physiotherapist', 'B.pharma', 'M.pharma', 'B -pharm', 'B.PHARMA',\n",
    "        'PHARMA D', 'pharm D', 'M.Pharma', 'Bachelors in dental',\n",
    "        'Masters in Clinical Psychology', 'B.voc in applied clinical psychology'\n",
    "    ],\n",
    "    'Commerce & Business': [\n",
    "        'B.com', 'BCOM COMPUTERS', 'Bcom computers', 'bcom -pa', 'M.com',\n",
    "        'MBA', 'MBA- 2019', 'MBA agro business', 'PGDM', 'pgdm', 'PGDM 2022',\n",
    "        'PGDM marketing', 'PG diploma in banking', 'PG DIPLOMA IN BANKING',\n",
    "        'Masters in banking and insurance', 'BBA or BBM', 'BBM',\n",
    "        'Bachelor of Business Economics (B.B.E.)', 'PGPM', 'PGPM in marketing',\n",
    "        'PGPCEM', 'PGDBS', 'B.Voc - Banking & Finance'\n",
    "    ],\n",
    "    'Humanities & Social Sciences': [\n",
    "        'BA/MA', 'LLB', 'LLM', 'MPhil', 'M.phil', 'Mphil 2020', 'PHD', 'doctorate',\n",
    "        'Masters of Social Work (MSW)', 'msw', 'msw-hr-2014', 'MSW HRM',\n",
    "        'Public administration', 'Masters in comparative religion', 'Masters in archeology',\n",
    "        'English Honors', 'MASTERS IN SOCIAL SCIENCE', 'Bengali Honors'\n",
    "    ],\n",
    "    'Mass Communication & Media': [\n",
    "        'B.comm (Bachelor of mass comm.)', 'Bachelor mass communication',\n",
    "        'mass media', 'masss media', 'mass comm', 'Mass comm', 'BMM ( MAss Media)',\n",
    "        'BJMC', 'MJMC 2020', 'Masters in mass communication', 'MASTERS IN MASS COM',\n",
    "        'Masters in Convergent Journalism', 'master maas comm', 'master in electronic media'\n",
    "    ],\n",
    "    'Vocational & Professional Courses': [\n",
    "        'B.ed (Teaching)', 'B.ed', 'B.ED', 'M.ed', 'D.el.ed', 'd el. ed', 'Dled',\n",
    "        'Bachelors in fisheries science', 'Bachelors in tourism', 'Bachelor of Tourism',\n",
    "        'travel & toursim', 'Bachelors in design', 'B.Design', 'Bachelors in hospitality',\n",
    "        \"Bachelor's in Hospitality\", 'Hotel Management', 'Masters in fashion designing',\n",
    "        'Masters in hospitality', 'Masters in design', 'food technology',\n",
    "        'BVoc', 'B.VOC', 'B.vocational', 'B.voc - IT', 'B.voc networking and mobile applications',\n",
    "        'bachelors of vocational - automobile', 'Bpharma', 'Mpharma', 'Diploma', 'Diploma in engr',\n",
    "        'PGDCA', 'PGD', 'pgdca', 'PGD (Bachelor of Library Science)', 'BMIT',\n",
    "        'PGDF', 'PGDA', 'MFC', 'MLIS', 'BMS', 'BMS marketing', 'bms', 'bms-2020',\n",
    "        'Bachelor in IT', 'BCA/MCA', 'CSE', 'PDGM Advance Computing'\n",
    "    ]\n",
    "}\n",
    "\n",
    "# Function to map education to categories\n",
    "def categorize_education(education):\n",
    "    for category, degree in education_mapping.items():\n",
    "        if education in degree:\n",
    "            return category\n",
    "    return 'Other'    "
   ]
  },
  {
   "cell_type": "code",
   "execution_count": 19,
   "id": "e6a1db25-da0b-409b-90a8-04de7b78304e",
   "metadata": {},
   "outputs": [],
   "source": [
    "def format_education(df):\n",
    "    df['Education'] = df['Education'].fillna('Unknown').apply(lambda x: categorize_education(x))\n",
    "    return df"
   ]
  },
  {
   "cell_type": "code",
   "execution_count": 20,
   "id": "9e1e4760-713f-4769-9057-f38fd1640a4d",
   "metadata": {},
   "outputs": [],
   "source": [
    "def convert_age(df):\n",
    "    bins=[18, 22, 25, 28, 32, 35, float('inf')]\n",
    "    labels=['18-22', '23-25', '26-28', '29-32', '33-35', '35+']\n",
    "    df['Age'] = pd.to_numeric(df['Age'].astype(str).str.replace('+', '', regex=False), errors='coerce')\n",
    "    df['Age'] = pd.cut(df['Age'],  bins=bins, labels=labels, right=True)\n",
    "\n",
    "    return df"
   ]
  },
  {
   "cell_type": "code",
   "execution_count": 21,
   "id": "aeed6465-2c27-42b0-b567-2e01dc77690e",
   "metadata": {},
   "outputs": [],
   "source": [
    "def label_encoder(df):\n",
    "    label_encoders = {}\n",
    "    categorical_cols = [\n",
    "        'Gender', 'Marital status', 'Mode of Interview',\n",
    "        'Does the candidate has mother tongue influence while speaking english.',\n",
    "        'Acquaintance and Referral', 'Currently Employed',\n",
    "        'Candidate is willing to relocate'\n",
    "    ]\n",
    "\n",
    "    for col in categorical_cols:\n",
    "        df[col] = df[col].fillna('Unknown')\n",
    "        le = LabelEncoder()\n",
    "        df[col] = le.fit_transform(df[col])\n",
    "        label_encoders[col] = le\n",
    "\n",
    "    return df"
   ]
  },
  {
   "cell_type": "code",
   "execution_count": 22,
   "id": "22d2b9b9-4e75-4f1c-8a03-9d3ce705428a",
   "metadata": {},
   "outputs": [
    {
     "data": {
      "text/plain": [
       "Index(['Age', 'Gender', 'Education', 'Marital status', 'Mode of Interview',\n",
       "       'Fluency in English based on introduction',\n",
       "       'Does the candidate has mother tongue influence while speaking english.',\n",
       "       'Acquaintance and Referral', 'Candidate Status',\n",
       "       'Last Fixed CTC (lakhs)', 'Currently Employed',\n",
       "       'Experienced candidate - (Experience in months)',\n",
       "       'What was the type of Role?', 'Role acceptance',\n",
       "       'Candidate is willing to relocate', 'Confidence Score',\n",
       "       'Structured Thinking Score', 'Regional Fluency Score'],\n",
       "      dtype='object')"
      ]
     },
     "execution_count": 22,
     "metadata": {},
     "output_type": "execute_result"
    }
   ],
   "source": [
    "df.columns"
   ]
  },
  {
   "cell_type": "code",
   "execution_count": 23,
   "id": "a4750fbd-ad69-450f-8fd1-00076531c840",
   "metadata": {},
   "outputs": [
    {
     "data": {
      "text/plain": [
       "(4397, 18)"
      ]
     },
     "execution_count": 23,
     "metadata": {},
     "output_type": "execute_result"
    }
   ],
   "source": [
    "df.shape"
   ]
  },
  {
   "cell_type": "markdown",
   "id": "87aac399-6fa0-4922-96ad-10ee2edc935e",
   "metadata": {},
   "source": [
    "# Pipeline"
   ]
  },
  {
   "cell_type": "code",
   "execution_count": 25,
   "id": "1af93d0c-60f7-41a7-81f4-908cf5faac2b",
   "metadata": {},
   "outputs": [],
   "source": [
    "preprocessing_pipeline = Pipeline([\n",
    "    ('categorize_education', FunctionTransformer(format_education, validate=False)),\n",
    "    ('convert_age', FunctionTransformer(convert_age, validate=False)),\n",
    "    ('label_encoder', FunctionTransformer(label_encoder, validate=False)),\n",
    "    ('encode_labels', ColumnTransformer(transformers=[\n",
    "        ('t1', OneHotEncoder(sparse_output=False, drop='first'), ['Fluency in English based on introduction', 'Candidate Status', 'Education', 'What was the type of Role?']),\n",
    "        ('t2', OrdinalEncoder(categories=[['Fresher', '0-1.99', '2-2.99', '3-3.99', '4-4.99', '5-5.99', '6-6.99', '7+']]), ['Last Fixed CTC (lakhs)']),\n",
    "        ('t3', OrdinalEncoder(categories=[['Fresher(<6 months)', '6-11.99 Months', '12-17.99 Months', '18-23.99 Months', '24-29.99 Months', '30-35.99 Months', '36-47.99 Months', '48+ Months']]), ['Experienced candidate - (Experience in months)']),\n",
    "        ('t4', OrdinalEncoder(categories=[['No', 'Yes : Think and says yes.(Shows some hesitation)', 'Emphatic Yes']]), ['Role acceptance']),\n",
    "        ('t5', OrdinalEncoder(categories=[['18-22', '23-25', '26-28', '29-32', '33-35', '35+']]), ['Age']),\n",
    "    ],remainder='passthrough')),\n",
    "    ('scaler', StandardScaler())\n",
    "])"
   ]
  },
  {
   "cell_type": "code",
   "execution_count": 26,
   "id": "3f666b11-20ee-47b9-9bcf-77982b5156d2",
   "metadata": {},
   "outputs": [
    {
     "data": {
      "text/html": [
       "<style>#sk-container-id-1 {\n",
       "  /* Definition of color scheme common for light and dark mode */\n",
       "  --sklearn-color-text: black;\n",
       "  --sklearn-color-line: gray;\n",
       "  /* Definition of color scheme for unfitted estimators */\n",
       "  --sklearn-color-unfitted-level-0: #fff5e6;\n",
       "  --sklearn-color-unfitted-level-1: #f6e4d2;\n",
       "  --sklearn-color-unfitted-level-2: #ffe0b3;\n",
       "  --sklearn-color-unfitted-level-3: chocolate;\n",
       "  /* Definition of color scheme for fitted estimators */\n",
       "  --sklearn-color-fitted-level-0: #f0f8ff;\n",
       "  --sklearn-color-fitted-level-1: #d4ebff;\n",
       "  --sklearn-color-fitted-level-2: #b3dbfd;\n",
       "  --sklearn-color-fitted-level-3: cornflowerblue;\n",
       "\n",
       "  /* Specific color for light theme */\n",
       "  --sklearn-color-text-on-default-background: var(--sg-text-color, var(--theme-code-foreground, var(--jp-content-font-color1, black)));\n",
       "  --sklearn-color-background: var(--sg-background-color, var(--theme-background, var(--jp-layout-color0, white)));\n",
       "  --sklearn-color-border-box: var(--sg-text-color, var(--theme-code-foreground, var(--jp-content-font-color1, black)));\n",
       "  --sklearn-color-icon: #696969;\n",
       "\n",
       "  @media (prefers-color-scheme: dark) {\n",
       "    /* Redefinition of color scheme for dark theme */\n",
       "    --sklearn-color-text-on-default-background: var(--sg-text-color, var(--theme-code-foreground, var(--jp-content-font-color1, white)));\n",
       "    --sklearn-color-background: var(--sg-background-color, var(--theme-background, var(--jp-layout-color0, #111)));\n",
       "    --sklearn-color-border-box: var(--sg-text-color, var(--theme-code-foreground, var(--jp-content-font-color1, white)));\n",
       "    --sklearn-color-icon: #878787;\n",
       "  }\n",
       "}\n",
       "\n",
       "#sk-container-id-1 {\n",
       "  color: var(--sklearn-color-text);\n",
       "}\n",
       "\n",
       "#sk-container-id-1 pre {\n",
       "  padding: 0;\n",
       "}\n",
       "\n",
       "#sk-container-id-1 input.sk-hidden--visually {\n",
       "  border: 0;\n",
       "  clip: rect(1px 1px 1px 1px);\n",
       "  clip: rect(1px, 1px, 1px, 1px);\n",
       "  height: 1px;\n",
       "  margin: -1px;\n",
       "  overflow: hidden;\n",
       "  padding: 0;\n",
       "  position: absolute;\n",
       "  width: 1px;\n",
       "}\n",
       "\n",
       "#sk-container-id-1 div.sk-dashed-wrapped {\n",
       "  border: 1px dashed var(--sklearn-color-line);\n",
       "  margin: 0 0.4em 0.5em 0.4em;\n",
       "  box-sizing: border-box;\n",
       "  padding-bottom: 0.4em;\n",
       "  background-color: var(--sklearn-color-background);\n",
       "}\n",
       "\n",
       "#sk-container-id-1 div.sk-container {\n",
       "  /* jupyter's `normalize.less` sets `[hidden] { display: none; }`\n",
       "     but bootstrap.min.css set `[hidden] { display: none !important; }`\n",
       "     so we also need the `!important` here to be able to override the\n",
       "     default hidden behavior on the sphinx rendered scikit-learn.org.\n",
       "     See: https://github.com/scikit-learn/scikit-learn/issues/21755 */\n",
       "  display: inline-block !important;\n",
       "  position: relative;\n",
       "}\n",
       "\n",
       "#sk-container-id-1 div.sk-text-repr-fallback {\n",
       "  display: none;\n",
       "}\n",
       "\n",
       "div.sk-parallel-item,\n",
       "div.sk-serial,\n",
       "div.sk-item {\n",
       "  /* draw centered vertical line to link estimators */\n",
       "  background-image: linear-gradient(var(--sklearn-color-text-on-default-background), var(--sklearn-color-text-on-default-background));\n",
       "  background-size: 2px 100%;\n",
       "  background-repeat: no-repeat;\n",
       "  background-position: center center;\n",
       "}\n",
       "\n",
       "/* Parallel-specific style estimator block */\n",
       "\n",
       "#sk-container-id-1 div.sk-parallel-item::after {\n",
       "  content: \"\";\n",
       "  width: 100%;\n",
       "  border-bottom: 2px solid var(--sklearn-color-text-on-default-background);\n",
       "  flex-grow: 1;\n",
       "}\n",
       "\n",
       "#sk-container-id-1 div.sk-parallel {\n",
       "  display: flex;\n",
       "  align-items: stretch;\n",
       "  justify-content: center;\n",
       "  background-color: var(--sklearn-color-background);\n",
       "  position: relative;\n",
       "}\n",
       "\n",
       "#sk-container-id-1 div.sk-parallel-item {\n",
       "  display: flex;\n",
       "  flex-direction: column;\n",
       "}\n",
       "\n",
       "#sk-container-id-1 div.sk-parallel-item:first-child::after {\n",
       "  align-self: flex-end;\n",
       "  width: 50%;\n",
       "}\n",
       "\n",
       "#sk-container-id-1 div.sk-parallel-item:last-child::after {\n",
       "  align-self: flex-start;\n",
       "  width: 50%;\n",
       "}\n",
       "\n",
       "#sk-container-id-1 div.sk-parallel-item:only-child::after {\n",
       "  width: 0;\n",
       "}\n",
       "\n",
       "/* Serial-specific style estimator block */\n",
       "\n",
       "#sk-container-id-1 div.sk-serial {\n",
       "  display: flex;\n",
       "  flex-direction: column;\n",
       "  align-items: center;\n",
       "  background-color: var(--sklearn-color-background);\n",
       "  padding-right: 1em;\n",
       "  padding-left: 1em;\n",
       "}\n",
       "\n",
       "\n",
       "/* Toggleable style: style used for estimator/Pipeline/ColumnTransformer box that is\n",
       "clickable and can be expanded/collapsed.\n",
       "- Pipeline and ColumnTransformer use this feature and define the default style\n",
       "- Estimators will overwrite some part of the style using the `sk-estimator` class\n",
       "*/\n",
       "\n",
       "/* Pipeline and ColumnTransformer style (default) */\n",
       "\n",
       "#sk-container-id-1 div.sk-toggleable {\n",
       "  /* Default theme specific background. It is overwritten whether we have a\n",
       "  specific estimator or a Pipeline/ColumnTransformer */\n",
       "  background-color: var(--sklearn-color-background);\n",
       "}\n",
       "\n",
       "/* Toggleable label */\n",
       "#sk-container-id-1 label.sk-toggleable__label {\n",
       "  cursor: pointer;\n",
       "  display: block;\n",
       "  width: 100%;\n",
       "  margin-bottom: 0;\n",
       "  padding: 0.5em;\n",
       "  box-sizing: border-box;\n",
       "  text-align: center;\n",
       "}\n",
       "\n",
       "#sk-container-id-1 label.sk-toggleable__label-arrow:before {\n",
       "  /* Arrow on the left of the label */\n",
       "  content: \"▸\";\n",
       "  float: left;\n",
       "  margin-right: 0.25em;\n",
       "  color: var(--sklearn-color-icon);\n",
       "}\n",
       "\n",
       "#sk-container-id-1 label.sk-toggleable__label-arrow:hover:before {\n",
       "  color: var(--sklearn-color-text);\n",
       "}\n",
       "\n",
       "/* Toggleable content - dropdown */\n",
       "\n",
       "#sk-container-id-1 div.sk-toggleable__content {\n",
       "  max-height: 0;\n",
       "  max-width: 0;\n",
       "  overflow: hidden;\n",
       "  text-align: left;\n",
       "  /* unfitted */\n",
       "  background-color: var(--sklearn-color-unfitted-level-0);\n",
       "}\n",
       "\n",
       "#sk-container-id-1 div.sk-toggleable__content.fitted {\n",
       "  /* fitted */\n",
       "  background-color: var(--sklearn-color-fitted-level-0);\n",
       "}\n",
       "\n",
       "#sk-container-id-1 div.sk-toggleable__content pre {\n",
       "  margin: 0.2em;\n",
       "  border-radius: 0.25em;\n",
       "  color: var(--sklearn-color-text);\n",
       "  /* unfitted */\n",
       "  background-color: var(--sklearn-color-unfitted-level-0);\n",
       "}\n",
       "\n",
       "#sk-container-id-1 div.sk-toggleable__content.fitted pre {\n",
       "  /* unfitted */\n",
       "  background-color: var(--sklearn-color-fitted-level-0);\n",
       "}\n",
       "\n",
       "#sk-container-id-1 input.sk-toggleable__control:checked~div.sk-toggleable__content {\n",
       "  /* Expand drop-down */\n",
       "  max-height: 200px;\n",
       "  max-width: 100%;\n",
       "  overflow: auto;\n",
       "}\n",
       "\n",
       "#sk-container-id-1 input.sk-toggleable__control:checked~label.sk-toggleable__label-arrow:before {\n",
       "  content: \"▾\";\n",
       "}\n",
       "\n",
       "/* Pipeline/ColumnTransformer-specific style */\n",
       "\n",
       "#sk-container-id-1 div.sk-label input.sk-toggleable__control:checked~label.sk-toggleable__label {\n",
       "  color: var(--sklearn-color-text);\n",
       "  background-color: var(--sklearn-color-unfitted-level-2);\n",
       "}\n",
       "\n",
       "#sk-container-id-1 div.sk-label.fitted input.sk-toggleable__control:checked~label.sk-toggleable__label {\n",
       "  background-color: var(--sklearn-color-fitted-level-2);\n",
       "}\n",
       "\n",
       "/* Estimator-specific style */\n",
       "\n",
       "/* Colorize estimator box */\n",
       "#sk-container-id-1 div.sk-estimator input.sk-toggleable__control:checked~label.sk-toggleable__label {\n",
       "  /* unfitted */\n",
       "  background-color: var(--sklearn-color-unfitted-level-2);\n",
       "}\n",
       "\n",
       "#sk-container-id-1 div.sk-estimator.fitted input.sk-toggleable__control:checked~label.sk-toggleable__label {\n",
       "  /* fitted */\n",
       "  background-color: var(--sklearn-color-fitted-level-2);\n",
       "}\n",
       "\n",
       "#sk-container-id-1 div.sk-label label.sk-toggleable__label,\n",
       "#sk-container-id-1 div.sk-label label {\n",
       "  /* The background is the default theme color */\n",
       "  color: var(--sklearn-color-text-on-default-background);\n",
       "}\n",
       "\n",
       "/* On hover, darken the color of the background */\n",
       "#sk-container-id-1 div.sk-label:hover label.sk-toggleable__label {\n",
       "  color: var(--sklearn-color-text);\n",
       "  background-color: var(--sklearn-color-unfitted-level-2);\n",
       "}\n",
       "\n",
       "/* Label box, darken color on hover, fitted */\n",
       "#sk-container-id-1 div.sk-label.fitted:hover label.sk-toggleable__label.fitted {\n",
       "  color: var(--sklearn-color-text);\n",
       "  background-color: var(--sklearn-color-fitted-level-2);\n",
       "}\n",
       "\n",
       "/* Estimator label */\n",
       "\n",
       "#sk-container-id-1 div.sk-label label {\n",
       "  font-family: monospace;\n",
       "  font-weight: bold;\n",
       "  display: inline-block;\n",
       "  line-height: 1.2em;\n",
       "}\n",
       "\n",
       "#sk-container-id-1 div.sk-label-container {\n",
       "  text-align: center;\n",
       "}\n",
       "\n",
       "/* Estimator-specific */\n",
       "#sk-container-id-1 div.sk-estimator {\n",
       "  font-family: monospace;\n",
       "  border: 1px dotted var(--sklearn-color-border-box);\n",
       "  border-radius: 0.25em;\n",
       "  box-sizing: border-box;\n",
       "  margin-bottom: 0.5em;\n",
       "  /* unfitted */\n",
       "  background-color: var(--sklearn-color-unfitted-level-0);\n",
       "}\n",
       "\n",
       "#sk-container-id-1 div.sk-estimator.fitted {\n",
       "  /* fitted */\n",
       "  background-color: var(--sklearn-color-fitted-level-0);\n",
       "}\n",
       "\n",
       "/* on hover */\n",
       "#sk-container-id-1 div.sk-estimator:hover {\n",
       "  /* unfitted */\n",
       "  background-color: var(--sklearn-color-unfitted-level-2);\n",
       "}\n",
       "\n",
       "#sk-container-id-1 div.sk-estimator.fitted:hover {\n",
       "  /* fitted */\n",
       "  background-color: var(--sklearn-color-fitted-level-2);\n",
       "}\n",
       "\n",
       "/* Specification for estimator info (e.g. \"i\" and \"?\") */\n",
       "\n",
       "/* Common style for \"i\" and \"?\" */\n",
       "\n",
       ".sk-estimator-doc-link,\n",
       "a:link.sk-estimator-doc-link,\n",
       "a:visited.sk-estimator-doc-link {\n",
       "  float: right;\n",
       "  font-size: smaller;\n",
       "  line-height: 1em;\n",
       "  font-family: monospace;\n",
       "  background-color: var(--sklearn-color-background);\n",
       "  border-radius: 1em;\n",
       "  height: 1em;\n",
       "  width: 1em;\n",
       "  text-decoration: none !important;\n",
       "  margin-left: 1ex;\n",
       "  /* unfitted */\n",
       "  border: var(--sklearn-color-unfitted-level-1) 1pt solid;\n",
       "  color: var(--sklearn-color-unfitted-level-1);\n",
       "}\n",
       "\n",
       ".sk-estimator-doc-link.fitted,\n",
       "a:link.sk-estimator-doc-link.fitted,\n",
       "a:visited.sk-estimator-doc-link.fitted {\n",
       "  /* fitted */\n",
       "  border: var(--sklearn-color-fitted-level-1) 1pt solid;\n",
       "  color: var(--sklearn-color-fitted-level-1);\n",
       "}\n",
       "\n",
       "/* On hover */\n",
       "div.sk-estimator:hover .sk-estimator-doc-link:hover,\n",
       ".sk-estimator-doc-link:hover,\n",
       "div.sk-label-container:hover .sk-estimator-doc-link:hover,\n",
       ".sk-estimator-doc-link:hover {\n",
       "  /* unfitted */\n",
       "  background-color: var(--sklearn-color-unfitted-level-3);\n",
       "  color: var(--sklearn-color-background);\n",
       "  text-decoration: none;\n",
       "}\n",
       "\n",
       "div.sk-estimator.fitted:hover .sk-estimator-doc-link.fitted:hover,\n",
       ".sk-estimator-doc-link.fitted:hover,\n",
       "div.sk-label-container:hover .sk-estimator-doc-link.fitted:hover,\n",
       ".sk-estimator-doc-link.fitted:hover {\n",
       "  /* fitted */\n",
       "  background-color: var(--sklearn-color-fitted-level-3);\n",
       "  color: var(--sklearn-color-background);\n",
       "  text-decoration: none;\n",
       "}\n",
       "\n",
       "/* Span, style for the box shown on hovering the info icon */\n",
       ".sk-estimator-doc-link span {\n",
       "  display: none;\n",
       "  z-index: 9999;\n",
       "  position: relative;\n",
       "  font-weight: normal;\n",
       "  right: .2ex;\n",
       "  padding: .5ex;\n",
       "  margin: .5ex;\n",
       "  width: min-content;\n",
       "  min-width: 20ex;\n",
       "  max-width: 50ex;\n",
       "  color: var(--sklearn-color-text);\n",
       "  box-shadow: 2pt 2pt 4pt #999;\n",
       "  /* unfitted */\n",
       "  background: var(--sklearn-color-unfitted-level-0);\n",
       "  border: .5pt solid var(--sklearn-color-unfitted-level-3);\n",
       "}\n",
       "\n",
       ".sk-estimator-doc-link.fitted span {\n",
       "  /* fitted */\n",
       "  background: var(--sklearn-color-fitted-level-0);\n",
       "  border: var(--sklearn-color-fitted-level-3);\n",
       "}\n",
       "\n",
       ".sk-estimator-doc-link:hover span {\n",
       "  display: block;\n",
       "}\n",
       "\n",
       "/* \"?\"-specific style due to the `<a>` HTML tag */\n",
       "\n",
       "#sk-container-id-1 a.estimator_doc_link {\n",
       "  float: right;\n",
       "  font-size: 1rem;\n",
       "  line-height: 1em;\n",
       "  font-family: monospace;\n",
       "  background-color: var(--sklearn-color-background);\n",
       "  border-radius: 1rem;\n",
       "  height: 1rem;\n",
       "  width: 1rem;\n",
       "  text-decoration: none;\n",
       "  /* unfitted */\n",
       "  color: var(--sklearn-color-unfitted-level-1);\n",
       "  border: var(--sklearn-color-unfitted-level-1) 1pt solid;\n",
       "}\n",
       "\n",
       "#sk-container-id-1 a.estimator_doc_link.fitted {\n",
       "  /* fitted */\n",
       "  border: var(--sklearn-color-fitted-level-1) 1pt solid;\n",
       "  color: var(--sklearn-color-fitted-level-1);\n",
       "}\n",
       "\n",
       "/* On hover */\n",
       "#sk-container-id-1 a.estimator_doc_link:hover {\n",
       "  /* unfitted */\n",
       "  background-color: var(--sklearn-color-unfitted-level-3);\n",
       "  color: var(--sklearn-color-background);\n",
       "  text-decoration: none;\n",
       "}\n",
       "\n",
       "#sk-container-id-1 a.estimator_doc_link.fitted:hover {\n",
       "  /* fitted */\n",
       "  background-color: var(--sklearn-color-fitted-level-3);\n",
       "}\n",
       "</style><div id=\"sk-container-id-1\" class=\"sk-top-container\"><div class=\"sk-text-repr-fallback\"><pre>Pipeline(steps=[(&#x27;categorize_education&#x27;,\n",
       "                 FunctionTransformer(func=&lt;function format_education at 0x000001DE9939DC60&gt;)),\n",
       "                (&#x27;convert_age&#x27;,\n",
       "                 FunctionTransformer(func=&lt;function convert_age at 0x000001DE9939DDA0&gt;)),\n",
       "                (&#x27;label_encoder&#x27;,\n",
       "                 FunctionTransformer(func=&lt;function label_encoder at 0x000001DE9939D440&gt;)),\n",
       "                (&#x27;encode_labels&#x27;,\n",
       "                 ColumnTransformer(remainder=&#x27;passthrough&#x27;,\n",
       "                                   trans...\n",
       "                                                                              &#x27;Months&#x27;,\n",
       "                                                                              &#x27;36-47.99 &#x27;\n",
       "                                                                              &#x27;Months&#x27;,\n",
       "                                                                              &#x27;48+ &#x27;\n",
       "                                                                              &#x27;Months&#x27;]]),\n",
       "                                                  [&#x27;Experienced candidate - &#x27;\n",
       "                                                   &#x27;(Experience in months)&#x27;]),\n",
       "                                                 (&#x27;t4&#x27;,\n",
       "                                                  OrdinalEncoder(categories=[[&#x27;No&#x27;,\n",
       "                                                                              &#x27;Yes &#x27;\n",
       "                                                                              &#x27;: &#x27;\n",
       "                                                                              &#x27;Think &#x27;\n",
       "                                                                              &#x27;and &#x27;\n",
       "                                                                              &#x27;says &#x27;\n",
       "                                                                              &#x27;yes.(Shows &#x27;\n",
       "                                                                              &#x27;some &#x27;\n",
       "                                                                              &#x27;hesitation)&#x27;,\n",
       "                                                                              &#x27;Emphatic &#x27;\n",
       "                                                                              &#x27;Yes&#x27;]]),\n",
       "                                                  [&#x27;Role acceptance&#x27;]),\n",
       "                                                 (&#x27;t5&#x27;,\n",
       "                                                  OrdinalEncoder(categories=[[&#x27;18-22&#x27;,\n",
       "                                                                              &#x27;23-25&#x27;,\n",
       "                                                                              &#x27;26-28&#x27;,\n",
       "                                                                              &#x27;29-32&#x27;,\n",
       "                                                                              &#x27;33-35&#x27;,\n",
       "                                                                              &#x27;35+&#x27;]]),\n",
       "                                                  [&#x27;Age&#x27;])])),\n",
       "                (&#x27;scaler&#x27;, StandardScaler())])</pre><b>In a Jupyter environment, please rerun this cell to show the HTML representation or trust the notebook. <br />On GitHub, the HTML representation is unable to render, please try loading this page with nbviewer.org.</b></div><div class=\"sk-container\" hidden><div class=\"sk-item sk-dashed-wrapped\"><div class=\"sk-label-container\"><div class=\"sk-label  sk-toggleable\"><input class=\"sk-toggleable__control sk-hidden--visually\" id=\"sk-estimator-id-1\" type=\"checkbox\" ><label for=\"sk-estimator-id-1\" class=\"sk-toggleable__label  sk-toggleable__label-arrow \">&nbsp;&nbsp;Pipeline<a class=\"sk-estimator-doc-link \" rel=\"noreferrer\" target=\"_blank\" href=\"https://scikit-learn.org/1.5/modules/generated/sklearn.pipeline.Pipeline.html\">?<span>Documentation for Pipeline</span></a><span class=\"sk-estimator-doc-link \">i<span>Not fitted</span></span></label><div class=\"sk-toggleable__content \"><pre>Pipeline(steps=[(&#x27;categorize_education&#x27;,\n",
       "                 FunctionTransformer(func=&lt;function format_education at 0x000001DE9939DC60&gt;)),\n",
       "                (&#x27;convert_age&#x27;,\n",
       "                 FunctionTransformer(func=&lt;function convert_age at 0x000001DE9939DDA0&gt;)),\n",
       "                (&#x27;label_encoder&#x27;,\n",
       "                 FunctionTransformer(func=&lt;function label_encoder at 0x000001DE9939D440&gt;)),\n",
       "                (&#x27;encode_labels&#x27;,\n",
       "                 ColumnTransformer(remainder=&#x27;passthrough&#x27;,\n",
       "                                   trans...\n",
       "                                                                              &#x27;Months&#x27;,\n",
       "                                                                              &#x27;36-47.99 &#x27;\n",
       "                                                                              &#x27;Months&#x27;,\n",
       "                                                                              &#x27;48+ &#x27;\n",
       "                                                                              &#x27;Months&#x27;]]),\n",
       "                                                  [&#x27;Experienced candidate - &#x27;\n",
       "                                                   &#x27;(Experience in months)&#x27;]),\n",
       "                                                 (&#x27;t4&#x27;,\n",
       "                                                  OrdinalEncoder(categories=[[&#x27;No&#x27;,\n",
       "                                                                              &#x27;Yes &#x27;\n",
       "                                                                              &#x27;: &#x27;\n",
       "                                                                              &#x27;Think &#x27;\n",
       "                                                                              &#x27;and &#x27;\n",
       "                                                                              &#x27;says &#x27;\n",
       "                                                                              &#x27;yes.(Shows &#x27;\n",
       "                                                                              &#x27;some &#x27;\n",
       "                                                                              &#x27;hesitation)&#x27;,\n",
       "                                                                              &#x27;Emphatic &#x27;\n",
       "                                                                              &#x27;Yes&#x27;]]),\n",
       "                                                  [&#x27;Role acceptance&#x27;]),\n",
       "                                                 (&#x27;t5&#x27;,\n",
       "                                                  OrdinalEncoder(categories=[[&#x27;18-22&#x27;,\n",
       "                                                                              &#x27;23-25&#x27;,\n",
       "                                                                              &#x27;26-28&#x27;,\n",
       "                                                                              &#x27;29-32&#x27;,\n",
       "                                                                              &#x27;33-35&#x27;,\n",
       "                                                                              &#x27;35+&#x27;]]),\n",
       "                                                  [&#x27;Age&#x27;])])),\n",
       "                (&#x27;scaler&#x27;, StandardScaler())])</pre></div> </div></div><div class=\"sk-serial\"><div class=\"sk-item\"><div class=\"sk-estimator  sk-toggleable\"><input class=\"sk-toggleable__control sk-hidden--visually\" id=\"sk-estimator-id-2\" type=\"checkbox\" ><label for=\"sk-estimator-id-2\" class=\"sk-toggleable__label  sk-toggleable__label-arrow \">&nbsp;FunctionTransformer<a class=\"sk-estimator-doc-link \" rel=\"noreferrer\" target=\"_blank\" href=\"https://scikit-learn.org/1.5/modules/generated/sklearn.preprocessing.FunctionTransformer.html\">?<span>Documentation for FunctionTransformer</span></a></label><div class=\"sk-toggleable__content \"><pre>FunctionTransformer(func=&lt;function format_education at 0x000001DE9939DC60&gt;)</pre></div> </div></div><div class=\"sk-item\"><div class=\"sk-estimator  sk-toggleable\"><input class=\"sk-toggleable__control sk-hidden--visually\" id=\"sk-estimator-id-3\" type=\"checkbox\" ><label for=\"sk-estimator-id-3\" class=\"sk-toggleable__label  sk-toggleable__label-arrow \">&nbsp;FunctionTransformer<a class=\"sk-estimator-doc-link \" rel=\"noreferrer\" target=\"_blank\" href=\"https://scikit-learn.org/1.5/modules/generated/sklearn.preprocessing.FunctionTransformer.html\">?<span>Documentation for FunctionTransformer</span></a></label><div class=\"sk-toggleable__content \"><pre>FunctionTransformer(func=&lt;function convert_age at 0x000001DE9939DDA0&gt;)</pre></div> </div></div><div class=\"sk-item\"><div class=\"sk-estimator  sk-toggleable\"><input class=\"sk-toggleable__control sk-hidden--visually\" id=\"sk-estimator-id-4\" type=\"checkbox\" ><label for=\"sk-estimator-id-4\" class=\"sk-toggleable__label  sk-toggleable__label-arrow \">&nbsp;FunctionTransformer<a class=\"sk-estimator-doc-link \" rel=\"noreferrer\" target=\"_blank\" href=\"https://scikit-learn.org/1.5/modules/generated/sklearn.preprocessing.FunctionTransformer.html\">?<span>Documentation for FunctionTransformer</span></a></label><div class=\"sk-toggleable__content \"><pre>FunctionTransformer(func=&lt;function label_encoder at 0x000001DE9939D440&gt;)</pre></div> </div></div><div class=\"sk-item sk-dashed-wrapped\"><div class=\"sk-label-container\"><div class=\"sk-label  sk-toggleable\"><input class=\"sk-toggleable__control sk-hidden--visually\" id=\"sk-estimator-id-5\" type=\"checkbox\" ><label for=\"sk-estimator-id-5\" class=\"sk-toggleable__label  sk-toggleable__label-arrow \">&nbsp;encode_labels: ColumnTransformer<a class=\"sk-estimator-doc-link \" rel=\"noreferrer\" target=\"_blank\" href=\"https://scikit-learn.org/1.5/modules/generated/sklearn.compose.ColumnTransformer.html\">?<span>Documentation for encode_labels: ColumnTransformer</span></a></label><div class=\"sk-toggleable__content \"><pre>ColumnTransformer(remainder=&#x27;passthrough&#x27;,\n",
       "                  transformers=[(&#x27;t1&#x27;,\n",
       "                                 OneHotEncoder(drop=&#x27;first&#x27;,\n",
       "                                               sparse_output=False),\n",
       "                                 [&#x27;Fluency in English based on introduction&#x27;,\n",
       "                                  &#x27;Candidate Status&#x27;, &#x27;Education&#x27;,\n",
       "                                  &#x27;What was the type of Role?&#x27;]),\n",
       "                                (&#x27;t2&#x27;,\n",
       "                                 OrdinalEncoder(categories=[[&#x27;Fresher&#x27;,\n",
       "                                                             &#x27;0-1.99&#x27;, &#x27;2-2.99&#x27;,\n",
       "                                                             &#x27;3-3.99&#x27;, &#x27;4-4.99&#x27;,\n",
       "                                                             &#x27;5-5.99&#x27;, &#x27;6-6.99&#x27;,\n",
       "                                                             &#x27;7+&#x27;]]),\n",
       "                                 [&#x27;Last Fixed CTC (lakhs)&#x27;]),\n",
       "                                (&#x27;t3&#x27;,\n",
       "                                 OrdinalE...\n",
       "                                                             &#x27;12-17.99 Months&#x27;,\n",
       "                                                             &#x27;18-23.99 Months&#x27;,\n",
       "                                                             &#x27;24-29.99 Months&#x27;,\n",
       "                                                             &#x27;30-35.99 Months&#x27;,\n",
       "                                                             &#x27;36-47.99 Months&#x27;,\n",
       "                                                             &#x27;48+ Months&#x27;]]),\n",
       "                                 [&#x27;Experienced candidate - (Experience in &#x27;\n",
       "                                  &#x27;months)&#x27;]),\n",
       "                                (&#x27;t4&#x27;,\n",
       "                                 OrdinalEncoder(categories=[[&#x27;No&#x27;,\n",
       "                                                             &#x27;Yes : Think and &#x27;\n",
       "                                                             &#x27;says yes.(Shows &#x27;\n",
       "                                                             &#x27;some hesitation)&#x27;,\n",
       "                                                             &#x27;Emphatic Yes&#x27;]]),\n",
       "                                 [&#x27;Role acceptance&#x27;]),\n",
       "                                (&#x27;t5&#x27;,\n",
       "                                 OrdinalEncoder(categories=[[&#x27;18-22&#x27;, &#x27;23-25&#x27;,\n",
       "                                                             &#x27;26-28&#x27;, &#x27;29-32&#x27;,\n",
       "                                                             &#x27;33-35&#x27;, &#x27;35+&#x27;]]),\n",
       "                                 [&#x27;Age&#x27;])])</pre></div> </div></div><div class=\"sk-parallel\"><div class=\"sk-parallel-item\"><div class=\"sk-item\"><div class=\"sk-label-container\"><div class=\"sk-label  sk-toggleable\"><input class=\"sk-toggleable__control sk-hidden--visually\" id=\"sk-estimator-id-6\" type=\"checkbox\" ><label for=\"sk-estimator-id-6\" class=\"sk-toggleable__label  sk-toggleable__label-arrow \">t1</label><div class=\"sk-toggleable__content \"><pre>[&#x27;Fluency in English based on introduction&#x27;, &#x27;Candidate Status&#x27;, &#x27;Education&#x27;, &#x27;What was the type of Role?&#x27;]</pre></div> </div></div><div class=\"sk-serial\"><div class=\"sk-item\"><div class=\"sk-estimator  sk-toggleable\"><input class=\"sk-toggleable__control sk-hidden--visually\" id=\"sk-estimator-id-7\" type=\"checkbox\" ><label for=\"sk-estimator-id-7\" class=\"sk-toggleable__label  sk-toggleable__label-arrow \">&nbsp;OneHotEncoder<a class=\"sk-estimator-doc-link \" rel=\"noreferrer\" target=\"_blank\" href=\"https://scikit-learn.org/1.5/modules/generated/sklearn.preprocessing.OneHotEncoder.html\">?<span>Documentation for OneHotEncoder</span></a></label><div class=\"sk-toggleable__content \"><pre>OneHotEncoder(drop=&#x27;first&#x27;, sparse_output=False)</pre></div> </div></div></div></div></div><div class=\"sk-parallel-item\"><div class=\"sk-item\"><div class=\"sk-label-container\"><div class=\"sk-label  sk-toggleable\"><input class=\"sk-toggleable__control sk-hidden--visually\" id=\"sk-estimator-id-8\" type=\"checkbox\" ><label for=\"sk-estimator-id-8\" class=\"sk-toggleable__label  sk-toggleable__label-arrow \">t2</label><div class=\"sk-toggleable__content \"><pre>[&#x27;Last Fixed CTC (lakhs)&#x27;]</pre></div> </div></div><div class=\"sk-serial\"><div class=\"sk-item\"><div class=\"sk-estimator  sk-toggleable\"><input class=\"sk-toggleable__control sk-hidden--visually\" id=\"sk-estimator-id-9\" type=\"checkbox\" ><label for=\"sk-estimator-id-9\" class=\"sk-toggleable__label  sk-toggleable__label-arrow \">&nbsp;OrdinalEncoder<a class=\"sk-estimator-doc-link \" rel=\"noreferrer\" target=\"_blank\" href=\"https://scikit-learn.org/1.5/modules/generated/sklearn.preprocessing.OrdinalEncoder.html\">?<span>Documentation for OrdinalEncoder</span></a></label><div class=\"sk-toggleable__content \"><pre>OrdinalEncoder(categories=[[&#x27;Fresher&#x27;, &#x27;0-1.99&#x27;, &#x27;2-2.99&#x27;, &#x27;3-3.99&#x27;, &#x27;4-4.99&#x27;,\n",
       "                            &#x27;5-5.99&#x27;, &#x27;6-6.99&#x27;, &#x27;7+&#x27;]])</pre></div> </div></div></div></div></div><div class=\"sk-parallel-item\"><div class=\"sk-item\"><div class=\"sk-label-container\"><div class=\"sk-label  sk-toggleable\"><input class=\"sk-toggleable__control sk-hidden--visually\" id=\"sk-estimator-id-10\" type=\"checkbox\" ><label for=\"sk-estimator-id-10\" class=\"sk-toggleable__label  sk-toggleable__label-arrow \">t3</label><div class=\"sk-toggleable__content \"><pre>[&#x27;Experienced candidate - (Experience in months)&#x27;]</pre></div> </div></div><div class=\"sk-serial\"><div class=\"sk-item\"><div class=\"sk-estimator  sk-toggleable\"><input class=\"sk-toggleable__control sk-hidden--visually\" id=\"sk-estimator-id-11\" type=\"checkbox\" ><label for=\"sk-estimator-id-11\" class=\"sk-toggleable__label  sk-toggleable__label-arrow \">&nbsp;OrdinalEncoder<a class=\"sk-estimator-doc-link \" rel=\"noreferrer\" target=\"_blank\" href=\"https://scikit-learn.org/1.5/modules/generated/sklearn.preprocessing.OrdinalEncoder.html\">?<span>Documentation for OrdinalEncoder</span></a></label><div class=\"sk-toggleable__content \"><pre>OrdinalEncoder(categories=[[&#x27;Fresher(&lt;6 months)&#x27;, &#x27;6-11.99 Months&#x27;,\n",
       "                            &#x27;12-17.99 Months&#x27;, &#x27;18-23.99 Months&#x27;,\n",
       "                            &#x27;24-29.99 Months&#x27;, &#x27;30-35.99 Months&#x27;,\n",
       "                            &#x27;36-47.99 Months&#x27;, &#x27;48+ Months&#x27;]])</pre></div> </div></div></div></div></div><div class=\"sk-parallel-item\"><div class=\"sk-item\"><div class=\"sk-label-container\"><div class=\"sk-label  sk-toggleable\"><input class=\"sk-toggleable__control sk-hidden--visually\" id=\"sk-estimator-id-12\" type=\"checkbox\" ><label for=\"sk-estimator-id-12\" class=\"sk-toggleable__label  sk-toggleable__label-arrow \">t4</label><div class=\"sk-toggleable__content \"><pre>[&#x27;Role acceptance&#x27;]</pre></div> </div></div><div class=\"sk-serial\"><div class=\"sk-item\"><div class=\"sk-estimator  sk-toggleable\"><input class=\"sk-toggleable__control sk-hidden--visually\" id=\"sk-estimator-id-13\" type=\"checkbox\" ><label for=\"sk-estimator-id-13\" class=\"sk-toggleable__label  sk-toggleable__label-arrow \">&nbsp;OrdinalEncoder<a class=\"sk-estimator-doc-link \" rel=\"noreferrer\" target=\"_blank\" href=\"https://scikit-learn.org/1.5/modules/generated/sklearn.preprocessing.OrdinalEncoder.html\">?<span>Documentation for OrdinalEncoder</span></a></label><div class=\"sk-toggleable__content \"><pre>OrdinalEncoder(categories=[[&#x27;No&#x27;,\n",
       "                            &#x27;Yes : Think and says yes.(Shows some hesitation)&#x27;,\n",
       "                            &#x27;Emphatic Yes&#x27;]])</pre></div> </div></div></div></div></div><div class=\"sk-parallel-item\"><div class=\"sk-item\"><div class=\"sk-label-container\"><div class=\"sk-label  sk-toggleable\"><input class=\"sk-toggleable__control sk-hidden--visually\" id=\"sk-estimator-id-14\" type=\"checkbox\" ><label for=\"sk-estimator-id-14\" class=\"sk-toggleable__label  sk-toggleable__label-arrow \">t5</label><div class=\"sk-toggleable__content \"><pre>[&#x27;Age&#x27;]</pre></div> </div></div><div class=\"sk-serial\"><div class=\"sk-item\"><div class=\"sk-estimator  sk-toggleable\"><input class=\"sk-toggleable__control sk-hidden--visually\" id=\"sk-estimator-id-15\" type=\"checkbox\" ><label for=\"sk-estimator-id-15\" class=\"sk-toggleable__label  sk-toggleable__label-arrow \">&nbsp;OrdinalEncoder<a class=\"sk-estimator-doc-link \" rel=\"noreferrer\" target=\"_blank\" href=\"https://scikit-learn.org/1.5/modules/generated/sklearn.preprocessing.OrdinalEncoder.html\">?<span>Documentation for OrdinalEncoder</span></a></label><div class=\"sk-toggleable__content \"><pre>OrdinalEncoder(categories=[[&#x27;18-22&#x27;, &#x27;23-25&#x27;, &#x27;26-28&#x27;, &#x27;29-32&#x27;, &#x27;33-35&#x27;,\n",
       "                            &#x27;35+&#x27;]])</pre></div> </div></div></div></div></div><div class=\"sk-parallel-item\"><div class=\"sk-item\"><div class=\"sk-label-container\"><div class=\"sk-label  sk-toggleable\"><input class=\"sk-toggleable__control sk-hidden--visually\" id=\"sk-estimator-id-16\" type=\"checkbox\" ><label for=\"sk-estimator-id-16\" class=\"sk-toggleable__label  sk-toggleable__label-arrow \">remainder</label><div class=\"sk-toggleable__content \"><pre></pre></div> </div></div><div class=\"sk-serial\"><div class=\"sk-item\"><div class=\"sk-estimator  sk-toggleable\"><input class=\"sk-toggleable__control sk-hidden--visually\" id=\"sk-estimator-id-17\" type=\"checkbox\" ><label for=\"sk-estimator-id-17\" class=\"sk-toggleable__label  sk-toggleable__label-arrow \">passthrough</label><div class=\"sk-toggleable__content \"><pre>passthrough</pre></div> </div></div></div></div></div></div></div><div class=\"sk-item\"><div class=\"sk-estimator  sk-toggleable\"><input class=\"sk-toggleable__control sk-hidden--visually\" id=\"sk-estimator-id-18\" type=\"checkbox\" ><label for=\"sk-estimator-id-18\" class=\"sk-toggleable__label  sk-toggleable__label-arrow \">&nbsp;StandardScaler<a class=\"sk-estimator-doc-link \" rel=\"noreferrer\" target=\"_blank\" href=\"https://scikit-learn.org/1.5/modules/generated/sklearn.preprocessing.StandardScaler.html\">?<span>Documentation for StandardScaler</span></a></label><div class=\"sk-toggleable__content \"><pre>StandardScaler()</pre></div> </div></div></div></div></div></div>"
      ],
      "text/plain": [
       "Pipeline(steps=[('categorize_education',\n",
       "                 FunctionTransformer(func=<function format_education at 0x000001DE9939DC60>)),\n",
       "                ('convert_age',\n",
       "                 FunctionTransformer(func=<function convert_age at 0x000001DE9939DDA0>)),\n",
       "                ('label_encoder',\n",
       "                 FunctionTransformer(func=<function label_encoder at 0x000001DE9939D440>)),\n",
       "                ('encode_labels',\n",
       "                 ColumnTransformer(remainder='passthrough',\n",
       "                                   trans...\n",
       "                                                                              'Months',\n",
       "                                                                              '36-47.99 '\n",
       "                                                                              'Months',\n",
       "                                                                              '48+ '\n",
       "                                                                              'Months']]),\n",
       "                                                  ['Experienced candidate - '\n",
       "                                                   '(Experience in months)']),\n",
       "                                                 ('t4',\n",
       "                                                  OrdinalEncoder(categories=[['No',\n",
       "                                                                              'Yes '\n",
       "                                                                              ': '\n",
       "                                                                              'Think '\n",
       "                                                                              'and '\n",
       "                                                                              'says '\n",
       "                                                                              'yes.(Shows '\n",
       "                                                                              'some '\n",
       "                                                                              'hesitation)',\n",
       "                                                                              'Emphatic '\n",
       "                                                                              'Yes']]),\n",
       "                                                  ['Role acceptance']),\n",
       "                                                 ('t5',\n",
       "                                                  OrdinalEncoder(categories=[['18-22',\n",
       "                                                                              '23-25',\n",
       "                                                                              '26-28',\n",
       "                                                                              '29-32',\n",
       "                                                                              '33-35',\n",
       "                                                                              '35+']]),\n",
       "                                                  ['Age'])])),\n",
       "                ('scaler', StandardScaler())])"
      ]
     },
     "execution_count": 26,
     "metadata": {},
     "output_type": "execute_result"
    }
   ],
   "source": [
    "set_config(display='diagram')\n",
    "preprocessing_pipeline"
   ]
  },
  {
   "cell_type": "markdown",
   "id": "ab945def-7b26-4ab7-9f4f-0ed720b9fcdd",
   "metadata": {},
   "source": [
    "# Data Splitting"
   ]
  },
  {
   "cell_type": "code",
   "execution_count": 28,
   "id": "3660f837-2da1-4c17-af4a-a769b4d7fa3a",
   "metadata": {},
   "outputs": [],
   "source": [
    "X = df"
   ]
  },
  {
   "cell_type": "code",
   "execution_count": 29,
   "id": "7849c298-e67f-43fa-a140-a8853db111b2",
   "metadata": {},
   "outputs": [
    {
     "data": {
      "text/plain": [
       "pandas.core.frame.DataFrame"
      ]
     },
     "execution_count": 29,
     "metadata": {},
     "output_type": "execute_result"
    }
   ],
   "source": [
    "type(X)"
   ]
  },
  {
   "cell_type": "code",
   "execution_count": 30,
   "id": "3bb5ff1e-f864-41eb-ba9f-a7743ce052f2",
   "metadata": {},
   "outputs": [],
   "source": [
    "X_train, X_test = train_test_split(X, test_size=0.2, random_state=42)"
   ]
  },
  {
   "cell_type": "code",
   "execution_count": 31,
   "id": "df3c1de8-c923-4c57-b5fa-2328c3fa2e67",
   "metadata": {},
   "outputs": [],
   "source": [
    "X_train_index = X_train.index\n",
    "X_test_index = X_test.index"
   ]
  },
  {
   "cell_type": "code",
   "execution_count": 32,
   "id": "f244fc2f-e99d-44df-a9a0-3bf87145fcbe",
   "metadata": {},
   "outputs": [
    {
     "name": "stdout",
     "output_type": "stream",
     "text": [
      "Length of X_train: 3517\n",
      "Length of X_test: 880\n"
     ]
    }
   ],
   "source": [
    "print(f'Length of X_train: {len(X_train)}')\n",
    "print(f'Length of X_test: {len(X_test)}')"
   ]
  },
  {
   "cell_type": "code",
   "execution_count": 33,
   "id": "60d43266-a4d2-412d-8842-6fb7ed667bc2",
   "metadata": {},
   "outputs": [
    {
     "data": {
      "text/plain": [
       "pandas.core.frame.DataFrame"
      ]
     },
     "execution_count": 33,
     "metadata": {},
     "output_type": "execute_result"
    }
   ],
   "source": [
    "type(X_train)"
   ]
  },
  {
   "cell_type": "markdown",
   "id": "33e55ad9-d6ed-4f4b-980f-d2529c6d267f",
   "metadata": {},
   "source": [
    "# Fit Pipeline"
   ]
  },
  {
   "cell_type": "code",
   "execution_count": 35,
   "id": "fdbe210f-8abd-4f28-8368-9d861630e7a4",
   "metadata": {},
   "outputs": [
    {
     "data": {
      "text/plain": [
       "Index(['Age', 'Gender', 'Education', 'Marital status', 'Mode of Interview',\n",
       "       'Fluency in English based on introduction',\n",
       "       'Does the candidate has mother tongue influence while speaking english.',\n",
       "       'Acquaintance and Referral', 'Candidate Status',\n",
       "       'Last Fixed CTC (lakhs)', 'Currently Employed',\n",
       "       'Experienced candidate - (Experience in months)',\n",
       "       'What was the type of Role?', 'Role acceptance',\n",
       "       'Candidate is willing to relocate', 'Confidence Score',\n",
       "       'Structured Thinking Score', 'Regional Fluency Score'],\n",
       "      dtype='object')"
      ]
     },
     "execution_count": 35,
     "metadata": {},
     "output_type": "execute_result"
    }
   ],
   "source": [
    "X_train.columns"
   ]
  },
  {
   "cell_type": "code",
   "execution_count": 36,
   "id": "5d2e3d39-de49-49d3-840d-8515bbca594e",
   "metadata": {},
   "outputs": [],
   "source": [
    "X_train = preprocessing_pipeline.fit_transform(X_train)\n",
    "X_test = preprocessing_pipeline.transform(X_test)"
   ]
  },
  {
   "cell_type": "code",
   "execution_count": 37,
   "id": "1f14891a-af2f-4936-8a7b-4a72589d8139",
   "metadata": {},
   "outputs": [],
   "source": [
    "''' Convert into Tensors '''\n",
    "X_train_tensor = torch.tensor(X_train, dtype=torch.float32)\n",
    "X_test_tensor = torch.tensor(X_test, dtype=torch.float32)"
   ]
  },
  {
   "cell_type": "code",
   "execution_count": 38,
   "id": "2829e3f7-f425-4843-a844-2c4728b3b1dc",
   "metadata": {},
   "outputs": [
    {
     "data": {
      "text/plain": [
       "(torch.Tensor, torch.Tensor)"
      ]
     },
     "execution_count": 38,
     "metadata": {},
     "output_type": "execute_result"
    }
   ],
   "source": [
    "type(X_train_tensor), type(X_test_tensor)"
   ]
  },
  {
   "cell_type": "code",
   "execution_count": 39,
   "id": "654a4c41-6d87-4216-8462-797e9b1acaaf",
   "metadata": {},
   "outputs": [
    {
     "data": {
      "text/plain": [
       "(3517, 880)"
      ]
     },
     "execution_count": 39,
     "metadata": {},
     "output_type": "execute_result"
    }
   ],
   "source": [
    "len(X_train_tensor), len(X_test_tensor)"
   ]
  },
  {
   "cell_type": "markdown",
   "id": "b6d6c3d4-ef07-4bff-b68b-631f8168dcf2",
   "metadata": {},
   "source": [
    "# Dataset Class"
   ]
  },
  {
   "cell_type": "code",
   "execution_count": 41,
   "id": "ff6598f4-313d-4915-8d7f-796df9aa0ce0",
   "metadata": {},
   "outputs": [],
   "source": [
    "class CustomDataset(Dataset):\n",
    "    def __init__(self, data):\n",
    "        self.data = torch.tensor(data, dtype=torch.float32)\n",
    "\n",
    "    def __len__(self):\n",
    "        return len(self.data)\n",
    "\n",
    "    def __getitem__(self, idx):\n",
    "        return self.data[idx]"
   ]
  },
  {
   "cell_type": "code",
   "execution_count": 42,
   "id": "0dfc48bd-49d0-4180-b736-d0b6eadc60cd",
   "metadata": {},
   "outputs": [],
   "source": [
    "train_data = CustomDataset(X_train)\n",
    "test_data = CustomDataset(X_test)"
   ]
  },
  {
   "cell_type": "markdown",
   "id": "ab1467c9-a5bc-4082-a9d8-dae52d4f74eb",
   "metadata": {},
   "source": [
    "# DataLoader"
   ]
  },
  {
   "cell_type": "code",
   "execution_count": 44,
   "id": "b60f7214-1869-4188-bd13-f849b864c8d8",
   "metadata": {},
   "outputs": [],
   "source": [
    "BATCH_SIZE = 16"
   ]
  },
  {
   "cell_type": "code",
   "execution_count": 45,
   "id": "6e61bb84-514a-4b72-a440-c3517d8126ce",
   "metadata": {},
   "outputs": [],
   "source": [
    "train_dataloader = DataLoader(train_data, batch_size=BATCH_SIZE, shuffle=True)\n",
    "test_dataloader = DataLoader(test_data, batch_size=BATCH_SIZE, shuffle=True)"
   ]
  },
  {
   "cell_type": "code",
   "execution_count": 46,
   "id": "d4b0513e-4f5e-406e-af9a-3c7fe2dc8364",
   "metadata": {},
   "outputs": [
    {
     "data": {
      "text/plain": [
       "(3517, 880)"
      ]
     },
     "execution_count": 46,
     "metadata": {},
     "output_type": "execute_result"
    }
   ],
   "source": [
    "len(train_data), len(test_data)"
   ]
  },
  {
   "cell_type": "code",
   "execution_count": 47,
   "id": "e275071a-6c70-4764-8418-bc0e16c7e92e",
   "metadata": {},
   "outputs": [
    {
     "data": {
      "text/plain": [
       "(220, 55)"
      ]
     },
     "execution_count": 47,
     "metadata": {},
     "output_type": "execute_result"
    }
   ],
   "source": [
    "len(train_dataloader), len(test_dataloader)"
   ]
  },
  {
   "cell_type": "markdown",
   "id": "8631c106-4f88-45d6-8323-6e392e6ecab5",
   "metadata": {},
   "source": [
    "# Define a Model"
   ]
  },
  {
   "cell_type": "code",
   "execution_count": 49,
   "id": "eba46119-feec-4601-bead-57a145278cbe",
   "metadata": {},
   "outputs": [],
   "source": [
    "class RecommenderModel(nn.Module):\n",
    "    def __init__(self, input_shape):\n",
    "        super().__init__()\n",
    "        '''  Encoder (Compression) '''\n",
    "        # Shrinks job data into a small hidden representation (like a summary).\n",
    "        self.encoder = nn.Sequential(\n",
    "            nn.Linear(input_shape, 128),\n",
    "            nn.ReLU(),\n",
    "            nn.Linear(128, 64),\n",
    "            nn.ReLU(),\n",
    "            nn.Linear(64, 32)\n",
    "        )\n",
    "\n",
    "        ''' Decoder (Reconstruction) '''\n",
    "        # Tries to rebuild the original job data from that compressed version.\n",
    "        self.decoder = nn.Sequential(\n",
    "            nn.Linear(32, 64),\n",
    "            nn.ReLU(),\n",
    "            nn.Linear(64, 128),\n",
    "            nn.ReLU(),\n",
    "            nn.Linear(128, input_shape)\n",
    "        )\n",
    "\n",
    "    def forward(self, x):\n",
    "        encoded = self.encoder(x)\n",
    "        decoded = self.decoder(encoded)\n",
    "        return encoded, decoded"
   ]
  },
  {
   "cell_type": "code",
   "execution_count": 50,
   "id": "a032f9ab-ff47-4fea-9083-a4fcae4b5263",
   "metadata": {},
   "outputs": [
    {
     "data": {
      "text/plain": [
       "28"
      ]
     },
     "execution_count": 50,
     "metadata": {},
     "output_type": "execute_result"
    }
   ],
   "source": [
    "X_train.shape[1]"
   ]
  },
  {
   "cell_type": "code",
   "execution_count": 51,
   "id": "bc979ded-b73f-41ad-9323-2b5d1ffca51c",
   "metadata": {},
   "outputs": [
    {
     "data": {
      "text/plain": [
       "RecommenderModel(\n",
       "  (encoder): Sequential(\n",
       "    (0): Linear(in_features=28, out_features=128, bias=True)\n",
       "    (1): ReLU()\n",
       "    (2): Linear(in_features=128, out_features=64, bias=True)\n",
       "    (3): ReLU()\n",
       "    (4): Linear(in_features=64, out_features=32, bias=True)\n",
       "  )\n",
       "  (decoder): Sequential(\n",
       "    (0): Linear(in_features=32, out_features=64, bias=True)\n",
       "    (1): ReLU()\n",
       "    (2): Linear(in_features=64, out_features=128, bias=True)\n",
       "    (3): ReLU()\n",
       "    (4): Linear(in_features=128, out_features=28, bias=True)\n",
       "  )\n",
       ")"
      ]
     },
     "execution_count": 51,
     "metadata": {},
     "output_type": "execute_result"
    }
   ],
   "source": [
    "''' Initializing the model '''\n",
    "input_shape = X_train.shape[1]\n",
    "\n",
    "model_1 = RecommenderModel(input_shape)\n",
    "model_1.to(device)"
   ]
  },
  {
   "cell_type": "code",
   "execution_count": 52,
   "id": "f918de47-3b99-47da-a778-f31a2f22b03c",
   "metadata": {},
   "outputs": [],
   "source": [
    "''' Important Parameters '''\n",
    "learning_rate = 0.001\n",
    "epochs = 20"
   ]
  },
  {
   "cell_type": "code",
   "execution_count": 53,
   "id": "52e58ac4-e7fc-43bc-8a8d-f7afc202587e",
   "metadata": {},
   "outputs": [],
   "source": [
    "''' Loss Function and Optimizer '''\n",
    "cosine_loss_function = nn.CosineEmbeddingLoss()\n",
    "mse_loss_function = nn.MSELoss()\n",
    "optimizer = torch.optim.Adam(model_1.parameters(), lr=learning_rate)"
   ]
  },
  {
   "cell_type": "markdown",
   "id": "d7a1ee7f-17bc-40e7-bfa3-a04e6b5ddc5d",
   "metadata": {},
   "source": [
    "# Training Loop"
   ]
  },
  {
   "cell_type": "code",
   "execution_count": 55,
   "id": "790a759b-cda4-4306-b860-8d6b5850bc4e",
   "metadata": {},
   "outputs": [],
   "source": [
    "def train_step(model:torch.nn.Module,\n",
    "               dataloader:torch.utils.data.DataLoader,\n",
    "               mse_loss_function:torch.nn.Module,\n",
    "               cosine_loss_function:torch.nn.Module,\n",
    "               optimizer:torch.optim.Optimizer):\n",
    "    \n",
    "    model.train()\n",
    "    epoch_total_loss = 0\n",
    "\n",
    "    for batch_X in dataloader:\n",
    "        encoded, decoded = model(batch_X)  # Forward pass\n",
    "\n",
    "        ''' Compute Loss '''\n",
    "        mse_loss = mse_loss_function(decoded, batch_X)  # Reconstruction Loss\n",
    "\n",
    "        batch_size = encoded.shape[0]\n",
    "        target_labels = torch.ones(batch_size)\n",
    "\n",
    "        permuted_indices = torch.randperm(batch_size)\n",
    "        encoded_shuffled = encoded[permuted_indices]\n",
    "\n",
    "        cosine_loss = cosine_loss_function(encoded, encoded_shuffled, target_labels) # Similarity Loss\n",
    "        total_loss = mse_loss + cosine_loss\n",
    "\n",
    "        optimizer.zero_grad()\n",
    "        total_loss.backward()\n",
    "        optimizer.step()\n",
    "\n",
    "        epoch_total_loss += total_loss.item()\n",
    "\n",
    "    training_loss = epoch_total_loss / len(dataloader)\n",
    "    return training_loss"
   ]
  },
  {
   "cell_type": "markdown",
   "id": "1652a38f-48de-4ada-b97c-2b5da0ca443a",
   "metadata": {},
   "source": [
    "# Testing Loop"
   ]
  },
  {
   "cell_type": "code",
   "execution_count": 57,
   "id": "43a83721-5f7b-4f80-a884-90750d4cf4f1",
   "metadata": {},
   "outputs": [],
   "source": [
    "def test_step(model:torch.nn.Module,\n",
    "              dataloader:torch.utils.data.DataLoader,\n",
    "              mse_loss_function:torch.nn.Module,\n",
    "              cosine_loss_function:torch.nn.Module,\n",
    "             ):\n",
    "\n",
    "    epoch_total_loss = 0\n",
    "    \n",
    "    model.eval()\n",
    "    with torch.inference_mode():\n",
    "        for batch_X in dataloader:\n",
    "            encoded, decoded = model(batch_X)  # Forward pass\n",
    "\n",
    "            ''' Compute Loss '''\n",
    "            mse_loss = mse_loss_function(decoded, batch_X)  # Reconstruction Loss\n",
    "    \n",
    "            batch_size = encoded.shape[0]\n",
    "            target_labels = torch.ones(batch_size)\n",
    "\n",
    "            # Compare each encoded job to another shuffled job\n",
    "            permuted_indices = torch.randperm(batch_size)\n",
    "            encoded_shuffled = encoded[permuted_indices]\n",
    "\n",
    "            cosine_loss = cosine_loss_function(encoded, encoded_shuffled, target_labels)\n",
    "            total_loss = mse_loss + cosine_loss\n",
    "            \n",
    "            epoch_total_loss += total_loss.item()\n",
    "\n",
    "        testing_loss = epoch_total_loss / len(dataloader)\n",
    "        return testing_loss"
   ]
  },
  {
   "cell_type": "markdown",
   "id": "c60634b3-8505-48e2-be79-8e1df2ea497b",
   "metadata": {},
   "source": [
    "# Combining Training and Testing Loop into evaluate()"
   ]
  },
  {
   "cell_type": "code",
   "execution_count": 59,
   "id": "c3fe8d12-3852-4546-82c3-1adc5b1b7257",
   "metadata": {},
   "outputs": [],
   "source": [
    "def evaluate(model:torch.nn.Module,\n",
    "             train_dataloader:torch.utils.data.DataLoader,\n",
    "             test_dataloader:torch.utils.data.DataLoader,\n",
    "             mse_loss_function:torch.nn.Module,\n",
    "             cosine_loss_function:torch.nn.Module,\n",
    "             epochs:int = 5\n",
    "            ):\n",
    "    \n",
    "    results = {'training_loss':[],\n",
    "              'testing_loss':[]}\n",
    "\n",
    "    for epoch in range(epochs):\n",
    "        training_loss = train_step(model=model,\n",
    "                                   dataloader=train_dataloader,\n",
    "                                   mse_loss_function=mse_loss_function,\n",
    "                                   cosine_loss_function=cosine_loss_function,\n",
    "                                   optimizer=optimizer\n",
    "                                  )\n",
    "\n",
    "        testing_loss = test_step(model=model,\n",
    "                                   dataloader=test_dataloader,\n",
    "                                   mse_loss_function=mse_loss_function,\n",
    "                                   cosine_loss_function=cosine_loss_function\n",
    "                                  )\n",
    "\n",
    "        results['training_loss'].append(training_loss)\n",
    "        results['testing_loss'].append(testing_loss)\n",
    "\n",
    "        print(f'Epoch {epoch+1}/{epochs} | Training Loss: {training_loss:.5f} | Testing Loss: {testing_loss:.5f}')\n",
    "\n",
    "    return results"
   ]
  },
  {
   "cell_type": "code",
   "execution_count": 60,
   "id": "478ccb58-1a2b-47d9-8d43-16ef090b7092",
   "metadata": {},
   "outputs": [
    {
     "name": "stdout",
     "output_type": "stream",
     "text": [
      "Epoch 1/20 | Training Loss: 0.91043 | Testing Loss: 1.25549\n",
      "Epoch 2/20 | Training Loss: 0.77107 | Testing Loss: 0.93422\n",
      "Epoch 3/20 | Training Loss: 0.55399 | Testing Loss: 0.73596\n",
      "Epoch 4/20 | Training Loss: 0.41847 | Testing Loss: 0.61389\n",
      "Epoch 5/20 | Training Loss: 0.31403 | Testing Loss: 0.46837\n",
      "Epoch 6/20 | Training Loss: 0.24141 | Testing Loss: 0.41771\n",
      "Epoch 7/20 | Training Loss: 0.20113 | Testing Loss: 0.32764\n",
      "Epoch 8/20 | Training Loss: 0.16316 | Testing Loss: 0.31059\n",
      "Epoch 9/20 | Training Loss: 0.14302 | Testing Loss: 0.26875\n",
      "Epoch 10/20 | Training Loss: 0.12617 | Testing Loss: 0.27096\n",
      "Epoch 11/20 | Training Loss: 0.11510 | Testing Loss: 0.20474\n",
      "Epoch 12/20 | Training Loss: 0.10464 | Testing Loss: 0.22762\n",
      "Epoch 13/20 | Training Loss: 0.09166 | Testing Loss: 0.19172\n",
      "Epoch 14/20 | Training Loss: 0.08353 | Testing Loss: 0.16467\n",
      "Epoch 15/20 | Training Loss: 0.07136 | Testing Loss: 0.16509\n",
      "Epoch 16/20 | Training Loss: 0.06311 | Testing Loss: 0.15932\n",
      "Epoch 17/20 | Training Loss: 0.05791 | Testing Loss: 0.13927\n",
      "Epoch 18/20 | Training Loss: 0.05348 | Testing Loss: 0.14080\n",
      "Epoch 19/20 | Training Loss: 0.05123 | Testing Loss: 0.15177\n",
      "Epoch 20/20 | Training Loss: 0.04777 | Testing Loss: 0.10778\n"
     ]
    }
   ],
   "source": [
    "torch.manual_seed(42)\n",
    "\n",
    "model_1_results = evaluate(model=model_1,\n",
    "                        train_dataloader=train_dataloader,\n",
    "                        test_dataloader=test_dataloader,\n",
    "                        mse_loss_function=mse_loss_function,\n",
    "                        cosine_loss_function=cosine_loss_function,\n",
    "                        epochs=epochs)"
   ]
  },
  {
   "cell_type": "markdown",
   "id": "3ba7cbe4-2d6c-4c00-94e6-3e60dc595e3a",
   "metadata": {},
   "source": [
    "# Loss and Accuracy Curves"
   ]
  },
  {
   "cell_type": "code",
   "execution_count": 62,
   "id": "e674c7b0-8107-4da4-82dd-73bb7daba564",
   "metadata": {},
   "outputs": [
    {
     "data": {
      "image/png": "[encoded data removed]",
      "text/plain": [
       "<Figure size 800x500 with 1 Axes>"
      ]
     },
     "metadata": {},
     "output_type": "display_data"
    }
   ],
   "source": [
    "epochs = range(len(model_1_results['training_loss']))\n",
    "\n",
    "plt.figure(figsize=(8, 5))\n",
    "plt.plot(epochs, model_1_results['training_loss'], label='Training Loss')\n",
    "plt.plot(epochs, model_1_results['testing_loss'], label='Testing Loss')\n",
    "plt.xlabel('Epochs')\n",
    "plt.ylabel('Loss')\n",
    "plt.title('Training VS Testing Loss')\n",
    "plt.legend()\n",
    "plt.show()"
   ]
  },
  {
   "cell_type": "markdown",
   "id": "63bbd843-53fa-4137-b39a-6219ae7927cf",
   "metadata": {},
   "source": [
    "# Recommeding Top 5 Candidates"
   ]
  },
  {
   "cell_type": "code",
   "execution_count": 64,
   "id": "01688f4b-47e2-4c6c-ba1c-55062a4be8d5",
   "metadata": {},
   "outputs": [
    {
     "data": {
      "text/plain": [
       "Index(['Age', 'Gender', 'Education', 'Marital status', 'Mode of Interview',\n",
       "       'Fluency in English based on introduction',\n",
       "       'Does the candidate has mother tongue influence while speaking english.',\n",
       "       'Acquaintance and Referral', 'Candidate Status',\n",
       "       'Last Fixed CTC (lakhs)', 'Currently Employed',\n",
       "       'Experienced candidate - (Experience in months)',\n",
       "       'What was the type of Role?', 'Role acceptance',\n",
       "       'Candidate is willing to relocate', 'Confidence Score',\n",
       "       'Structured Thinking Score', 'Regional Fluency Score'],\n",
       "      dtype='object')"
      ]
     },
     "execution_count": 64,
     "metadata": {},
     "output_type": "execute_result"
    }
   ],
   "source": [
    "X.columns"
   ]
  },
  {
   "cell_type": "code",
   "execution_count": 65,
   "id": "4eaef661-337d-44f3-ae18-d36bc3cdb9c5",
   "metadata": {},
   "outputs": [],
   "source": [
    "employer_pref = {\n",
    "    'Age': 21,\n",
    "    'Gender': 'Male',\n",
    "    'Education' : 'B.E / B-Tech',\n",
    "    'Marital status' : 'Unmarried',\n",
    "    'Mode of Interview' : 'Laptop',\n",
    "    'Fluency in English based on introduction' : 'Able to speak sentences in a clear/coherent way. Smooth talker with one or two hiccups.',\n",
    "    'Does the candidate has mother tongue influence while speaking english.' : 'No',\n",
    "    'Acquaintance and Referral' : 'No',\n",
    "    'Candidate Status' : 'Fresher(only 2022 grad)',\n",
    "    'Last Fixed CTC (lakhs)' : 'Fresher',\n",
    "    'Currently Employed' : 'Yes',\n",
    "    'Experienced candidate - (Experience in months)' : 'Fresher(<6 months)',\n",
    "    'What was the type of Role?' : 'Fresher',\n",
    "    'Role acceptance' : 'Emphatic Yes',\n",
    "    'Candidate is willing to relocate' : 'Yes',\n",
    "    'Confidence Score' : 11,\n",
    "    'Structured Thinking Score' : 7,\n",
    "    'Regional Fluency Score' : 3, \n",
    "    'Total Score' : 48\n",
    "}"
   ]
  },
  {
   "cell_type": "code",
   "execution_count": 66,
   "id": "58d504b2-dcb8-4b4f-ae9d-7eb723e6f56d",
   "metadata": {},
   "outputs": [
    {
     "data": {
      "text/plain": [
       "pandas.core.frame.DataFrame"
      ]
     },
     "execution_count": 66,
     "metadata": {},
     "output_type": "execute_result"
    }
   ],
   "source": [
    "employer_pref_df = pd.DataFrame([employer_pref])\n",
    "type(employer_pref_df)"
   ]
  },
  {
   "cell_type": "code",
   "execution_count": 67,
   "id": "bde6a5b9-69bb-493a-a982-9dd4c5b56f9a",
   "metadata": {},
   "outputs": [
    {
     "data": {
      "text/plain": [
       "numpy.ndarray"
      ]
     },
     "execution_count": 67,
     "metadata": {},
     "output_type": "execute_result"
    }
   ],
   "source": [
    "employer_pref_transformed = preprocessing_pipeline.transform(employer_pref_df)\n",
    "type(employer_pref_transformed)"
   ]
  },
  {
   "cell_type": "code",
   "execution_count": 68,
   "id": "bc8c2c47-10a4-408f-be01-3efc7e8aa51f",
   "metadata": {},
   "outputs": [
    {
     "data": {
      "text/plain": [
       "torch.Tensor"
      ]
     },
     "execution_count": 68,
     "metadata": {},
     "output_type": "execute_result"
    }
   ],
   "source": [
    "employer_pref_tensor = torch.tensor(employer_pref_transformed, dtype=torch.float32)\n",
    "type(employer_pref_tensor)"
   ]
  },
  {
   "cell_type": "code",
   "execution_count": 69,
   "id": "4c4eaefd-52b0-409f-822c-084b0e67acb0",
   "metadata": {},
   "outputs": [
    {
     "data": {
      "text/plain": [
       "(torch.Size([1, 28]), torch.Size([880, 28]))"
      ]
     },
     "execution_count": 69,
     "metadata": {},
     "output_type": "execute_result"
    }
   ],
   "source": [
    "employer_pref_tensor.shape, X_test_tensor.shape"
   ]
  },
  {
   "cell_type": "code",
   "execution_count": 70,
   "id": "7c6afbff-882e-4a5c-b9cb-8f9c208394ca",
   "metadata": {},
   "outputs": [
    {
     "name": "stdout",
     "output_type": "stream",
     "text": [
      "        id     score\n",
      "52   16632  0.881735\n",
      "841  12243  0.855106\n",
      "345    845  0.843251\n",
      "209    184  0.834377\n",
      "323   3797  0.810202\n",
      "<class 'pandas.core.frame.DataFrame'>\n"
     ]
    }
   ],
   "source": [
    "with torch.no_grad():\n",
    "    scores = F.cosine_similarity(employer_pref_tensor, X_test_tensor)\n",
    "\n",
    "    ranking_df = pd.DataFrame({\n",
    "        'id':X_test_index,\n",
    "        'score':scores\n",
    "    })\n",
    "\n",
    "    ranked_candidates = ranking_df.sort_values(by='score', ascending=False)\n",
    "    print(ranked_candidates[['id','score']].head())\n",
    "    print(type(ranked_candidates))"
   ]
  }
 ],
 "metadata": {
  "kernelspec": {
   "display_name": "Python 3 (ipykernel)",
   "language": "python",
   "name": "python3"
  },
  "language_info": {
   "codemirror_mode": {
    "name": "ipython",
    "version": 3
   },
   "file_extension": ".py",
   "mimetype": "text/x-python",
   "name": "python",
   "nbconvert_exporter": "python",
   "pygments_lexer": "ipython3",
   "version": "3.12.7"
  }
 },
 "nbformat": 4,
 "nbformat_minor": 5
}
