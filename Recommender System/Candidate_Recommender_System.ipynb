{
 "cells": [
  {
   "cell_type": "code",
   "execution_count": 1,
   "id": "91b41e2a-9aff-4aff-9d2b-167908549bd2",
   "metadata": {},
   "outputs": [],
   "source": [
    "import pandas as pd\n",
    "import numpy as np\n",
    "import seaborn as sns\n",
    "import matplotlib.pyplot as plt\n",
    "\n",
    "# Torch \n",
    "import torch\n",
    "import torch.nn as nn\n",
    "from torchmetrics import Accuracy\n",
    "from torch.utils.data import Dataset, DataLoader\n",
    "\n",
    "# Scikit-Learn\n",
    "# Data Encoding and Scaling\n",
    "from sklearn.compose import ColumnTransformer\n",
    "from sklearn.preprocessing import LabelEncoder, OrdinalEncoder, OneHotEncoder, StandardScaler\n",
    "from sklearn.decomposition import PCA\n",
    "from sklearn.model_selection import train_test_split\n",
    "\n",
    "# Natural Language Processing(NLP)\n",
    "import nltk\n",
    "from nltk.tokenize import word_tokenize\n",
    "from nltk.corpus import stopwords\n",
    "from nltk.stem import WordNetLemmatizer\n",
    "# Word Embedding\n",
    "import gensim\n",
    "from gensim.models import Word2Vec"
   ]
  },
  {
   "cell_type": "code",
   "execution_count": 2,
   "id": "e71765a3-5931-4bf0-b81f-fc84d324cdd8",
   "metadata": {},
   "outputs": [
    {
     "name": "stderr",
     "output_type": "stream",
     "text": [
      "[nltk_data] Downloading package punkt to\n",
      "[nltk_data]     C:\\Users\\Dushyant\\AppData\\Roaming\\nltk_data...\n",
      "[nltk_data]   Package punkt is already up-to-date!\n",
      "[nltk_data] Downloading package stopwords to\n",
      "[nltk_data]     C:\\Users\\Dushyant\\AppData\\Roaming\\nltk_data...\n",
      "[nltk_data]   Package stopwords is already up-to-date!\n",
      "[nltk_data] Downloading package wordnet to\n",
      "[nltk_data]     C:\\Users\\Dushyant\\AppData\\Roaming\\nltk_data...\n",
      "[nltk_data]   Package wordnet is already up-to-date!\n"
     ]
    },
    {
     "data": {
      "text/plain": [
       "True"
      ]
     },
     "execution_count": 2,
     "metadata": {},
     "output_type": "execute_result"
    }
   ],
   "source": [
    "nltk.download('punkt')      # For tokenization\n",
    "nltk.download('stopwords')  # For stopword removal\n",
    "nltk.download('wordnet')"
   ]
  },
  {
   "cell_type": "code",
   "execution_count": 3,
   "id": "923092aa-69a4-47a7-bca4-4577ba30b96c",
   "metadata": {},
   "outputs": [
    {
     "data": {
      "text/plain": [
       "'cpu'"
      ]
     },
     "execution_count": 3,
     "metadata": {},
     "output_type": "execute_result"
    }
   ],
   "source": [
    "device = 'cuda' if torch.cuda.is_available() else 'cpu'\n",
    "device"
   ]
  },
  {
   "cell_type": "code",
   "execution_count": 4,
   "id": "9e5c4850-7af3-4568-bc1f-ea67cddc933d",
   "metadata": {},
   "outputs": [],
   "source": [
    "df = pd.read_csv('IntervieweeDataset.csv')"
   ]
  },
  {
   "cell_type": "code",
   "execution_count": 5,
   "id": "cb9a10aa-d979-495d-8ca8-bbb0b73045e5",
   "metadata": {},
   "outputs": [
    {
     "data": {
      "text/html": [
       "<div>\n",
       "<style scoped>\n",
       "    .dataframe tbody tr th:only-of-type {\n",
       "        vertical-align: middle;\n",
       "    }\n",
       "\n",
       "    .dataframe tbody tr th {\n",
       "        vertical-align: top;\n",
       "    }\n",
       "\n",
       "    .dataframe thead th {\n",
       "        text-align: right;\n",
       "    }\n",
       "</style>\n",
       "<table border=\"1\" class=\"dataframe\">\n",
       "  <thead>\n",
       "    <tr style=\"text-align: right;\">\n",
       "      <th></th>\n",
       "      <th>Name</th>\n",
       "      <th>Age</th>\n",
       "      <th>Gender</th>\n",
       "      <th>Type of Graduation/Post Graduation</th>\n",
       "      <th>Marital status</th>\n",
       "      <th>Mode of interview given by candidate?</th>\n",
       "      <th>Pre Interview Check</th>\n",
       "      <th>Fluency in English based on introduction</th>\n",
       "      <th>Confidence based on Introduction (English)</th>\n",
       "      <th>Confidence based on the topic given</th>\n",
       "      <th>...</th>\n",
       "      <th>Structured Thinking Based on the PPT Question.1</th>\n",
       "      <th>Structured Thinking( Call pitch).1</th>\n",
       "      <th>Regional fluency based on the topic given  .1</th>\n",
       "      <th>Regional fluency Based on the PPT Question.1</th>\n",
       "      <th>Regional fluency based on the  sales scenario.1</th>\n",
       "      <th>Confidence Score</th>\n",
       "      <th>Structured Thinking Score</th>\n",
       "      <th>Regional Fluency Score</th>\n",
       "      <th>Total Score</th>\n",
       "      <th>Whether joined the company or not\\n</th>\n",
       "    </tr>\n",
       "  </thead>\n",
       "  <tbody>\n",
       "    <tr>\n",
       "      <th>0</th>\n",
       "      <td>parida</td>\n",
       "      <td>25</td>\n",
       "      <td>Female</td>\n",
       "      <td>Masters in data science</td>\n",
       "      <td>Unmarried</td>\n",
       "      <td>Mobile</td>\n",
       "      <td>Proceed with the Interview</td>\n",
       "      <td>Able to speak sentences in a clear/coherent wa...</td>\n",
       "      <td>Impactful - Good confidence throughout the Int...</td>\n",
       "      <td>Guarded Confidence - Confident in some areas a...</td>\n",
       "      <td>...</td>\n",
       "      <td>3.0</td>\n",
       "      <td>2.0</td>\n",
       "      <td>1.0</td>\n",
       "      <td>1.0</td>\n",
       "      <td>1.0</td>\n",
       "      <td>11.0</td>\n",
       "      <td>7.0</td>\n",
       "      <td>3.0</td>\n",
       "      <td>42.0</td>\n",
       "      <td>No</td>\n",
       "    </tr>\n",
       "  </tbody>\n",
       "</table>\n",
       "<p>1 rows × 52 columns</p>\n",
       "</div>"
      ],
      "text/plain": [
       "     Name Age  Gender Type of Graduation/Post Graduation Marital status  \\\n",
       "0  parida  25  Female            Masters in data science      Unmarried   \n",
       "\n",
       "  Mode of interview given by candidate?         Pre Interview Check  \\\n",
       "0                                Mobile  Proceed with the Interview   \n",
       "\n",
       "            Fluency in English based on introduction  \\\n",
       "0  Able to speak sentences in a clear/coherent wa...   \n",
       "\n",
       "          Confidence based on Introduction (English)  \\\n",
       "0  Impactful - Good confidence throughout the Int...   \n",
       "\n",
       "               Confidence based on the topic given    ...  \\\n",
       "0  Guarded Confidence - Confident in some areas a...  ...   \n",
       "\n",
       "  Structured Thinking Based on the PPT Question.1  \\\n",
       "0                                             3.0   \n",
       "\n",
       "  Structured Thinking( Call pitch).1  \\\n",
       "0                                2.0   \n",
       "\n",
       "  Regional fluency based on the topic given  .1  \\\n",
       "0                                           1.0   \n",
       "\n",
       "  Regional fluency Based on the PPT Question.1  \\\n",
       "0                                          1.0   \n",
       "\n",
       "  Regional fluency based on the  sales scenario.1 Confidence Score  \\\n",
       "0                                             1.0             11.0   \n",
       "\n",
       "  Structured Thinking Score Regional Fluency Score Total Score  \\\n",
       "0                       7.0                    3.0        42.0   \n",
       "\n",
       "  Whether joined the company or not\\n  \n",
       "0                                  No  \n",
       "\n",
       "[1 rows x 52 columns]"
      ]
     },
     "execution_count": 5,
     "metadata": {},
     "output_type": "execute_result"
    }
   ],
   "source": [
    "df.head(1)"
   ]
  },
  {
   "cell_type": "code",
   "execution_count": 6,
   "id": "8d929a89-9b76-43df-9d7e-48ca0695d5fc",
   "metadata": {},
   "outputs": [
    {
     "data": {
      "text/plain": [
       "(597, 52)"
      ]
     },
     "execution_count": 6,
     "metadata": {},
     "output_type": "execute_result"
    }
   ],
   "source": [
    "df.shape"
   ]
  },
  {
   "cell_type": "code",
   "execution_count": 7,
   "id": "a646c1db-49d4-443a-b78c-d8d6403e4a79",
   "metadata": {},
   "outputs": [],
   "source": [
    "df.dropna(inplace=True)"
   ]
  },
  {
   "cell_type": "code",
   "execution_count": 8,
   "id": "0731f26b-d7f3-4616-9895-428688b11844",
   "metadata": {},
   "outputs": [
    {
     "data": {
      "text/plain": [
       "(538, 52)"
      ]
     },
     "execution_count": 8,
     "metadata": {},
     "output_type": "execute_result"
    }
   ],
   "source": [
    "df.shape"
   ]
  },
  {
   "cell_type": "code",
   "execution_count": 9,
   "id": "378e6a5e-034d-4c07-9699-858d0b8fc8d3",
   "metadata": {},
   "outputs": [],
   "source": [
    "df.drop(df.iloc[:,8:18], axis=1, inplace=True)"
   ]
  },
  {
   "cell_type": "code",
   "execution_count": 10,
   "id": "fde1202a-4a83-42d8-9cca-3f3fc9575960",
   "metadata": {},
   "outputs": [],
   "source": [
    "df.drop(['Does the candidate has mother tongue influence while speaking english.', 'How many slides candidate have submitted in PPT?'], axis=1, inplace=True)"
   ]
  },
  {
   "cell_type": "code",
   "execution_count": 11,
   "id": "4c2c892e-60c9-41d5-b48f-c12e8d63931d",
   "metadata": {},
   "outputs": [
    {
     "data": {
      "text/plain": [
       "(538, 40)"
      ]
     },
     "execution_count": 11,
     "metadata": {},
     "output_type": "execute_result"
    }
   ],
   "source": [
    "df.shape"
   ]
  },
  {
   "cell_type": "code",
   "execution_count": 12,
   "id": "b570b7c1-b71e-4aef-b127-d5bc0b88812f",
   "metadata": {},
   "outputs": [],
   "source": [
    "df.rename(columns={'Type of Graduation/Post Graduation':'Education', 'Mode of interview given by candidate?':'Mode of Interview', 'Has acquaintance in Company and has spoken to him/her before applying?':'Acquaintance and Referral'}, inplace=True)"
   ]
  },
  {
   "cell_type": "code",
   "execution_count": 13,
   "id": "d9e3f2d9-fb8f-4522-8a1d-b4979018636b",
   "metadata": {},
   "outputs": [],
   "source": [
    "df.rename(columns={'Whether joined the company or not\\n': 'Whether joined the company or not', 'What was the type of Role?\\t': 'What was the type of Role?'}, inplace=True)"
   ]
  },
  {
   "cell_type": "code",
   "execution_count": 14,
   "id": "db26bfdd-d511-43ca-a944-0a940f110c4e",
   "metadata": {},
   "outputs": [],
   "source": [
    "df.rename(columns={\"But, my child's exam are going on now, so we will keep the counselling session after the exams get over.(Time: Favourable pitch: Counsellor hype)\":\"But, my child's exam are going on now, so we will keep the counselling session after the exams get over\"}, inplace=True)"
   ]
  },
  {
   "cell_type": "code",
   "execution_count": 15,
   "id": "ee54b7be-5220-4231-aee3-4a900c10bc1b",
   "metadata": {},
   "outputs": [
    {
     "data": {
      "text/plain": [
       "Index(['Name', 'Age', 'Gender', 'Education', 'Marital status',\n",
       "       'Mode of Interview', 'Pre Interview Check',\n",
       "       'Fluency in English based on introduction', 'Acquaintance and Referral',\n",
       "       'Candidate Status', 'Last Fixed CTC (lakhs) ', 'Currently Employed',\n",
       "       'Experienced candidate - (Experience in months)',\n",
       "       'Experienced Candidate (Nature of work)', 'What was the type of Role?',\n",
       "       'Call-pitch Elements used during the call Sales Scenario',\n",
       "       'But, my child's exam are going on now, so we will keep the counselling session after the exams get over',\n",
       "       'Let me discuss it with my child',\n",
       "       'Sir being in education industry I know this is a marketing gimmick and at the end of the day you'll be selling the app.',\n",
       "       'Role acceptance', 'Interview Verdict',\n",
       "       'Candidate is willing to relocate',\n",
       "       'Role Location to be given to the candidate', 'Comments',\n",
       "       'RedFlags Comments in Interview',\n",
       "       'Confidence based on Introduction (English).1',\n",
       "       'Confidence based on the topic given  .1',\n",
       "       'Confidence Based on the PPT Question.1',\n",
       "       'Confidence based on the sales scenario.1',\n",
       "       'Structured Thinking (In regional only).1',\n",
       "       'Structured Thinking Based on the PPT Question.1',\n",
       "       'Structured Thinking( Call pitch).1',\n",
       "       'Regional fluency based on the topic given  .1',\n",
       "       'Regional fluency Based on the PPT Question.1',\n",
       "       'Regional fluency based on the  sales scenario.1', 'Confidence Score',\n",
       "       'Structured Thinking Score', 'Regional Fluency Score', 'Total Score',\n",
       "       'Whether joined the company or not'],\n",
       "      dtype='object')"
      ]
     },
     "execution_count": 15,
     "metadata": {},
     "output_type": "execute_result"
    }
   ],
   "source": [
    "df.columns"
   ]
  },
  {
   "cell_type": "code",
   "execution_count": 16,
   "id": "4ab622c5-f86d-4195-970a-ad03f0d1f1d3",
   "metadata": {},
   "outputs": [
    {
     "data": {
      "text/plain": [
       "array(['No', 'Yes', 'Not Joined', 'Joined'], dtype=object)"
      ]
     },
     "execution_count": 16,
     "metadata": {},
     "output_type": "execute_result"
    }
   ],
   "source": [
    "df['Whether joined the company or not'].unique()"
   ]
  },
  {
   "cell_type": "code",
   "execution_count": 17,
   "id": "32c77f88-9e21-45a2-8819-30b183ebfd88",
   "metadata": {},
   "outputs": [],
   "source": [
    "df['Whether joined the company or not'] = df['Whether joined the company or not'].replace({'Joined':'Yes', 'Not Joined':'No'})"
   ]
  },
  {
   "cell_type": "code",
   "execution_count": 18,
   "id": "714fcc8f-e282-4000-8797-9f595d71d251",
   "metadata": {},
   "outputs": [],
   "source": [
    "df['Whether joined the company or not'] = df['Whether joined the company or not'].map({'Yes': 1, 'No': 0}).astype(int)"
   ]
  },
  {
   "cell_type": "code",
   "execution_count": 19,
   "id": "28fc4458-f328-40c4-95a8-aed69e417234",
   "metadata": {},
   "outputs": [
    {
     "data": {
      "text/plain": [
       "array([0, 1])"
      ]
     },
     "execution_count": 19,
     "metadata": {},
     "output_type": "execute_result"
    }
   ],
   "source": [
    "df['Whether joined the company or not'].unique()"
   ]
  },
  {
   "cell_type": "code",
   "execution_count": 20,
   "id": "cfd7c6c3-7a17-4c1c-bc54-17e360cc446b",
   "metadata": {},
   "outputs": [
    {
     "data": {
      "text/plain": [
       "array(['25', '29', '27', '22', '23', '24', '26', '21', '30', '20', '31',\n",
       "       '28', '32+', '32'], dtype=object)"
      ]
     },
     "execution_count": 20,
     "metadata": {},
     "output_type": "execute_result"
    }
   ],
   "source": [
    "df['Age'].unique()"
   ]
  },
  {
   "cell_type": "code",
   "execution_count": 21,
   "id": "fee28109-7b8c-4a74-98db-b8e39bcffc6f",
   "metadata": {},
   "outputs": [],
   "source": [
    "df['Age'] = df['Age'].astype(str).str.replace('+', '', regex=False).astype(int)"
   ]
  },
  {
   "cell_type": "code",
   "execution_count": 22,
   "id": "98217f62-5e29-49fa-8e07-6eef1d539f3c",
   "metadata": {},
   "outputs": [
    {
     "data": {
      "text/plain": [
       "array([25, 29, 27, 22, 23, 24, 26, 21, 30, 20, 31, 28, 32])"
      ]
     },
     "execution_count": 22,
     "metadata": {},
     "output_type": "execute_result"
    }
   ],
   "source": [
    "df['Age'].unique()"
   ]
  },
  {
   "cell_type": "code",
   "execution_count": 23,
   "id": "3d016610-ae5d-4f2a-b9f9-edd64264a9cd",
   "metadata": {},
   "outputs": [],
   "source": [
    "bins = [18, 22, 25, 28, 32, 35, float('inf')]\n",
    "labels = ['18-22', '23-25', '26-28', '29-32', '33-35', '35+']"
   ]
  },
  {
   "cell_type": "code",
   "execution_count": 24,
   "id": "cbc73648-051f-4f73-8472-433159671752",
   "metadata": {},
   "outputs": [],
   "source": [
    "df['Age'] = pd.cut(df['Age'], bins=bins, labels=labels, right=True)"
   ]
  },
  {
   "cell_type": "code",
   "execution_count": 25,
   "id": "ec0db924-750c-4111-b377-979b79bf3b5b",
   "metadata": {},
   "outputs": [
    {
     "data": {
      "text/plain": [
       "['23-25', '29-32', '26-28', '18-22']\n",
       "Categories (6, object): ['18-22' < '23-25' < '26-28' < '29-32' < '33-35' < '35+']"
      ]
     },
     "execution_count": 25,
     "metadata": {},
     "output_type": "execute_result"
    }
   ],
   "source": [
    "df['Age'].unique()"
   ]
  },
  {
   "cell_type": "code",
   "execution_count": 26,
   "id": "ef7fa63c-d913-4116-870b-6242ab71ef9f",
   "metadata": {},
   "outputs": [
    {
     "data": {
      "text/plain": [
       "Index(['Name', 'Age', 'Gender', 'Education', 'Marital status',\n",
       "       'Mode of Interview', 'Pre Interview Check',\n",
       "       'Fluency in English based on introduction', 'Acquaintance and Referral',\n",
       "       'Candidate Status', 'Last Fixed CTC (lakhs) ', 'Currently Employed',\n",
       "       'Experienced candidate - (Experience in months)',\n",
       "       'Experienced Candidate (Nature of work)', 'What was the type of Role?',\n",
       "       'Call-pitch Elements used during the call Sales Scenario',\n",
       "       'But, my child's exam are going on now, so we will keep the counselling session after the exams get over',\n",
       "       'Let me discuss it with my child',\n",
       "       'Sir being in education industry I know this is a marketing gimmick and at the end of the day you'll be selling the app.',\n",
       "       'Role acceptance', 'Interview Verdict',\n",
       "       'Candidate is willing to relocate',\n",
       "       'Role Location to be given to the candidate', 'Comments',\n",
       "       'RedFlags Comments in Interview',\n",
       "       'Confidence based on Introduction (English).1',\n",
       "       'Confidence based on the topic given  .1',\n",
       "       'Confidence Based on the PPT Question.1',\n",
       "       'Confidence based on the sales scenario.1',\n",
       "       'Structured Thinking (In regional only).1',\n",
       "       'Structured Thinking Based on the PPT Question.1',\n",
       "       'Structured Thinking( Call pitch).1',\n",
       "       'Regional fluency based on the topic given  .1',\n",
       "       'Regional fluency Based on the PPT Question.1',\n",
       "       'Regional fluency based on the  sales scenario.1', 'Confidence Score',\n",
       "       'Structured Thinking Score', 'Regional Fluency Score', 'Total Score',\n",
       "       'Whether joined the company or not'],\n",
       "      dtype='object')"
      ]
     },
     "execution_count": 26,
     "metadata": {},
     "output_type": "execute_result"
    }
   ],
   "source": [
    "df.columns"
   ]
  },
  {
   "cell_type": "code",
   "execution_count": 27,
   "id": "486c49c3-d2ba-4423-954d-4153d90daa8b",
   "metadata": {},
   "outputs": [
    {
     "data": {
      "text/plain": [
       "(538, 40)"
      ]
     },
     "execution_count": 27,
     "metadata": {},
     "output_type": "execute_result"
    }
   ],
   "source": [
    "df.shape"
   ]
  },
  {
   "cell_type": "code",
   "execution_count": 28,
   "id": "48783b4b-e5bb-4709-973e-4445955642b7",
   "metadata": {},
   "outputs": [],
   "source": [
    "df['id'] = df.index"
   ]
  },
  {
   "cell_type": "code",
   "execution_count": 29,
   "id": "74da68f3-7ed0-4563-8f89-1a7c66f4aef6",
   "metadata": {},
   "outputs": [
    {
     "data": {
      "text/html": [
       "<div>\n",
       "<style scoped>\n",
       "    .dataframe tbody tr th:only-of-type {\n",
       "        vertical-align: middle;\n",
       "    }\n",
       "\n",
       "    .dataframe tbody tr th {\n",
       "        vertical-align: top;\n",
       "    }\n",
       "\n",
       "    .dataframe thead th {\n",
       "        text-align: right;\n",
       "    }\n",
       "</style>\n",
       "<table border=\"1\" class=\"dataframe\">\n",
       "  <thead>\n",
       "    <tr style=\"text-align: right;\">\n",
       "      <th></th>\n",
       "      <th>Name</th>\n",
       "      <th>Age</th>\n",
       "      <th>Gender</th>\n",
       "      <th>Education</th>\n",
       "      <th>Marital status</th>\n",
       "      <th>Mode of Interview</th>\n",
       "      <th>Pre Interview Check</th>\n",
       "      <th>Fluency in English based on introduction</th>\n",
       "      <th>Acquaintance and Referral</th>\n",
       "      <th>Candidate Status</th>\n",
       "      <th>...</th>\n",
       "      <th>Structured Thinking( Call pitch).1</th>\n",
       "      <th>Regional fluency based on the topic given  .1</th>\n",
       "      <th>Regional fluency Based on the PPT Question.1</th>\n",
       "      <th>Regional fluency based on the  sales scenario.1</th>\n",
       "      <th>Confidence Score</th>\n",
       "      <th>Structured Thinking Score</th>\n",
       "      <th>Regional Fluency Score</th>\n",
       "      <th>Total Score</th>\n",
       "      <th>Whether joined the company or not</th>\n",
       "      <th>id</th>\n",
       "    </tr>\n",
       "  </thead>\n",
       "  <tbody>\n",
       "    <tr>\n",
       "      <th>0</th>\n",
       "      <td>parida</td>\n",
       "      <td>23-25</td>\n",
       "      <td>Female</td>\n",
       "      <td>Masters in data science</td>\n",
       "      <td>Unmarried</td>\n",
       "      <td>Mobile</td>\n",
       "      <td>Proceed with the Interview</td>\n",
       "      <td>Able to speak sentences in a clear/coherent wa...</td>\n",
       "      <td>No</td>\n",
       "      <td>Experienced in non client facing(equal to or m...</td>\n",
       "      <td>...</td>\n",
       "      <td>2.0</td>\n",
       "      <td>1.0</td>\n",
       "      <td>1.0</td>\n",
       "      <td>1.0</td>\n",
       "      <td>11.0</td>\n",
       "      <td>7.0</td>\n",
       "      <td>3.0</td>\n",
       "      <td>42.0</td>\n",
       "      <td>0</td>\n",
       "      <td>0</td>\n",
       "    </tr>\n",
       "    <tr>\n",
       "      <th>1</th>\n",
       "      <td>shreej</td>\n",
       "      <td>29-32</td>\n",
       "      <td>Female</td>\n",
       "      <td>BSc or MSc</td>\n",
       "      <td>Unmarried</td>\n",
       "      <td>Mobile</td>\n",
       "      <td>Proceed with the Interview</td>\n",
       "      <td>Able to speak sentences in a clear/coherent wa...</td>\n",
       "      <td>No</td>\n",
       "      <td>Lateral(2021 and before with (less than 6 mont...</td>\n",
       "      <td>...</td>\n",
       "      <td>3.0</td>\n",
       "      <td>3.0</td>\n",
       "      <td>3.0</td>\n",
       "      <td>3.0</td>\n",
       "      <td>12.0</td>\n",
       "      <td>9.0</td>\n",
       "      <td>9.0</td>\n",
       "      <td>60.0</td>\n",
       "      <td>0</td>\n",
       "      <td>1</td>\n",
       "    </tr>\n",
       "  </tbody>\n",
       "</table>\n",
       "<p>2 rows × 41 columns</p>\n",
       "</div>"
      ],
      "text/plain": [
       "     Name    Age  Gender                Education Marital status  \\\n",
       "0  parida  23-25  Female  Masters in data science      Unmarried   \n",
       "1  shreej  29-32  Female               BSc or MSc      Unmarried   \n",
       "\n",
       "  Mode of Interview         Pre Interview Check  \\\n",
       "0            Mobile  Proceed with the Interview   \n",
       "1            Mobile  Proceed with the Interview   \n",
       "\n",
       "            Fluency in English based on introduction  \\\n",
       "0  Able to speak sentences in a clear/coherent wa...   \n",
       "1  Able to speak sentences in a clear/coherent wa...   \n",
       "\n",
       "  Acquaintance and Referral  \\\n",
       "0                        No   \n",
       "1                        No   \n",
       "\n",
       "                                    Candidate Status  ...  \\\n",
       "0  Experienced in non client facing(equal to or m...  ...   \n",
       "1  Lateral(2021 and before with (less than 6 mont...  ...   \n",
       "\n",
       "  Structured Thinking( Call pitch).1  \\\n",
       "0                                2.0   \n",
       "1                                3.0   \n",
       "\n",
       "  Regional fluency based on the topic given  .1  \\\n",
       "0                                           1.0   \n",
       "1                                           3.0   \n",
       "\n",
       "  Regional fluency Based on the PPT Question.1  \\\n",
       "0                                          1.0   \n",
       "1                                          3.0   \n",
       "\n",
       "  Regional fluency based on the  sales scenario.1 Confidence Score  \\\n",
       "0                                             1.0             11.0   \n",
       "1                                             3.0             12.0   \n",
       "\n",
       "  Structured Thinking Score Regional Fluency Score Total Score  \\\n",
       "0                       7.0                    3.0        42.0   \n",
       "1                       9.0                    9.0        60.0   \n",
       "\n",
       "  Whether joined the company or not id  \n",
       "0                                 0  0  \n",
       "1                                 0  1  \n",
       "\n",
       "[2 rows x 41 columns]"
      ]
     },
     "execution_count": 29,
     "metadata": {},
     "output_type": "execute_result"
    }
   ],
   "source": [
    "df.head(2)"
   ]
  },
  {
   "cell_type": "markdown",
   "id": "4686ac28-b640-436a-80bc-38a566edcaf5",
   "metadata": {},
   "source": [
    "# New Dataframe for only Numerical Operations (excluding Name column from it)"
   ]
  },
  {
   "cell_type": "code",
   "execution_count": 31,
   "id": "0b6095c6-0a7b-4943-8fb2-8b83f2b78d53",
   "metadata": {},
   "outputs": [],
   "source": [
    "numerical_df = df.copy()\n",
    "numerical_df.drop(['id',\n",
    "                   'Name',\n",
    "                   'Age',\n",
    "                   'Gender',\n",
    "                   'Currently Employed',\n",
    "                   'Marital status',\n",
    "                   'Mode of Interview',\n",
    "                   'Pre Interview Check',\n",
    "                   'Fluency in English based on introduction',\n",
    "                   'Acquaintance and Referral',\n",
    "                   'Candidate Status',\n",
    "                   'Education',\n",
    "                   'Last Fixed CTC (lakhs) ',\n",
    "                   'Interview Verdict',\n",
    "                   'Comments',\n",
    "                   'RedFlags Comments in Interview',\n",
    "                   'Call-pitch Elements used during the call Sales Scenario',\n",
    "                   \"But, my child's exam are going on now, so we will keep the counselling session after the exams get over\",\n",
    "                  'Let me discuss it with my child',\n",
    "                   'Whether joined the company or not',\n",
    "                   \"Sir being in education industry I know this is a marketing gimmick and at the end of the day you'll be selling the app.\",'Role Location to be given to the candidate'],\n",
    "                  axis=1,inplace=True)"
   ]
  },
  {
   "cell_type": "markdown",
   "id": "0ea7a1b0-fe55-4e79-9a30-2ae243737f6b",
   "metadata": {},
   "source": [
    "# Data Scaling\n",
    "The StandardScaler from sklearn.preprocessing transforms data to have:\n",
    "\n",
    "Mean = 0 ,\n",
    "Standard Deviation = 1"
   ]
  },
  {
   "cell_type": "code",
   "execution_count": 33,
   "id": "b4f2e18a-29e4-468f-bf29-ade2764b7538",
   "metadata": {},
   "outputs": [
    {
     "data": {
      "text/html": [
       "<style>#sk-container-id-1 {\n",
       "  /* Definition of color scheme common for light and dark mode */\n",
       "  --sklearn-color-text: black;\n",
       "  --sklearn-color-line: gray;\n",
       "  /* Definition of color scheme for unfitted estimators */\n",
       "  --sklearn-color-unfitted-level-0: #fff5e6;\n",
       "  --sklearn-color-unfitted-level-1: #f6e4d2;\n",
       "  --sklearn-color-unfitted-level-2: #ffe0b3;\n",
       "  --sklearn-color-unfitted-level-3: chocolate;\n",
       "  /* Definition of color scheme for fitted estimators */\n",
       "  --sklearn-color-fitted-level-0: #f0f8ff;\n",
       "  --sklearn-color-fitted-level-1: #d4ebff;\n",
       "  --sklearn-color-fitted-level-2: #b3dbfd;\n",
       "  --sklearn-color-fitted-level-3: cornflowerblue;\n",
       "\n",
       "  /* Specific color for light theme */\n",
       "  --sklearn-color-text-on-default-background: var(--sg-text-color, var(--theme-code-foreground, var(--jp-content-font-color1, black)));\n",
       "  --sklearn-color-background: var(--sg-background-color, var(--theme-background, var(--jp-layout-color0, white)));\n",
       "  --sklearn-color-border-box: var(--sg-text-color, var(--theme-code-foreground, var(--jp-content-font-color1, black)));\n",
       "  --sklearn-color-icon: #696969;\n",
       "\n",
       "  @media (prefers-color-scheme: dark) {\n",
       "    /* Redefinition of color scheme for dark theme */\n",
       "    --sklearn-color-text-on-default-background: var(--sg-text-color, var(--theme-code-foreground, var(--jp-content-font-color1, white)));\n",
       "    --sklearn-color-background: var(--sg-background-color, var(--theme-background, var(--jp-layout-color0, #111)));\n",
       "    --sklearn-color-border-box: var(--sg-text-color, var(--theme-code-foreground, var(--jp-content-font-color1, white)));\n",
       "    --sklearn-color-icon: #878787;\n",
       "  }\n",
       "}\n",
       "\n",
       "#sk-container-id-1 {\n",
       "  color: var(--sklearn-color-text);\n",
       "}\n",
       "\n",
       "#sk-container-id-1 pre {\n",
       "  padding: 0;\n",
       "}\n",
       "\n",
       "#sk-container-id-1 input.sk-hidden--visually {\n",
       "  border: 0;\n",
       "  clip: rect(1px 1px 1px 1px);\n",
       "  clip: rect(1px, 1px, 1px, 1px);\n",
       "  height: 1px;\n",
       "  margin: -1px;\n",
       "  overflow: hidden;\n",
       "  padding: 0;\n",
       "  position: absolute;\n",
       "  width: 1px;\n",
       "}\n",
       "\n",
       "#sk-container-id-1 div.sk-dashed-wrapped {\n",
       "  border: 1px dashed var(--sklearn-color-line);\n",
       "  margin: 0 0.4em 0.5em 0.4em;\n",
       "  box-sizing: border-box;\n",
       "  padding-bottom: 0.4em;\n",
       "  background-color: var(--sklearn-color-background);\n",
       "}\n",
       "\n",
       "#sk-container-id-1 div.sk-container {\n",
       "  /* jupyter's `normalize.less` sets `[hidden] { display: none; }`\n",
       "     but bootstrap.min.css set `[hidden] { display: none !important; }`\n",
       "     so we also need the `!important` here to be able to override the\n",
       "     default hidden behavior on the sphinx rendered scikit-learn.org.\n",
       "     See: https://github.com/scikit-learn/scikit-learn/issues/21755 */\n",
       "  display: inline-block !important;\n",
       "  position: relative;\n",
       "}\n",
       "\n",
       "#sk-container-id-1 div.sk-text-repr-fallback {\n",
       "  display: none;\n",
       "}\n",
       "\n",
       "div.sk-parallel-item,\n",
       "div.sk-serial,\n",
       "div.sk-item {\n",
       "  /* draw centered vertical line to link estimators */\n",
       "  background-image: linear-gradient(var(--sklearn-color-text-on-default-background), var(--sklearn-color-text-on-default-background));\n",
       "  background-size: 2px 100%;\n",
       "  background-repeat: no-repeat;\n",
       "  background-position: center center;\n",
       "}\n",
       "\n",
       "/* Parallel-specific style estimator block */\n",
       "\n",
       "#sk-container-id-1 div.sk-parallel-item::after {\n",
       "  content: \"\";\n",
       "  width: 100%;\n",
       "  border-bottom: 2px solid var(--sklearn-color-text-on-default-background);\n",
       "  flex-grow: 1;\n",
       "}\n",
       "\n",
       "#sk-container-id-1 div.sk-parallel {\n",
       "  display: flex;\n",
       "  align-items: stretch;\n",
       "  justify-content: center;\n",
       "  background-color: var(--sklearn-color-background);\n",
       "  position: relative;\n",
       "}\n",
       "\n",
       "#sk-container-id-1 div.sk-parallel-item {\n",
       "  display: flex;\n",
       "  flex-direction: column;\n",
       "}\n",
       "\n",
       "#sk-container-id-1 div.sk-parallel-item:first-child::after {\n",
       "  align-self: flex-end;\n",
       "  width: 50%;\n",
       "}\n",
       "\n",
       "#sk-container-id-1 div.sk-parallel-item:last-child::after {\n",
       "  align-self: flex-start;\n",
       "  width: 50%;\n",
       "}\n",
       "\n",
       "#sk-container-id-1 div.sk-parallel-item:only-child::after {\n",
       "  width: 0;\n",
       "}\n",
       "\n",
       "/* Serial-specific style estimator block */\n",
       "\n",
       "#sk-container-id-1 div.sk-serial {\n",
       "  display: flex;\n",
       "  flex-direction: column;\n",
       "  align-items: center;\n",
       "  background-color: var(--sklearn-color-background);\n",
       "  padding-right: 1em;\n",
       "  padding-left: 1em;\n",
       "}\n",
       "\n",
       "\n",
       "/* Toggleable style: style used for estimator/Pipeline/ColumnTransformer box that is\n",
       "clickable and can be expanded/collapsed.\n",
       "- Pipeline and ColumnTransformer use this feature and define the default style\n",
       "- Estimators will overwrite some part of the style using the `sk-estimator` class\n",
       "*/\n",
       "\n",
       "/* Pipeline and ColumnTransformer style (default) */\n",
       "\n",
       "#sk-container-id-1 div.sk-toggleable {\n",
       "  /* Default theme specific background. It is overwritten whether we have a\n",
       "  specific estimator or a Pipeline/ColumnTransformer */\n",
       "  background-color: var(--sklearn-color-background);\n",
       "}\n",
       "\n",
       "/* Toggleable label */\n",
       "#sk-container-id-1 label.sk-toggleable__label {\n",
       "  cursor: pointer;\n",
       "  display: block;\n",
       "  width: 100%;\n",
       "  margin-bottom: 0;\n",
       "  padding: 0.5em;\n",
       "  box-sizing: border-box;\n",
       "  text-align: center;\n",
       "}\n",
       "\n",
       "#sk-container-id-1 label.sk-toggleable__label-arrow:before {\n",
       "  /* Arrow on the left of the label */\n",
       "  content: \"▸\";\n",
       "  float: left;\n",
       "  margin-right: 0.25em;\n",
       "  color: var(--sklearn-color-icon);\n",
       "}\n",
       "\n",
       "#sk-container-id-1 label.sk-toggleable__label-arrow:hover:before {\n",
       "  color: var(--sklearn-color-text);\n",
       "}\n",
       "\n",
       "/* Toggleable content - dropdown */\n",
       "\n",
       "#sk-container-id-1 div.sk-toggleable__content {\n",
       "  max-height: 0;\n",
       "  max-width: 0;\n",
       "  overflow: hidden;\n",
       "  text-align: left;\n",
       "  /* unfitted */\n",
       "  background-color: var(--sklearn-color-unfitted-level-0);\n",
       "}\n",
       "\n",
       "#sk-container-id-1 div.sk-toggleable__content.fitted {\n",
       "  /* fitted */\n",
       "  background-color: var(--sklearn-color-fitted-level-0);\n",
       "}\n",
       "\n",
       "#sk-container-id-1 div.sk-toggleable__content pre {\n",
       "  margin: 0.2em;\n",
       "  border-radius: 0.25em;\n",
       "  color: var(--sklearn-color-text);\n",
       "  /* unfitted */\n",
       "  background-color: var(--sklearn-color-unfitted-level-0);\n",
       "}\n",
       "\n",
       "#sk-container-id-1 div.sk-toggleable__content.fitted pre {\n",
       "  /* unfitted */\n",
       "  background-color: var(--sklearn-color-fitted-level-0);\n",
       "}\n",
       "\n",
       "#sk-container-id-1 input.sk-toggleable__control:checked~div.sk-toggleable__content {\n",
       "  /* Expand drop-down */\n",
       "  max-height: 200px;\n",
       "  max-width: 100%;\n",
       "  overflow: auto;\n",
       "}\n",
       "\n",
       "#sk-container-id-1 input.sk-toggleable__control:checked~label.sk-toggleable__label-arrow:before {\n",
       "  content: \"▾\";\n",
       "}\n",
       "\n",
       "/* Pipeline/ColumnTransformer-specific style */\n",
       "\n",
       "#sk-container-id-1 div.sk-label input.sk-toggleable__control:checked~label.sk-toggleable__label {\n",
       "  color: var(--sklearn-color-text);\n",
       "  background-color: var(--sklearn-color-unfitted-level-2);\n",
       "}\n",
       "\n",
       "#sk-container-id-1 div.sk-label.fitted input.sk-toggleable__control:checked~label.sk-toggleable__label {\n",
       "  background-color: var(--sklearn-color-fitted-level-2);\n",
       "}\n",
       "\n",
       "/* Estimator-specific style */\n",
       "\n",
       "/* Colorize estimator box */\n",
       "#sk-container-id-1 div.sk-estimator input.sk-toggleable__control:checked~label.sk-toggleable__label {\n",
       "  /* unfitted */\n",
       "  background-color: var(--sklearn-color-unfitted-level-2);\n",
       "}\n",
       "\n",
       "#sk-container-id-1 div.sk-estimator.fitted input.sk-toggleable__control:checked~label.sk-toggleable__label {\n",
       "  /* fitted */\n",
       "  background-color: var(--sklearn-color-fitted-level-2);\n",
       "}\n",
       "\n",
       "#sk-container-id-1 div.sk-label label.sk-toggleable__label,\n",
       "#sk-container-id-1 div.sk-label label {\n",
       "  /* The background is the default theme color */\n",
       "  color: var(--sklearn-color-text-on-default-background);\n",
       "}\n",
       "\n",
       "/* On hover, darken the color of the background */\n",
       "#sk-container-id-1 div.sk-label:hover label.sk-toggleable__label {\n",
       "  color: var(--sklearn-color-text);\n",
       "  background-color: var(--sklearn-color-unfitted-level-2);\n",
       "}\n",
       "\n",
       "/* Label box, darken color on hover, fitted */\n",
       "#sk-container-id-1 div.sk-label.fitted:hover label.sk-toggleable__label.fitted {\n",
       "  color: var(--sklearn-color-text);\n",
       "  background-color: var(--sklearn-color-fitted-level-2);\n",
       "}\n",
       "\n",
       "/* Estimator label */\n",
       "\n",
       "#sk-container-id-1 div.sk-label label {\n",
       "  font-family: monospace;\n",
       "  font-weight: bold;\n",
       "  display: inline-block;\n",
       "  line-height: 1.2em;\n",
       "}\n",
       "\n",
       "#sk-container-id-1 div.sk-label-container {\n",
       "  text-align: center;\n",
       "}\n",
       "\n",
       "/* Estimator-specific */\n",
       "#sk-container-id-1 div.sk-estimator {\n",
       "  font-family: monospace;\n",
       "  border: 1px dotted var(--sklearn-color-border-box);\n",
       "  border-radius: 0.25em;\n",
       "  box-sizing: border-box;\n",
       "  margin-bottom: 0.5em;\n",
       "  /* unfitted */\n",
       "  background-color: var(--sklearn-color-unfitted-level-0);\n",
       "}\n",
       "\n",
       "#sk-container-id-1 div.sk-estimator.fitted {\n",
       "  /* fitted */\n",
       "  background-color: var(--sklearn-color-fitted-level-0);\n",
       "}\n",
       "\n",
       "/* on hover */\n",
       "#sk-container-id-1 div.sk-estimator:hover {\n",
       "  /* unfitted */\n",
       "  background-color: var(--sklearn-color-unfitted-level-2);\n",
       "}\n",
       "\n",
       "#sk-container-id-1 div.sk-estimator.fitted:hover {\n",
       "  /* fitted */\n",
       "  background-color: var(--sklearn-color-fitted-level-2);\n",
       "}\n",
       "\n",
       "/* Specification for estimator info (e.g. \"i\" and \"?\") */\n",
       "\n",
       "/* Common style for \"i\" and \"?\" */\n",
       "\n",
       ".sk-estimator-doc-link,\n",
       "a:link.sk-estimator-doc-link,\n",
       "a:visited.sk-estimator-doc-link {\n",
       "  float: right;\n",
       "  font-size: smaller;\n",
       "  line-height: 1em;\n",
       "  font-family: monospace;\n",
       "  background-color: var(--sklearn-color-background);\n",
       "  border-radius: 1em;\n",
       "  height: 1em;\n",
       "  width: 1em;\n",
       "  text-decoration: none !important;\n",
       "  margin-left: 1ex;\n",
       "  /* unfitted */\n",
       "  border: var(--sklearn-color-unfitted-level-1) 1pt solid;\n",
       "  color: var(--sklearn-color-unfitted-level-1);\n",
       "}\n",
       "\n",
       ".sk-estimator-doc-link.fitted,\n",
       "a:link.sk-estimator-doc-link.fitted,\n",
       "a:visited.sk-estimator-doc-link.fitted {\n",
       "  /* fitted */\n",
       "  border: var(--sklearn-color-fitted-level-1) 1pt solid;\n",
       "  color: var(--sklearn-color-fitted-level-1);\n",
       "}\n",
       "\n",
       "/* On hover */\n",
       "div.sk-estimator:hover .sk-estimator-doc-link:hover,\n",
       ".sk-estimator-doc-link:hover,\n",
       "div.sk-label-container:hover .sk-estimator-doc-link:hover,\n",
       ".sk-estimator-doc-link:hover {\n",
       "  /* unfitted */\n",
       "  background-color: var(--sklearn-color-unfitted-level-3);\n",
       "  color: var(--sklearn-color-background);\n",
       "  text-decoration: none;\n",
       "}\n",
       "\n",
       "div.sk-estimator.fitted:hover .sk-estimator-doc-link.fitted:hover,\n",
       ".sk-estimator-doc-link.fitted:hover,\n",
       "div.sk-label-container:hover .sk-estimator-doc-link.fitted:hover,\n",
       ".sk-estimator-doc-link.fitted:hover {\n",
       "  /* fitted */\n",
       "  background-color: var(--sklearn-color-fitted-level-3);\n",
       "  color: var(--sklearn-color-background);\n",
       "  text-decoration: none;\n",
       "}\n",
       "\n",
       "/* Span, style for the box shown on hovering the info icon */\n",
       ".sk-estimator-doc-link span {\n",
       "  display: none;\n",
       "  z-index: 9999;\n",
       "  position: relative;\n",
       "  font-weight: normal;\n",
       "  right: .2ex;\n",
       "  padding: .5ex;\n",
       "  margin: .5ex;\n",
       "  width: min-content;\n",
       "  min-width: 20ex;\n",
       "  max-width: 50ex;\n",
       "  color: var(--sklearn-color-text);\n",
       "  box-shadow: 2pt 2pt 4pt #999;\n",
       "  /* unfitted */\n",
       "  background: var(--sklearn-color-unfitted-level-0);\n",
       "  border: .5pt solid var(--sklearn-color-unfitted-level-3);\n",
       "}\n",
       "\n",
       ".sk-estimator-doc-link.fitted span {\n",
       "  /* fitted */\n",
       "  background: var(--sklearn-color-fitted-level-0);\n",
       "  border: var(--sklearn-color-fitted-level-3);\n",
       "}\n",
       "\n",
       ".sk-estimator-doc-link:hover span {\n",
       "  display: block;\n",
       "}\n",
       "\n",
       "/* \"?\"-specific style due to the `<a>` HTML tag */\n",
       "\n",
       "#sk-container-id-1 a.estimator_doc_link {\n",
       "  float: right;\n",
       "  font-size: 1rem;\n",
       "  line-height: 1em;\n",
       "  font-family: monospace;\n",
       "  background-color: var(--sklearn-color-background);\n",
       "  border-radius: 1rem;\n",
       "  height: 1rem;\n",
       "  width: 1rem;\n",
       "  text-decoration: none;\n",
       "  /* unfitted */\n",
       "  color: var(--sklearn-color-unfitted-level-1);\n",
       "  border: var(--sklearn-color-unfitted-level-1) 1pt solid;\n",
       "}\n",
       "\n",
       "#sk-container-id-1 a.estimator_doc_link.fitted {\n",
       "  /* fitted */\n",
       "  border: var(--sklearn-color-fitted-level-1) 1pt solid;\n",
       "  color: var(--sklearn-color-fitted-level-1);\n",
       "}\n",
       "\n",
       "/* On hover */\n",
       "#sk-container-id-1 a.estimator_doc_link:hover {\n",
       "  /* unfitted */\n",
       "  background-color: var(--sklearn-color-unfitted-level-3);\n",
       "  color: var(--sklearn-color-background);\n",
       "  text-decoration: none;\n",
       "}\n",
       "\n",
       "#sk-container-id-1 a.estimator_doc_link.fitted:hover {\n",
       "  /* fitted */\n",
       "  background-color: var(--sklearn-color-fitted-level-3);\n",
       "}\n",
       "</style><div id=\"sk-container-id-1\" class=\"sk-top-container\"><div class=\"sk-text-repr-fallback\"><pre>StandardScaler()</pre><b>In a Jupyter environment, please rerun this cell to show the HTML representation or trust the notebook. <br />On GitHub, the HTML representation is unable to render, please try loading this page with nbviewer.org.</b></div><div class=\"sk-container\" hidden><div class=\"sk-item\"><div class=\"sk-estimator  sk-toggleable\"><input class=\"sk-toggleable__control sk-hidden--visually\" id=\"sk-estimator-id-1\" type=\"checkbox\" checked><label for=\"sk-estimator-id-1\" class=\"sk-toggleable__label  sk-toggleable__label-arrow \">&nbsp;&nbsp;StandardScaler<a class=\"sk-estimator-doc-link \" rel=\"noreferrer\" target=\"_blank\" href=\"https://scikit-learn.org/1.5/modules/generated/sklearn.preprocessing.StandardScaler.html\">?<span>Documentation for StandardScaler</span></a><span class=\"sk-estimator-doc-link \">i<span>Not fitted</span></span></label><div class=\"sk-toggleable__content \"><pre>StandardScaler()</pre></div> </div></div></div></div>"
      ],
      "text/plain": [
       "StandardScaler()"
      ]
     },
     "execution_count": 33,
     "metadata": {},
     "output_type": "execute_result"
    }
   ],
   "source": [
    "scaler = StandardScaler()\n",
    "scaler"
   ]
  },
  {
   "cell_type": "code",
   "execution_count": 34,
   "id": "23f88320-47cb-4f4e-81f3-7ab888f3ad78",
   "metadata": {},
   "outputs": [],
   "source": [
    "temp_list = ['Confidence based on Introduction (English).1',\n",
    "       'Confidence based on the topic given  .1',\n",
    "       'Confidence Based on the PPT Question.1',\n",
    "       'Confidence based on the sales scenario.1',\n",
    "       'Structured Thinking (In regional only).1',\n",
    "       'Structured Thinking Based on the PPT Question.1',\n",
    "       'Structured Thinking( Call pitch).1',\n",
    "       'Regional fluency based on the topic given  .1',\n",
    "       'Regional fluency Based on the PPT Question.1',\n",
    "       'Regional fluency based on the  sales scenario.1', 'Confidence Score',\n",
    "       'Structured Thinking Score', 'Regional Fluency Score', 'Total Score']"
   ]
  },
  {
   "cell_type": "code",
   "execution_count": 35,
   "id": "428c8670-89b8-423c-80f4-0df9e2c8034d",
   "metadata": {},
   "outputs": [
    {
     "name": "stdout",
     "output_type": "stream",
     "text": [
      "Means after scaling:\n",
      " Confidence based on Introduction (English).1       0.0\n",
      "Confidence based on the topic given  .1           -0.0\n",
      "Confidence Based on the PPT Question.1            -0.0\n",
      "Confidence based on the sales scenario.1           0.0\n",
      "Structured Thinking (In regional only).1           0.0\n",
      "Structured Thinking Based on the PPT Question.1   -0.0\n",
      "Structured Thinking( Call pitch).1                -0.0\n",
      "Regional fluency based on the topic given  .1      0.0\n",
      "Regional fluency Based on the PPT Question.1       0.0\n",
      "Regional fluency based on the  sales scenario.1   -0.0\n",
      "Confidence Score                                  -0.0\n",
      "Structured Thinking Score                          0.0\n",
      "Regional Fluency Score                             0.0\n",
      "Total Score                                        0.0\n",
      "dtype: float64\n",
      "Standard deviations after scaling:\n",
      " Confidence based on Introduction (English).1       1.00093\n",
      "Confidence based on the topic given  .1            1.00093\n",
      "Confidence Based on the PPT Question.1             1.00093\n",
      "Confidence based on the sales scenario.1           1.00093\n",
      "Structured Thinking (In regional only).1           1.00093\n",
      "Structured Thinking Based on the PPT Question.1    1.00093\n",
      "Structured Thinking( Call pitch).1                 1.00093\n",
      "Regional fluency based on the topic given  .1      1.00093\n",
      "Regional fluency Based on the PPT Question.1       1.00093\n",
      "Regional fluency based on the  sales scenario.1    1.00093\n",
      "Confidence Score                                   1.00093\n",
      "Structured Thinking Score                          1.00093\n",
      "Regional Fluency Score                             1.00093\n",
      "Total Score                                        1.00093\n",
      "dtype: float64\n"
     ]
    }
   ],
   "source": [
    "numerical_df[temp_list] = scaler.fit_transform(numerical_df[temp_list])\n",
    "print(\"Means after scaling:\\n\", numerical_df[temp_list].mean().round(5))\n",
    "print(\"Standard deviations after scaling:\\n\", numerical_df[temp_list].std().round(5))"
   ]
  },
  {
   "cell_type": "code",
   "execution_count": 36,
   "id": "a00b5ece-fed9-4238-ab45-b6fbcf3d1f5b",
   "metadata": {},
   "outputs": [
    {
     "data": {
      "text/html": [
       "<div>\n",
       "<style scoped>\n",
       "    .dataframe tbody tr th:only-of-type {\n",
       "        vertical-align: middle;\n",
       "    }\n",
       "\n",
       "    .dataframe tbody tr th {\n",
       "        vertical-align: top;\n",
       "    }\n",
       "\n",
       "    .dataframe thead th {\n",
       "        text-align: right;\n",
       "    }\n",
       "</style>\n",
       "<table border=\"1\" class=\"dataframe\">\n",
       "  <thead>\n",
       "    <tr style=\"text-align: right;\">\n",
       "      <th></th>\n",
       "      <th>Experienced candidate - (Experience in months)</th>\n",
       "      <th>Experienced Candidate (Nature of work)</th>\n",
       "      <th>What was the type of Role?</th>\n",
       "      <th>Role acceptance</th>\n",
       "      <th>Candidate is willing to relocate</th>\n",
       "      <th>Confidence based on Introduction (English).1</th>\n",
       "      <th>Confidence based on the topic given  .1</th>\n",
       "      <th>Confidence Based on the PPT Question.1</th>\n",
       "      <th>Confidence based on the sales scenario.1</th>\n",
       "      <th>Structured Thinking (In regional only).1</th>\n",
       "      <th>Structured Thinking Based on the PPT Question.1</th>\n",
       "      <th>Structured Thinking( Call pitch).1</th>\n",
       "      <th>Regional fluency based on the topic given  .1</th>\n",
       "      <th>Regional fluency Based on the PPT Question.1</th>\n",
       "      <th>Regional fluency based on the  sales scenario.1</th>\n",
       "      <th>Confidence Score</th>\n",
       "      <th>Structured Thinking Score</th>\n",
       "      <th>Regional Fluency Score</th>\n",
       "      <th>Total Score</th>\n",
       "    </tr>\n",
       "  </thead>\n",
       "  <tbody>\n",
       "    <tr>\n",
       "      <th>0</th>\n",
       "      <td>6-11.99 Months</td>\n",
       "      <td>tech</td>\n",
       "      <td>Fresher</td>\n",
       "      <td>Yes : Think and says yes.(Shows some hesitation)</td>\n",
       "      <td>Yes - Anywhere Within a City</td>\n",
       "      <td>1.142854</td>\n",
       "      <td>-0.359700</td>\n",
       "      <td>1.199445</td>\n",
       "      <td>1.191408</td>\n",
       "      <td>-0.487552</td>\n",
       "      <td>1.025396</td>\n",
       "      <td>-0.391771</td>\n",
       "      <td>-1.083502</td>\n",
       "      <td>-0.989076</td>\n",
       "      <td>-1.014829</td>\n",
       "      <td>0.974052</td>\n",
       "      <td>0.042661</td>\n",
       "      <td>-1.288389</td>\n",
       "      <td>-0.122521</td>\n",
       "    </tr>\n",
       "    <tr>\n",
       "      <th>1</th>\n",
       "      <td>Fresher(&lt;6 months)</td>\n",
       "      <td>Fresher(&lt;6 months)</td>\n",
       "      <td>Fresher</td>\n",
       "      <td>Emphatic Yes</td>\n",
       "      <td>Yes - Anywhere in PAN India</td>\n",
       "      <td>1.142854</td>\n",
       "      <td>1.095327</td>\n",
       "      <td>1.199445</td>\n",
       "      <td>1.191408</td>\n",
       "      <td>1.046383</td>\n",
       "      <td>1.025396</td>\n",
       "      <td>0.985829</td>\n",
       "      <td>1.032375</td>\n",
       "      <td>1.105896</td>\n",
       "      <td>1.143187</td>\n",
       "      <td>1.417027</td>\n",
       "      <td>1.317761</td>\n",
       "      <td>1.369067</td>\n",
       "      <td>1.592062</td>\n",
       "    </tr>\n",
       "    <tr>\n",
       "      <th>2</th>\n",
       "      <td>Fresher(&lt;6 months)</td>\n",
       "      <td>Fresher(&lt;6 months)</td>\n",
       "      <td>Individual Contributor</td>\n",
       "      <td>Emphatic Yes</td>\n",
       "      <td>Yes - Anywhere Within a City</td>\n",
       "      <td>-0.382842</td>\n",
       "      <td>1.095327</td>\n",
       "      <td>-0.294308</td>\n",
       "      <td>1.191408</td>\n",
       "      <td>1.046383</td>\n",
       "      <td>1.025396</td>\n",
       "      <td>0.985829</td>\n",
       "      <td>1.032375</td>\n",
       "      <td>-0.989076</td>\n",
       "      <td>1.143187</td>\n",
       "      <td>0.531076</td>\n",
       "      <td>1.317761</td>\n",
       "      <td>0.483249</td>\n",
       "      <td>0.830025</td>\n",
       "    </tr>\n",
       "    <tr>\n",
       "      <th>3</th>\n",
       "      <td>Fresher(&lt;6 months)</td>\n",
       "      <td>Fresher(&lt;6 months)</td>\n",
       "      <td>Fresher</td>\n",
       "      <td>Emphatic Yes</td>\n",
       "      <td>Yes - Anywhere in PAN India</td>\n",
       "      <td>1.142854</td>\n",
       "      <td>1.095327</td>\n",
       "      <td>1.199445</td>\n",
       "      <td>1.191408</td>\n",
       "      <td>1.046383</td>\n",
       "      <td>1.025396</td>\n",
       "      <td>0.985829</td>\n",
       "      <td>1.032375</td>\n",
       "      <td>1.105896</td>\n",
       "      <td>1.143187</td>\n",
       "      <td>1.417027</td>\n",
       "      <td>1.317761</td>\n",
       "      <td>1.369067</td>\n",
       "      <td>1.592062</td>\n",
       "    </tr>\n",
       "    <tr>\n",
       "      <th>4</th>\n",
       "      <td>Fresher(&lt;6 months)</td>\n",
       "      <td>Fresher(&lt;6 months)</td>\n",
       "      <td>Fresher</td>\n",
       "      <td>Yes : Think and says yes.(Shows some hesitation)</td>\n",
       "      <td>No - Want Specific Centre Location Only</td>\n",
       "      <td>-0.382842</td>\n",
       "      <td>1.095327</td>\n",
       "      <td>-0.294308</td>\n",
       "      <td>1.191408</td>\n",
       "      <td>-0.487552</td>\n",
       "      <td>-0.507001</td>\n",
       "      <td>-1.769371</td>\n",
       "      <td>1.032375</td>\n",
       "      <td>-0.989076</td>\n",
       "      <td>1.143187</td>\n",
       "      <td>0.531076</td>\n",
       "      <td>-1.232439</td>\n",
       "      <td>0.483249</td>\n",
       "      <td>0.067988</td>\n",
       "    </tr>\n",
       "  </tbody>\n",
       "</table>\n",
       "</div>"
      ],
      "text/plain": [
       "  Experienced candidate - (Experience in months)  \\\n",
       "0                                 6-11.99 Months   \n",
       "1                             Fresher(<6 months)   \n",
       "2                             Fresher(<6 months)   \n",
       "3                             Fresher(<6 months)   \n",
       "4                             Fresher(<6 months)   \n",
       "\n",
       "  Experienced Candidate (Nature of work) What was the type of Role?  \\\n",
       "0                                   tech                    Fresher   \n",
       "1                     Fresher(<6 months)                    Fresher   \n",
       "2                     Fresher(<6 months)     Individual Contributor   \n",
       "3                     Fresher(<6 months)                    Fresher   \n",
       "4                     Fresher(<6 months)                    Fresher   \n",
       "\n",
       "                                    Role acceptance  \\\n",
       "0  Yes : Think and says yes.(Shows some hesitation)   \n",
       "1                                      Emphatic Yes   \n",
       "2                                      Emphatic Yes   \n",
       "3                                      Emphatic Yes   \n",
       "4  Yes : Think and says yes.(Shows some hesitation)   \n",
       "\n",
       "          Candidate is willing to relocate  \\\n",
       "0             Yes - Anywhere Within a City   \n",
       "1              Yes - Anywhere in PAN India   \n",
       "2             Yes - Anywhere Within a City   \n",
       "3              Yes - Anywhere in PAN India   \n",
       "4  No - Want Specific Centre Location Only   \n",
       "\n",
       "   Confidence based on Introduction (English).1  \\\n",
       "0                                      1.142854   \n",
       "1                                      1.142854   \n",
       "2                                     -0.382842   \n",
       "3                                      1.142854   \n",
       "4                                     -0.382842   \n",
       "\n",
       "   Confidence based on the topic given  .1  \\\n",
       "0                                -0.359700   \n",
       "1                                 1.095327   \n",
       "2                                 1.095327   \n",
       "3                                 1.095327   \n",
       "4                                 1.095327   \n",
       "\n",
       "   Confidence Based on the PPT Question.1  \\\n",
       "0                                1.199445   \n",
       "1                                1.199445   \n",
       "2                               -0.294308   \n",
       "3                                1.199445   \n",
       "4                               -0.294308   \n",
       "\n",
       "   Confidence based on the sales scenario.1  \\\n",
       "0                                  1.191408   \n",
       "1                                  1.191408   \n",
       "2                                  1.191408   \n",
       "3                                  1.191408   \n",
       "4                                  1.191408   \n",
       "\n",
       "   Structured Thinking (In regional only).1  \\\n",
       "0                                 -0.487552   \n",
       "1                                  1.046383   \n",
       "2                                  1.046383   \n",
       "3                                  1.046383   \n",
       "4                                 -0.487552   \n",
       "\n",
       "   Structured Thinking Based on the PPT Question.1  \\\n",
       "0                                         1.025396   \n",
       "1                                         1.025396   \n",
       "2                                         1.025396   \n",
       "3                                         1.025396   \n",
       "4                                        -0.507001   \n",
       "\n",
       "   Structured Thinking( Call pitch).1  \\\n",
       "0                           -0.391771   \n",
       "1                            0.985829   \n",
       "2                            0.985829   \n",
       "3                            0.985829   \n",
       "4                           -1.769371   \n",
       "\n",
       "   Regional fluency based on the topic given  .1  \\\n",
       "0                                      -1.083502   \n",
       "1                                       1.032375   \n",
       "2                                       1.032375   \n",
       "3                                       1.032375   \n",
       "4                                       1.032375   \n",
       "\n",
       "   Regional fluency Based on the PPT Question.1  \\\n",
       "0                                     -0.989076   \n",
       "1                                      1.105896   \n",
       "2                                     -0.989076   \n",
       "3                                      1.105896   \n",
       "4                                     -0.989076   \n",
       "\n",
       "   Regional fluency based on the  sales scenario.1  Confidence Score  \\\n",
       "0                                        -1.014829          0.974052   \n",
       "1                                         1.143187          1.417027   \n",
       "2                                         1.143187          0.531076   \n",
       "3                                         1.143187          1.417027   \n",
       "4                                         1.143187          0.531076   \n",
       "\n",
       "   Structured Thinking Score  Regional Fluency Score  Total Score  \n",
       "0                   0.042661               -1.288389    -0.122521  \n",
       "1                   1.317761                1.369067     1.592062  \n",
       "2                   1.317761                0.483249     0.830025  \n",
       "3                   1.317761                1.369067     1.592062  \n",
       "4                  -1.232439                0.483249     0.067988  "
      ]
     },
     "execution_count": 36,
     "metadata": {},
     "output_type": "execute_result"
    }
   ],
   "source": [
    "numerical_df.head()"
   ]
  },
  {
   "cell_type": "code",
   "execution_count": 37,
   "id": "f64b6352-a90d-4851-a8fd-aca06818c445",
   "metadata": {},
   "outputs": [
    {
     "data": {
      "text/plain": [
       "(538, 19)"
      ]
     },
     "execution_count": 37,
     "metadata": {},
     "output_type": "execute_result"
    }
   ],
   "source": [
    "numerical_df.shape"
   ]
  },
  {
   "cell_type": "markdown",
   "id": "7d4c4ec6-17d4-4e97-96ff-106d4af83e6f",
   "metadata": {},
   "source": [
    "# Data Encoding"
   ]
  },
  {
   "cell_type": "code",
   "execution_count": 39,
   "id": "cc33bb6e-922c-45cc-999c-53cbb9b8881d",
   "metadata": {},
   "outputs": [
    {
     "data": {
      "text/plain": [
       "Role acceptance\n",
       "Emphatic Yes                                        387\n",
       "Yes : Think and says yes.(Shows some hesitation)    118\n",
       "No                                                   33\n",
       "Name: count, dtype: int64"
      ]
     },
     "execution_count": 39,
     "metadata": {},
     "output_type": "execute_result"
    }
   ],
   "source": [
    "numerical_df['Role acceptance'].value_counts()"
   ]
  },
  {
   "cell_type": "code",
   "execution_count": 40,
   "id": "e52b3d2d-a5ef-4df4-9849-5cb48155a091",
   "metadata": {},
   "outputs": [],
   "source": [
    "# transformer = ColumnTransformer(transformers = [\n",
    "#     ('t1', OneHotEncoder(sparse_output=False, drop='first'), ['Gender', 'Experienced Candidate (Nature of work)', 'What was the type of Role?', 'Currently Employed', 'Marital status', 'Mode of Interview', 'Pre Interview Check', 'Fluency in English based on introduction', 'Acquaintance and Referral', 'Candidate Status', 'Education']),\n",
    "#     ('t2', OrdinalEncoder(categories=[['Fresher','0-1.99','2-2.99','3-3.99','4-4.99','5-5.99','6-6.99','7+']]), ['Last Fixed CTC (lakhs) ']),\n",
    "#     ('t3', OrdinalEncoder(categories=[['No - Want Specific Centre Location Only','Yes - Anywhere Within a City','Yes - Anywhere Within a State','Yes - Anywhere in PAN India']]), ['Candidate is willing to relocate']),\n",
    "#     ('t4', OrdinalEncoder(categories=[['Reject','Borderline Reject','Borderline Select','Select','Premium Select']]), ['Interview Verdict']),\n",
    "#     ('t5', OrdinalEncoder(categories=[['No','Yes : Think and says yes.(Shows some hesitation)','Emphatic Yes']]), ['Role acceptance']),\n",
    "#     ('t6', OrdinalEncoder(categories=[['Fresher(<6 months)','6-11.99 Months','12-17.99 Months','18-23.99 Months','24-29.99 Months','30-35.99 Months','36-47.99 Months','48+ Months']]), ['Experienced candidate - (Experience in months)']),\n",
    "#     ('t7', OrdinalEncoder(categories=[['18-22', '23-25', '26-28', '29-32', '33-35', '35+']]), ['Age'])\n",
    "# ], remainder='passthrough')"
   ]
  },
  {
   "cell_type": "code",
   "execution_count": 41,
   "id": "b219f6c0-2388-4b29-bd3c-8fac4cdbad70",
   "metadata": {},
   "outputs": [],
   "source": [
    "transformer = ColumnTransformer(transformers = [\n",
    "    ('t1', OneHotEncoder(sparse_output=False, drop='first'), ['Experienced Candidate (Nature of work)', 'What was the type of Role?']),\n",
    "    ('t2', OrdinalEncoder(categories=[['No - Want Specific Centre Location Only','Yes - Anywhere Within a City','Yes - Anywhere Within a State','Yes - Anywhere in PAN India']]), ['Candidate is willing to relocate']),\n",
    "    ('t3', OrdinalEncoder(categories=[['No','Yes : Think and says yes.(Shows some hesitation)','Emphatic Yes']]), ['Role acceptance']),\n",
    "    ('t4', OrdinalEncoder(categories=[['Fresher(<6 months)','6-11.99 Months','12-17.99 Months','18-23.99 Months','24-29.99 Months','30-35.99 Months','36-47.99 Months','48+ Months']]), ['Experienced candidate - (Experience in months)'])\n",
    "], remainder='passthrough')"
   ]
  },
  {
   "cell_type": "code",
   "execution_count": 42,
   "id": "fdaada05-ade7-4f7f-b569-13b97a6028ae",
   "metadata": {},
   "outputs": [],
   "source": [
    "numerical_df = transformer.fit_transform(numerical_df)"
   ]
  },
  {
   "cell_type": "code",
   "execution_count": 43,
   "id": "041fe4fe-8062-4f7a-8607-935ceb952d9b",
   "metadata": {},
   "outputs": [
    {
     "data": {
      "text/plain": [
       "numpy.ndarray"
      ]
     },
     "execution_count": 43,
     "metadata": {},
     "output_type": "execute_result"
    }
   ],
   "source": [
    "type(numerical_df)"
   ]
  },
  {
   "cell_type": "code",
   "execution_count": 44,
   "id": "a4f07951-d79a-4b4d-9142-6dff770b0c55",
   "metadata": {},
   "outputs": [],
   "source": [
    "features_names = transformer.get_feature_names_out()\n",
    "numerical_df = pd.DataFrame(numerical_df, columns=features_names)"
   ]
  },
  {
   "cell_type": "code",
   "execution_count": 45,
   "id": "c8835d4b-0fee-4ae0-8fb6-44da66815e9a",
   "metadata": {},
   "outputs": [
    {
     "data": {
      "text/plain": [
       "(538, 125)"
      ]
     },
     "execution_count": 45,
     "metadata": {},
     "output_type": "execute_result"
    }
   ],
   "source": [
    "numerical_df.shape"
   ]
  },
  {
   "cell_type": "code",
   "execution_count": 46,
   "id": "d35a8793-8d5e-4f17-9f05-9055be7a8bd4",
   "metadata": {},
   "outputs": [
    {
     "data": {
      "text/html": [
       "<div>\n",
       "<style scoped>\n",
       "    .dataframe tbody tr th:only-of-type {\n",
       "        vertical-align: middle;\n",
       "    }\n",
       "\n",
       "    .dataframe tbody tr th {\n",
       "        vertical-align: top;\n",
       "    }\n",
       "\n",
       "    .dataframe thead th {\n",
       "        text-align: right;\n",
       "    }\n",
       "</style>\n",
       "<table border=\"1\" class=\"dataframe\">\n",
       "  <thead>\n",
       "    <tr style=\"text-align: right;\">\n",
       "      <th></th>\n",
       "      <th>t1__Experienced Candidate (Nature of work)_Accounts</th>\n",
       "      <th>t1__Experienced Candidate (Nature of work)_Audit</th>\n",
       "      <th>t1__Experienced Candidate (Nature of work)_BACKEND</th>\n",
       "      <th>t1__Experienced Candidate (Nature of work)_CLIENTS BROUGHT TO THE CO</th>\n",
       "      <th>t1__Experienced Candidate (Nature of work)_CS</th>\n",
       "      <th>t1__Experienced Candidate (Nature of work)_CSAT Traget</th>\n",
       "      <th>t1__Experienced Candidate (Nature of work)_Call time</th>\n",
       "      <th>t1__Experienced Candidate (Nature of work)_Call time, Customer visits</th>\n",
       "      <th>t1__Experienced Candidate (Nature of work)_Call time, Customer visits, working hours</th>\n",
       "      <th>t1__Experienced Candidate (Nature of work)_Call time, Sales numbers</th>\n",
       "      <th>...</th>\n",
       "      <th>remainder__Structured Thinking (In regional only).1</th>\n",
       "      <th>remainder__Structured Thinking Based on the PPT Question.1</th>\n",
       "      <th>remainder__Structured Thinking( Call pitch).1</th>\n",
       "      <th>remainder__Regional fluency based on the topic given  .1</th>\n",
       "      <th>remainder__Regional fluency Based on the PPT Question.1</th>\n",
       "      <th>remainder__Regional fluency based on the  sales scenario.1</th>\n",
       "      <th>remainder__Confidence Score</th>\n",
       "      <th>remainder__Structured Thinking Score</th>\n",
       "      <th>remainder__Regional Fluency Score</th>\n",
       "      <th>remainder__Total Score</th>\n",
       "    </tr>\n",
       "  </thead>\n",
       "  <tbody>\n",
       "    <tr>\n",
       "      <th>0</th>\n",
       "      <td>0.0</td>\n",
       "      <td>0.0</td>\n",
       "      <td>0.0</td>\n",
       "      <td>0.0</td>\n",
       "      <td>0.0</td>\n",
       "      <td>0.0</td>\n",
       "      <td>0.0</td>\n",
       "      <td>0.0</td>\n",
       "      <td>0.0</td>\n",
       "      <td>0.0</td>\n",
       "      <td>...</td>\n",
       "      <td>-0.487552</td>\n",
       "      <td>1.025396</td>\n",
       "      <td>-0.391771</td>\n",
       "      <td>-1.083502</td>\n",
       "      <td>-0.989076</td>\n",
       "      <td>-1.014829</td>\n",
       "      <td>0.974052</td>\n",
       "      <td>0.042661</td>\n",
       "      <td>-1.288389</td>\n",
       "      <td>-0.122521</td>\n",
       "    </tr>\n",
       "    <tr>\n",
       "      <th>1</th>\n",
       "      <td>0.0</td>\n",
       "      <td>0.0</td>\n",
       "      <td>0.0</td>\n",
       "      <td>0.0</td>\n",
       "      <td>0.0</td>\n",
       "      <td>0.0</td>\n",
       "      <td>0.0</td>\n",
       "      <td>0.0</td>\n",
       "      <td>0.0</td>\n",
       "      <td>0.0</td>\n",
       "      <td>...</td>\n",
       "      <td>1.046383</td>\n",
       "      <td>1.025396</td>\n",
       "      <td>0.985829</td>\n",
       "      <td>1.032375</td>\n",
       "      <td>1.105896</td>\n",
       "      <td>1.143187</td>\n",
       "      <td>1.417027</td>\n",
       "      <td>1.317761</td>\n",
       "      <td>1.369067</td>\n",
       "      <td>1.592062</td>\n",
       "    </tr>\n",
       "  </tbody>\n",
       "</table>\n",
       "<p>2 rows × 125 columns</p>\n",
       "</div>"
      ],
      "text/plain": [
       "   t1__Experienced Candidate (Nature of work)_Accounts  \\\n",
       "0                                                0.0     \n",
       "1                                                0.0     \n",
       "\n",
       "   t1__Experienced Candidate (Nature of work)_Audit   \\\n",
       "0                                                0.0   \n",
       "1                                                0.0   \n",
       "\n",
       "   t1__Experienced Candidate (Nature of work)_BACKEND   \\\n",
       "0                                                0.0     \n",
       "1                                                0.0     \n",
       "\n",
       "   t1__Experienced Candidate (Nature of work)_CLIENTS BROUGHT TO THE CO  \\\n",
       "0                                                0.0                      \n",
       "1                                                0.0                      \n",
       "\n",
       "   t1__Experienced Candidate (Nature of work)_CS   \\\n",
       "0                                             0.0   \n",
       "1                                             0.0   \n",
       "\n",
       "   t1__Experienced Candidate (Nature of work)_CSAT Traget  \\\n",
       "0                                                0.0        \n",
       "1                                                0.0        \n",
       "\n",
       "   t1__Experienced Candidate (Nature of work)_Call time  \\\n",
       "0                                                0.0      \n",
       "1                                                0.0      \n",
       "\n",
       "   t1__Experienced Candidate (Nature of work)_Call time, Customer visits  \\\n",
       "0                                                0.0                       \n",
       "1                                                0.0                       \n",
       "\n",
       "   t1__Experienced Candidate (Nature of work)_Call time, Customer visits, working hours  \\\n",
       "0                                                0.0                                      \n",
       "1                                                0.0                                      \n",
       "\n",
       "   t1__Experienced Candidate (Nature of work)_Call time, Sales numbers  ...  \\\n",
       "0                                                0.0                    ...   \n",
       "1                                                0.0                    ...   \n",
       "\n",
       "   remainder__Structured Thinking (In regional only).1  \\\n",
       "0                                          -0.487552     \n",
       "1                                           1.046383     \n",
       "\n",
       "   remainder__Structured Thinking Based on the PPT Question.1  \\\n",
       "0                                           1.025396            \n",
       "1                                           1.025396            \n",
       "\n",
       "   remainder__Structured Thinking( Call pitch).1  \\\n",
       "0                                      -0.391771   \n",
       "1                                       0.985829   \n",
       "\n",
       "   remainder__Regional fluency based on the topic given  .1  \\\n",
       "0                                          -1.083502          \n",
       "1                                           1.032375          \n",
       "\n",
       "   remainder__Regional fluency Based on the PPT Question.1  \\\n",
       "0                                          -0.989076         \n",
       "1                                           1.105896         \n",
       "\n",
       "   remainder__Regional fluency based on the  sales scenario.1  \\\n",
       "0                                          -1.014829            \n",
       "1                                           1.143187            \n",
       "\n",
       "   remainder__Confidence Score  remainder__Structured Thinking Score  \\\n",
       "0                     0.974052                              0.042661   \n",
       "1                     1.417027                              1.317761   \n",
       "\n",
       "   remainder__Regional Fluency Score  remainder__Total Score  \n",
       "0                          -1.288389               -0.122521  \n",
       "1                           1.369067                1.592062  \n",
       "\n",
       "[2 rows x 125 columns]"
      ]
     },
     "execution_count": 46,
     "metadata": {},
     "output_type": "execute_result"
    }
   ],
   "source": [
    "numerical_df.head(2)"
   ]
  },
  {
   "cell_type": "markdown",
   "id": "06ad5ce1-42d8-47cd-9cf2-96800ba8514c",
   "metadata": {},
   "source": [
    "# Principal Component Analysis(PCA) for Dimensionality Reduction\n",
    "**Required to reduce the number of features**"
   ]
  },
  {
   "cell_type": "code",
   "execution_count": 48,
   "id": "981abbbb-2d08-4413-97a2-950c36d8c5a4",
   "metadata": {},
   "outputs": [],
   "source": [
    "pca = PCA(n_components=0.95)\n",
    "numerical_pca = pca.fit_transform(numerical_df)"
   ]
  },
  {
   "cell_type": "code",
   "execution_count": 49,
   "id": "b586921e-706d-4010-b2b2-63fd7ed8351c",
   "metadata": {},
   "outputs": [
    {
     "data": {
      "text/plain": [
       "numpy.ndarray"
      ]
     },
     "execution_count": 49,
     "metadata": {},
     "output_type": "execute_result"
    }
   ],
   "source": [
    "type(numerical_pca)"
   ]
  },
  {
   "cell_type": "code",
   "execution_count": 50,
   "id": "9cf7b500-1332-44be-a088-fbb5490559ec",
   "metadata": {},
   "outputs": [],
   "source": [
    "features_names = pca.get_feature_names_out()\n",
    "numerical_df = pd.DataFrame(numerical_pca, columns=features_names)"
   ]
  },
  {
   "cell_type": "code",
   "execution_count": 51,
   "id": "f6a85c9f-5545-47e2-bca9-302ac60a7c6e",
   "metadata": {},
   "outputs": [
    {
     "data": {
      "text/plain": [
       "pandas.core.frame.DataFrame"
      ]
     },
     "execution_count": 51,
     "metadata": {},
     "output_type": "execute_result"
    }
   ],
   "source": [
    "type(numerical_df)"
   ]
  },
  {
   "cell_type": "code",
   "execution_count": 52,
   "id": "86b7cae9-ea23-4578-8b66-0cbddc6a596b",
   "metadata": {},
   "outputs": [
    {
     "data": {
      "text/plain": [
       "(538, 12)"
      ]
     },
     "execution_count": 52,
     "metadata": {},
     "output_type": "execute_result"
    }
   ],
   "source": [
    "numerical_df.shape"
   ]
  },
  {
   "cell_type": "code",
   "execution_count": 53,
   "id": "8a1c219d-866f-4708-b65f-110bb0eb50d9",
   "metadata": {},
   "outputs": [
    {
     "data": {
      "text/html": [
       "<div>\n",
       "<style scoped>\n",
       "    .dataframe tbody tr th:only-of-type {\n",
       "        vertical-align: middle;\n",
       "    }\n",
       "\n",
       "    .dataframe tbody tr th {\n",
       "        vertical-align: top;\n",
       "    }\n",
       "\n",
       "    .dataframe thead th {\n",
       "        text-align: right;\n",
       "    }\n",
       "</style>\n",
       "<table border=\"1\" class=\"dataframe\">\n",
       "  <thead>\n",
       "    <tr style=\"text-align: right;\">\n",
       "      <th></th>\n",
       "      <th>pca0</th>\n",
       "      <th>pca1</th>\n",
       "      <th>pca2</th>\n",
       "      <th>pca3</th>\n",
       "      <th>pca4</th>\n",
       "      <th>pca5</th>\n",
       "      <th>pca6</th>\n",
       "      <th>pca7</th>\n",
       "      <th>pca8</th>\n",
       "      <th>pca9</th>\n",
       "      <th>pca10</th>\n",
       "      <th>pca11</th>\n",
       "    </tr>\n",
       "  </thead>\n",
       "  <tbody>\n",
       "    <tr>\n",
       "      <th>0</th>\n",
       "      <td>0.020663</td>\n",
       "      <td>-0.293859</td>\n",
       "      <td>-1.946299</td>\n",
       "      <td>-1.676387</td>\n",
       "      <td>-0.585343</td>\n",
       "      <td>-1.533828</td>\n",
       "      <td>-0.967480</td>\n",
       "      <td>0.340081</td>\n",
       "      <td>-0.172609</td>\n",
       "      <td>0.889351</td>\n",
       "      <td>-0.117318</td>\n",
       "      <td>0.792940</td>\n",
       "    </tr>\n",
       "    <tr>\n",
       "      <th>1</th>\n",
       "      <td>4.150855</td>\n",
       "      <td>-2.217594</td>\n",
       "      <td>-0.296497</td>\n",
       "      <td>1.332738</td>\n",
       "      <td>0.050729</td>\n",
       "      <td>-0.144196</td>\n",
       "      <td>0.005542</td>\n",
       "      <td>-0.007736</td>\n",
       "      <td>0.170302</td>\n",
       "      <td>-0.058781</td>\n",
       "      <td>0.077240</td>\n",
       "      <td>-0.060539</td>\n",
       "    </tr>\n",
       "    <tr>\n",
       "      <th>2</th>\n",
       "      <td>2.156897</td>\n",
       "      <td>-1.637168</td>\n",
       "      <td>-0.299337</td>\n",
       "      <td>-0.611816</td>\n",
       "      <td>0.356901</td>\n",
       "      <td>0.921000</td>\n",
       "      <td>1.776104</td>\n",
       "      <td>1.152814</td>\n",
       "      <td>0.228992</td>\n",
       "      <td>0.825269</td>\n",
       "      <td>-0.101449</td>\n",
       "      <td>0.348820</td>\n",
       "    </tr>\n",
       "    <tr>\n",
       "      <th>3</th>\n",
       "      <td>4.150855</td>\n",
       "      <td>-2.217594</td>\n",
       "      <td>-0.296497</td>\n",
       "      <td>1.332738</td>\n",
       "      <td>0.050729</td>\n",
       "      <td>-0.144196</td>\n",
       "      <td>0.005542</td>\n",
       "      <td>-0.007736</td>\n",
       "      <td>0.170302</td>\n",
       "      <td>-0.058781</td>\n",
       "      <td>0.077240</td>\n",
       "      <td>-0.060539</td>\n",
       "    </tr>\n",
       "    <tr>\n",
       "      <th>4</th>\n",
       "      <td>-0.251593</td>\n",
       "      <td>-1.269990</td>\n",
       "      <td>1.988549</td>\n",
       "      <td>-0.937286</td>\n",
       "      <td>-1.926245</td>\n",
       "      <td>-0.368842</td>\n",
       "      <td>0.537461</td>\n",
       "      <td>1.926359</td>\n",
       "      <td>-0.560532</td>\n",
       "      <td>1.012323</td>\n",
       "      <td>0.066464</td>\n",
       "      <td>0.511079</td>\n",
       "    </tr>\n",
       "  </tbody>\n",
       "</table>\n",
       "</div>"
      ],
      "text/plain": [
       "       pca0      pca1      pca2      pca3      pca4      pca5      pca6  \\\n",
       "0  0.020663 -0.293859 -1.946299 -1.676387 -0.585343 -1.533828 -0.967480   \n",
       "1  4.150855 -2.217594 -0.296497  1.332738  0.050729 -0.144196  0.005542   \n",
       "2  2.156897 -1.637168 -0.299337 -0.611816  0.356901  0.921000  1.776104   \n",
       "3  4.150855 -2.217594 -0.296497  1.332738  0.050729 -0.144196  0.005542   \n",
       "4 -0.251593 -1.269990  1.988549 -0.937286 -1.926245 -0.368842  0.537461   \n",
       "\n",
       "       pca7      pca8      pca9     pca10     pca11  \n",
       "0  0.340081 -0.172609  0.889351 -0.117318  0.792940  \n",
       "1 -0.007736  0.170302 -0.058781  0.077240 -0.060539  \n",
       "2  1.152814  0.228992  0.825269 -0.101449  0.348820  \n",
       "3 -0.007736  0.170302 -0.058781  0.077240 -0.060539  \n",
       "4  1.926359 -0.560532  1.012323  0.066464  0.511079  "
      ]
     },
     "execution_count": 53,
     "metadata": {},
     "output_type": "execute_result"
    }
   ],
   "source": [
    "numerical_df.head()"
   ]
  },
  {
   "cell_type": "code",
   "execution_count": 54,
   "id": "04ef1a20-c5b1-4e83-a4b8-ace1e120bc58",
   "metadata": {},
   "outputs": [],
   "source": [
    "# df = df[['id',\n",
    "#                    'Name',\n",
    "#                    'Comments',\n",
    "#                    'RedFlags Comments in Interview',\n",
    "#                    'Call-pitch Elements used during the call Sales Scenario',\n",
    "#                    \"But, my child's exam are going on now, so we will keep the counselling session after the exams get over\",\n",
    "#                   'Let me discuss it with my child',\n",
    "#                 'Whether joined the company or not',\n",
    "#                    \"Sir being in education industry I know this is a marketing gimmick and at the end of the day you'll be selling the app.\",'Role Location to be given to the candidate']]"
   ]
  },
  {
   "cell_type": "code",
   "execution_count": 55,
   "id": "96566a2f-4356-4486-8db9-2bb80ba8e00d",
   "metadata": {},
   "outputs": [],
   "source": [
    "df = df[['id',\n",
    "                   'Name',\n",
    "                   'Age',\n",
    "                   'Gender',\n",
    "                   'Currently Employed',\n",
    "                   'Marital status',\n",
    "                   'Mode of Interview',\n",
    "                   'Pre Interview Check',\n",
    "                   'Fluency in English based on introduction',\n",
    "                   'Acquaintance and Referral',\n",
    "                   'Candidate Status',\n",
    "                   'Education',\n",
    "                   'Last Fixed CTC (lakhs) ',\n",
    "                   'Interview Verdict',\n",
    "                   'Call-pitch Elements used during the call Sales Scenario',\n",
    "                   \"But, my child's exam are going on now, so we will keep the counselling session after the exams get over\",\n",
    "                  'Let me discuss it with my child',\n",
    "                   'Whether joined the company or not',\n",
    "                   \"Sir being in education industry I know this is a marketing gimmick and at the end of the day you'll be selling the app.\",'Role Location to be given to the candidate']]"
   ]
  },
  {
   "cell_type": "code",
   "execution_count": 56,
   "id": "86b247ff-eaad-4fc6-9d06-771649842003",
   "metadata": {},
   "outputs": [
    {
     "data": {
      "text/plain": [
       "array([0, 1])"
      ]
     },
     "execution_count": 56,
     "metadata": {},
     "output_type": "execute_result"
    }
   ],
   "source": [
    "df['Whether joined the company or not'].unique()"
   ]
  },
  {
   "cell_type": "code",
   "execution_count": 57,
   "id": "4704f8b9-607f-408d-88d8-914cc1b5555b",
   "metadata": {},
   "outputs": [
    {
     "name": "stdout",
     "output_type": "stream",
     "text": [
      "<class 'pandas.core.frame.DataFrame'>\n",
      "Index: 538 entries, 0 to 595\n",
      "Data columns (total 20 columns):\n",
      " #   Column                                                                                                                   Non-Null Count  Dtype   \n",
      "---  ------                                                                                                                   --------------  -----   \n",
      " 0   id                                                                                                                       538 non-null    int64   \n",
      " 1   Name                                                                                                                     538 non-null    object  \n",
      " 2   Age                                                                                                                      538 non-null    category\n",
      " 3   Gender                                                                                                                   538 non-null    object  \n",
      " 4   Currently Employed                                                                                                       538 non-null    object  \n",
      " 5   Marital status                                                                                                           538 non-null    object  \n",
      " 6   Mode of Interview                                                                                                        538 non-null    object  \n",
      " 7   Pre Interview Check                                                                                                      538 non-null    object  \n",
      " 8   Fluency in English based on introduction                                                                                 538 non-null    object  \n",
      " 9   Acquaintance and Referral                                                                                                538 non-null    object  \n",
      " 10  Candidate Status                                                                                                         538 non-null    object  \n",
      " 11  Education                                                                                                                538 non-null    object  \n",
      " 12  Last Fixed CTC (lakhs)                                                                                                   538 non-null    object  \n",
      " 13  Interview Verdict                                                                                                        538 non-null    object  \n",
      " 14  Call-pitch Elements used during the call Sales Scenario                                                                  538 non-null    object  \n",
      " 15  But, my child's exam are going on now, so we will keep the counselling session after the exams get over                  538 non-null    object  \n",
      " 16  Let me discuss it with my child                                                                                          538 non-null    object  \n",
      " 17  Whether joined the company or not                                                                                        538 non-null    int32   \n",
      " 18  Sir being in education industry I know this is a marketing gimmick and at the end of the day you'll be selling the app.  538 non-null    object  \n",
      " 19  Role Location to be given to the candidate                                                                               538 non-null    object  \n",
      "dtypes: category(1), int32(1), int64(1), object(17)\n",
      "memory usage: 82.7+ KB\n"
     ]
    }
   ],
   "source": [
    "df.info()"
   ]
  },
  {
   "cell_type": "code",
   "execution_count": 58,
   "id": "fa8fa52a-8923-4f36-b6e5-b03a6cb5eaa1",
   "metadata": {},
   "outputs": [],
   "source": [
    "for col in df.columns:\n",
    "    if df[col].dtype == 'object':\n",
    "        df[col] = df[col].apply(lambda x:x.split())"
   ]
  },
  {
   "cell_type": "code",
   "execution_count": 59,
   "id": "8bf35c3b-484b-4971-8e80-86c7b6303156",
   "metadata": {},
   "outputs": [
    {
     "data": {
      "text/html": [
       "<div>\n",
       "<style scoped>\n",
       "    .dataframe tbody tr th:only-of-type {\n",
       "        vertical-align: middle;\n",
       "    }\n",
       "\n",
       "    .dataframe tbody tr th {\n",
       "        vertical-align: top;\n",
       "    }\n",
       "\n",
       "    .dataframe thead th {\n",
       "        text-align: right;\n",
       "    }\n",
       "</style>\n",
       "<table border=\"1\" class=\"dataframe\">\n",
       "  <thead>\n",
       "    <tr style=\"text-align: right;\">\n",
       "      <th></th>\n",
       "      <th>id</th>\n",
       "      <th>Name</th>\n",
       "      <th>Age</th>\n",
       "      <th>Gender</th>\n",
       "      <th>Currently Employed</th>\n",
       "      <th>Marital status</th>\n",
       "      <th>Mode of Interview</th>\n",
       "      <th>Pre Interview Check</th>\n",
       "      <th>Fluency in English based on introduction</th>\n",
       "      <th>Acquaintance and Referral</th>\n",
       "      <th>Candidate Status</th>\n",
       "      <th>Education</th>\n",
       "      <th>Last Fixed CTC (lakhs)</th>\n",
       "      <th>Interview Verdict</th>\n",
       "      <th>Call-pitch Elements used during the call Sales Scenario</th>\n",
       "      <th>But, my child's exam are going on now, so we will keep the counselling session after the exams get over</th>\n",
       "      <th>Let me discuss it with my child</th>\n",
       "      <th>Whether joined the company or not</th>\n",
       "      <th>Sir being in education industry I know this is a marketing gimmick and at the end of the day you'll be selling the app.</th>\n",
       "      <th>Role Location to be given to the candidate</th>\n",
       "    </tr>\n",
       "  </thead>\n",
       "  <tbody>\n",
       "    <tr>\n",
       "      <th>0</th>\n",
       "      <td>0</td>\n",
       "      <td>[parida]</td>\n",
       "      <td>23-25</td>\n",
       "      <td>[Female]</td>\n",
       "      <td>[No]</td>\n",
       "      <td>[Unmarried]</td>\n",
       "      <td>[Mobile]</td>\n",
       "      <td>[Proceed, with, the, Interview]</td>\n",
       "      <td>[Able, to, speak, sentences, in, a, clear/cohe...</td>\n",
       "      <td>[No]</td>\n",
       "      <td>[Experienced, in, non, client, facing(equal, t...</td>\n",
       "      <td>[Masters, in, data, science]</td>\n",
       "      <td>[5-5.99]</td>\n",
       "      <td>[Reject]</td>\n",
       "      <td>[Purpose, of, Call, (Book, a, Counselling, Ses...</td>\n",
       "      <td>[Urgency, using, Time]</td>\n",
       "      <td>[None, of, the, above]</td>\n",
       "      <td>0</td>\n",
       "      <td>[None, of, the, above]</td>\n",
       "      <td>[Bangalore]</td>\n",
       "    </tr>\n",
       "    <tr>\n",
       "      <th>1</th>\n",
       "      <td>1</td>\n",
       "      <td>[shreej]</td>\n",
       "      <td>29-32</td>\n",
       "      <td>[Female]</td>\n",
       "      <td>[No]</td>\n",
       "      <td>[Unmarried]</td>\n",
       "      <td>[Mobile]</td>\n",
       "      <td>[Proceed, with, the, Interview]</td>\n",
       "      <td>[Able, to, speak, sentences, in, a, clear/cohe...</td>\n",
       "      <td>[No]</td>\n",
       "      <td>[Lateral(2021, and, before, with, (less, than,...</td>\n",
       "      <td>[BSc, or, MSc]</td>\n",
       "      <td>[Fresher]</td>\n",
       "      <td>[Reject]</td>\n",
       "      <td>[Introduction, (Self, Intro,Company, Name),, P...</td>\n",
       "      <td>[Asking, Questions]</td>\n",
       "      <td>[None, of, the, above]</td>\n",
       "      <td>0</td>\n",
       "      <td>[Non, chargeable, session]</td>\n",
       "      <td>[Delhi]</td>\n",
       "    </tr>\n",
       "    <tr>\n",
       "      <th>2</th>\n",
       "      <td>2</td>\n",
       "      <td>[ms6744]</td>\n",
       "      <td>26-28</td>\n",
       "      <td>[Female]</td>\n",
       "      <td>[Yes]</td>\n",
       "      <td>[Unmarried]</td>\n",
       "      <td>[Mobile]</td>\n",
       "      <td>[Proceed, with, the, Interview]</td>\n",
       "      <td>[Able, to, speak, sentences, in, a, clear/cohe...</td>\n",
       "      <td>[Yes]</td>\n",
       "      <td>[Fresher(only, 2022, grad)]</td>\n",
       "      <td>[B.E, /, B-Tech]</td>\n",
       "      <td>[Fresher]</td>\n",
       "      <td>[Premium, Select]</td>\n",
       "      <td>[Introduction, (Self, Intro,Company, Name)]</td>\n",
       "      <td>[Urgency, using, Time]</td>\n",
       "      <td>[Decision, Making:, Major, decision, of, child...</td>\n",
       "      <td>1</td>\n",
       "      <td>[Non, chargeable, session]</td>\n",
       "      <td>[Chennai]</td>\n",
       "    </tr>\n",
       "    <tr>\n",
       "      <th>3</th>\n",
       "      <td>3</td>\n",
       "      <td>[aswalu]</td>\n",
       "      <td>18-22</td>\n",
       "      <td>[Male]</td>\n",
       "      <td>[No]</td>\n",
       "      <td>[Unmarried]</td>\n",
       "      <td>[Laptop]</td>\n",
       "      <td>[Proceed, with, the, Interview]</td>\n",
       "      <td>[Able, to, speak, sentences, in, a, clear/cohe...</td>\n",
       "      <td>[No]</td>\n",
       "      <td>[Fresher(only, 2022, grad)]</td>\n",
       "      <td>[B.E, /, B-Tech]</td>\n",
       "      <td>[Fresher]</td>\n",
       "      <td>[Premium, Select]</td>\n",
       "      <td>[Introduction, (Self, Intro,Company, Name),, P...</td>\n",
       "      <td>[Urgency, using, Time,, Urgency, using, situat...</td>\n",
       "      <td>[None, of, the, above]</td>\n",
       "      <td>1</td>\n",
       "      <td>[Value, creation(Nothing, comes, for, free)]</td>\n",
       "      <td>[Delhi]</td>\n",
       "    </tr>\n",
       "    <tr>\n",
       "      <th>4</th>\n",
       "      <td>4</td>\n",
       "      <td>[aniket]</td>\n",
       "      <td>18-22</td>\n",
       "      <td>[Male]</td>\n",
       "      <td>[No]</td>\n",
       "      <td>[Unmarried]</td>\n",
       "      <td>[Mobile]</td>\n",
       "      <td>[Proceed, with, the, Interview]</td>\n",
       "      <td>[Taking, gaps, while, speaking, due, to, lack,...</td>\n",
       "      <td>[No]</td>\n",
       "      <td>[Fresher(only, 2022, grad)]</td>\n",
       "      <td>[BA/MA]</td>\n",
       "      <td>[Fresher]</td>\n",
       "      <td>[Borderline, Select]</td>\n",
       "      <td>[None, of, the, Above]</td>\n",
       "      <td>[Urgency, by, creating, counsellor, Hype]</td>\n",
       "      <td>[Anticipation, of, objection, from, child's, e...</td>\n",
       "      <td>0</td>\n",
       "      <td>[Value, creation(Nothing, comes, for, free)]</td>\n",
       "      <td>[Bangalore]</td>\n",
       "    </tr>\n",
       "  </tbody>\n",
       "</table>\n",
       "</div>"
      ],
      "text/plain": [
       "   id      Name    Age    Gender Currently Employed Marital status  \\\n",
       "0   0  [parida]  23-25  [Female]               [No]    [Unmarried]   \n",
       "1   1  [shreej]  29-32  [Female]               [No]    [Unmarried]   \n",
       "2   2  [ms6744]  26-28  [Female]              [Yes]    [Unmarried]   \n",
       "3   3  [aswalu]  18-22    [Male]               [No]    [Unmarried]   \n",
       "4   4  [aniket]  18-22    [Male]               [No]    [Unmarried]   \n",
       "\n",
       "  Mode of Interview              Pre Interview Check  \\\n",
       "0          [Mobile]  [Proceed, with, the, Interview]   \n",
       "1          [Mobile]  [Proceed, with, the, Interview]   \n",
       "2          [Mobile]  [Proceed, with, the, Interview]   \n",
       "3          [Laptop]  [Proceed, with, the, Interview]   \n",
       "4          [Mobile]  [Proceed, with, the, Interview]   \n",
       "\n",
       "            Fluency in English based on introduction  \\\n",
       "0  [Able, to, speak, sentences, in, a, clear/cohe...   \n",
       "1  [Able, to, speak, sentences, in, a, clear/cohe...   \n",
       "2  [Able, to, speak, sentences, in, a, clear/cohe...   \n",
       "3  [Able, to, speak, sentences, in, a, clear/cohe...   \n",
       "4  [Taking, gaps, while, speaking, due, to, lack,...   \n",
       "\n",
       "  Acquaintance and Referral  \\\n",
       "0                      [No]   \n",
       "1                      [No]   \n",
       "2                     [Yes]   \n",
       "3                      [No]   \n",
       "4                      [No]   \n",
       "\n",
       "                                    Candidate Status  \\\n",
       "0  [Experienced, in, non, client, facing(equal, t...   \n",
       "1  [Lateral(2021, and, before, with, (less, than,...   \n",
       "2                        [Fresher(only, 2022, grad)]   \n",
       "3                        [Fresher(only, 2022, grad)]   \n",
       "4                        [Fresher(only, 2022, grad)]   \n",
       "\n",
       "                      Education Last Fixed CTC (lakhs)      Interview Verdict  \\\n",
       "0  [Masters, in, data, science]                [5-5.99]              [Reject]   \n",
       "1                [BSc, or, MSc]               [Fresher]              [Reject]   \n",
       "2              [B.E, /, B-Tech]               [Fresher]     [Premium, Select]   \n",
       "3              [B.E, /, B-Tech]               [Fresher]     [Premium, Select]   \n",
       "4                       [BA/MA]               [Fresher]  [Borderline, Select]   \n",
       "\n",
       "  Call-pitch Elements used during the call Sales Scenario  \\\n",
       "0  [Purpose, of, Call, (Book, a, Counselling, Ses...        \n",
       "1  [Introduction, (Self, Intro,Company, Name),, P...        \n",
       "2        [Introduction, (Self, Intro,Company, Name)]        \n",
       "3  [Introduction, (Self, Intro,Company, Name),, P...        \n",
       "4                             [None, of, the, Above]        \n",
       "\n",
       "  But, my child's exam are going on now, so we will keep the counselling session after the exams get over  \\\n",
       "0                             [Urgency, using, Time]                                                        \n",
       "1                                [Asking, Questions]                                                        \n",
       "2                             [Urgency, using, Time]                                                        \n",
       "3  [Urgency, using, Time,, Urgency, using, situat...                                                        \n",
       "4          [Urgency, by, creating, counsellor, Hype]                                                        \n",
       "\n",
       "                     Let me discuss it with my child  \\\n",
       "0                             [None, of, the, above]   \n",
       "1                             [None, of, the, above]   \n",
       "2  [Decision, Making:, Major, decision, of, child...   \n",
       "3                             [None, of, the, above]   \n",
       "4  [Anticipation, of, objection, from, child's, e...   \n",
       "\n",
       "   Whether joined the company or not  \\\n",
       "0                                  0   \n",
       "1                                  0   \n",
       "2                                  1   \n",
       "3                                  1   \n",
       "4                                  0   \n",
       "\n",
       "  Sir being in education industry I know this is a marketing gimmick and at the end of the day you'll be selling the app.  \\\n",
       "0                             [None, of, the, above]                                                                        \n",
       "1                         [Non, chargeable, session]                                                                        \n",
       "2                         [Non, chargeable, session]                                                                        \n",
       "3       [Value, creation(Nothing, comes, for, free)]                                                                        \n",
       "4       [Value, creation(Nothing, comes, for, free)]                                                                        \n",
       "\n",
       "  Role Location to be given to the candidate  \n",
       "0                                [Bangalore]  \n",
       "1                                    [Delhi]  \n",
       "2                                  [Chennai]  \n",
       "3                                    [Delhi]  \n",
       "4                                [Bangalore]  "
      ]
     },
     "execution_count": 59,
     "metadata": {},
     "output_type": "execute_result"
    }
   ],
   "source": [
    "df.head()"
   ]
  },
  {
   "cell_type": "code",
   "execution_count": 60,
   "id": "b4fe1ac3-1f77-477f-a51e-ec2992a8cc6b",
   "metadata": {},
   "outputs": [
    {
     "data": {
      "text/plain": [
       "Index(['id', 'Name', 'Age', 'Gender', 'Currently Employed', 'Marital status',\n",
       "       'Mode of Interview', 'Pre Interview Check',\n",
       "       'Fluency in English based on introduction', 'Acquaintance and Referral',\n",
       "       'Candidate Status', 'Education', 'Last Fixed CTC (lakhs) ',\n",
       "       'Interview Verdict',\n",
       "       'Call-pitch Elements used during the call Sales Scenario',\n",
       "       'But, my child's exam are going on now, so we will keep the counselling session after the exams get over',\n",
       "       'Let me discuss it with my child', 'Whether joined the company or not',\n",
       "       'Sir being in education industry I know this is a marketing gimmick and at the end of the day you'll be selling the app.',\n",
       "       'Role Location to be given to the candidate'],\n",
       "      dtype='object')"
      ]
     },
     "execution_count": 60,
     "metadata": {},
     "output_type": "execute_result"
    }
   ],
   "source": [
    "df.columns"
   ]
  },
  {
   "cell_type": "code",
   "execution_count": 61,
   "id": "8213480a-7556-4e88-b4de-e181f1c53b47",
   "metadata": {},
   "outputs": [],
   "source": [
    "# df['tags'] = df['Name'] + df['Comments'] + df['RedFlags Comments in Interview'] + df['Call-pitch Elements used during the call Sales Scenario'] + df[\"But, my child's exam are going on now, so we will keep the counselling session after the exams get over\"] + df['Let me discuss it with my child'] + df[\"Sir being in education industry I know this is a marketing gimmick and at the end of the day you'll be selling the app.\"] + df['Role Location to be given to the candidate']"
   ]
  },
  {
   "cell_type": "code",
   "execution_count": 62,
   "id": "b88afe0e-e7bc-49a2-9010-8b0eec56566f",
   "metadata": {},
   "outputs": [],
   "source": [
    "df['tags'] = (\n",
    "    df['Name'].astype(str) + \" \" +\n",
    "    df['Age'].astype(str) + \" \" +\n",
    "    df['Gender'].astype(str) + \" \" +\n",
    "    df['Currently Employed'].astype(str) + \" \" +\n",
    "    df['Marital status'].astype(str) + \" \" +\n",
    "    df['Mode of Interview'].astype(str) + \" \" +\n",
    "    df['Pre Interview Check'].astype(str) + \" \" +\n",
    "    df['Fluency in English based on introduction'].astype(str) + \" \" +\n",
    "    df['Acquaintance and Referral'].astype(str) + \" \" +\n",
    "    df['Candidate Status'].astype(str) + \" \" +\n",
    "    df['Education'].astype(str) + \" \" +\n",
    "    df['Last Fixed CTC (lakhs) '].astype(str) + \" \" +\n",
    "    df['Interview Verdict'].astype(str) + \" \" +\n",
    "    df['Call-pitch Elements used during the call Sales Scenario'].astype(str) + \" \" +\n",
    "    df[\"But, my child's exam are going on now, so we will keep the counselling session after the exams get over\"].astype(str) + \" \" +\n",
    "    df['Let me discuss it with my child'].astype(str) + \" \" +\n",
    "    df[\"Sir being in education industry I know this is a marketing gimmick and at the end of the day you'll be selling the app.\"].astype(str) + \" \" +\n",
    "    df['Role Location to be given to the candidate'].astype(str)\n",
    ")"
   ]
  },
  {
   "cell_type": "code",
   "execution_count": 63,
   "id": "39e5b0c2-fcb8-47d9-8f9f-8a06d6766a79",
   "metadata": {},
   "outputs": [
    {
     "data": {
      "text/html": [
       "<div>\n",
       "<style scoped>\n",
       "    .dataframe tbody tr th:only-of-type {\n",
       "        vertical-align: middle;\n",
       "    }\n",
       "\n",
       "    .dataframe tbody tr th {\n",
       "        vertical-align: top;\n",
       "    }\n",
       "\n",
       "    .dataframe thead th {\n",
       "        text-align: right;\n",
       "    }\n",
       "</style>\n",
       "<table border=\"1\" class=\"dataframe\">\n",
       "  <thead>\n",
       "    <tr style=\"text-align: right;\">\n",
       "      <th></th>\n",
       "      <th>id</th>\n",
       "      <th>Name</th>\n",
       "      <th>Age</th>\n",
       "      <th>Gender</th>\n",
       "      <th>Currently Employed</th>\n",
       "      <th>Marital status</th>\n",
       "      <th>Mode of Interview</th>\n",
       "      <th>Pre Interview Check</th>\n",
       "      <th>Fluency in English based on introduction</th>\n",
       "      <th>Acquaintance and Referral</th>\n",
       "      <th>...</th>\n",
       "      <th>Education</th>\n",
       "      <th>Last Fixed CTC (lakhs)</th>\n",
       "      <th>Interview Verdict</th>\n",
       "      <th>Call-pitch Elements used during the call Sales Scenario</th>\n",
       "      <th>But, my child's exam are going on now, so we will keep the counselling session after the exams get over</th>\n",
       "      <th>Let me discuss it with my child</th>\n",
       "      <th>Whether joined the company or not</th>\n",
       "      <th>Sir being in education industry I know this is a marketing gimmick and at the end of the day you'll be selling the app.</th>\n",
       "      <th>Role Location to be given to the candidate</th>\n",
       "      <th>tags</th>\n",
       "    </tr>\n",
       "  </thead>\n",
       "  <tbody>\n",
       "    <tr>\n",
       "      <th>0</th>\n",
       "      <td>0</td>\n",
       "      <td>[parida]</td>\n",
       "      <td>23-25</td>\n",
       "      <td>[Female]</td>\n",
       "      <td>[No]</td>\n",
       "      <td>[Unmarried]</td>\n",
       "      <td>[Mobile]</td>\n",
       "      <td>[Proceed, with, the, Interview]</td>\n",
       "      <td>[Able, to, speak, sentences, in, a, clear/cohe...</td>\n",
       "      <td>[No]</td>\n",
       "      <td>...</td>\n",
       "      <td>[Masters, in, data, science]</td>\n",
       "      <td>[5-5.99]</td>\n",
       "      <td>[Reject]</td>\n",
       "      <td>[Purpose, of, Call, (Book, a, Counselling, Ses...</td>\n",
       "      <td>[Urgency, using, Time]</td>\n",
       "      <td>[None, of, the, above]</td>\n",
       "      <td>0</td>\n",
       "      <td>[None, of, the, above]</td>\n",
       "      <td>[Bangalore]</td>\n",
       "      <td>['parida'] 23-25 ['Female'] ['No'] ['Unmarried...</td>\n",
       "    </tr>\n",
       "    <tr>\n",
       "      <th>1</th>\n",
       "      <td>1</td>\n",
       "      <td>[shreej]</td>\n",
       "      <td>29-32</td>\n",
       "      <td>[Female]</td>\n",
       "      <td>[No]</td>\n",
       "      <td>[Unmarried]</td>\n",
       "      <td>[Mobile]</td>\n",
       "      <td>[Proceed, with, the, Interview]</td>\n",
       "      <td>[Able, to, speak, sentences, in, a, clear/cohe...</td>\n",
       "      <td>[No]</td>\n",
       "      <td>...</td>\n",
       "      <td>[BSc, or, MSc]</td>\n",
       "      <td>[Fresher]</td>\n",
       "      <td>[Reject]</td>\n",
       "      <td>[Introduction, (Self, Intro,Company, Name),, P...</td>\n",
       "      <td>[Asking, Questions]</td>\n",
       "      <td>[None, of, the, above]</td>\n",
       "      <td>0</td>\n",
       "      <td>[Non, chargeable, session]</td>\n",
       "      <td>[Delhi]</td>\n",
       "      <td>['shreej'] 29-32 ['Female'] ['No'] ['Unmarried...</td>\n",
       "    </tr>\n",
       "    <tr>\n",
       "      <th>2</th>\n",
       "      <td>2</td>\n",
       "      <td>[ms6744]</td>\n",
       "      <td>26-28</td>\n",
       "      <td>[Female]</td>\n",
       "      <td>[Yes]</td>\n",
       "      <td>[Unmarried]</td>\n",
       "      <td>[Mobile]</td>\n",
       "      <td>[Proceed, with, the, Interview]</td>\n",
       "      <td>[Able, to, speak, sentences, in, a, clear/cohe...</td>\n",
       "      <td>[Yes]</td>\n",
       "      <td>...</td>\n",
       "      <td>[B.E, /, B-Tech]</td>\n",
       "      <td>[Fresher]</td>\n",
       "      <td>[Premium, Select]</td>\n",
       "      <td>[Introduction, (Self, Intro,Company, Name)]</td>\n",
       "      <td>[Urgency, using, Time]</td>\n",
       "      <td>[Decision, Making:, Major, decision, of, child...</td>\n",
       "      <td>1</td>\n",
       "      <td>[Non, chargeable, session]</td>\n",
       "      <td>[Chennai]</td>\n",
       "      <td>['ms6744'] 26-28 ['Female'] ['Yes'] ['Unmarrie...</td>\n",
       "    </tr>\n",
       "    <tr>\n",
       "      <th>3</th>\n",
       "      <td>3</td>\n",
       "      <td>[aswalu]</td>\n",
       "      <td>18-22</td>\n",
       "      <td>[Male]</td>\n",
       "      <td>[No]</td>\n",
       "      <td>[Unmarried]</td>\n",
       "      <td>[Laptop]</td>\n",
       "      <td>[Proceed, with, the, Interview]</td>\n",
       "      <td>[Able, to, speak, sentences, in, a, clear/cohe...</td>\n",
       "      <td>[No]</td>\n",
       "      <td>...</td>\n",
       "      <td>[B.E, /, B-Tech]</td>\n",
       "      <td>[Fresher]</td>\n",
       "      <td>[Premium, Select]</td>\n",
       "      <td>[Introduction, (Self, Intro,Company, Name),, P...</td>\n",
       "      <td>[Urgency, using, Time,, Urgency, using, situat...</td>\n",
       "      <td>[None, of, the, above]</td>\n",
       "      <td>1</td>\n",
       "      <td>[Value, creation(Nothing, comes, for, free)]</td>\n",
       "      <td>[Delhi]</td>\n",
       "      <td>['aswalu'] 18-22 ['Male'] ['No'] ['Unmarried']...</td>\n",
       "    </tr>\n",
       "    <tr>\n",
       "      <th>4</th>\n",
       "      <td>4</td>\n",
       "      <td>[aniket]</td>\n",
       "      <td>18-22</td>\n",
       "      <td>[Male]</td>\n",
       "      <td>[No]</td>\n",
       "      <td>[Unmarried]</td>\n",
       "      <td>[Mobile]</td>\n",
       "      <td>[Proceed, with, the, Interview]</td>\n",
       "      <td>[Taking, gaps, while, speaking, due, to, lack,...</td>\n",
       "      <td>[No]</td>\n",
       "      <td>...</td>\n",
       "      <td>[BA/MA]</td>\n",
       "      <td>[Fresher]</td>\n",
       "      <td>[Borderline, Select]</td>\n",
       "      <td>[None, of, the, Above]</td>\n",
       "      <td>[Urgency, by, creating, counsellor, Hype]</td>\n",
       "      <td>[Anticipation, of, objection, from, child's, e...</td>\n",
       "      <td>0</td>\n",
       "      <td>[Value, creation(Nothing, comes, for, free)]</td>\n",
       "      <td>[Bangalore]</td>\n",
       "      <td>['aniket'] 18-22 ['Male'] ['No'] ['Unmarried']...</td>\n",
       "    </tr>\n",
       "  </tbody>\n",
       "</table>\n",
       "<p>5 rows × 21 columns</p>\n",
       "</div>"
      ],
      "text/plain": [
       "   id      Name    Age    Gender Currently Employed Marital status  \\\n",
       "0   0  [parida]  23-25  [Female]               [No]    [Unmarried]   \n",
       "1   1  [shreej]  29-32  [Female]               [No]    [Unmarried]   \n",
       "2   2  [ms6744]  26-28  [Female]              [Yes]    [Unmarried]   \n",
       "3   3  [aswalu]  18-22    [Male]               [No]    [Unmarried]   \n",
       "4   4  [aniket]  18-22    [Male]               [No]    [Unmarried]   \n",
       "\n",
       "  Mode of Interview              Pre Interview Check  \\\n",
       "0          [Mobile]  [Proceed, with, the, Interview]   \n",
       "1          [Mobile]  [Proceed, with, the, Interview]   \n",
       "2          [Mobile]  [Proceed, with, the, Interview]   \n",
       "3          [Laptop]  [Proceed, with, the, Interview]   \n",
       "4          [Mobile]  [Proceed, with, the, Interview]   \n",
       "\n",
       "            Fluency in English based on introduction  \\\n",
       "0  [Able, to, speak, sentences, in, a, clear/cohe...   \n",
       "1  [Able, to, speak, sentences, in, a, clear/cohe...   \n",
       "2  [Able, to, speak, sentences, in, a, clear/cohe...   \n",
       "3  [Able, to, speak, sentences, in, a, clear/cohe...   \n",
       "4  [Taking, gaps, while, speaking, due, to, lack,...   \n",
       "\n",
       "  Acquaintance and Referral  ...                     Education  \\\n",
       "0                      [No]  ...  [Masters, in, data, science]   \n",
       "1                      [No]  ...                [BSc, or, MSc]   \n",
       "2                     [Yes]  ...              [B.E, /, B-Tech]   \n",
       "3                      [No]  ...              [B.E, /, B-Tech]   \n",
       "4                      [No]  ...                       [BA/MA]   \n",
       "\n",
       "  Last Fixed CTC (lakhs)      Interview Verdict  \\\n",
       "0                [5-5.99]              [Reject]   \n",
       "1               [Fresher]              [Reject]   \n",
       "2               [Fresher]     [Premium, Select]   \n",
       "3               [Fresher]     [Premium, Select]   \n",
       "4               [Fresher]  [Borderline, Select]   \n",
       "\n",
       "  Call-pitch Elements used during the call Sales Scenario  \\\n",
       "0  [Purpose, of, Call, (Book, a, Counselling, Ses...        \n",
       "1  [Introduction, (Self, Intro,Company, Name),, P...        \n",
       "2        [Introduction, (Self, Intro,Company, Name)]        \n",
       "3  [Introduction, (Self, Intro,Company, Name),, P...        \n",
       "4                             [None, of, the, Above]        \n",
       "\n",
       "  But, my child's exam are going on now, so we will keep the counselling session after the exams get over  \\\n",
       "0                             [Urgency, using, Time]                                                        \n",
       "1                                [Asking, Questions]                                                        \n",
       "2                             [Urgency, using, Time]                                                        \n",
       "3  [Urgency, using, Time,, Urgency, using, situat...                                                        \n",
       "4          [Urgency, by, creating, counsellor, Hype]                                                        \n",
       "\n",
       "                     Let me discuss it with my child  \\\n",
       "0                             [None, of, the, above]   \n",
       "1                             [None, of, the, above]   \n",
       "2  [Decision, Making:, Major, decision, of, child...   \n",
       "3                             [None, of, the, above]   \n",
       "4  [Anticipation, of, objection, from, child's, e...   \n",
       "\n",
       "  Whether joined the company or not  \\\n",
       "0                                 0   \n",
       "1                                 0   \n",
       "2                                 1   \n",
       "3                                 1   \n",
       "4                                 0   \n",
       "\n",
       "   Sir being in education industry I know this is a marketing gimmick and at the end of the day you'll be selling the app.  \\\n",
       "0                             [None, of, the, above]                                                                         \n",
       "1                         [Non, chargeable, session]                                                                         \n",
       "2                         [Non, chargeable, session]                                                                         \n",
       "3       [Value, creation(Nothing, comes, for, free)]                                                                         \n",
       "4       [Value, creation(Nothing, comes, for, free)]                                                                         \n",
       "\n",
       "  Role Location to be given to the candidate  \\\n",
       "0                                [Bangalore]   \n",
       "1                                    [Delhi]   \n",
       "2                                  [Chennai]   \n",
       "3                                    [Delhi]   \n",
       "4                                [Bangalore]   \n",
       "\n",
       "                                                tags  \n",
       "0  ['parida'] 23-25 ['Female'] ['No'] ['Unmarried...  \n",
       "1  ['shreej'] 29-32 ['Female'] ['No'] ['Unmarried...  \n",
       "2  ['ms6744'] 26-28 ['Female'] ['Yes'] ['Unmarrie...  \n",
       "3  ['aswalu'] 18-22 ['Male'] ['No'] ['Unmarried']...  \n",
       "4  ['aniket'] 18-22 ['Male'] ['No'] ['Unmarried']...  \n",
       "\n",
       "[5 rows x 21 columns]"
      ]
     },
     "execution_count": 63,
     "metadata": {},
     "output_type": "execute_result"
    }
   ],
   "source": [
    "df.head()"
   ]
  },
  {
   "cell_type": "code",
   "execution_count": 64,
   "id": "974c6d29-d13d-4932-96d3-3fd74487b6e4",
   "metadata": {
    "scrolled": true
   },
   "outputs": [
    {
     "data": {
      "text/plain": [
       "\"['shreej'] 29-32 ['Female'] ['No'] ['Unmarried'] ['Mobile'] ['Proceed', 'with', 'the', 'Interview'] ['Able', 'to', 'speak', 'sentences', 'in', 'a', 'clear/coherent', 'way.', 'Smooth', 'talker', 'with', 'one', 'or', 'two', 'hiccups.'] ['No'] ['Lateral(2021', 'and', 'before', 'with', '(less', 'than', '6', 'months)', 'experience)'] ['BSc', 'or', 'MSc'] ['Fresher'] ['Reject'] ['Introduction', '(Self', 'Intro,Company', 'Name),', 'Purpose', 'of', 'Call', '(Book', 'a', 'Counselling', 'Session),', 'Need', 'Generation', '-', 'By', 'Asking', 'ques', 'like', 'student', 'class,', 'performance', 'etc..'] ['Asking', 'Questions'] ['None', 'of', 'the', 'above'] ['Non', 'chargeable', 'session'] ['Delhi']\""
      ]
     },
     "execution_count": 64,
     "metadata": {},
     "output_type": "execute_result"
    }
   ],
   "source": [
    "df.loc[1,'tags']"
   ]
  },
  {
   "cell_type": "code",
   "execution_count": 65,
   "id": "fb561fdb-ebdb-44a9-87a9-33072f6bb519",
   "metadata": {},
   "outputs": [],
   "source": [
    "df = df[['id','Name','tags','Whether joined the company or not']]"
   ]
  },
  {
   "cell_type": "code",
   "execution_count": 66,
   "id": "ea0337a7-9834-49c0-b6f8-209c3e5353da",
   "metadata": {},
   "outputs": [
    {
     "data": {
      "text/html": [
       "<div>\n",
       "<style scoped>\n",
       "    .dataframe tbody tr th:only-of-type {\n",
       "        vertical-align: middle;\n",
       "    }\n",
       "\n",
       "    .dataframe tbody tr th {\n",
       "        vertical-align: top;\n",
       "    }\n",
       "\n",
       "    .dataframe thead th {\n",
       "        text-align: right;\n",
       "    }\n",
       "</style>\n",
       "<table border=\"1\" class=\"dataframe\">\n",
       "  <thead>\n",
       "    <tr style=\"text-align: right;\">\n",
       "      <th></th>\n",
       "      <th>id</th>\n",
       "      <th>Name</th>\n",
       "      <th>tags</th>\n",
       "      <th>Whether joined the company or not</th>\n",
       "    </tr>\n",
       "  </thead>\n",
       "  <tbody>\n",
       "    <tr>\n",
       "      <th>0</th>\n",
       "      <td>0</td>\n",
       "      <td>[parida]</td>\n",
       "      <td>['parida'] 23-25 ['Female'] ['No'] ['Unmarried...</td>\n",
       "      <td>0</td>\n",
       "    </tr>\n",
       "    <tr>\n",
       "      <th>1</th>\n",
       "      <td>1</td>\n",
       "      <td>[shreej]</td>\n",
       "      <td>['shreej'] 29-32 ['Female'] ['No'] ['Unmarried...</td>\n",
       "      <td>0</td>\n",
       "    </tr>\n",
       "  </tbody>\n",
       "</table>\n",
       "</div>"
      ],
      "text/plain": [
       "   id      Name                                               tags  \\\n",
       "0   0  [parida]  ['parida'] 23-25 ['Female'] ['No'] ['Unmarried...   \n",
       "1   1  [shreej]  ['shreej'] 29-32 ['Female'] ['No'] ['Unmarried...   \n",
       "\n",
       "   Whether joined the company or not  \n",
       "0                                  0  \n",
       "1                                  0  "
      ]
     },
     "execution_count": 66,
     "metadata": {},
     "output_type": "execute_result"
    }
   ],
   "source": [
    "df.head(2)"
   ]
  },
  {
   "cell_type": "markdown",
   "id": "f2d0e095-7509-43da-af0a-272165b6b601",
   "metadata": {},
   "source": [
    "## Stemming\n",
    "**Note: Use Lemmatization for more accuracy**\n",
    "\n",
    "To normalize words and reduce them to their root forms, we will apply **stemming**. This helps in handling variations of words and improves text processing efficiency for machine learning models.  \n",
    "(e.g., \"running\" → \"run\")"
   ]
  },
  {
   "cell_type": "markdown",
   "id": "6b20f9da-27ae-45e1-a6ba-47c036db6959",
   "metadata": {},
   "source": [
    "**Currently using Lemmatization**"
   ]
  },
  {
   "cell_type": "code",
   "execution_count": 69,
   "id": "0c5c761e-1170-4afb-b5c1-07d33000cc1c",
   "metadata": {},
   "outputs": [],
   "source": [
    "lemmatizer = WordNetLemmatizer()"
   ]
  },
  {
   "cell_type": "code",
   "execution_count": 70,
   "id": "7856c516-ede0-4ce2-9411-744247a76c1e",
   "metadata": {},
   "outputs": [],
   "source": [
    "stop_words = set(stopwords.words('english'))"
   ]
  },
  {
   "cell_type": "code",
   "execution_count": 71,
   "id": "e24f21c9-fefc-4f67-a69a-2f822e1d3d25",
   "metadata": {},
   "outputs": [
    {
     "data": {
      "text/html": [
       "<div>\n",
       "<style scoped>\n",
       "    .dataframe tbody tr th:only-of-type {\n",
       "        vertical-align: middle;\n",
       "    }\n",
       "\n",
       "    .dataframe tbody tr th {\n",
       "        vertical-align: top;\n",
       "    }\n",
       "\n",
       "    .dataframe thead th {\n",
       "        text-align: right;\n",
       "    }\n",
       "</style>\n",
       "<table border=\"1\" class=\"dataframe\">\n",
       "  <thead>\n",
       "    <tr style=\"text-align: right;\">\n",
       "      <th></th>\n",
       "      <th>id</th>\n",
       "      <th>Name</th>\n",
       "      <th>tags</th>\n",
       "      <th>Whether joined the company or not</th>\n",
       "    </tr>\n",
       "  </thead>\n",
       "  <tbody>\n",
       "    <tr>\n",
       "      <th>0</th>\n",
       "      <td>0</td>\n",
       "      <td>[parida]</td>\n",
       "      <td>['parida'] 23-25 ['Female'] ['No'] ['Unmarried...</td>\n",
       "      <td>0</td>\n",
       "    </tr>\n",
       "    <tr>\n",
       "      <th>1</th>\n",
       "      <td>1</td>\n",
       "      <td>[shreej]</td>\n",
       "      <td>['shreej'] 29-32 ['Female'] ['No'] ['Unmarried...</td>\n",
       "      <td>0</td>\n",
       "    </tr>\n",
       "    <tr>\n",
       "      <th>2</th>\n",
       "      <td>2</td>\n",
       "      <td>[ms6744]</td>\n",
       "      <td>['ms6744'] 26-28 ['Female'] ['Yes'] ['Unmarrie...</td>\n",
       "      <td>1</td>\n",
       "    </tr>\n",
       "    <tr>\n",
       "      <th>3</th>\n",
       "      <td>3</td>\n",
       "      <td>[aswalu]</td>\n",
       "      <td>['aswalu'] 18-22 ['Male'] ['No'] ['Unmarried']...</td>\n",
       "      <td>1</td>\n",
       "    </tr>\n",
       "    <tr>\n",
       "      <th>4</th>\n",
       "      <td>4</td>\n",
       "      <td>[aniket]</td>\n",
       "      <td>['aniket'] 18-22 ['Male'] ['No'] ['Unmarried']...</td>\n",
       "      <td>0</td>\n",
       "    </tr>\n",
       "  </tbody>\n",
       "</table>\n",
       "</div>"
      ],
      "text/plain": [
       "   id      Name                                               tags  \\\n",
       "0   0  [parida]  ['parida'] 23-25 ['Female'] ['No'] ['Unmarried...   \n",
       "1   1  [shreej]  ['shreej'] 29-32 ['Female'] ['No'] ['Unmarried...   \n",
       "2   2  [ms6744]  ['ms6744'] 26-28 ['Female'] ['Yes'] ['Unmarrie...   \n",
       "3   3  [aswalu]  ['aswalu'] 18-22 ['Male'] ['No'] ['Unmarried']...   \n",
       "4   4  [aniket]  ['aniket'] 18-22 ['Male'] ['No'] ['Unmarried']...   \n",
       "\n",
       "   Whether joined the company or not  \n",
       "0                                  0  \n",
       "1                                  0  \n",
       "2                                  1  \n",
       "3                                  1  \n",
       "4                                  0  "
      ]
     },
     "execution_count": 71,
     "metadata": {},
     "output_type": "execute_result"
    }
   ],
   "source": [
    "df.head()"
   ]
  },
  {
   "cell_type": "code",
   "execution_count": 72,
   "id": "591a6bb7-e7a2-4bf4-920d-f1ca525da6b3",
   "metadata": {},
   "outputs": [],
   "source": [
    "def formatting(text):\n",
    "    if isinstance(text, list):  \n",
    "        text = \" \".join(text)\n",
    "    words = word_tokenize(text.lower())\n",
    "    filtered_words = [lemmatizer.lemmatize(word) for word in words if word not in stop_words]\n",
    "    return \" \".join(filtered_words)"
   ]
  },
  {
   "cell_type": "code",
   "execution_count": 73,
   "id": "7b25ef5f-2382-4ce3-8473-55880a10f4ca",
   "metadata": {},
   "outputs": [],
   "source": [
    "''' Applying Stopwords Removal and Lemmatization'''\n",
    "\n",
    "df['tags'] = df['tags'].apply(formatting)"
   ]
  },
  {
   "cell_type": "code",
   "execution_count": 74,
   "id": "c28792f4-1b62-4801-b099-ffbf93b4bbf6",
   "metadata": {},
   "outputs": [
    {
     "data": {
      "text/html": [
       "<div>\n",
       "<style scoped>\n",
       "    .dataframe tbody tr th:only-of-type {\n",
       "        vertical-align: middle;\n",
       "    }\n",
       "\n",
       "    .dataframe tbody tr th {\n",
       "        vertical-align: top;\n",
       "    }\n",
       "\n",
       "    .dataframe thead th {\n",
       "        text-align: right;\n",
       "    }\n",
       "</style>\n",
       "<table border=\"1\" class=\"dataframe\">\n",
       "  <thead>\n",
       "    <tr style=\"text-align: right;\">\n",
       "      <th></th>\n",
       "      <th>id</th>\n",
       "      <th>Name</th>\n",
       "      <th>tags</th>\n",
       "      <th>Whether joined the company or not</th>\n",
       "    </tr>\n",
       "  </thead>\n",
       "  <tbody>\n",
       "    <tr>\n",
       "      <th>0</th>\n",
       "      <td>0</td>\n",
       "      <td>[parida]</td>\n",
       "      <td>[ 'parida ' ] 23-25 [ 'female ' ] [ 'no ' ] [ ...</td>\n",
       "      <td>0</td>\n",
       "    </tr>\n",
       "    <tr>\n",
       "      <th>1</th>\n",
       "      <td>1</td>\n",
       "      <td>[shreej]</td>\n",
       "      <td>[ 'shreej ' ] 29-32 [ 'female ' ] [ 'no ' ] [ ...</td>\n",
       "      <td>0</td>\n",
       "    </tr>\n",
       "  </tbody>\n",
       "</table>\n",
       "</div>"
      ],
      "text/plain": [
       "   id      Name                                               tags  \\\n",
       "0   0  [parida]  [ 'parida ' ] 23-25 [ 'female ' ] [ 'no ' ] [ ...   \n",
       "1   1  [shreej]  [ 'shreej ' ] 29-32 [ 'female ' ] [ 'no ' ] [ ...   \n",
       "\n",
       "   Whether joined the company or not  \n",
       "0                                  0  \n",
       "1                                  0  "
      ]
     },
     "execution_count": 74,
     "metadata": {},
     "output_type": "execute_result"
    }
   ],
   "source": [
    "df.head(2)"
   ]
  },
  {
   "cell_type": "code",
   "execution_count": 75,
   "id": "711591d0-d8c5-4fb3-aa02-190afdec7a72",
   "metadata": {},
   "outputs": [
    {
     "data": {
      "text/plain": [
       "\"[ 'shreej ' ] 29-32 [ 'female ' ] [ 'no ' ] [ 'unmarried ' ] [ 'mobile ' ] [ 'proceed ' , 'with ' , 'the ' , 'interview ' ] [ 'able ' , 'to ' , 'speak ' , 'sentences ' , 'in ' , ' ' , 'clear/coherent ' , 'way . ' , 'smooth ' , 'talker ' , 'with ' , 'one ' , 'or ' , 'two ' , 'hiccups . ' ] [ 'no ' ] [ 'lateral ( 2021 ' , 'and ' , 'before ' , 'with ' , ' ( less ' , 'than ' , ' 6 ' , 'months ) ' , 'experience ) ' ] [ 'bsc ' , 'or ' , 'msc ' ] [ 'fresher ' ] [ 'reject ' ] [ 'introduction ' , ' ( self ' , 'intro , company ' , 'name ) , ' , 'purpose ' , 'of ' , 'call ' , ' ( book ' , ' ' , 'counselling ' , 'session ) , ' , 'need ' , 'generation ' , '- ' , 'by ' , 'asking ' , 'ques ' , 'like ' , 'student ' , 'class , ' , 'performance ' , 'etc .. ' ] [ 'asking ' , 'questions ' ] [ 'none ' , 'of ' , 'the ' , 'above ' ] [ 'non ' , 'chargeable ' , 'session ' ] [ 'delhi ' ]\""
      ]
     },
     "execution_count": 75,
     "metadata": {},
     "output_type": "execute_result"
    }
   ],
   "source": [
    "df.loc[1,'tags']"
   ]
  },
  {
   "cell_type": "code",
   "execution_count": 76,
   "id": "060979ad-0d56-43f5-8c9f-442ab92021dc",
   "metadata": {},
   "outputs": [],
   "source": [
    "def remove_duplicates(text):\n",
    "    words = text.split()\n",
    "    seen = set()\n",
    "    unique_words = []\n",
    "\n",
    "    for word in words:\n",
    "        if word not in seen:\n",
    "            seen.add(word)\n",
    "            unique_words.append(word)\n",
    "\n",
    "    return \" \".join(unique_words)        "
   ]
  },
  {
   "cell_type": "code",
   "execution_count": 77,
   "id": "84e703be-d8f9-4e8b-a259-eb8de9eacaa9",
   "metadata": {},
   "outputs": [],
   "source": [
    "df['tags'] = df['tags'].apply(remove_duplicates)"
   ]
  },
  {
   "cell_type": "code",
   "execution_count": 78,
   "id": "aea4eaf9-3ee9-4669-8b50-9b6627cb7e3a",
   "metadata": {},
   "outputs": [],
   "source": [
    "df['tags'] = df['tags'].str.replace('/', '', regex=False)"
   ]
  },
  {
   "cell_type": "code",
   "execution_count": 79,
   "id": "b47c620d-98d3-4e1d-8afd-e71c5fb4e851",
   "metadata": {},
   "outputs": [],
   "source": [
    "df['tags'] = df['tags'].str.replace('[','', regex=False)\n",
    "df['tags'] = df['tags'].str.replace(']','', regex=False)"
   ]
  },
  {
   "cell_type": "code",
   "execution_count": 80,
   "id": "895a811e-df84-42d1-bdca-22003ec4122f",
   "metadata": {},
   "outputs": [
    {
     "data": {
      "text/plain": [
       "\" 'shreej '  29-32 'female 'no 'unmarried 'mobile 'proceed , 'with 'the 'interview 'able 'to 'speak 'sentences 'in 'clearcoherent 'way . 'smooth 'talker 'one 'or 'two 'hiccups 'lateral ( 2021 'and 'before less 'than 6 'months ) 'experience 'bsc 'msc 'fresher 'reject 'introduction self 'intro company 'name 'purpose 'of 'call book 'counselling 'session 'need 'generation '- 'by 'asking 'ques 'like 'student 'class 'performance 'etc .. 'questions 'none 'above 'non 'chargeable 'delhi\""
      ]
     },
     "execution_count": 80,
     "metadata": {},
     "output_type": "execute_result"
    }
   ],
   "source": [
    "df.loc[1,'tags']"
   ]
  },
  {
   "cell_type": "code",
   "execution_count": 81,
   "id": "694edc15-7495-4b75-b60b-d0a8fd547a02",
   "metadata": {},
   "outputs": [],
   "source": [
    "df = df.join(numerical_df, how='inner')"
   ]
  },
  {
   "cell_type": "code",
   "execution_count": 82,
   "id": "f6d0fdb7-606a-40a1-999f-701a99aa4b5e",
   "metadata": {},
   "outputs": [
    {
     "data": {
      "text/plain": [
       "(483, 16)"
      ]
     },
     "execution_count": 82,
     "metadata": {},
     "output_type": "execute_result"
    }
   ],
   "source": [
    "df.shape"
   ]
  },
  {
   "cell_type": "code",
   "execution_count": 83,
   "id": "6f8c48de-5284-4444-8e25-c4e3069a3add",
   "metadata": {},
   "outputs": [
    {
     "data": {
      "text/html": [
       "<div>\n",
       "<style scoped>\n",
       "    .dataframe tbody tr th:only-of-type {\n",
       "        vertical-align: middle;\n",
       "    }\n",
       "\n",
       "    .dataframe tbody tr th {\n",
       "        vertical-align: top;\n",
       "    }\n",
       "\n",
       "    .dataframe thead th {\n",
       "        text-align: right;\n",
       "    }\n",
       "</style>\n",
       "<table border=\"1\" class=\"dataframe\">\n",
       "  <thead>\n",
       "    <tr style=\"text-align: right;\">\n",
       "      <th></th>\n",
       "      <th>id</th>\n",
       "      <th>Name</th>\n",
       "      <th>tags</th>\n",
       "      <th>Whether joined the company or not</th>\n",
       "      <th>pca0</th>\n",
       "      <th>pca1</th>\n",
       "      <th>pca2</th>\n",
       "      <th>pca3</th>\n",
       "      <th>pca4</th>\n",
       "      <th>pca5</th>\n",
       "      <th>pca6</th>\n",
       "      <th>pca7</th>\n",
       "      <th>pca8</th>\n",
       "      <th>pca9</th>\n",
       "      <th>pca10</th>\n",
       "      <th>pca11</th>\n",
       "    </tr>\n",
       "  </thead>\n",
       "  <tbody>\n",
       "    <tr>\n",
       "      <th>0</th>\n",
       "      <td>0</td>\n",
       "      <td>[parida]</td>\n",
       "      <td>'parida '  23-25 'female 'no 'unmarried 'mobi...</td>\n",
       "      <td>0</td>\n",
       "      <td>0.020663</td>\n",
       "      <td>-0.293859</td>\n",
       "      <td>-1.946299</td>\n",
       "      <td>-1.676387</td>\n",
       "      <td>-0.585343</td>\n",
       "      <td>-1.533828</td>\n",
       "      <td>-0.967480</td>\n",
       "      <td>0.340081</td>\n",
       "      <td>-0.172609</td>\n",
       "      <td>0.889351</td>\n",
       "      <td>-0.117318</td>\n",
       "      <td>0.792940</td>\n",
       "    </tr>\n",
       "    <tr>\n",
       "      <th>1</th>\n",
       "      <td>1</td>\n",
       "      <td>[shreej]</td>\n",
       "      <td>'shreej '  29-32 'female 'no 'unmarried 'mobi...</td>\n",
       "      <td>0</td>\n",
       "      <td>4.150855</td>\n",
       "      <td>-2.217594</td>\n",
       "      <td>-0.296497</td>\n",
       "      <td>1.332738</td>\n",
       "      <td>0.050729</td>\n",
       "      <td>-0.144196</td>\n",
       "      <td>0.005542</td>\n",
       "      <td>-0.007736</td>\n",
       "      <td>0.170302</td>\n",
       "      <td>-0.058781</td>\n",
       "      <td>0.077240</td>\n",
       "      <td>-0.060539</td>\n",
       "    </tr>\n",
       "    <tr>\n",
       "      <th>2</th>\n",
       "      <td>2</td>\n",
       "      <td>[ms6744]</td>\n",
       "      <td>'ms6744 '  26-28 'female 'yes 'unmarried 'mob...</td>\n",
       "      <td>1</td>\n",
       "      <td>2.156897</td>\n",
       "      <td>-1.637168</td>\n",
       "      <td>-0.299337</td>\n",
       "      <td>-0.611816</td>\n",
       "      <td>0.356901</td>\n",
       "      <td>0.921000</td>\n",
       "      <td>1.776104</td>\n",
       "      <td>1.152814</td>\n",
       "      <td>0.228992</td>\n",
       "      <td>0.825269</td>\n",
       "      <td>-0.101449</td>\n",
       "      <td>0.348820</td>\n",
       "    </tr>\n",
       "    <tr>\n",
       "      <th>3</th>\n",
       "      <td>3</td>\n",
       "      <td>[aswalu]</td>\n",
       "      <td>'aswalu '  18-22 'male 'no 'unmarried 'laptop...</td>\n",
       "      <td>1</td>\n",
       "      <td>4.150855</td>\n",
       "      <td>-2.217594</td>\n",
       "      <td>-0.296497</td>\n",
       "      <td>1.332738</td>\n",
       "      <td>0.050729</td>\n",
       "      <td>-0.144196</td>\n",
       "      <td>0.005542</td>\n",
       "      <td>-0.007736</td>\n",
       "      <td>0.170302</td>\n",
       "      <td>-0.058781</td>\n",
       "      <td>0.077240</td>\n",
       "      <td>-0.060539</td>\n",
       "    </tr>\n",
       "    <tr>\n",
       "      <th>4</th>\n",
       "      <td>4</td>\n",
       "      <td>[aniket]</td>\n",
       "      <td>'aniket '  18-22 'male 'no 'unmarried 'mobile...</td>\n",
       "      <td>0</td>\n",
       "      <td>-0.251593</td>\n",
       "      <td>-1.269990</td>\n",
       "      <td>1.988549</td>\n",
       "      <td>-0.937286</td>\n",
       "      <td>-1.926245</td>\n",
       "      <td>-0.368842</td>\n",
       "      <td>0.537461</td>\n",
       "      <td>1.926359</td>\n",
       "      <td>-0.560532</td>\n",
       "      <td>1.012323</td>\n",
       "      <td>0.066464</td>\n",
       "      <td>0.511079</td>\n",
       "    </tr>\n",
       "  </tbody>\n",
       "</table>\n",
       "</div>"
      ],
      "text/plain": [
       "   id      Name                                               tags  \\\n",
       "0   0  [parida]   'parida '  23-25 'female 'no 'unmarried 'mobi...   \n",
       "1   1  [shreej]   'shreej '  29-32 'female 'no 'unmarried 'mobi...   \n",
       "2   2  [ms6744]   'ms6744 '  26-28 'female 'yes 'unmarried 'mob...   \n",
       "3   3  [aswalu]   'aswalu '  18-22 'male 'no 'unmarried 'laptop...   \n",
       "4   4  [aniket]   'aniket '  18-22 'male 'no 'unmarried 'mobile...   \n",
       "\n",
       "   Whether joined the company or not      pca0      pca1      pca2      pca3  \\\n",
       "0                                  0  0.020663 -0.293859 -1.946299 -1.676387   \n",
       "1                                  0  4.150855 -2.217594 -0.296497  1.332738   \n",
       "2                                  1  2.156897 -1.637168 -0.299337 -0.611816   \n",
       "3                                  1  4.150855 -2.217594 -0.296497  1.332738   \n",
       "4                                  0 -0.251593 -1.269990  1.988549 -0.937286   \n",
       "\n",
       "       pca4      pca5      pca6      pca7      pca8      pca9     pca10  \\\n",
       "0 -0.585343 -1.533828 -0.967480  0.340081 -0.172609  0.889351 -0.117318   \n",
       "1  0.050729 -0.144196  0.005542 -0.007736  0.170302 -0.058781  0.077240   \n",
       "2  0.356901  0.921000  1.776104  1.152814  0.228992  0.825269 -0.101449   \n",
       "3  0.050729 -0.144196  0.005542 -0.007736  0.170302 -0.058781  0.077240   \n",
       "4 -1.926245 -0.368842  0.537461  1.926359 -0.560532  1.012323  0.066464   \n",
       "\n",
       "      pca11  \n",
       "0  0.792940  \n",
       "1 -0.060539  \n",
       "2  0.348820  \n",
       "3 -0.060539  \n",
       "4  0.511079  "
      ]
     },
     "execution_count": 83,
     "metadata": {},
     "output_type": "execute_result"
    }
   ],
   "source": [
    "df.head(5)"
   ]
  },
  {
   "cell_type": "code",
   "execution_count": 84,
   "id": "258b360d-4f40-440f-b999-93fec4aa3e98",
   "metadata": {},
   "outputs": [
    {
     "data": {
      "text/plain": [
       "\" 'shreej '  29-32 'female 'no 'unmarried 'mobile 'proceed , 'with 'the 'interview 'able 'to 'speak 'sentences 'in 'clearcoherent 'way . 'smooth 'talker 'one 'or 'two 'hiccups 'lateral ( 2021 'and 'before less 'than 6 'months ) 'experience 'bsc 'msc 'fresher 'reject 'introduction self 'intro company 'name 'purpose 'of 'call book 'counselling 'session 'need 'generation '- 'by 'asking 'ques 'like 'student 'class 'performance 'etc .. 'questions 'none 'above 'non 'chargeable 'delhi\""
      ]
     },
     "execution_count": 84,
     "metadata": {},
     "output_type": "execute_result"
    }
   ],
   "source": [
    "df.loc[1,'tags']"
   ]
  },
  {
   "cell_type": "markdown",
   "id": "f2eebe1c-ffa0-4409-afc4-6f96bbf5df09",
   "metadata": {},
   "source": [
    "## Word Embeddings\n",
    "**Note: Use Contextual Embeddings for More Accuracy**\n",
    "\n",
    "To represent words in a numerical format while preserving their meaning and relationships, we will apply **word embeddings**. This helps in capturing semantic similarities and improving machine learning model performance.\n",
    "(e.g., \"king\" → similar to \"queen\" but different from \"apple\")."
   ]
  },
  {
   "cell_type": "code",
   "execution_count": 86,
   "id": "be40f510-5100-4c8e-bfaa-c320130fd6f2",
   "metadata": {},
   "outputs": [],
   "source": [
    "sentences = [tag.split() for tag in df['tags']]"
   ]
  },
  {
   "cell_type": "code",
   "execution_count": 87,
   "id": "ea10d64e-f371-463f-a2f0-8a1861026235",
   "metadata": {},
   "outputs": [],
   "source": [
    "# # Train Word2Vec model\n",
    "w2v_model = Word2Vec(sentences, vector_size=16, window=5, min_count=1, workers=4)"
   ]
  },
  {
   "cell_type": "code",
   "execution_count": 88,
   "id": "de4b25bc-d401-489e-96df-e23f1a1469f0",
   "metadata": {},
   "outputs": [],
   "source": [
    "# Function to convert text into an average word embedding\n",
    "def text_to_embedding(text):\n",
    "    words = text.split()\n",
    "    embeddings = [w2v_model.wv[word] for word in words if word in w2v_model.wv]\n",
    "    return np.mean(embeddings, axis=0) if embeddings else np.zeros(16)"
   ]
  },
  {
   "cell_type": "code",
   "execution_count": 89,
   "id": "c3a7b73c-956e-43fc-8d77-ad26bd30d8a3",
   "metadata": {},
   "outputs": [],
   "source": [
    "text_embeddings = np.array([text_to_embedding(text) for text in df['tags']])\n",
    "text_embeddings_df = pd.DataFrame(text_embeddings, columns=[f'emb_{i}' for i in range(16)])"
   ]
  },
  {
   "cell_type": "code",
   "execution_count": 90,
   "id": "d0b9084e-e73d-48ae-9d76-9049f4279b33",
   "metadata": {},
   "outputs": [],
   "source": [
    "experimental_df = df.copy()\n",
    "experimental_df.drop('Name', axis=1, inplace=True)"
   ]
  },
  {
   "cell_type": "code",
   "execution_count": 91,
   "id": "ada06816-56e3-4c97-b3d6-06fb8eb5945b",
   "metadata": {},
   "outputs": [],
   "source": [
    "# Ensure target is binary\n",
    "experimental_df['Whether joined the company or not'] = (experimental_df['Whether joined the company or not'] >= 0.5).astype(int)"
   ]
  },
  {
   "cell_type": "code",
   "execution_count": 92,
   "id": "1b773671-8b5a-43cf-aece-b8ab9474629c",
   "metadata": {},
   "outputs": [],
   "source": [
    "experimental_df = experimental_df.join(text_embeddings_df, how='inner')"
   ]
  },
  {
   "cell_type": "code",
   "execution_count": 93,
   "id": "bf81f95b-6e82-4c1d-abf2-7a6af7950776",
   "metadata": {},
   "outputs": [
    {
     "data": {
      "text/html": [
       "<div>\n",
       "<style scoped>\n",
       "    .dataframe tbody tr th:only-of-type {\n",
       "        vertical-align: middle;\n",
       "    }\n",
       "\n",
       "    .dataframe tbody tr th {\n",
       "        vertical-align: top;\n",
       "    }\n",
       "\n",
       "    .dataframe thead th {\n",
       "        text-align: right;\n",
       "    }\n",
       "</style>\n",
       "<table border=\"1\" class=\"dataframe\">\n",
       "  <thead>\n",
       "    <tr style=\"text-align: right;\">\n",
       "      <th></th>\n",
       "      <th>id</th>\n",
       "      <th>tags</th>\n",
       "      <th>Whether joined the company or not</th>\n",
       "      <th>pca0</th>\n",
       "      <th>pca1</th>\n",
       "      <th>pca2</th>\n",
       "      <th>pca3</th>\n",
       "      <th>pca4</th>\n",
       "      <th>pca5</th>\n",
       "      <th>pca6</th>\n",
       "      <th>...</th>\n",
       "      <th>emb_6</th>\n",
       "      <th>emb_7</th>\n",
       "      <th>emb_8</th>\n",
       "      <th>emb_9</th>\n",
       "      <th>emb_10</th>\n",
       "      <th>emb_11</th>\n",
       "      <th>emb_12</th>\n",
       "      <th>emb_13</th>\n",
       "      <th>emb_14</th>\n",
       "      <th>emb_15</th>\n",
       "    </tr>\n",
       "  </thead>\n",
       "  <tbody>\n",
       "    <tr>\n",
       "      <th>0</th>\n",
       "      <td>0</td>\n",
       "      <td>'parida '  23-25 'female 'no 'unmarried 'mobi...</td>\n",
       "      <td>0</td>\n",
       "      <td>0.020663</td>\n",
       "      <td>-0.293859</td>\n",
       "      <td>-1.946299</td>\n",
       "      <td>-1.676387</td>\n",
       "      <td>-0.585343</td>\n",
       "      <td>-1.533828</td>\n",
       "      <td>-0.967480</td>\n",
       "      <td>...</td>\n",
       "      <td>1.054403</td>\n",
       "      <td>0.197388</td>\n",
       "      <td>-0.242344</td>\n",
       "      <td>0.209365</td>\n",
       "      <td>-0.058232</td>\n",
       "      <td>-0.671617</td>\n",
       "      <td>0.613388</td>\n",
       "      <td>-0.616171</td>\n",
       "      <td>-0.801263</td>\n",
       "      <td>-0.345266</td>\n",
       "    </tr>\n",
       "    <tr>\n",
       "      <th>1</th>\n",
       "      <td>1</td>\n",
       "      <td>'shreej '  29-32 'female 'no 'unmarried 'mobi...</td>\n",
       "      <td>0</td>\n",
       "      <td>4.150855</td>\n",
       "      <td>-2.217594</td>\n",
       "      <td>-0.296497</td>\n",
       "      <td>1.332738</td>\n",
       "      <td>0.050729</td>\n",
       "      <td>-0.144196</td>\n",
       "      <td>0.005542</td>\n",
       "      <td>...</td>\n",
       "      <td>1.620842</td>\n",
       "      <td>0.341098</td>\n",
       "      <td>-0.128752</td>\n",
       "      <td>0.260103</td>\n",
       "      <td>0.040245</td>\n",
       "      <td>-0.884566</td>\n",
       "      <td>0.361737</td>\n",
       "      <td>-0.714367</td>\n",
       "      <td>-0.858239</td>\n",
       "      <td>-0.289355</td>\n",
       "    </tr>\n",
       "  </tbody>\n",
       "</table>\n",
       "<p>2 rows × 31 columns</p>\n",
       "</div>"
      ],
      "text/plain": [
       "   id                                               tags  \\\n",
       "0   0   'parida '  23-25 'female 'no 'unmarried 'mobi...   \n",
       "1   1   'shreej '  29-32 'female 'no 'unmarried 'mobi...   \n",
       "\n",
       "   Whether joined the company or not      pca0      pca1      pca2      pca3  \\\n",
       "0                                  0  0.020663 -0.293859 -1.946299 -1.676387   \n",
       "1                                  0  4.150855 -2.217594 -0.296497  1.332738   \n",
       "\n",
       "       pca4      pca5      pca6  ...     emb_6     emb_7     emb_8     emb_9  \\\n",
       "0 -0.585343 -1.533828 -0.967480  ...  1.054403  0.197388 -0.242344  0.209365   \n",
       "1  0.050729 -0.144196  0.005542  ...  1.620842  0.341098 -0.128752  0.260103   \n",
       "\n",
       "     emb_10    emb_11    emb_12    emb_13    emb_14    emb_15  \n",
       "0 -0.058232 -0.671617  0.613388 -0.616171 -0.801263 -0.345266  \n",
       "1  0.040245 -0.884566  0.361737 -0.714367 -0.858239 -0.289355  \n",
       "\n",
       "[2 rows x 31 columns]"
      ]
     },
     "execution_count": 93,
     "metadata": {},
     "output_type": "execute_result"
    }
   ],
   "source": [
    "experimental_df.head(2)"
   ]
  },
  {
   "cell_type": "code",
   "execution_count": 94,
   "id": "27d9ff90-9dfd-4852-9d3a-02ebff0c10f7",
   "metadata": {},
   "outputs": [
    {
     "data": {
      "text/plain": [
       "Index(['id', 'tags', 'Whether joined the company or not', 'pca0', 'pca1',\n",
       "       'pca2', 'pca3', 'pca4', 'pca5', 'pca6', 'pca7', 'pca8', 'pca9', 'pca10',\n",
       "       'pca11', 'emb_0', 'emb_1', 'emb_2', 'emb_3', 'emb_4', 'emb_5', 'emb_6',\n",
       "       'emb_7', 'emb_8', 'emb_9', 'emb_10', 'emb_11', 'emb_12', 'emb_13',\n",
       "       'emb_14', 'emb_15'],\n",
       "      dtype='object')"
      ]
     },
     "execution_count": 94,
     "metadata": {},
     "output_type": "execute_result"
    }
   ],
   "source": [
    "experimental_df.columns"
   ]
  },
  {
   "cell_type": "code",
   "execution_count": 95,
   "id": "d435aa51-d5a9-4450-ae10-d377005e0022",
   "metadata": {},
   "outputs": [
    {
     "data": {
      "text/plain": [
       "(439, 31)"
      ]
     },
     "execution_count": 95,
     "metadata": {},
     "output_type": "execute_result"
    }
   ],
   "source": [
    "experimental_df.shape"
   ]
  },
  {
   "cell_type": "code",
   "execution_count": 96,
   "id": "61092ac7-69fe-409f-9d03-25ff63086d65",
   "metadata": {},
   "outputs": [],
   "source": [
    "''' Removing Tags after Word Embedding '''\n",
    "experimental_df.drop('tags', axis=1, inplace=True)"
   ]
  },
  {
   "cell_type": "code",
   "execution_count": 97,
   "id": "cdb2d3a1-77b4-4f93-a761-d29f0a86bd66",
   "metadata": {},
   "outputs": [
    {
     "data": {
      "text/plain": [
       "Index(['id', 'Whether joined the company or not', 'pca0', 'pca1', 'pca2',\n",
       "       'pca3', 'pca4', 'pca5', 'pca6', 'pca7', 'pca8', 'pca9', 'pca10',\n",
       "       'pca11', 'emb_0', 'emb_1', 'emb_2', 'emb_3', 'emb_4', 'emb_5', 'emb_6',\n",
       "       'emb_7', 'emb_8', 'emb_9', 'emb_10', 'emb_11', 'emb_12', 'emb_13',\n",
       "       'emb_14', 'emb_15'],\n",
       "      dtype='object')"
      ]
     },
     "execution_count": 97,
     "metadata": {},
     "output_type": "execute_result"
    }
   ],
   "source": [
    "experimental_df.columns"
   ]
  },
  {
   "cell_type": "code",
   "execution_count": 98,
   "id": "a7b0ea54-fe72-4f0f-be8f-8b97eeb8d526",
   "metadata": {},
   "outputs": [],
   "source": [
    "y = experimental_df['Whether joined the company or not']\n",
    "X = experimental_df\n",
    "X.drop('Whether joined the company or not', axis=1, inplace=True)"
   ]
  },
  {
   "cell_type": "markdown",
   "id": "fc89401f-fab9-420a-8390-9a04566bd378",
   "metadata": {},
   "source": [
    "## Data Splitting"
   ]
  },
  {
   "cell_type": "code",
   "execution_count": 100,
   "id": "51b72d4a-ca7a-4b45-84e8-402dd9f65238",
   "metadata": {},
   "outputs": [],
   "source": [
    "X_train, X_test, y_train, y_test = train_test_split(X, y, test_size=0.2, random_state=42)"
   ]
  },
  {
   "cell_type": "code",
   "execution_count": 101,
   "id": "59039393-3e20-480a-836b-379106d0b59d",
   "metadata": {},
   "outputs": [
    {
     "name": "stdout",
     "output_type": "stream",
     "text": [
      "Length of X_train: 351\n",
      "Length of X_test: 88\n",
      "Length of y_train: 351\n",
      "Length of y_test: 88\n"
     ]
    }
   ],
   "source": [
    "print(f'Length of X_train: {len(X_train)}')\n",
    "print(f'Length of X_test: {len(X_test)}')\n",
    "print(f'Length of y_train: {len(y_train)}')\n",
    "print(f'Length of y_test: {len(y_test)}')"
   ]
  },
  {
   "cell_type": "code",
   "execution_count": 102,
   "id": "1384786e-8710-40e2-8199-f8b8bd1f5072",
   "metadata": {},
   "outputs": [
    {
     "data": {
      "text/plain": [
       "(pandas.core.frame.DataFrame, pandas.core.series.Series)"
      ]
     },
     "execution_count": 102,
     "metadata": {},
     "output_type": "execute_result"
    }
   ],
   "source": [
    "type(X_train), type(y_train)"
   ]
  },
  {
   "cell_type": "markdown",
   "id": "bac17c8b-5ba9-41bf-bb80-833eaf17884a",
   "metadata": {},
   "source": [
    "## Dataset"
   ]
  },
  {
   "cell_type": "code",
   "execution_count": 104,
   "id": "61c967a4-39d3-4af1-9c70-498adb290d42",
   "metadata": {},
   "outputs": [],
   "source": [
    "class CandidateDataset(Dataset):\n",
    "    def __init__(self, features, labels):\n",
    "        self.features = torch.tensor(features.values, dtype=torch.float32)\n",
    "        self.labels = torch.tensor(labels.values, dtype=torch.float32)\n",
    "\n",
    "    def __len__(self):\n",
    "        return len(self.labels)\n",
    "\n",
    "    def __getitem__(self, idx):\n",
    "        return self.features[idx], self.labels[idx]"
   ]
  },
  {
   "cell_type": "code",
   "execution_count": 105,
   "id": "80e7b68c-9ebe-46a7-b641-59f59f4e61a0",
   "metadata": {},
   "outputs": [],
   "source": [
    "train_data = CandidateDataset(X_train, y_train)\n",
    "test_data = CandidateDataset(X_test, y_test)"
   ]
  },
  {
   "cell_type": "code",
   "execution_count": 106,
   "id": "3ce91046-4b26-4d37-b671-c5e52d067603",
   "metadata": {},
   "outputs": [
    {
     "data": {
      "text/plain": [
       "29"
      ]
     },
     "execution_count": 106,
     "metadata": {},
     "output_type": "execute_result"
    }
   ],
   "source": [
    "X_train.shape[1]"
   ]
  },
  {
   "cell_type": "markdown",
   "id": "a53c765b-e691-4abe-ade4-c2f288c79fcd",
   "metadata": {},
   "source": [
    "## DataLoader"
   ]
  },
  {
   "cell_type": "code",
   "execution_count": 108,
   "id": "b4059329-7961-47a7-8f4e-6d52884427b9",
   "metadata": {},
   "outputs": [],
   "source": [
    "BATCH_SIZE = 16"
   ]
  },
  {
   "cell_type": "code",
   "execution_count": 109,
   "id": "0c76025f-28b2-4be7-958d-58147eda2ffa",
   "metadata": {},
   "outputs": [],
   "source": [
    "train_dataloader = DataLoader(train_data, batch_size=BATCH_SIZE, shuffle=True)\n",
    "test_dataloader = DataLoader(test_data, batch_size=BATCH_SIZE, shuffle=True)"
   ]
  },
  {
   "cell_type": "code",
   "execution_count": 110,
   "id": "da60c9f3-fff2-4e8e-adee-e7f6cd9b44c9",
   "metadata": {},
   "outputs": [
    {
     "data": {
      "text/plain": [
       "(351, 88)"
      ]
     },
     "execution_count": 110,
     "metadata": {},
     "output_type": "execute_result"
    }
   ],
   "source": [
    "len(train_data), len(test_data)"
   ]
  },
  {
   "cell_type": "code",
   "execution_count": 111,
   "id": "cc2e9d58-a066-42b2-a6c9-e012aab7129e",
   "metadata": {},
   "outputs": [
    {
     "data": {
      "text/plain": [
       "(22, 6)"
      ]
     },
     "execution_count": 111,
     "metadata": {},
     "output_type": "execute_result"
    }
   ],
   "source": [
    "len(train_dataloader), len(test_dataloader)"
   ]
  },
  {
   "cell_type": "markdown",
   "id": "80926410-6958-43e4-b165-0b6734d11169",
   "metadata": {},
   "source": [
    "## Define a Model"
   ]
  },
  {
   "cell_type": "code",
   "execution_count": 113,
   "id": "2d2b8b1b-4886-4f63-933c-67c187ee603d",
   "metadata": {},
   "outputs": [],
   "source": [
    "class HybridRecommender(nn.Module):\n",
    "    def __init__(self, input_size):\n",
    "        super().__init__()\n",
    "        self.network = nn.Sequential(\n",
    "            nn.Linear(input_size, 256),\n",
    "            nn.BatchNorm1d(256),\n",
    "            nn.LeakyReLU(),\n",
    "            nn.Dropout(0.3),\n",
    "            \n",
    "            nn.Linear(256, 128),\n",
    "            nn.BatchNorm1d(128),\n",
    "            nn.LeakyReLU(),\n",
    "            nn.Dropout(0.3),\n",
    "\n",
    "            nn.Linear(128, 64),\n",
    "            nn.BatchNorm1d(64),\n",
    "            nn.LeakyReLU(),\n",
    "            nn.Dropout(0.3),\n",
    "\n",
    "            nn.Linear(64, 32),\n",
    "            nn.LeakyReLU(),\n",
    "            \n",
    "            nn.Linear(32, 1),\n",
    "            nn.Sigmoid()\n",
    "        )\n",
    "\n",
    "    def forward(self, x):\n",
    "        return self.network(x)"
   ]
  },
  {
   "cell_type": "code",
   "execution_count": 114,
   "id": "de397a0f-379d-40b7-8a41-f363dd686da1",
   "metadata": {},
   "outputs": [
    {
     "data": {
      "text/plain": [
       "HybridRecommender(\n",
       "  (network): Sequential(\n",
       "    (0): Linear(in_features=29, out_features=256, bias=True)\n",
       "    (1): BatchNorm1d(256, eps=1e-05, momentum=0.1, affine=True, track_running_stats=True)\n",
       "    (2): LeakyReLU(negative_slope=0.01)\n",
       "    (3): Dropout(p=0.3, inplace=False)\n",
       "    (4): Linear(in_features=256, out_features=128, bias=True)\n",
       "    (5): BatchNorm1d(128, eps=1e-05, momentum=0.1, affine=True, track_running_stats=True)\n",
       "    (6): LeakyReLU(negative_slope=0.01)\n",
       "    (7): Dropout(p=0.3, inplace=False)\n",
       "    (8): Linear(in_features=128, out_features=64, bias=True)\n",
       "    (9): BatchNorm1d(64, eps=1e-05, momentum=0.1, affine=True, track_running_stats=True)\n",
       "    (10): LeakyReLU(negative_slope=0.01)\n",
       "    (11): Dropout(p=0.3, inplace=False)\n",
       "    (12): Linear(in_features=64, out_features=32, bias=True)\n",
       "    (13): LeakyReLU(negative_slope=0.01)\n",
       "    (14): Linear(in_features=32, out_features=1, bias=True)\n",
       "    (15): Sigmoid()\n",
       "  )\n",
       ")"
      ]
     },
     "execution_count": 114,
     "metadata": {},
     "output_type": "execute_result"
    }
   ],
   "source": [
    "''' Initializing the model '''\n",
    "input_size = X_train.shape[1]\n",
    "model_0 = HybridRecommender(input_size)\n",
    "model_0.to(device)"
   ]
  },
  {
   "cell_type": "code",
   "execution_count": 115,
   "id": "004061f9-d90d-482e-ad40-760f83192b56",
   "metadata": {},
   "outputs": [],
   "source": [
    "''' Important Parameters '''\n",
    "learning_rate = 0.001\n",
    "epochs = 10"
   ]
  },
  {
   "cell_type": "code",
   "execution_count": 116,
   "id": "8f54e638-9e2f-43f3-96c7-f83d70efc22f",
   "metadata": {},
   "outputs": [],
   "source": [
    "''' Loss Function and Optimizer '''\n",
    "loss_function = nn.BCELoss()\n",
    "optimizer = torch.optim.Adam(model_0.parameters(), lr=learning_rate)"
   ]
  },
  {
   "cell_type": "markdown",
   "id": "74a2fb4f-2236-4a63-91e5-419cabbe1bb8",
   "metadata": {},
   "source": [
    "## Training Loop"
   ]
  },
  {
   "cell_type": "code",
   "execution_count": 118,
   "id": "752aeb4f-ac0a-4dda-913a-8a3e7ecd817a",
   "metadata": {},
   "outputs": [],
   "source": [
    "def train_step(model:torch.nn.Module,\n",
    "              dataloader:torch.utils.data.DataLoader,\n",
    "              loss_function:torch.nn.Module,\n",
    "              optimizer:torch.optim.Optimizer,\n",
    "              accuracy,\n",
    "              device:torch.device):\n",
    "\n",
    "    train_loss, train_acc = 0,0\n",
    "    model.train()\n",
    "\n",
    "    for features, labels in dataloader:\n",
    "        X, y = features.to(device), labels.to(device)\n",
    "        # Forward Pass\n",
    "        # y_pred = model(X)\n",
    "        y_logits = model(X).squeeze()\n",
    "        y_pred = torch.round(torch.sigmoid(y_logits))\n",
    "\n",
    "        # Calculate Loss and Accuracy per batch\n",
    "        # loss = loss_function(y_pred, y)\n",
    "        loss = loss_function(y_logits, y)\n",
    "        train_loss += loss.item()\n",
    "        train_acc += accuracy(y, y_pred).item()*100\n",
    "\n",
    "        # Set gradients to zero\n",
    "        optimizer.zero_grad()\n",
    "\n",
    "        # Back Propogation\n",
    "        loss.backward()\n",
    "\n",
    "        # Update the Parameters\n",
    "        optimizer.step()\n",
    "\n",
    "    train_loss /= len(dataloader)\n",
    "    train_acc /= len(dataloader)\n",
    "\n",
    "    return train_loss, train_acc"
   ]
  },
  {
   "cell_type": "markdown",
   "id": "186bd65b-2056-43bd-99e6-9c19cdd09d84",
   "metadata": {},
   "source": [
    "## Testing Loop"
   ]
  },
  {
   "cell_type": "code",
   "execution_count": 120,
   "id": "bc030685-6d40-4e22-8bba-2eff04bad43b",
   "metadata": {},
   "outputs": [],
   "source": [
    "def test_step(model:torch.nn.Module,\n",
    "             dataloader:torch.utils.data.DataLoader,\n",
    "             loss_function:torch.nn.Module,\n",
    "             accuracy,\n",
    "             device:torch.device):\n",
    "\n",
    "    test_loss, test_acc = 0,0\n",
    "\n",
    "    model.eval()\n",
    "    with torch.inference_mode():\n",
    "        for features, labels in dataloader:\n",
    "            X, y = features.to(device), labels.to(device)\n",
    "            # Forward Pass\n",
    "            # test_pred = model(X)\n",
    "            test_logits = model(X).squeeze()\n",
    "            test_pred = torch.round(torch.sigmoid(test_logits))\n",
    "            \n",
    "            # Calculate Loss and Accuracy per batch\n",
    "            loss = loss_function(test_logits, y)\n",
    "            test_loss += loss.item()\n",
    "            test_acc += accuracy(y, test_pred).item()*100\n",
    "\n",
    "        test_loss /= len(dataloader)\n",
    "        test_acc /= len(dataloader)\n",
    "\n",
    "        return test_loss, test_acc"
   ]
  },
  {
   "cell_type": "markdown",
   "id": "adfab6e4-57e3-47b2-b7b8-5986a95c9891",
   "metadata": {},
   "source": [
    "## Combining Training and Testing Loop into evaluate()"
   ]
  },
  {
   "cell_type": "code",
   "execution_count": 122,
   "id": "51c15251-4d02-4eb7-8fd0-c084de7d885e",
   "metadata": {},
   "outputs": [],
   "source": [
    "def evaluate(model:torch.nn.Module,\n",
    "             train_dataloader:torch.utils.data.DataLoader,\n",
    "             test_dataloader:torch.utils.data.DataLoader,\n",
    "             loss_function:torch.nn.Module,\n",
    "             optimizer:torch.optim.Optimizer,\n",
    "             accuracy,\n",
    "             device:torch.device,\n",
    "             epochs:int = 5):\n",
    "\n",
    "    model.to(device)\n",
    "    # Create empty result dictionary\n",
    "    results = {'train_loss':[],\n",
    "              'train_acc':[],\n",
    "              'test_loss':[],\n",
    "              'test_acc':[]}\n",
    "\n",
    "    # Loop through training and testing steps for the number of epochs\n",
    "    for epoch in range(epochs):\n",
    "        train_loss, train_acc = train_step(model=model,\n",
    "                                          dataloader=train_dataloader,\n",
    "                                          loss_function=loss_function,\n",
    "                                          optimizer=optimizer,\n",
    "                                          accuracy=accuracy,\n",
    "                                          device=device)\n",
    "        \n",
    "        test_loss, test_acc = test_step(model=model,\n",
    "                                          dataloader=test_dataloader,\n",
    "                                          loss_function=loss_function,\n",
    "                                          accuracy=accuracy,\n",
    "                                          device=device)\n",
    "\n",
    "        print(f'Training Loss: {train_loss:.5f} | Training Accuracy: {train_acc:.2f}% | Testing Loss: {test_loss:.5f} | Testing Accuracy: {test_acc:.2f}%')      \n",
    "\n",
    "        results['train_loss'].append(train_loss)\n",
    "        results['train_acc'].append(train_acc)\n",
    "        results['test_loss'].append(test_loss)\n",
    "        results['test_acc'].append(test_acc)\n",
    "\n",
    "    return results"
   ]
  },
  {
   "cell_type": "code",
   "execution_count": 123,
   "id": "b7ee2bfb-ddf1-45e0-abd6-f6318a972d22",
   "metadata": {},
   "outputs": [
    {
     "name": "stdout",
     "output_type": "stream",
     "text": [
      "Training Loss: 0.69847 | Training Accuracy: 42.80% | Testing Loss: 0.68974 | Testing Accuracy: 47.92%\n",
      "Training Loss: 0.68698 | Training Accuracy: 42.73% | Testing Loss: 0.68850 | Testing Accuracy: 50.00%\n",
      "Training Loss: 0.67814 | Training Accuracy: 42.71% | Testing Loss: 0.69446 | Testing Accuracy: 51.04%\n",
      "Training Loss: 0.68739 | Training Accuracy: 42.77% | Testing Loss: 0.68995 | Testing Accuracy: 47.92%\n",
      "Training Loss: 0.69505 | Training Accuracy: 42.75% | Testing Loss: 0.69327 | Testing Accuracy: 48.96%\n",
      "Training Loss: 0.67935 | Training Accuracy: 42.73% | Testing Loss: 0.70128 | Testing Accuracy: 52.08%\n",
      "Training Loss: 0.67970 | Training Accuracy: 42.73% | Testing Loss: 0.68751 | Testing Accuracy: 47.92%\n",
      "Training Loss: 0.69090 | Training Accuracy: 42.69% | Testing Loss: 0.69397 | Testing Accuracy: 50.00%\n",
      "Training Loss: 0.68292 | Training Accuracy: 42.77% | Testing Loss: 0.70097 | Testing Accuracy: 51.04%\n",
      "Training Loss: 0.67950 | Training Accuracy: 42.73% | Testing Loss: 0.69044 | Testing Accuracy: 50.00%\n"
     ]
    }
   ],
   "source": [
    "torch.manual_seed(42)\n",
    "accuracy = Accuracy(task='binary').to(device)\n",
    "\n",
    "model_0_results = evaluate(model=model_0,\n",
    "                        train_dataloader=train_dataloader,\n",
    "                        test_dataloader=test_dataloader,\n",
    "                        loss_function=loss_function,\n",
    "                        optimizer=optimizer,\n",
    "                        accuracy=accuracy,\n",
    "                        device=device,\n",
    "                        epochs=epochs)"
   ]
  },
  {
   "cell_type": "code",
   "execution_count": null,
   "id": "02e8fcfe-a5b9-430e-90f8-08af8af43f05",
   "metadata": {},
   "outputs": [],
   "source": []
  }
 ],
 "metadata": {
  "kernelspec": {
   "display_name": "Python 3 (ipykernel)",
   "language": "python",
   "name": "python3"
  },
  "language_info": {
   "codemirror_mode": {
    "name": "ipython",
    "version": 3
   },
   "file_extension": ".py",
   "mimetype": "text/x-python",
   "name": "python",
   "nbconvert_exporter": "python",
   "pygments_lexer": "ipython3",
   "version": "3.12.7"
  }
 },
 "nbformat": 4,
 "nbformat_minor": 5
}
