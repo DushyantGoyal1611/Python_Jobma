{
 "cells": [
  {
   "cell_type": "code",
   "execution_count": 1,
   "id": "c856e771-1d4b-4b75-92d2-048963eb8a73",
   "metadata": {},
   "outputs": [],
   "source": [
    "import pandas as pd\n",
    "import numpy as np\n",
    "import matplotlib.pyplot as plt\n",
    "\n",
    "# Torch \n",
    "import torch\n",
    "import torch.nn as nn\n",
    "import torch.nn.functional as F\n",
    "from torchmetrics import Accuracy\n",
    "from torch.utils.data import Dataset, DataLoader\n",
    "\n",
    "# Scikit-Learn\n",
    "# Models\n",
    "from sklearn.ensemble import RandomForestClassifier\n",
    "from sklearn.metrics import accuracy_score\n",
    "# Data Encoding and Scaling\n",
    "from sklearn.compose import ColumnTransformer\n",
    "from sklearn.preprocessing import LabelEncoder, OrdinalEncoder, OneHotEncoder, StandardScaler\n",
    "from sklearn.model_selection import train_test_split\n",
    "from sklearn.decomposition import PCA\n",
    "\n",
    "# Natural Language Processing(NLP)\n",
    "import nltk\n",
    "from nltk.tokenize import word_tokenize\n",
    "from nltk.corpus import stopwords\n",
    "from nltk.stem import WordNetLemmatizer\n",
    "# Word Embedding\n",
    "import gensim\n",
    "from gensim.models import Word2Vec"
   ]
  },
  {
   "cell_type": "code",
   "execution_count": 2,
   "id": "025f97ab-cee3-4487-837c-d8954fedf48b",
   "metadata": {},
   "outputs": [
    {
     "data": {
      "text/plain": [
       "'cpu'"
      ]
     },
     "execution_count": 2,
     "metadata": {},
     "output_type": "execute_result"
    }
   ],
   "source": [
    "device = 'cuda' if torch.cuda.is_available() else 'cpu'\n",
    "device"
   ]
  },
  {
   "cell_type": "code",
   "execution_count": 3,
   "id": "b3006f5b-1500-482f-a6bb-799ddeadb121",
   "metadata": {},
   "outputs": [],
   "source": [
    "df = pd.read_csv('IntervieweeDataset.csv')"
   ]
  },
  {
   "cell_type": "code",
   "execution_count": 4,
   "id": "5e3a5d78-8d66-4320-a86d-6825730d0543",
   "metadata": {},
   "outputs": [
    {
     "data": {
      "text/plain": [
       "(21256, 52)"
      ]
     },
     "execution_count": 4,
     "metadata": {},
     "output_type": "execute_result"
    }
   ],
   "source": [
    "df.shape"
   ]
  },
  {
   "cell_type": "code",
   "execution_count": 5,
   "id": "964446c2-3707-44bf-bab3-9f0594946619",
   "metadata": {},
   "outputs": [
    {
     "data": {
      "text/plain": [
       "Index(['Name', 'Age', 'Gender', 'Type of Graduation/Post Graduation',\n",
       "       'Marital status', 'Mode of interview given by candidate?',\n",
       "       'Pre Interview Check', 'Fluency in English based on introduction',\n",
       "       'Confidence based on Introduction (English)',\n",
       "       'Confidence based on the topic given  ',\n",
       "       'Confidence Based on the PPT Question',\n",
       "       'Confidence based on the sales scenario',\n",
       "       'Structured Thinking (In regional only)',\n",
       "       'Structured Thinking Based on the PPT Question',\n",
       "       'Structured Thinking( Call pitch)',\n",
       "       'Regional fluency based on the topic given  ',\n",
       "       'Regional fluency Based on the PPT Question',\n",
       "       'Regional fluency based on the  sales scenario',\n",
       "       'Does the candidate has mother tongue influence while speaking english.',\n",
       "       'Has acquaintance in Company and has spoken to him/her before applying?',\n",
       "       'Candidate Status', 'Last Fixed CTC (lakhs) ', 'Currently Employed',\n",
       "       'Experienced candidate - (Experience in months)',\n",
       "       'Experienced Candidate (Nature of work)',\n",
       "       'What was the type of Role?\\t',\n",
       "       'How many slides candidate have submitted in PPT?',\n",
       "       'Call-pitch Elements used during the call Sales Scenario',\n",
       "       'But, my child's exam are going on now, so we will keep the counselling session after the exams get over.(Time: Favourable pitch: Counsellor hype)',\n",
       "       'Let me discuss it with my child',\n",
       "       'Sir being in education industry I know this is a marketing gimmick and at the end of the day you'll be selling the app.',\n",
       "       'Role acceptance', 'Interview Verdict',\n",
       "       'Candidate is willing to relocate',\n",
       "       'Role Location to be given to the candidate', 'Comments',\n",
       "       'RedFlags Comments in Interview',\n",
       "       'Confidence based on Introduction (English).1',\n",
       "       'Confidence based on the topic given  .1',\n",
       "       'Confidence Based on the PPT Question.1',\n",
       "       'Confidence based on the sales scenario.1',\n",
       "       'Structured Thinking (In regional only).1',\n",
       "       'Structured Thinking Based on the PPT Question.1',\n",
       "       'Structured Thinking( Call pitch).1',\n",
       "       'Regional fluency based on the topic given  .1',\n",
       "       'Regional fluency Based on the PPT Question.1',\n",
       "       'Regional fluency based on the  sales scenario.1', 'Confidence Score',\n",
       "       'Structured Thinking Score', 'Regional Fluency Score', 'Total Score',\n",
       "       'Whether joined the company or not\\r\\n'],\n",
       "      dtype='object')"
      ]
     },
     "execution_count": 5,
     "metadata": {},
     "output_type": "execute_result"
    }
   ],
   "source": [
    "df.columns"
   ]
  },
  {
   "cell_type": "code",
   "execution_count": 6,
   "id": "e67c3594-34a9-44d7-9782-2d3f232d0b55",
   "metadata": {},
   "outputs": [],
   "source": [
    "df.dropna(inplace=True)"
   ]
  },
  {
   "cell_type": "code",
   "execution_count": 7,
   "id": "19cb4ee4-eff9-4768-b05f-84d890ca7e17",
   "metadata": {},
   "outputs": [
    {
     "data": {
      "text/plain": [
       "array(['tech', 'Fresher(<6 months)', 'Sales numbers', ...,\n",
       "       'Sales numbers, HOTEL MANAGEMENT', 'weekly targets', 'networking'],\n",
       "      dtype=object)"
      ]
     },
     "execution_count": 7,
     "metadata": {},
     "output_type": "execute_result"
    }
   ],
   "source": [
    "df['Experienced Candidate (Nature of work)'].unique()"
   ]
  },
  {
   "cell_type": "code",
   "execution_count": 8,
   "id": "36caf719-b1be-43c9-919d-f2bb9bd9d7db",
   "metadata": {},
   "outputs": [
    {
     "data": {
      "text/plain": [
       "Experienced Candidate (Nature of work)\n",
       "Fresher(<6 months)              12070\n",
       "Sales numbers                    1946\n",
       "working hours                     749\n",
       "Call time                         286\n",
       "Customer visits                   170\n",
       "                                ...  \n",
       "PROJECT EVALUVATION                 1\n",
       "cctv operator                       1\n",
       "Emails &Drafting                    1\n",
       "R&D- to prepare formulation         1\n",
       "networking                          1\n",
       "Name: count, Length: 1639, dtype: int64"
      ]
     },
     "execution_count": 8,
     "metadata": {},
     "output_type": "execute_result"
    }
   ],
   "source": [
    "df['Experienced Candidate (Nature of work)'].value_counts()"
   ]
  },
  {
   "cell_type": "code",
   "execution_count": 9,
   "id": "98d23e03-70fd-4832-abb5-8eacac3c0450",
   "metadata": {},
   "outputs": [],
   "source": [
    "df.drop(df.iloc[:, 8:18], axis=1, inplace=True)"
   ]
  },
  {
   "cell_type": "code",
   "execution_count": 10,
   "id": "cd0ae780-58ef-457b-adaf-bcadec8b11c5",
   "metadata": {},
   "outputs": [
    {
     "data": {
      "text/plain": [
       "Index(['Name', 'Age', 'Gender', 'Type of Graduation/Post Graduation',\n",
       "       'Marital status', 'Mode of interview given by candidate?',\n",
       "       'Pre Interview Check', 'Fluency in English based on introduction',\n",
       "       'Does the candidate has mother tongue influence while speaking english.',\n",
       "       'Has acquaintance in Company and has spoken to him/her before applying?',\n",
       "       'Candidate Status', 'Last Fixed CTC (lakhs) ', 'Currently Employed',\n",
       "       'Experienced candidate - (Experience in months)',\n",
       "       'Experienced Candidate (Nature of work)',\n",
       "       'What was the type of Role?\\t',\n",
       "       'How many slides candidate have submitted in PPT?',\n",
       "       'Call-pitch Elements used during the call Sales Scenario',\n",
       "       'But, my child's exam are going on now, so we will keep the counselling session after the exams get over.(Time: Favourable pitch: Counsellor hype)',\n",
       "       'Let me discuss it with my child',\n",
       "       'Sir being in education industry I know this is a marketing gimmick and at the end of the day you'll be selling the app.',\n",
       "       'Role acceptance', 'Interview Verdict',\n",
       "       'Candidate is willing to relocate',\n",
       "       'Role Location to be given to the candidate', 'Comments',\n",
       "       'RedFlags Comments in Interview',\n",
       "       'Confidence based on Introduction (English).1',\n",
       "       'Confidence based on the topic given  .1',\n",
       "       'Confidence Based on the PPT Question.1',\n",
       "       'Confidence based on the sales scenario.1',\n",
       "       'Structured Thinking (In regional only).1',\n",
       "       'Structured Thinking Based on the PPT Question.1',\n",
       "       'Structured Thinking( Call pitch).1',\n",
       "       'Regional fluency based on the topic given  .1',\n",
       "       'Regional fluency Based on the PPT Question.1',\n",
       "       'Regional fluency based on the  sales scenario.1', 'Confidence Score',\n",
       "       'Structured Thinking Score', 'Regional Fluency Score', 'Total Score',\n",
       "       'Whether joined the company or not\\r\\n'],\n",
       "      dtype='object')"
      ]
     },
     "execution_count": 10,
     "metadata": {},
     "output_type": "execute_result"
    }
   ],
   "source": [
    "df.columns"
   ]
  },
  {
   "cell_type": "code",
   "execution_count": 36,
   "id": "5f429292-aea7-4470-bd51-80a289abee30",
   "metadata": {},
   "outputs": [],
   "source": [
    "df.drop(['Name',\n",
    "        'Pre Interview Check',\n",
    "         'Experienced Candidate (Nature of work)',\n",
    "         'Call-pitch Elements used during the call Sales Scenario',\n",
    "         \"But, my child's exam are going on now, so we will keep the counselling session after the exams get over.(Time: Favourable pitch: Counsellor hype)\",\n",
    "         'Let me discuss it with my child',\n",
    "         \"Sir being in education industry I know this is a marketing gimmick and at the end of the day you'll be selling the app.\",\n",
    "         'Comments',\n",
    "         'RedFlags Comments in Interview',\n",
    "         'Whether joined the company or not\\r\\n',\n",
    "         'Role Location to be given to the candidate'\n",
    "        ], axis=1, inplace=True)"
   ]
  },
  {
   "cell_type": "code",
   "execution_count": 38,
   "id": "36d940ac-9d3c-48f7-b763-af81f6dbdeb7",
   "metadata": {},
   "outputs": [],
   "source": [
    "df.columns = df.columns.str.removesuffix(\" .1\")\n",
    "df.columns = df.columns.str.removesuffix(\".1\")"
   ]
  },
  {
   "cell_type": "code",
   "execution_count": 40,
   "id": "e8135e30-4e6e-4649-8222-8c5b746d1077",
   "metadata": {},
   "outputs": [
    {
     "data": {
      "text/plain": [
       "Index(['Age', 'Gender', 'Type of Graduation/Post Graduation', 'Marital status',\n",
       "       'Mode of interview given by candidate?',\n",
       "       'Fluency in English based on introduction',\n",
       "       'Does the candidate has mother tongue influence while speaking english.',\n",
       "       'Has acquaintance in Company and has spoken to him/her before applying?',\n",
       "       'Candidate Status', 'Last Fixed CTC (lakhs) ', 'Currently Employed',\n",
       "       'Experienced candidate - (Experience in months)',\n",
       "       'What was the type of Role?\\t',\n",
       "       'How many slides candidate have submitted in PPT?', 'Role acceptance',\n",
       "       'Interview Verdict', 'Candidate is willing to relocate',\n",
       "       'Confidence based on Introduction (English)',\n",
       "       'Confidence based on the topic given ',\n",
       "       'Confidence Based on the PPT Question',\n",
       "       'Confidence based on the sales scenario',\n",
       "       'Structured Thinking (In regional only)',\n",
       "       'Structured Thinking Based on the PPT Question',\n",
       "       'Structured Thinking( Call pitch)',\n",
       "       'Regional fluency based on the topic given ',\n",
       "       'Regional fluency Based on the PPT Question',\n",
       "       'Regional fluency based on the  sales scenario', 'Confidence Score',\n",
       "       'Structured Thinking Score', 'Regional Fluency Score', 'Total Score'],\n",
       "      dtype='object')"
      ]
     },
     "execution_count": 40,
     "metadata": {},
     "output_type": "execute_result"
    }
   ],
   "source": [
    "df.columns"
   ]
  },
  {
   "cell_type": "markdown",
   "id": "9644569a-2c18-4b42-9ab0-ac0f619a91ea",
   "metadata": {},
   "source": [
    "## Renamed Columns"
   ]
  },
  {
   "cell_type": "code",
   "execution_count": 43,
   "id": "b8fb6706-a7d9-43b2-832d-908e5ffd9770",
   "metadata": {},
   "outputs": [],
   "source": [
    "df.rename(columns={'What was the type of Role?\\t': 'What was the type of Role?'}, inplace=True)"
   ]
  },
  {
   "cell_type": "code",
   "execution_count": 45,
   "id": "9478e87b-5b8d-4d7c-a67a-913f8b6c4e64",
   "metadata": {},
   "outputs": [],
   "source": [
    "df.rename(columns = {'Has acquaintance in Company and has spoken to him/her before applying?' : 'Acquaintance and Referral'}, inplace=True)\n",
    "df.rename(columns = {'Type of Graduation/Post Graduation' : 'Education'}, inplace=True)\n",
    "df.rename(columns= {'Mode of interview given by candidate?' : 'Mode of Interview'}, inplace=True)"
   ]
  },
  {
   "cell_type": "code",
   "execution_count": null,
   "id": "e934b3e9-ff45-4cbd-8072-6fc9b106ab3b",
   "metadata": {},
   "outputs": [],
   "source": [
    "df['id'] = df.index"
   ]
  },
  {
   "cell_type": "code",
   "execution_count": 49,
   "id": "f1265a63-5b0d-4e38-9589-6bc9998b0ff3",
   "metadata": {},
   "outputs": [
    {
     "data": {
      "text/plain": [
       "Index(['Age', 'Gender', 'Education', 'Marital status', 'Mode of Interview',\n",
       "       'Fluency in English based on introduction',\n",
       "       'Does the candidate has mother tongue influence while speaking english.',\n",
       "       'Acquaintance and Referral', 'Candidate Status',\n",
       "       'Last Fixed CTC (lakhs) ', 'Currently Employed',\n",
       "       'Experienced candidate - (Experience in months)',\n",
       "       'What was the type of Role?',\n",
       "       'How many slides candidate have submitted in PPT?', 'Role acceptance',\n",
       "       'Interview Verdict', 'Candidate is willing to relocate',\n",
       "       'Confidence based on Introduction (English)',\n",
       "       'Confidence based on the topic given ',\n",
       "       'Confidence Based on the PPT Question',\n",
       "       'Confidence based on the sales scenario',\n",
       "       'Structured Thinking (In regional only)',\n",
       "       'Structured Thinking Based on the PPT Question',\n",
       "       'Structured Thinking( Call pitch)',\n",
       "       'Regional fluency based on the topic given ',\n",
       "       'Regional fluency Based on the PPT Question',\n",
       "       'Regional fluency based on the  sales scenario', 'Confidence Score',\n",
       "       'Structured Thinking Score', 'Regional Fluency Score', 'Total Score',\n",
       "       'id'],\n",
       "      dtype='object')"
      ]
     },
     "execution_count": 49,
     "metadata": {},
     "output_type": "execute_result"
    }
   ],
   "source": [
    "df.columns"
   ]
  },
  {
   "cell_type": "code",
   "execution_count": 51,
   "id": "807f33d0-d1d4-4e97-aa24-7ada80cbd274",
   "metadata": {},
   "outputs": [],
   "source": [
    "education_mapping = {\n",
    "    'Engineering & Technology': [\n",
    "        'B.E / B-Tech', 'M.E / M-Tech', 'B-Tech - INTEGRATED', 'BE - CSe and CDAC',\n",
    "        'B.ENG', 'Bachelors of planning', 'B.Arch', 'Bachelor of Architecture', 'B.ARC'\n",
    "    ],\n",
    "    'Science & Medical': [\n",
    "        'BSc or MSc', 'BSC', 'MS', 'Masters in biotechnology', 'PG - msc biochemistry',\n",
    "        'Bio science', 'masters in biology', 'biotech', 'Masters of Statistics',\n",
    "        'Bachelors in biotechnology', 'Ph D genetics', 'MBBS', 'Bachelor in medical lab',\n",
    "        'B.Physiotherapist', 'B.pharma', 'M.pharma', 'B -pharm', 'B.PHARMA',\n",
    "        'PHARMA D', 'pharm D', 'M.Pharma', 'Bachelors in dental',\n",
    "        'Masters in Clinical Psychology', 'B.voc in applied clinical psychology'\n",
    "    ],\n",
    "    'Commerce & Business': [\n",
    "        'B.com', 'BCOM COMPUTERS', 'Bcom computers', 'bcom -pa', 'M.com',\n",
    "        'MBA', 'MBA- 2019', 'MBA agro business', 'PGDM', 'pgdm', 'PGDM 2022',\n",
    "        'PGDM marketing', 'PG diploma in banking', 'PG DIPLOMA IN BANKING',\n",
    "        'Masters in banking and insurance', 'BBA or BBM', 'BBM',\n",
    "        'Bachelor of Business Economics (B.B.E.)', 'PGPM', 'PGPM in marketing',\n",
    "        'PGPCEM', 'PGDBS', 'B.Voc - Banking & Finance'\n",
    "    ],\n",
    "    'Humanities & Social Sciences': [\n",
    "        'BA/MA', 'LLB', 'LLM', 'MPhil', 'M.phil', 'Mphil 2020', 'PHD', 'doctorate',\n",
    "        'Masters of Social Work (MSW)', 'msw', 'msw-hr-2014', 'MSW HRM',\n",
    "        'Public administration', 'Masters in comparative religion', 'Masters in archeology',\n",
    "        'English Honors', 'MASTERS IN SOCIAL SCIENCE', 'Bengali Honors'\n",
    "    ],\n",
    "    'Mass Communication & Media': [\n",
    "        'B.comm (Bachelor of mass comm.)', 'Bachelor mass communication',\n",
    "        'mass media', 'masss media', 'mass comm', 'Mass comm', 'BMM ( MAss Media)',\n",
    "        'BJMC', 'MJMC 2020', 'Masters in mass communication', 'MASTERS IN MASS COM',\n",
    "        'Masters in Convergent Journalism', 'master maas comm', 'master in electronic media'\n",
    "    ],\n",
    "    'Vocational & Professional Courses': [\n",
    "        'B.ed (Teaching)', 'B.ed', 'B.ED', 'M.ed', 'D.el.ed', 'd el. ed', 'Dled',\n",
    "        'Bachelors in fisheries science', 'Bachelors in tourism', 'Bachelor of Tourism',\n",
    "        'travel & toursim', 'Bachelors in design', 'B.Design', 'Bachelors in hospitality',\n",
    "        \"Bachelor's in Hospitality\", 'Hotel Management', 'Masters in fashion designing',\n",
    "        'Masters in hospitality', 'Masters in design', 'food technology',\n",
    "        'BVoc', 'B.VOC', 'B.vocational', 'B.voc - IT', 'B.voc networking and mobile applications',\n",
    "        'bachelors of vocational - automobile', 'Bpharma', 'Mpharma', 'Diploma', 'Diploma in engr',\n",
    "        'PGDCA', 'PGD', 'pgdca', 'PGD (Bachelor of Library Science)', 'BMIT',\n",
    "        'PGDF', 'PGDA', 'MFC', 'MLIS', 'BMS', 'BMS marketing', 'bms', 'bms-2020',\n",
    "        'Bachelor in IT', 'BCA/MCA', 'CSE', 'PDGM Advance Computing'\n",
    "    ]\n",
    "}\n",
    "\n",
    "# Function to map education to categories\n",
    "def categorize_education(education):\n",
    "    for category, degrees in education_mapping.items():\n",
    "        if education in degrees:\n",
    "            return category\n",
    "    return 'Other'  # Default category if not found"
   ]
  },
  {
   "cell_type": "code",
   "execution_count": 53,
   "id": "6300674e-1672-426c-94e4-34a9154a6ce0",
   "metadata": {},
   "outputs": [],
   "source": [
    "df['Education'] = df['Education'].apply(categorize_education)"
   ]
  },
  {
   "cell_type": "code",
   "execution_count": 55,
   "id": "32b57446-76d5-4432-928d-7de52e3acec5",
   "metadata": {},
   "outputs": [
    {
     "data": {
      "text/plain": [
       "array(['Reject', 'Premium Select', 'Borderline Select', 'Select',\n",
       "       'Borderline Reject'], dtype=object)"
      ]
     },
     "execution_count": 55,
     "metadata": {},
     "output_type": "execute_result"
    }
   ],
   "source": [
    "df['Interview Verdict'].unique()"
   ]
  },
  {
   "cell_type": "code",
   "execution_count": 57,
   "id": "10e4e593-6241-4f9a-9e84-aacaf9636f84",
   "metadata": {},
   "outputs": [
    {
     "data": {
      "text/plain": [
       "array(['Reject', 'Select'], dtype=object)"
      ]
     },
     "execution_count": 57,
     "metadata": {},
     "output_type": "execute_result"
    }
   ],
   "source": [
    "df['Interview Verdict'] = df['Interview Verdict'].replace({'Premium Select':'Select', 'Borderline Select':'Select', 'Borderline Reject':'Reject'})\n",
    "df['Interview Verdict'].unique()"
   ]
  },
  {
   "cell_type": "code",
   "execution_count": 59,
   "id": "bc8dd3fe-8aa8-4ee3-b315-726650123ff5",
   "metadata": {},
   "outputs": [],
   "source": [
    "df['Age'] = df['Age'].astype(str).str.replace('+','', regex=False).astype(int)"
   ]
  },
  {
   "cell_type": "code",
   "execution_count": 61,
   "id": "1c2631cb-7074-452f-a108-24a42f336083",
   "metadata": {},
   "outputs": [],
   "source": [
    "bins = [18, 22, 25, 28, 32, 35, float('inf')]\n",
    "labels = ['18-22', '23-25', '26-28', '29-32', '33-35', '35+']"
   ]
  },
  {
   "cell_type": "code",
   "execution_count": 63,
   "id": "e132ed29-8e1a-4cfa-bcc9-d4ef340327dd",
   "metadata": {},
   "outputs": [],
   "source": [
    "df['Age'] = pd.cut(df['Age'], bins=bins, labels=labels, right=True)"
   ]
  },
  {
   "cell_type": "code",
   "execution_count": 65,
   "id": "50e3e53d-609a-4827-a896-4988ff65e750",
   "metadata": {},
   "outputs": [
    {
     "data": {
      "text/plain": [
       "Index(['Age', 'Gender', 'Education', 'Marital status', 'Mode of Interview',\n",
       "       'Fluency in English based on introduction',\n",
       "       'Does the candidate has mother tongue influence while speaking english.',\n",
       "       'Acquaintance and Referral', 'Candidate Status',\n",
       "       'Last Fixed CTC (lakhs) ', 'Currently Employed',\n",
       "       'Experienced candidate - (Experience in months)',\n",
       "       'What was the type of Role?',\n",
       "       'How many slides candidate have submitted in PPT?', 'Role acceptance',\n",
       "       'Interview Verdict', 'Candidate is willing to relocate',\n",
       "       'Confidence based on Introduction (English)',\n",
       "       'Confidence based on the topic given ',\n",
       "       'Confidence Based on the PPT Question',\n",
       "       'Confidence based on the sales scenario',\n",
       "       'Structured Thinking (In regional only)',\n",
       "       'Structured Thinking Based on the PPT Question',\n",
       "       'Structured Thinking( Call pitch)',\n",
       "       'Regional fluency based on the topic given ',\n",
       "       'Regional fluency Based on the PPT Question',\n",
       "       'Regional fluency based on the  sales scenario', 'Confidence Score',\n",
       "       'Structured Thinking Score', 'Regional Fluency Score', 'Total Score',\n",
       "       'id'],\n",
       "      dtype='object')"
      ]
     },
     "execution_count": 65,
     "metadata": {},
     "output_type": "execute_result"
    }
   ],
   "source": [
    "df.columns"
   ]
  },
  {
   "cell_type": "markdown",
   "id": "7e3b7df1-fd29-42e5-a883-3809c138e637",
   "metadata": {},
   "source": [
    "## Label Encoding"
   ]
  },
  {
   "cell_type": "code",
   "execution_count": 67,
   "id": "7881d329-bfb9-4e6c-ad80-4124fcc314fc",
   "metadata": {},
   "outputs": [
    {
     "data": {
      "text/html": [
       "<style>#sk-container-id-1 {\n",
       "  /* Definition of color scheme common for light and dark mode */\n",
       "  --sklearn-color-text: black;\n",
       "  --sklearn-color-line: gray;\n",
       "  /* Definition of color scheme for unfitted estimators */\n",
       "  --sklearn-color-unfitted-level-0: #fff5e6;\n",
       "  --sklearn-color-unfitted-level-1: #f6e4d2;\n",
       "  --sklearn-color-unfitted-level-2: #ffe0b3;\n",
       "  --sklearn-color-unfitted-level-3: chocolate;\n",
       "  /* Definition of color scheme for fitted estimators */\n",
       "  --sklearn-color-fitted-level-0: #f0f8ff;\n",
       "  --sklearn-color-fitted-level-1: #d4ebff;\n",
       "  --sklearn-color-fitted-level-2: #b3dbfd;\n",
       "  --sklearn-color-fitted-level-3: cornflowerblue;\n",
       "\n",
       "  /* Specific color for light theme */\n",
       "  --sklearn-color-text-on-default-background: var(--sg-text-color, var(--theme-code-foreground, var(--jp-content-font-color1, black)));\n",
       "  --sklearn-color-background: var(--sg-background-color, var(--theme-background, var(--jp-layout-color0, white)));\n",
       "  --sklearn-color-border-box: var(--sg-text-color, var(--theme-code-foreground, var(--jp-content-font-color1, black)));\n",
       "  --sklearn-color-icon: #696969;\n",
       "\n",
       "  @media (prefers-color-scheme: dark) {\n",
       "    /* Redefinition of color scheme for dark theme */\n",
       "    --sklearn-color-text-on-default-background: var(--sg-text-color, var(--theme-code-foreground, var(--jp-content-font-color1, white)));\n",
       "    --sklearn-color-background: var(--sg-background-color, var(--theme-background, var(--jp-layout-color0, #111)));\n",
       "    --sklearn-color-border-box: var(--sg-text-color, var(--theme-code-foreground, var(--jp-content-font-color1, white)));\n",
       "    --sklearn-color-icon: #878787;\n",
       "  }\n",
       "}\n",
       "\n",
       "#sk-container-id-1 {\n",
       "  color: var(--sklearn-color-text);\n",
       "}\n",
       "\n",
       "#sk-container-id-1 pre {\n",
       "  padding: 0;\n",
       "}\n",
       "\n",
       "#sk-container-id-1 input.sk-hidden--visually {\n",
       "  border: 0;\n",
       "  clip: rect(1px 1px 1px 1px);\n",
       "  clip: rect(1px, 1px, 1px, 1px);\n",
       "  height: 1px;\n",
       "  margin: -1px;\n",
       "  overflow: hidden;\n",
       "  padding: 0;\n",
       "  position: absolute;\n",
       "  width: 1px;\n",
       "}\n",
       "\n",
       "#sk-container-id-1 div.sk-dashed-wrapped {\n",
       "  border: 1px dashed var(--sklearn-color-line);\n",
       "  margin: 0 0.4em 0.5em 0.4em;\n",
       "  box-sizing: border-box;\n",
       "  padding-bottom: 0.4em;\n",
       "  background-color: var(--sklearn-color-background);\n",
       "}\n",
       "\n",
       "#sk-container-id-1 div.sk-container {\n",
       "  /* jupyter's `normalize.less` sets `[hidden] { display: none; }`\n",
       "     but bootstrap.min.css set `[hidden] { display: none !important; }`\n",
       "     so we also need the `!important` here to be able to override the\n",
       "     default hidden behavior on the sphinx rendered scikit-learn.org.\n",
       "     See: https://github.com/scikit-learn/scikit-learn/issues/21755 */\n",
       "  display: inline-block !important;\n",
       "  position: relative;\n",
       "}\n",
       "\n",
       "#sk-container-id-1 div.sk-text-repr-fallback {\n",
       "  display: none;\n",
       "}\n",
       "\n",
       "div.sk-parallel-item,\n",
       "div.sk-serial,\n",
       "div.sk-item {\n",
       "  /* draw centered vertical line to link estimators */\n",
       "  background-image: linear-gradient(var(--sklearn-color-text-on-default-background), var(--sklearn-color-text-on-default-background));\n",
       "  background-size: 2px 100%;\n",
       "  background-repeat: no-repeat;\n",
       "  background-position: center center;\n",
       "}\n",
       "\n",
       "/* Parallel-specific style estimator block */\n",
       "\n",
       "#sk-container-id-1 div.sk-parallel-item::after {\n",
       "  content: \"\";\n",
       "  width: 100%;\n",
       "  border-bottom: 2px solid var(--sklearn-color-text-on-default-background);\n",
       "  flex-grow: 1;\n",
       "}\n",
       "\n",
       "#sk-container-id-1 div.sk-parallel {\n",
       "  display: flex;\n",
       "  align-items: stretch;\n",
       "  justify-content: center;\n",
       "  background-color: var(--sklearn-color-background);\n",
       "  position: relative;\n",
       "}\n",
       "\n",
       "#sk-container-id-1 div.sk-parallel-item {\n",
       "  display: flex;\n",
       "  flex-direction: column;\n",
       "}\n",
       "\n",
       "#sk-container-id-1 div.sk-parallel-item:first-child::after {\n",
       "  align-self: flex-end;\n",
       "  width: 50%;\n",
       "}\n",
       "\n",
       "#sk-container-id-1 div.sk-parallel-item:last-child::after {\n",
       "  align-self: flex-start;\n",
       "  width: 50%;\n",
       "}\n",
       "\n",
       "#sk-container-id-1 div.sk-parallel-item:only-child::after {\n",
       "  width: 0;\n",
       "}\n",
       "\n",
       "/* Serial-specific style estimator block */\n",
       "\n",
       "#sk-container-id-1 div.sk-serial {\n",
       "  display: flex;\n",
       "  flex-direction: column;\n",
       "  align-items: center;\n",
       "  background-color: var(--sklearn-color-background);\n",
       "  padding-right: 1em;\n",
       "  padding-left: 1em;\n",
       "}\n",
       "\n",
       "\n",
       "/* Toggleable style: style used for estimator/Pipeline/ColumnTransformer box that is\n",
       "clickable and can be expanded/collapsed.\n",
       "- Pipeline and ColumnTransformer use this feature and define the default style\n",
       "- Estimators will overwrite some part of the style using the `sk-estimator` class\n",
       "*/\n",
       "\n",
       "/* Pipeline and ColumnTransformer style (default) */\n",
       "\n",
       "#sk-container-id-1 div.sk-toggleable {\n",
       "  /* Default theme specific background. It is overwritten whether we have a\n",
       "  specific estimator or a Pipeline/ColumnTransformer */\n",
       "  background-color: var(--sklearn-color-background);\n",
       "}\n",
       "\n",
       "/* Toggleable label */\n",
       "#sk-container-id-1 label.sk-toggleable__label {\n",
       "  cursor: pointer;\n",
       "  display: block;\n",
       "  width: 100%;\n",
       "  margin-bottom: 0;\n",
       "  padding: 0.5em;\n",
       "  box-sizing: border-box;\n",
       "  text-align: center;\n",
       "}\n",
       "\n",
       "#sk-container-id-1 label.sk-toggleable__label-arrow:before {\n",
       "  /* Arrow on the left of the label */\n",
       "  content: \"▸\";\n",
       "  float: left;\n",
       "  margin-right: 0.25em;\n",
       "  color: var(--sklearn-color-icon);\n",
       "}\n",
       "\n",
       "#sk-container-id-1 label.sk-toggleable__label-arrow:hover:before {\n",
       "  color: var(--sklearn-color-text);\n",
       "}\n",
       "\n",
       "/* Toggleable content - dropdown */\n",
       "\n",
       "#sk-container-id-1 div.sk-toggleable__content {\n",
       "  max-height: 0;\n",
       "  max-width: 0;\n",
       "  overflow: hidden;\n",
       "  text-align: left;\n",
       "  /* unfitted */\n",
       "  background-color: var(--sklearn-color-unfitted-level-0);\n",
       "}\n",
       "\n",
       "#sk-container-id-1 div.sk-toggleable__content.fitted {\n",
       "  /* fitted */\n",
       "  background-color: var(--sklearn-color-fitted-level-0);\n",
       "}\n",
       "\n",
       "#sk-container-id-1 div.sk-toggleable__content pre {\n",
       "  margin: 0.2em;\n",
       "  border-radius: 0.25em;\n",
       "  color: var(--sklearn-color-text);\n",
       "  /* unfitted */\n",
       "  background-color: var(--sklearn-color-unfitted-level-0);\n",
       "}\n",
       "\n",
       "#sk-container-id-1 div.sk-toggleable__content.fitted pre {\n",
       "  /* unfitted */\n",
       "  background-color: var(--sklearn-color-fitted-level-0);\n",
       "}\n",
       "\n",
       "#sk-container-id-1 input.sk-toggleable__control:checked~div.sk-toggleable__content {\n",
       "  /* Expand drop-down */\n",
       "  max-height: 200px;\n",
       "  max-width: 100%;\n",
       "  overflow: auto;\n",
       "}\n",
       "\n",
       "#sk-container-id-1 input.sk-toggleable__control:checked~label.sk-toggleable__label-arrow:before {\n",
       "  content: \"▾\";\n",
       "}\n",
       "\n",
       "/* Pipeline/ColumnTransformer-specific style */\n",
       "\n",
       "#sk-container-id-1 div.sk-label input.sk-toggleable__control:checked~label.sk-toggleable__label {\n",
       "  color: var(--sklearn-color-text);\n",
       "  background-color: var(--sklearn-color-unfitted-level-2);\n",
       "}\n",
       "\n",
       "#sk-container-id-1 div.sk-label.fitted input.sk-toggleable__control:checked~label.sk-toggleable__label {\n",
       "  background-color: var(--sklearn-color-fitted-level-2);\n",
       "}\n",
       "\n",
       "/* Estimator-specific style */\n",
       "\n",
       "/* Colorize estimator box */\n",
       "#sk-container-id-1 div.sk-estimator input.sk-toggleable__control:checked~label.sk-toggleable__label {\n",
       "  /* unfitted */\n",
       "  background-color: var(--sklearn-color-unfitted-level-2);\n",
       "}\n",
       "\n",
       "#sk-container-id-1 div.sk-estimator.fitted input.sk-toggleable__control:checked~label.sk-toggleable__label {\n",
       "  /* fitted */\n",
       "  background-color: var(--sklearn-color-fitted-level-2);\n",
       "}\n",
       "\n",
       "#sk-container-id-1 div.sk-label label.sk-toggleable__label,\n",
       "#sk-container-id-1 div.sk-label label {\n",
       "  /* The background is the default theme color */\n",
       "  color: var(--sklearn-color-text-on-default-background);\n",
       "}\n",
       "\n",
       "/* On hover, darken the color of the background */\n",
       "#sk-container-id-1 div.sk-label:hover label.sk-toggleable__label {\n",
       "  color: var(--sklearn-color-text);\n",
       "  background-color: var(--sklearn-color-unfitted-level-2);\n",
       "}\n",
       "\n",
       "/* Label box, darken color on hover, fitted */\n",
       "#sk-container-id-1 div.sk-label.fitted:hover label.sk-toggleable__label.fitted {\n",
       "  color: var(--sklearn-color-text);\n",
       "  background-color: var(--sklearn-color-fitted-level-2);\n",
       "}\n",
       "\n",
       "/* Estimator label */\n",
       "\n",
       "#sk-container-id-1 div.sk-label label {\n",
       "  font-family: monospace;\n",
       "  font-weight: bold;\n",
       "  display: inline-block;\n",
       "  line-height: 1.2em;\n",
       "}\n",
       "\n",
       "#sk-container-id-1 div.sk-label-container {\n",
       "  text-align: center;\n",
       "}\n",
       "\n",
       "/* Estimator-specific */\n",
       "#sk-container-id-1 div.sk-estimator {\n",
       "  font-family: monospace;\n",
       "  border: 1px dotted var(--sklearn-color-border-box);\n",
       "  border-radius: 0.25em;\n",
       "  box-sizing: border-box;\n",
       "  margin-bottom: 0.5em;\n",
       "  /* unfitted */\n",
       "  background-color: var(--sklearn-color-unfitted-level-0);\n",
       "}\n",
       "\n",
       "#sk-container-id-1 div.sk-estimator.fitted {\n",
       "  /* fitted */\n",
       "  background-color: var(--sklearn-color-fitted-level-0);\n",
       "}\n",
       "\n",
       "/* on hover */\n",
       "#sk-container-id-1 div.sk-estimator:hover {\n",
       "  /* unfitted */\n",
       "  background-color: var(--sklearn-color-unfitted-level-2);\n",
       "}\n",
       "\n",
       "#sk-container-id-1 div.sk-estimator.fitted:hover {\n",
       "  /* fitted */\n",
       "  background-color: var(--sklearn-color-fitted-level-2);\n",
       "}\n",
       "\n",
       "/* Specification for estimator info (e.g. \"i\" and \"?\") */\n",
       "\n",
       "/* Common style for \"i\" and \"?\" */\n",
       "\n",
       ".sk-estimator-doc-link,\n",
       "a:link.sk-estimator-doc-link,\n",
       "a:visited.sk-estimator-doc-link {\n",
       "  float: right;\n",
       "  font-size: smaller;\n",
       "  line-height: 1em;\n",
       "  font-family: monospace;\n",
       "  background-color: var(--sklearn-color-background);\n",
       "  border-radius: 1em;\n",
       "  height: 1em;\n",
       "  width: 1em;\n",
       "  text-decoration: none !important;\n",
       "  margin-left: 1ex;\n",
       "  /* unfitted */\n",
       "  border: var(--sklearn-color-unfitted-level-1) 1pt solid;\n",
       "  color: var(--sklearn-color-unfitted-level-1);\n",
       "}\n",
       "\n",
       ".sk-estimator-doc-link.fitted,\n",
       "a:link.sk-estimator-doc-link.fitted,\n",
       "a:visited.sk-estimator-doc-link.fitted {\n",
       "  /* fitted */\n",
       "  border: var(--sklearn-color-fitted-level-1) 1pt solid;\n",
       "  color: var(--sklearn-color-fitted-level-1);\n",
       "}\n",
       "\n",
       "/* On hover */\n",
       "div.sk-estimator:hover .sk-estimator-doc-link:hover,\n",
       ".sk-estimator-doc-link:hover,\n",
       "div.sk-label-container:hover .sk-estimator-doc-link:hover,\n",
       ".sk-estimator-doc-link:hover {\n",
       "  /* unfitted */\n",
       "  background-color: var(--sklearn-color-unfitted-level-3);\n",
       "  color: var(--sklearn-color-background);\n",
       "  text-decoration: none;\n",
       "}\n",
       "\n",
       "div.sk-estimator.fitted:hover .sk-estimator-doc-link.fitted:hover,\n",
       ".sk-estimator-doc-link.fitted:hover,\n",
       "div.sk-label-container:hover .sk-estimator-doc-link.fitted:hover,\n",
       ".sk-estimator-doc-link.fitted:hover {\n",
       "  /* fitted */\n",
       "  background-color: var(--sklearn-color-fitted-level-3);\n",
       "  color: var(--sklearn-color-background);\n",
       "  text-decoration: none;\n",
       "}\n",
       "\n",
       "/* Span, style for the box shown on hovering the info icon */\n",
       ".sk-estimator-doc-link span {\n",
       "  display: none;\n",
       "  z-index: 9999;\n",
       "  position: relative;\n",
       "  font-weight: normal;\n",
       "  right: .2ex;\n",
       "  padding: .5ex;\n",
       "  margin: .5ex;\n",
       "  width: min-content;\n",
       "  min-width: 20ex;\n",
       "  max-width: 50ex;\n",
       "  color: var(--sklearn-color-text);\n",
       "  box-shadow: 2pt 2pt 4pt #999;\n",
       "  /* unfitted */\n",
       "  background: var(--sklearn-color-unfitted-level-0);\n",
       "  border: .5pt solid var(--sklearn-color-unfitted-level-3);\n",
       "}\n",
       "\n",
       ".sk-estimator-doc-link.fitted span {\n",
       "  /* fitted */\n",
       "  background: var(--sklearn-color-fitted-level-0);\n",
       "  border: var(--sklearn-color-fitted-level-3);\n",
       "}\n",
       "\n",
       ".sk-estimator-doc-link:hover span {\n",
       "  display: block;\n",
       "}\n",
       "\n",
       "/* \"?\"-specific style due to the `<a>` HTML tag */\n",
       "\n",
       "#sk-container-id-1 a.estimator_doc_link {\n",
       "  float: right;\n",
       "  font-size: 1rem;\n",
       "  line-height: 1em;\n",
       "  font-family: monospace;\n",
       "  background-color: var(--sklearn-color-background);\n",
       "  border-radius: 1rem;\n",
       "  height: 1rem;\n",
       "  width: 1rem;\n",
       "  text-decoration: none;\n",
       "  /* unfitted */\n",
       "  color: var(--sklearn-color-unfitted-level-1);\n",
       "  border: var(--sklearn-color-unfitted-level-1) 1pt solid;\n",
       "}\n",
       "\n",
       "#sk-container-id-1 a.estimator_doc_link.fitted {\n",
       "  /* fitted */\n",
       "  border: var(--sklearn-color-fitted-level-1) 1pt solid;\n",
       "  color: var(--sklearn-color-fitted-level-1);\n",
       "}\n",
       "\n",
       "/* On hover */\n",
       "#sk-container-id-1 a.estimator_doc_link:hover {\n",
       "  /* unfitted */\n",
       "  background-color: var(--sklearn-color-unfitted-level-3);\n",
       "  color: var(--sklearn-color-background);\n",
       "  text-decoration: none;\n",
       "}\n",
       "\n",
       "#sk-container-id-1 a.estimator_doc_link.fitted:hover {\n",
       "  /* fitted */\n",
       "  background-color: var(--sklearn-color-fitted-level-3);\n",
       "}\n",
       "</style><div id=\"sk-container-id-1\" class=\"sk-top-container\"><div class=\"sk-text-repr-fallback\"><pre>LabelEncoder()</pre><b>In a Jupyter environment, please rerun this cell to show the HTML representation or trust the notebook. <br />On GitHub, the HTML representation is unable to render, please try loading this page with nbviewer.org.</b></div><div class=\"sk-container\" hidden><div class=\"sk-item\"><div class=\"sk-estimator  sk-toggleable\"><input class=\"sk-toggleable__control sk-hidden--visually\" id=\"sk-estimator-id-1\" type=\"checkbox\" checked><label for=\"sk-estimator-id-1\" class=\"sk-toggleable__label  sk-toggleable__label-arrow \">&nbsp;&nbsp;LabelEncoder<a class=\"sk-estimator-doc-link \" rel=\"noreferrer\" target=\"_blank\" href=\"https://scikit-learn.org/1.5/modules/generated/sklearn.preprocessing.LabelEncoder.html\">?<span>Documentation for LabelEncoder</span></a><span class=\"sk-estimator-doc-link \">i<span>Not fitted</span></span></label><div class=\"sk-toggleable__content \"><pre>LabelEncoder()</pre></div> </div></div></div></div>"
      ],
      "text/plain": [
       "LabelEncoder()"
      ]
     },
     "execution_count": 67,
     "metadata": {},
     "output_type": "execute_result"
    }
   ],
   "source": [
    "le = LabelEncoder()\n",
    "le"
   ]
  },
  {
   "cell_type": "code",
   "execution_count": 69,
   "id": "e2167da2-2538-472c-a4a0-6388cee2504d",
   "metadata": {},
   "outputs": [],
   "source": [
    "df['Gender'] = le.fit_transform(df['Gender'])\n",
    "df['Marital status'] = le.fit_transform(df['Marital status'])\n",
    "df['Mode of Interview'] = le.fit_transform(df['Mode of Interview'])\n",
    "df['Does the candidate has mother tongue influence while speaking english.'] = le.fit_transform(df['Does the candidate has mother tongue influence while speaking english.'])\n",
    "df['Acquaintance and Referral'] = le.fit_transform(df['Acquaintance and Referral'])\n",
    "df['Currently Employed'] = le.fit_transform(df['Currently Employed'])\n",
    "df['Candidate is willing to relocate'] = le.fit_transform(df['Candidate is willing to relocate'])\n",
    "df['Interview Verdict'] = le.fit_transform(df['Interview Verdict'])"
   ]
  },
  {
   "cell_type": "markdown",
   "id": "568b5746-b7bf-4b14-9ac2-c0067496d082",
   "metadata": {},
   "source": [
    "## Ordinal and OneHot Encoding using Column Transformer"
   ]
  },
  {
   "cell_type": "code",
   "execution_count": 71,
   "id": "cfe72567-ad07-4615-91cd-a1b35f9f9317",
   "metadata": {},
   "outputs": [],
   "source": [
    "transformer = ColumnTransformer(transformers = [\n",
    "    ('t1', OneHotEncoder(sparse_output=False, drop='first'), ['Fluency in English based on introduction', 'Candidate Status', 'Education', 'What was the type of Role?']),\n",
    "    ('t2', OrdinalEncoder(categories=[['Fresher', '0-1.99', '2-2.99', '3-3.99', '4-4.99', '5-5.99', '6-6.99', '7+']]), ['Last Fixed CTC (lakhs) ']),\n",
    "    ('t3', OrdinalEncoder(categories=[['Fresher(<6 months)', '6-11.99 Months', '12-17.99 Months', '18-23.99 Months', '24-29.99 Months', '30-35.99 Months', '36-47.99 Months', '48+ Months']]), ['Experienced candidate - (Experience in months)']),\n",
    "    ('t4', OrdinalEncoder(categories=[['No', 'Yes : Think and says yes.(Shows some hesitation)', 'Emphatic Yes']]), ['Role acceptance']),\n",
    "    ('t5', OrdinalEncoder(categories=[['18-22', '23-25', '26-28', '29-32', '33-35', '35+']]), ['Age']),\n",
    "    ('t6', OrdinalEncoder(categories=[['Wrong File/PPT Submitted', 'No slides or Wrong PPT submitted', \"Only Name Slide/No Slide Attached (Blank/Template PPT Submitted)\", '1 slide', '2 - 3 slides', '4 - 5 slides', '5 - 6 slides', 'More than 6 slides']]), ['How many slides candidate have submitted in PPT?'])\n",
    "], remainder='passthrough')"
   ]
  },
  {
   "cell_type": "code",
   "execution_count": 73,
   "id": "5fddbd72-f0d4-4f14-a274-204426577c13",
   "metadata": {},
   "outputs": [],
   "source": [
    "df = transformer.fit_transform(df)\n",
    "features_names = transformer.get_feature_names_out()\n",
    "df = pd.DataFrame(df, columns=features_names)"
   ]
  },
  {
   "cell_type": "code",
   "execution_count": 75,
   "id": "31c4e8f1-b897-4df5-9e0d-817a0db2e160",
   "metadata": {},
   "outputs": [
    {
     "data": {
      "text/plain": [
       "['t1__Fluency in English based on introduction_Natural Stutter and Stammer',\n",
       " 't1__Fluency in English based on introduction_Taking gaps while speaking due to lack of content but does not stammer or stutter',\n",
       " 't1__Fluency in English based on introduction_Trying but Not Able to speak clearly & Fumbles a lot',\n",
       " 't1__Candidate Status_Experienced in non client facing(equal to or more than 6 months)',\n",
       " 't1__Candidate Status_Fresher(only 2022 grad)',\n",
       " 't1__Candidate Status_Lateral(2021 and before with (less than 6 months) experience)',\n",
       " 't1__Education_Engineering & Technology',\n",
       " 't1__Education_Humanities & Social Sciences',\n",
       " 't1__Education_Mass Communication & Media',\n",
       " 't1__Education_Other',\n",
       " 't1__Education_Science & Medical',\n",
       " 't1__Education_Vocational & Professional Courses',\n",
       " 't1__What was the type of Role?_Individual Contributor',\n",
       " 't1__What was the type of Role?_Team Handling',\n",
       " 't2__Last Fixed CTC (lakhs) ',\n",
       " 't3__Experienced candidate - (Experience in months)',\n",
       " 't4__Role acceptance',\n",
       " 't5__Age',\n",
       " 't6__How many slides candidate have submitted in PPT?',\n",
       " 'remainder__Gender',\n",
       " 'remainder__Marital status',\n",
       " 'remainder__Mode of Interview',\n",
       " 'remainder__Does the candidate has mother tongue influence while speaking english.',\n",
       " 'remainder__Acquaintance and Referral',\n",
       " 'remainder__Currently Employed',\n",
       " 'remainder__Interview Verdict',\n",
       " 'remainder__Candidate is willing to relocate',\n",
       " 'remainder__Confidence based on Introduction (English)',\n",
       " 'remainder__Confidence based on the topic given ',\n",
       " 'remainder__Confidence Based on the PPT Question',\n",
       " 'remainder__Confidence based on the sales scenario',\n",
       " 'remainder__Structured Thinking (In regional only)',\n",
       " 'remainder__Structured Thinking Based on the PPT Question',\n",
       " 'remainder__Structured Thinking( Call pitch)',\n",
       " 'remainder__Regional fluency based on the topic given ',\n",
       " 'remainder__Regional fluency Based on the PPT Question',\n",
       " 'remainder__Regional fluency based on the  sales scenario',\n",
       " 'remainder__Confidence Score',\n",
       " 'remainder__Structured Thinking Score',\n",
       " 'remainder__Regional Fluency Score',\n",
       " 'remainder__Total Score',\n",
       " 'remainder__id']"
      ]
     },
     "execution_count": 75,
     "metadata": {},
     "output_type": "execute_result"
    }
   ],
   "source": [
    "df.columns.tolist()"
   ]
  },
  {
   "cell_type": "code",
   "execution_count": null,
   "id": "d673f36b-32e4-4a9f-9289-992471311ec2",
   "metadata": {},
   "outputs": [],
   "source": [
    "df.columns = df.columns.str.replace(r'^remainder__', '', regex=True)"
   ]
  },
  {
   "cell_type": "code",
   "execution_count": null,
   "id": "c46a4ae8-3759-49fb-9a9f-aa3166ed56bd",
   "metadata": {},
   "outputs": [],
   "source": [
    "df.info()"
   ]
  },
  {
   "cell_type": "code",
   "execution_count": null,
   "id": "69d7086e-d89a-41e8-82de-4001e503faea",
   "metadata": {},
   "outputs": [],
   "source": [
    "df.head(2)"
   ]
  },
  {
   "cell_type": "code",
   "execution_count": null,
   "id": "5a207bc8-ce31-42de-a9fd-aeea5699d84a",
   "metadata": {},
   "outputs": [],
   "source": [
    "numerical_df = df[['id','Interview Verdict']]\n",
    "df.drop(['id','Interview Verdict'], axis=1, inplace=True)"
   ]
  },
  {
   "cell_type": "markdown",
   "id": "f6827ba5-cdc0-4744-a6c3-80bb5825be98",
   "metadata": {},
   "source": [
    "## Feature Scaling"
   ]
  },
  {
   "cell_type": "code",
   "execution_count": null,
   "id": "62a35e55-8811-4a97-9a23-721de3f2ff47",
   "metadata": {},
   "outputs": [],
   "source": [
    "scaler = StandardScaler()\n",
    "scaler"
   ]
  },
  {
   "cell_type": "code",
   "execution_count": null,
   "id": "74bcaef0-1aee-451a-bc2e-f8891ed1e5df",
   "metadata": {},
   "outputs": [],
   "source": [
    "scaled_data = scaler.fit_transform(df)\n",
    "df = pd.DataFrame(df, columns=scaler.get_feature_names_out())"
   ]
  },
  {
   "cell_type": "code",
   "execution_count": null,
   "id": "a0d5320c-e465-49f3-9fb7-5a440ff7474e",
   "metadata": {},
   "outputs": [],
   "source": [
    "type(df)"
   ]
  },
  {
   "cell_type": "code",
   "execution_count": null,
   "id": "2da750eb-69a4-44f5-b2d4-0d43c26d7a2a",
   "metadata": {},
   "outputs": [],
   "source": [
    "df.head()"
   ]
  },
  {
   "cell_type": "markdown",
   "id": "163ae385-da98-43b1-9716-7e40eeeafd1b",
   "metadata": {},
   "source": [
    "# Principal Component Analysis(PCA) for Dimensionality Reduction\n",
    "**Required to reduce the number of features**"
   ]
  },
  {
   "cell_type": "code",
   "execution_count": null,
   "id": "491f6265-5ffc-4e60-abe2-75c4333e3529",
   "metadata": {},
   "outputs": [],
   "source": [
    "# pca = PCA(n_components=0.98)\n",
    "# df = pca.fit_transform(df)"
   ]
  },
  {
   "cell_type": "code",
   "execution_count": null,
   "id": "cfdbb414-689c-44b7-80ee-9851d484ef61",
   "metadata": {},
   "outputs": [],
   "source": [
    "# type(df)"
   ]
  },
  {
   "cell_type": "code",
   "execution_count": null,
   "id": "6972c1f3-0677-46ae-89bf-7bcd53e783ca",
   "metadata": {},
   "outputs": [],
   "source": [
    "# df = pd.DataFrame(df, columns=pca.get_feature_names_out())"
   ]
  },
  {
   "cell_type": "code",
   "execution_count": null,
   "id": "5c53142c-9fef-4e28-8755-4f9ea47dc6f6",
   "metadata": {},
   "outputs": [],
   "source": [
    "# type(df)"
   ]
  },
  {
   "cell_type": "code",
   "execution_count": null,
   "id": "f88ee962-efbb-473e-a15e-c6078595e543",
   "metadata": {},
   "outputs": [],
   "source": [
    "# df.shape"
   ]
  },
  {
   "cell_type": "code",
   "execution_count": null,
   "id": "d2c9a170-92fc-4e36-bbfd-3170c4e16871",
   "metadata": {},
   "outputs": [],
   "source": [
    "df.head()"
   ]
  },
  {
   "cell_type": "code",
   "execution_count": null,
   "id": "7c797fe0-537b-41d4-87ed-ceb759cdd19a",
   "metadata": {},
   "outputs": [],
   "source": [
    "numerical_df.shape"
   ]
  },
  {
   "cell_type": "code",
   "execution_count": null,
   "id": "798c52ff-ffd5-4c87-b732-4a496d06e279",
   "metadata": {},
   "outputs": [],
   "source": [
    "df.shape"
   ]
  },
  {
   "cell_type": "code",
   "execution_count": null,
   "id": "9b9f49fc-e5c0-41d0-8fba-cbc9e8b620dc",
   "metadata": {},
   "outputs": [],
   "source": [
    "df = df.join(numerical_df, how='inner')"
   ]
  },
  {
   "cell_type": "code",
   "execution_count": null,
   "id": "c8d1402c-3c04-41e3-8495-86efe82c049c",
   "metadata": {},
   "outputs": [],
   "source": [
    "df.shape"
   ]
  },
  {
   "cell_type": "code",
   "execution_count": null,
   "id": "a28e78c7-b7ad-4331-95b6-d2469df2ff77",
   "metadata": {},
   "outputs": [],
   "source": [
    "df['id'] = df['id'].astype(int)\n",
    "df['Interview Verdict'] = df['Interview Verdict'].astype(int)"
   ]
  },
  {
   "cell_type": "code",
   "execution_count": null,
   "id": "dc6c0e89-a2f8-4e43-82eb-26f674a40766",
   "metadata": {},
   "outputs": [],
   "source": [
    "df.head()"
   ]
  },
  {
   "cell_type": "code",
   "execution_count": null,
   "id": "c4153cfc-c83a-4c0f-903a-29fba24e18ec",
   "metadata": {},
   "outputs": [],
   "source": [
    "y = df['Interview Verdict']\n",
    "X = df\n",
    "X.drop(['Interview Verdict','id'], axis=1, inplace=True)"
   ]
  },
  {
   "cell_type": "code",
   "execution_count": null,
   "id": "4ae8eb66-be7b-4641-a703-551be1ab5131",
   "metadata": {},
   "outputs": [],
   "source": [
    "X.head()"
   ]
  },
  {
   "cell_type": "code",
   "execution_count": null,
   "id": "dbb01486-857a-433a-a7ff-07ffd79ff2bd",
   "metadata": {},
   "outputs": [],
   "source": [
    "X.columns.tolist()"
   ]
  },
  {
   "cell_type": "code",
   "execution_count": null,
   "id": "b4af128c-c0d2-49ba-b990-cb12ddc1f68e",
   "metadata": {},
   "outputs": [],
   "source": [
    "len(X.columns)"
   ]
  },
  {
   "cell_type": "code",
   "execution_count": null,
   "id": "0a093909-c169-4ac1-9467-51bda3f869a2",
   "metadata": {},
   "outputs": [],
   "source": [
    "y.head()"
   ]
  },
  {
   "cell_type": "markdown",
   "id": "102de17c-71ba-4b8f-a2d6-ea74fd749c74",
   "metadata": {},
   "source": [
    "<hr style=\"border: 2px dashed yellow;\">"
   ]
  },
  {
   "cell_type": "markdown",
   "id": "225c736e-81f7-4967-8a0c-285e80f2698d",
   "metadata": {},
   "source": [
    "## Data Splitting"
   ]
  },
  {
   "cell_type": "code",
   "execution_count": null,
   "id": "c33b5ee8-06d3-4385-8f5f-ace0f54c8ea8",
   "metadata": {},
   "outputs": [],
   "source": [
    "X_train, X_test, y_train, y_test = train_test_split(X, y, test_size=0.2, random_state=42)"
   ]
  },
  {
   "cell_type": "code",
   "execution_count": null,
   "id": "3d5aa308-9826-4256-bc27-a35e1d0dc1d6",
   "metadata": {},
   "outputs": [],
   "source": [
    "print(f'Length of X_train: {len(X_train)}')\n",
    "print(f'Length of X_test: {len(X_test)}')\n",
    "print(f'Length of y_train: {len(y_train)}')\n",
    "print(f'Length of y_test: {len(X_test)}')"
   ]
  },
  {
   "cell_type": "code",
   "execution_count": null,
   "id": "297722c1-53c3-4423-865c-03f81fbb6c5b",
   "metadata": {},
   "outputs": [],
   "source": [
    "type(X_train), type(y_train)"
   ]
  },
  {
   "cell_type": "code",
   "execution_count": null,
   "id": "65ae4464-5adf-40cd-abc6-b879d06a018e",
   "metadata": {},
   "outputs": [],
   "source": [
    "X_train_index = X_train.index\n",
    "X_test_index = X_test.index"
   ]
  },
  {
   "cell_type": "markdown",
   "id": "3d265b53-9db6-47c5-872a-769cd143388b",
   "metadata": {},
   "source": [
    "## Model Training (Using basic ML Models)"
   ]
  },
  {
   "cell_type": "code",
   "execution_count": null,
   "id": "5fec7723-5a69-4baa-8387-a89e7a839452",
   "metadata": {},
   "outputs": [],
   "source": [
    "model_rf = RandomForestClassifier()\n",
    "model_rf.fit(X_train, y_train)"
   ]
  },
  {
   "cell_type": "code",
   "execution_count": null,
   "id": "e0857e3e-2645-4d43-995c-2e7226c0e5d6",
   "metadata": {},
   "outputs": [],
   "source": [
    "y_pred_rf = model_rf.predict(X_test)\n",
    "len(y_pred_rf)"
   ]
  },
  {
   "cell_type": "code",
   "execution_count": null,
   "id": "b57ab95a-fd0f-48fa-be21-b880f1b20dca",
   "metadata": {},
   "outputs": [],
   "source": [
    "# Accuracy\n",
    "accuracy_rf = accuracy_score(y_test, y_pred_rf)*100\n",
    "print(f\"Accuracy is {accuracy_rf:.2f}%\")"
   ]
  },
  {
   "cell_type": "code",
   "execution_count": null,
   "id": "802ed88b-55c6-44ab-8346-4f5f32ea8d7d",
   "metadata": {},
   "outputs": [],
   "source": [
    "## Dataset"
   ]
  },
  {
   "cell_type": "code",
   "execution_count": null,
   "id": "62794041-95c0-4521-aa01-861b9ab7644b",
   "metadata": {},
   "outputs": [],
   "source": [
    "X_train_tensor = torch.tensor(X_train.values, dtype=torch.float32)\n",
    "X_test_tensor = torch.tensor(X_test.values, dtype=torch.float32)\n",
    "y_train_tensor = torch.tensor(y_train.values, dtype=torch.float32)\n",
    "y_test_tensor = torch.tensor(y_test.values, dtype=torch.float32)"
   ]
  },
  {
   "cell_type": "code",
   "execution_count": null,
   "id": "0a388fb4-82b5-4b1c-b274-0b7f320a14ae",
   "metadata": {},
   "outputs": [],
   "source": [
    "class CandidateDataset(Dataset):\n",
    "    def __init__(self, features, labels):\n",
    "        self.features = features\n",
    "        self.labels = labels\n",
    "\n",
    "    def __len__(self):\n",
    "        return len(self.labels)\n",
    "\n",
    "    def __getitem__(self, idx):\n",
    "        return self.features[idx], self.labels[idx]"
   ]
  },
  {
   "cell_type": "code",
   "execution_count": null,
   "id": "4f181259-710e-41c5-8fe1-35565eba6853",
   "metadata": {},
   "outputs": [],
   "source": [
    "train_data = CandidateDataset(X_train_tensor, y_train_tensor)\n",
    "test_data = CandidateDataset(X_test_tensor, y_test_tensor)"
   ]
  },
  {
   "cell_type": "code",
   "execution_count": null,
   "id": "a40dc8fa-deab-4d62-bbcb-8d0aed5a6668",
   "metadata": {},
   "outputs": [],
   "source": [
    "X_train.shape[1]"
   ]
  },
  {
   "cell_type": "code",
   "execution_count": null,
   "id": "f719caef-7824-4b83-9f1d-c6e47d288e96",
   "metadata": {},
   "outputs": [],
   "source": [
    "y_train.head()"
   ]
  },
  {
   "cell_type": "markdown",
   "id": "bfeb8340-6b8a-48f7-8620-656c57baa079",
   "metadata": {},
   "source": [
    "## DataLoader"
   ]
  },
  {
   "cell_type": "code",
   "execution_count": null,
   "id": "263009a0-aafe-4850-874a-0997d054b710",
   "metadata": {},
   "outputs": [],
   "source": [
    "BATCH_SIZE = 16"
   ]
  },
  {
   "cell_type": "code",
   "execution_count": null,
   "id": "417e82b0-ef23-433c-a20a-1dd19efc8059",
   "metadata": {},
   "outputs": [],
   "source": [
    "train_dataloader = DataLoader(train_data, batch_size=BATCH_SIZE, shuffle=True)\n",
    "test_dataloader = DataLoader(test_data, batch_size=BATCH_SIZE, shuffle=True)"
   ]
  },
  {
   "cell_type": "code",
   "execution_count": null,
   "id": "bd99a687-912e-44a7-9ec5-6fd09e291739",
   "metadata": {},
   "outputs": [],
   "source": [
    "len(train_data), len(test_data)"
   ]
  },
  {
   "cell_type": "code",
   "execution_count": null,
   "id": "294480cf-328e-4129-9a38-cf4084984777",
   "metadata": {},
   "outputs": [],
   "source": [
    "len(train_dataloader), len(test_dataloader)"
   ]
  },
  {
   "cell_type": "markdown",
   "id": "8861e22a-0ad3-4570-8db8-c8e1f940a407",
   "metadata": {},
   "source": [
    "## Define a Model"
   ]
  },
  {
   "cell_type": "code",
   "execution_count": null,
   "id": "fed8c262-5abb-409e-921d-38f09c2dbf42",
   "metadata": {},
   "outputs": [],
   "source": [
    "# class HybridRecommender(nn.Module):\n",
    "#     def __init__(self, input_dim):\n",
    "#         super(HybridRecommender, self).__init__()\n",
    "        \n",
    "#         self.network = nn.Sequential(\n",
    "#             nn.Linear(input_dim, 128),\n",
    "#             nn.BatchNorm1d(128),\n",
    "#             nn.LeakyReLU(negative_slope=0.01),\n",
    "#             nn.Dropout(p=0.3),\n",
    "\n",
    "#             nn.Linear(128, 64),\n",
    "#             nn.BatchNorm1d(64),\n",
    "#             nn.LeakyReLU(negative_slope=0.01),\n",
    "#             nn.Dropout(p=0.3),\n",
    "\n",
    "#             nn.Linear(64, 32),\n",
    "#             nn.LeakyReLU(negative_slope=0.01),\n",
    "\n",
    "#             nn.Linear(32, 1),\n",
    "#             # nn.Sigmoid()\n",
    "#         )\n",
    "\n",
    "#     def forward(self, x):\n",
    "#         return self.network(x).squeeze()"
   ]
  },
  {
   "cell_type": "code",
   "execution_count": null,
   "id": "b9cdc954-2922-46bb-a837-cb141090a151",
   "metadata": {},
   "outputs": [],
   "source": [
    "class HybridRecommender(nn.Module):\n",
    "    def __init__(self, input_size, hidden_units):\n",
    "        super(HybridRecommender, self).__init__()\n",
    "        \n",
    "        # Fully Connected Layers\n",
    "        self.fc1 = nn.Linear(input_size, hidden_units)        # Input layer\n",
    "        self.fc2 = nn.Linear(hidden_units, hidden_units // 2) # Hidden layer\n",
    "        self.fc3 = nn.Linear(hidden_units // 2, 1)            # Output layer \n",
    "\n",
    "        # Activation Functions & Regularization\n",
    "        self.dropout = nn.Dropout(0.3)\n",
    "        self.batchnorm1 = nn.BatchNorm1d(hidden_units)\n",
    "        self.batchnorm2 = nn.BatchNorm1d(hidden_units // 2)\n",
    "\n",
    "    def forward(self, x):\n",
    "        # x = F.relu(self.fc1(x))\n",
    "        # x = self.batchnorm1(x)\n",
    "        # x = self.dropout(x)\n",
    "\n",
    "        # x = F.relu(self.fc2(x))\n",
    "        # x = self.batchnorm2(x)\n",
    "        # x = self.dropout(x)\n",
    "\n",
    "        # # x = torch.sigmoid(self.fc3(x)).squeeze()  # Binary Classification Output\n",
    "        # x = self.fc3(x).squeeze()\n",
    "        # return x\n",
    "\n",
    "        x = self.fc1(x)\n",
    "        x = self.batchnorm1(x)  # Apply BN before activation\n",
    "        x = F.relu(x)\n",
    "        x = self.dropout(x)\n",
    "    \n",
    "        x = self.fc2(x)\n",
    "        x = self.batchnorm2(x)\n",
    "        x = F.relu(x)\n",
    "        x = self.dropout(x)\n",
    "    \n",
    "        return self.fc3(x).squeeze() "
   ]
  },
  {
   "cell_type": "code",
   "execution_count": null,
   "id": "06a4bc5e-a768-40f3-ab2b-d1c6196b8dda",
   "metadata": {},
   "outputs": [],
   "source": [
    "''' Initializing the model '''\n",
    "input_size = X_train.shape[1]\n",
    "hidden_units = 128\n",
    "\n",
    "model_0 = HybridRecommender(input_size, hidden_units)\n",
    "# model_0 = HybridRecommender(input_size)\n",
    "# model_0.to(device)"
   ]
  },
  {
   "cell_type": "code",
   "execution_count": null,
   "id": "b27e4af8-7731-4f22-858c-d5164e45995d",
   "metadata": {},
   "outputs": [],
   "source": [
    "''' Important Parameters '''\n",
    "learning_rate = 0.001\n",
    "epochs = 15"
   ]
  },
  {
   "cell_type": "code",
   "execution_count": null,
   "id": "a971318e-215a-4725-b1e0-57e8d3495a7f",
   "metadata": {},
   "outputs": [],
   "source": [
    "''' Loss Function and Optimizer '''\n",
    "loss_function = nn.BCEWithLogitsLoss()\n",
    "optimizer = torch.optim.Adam(model_0.parameters(), lr=learning_rate)"
   ]
  },
  {
   "cell_type": "markdown",
   "id": "2a881421-7904-4fce-80a1-db63928b04b8",
   "metadata": {},
   "source": [
    "## Training Loop"
   ]
  },
  {
   "cell_type": "code",
   "execution_count": null,
   "id": "463844d8-cfd0-44ea-bbad-d419c2fd5e00",
   "metadata": {},
   "outputs": [],
   "source": [
    "def train_step(model:torch.nn.Module,\n",
    "              dataloader:torch.utils.data.DataLoader,\n",
    "              loss_function:torch.nn.Module,\n",
    "              optimizer:torch.optim.Optimizer,\n",
    "              accuracy,\n",
    "              device:torch.device):\n",
    "\n",
    "    train_loss, train_acc = 0,0\n",
    "    model.train()\n",
    "\n",
    "    for features, labels in dataloader:\n",
    "        X, y = features.to(device), labels.to(device)\n",
    "        # Forward Pass\n",
    "        # y_pred = model(X)\n",
    "        y_logits = model(X).squeeze()\n",
    "        # y_pred = torch.round(torch.sigmoid(y_logits))\n",
    "        y_pred = (y_logits > 0).float()\n",
    "\n",
    "        # Calculate Loss and Accuracy per batch\n",
    "        # loss = loss_function(y_pred, y)\n",
    "        loss = loss_function(y_logits, y)\n",
    "        train_loss += loss.item()\n",
    "        train_acc += accuracy(y, y_pred).item()*100\n",
    "\n",
    "        # Set gradients to zero\n",
    "        optimizer.zero_grad()\n",
    "\n",
    "        # Back Propogation\n",
    "        loss.backward()\n",
    "\n",
    "        # Update the Parameters\n",
    "        optimizer.step()\n",
    "\n",
    "    train_loss /= len(dataloader)\n",
    "    train_acc /= len(dataloader)\n",
    "\n",
    "    return train_loss, train_acc"
   ]
  },
  {
   "cell_type": "markdown",
   "id": "1b427376-36a6-4d13-8428-1ade67188565",
   "metadata": {},
   "source": [
    "## Testing Loop"
   ]
  },
  {
   "cell_type": "code",
   "execution_count": null,
   "id": "25f4a985-971f-425f-9eb2-a31ddb00eaac",
   "metadata": {},
   "outputs": [],
   "source": [
    "def test_step(model:torch.nn.Module,\n",
    "             dataloader:torch.utils.data.DataLoader,\n",
    "             loss_function:torch.nn.Module,\n",
    "             accuracy,\n",
    "             device:torch.device):\n",
    "\n",
    "    test_loss, test_acc = 0,0\n",
    "\n",
    "    model.eval()\n",
    "    with torch.inference_mode():\n",
    "        for features, labels in dataloader:\n",
    "            X, y = features.to(device), labels.to(device)\n",
    "            # Forward Pass\n",
    "            # test_pred = model(X)\n",
    "            test_logits = model(X).squeeze()\n",
    "            # test_pred = torch.round(torch.sigmoid(test_logits))\n",
    "            test_pred = (test_logits > 0).float()\n",
    "            \n",
    "            # Calculate Loss and Accuracy per batch\n",
    "            loss = loss_function(test_logits, y)\n",
    "            test_loss += loss.item()\n",
    "            test_acc += accuracy(y, test_pred).item()*100\n",
    "\n",
    "        test_loss /= len(dataloader)\n",
    "        test_acc /= len(dataloader)\n",
    "\n",
    "        return test_loss, test_acc"
   ]
  },
  {
   "cell_type": "markdown",
   "id": "f704aedb-175a-49c6-9bb4-e55f32363ea9",
   "metadata": {},
   "source": [
    "## Combining Training and Testing Loop into evaluate()"
   ]
  },
  {
   "cell_type": "code",
   "execution_count": null,
   "id": "11b58eb4-5aa1-4123-acc7-3a4a6f03ef92",
   "metadata": {},
   "outputs": [],
   "source": [
    "def evaluate(model:torch.nn.Module,\n",
    "             train_dataloader:torch.utils.data.DataLoader,\n",
    "             test_dataloader:torch.utils.data.DataLoader,\n",
    "             loss_function:torch.nn.Module,\n",
    "             optimizer:torch.optim.Optimizer,\n",
    "             accuracy,\n",
    "             device:torch.device,\n",
    "             epochs:int = 5):\n",
    "\n",
    "    model.to(device)\n",
    "    # Create empty result dictionary\n",
    "    results = {'train_loss':[],\n",
    "              'train_acc':[],\n",
    "              'test_loss':[],\n",
    "              'test_acc':[]}\n",
    "\n",
    "    # Loop through training and testing steps for the number of epochs\n",
    "    for epoch in range(epochs):\n",
    "        train_loss, train_acc = train_step(model=model,\n",
    "                                          dataloader=train_dataloader,\n",
    "                                          loss_function=loss_function,\n",
    "                                          optimizer=optimizer,\n",
    "                                          accuracy=accuracy,\n",
    "                                          device=device)\n",
    "        \n",
    "        test_loss, test_acc = test_step(model=model,\n",
    "                                          dataloader=test_dataloader,\n",
    "                                          loss_function=loss_function,\n",
    "                                          accuracy=accuracy,\n",
    "                                          device=device)\n",
    "\n",
    "        print(f'Training Loss: {train_loss:.5f} | Training Accuracy: {train_acc:.2f}% | Testing Loss: {test_loss:.5f} | Testing Accuracy: {test_acc:.2f}%')      \n",
    "\n",
    "        results['train_loss'].append(train_loss)\n",
    "        results['train_acc'].append(train_acc)\n",
    "        results['test_loss'].append(test_loss)\n",
    "        results['test_acc'].append(test_acc)\n",
    "\n",
    "    return results"
   ]
  },
  {
   "cell_type": "code",
   "execution_count": null,
   "id": "d4f67a82-4307-45b9-a968-79955120ea72",
   "metadata": {},
   "outputs": [],
   "source": [
    "torch.manual_seed(42)\n",
    "accuracy = Accuracy(task='binary').to(device)\n",
    "\n",
    "model_0_results = evaluate(model=model_0,\n",
    "                        train_dataloader=train_dataloader,\n",
    "                        test_dataloader=test_dataloader,\n",
    "                        loss_function=loss_function,\n",
    "                        optimizer=optimizer,\n",
    "                        accuracy=accuracy,\n",
    "                        device=device,\n",
    "                        epochs=epochs)"
   ]
  },
  {
   "cell_type": "markdown",
   "id": "7e08ef63-388b-436b-87b1-01e5a69db526",
   "metadata": {},
   "source": [
    "## Loss and Accuracy Curves"
   ]
  },
  {
   "cell_type": "code",
   "execution_count": null,
   "id": "fd79cdeb-4ed1-4731-8154-0f859fedc684",
   "metadata": {},
   "outputs": [],
   "source": [
    "plt.figure(figsize=(15,5))\n",
    "epochs = range(len(model_0_results['train_loss']))\n",
    "\n",
    "plt.subplot(1,2,1)\n",
    "plt.plot(epochs, model_0_results['train_loss'], label='Training Loss')\n",
    "plt.plot(epochs, model_0_results['test_loss'], label='Testing Loss')\n",
    "plt.xlabel('Epochs')\n",
    "plt.ylabel('Loss')\n",
    "plt.title('Training Vs Testing Loss')\n",
    "plt.legend()\n",
    "\n",
    "plt.subplot(1,2,2)\n",
    "plt.plot(epochs, model_0_results['train_acc'], label='Training Accuracy')\n",
    "plt.plot(epochs, model_0_results['test_acc'], label='Testing Accuracy')\n",
    "plt.xlabel('Epochs')\n",
    "plt.ylabel('Accuracy')\n",
    "plt.title('Training Vs Testing Accuracy')\n",
    "plt.legend()\n",
    "\n",
    "plt.show()"
   ]
  },
  {
   "cell_type": "markdown",
   "id": "6c33e097-2f82-4a51-9452-c08c54a4d57a",
   "metadata": {},
   "source": [
    "## Recommending Top 5 Candidates"
   ]
  },
  {
   "cell_type": "code",
   "execution_count": null,
   "id": "35ab1043-7e3e-4b71-b416-ffc07f0157d2",
   "metadata": {},
   "outputs": [],
   "source": [
    "print(X_test_tensor) "
   ]
  },
  {
   "cell_type": "code",
   "execution_count": null,
   "id": "ab0d3cc7-8d15-4865-8858-adbeb7f8c145",
   "metadata": {},
   "outputs": [],
   "source": [
    "employer_pref = np.array([[1,0,0, # Fluency\n",
    "                           0,1,0, #  Candidate Status\n",
    "                           1,0,0,0,0,0,\n",
    "                          1,0, # t1 What was the type of Role?\n",
    "                          0,0,2,1,4, # t2,3,4,5,6\n",
    "                           1,1,1,1,0,1,1,\n",
    "                           2,3,2,3,3,3,3,3,1,3,10,9,7,52 #  Score\n",
    "                          ]])"
   ]
  },
  {
   "cell_type": "code",
   "execution_count": null,
   "id": "5b06a80f-f1da-4ecb-91dc-9e05c9cfe993",
   "metadata": {},
   "outputs": [],
   "source": [
    "3+3+6+2+5+7+14"
   ]
  },
  {
   "cell_type": "code",
   "execution_count": null,
   "id": "88bc7a9e-1f05-4ddd-a406-c33d777eb7e6",
   "metadata": {},
   "outputs": [],
   "source": [
    "employer_pref_scaled = scaler.transform(employer_pref)\n",
    "\n",
    "# Convert to PyTorch Tensor\n",
    "employer_pref_tensor = torch.tensor(employer_pref_scaled, dtype=torch.float32)"
   ]
  },
  {
   "cell_type": "code",
   "execution_count": null,
   "id": "04606404-71f5-4b08-bfea-385c6270a7b3",
   "metadata": {},
   "outputs": [],
   "source": [
    "employer_pref_tensor.shape, X_test_tensor.shape"
   ]
  },
  {
   "cell_type": "code",
   "execution_count": null,
   "id": "b7fe7c0d-3715-4715-8a36-496b05de0093",
   "metadata": {},
   "outputs": [],
   "source": [
    "with torch.no_grad():\n",
    "    scores = F.cosine_similarity(employer_pref_tensor, X_test_tensor)\n",
    "\n",
    "    ranking_df = pd.DataFrame({\n",
    "        'id':X_test_index,\n",
    "        'score':scores\n",
    "    })\n",
    "\n",
    "    ranked_candidates = ranking_df.sort_values(by='score', ascending=False)\n",
    "    print(ranked_candidates[['id','score']].head())\n",
    "    print(type(ranked_candidates))"
   ]
  }
 ],
 "metadata": {
  "kernelspec": {
   "display_name": "Python 3 (ipykernel)",
   "language": "python",
   "name": "python3"
  },
  "language_info": {
   "codemirror_mode": {
    "name": "ipython",
    "version": 3
   },
   "file_extension": ".py",
   "mimetype": "text/x-python",
   "name": "python",
   "nbconvert_exporter": "python",
   "pygments_lexer": "ipython3",
   "version": "3.12.7"
  }
 },
 "nbformat": 4,
 "nbformat_minor": 5
}
