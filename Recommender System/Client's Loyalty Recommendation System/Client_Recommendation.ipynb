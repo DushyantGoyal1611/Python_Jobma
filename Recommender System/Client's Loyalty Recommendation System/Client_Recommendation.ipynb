{
 "cells": [
  {
   "cell_type": "code",
   "execution_count": 3,
   "id": "e8ccf07e-538e-4c03-9688-560ea40050ef",
   "metadata": {},
   "outputs": [],
   "source": [
    "import pandas as pd\n",
    "import numpy as np\n",
    "import matplotlib.pyplot as plt\n",
    "import seaborn as sns\n",
    "import warnings\n",
    "\n",
    "# Torch\n",
    "import torch\n",
    "import torch.nn as nn\n",
    "from torch.utils.data import Dataset, DataLoader\n",
    "import torch.nn.functional as F\n",
    "\n",
    "# Data Encoding and Scaling\n",
    "from sklearn.preprocessing import LabelEncoder, OrdinalEncoder, RobustScaler, StandardScaler, FunctionTransformer\n",
    "from sklearn.model_selection import train_test_split\n",
    "from sklearn.decomposition import PCA\n",
    "\n",
    "# Pipeline\n",
    "from sklearn.pipeline import Pipeline\n",
    "from sklearn import set_config\n",
    "\n",
    "# Clustering\n",
    "from sklearn.cluster import KMeans\n",
    "from sklearn.metrics import silhouette_score\n",
    "from sklearn.manifold import TSNE"
   ]
  },
  {
   "cell_type": "code",
   "execution_count": 4,
   "id": "a3bc42fe-c32c-40aa-b889-5fb40492feee",
   "metadata": {},
   "outputs": [],
   "source": [
    "warnings.filterwarnings('ignore')"
   ]
  },
  {
   "cell_type": "code",
   "execution_count": 5,
   "id": "578aaba3-dea2-468c-a1d3-9e6b0db0488e",
   "metadata": {},
   "outputs": [
    {
     "data": {
      "text/plain": [
       "'cpu'"
      ]
     },
     "execution_count": 5,
     "metadata": {},
     "output_type": "execute_result"
    }
   ],
   "source": [
    "device = 'cuda' if torch.cuda.is_available() else 'cpu'\n",
    "device"
   ]
  },
  {
   "cell_type": "code",
   "execution_count": 6,
   "id": "bc7326f4-8f79-4ca5-b806-f48b82da7821",
   "metadata": {},
   "outputs": [],
   "source": [
    "# df = pd.read_csv('extracted_data1.csv')\n",
    "df = pd.read_csv('test_data.csv')"
   ]
  },
  {
   "cell_type": "code",
   "execution_count": 7,
   "id": "2f84ce29-b801-4107-94d2-3a193d70e1c6",
   "metadata": {},
   "outputs": [
    {
     "data": {
      "text/plain": [
       "(6116, 32)"
      ]
     },
     "execution_count": 7,
     "metadata": {},
     "output_type": "execute_result"
    }
   ],
   "source": [
    "df.shape"
   ]
  },
  {
   "cell_type": "code",
   "execution_count": 8,
   "id": "5591f7d1-15a3-417e-86e8-e7c49c4bac0e",
   "metadata": {},
   "outputs": [],
   "source": [
    "df.drop(['credit_amount',\n",
    "         'subscription_type_y'], axis=1, inplace=True)"
   ]
  },
  {
   "cell_type": "code",
   "execution_count": 9,
   "id": "c8f7ad4c-441a-4ff1-bb49-66ea185d73aa",
   "metadata": {},
   "outputs": [],
   "source": [
    "''' Filled all the null values before encoding the data '''\n",
    "\n",
    "for col in df.columns:\n",
    "    if df[col].dtype == np.int64:\n",
    "        df[col].fillna(0, inplace=True)\n",
    "    elif df[col].dtype == np.float64:\n",
    "        df[col].fillna(0.0, inplace=True)\n",
    "    elif df[col].dtype == object:\n",
    "        unique_vals = df[col].dropna().unique()\n",
    "        if set(unique_vals).issubset({'Yes', 'No'}):\n",
    "            df[col].fillna('No', inplace=True)\n",
    "        else:\n",
    "            df[col].fillna('Unknown', inplace=True)"
   ]
  },
  {
   "cell_type": "code",
   "execution_count": 10,
   "id": "2bbc669c-8847-4584-b1cc-612f98032a56",
   "metadata": {},
   "outputs": [
    {
     "name": "stdout",
     "output_type": "stream",
     "text": [
      "<class 'pandas.core.frame.DataFrame'>\n",
      "RangeIndex: 6116 entries, 0 to 6115\n",
      "Data columns (total 30 columns):\n",
      " #   Column                         Non-Null Count  Dtype  \n",
      "---  ------                         --------------  -----  \n",
      " 0   jobma_catcher_id               6116 non-null   int64  \n",
      " 1   org_type                       6116 non-null   float64\n",
      " 2   jobma_catcher_industry         6116 non-null   object \n",
      " 3   jobma_catcher_type             6116 non-null   int64  \n",
      " 4   is_premium                     6116 non-null   float64\n",
      " 5   jobma_catcher_sub_accounts     6116 non-null   int64  \n",
      " 6   jobma_catcher_is_deleted       6116 non-null   object \n",
      " 7   jobma_verified                 6116 non-null   int64  \n",
      " 8   subscription_status            6116 non-null   int64  \n",
      " 9   interview_rate                 6116 non-null   float64\n",
      " 10  live_interview_credit          6116 non-null   float64\n",
      " 11  pre_recorded_credit            6116 non-null   float64\n",
      " 12  credit_value                   6116 non-null   int64  \n",
      " 13  interview_cost_type            6116 non-null   int64  \n",
      " 14  subscription_type_x            6116 non-null   int64  \n",
      " 15  jobma_support_rtc              6116 non-null   int64  \n",
      " 16  interview_question             6116 non-null   int64  \n",
      " 17  video_recording_suppport       6116 non-null   int64  \n",
      " 18  sing_up_canditate_after_apply  6116 non-null   int64  \n",
      " 19  currency                       6116 non-null   float64\n",
      " 20  company_size                   6116 non-null   object \n",
      " 21  wallet_amount                  6116 non-null   float64\n",
      " 22  plan_type                      6116 non-null   object \n",
      " 23  is_unlimited                   6116 non-null   object \n",
      " 24  premium_storage                6116 non-null   float64\n",
      " 25  subscription_amount            6116 non-null   float64\n",
      " 26  number_of_subscriptions        6116 non-null   float64\n",
      " 27  number_of_invitations          6116 non-null   float64\n",
      " 28  job_posted                     6116 non-null   float64\n",
      " 29  number_of_kits                 6116 non-null   float64\n",
      "dtypes: float64(13), int64(12), object(5)\n",
      "memory usage: 1.4+ MB\n"
     ]
    }
   ],
   "source": [
    "df.info()"
   ]
  },
  {
   "cell_type": "code",
   "execution_count": 11,
   "id": "d4c2366f-8381-4da6-a291-336963455e69",
   "metadata": {},
   "outputs": [],
   "source": [
    "''' This Function is to fill all missing values (if col is int then 0, if col is float then 0.0 and if col is object then 'Unkmown') '''\n",
    "\n",
    "def fill_missing_values(df):\n",
    "    df = df.copy()\n",
    "    if df[col].dtype == np.int64:\n",
    "        df[col].fillna(0, inplace=True)\n",
    "    elif df[col].dtype == np.float64:\n",
    "        df[col].fillna(0.0, inplace=True)\n",
    "    elif df[col].dtype == object:\n",
    "        unique_vals = df[col].dropna().unique()\n",
    "        if set(unique_vals).issubset({'Yes', 'No'}):\n",
    "            df[col].fillna('No', inplace=True)\n",
    "        else:\n",
    "            df[col].fillna('Unknown', inplace=True)\n",
    "    return df"
   ]
  },
  {
   "cell_type": "markdown",
   "id": "b61702ef-76ed-459d-a3d4-b8eab5a3849c",
   "metadata": {},
   "source": [
    "# Data Encoding"
   ]
  },
  {
   "cell_type": "code",
   "execution_count": 13,
   "id": "0cb1fa92-aa32-4db6-b6f2-33a3d7488aea",
   "metadata": {},
   "outputs": [],
   "source": [
    "label_encoders = {}\n",
    "label_col = ['jobma_catcher_industry', 'org_type']\n",
    "\n",
    "def label_encoder(df):\n",
    "    for col in label_col:\n",
    "        if col in df.columns:\n",
    "            if df[col].dtype == object or df[col].dtype.name == 'category':\n",
    "                le_col = LabelEncoder()\n",
    "                df[col] = le_col.fit_transform(df[col].astype(str))\n",
    "                label_encoders = le_col\n",
    "\n",
    "    return df"
   ]
  },
  {
   "cell_type": "code",
   "execution_count": 14,
   "id": "5033106e-b841-47cd-9276-ce1b1f7d082e",
   "metadata": {},
   "outputs": [],
   "source": [
    "def ordinal_encoder(df):\n",
    "    ordinal_col = ['jobma_catcher_is_deleted', 'company_size', 'plan_type', 'is_unlimited']\n",
    "    \n",
    "    is_deleted_order = ['Yes', 'No']\n",
    "    company_size_order = ['Unknown', '1-25', '26-100', '101-500', '500-1000', 'More than 1000']\n",
    "    plan_type_order = ['Unknown', 'No', 'Yes']\n",
    "    is_unlimited_order = ['Unknown', 'No', 'Yes']\n",
    "\n",
    "    ordinal_order = [is_deleted_order, company_size_order, plan_type_order, is_unlimited_order]\n",
    "\n",
    "    ordinal = OrdinalEncoder(categories=ordinal_order)\n",
    "    encoded = ordinal.fit_transform(df[ordinal_col].astype(str))\n",
    "    encoded_df = pd.DataFrame(encoded, columns=[f'{col}_ord' for col in ordinal_col], index=df.index)\n",
    "\n",
    "    df.drop(columns=ordinal_col, inplace=True)\n",
    "\n",
    "    df = pd.concat([df, encoded_df], axis=1)\n",
    "    \n",
    "    return df"
   ]
  },
  {
   "cell_type": "markdown",
   "id": "82cd5725-1528-4ecd-a619-5dd536f36dd7",
   "metadata": {},
   "source": [
    "# Log Transformation"
   ]
  },
  {
   "cell_type": "code",
   "execution_count": 16,
   "id": "0a81b753-b971-4d9e-9ee3-aac13dd6f91f",
   "metadata": {},
   "outputs": [],
   "source": [
    "log_cols = [\n",
    "    'wallet_amount',\n",
    "    'subscription_amount',\n",
    "    'number_of_invitations',\n",
    "    'job_posted',\n",
    "    'number_of_kits',\n",
    "    'interview_question',\n",
    "    'pre_recorded_credit',\n",
    "    'live_interview_credit'\n",
    "]"
   ]
  },
  {
   "cell_type": "code",
   "execution_count": 17,
   "id": "eb3a1106-eb5d-4d55-b2b3-6e47d6908994",
   "metadata": {},
   "outputs": [],
   "source": [
    "def log_transform(df):\n",
    "    df = df.copy()\n",
    "    for col in log_cols:\n",
    "        if col in df.columns:\n",
    "            # fill NaNs\n",
    "            df[col] = df[col].fillna(0)\n",
    "            # if a number is less than zero, turn it into zero;\n",
    "            df[col] = df[col].clip(lower=0)\n",
    "            # safe log1p\n",
    "            df[col] = np.log1p(df[col])\n",
    "    return df"
   ]
  },
  {
   "cell_type": "markdown",
   "id": "299610b4-9cb6-4f49-a8a4-931fb65b5cc1",
   "metadata": {},
   "source": [
    "# Pipeline"
   ]
  },
  {
   "cell_type": "code",
   "execution_count": 19,
   "id": "f2926c98-6d9a-4075-a652-b975e92a1aec",
   "metadata": {},
   "outputs": [],
   "source": [
    "pipeline = Pipeline([\n",
    "    ('fill_missing_values', FunctionTransformer(fill_missing_values, validate=False)),\n",
    "    ('label_encoder', FunctionTransformer(label_encoder, validate=False)),\n",
    "    ('ordinal_encoder', FunctionTransformer(ordinal_encoder, validate=False)),\n",
    "    ('log_transformation', FunctionTransformer(log_transform, validate=False)), # log transforms the col with outliers\n",
    "    ('scaler', StandardScaler()), # Needs attention to improve model\n",
    "    # ('pca', PCA(n_components=0.97))\n",
    "])"
   ]
  },
  {
   "cell_type": "code",
   "execution_count": 20,
   "id": "0abbd644-8c57-4d73-8fdc-41a41a2dc624",
   "metadata": {},
   "outputs": [
    {
     "data": {
      "text/html": [
       "<style>#sk-container-id-1 {\n",
       "  /* Definition of color scheme common for light and dark mode */\n",
       "  --sklearn-color-text: black;\n",
       "  --sklearn-color-line: gray;\n",
       "  /* Definition of color scheme for unfitted estimators */\n",
       "  --sklearn-color-unfitted-level-0: #fff5e6;\n",
       "  --sklearn-color-unfitted-level-1: #f6e4d2;\n",
       "  --sklearn-color-unfitted-level-2: #ffe0b3;\n",
       "  --sklearn-color-unfitted-level-3: chocolate;\n",
       "  /* Definition of color scheme for fitted estimators */\n",
       "  --sklearn-color-fitted-level-0: #f0f8ff;\n",
       "  --sklearn-color-fitted-level-1: #d4ebff;\n",
       "  --sklearn-color-fitted-level-2: #b3dbfd;\n",
       "  --sklearn-color-fitted-level-3: cornflowerblue;\n",
       "\n",
       "  /* Specific color for light theme */\n",
       "  --sklearn-color-text-on-default-background: var(--sg-text-color, var(--theme-code-foreground, var(--jp-content-font-color1, black)));\n",
       "  --sklearn-color-background: var(--sg-background-color, var(--theme-background, var(--jp-layout-color0, white)));\n",
       "  --sklearn-color-border-box: var(--sg-text-color, var(--theme-code-foreground, var(--jp-content-font-color1, black)));\n",
       "  --sklearn-color-icon: #696969;\n",
       "\n",
       "  @media (prefers-color-scheme: dark) {\n",
       "    /* Redefinition of color scheme for dark theme */\n",
       "    --sklearn-color-text-on-default-background: var(--sg-text-color, var(--theme-code-foreground, var(--jp-content-font-color1, white)));\n",
       "    --sklearn-color-background: var(--sg-background-color, var(--theme-background, var(--jp-layout-color0, #111)));\n",
       "    --sklearn-color-border-box: var(--sg-text-color, var(--theme-code-foreground, var(--jp-content-font-color1, white)));\n",
       "    --sklearn-color-icon: #878787;\n",
       "  }\n",
       "}\n",
       "\n",
       "#sk-container-id-1 {\n",
       "  color: var(--sklearn-color-text);\n",
       "}\n",
       "\n",
       "#sk-container-id-1 pre {\n",
       "  padding: 0;\n",
       "}\n",
       "\n",
       "#sk-container-id-1 input.sk-hidden--visually {\n",
       "  border: 0;\n",
       "  clip: rect(1px 1px 1px 1px);\n",
       "  clip: rect(1px, 1px, 1px, 1px);\n",
       "  height: 1px;\n",
       "  margin: -1px;\n",
       "  overflow: hidden;\n",
       "  padding: 0;\n",
       "  position: absolute;\n",
       "  width: 1px;\n",
       "}\n",
       "\n",
       "#sk-container-id-1 div.sk-dashed-wrapped {\n",
       "  border: 1px dashed var(--sklearn-color-line);\n",
       "  margin: 0 0.4em 0.5em 0.4em;\n",
       "  box-sizing: border-box;\n",
       "  padding-bottom: 0.4em;\n",
       "  background-color: var(--sklearn-color-background);\n",
       "}\n",
       "\n",
       "#sk-container-id-1 div.sk-container {\n",
       "  /* jupyter's `normalize.less` sets `[hidden] { display: none; }`\n",
       "     but bootstrap.min.css set `[hidden] { display: none !important; }`\n",
       "     so we also need the `!important` here to be able to override the\n",
       "     default hidden behavior on the sphinx rendered scikit-learn.org.\n",
       "     See: https://github.com/scikit-learn/scikit-learn/issues/21755 */\n",
       "  display: inline-block !important;\n",
       "  position: relative;\n",
       "}\n",
       "\n",
       "#sk-container-id-1 div.sk-text-repr-fallback {\n",
       "  display: none;\n",
       "}\n",
       "\n",
       "div.sk-parallel-item,\n",
       "div.sk-serial,\n",
       "div.sk-item {\n",
       "  /* draw centered vertical line to link estimators */\n",
       "  background-image: linear-gradient(var(--sklearn-color-text-on-default-background), var(--sklearn-color-text-on-default-background));\n",
       "  background-size: 2px 100%;\n",
       "  background-repeat: no-repeat;\n",
       "  background-position: center center;\n",
       "}\n",
       "\n",
       "/* Parallel-specific style estimator block */\n",
       "\n",
       "#sk-container-id-1 div.sk-parallel-item::after {\n",
       "  content: \"\";\n",
       "  width: 100%;\n",
       "  border-bottom: 2px solid var(--sklearn-color-text-on-default-background);\n",
       "  flex-grow: 1;\n",
       "}\n",
       "\n",
       "#sk-container-id-1 div.sk-parallel {\n",
       "  display: flex;\n",
       "  align-items: stretch;\n",
       "  justify-content: center;\n",
       "  background-color: var(--sklearn-color-background);\n",
       "  position: relative;\n",
       "}\n",
       "\n",
       "#sk-container-id-1 div.sk-parallel-item {\n",
       "  display: flex;\n",
       "  flex-direction: column;\n",
       "}\n",
       "\n",
       "#sk-container-id-1 div.sk-parallel-item:first-child::after {\n",
       "  align-self: flex-end;\n",
       "  width: 50%;\n",
       "}\n",
       "\n",
       "#sk-container-id-1 div.sk-parallel-item:last-child::after {\n",
       "  align-self: flex-start;\n",
       "  width: 50%;\n",
       "}\n",
       "\n",
       "#sk-container-id-1 div.sk-parallel-item:only-child::after {\n",
       "  width: 0;\n",
       "}\n",
       "\n",
       "/* Serial-specific style estimator block */\n",
       "\n",
       "#sk-container-id-1 div.sk-serial {\n",
       "  display: flex;\n",
       "  flex-direction: column;\n",
       "  align-items: center;\n",
       "  background-color: var(--sklearn-color-background);\n",
       "  padding-right: 1em;\n",
       "  padding-left: 1em;\n",
       "}\n",
       "\n",
       "\n",
       "/* Toggleable style: style used for estimator/Pipeline/ColumnTransformer box that is\n",
       "clickable and can be expanded/collapsed.\n",
       "- Pipeline and ColumnTransformer use this feature and define the default style\n",
       "- Estimators will overwrite some part of the style using the `sk-estimator` class\n",
       "*/\n",
       "\n",
       "/* Pipeline and ColumnTransformer style (default) */\n",
       "\n",
       "#sk-container-id-1 div.sk-toggleable {\n",
       "  /* Default theme specific background. It is overwritten whether we have a\n",
       "  specific estimator or a Pipeline/ColumnTransformer */\n",
       "  background-color: var(--sklearn-color-background);\n",
       "}\n",
       "\n",
       "/* Toggleable label */\n",
       "#sk-container-id-1 label.sk-toggleable__label {\n",
       "  cursor: pointer;\n",
       "  display: block;\n",
       "  width: 100%;\n",
       "  margin-bottom: 0;\n",
       "  padding: 0.5em;\n",
       "  box-sizing: border-box;\n",
       "  text-align: center;\n",
       "}\n",
       "\n",
       "#sk-container-id-1 label.sk-toggleable__label-arrow:before {\n",
       "  /* Arrow on the left of the label */\n",
       "  content: \"▸\";\n",
       "  float: left;\n",
       "  margin-right: 0.25em;\n",
       "  color: var(--sklearn-color-icon);\n",
       "}\n",
       "\n",
       "#sk-container-id-1 label.sk-toggleable__label-arrow:hover:before {\n",
       "  color: var(--sklearn-color-text);\n",
       "}\n",
       "\n",
       "/* Toggleable content - dropdown */\n",
       "\n",
       "#sk-container-id-1 div.sk-toggleable__content {\n",
       "  max-height: 0;\n",
       "  max-width: 0;\n",
       "  overflow: hidden;\n",
       "  text-align: left;\n",
       "  /* unfitted */\n",
       "  background-color: var(--sklearn-color-unfitted-level-0);\n",
       "}\n",
       "\n",
       "#sk-container-id-1 div.sk-toggleable__content.fitted {\n",
       "  /* fitted */\n",
       "  background-color: var(--sklearn-color-fitted-level-0);\n",
       "}\n",
       "\n",
       "#sk-container-id-1 div.sk-toggleable__content pre {\n",
       "  margin: 0.2em;\n",
       "  border-radius: 0.25em;\n",
       "  color: var(--sklearn-color-text);\n",
       "  /* unfitted */\n",
       "  background-color: var(--sklearn-color-unfitted-level-0);\n",
       "}\n",
       "\n",
       "#sk-container-id-1 div.sk-toggleable__content.fitted pre {\n",
       "  /* unfitted */\n",
       "  background-color: var(--sklearn-color-fitted-level-0);\n",
       "}\n",
       "\n",
       "#sk-container-id-1 input.sk-toggleable__control:checked~div.sk-toggleable__content {\n",
       "  /* Expand drop-down */\n",
       "  max-height: 200px;\n",
       "  max-width: 100%;\n",
       "  overflow: auto;\n",
       "}\n",
       "\n",
       "#sk-container-id-1 input.sk-toggleable__control:checked~label.sk-toggleable__label-arrow:before {\n",
       "  content: \"▾\";\n",
       "}\n",
       "\n",
       "/* Pipeline/ColumnTransformer-specific style */\n",
       "\n",
       "#sk-container-id-1 div.sk-label input.sk-toggleable__control:checked~label.sk-toggleable__label {\n",
       "  color: var(--sklearn-color-text);\n",
       "  background-color: var(--sklearn-color-unfitted-level-2);\n",
       "}\n",
       "\n",
       "#sk-container-id-1 div.sk-label.fitted input.sk-toggleable__control:checked~label.sk-toggleable__label {\n",
       "  background-color: var(--sklearn-color-fitted-level-2);\n",
       "}\n",
       "\n",
       "/* Estimator-specific style */\n",
       "\n",
       "/* Colorize estimator box */\n",
       "#sk-container-id-1 div.sk-estimator input.sk-toggleable__control:checked~label.sk-toggleable__label {\n",
       "  /* unfitted */\n",
       "  background-color: var(--sklearn-color-unfitted-level-2);\n",
       "}\n",
       "\n",
       "#sk-container-id-1 div.sk-estimator.fitted input.sk-toggleable__control:checked~label.sk-toggleable__label {\n",
       "  /* fitted */\n",
       "  background-color: var(--sklearn-color-fitted-level-2);\n",
       "}\n",
       "\n",
       "#sk-container-id-1 div.sk-label label.sk-toggleable__label,\n",
       "#sk-container-id-1 div.sk-label label {\n",
       "  /* The background is the default theme color */\n",
       "  color: var(--sklearn-color-text-on-default-background);\n",
       "}\n",
       "\n",
       "/* On hover, darken the color of the background */\n",
       "#sk-container-id-1 div.sk-label:hover label.sk-toggleable__label {\n",
       "  color: var(--sklearn-color-text);\n",
       "  background-color: var(--sklearn-color-unfitted-level-2);\n",
       "}\n",
       "\n",
       "/* Label box, darken color on hover, fitted */\n",
       "#sk-container-id-1 div.sk-label.fitted:hover label.sk-toggleable__label.fitted {\n",
       "  color: var(--sklearn-color-text);\n",
       "  background-color: var(--sklearn-color-fitted-level-2);\n",
       "}\n",
       "\n",
       "/* Estimator label */\n",
       "\n",
       "#sk-container-id-1 div.sk-label label {\n",
       "  font-family: monospace;\n",
       "  font-weight: bold;\n",
       "  display: inline-block;\n",
       "  line-height: 1.2em;\n",
       "}\n",
       "\n",
       "#sk-container-id-1 div.sk-label-container {\n",
       "  text-align: center;\n",
       "}\n",
       "\n",
       "/* Estimator-specific */\n",
       "#sk-container-id-1 div.sk-estimator {\n",
       "  font-family: monospace;\n",
       "  border: 1px dotted var(--sklearn-color-border-box);\n",
       "  border-radius: 0.25em;\n",
       "  box-sizing: border-box;\n",
       "  margin-bottom: 0.5em;\n",
       "  /* unfitted */\n",
       "  background-color: var(--sklearn-color-unfitted-level-0);\n",
       "}\n",
       "\n",
       "#sk-container-id-1 div.sk-estimator.fitted {\n",
       "  /* fitted */\n",
       "  background-color: var(--sklearn-color-fitted-level-0);\n",
       "}\n",
       "\n",
       "/* on hover */\n",
       "#sk-container-id-1 div.sk-estimator:hover {\n",
       "  /* unfitted */\n",
       "  background-color: var(--sklearn-color-unfitted-level-2);\n",
       "}\n",
       "\n",
       "#sk-container-id-1 div.sk-estimator.fitted:hover {\n",
       "  /* fitted */\n",
       "  background-color: var(--sklearn-color-fitted-level-2);\n",
       "}\n",
       "\n",
       "/* Specification for estimator info (e.g. \"i\" and \"?\") */\n",
       "\n",
       "/* Common style for \"i\" and \"?\" */\n",
       "\n",
       ".sk-estimator-doc-link,\n",
       "a:link.sk-estimator-doc-link,\n",
       "a:visited.sk-estimator-doc-link {\n",
       "  float: right;\n",
       "  font-size: smaller;\n",
       "  line-height: 1em;\n",
       "  font-family: monospace;\n",
       "  background-color: var(--sklearn-color-background);\n",
       "  border-radius: 1em;\n",
       "  height: 1em;\n",
       "  width: 1em;\n",
       "  text-decoration: none !important;\n",
       "  margin-left: 1ex;\n",
       "  /* unfitted */\n",
       "  border: var(--sklearn-color-unfitted-level-1) 1pt solid;\n",
       "  color: var(--sklearn-color-unfitted-level-1);\n",
       "}\n",
       "\n",
       ".sk-estimator-doc-link.fitted,\n",
       "a:link.sk-estimator-doc-link.fitted,\n",
       "a:visited.sk-estimator-doc-link.fitted {\n",
       "  /* fitted */\n",
       "  border: var(--sklearn-color-fitted-level-1) 1pt solid;\n",
       "  color: var(--sklearn-color-fitted-level-1);\n",
       "}\n",
       "\n",
       "/* On hover */\n",
       "div.sk-estimator:hover .sk-estimator-doc-link:hover,\n",
       ".sk-estimator-doc-link:hover,\n",
       "div.sk-label-container:hover .sk-estimator-doc-link:hover,\n",
       ".sk-estimator-doc-link:hover {\n",
       "  /* unfitted */\n",
       "  background-color: var(--sklearn-color-unfitted-level-3);\n",
       "  color: var(--sklearn-color-background);\n",
       "  text-decoration: none;\n",
       "}\n",
       "\n",
       "div.sk-estimator.fitted:hover .sk-estimator-doc-link.fitted:hover,\n",
       ".sk-estimator-doc-link.fitted:hover,\n",
       "div.sk-label-container:hover .sk-estimator-doc-link.fitted:hover,\n",
       ".sk-estimator-doc-link.fitted:hover {\n",
       "  /* fitted */\n",
       "  background-color: var(--sklearn-color-fitted-level-3);\n",
       "  color: var(--sklearn-color-background);\n",
       "  text-decoration: none;\n",
       "}\n",
       "\n",
       "/* Span, style for the box shown on hovering the info icon */\n",
       ".sk-estimator-doc-link span {\n",
       "  display: none;\n",
       "  z-index: 9999;\n",
       "  position: relative;\n",
       "  font-weight: normal;\n",
       "  right: .2ex;\n",
       "  padding: .5ex;\n",
       "  margin: .5ex;\n",
       "  width: min-content;\n",
       "  min-width: 20ex;\n",
       "  max-width: 50ex;\n",
       "  color: var(--sklearn-color-text);\n",
       "  box-shadow: 2pt 2pt 4pt #999;\n",
       "  /* unfitted */\n",
       "  background: var(--sklearn-color-unfitted-level-0);\n",
       "  border: .5pt solid var(--sklearn-color-unfitted-level-3);\n",
       "}\n",
       "\n",
       ".sk-estimator-doc-link.fitted span {\n",
       "  /* fitted */\n",
       "  background: var(--sklearn-color-fitted-level-0);\n",
       "  border: var(--sklearn-color-fitted-level-3);\n",
       "}\n",
       "\n",
       ".sk-estimator-doc-link:hover span {\n",
       "  display: block;\n",
       "}\n",
       "\n",
       "/* \"?\"-specific style due to the `<a>` HTML tag */\n",
       "\n",
       "#sk-container-id-1 a.estimator_doc_link {\n",
       "  float: right;\n",
       "  font-size: 1rem;\n",
       "  line-height: 1em;\n",
       "  font-family: monospace;\n",
       "  background-color: var(--sklearn-color-background);\n",
       "  border-radius: 1rem;\n",
       "  height: 1rem;\n",
       "  width: 1rem;\n",
       "  text-decoration: none;\n",
       "  /* unfitted */\n",
       "  color: var(--sklearn-color-unfitted-level-1);\n",
       "  border: var(--sklearn-color-unfitted-level-1) 1pt solid;\n",
       "}\n",
       "\n",
       "#sk-container-id-1 a.estimator_doc_link.fitted {\n",
       "  /* fitted */\n",
       "  border: var(--sklearn-color-fitted-level-1) 1pt solid;\n",
       "  color: var(--sklearn-color-fitted-level-1);\n",
       "}\n",
       "\n",
       "/* On hover */\n",
       "#sk-container-id-1 a.estimator_doc_link:hover {\n",
       "  /* unfitted */\n",
       "  background-color: var(--sklearn-color-unfitted-level-3);\n",
       "  color: var(--sklearn-color-background);\n",
       "  text-decoration: none;\n",
       "}\n",
       "\n",
       "#sk-container-id-1 a.estimator_doc_link.fitted:hover {\n",
       "  /* fitted */\n",
       "  background-color: var(--sklearn-color-fitted-level-3);\n",
       "}\n",
       "</style><div id=\"sk-container-id-1\" class=\"sk-top-container\"><div class=\"sk-text-repr-fallback\"><pre>Pipeline(steps=[(&#x27;fill_missing_values&#x27;,\n",
       "                 FunctionTransformer(func=&lt;function fill_missing_values at 0x0000029397DA8400&gt;)),\n",
       "                (&#x27;label_encoder&#x27;,\n",
       "                 FunctionTransformer(func=&lt;function label_encoder at 0x0000029397DA84A0&gt;)),\n",
       "                (&#x27;ordinal_encoder&#x27;,\n",
       "                 FunctionTransformer(func=&lt;function ordinal_encoder at 0x0000029397DA94E0&gt;)),\n",
       "                (&#x27;log_transformation&#x27;,\n",
       "                 FunctionTransformer(func=&lt;function log_transform at 0x0000029397DA8720&gt;)),\n",
       "                (&#x27;scaler&#x27;, StandardScaler())])</pre><b>In a Jupyter environment, please rerun this cell to show the HTML representation or trust the notebook. <br />On GitHub, the HTML representation is unable to render, please try loading this page with nbviewer.org.</b></div><div class=\"sk-container\" hidden><div class=\"sk-item sk-dashed-wrapped\"><div class=\"sk-label-container\"><div class=\"sk-label  sk-toggleable\"><input class=\"sk-toggleable__control sk-hidden--visually\" id=\"sk-estimator-id-1\" type=\"checkbox\" ><label for=\"sk-estimator-id-1\" class=\"sk-toggleable__label  sk-toggleable__label-arrow \">&nbsp;&nbsp;Pipeline<a class=\"sk-estimator-doc-link \" rel=\"noreferrer\" target=\"_blank\" href=\"https://scikit-learn.org/1.5/modules/generated/sklearn.pipeline.Pipeline.html\">?<span>Documentation for Pipeline</span></a><span class=\"sk-estimator-doc-link \">i<span>Not fitted</span></span></label><div class=\"sk-toggleable__content \"><pre>Pipeline(steps=[(&#x27;fill_missing_values&#x27;,\n",
       "                 FunctionTransformer(func=&lt;function fill_missing_values at 0x0000029397DA8400&gt;)),\n",
       "                (&#x27;label_encoder&#x27;,\n",
       "                 FunctionTransformer(func=&lt;function label_encoder at 0x0000029397DA84A0&gt;)),\n",
       "                (&#x27;ordinal_encoder&#x27;,\n",
       "                 FunctionTransformer(func=&lt;function ordinal_encoder at 0x0000029397DA94E0&gt;)),\n",
       "                (&#x27;log_transformation&#x27;,\n",
       "                 FunctionTransformer(func=&lt;function log_transform at 0x0000029397DA8720&gt;)),\n",
       "                (&#x27;scaler&#x27;, StandardScaler())])</pre></div> </div></div><div class=\"sk-serial\"><div class=\"sk-item\"><div class=\"sk-estimator  sk-toggleable\"><input class=\"sk-toggleable__control sk-hidden--visually\" id=\"sk-estimator-id-2\" type=\"checkbox\" ><label for=\"sk-estimator-id-2\" class=\"sk-toggleable__label  sk-toggleable__label-arrow \">&nbsp;FunctionTransformer<a class=\"sk-estimator-doc-link \" rel=\"noreferrer\" target=\"_blank\" href=\"https://scikit-learn.org/1.5/modules/generated/sklearn.preprocessing.FunctionTransformer.html\">?<span>Documentation for FunctionTransformer</span></a></label><div class=\"sk-toggleable__content \"><pre>FunctionTransformer(func=&lt;function fill_missing_values at 0x0000029397DA8400&gt;)</pre></div> </div></div><div class=\"sk-item\"><div class=\"sk-estimator  sk-toggleable\"><input class=\"sk-toggleable__control sk-hidden--visually\" id=\"sk-estimator-id-3\" type=\"checkbox\" ><label for=\"sk-estimator-id-3\" class=\"sk-toggleable__label  sk-toggleable__label-arrow \">&nbsp;FunctionTransformer<a class=\"sk-estimator-doc-link \" rel=\"noreferrer\" target=\"_blank\" href=\"https://scikit-learn.org/1.5/modules/generated/sklearn.preprocessing.FunctionTransformer.html\">?<span>Documentation for FunctionTransformer</span></a></label><div class=\"sk-toggleable__content \"><pre>FunctionTransformer(func=&lt;function label_encoder at 0x0000029397DA84A0&gt;)</pre></div> </div></div><div class=\"sk-item\"><div class=\"sk-estimator  sk-toggleable\"><input class=\"sk-toggleable__control sk-hidden--visually\" id=\"sk-estimator-id-4\" type=\"checkbox\" ><label for=\"sk-estimator-id-4\" class=\"sk-toggleable__label  sk-toggleable__label-arrow \">&nbsp;FunctionTransformer<a class=\"sk-estimator-doc-link \" rel=\"noreferrer\" target=\"_blank\" href=\"https://scikit-learn.org/1.5/modules/generated/sklearn.preprocessing.FunctionTransformer.html\">?<span>Documentation for FunctionTransformer</span></a></label><div class=\"sk-toggleable__content \"><pre>FunctionTransformer(func=&lt;function ordinal_encoder at 0x0000029397DA94E0&gt;)</pre></div> </div></div><div class=\"sk-item\"><div class=\"sk-estimator  sk-toggleable\"><input class=\"sk-toggleable__control sk-hidden--visually\" id=\"sk-estimator-id-5\" type=\"checkbox\" ><label for=\"sk-estimator-id-5\" class=\"sk-toggleable__label  sk-toggleable__label-arrow \">&nbsp;FunctionTransformer<a class=\"sk-estimator-doc-link \" rel=\"noreferrer\" target=\"_blank\" href=\"https://scikit-learn.org/1.5/modules/generated/sklearn.preprocessing.FunctionTransformer.html\">?<span>Documentation for FunctionTransformer</span></a></label><div class=\"sk-toggleable__content \"><pre>FunctionTransformer(func=&lt;function log_transform at 0x0000029397DA8720&gt;)</pre></div> </div></div><div class=\"sk-item\"><div class=\"sk-estimator  sk-toggleable\"><input class=\"sk-toggleable__control sk-hidden--visually\" id=\"sk-estimator-id-6\" type=\"checkbox\" ><label for=\"sk-estimator-id-6\" class=\"sk-toggleable__label  sk-toggleable__label-arrow \">&nbsp;StandardScaler<a class=\"sk-estimator-doc-link \" rel=\"noreferrer\" target=\"_blank\" href=\"https://scikit-learn.org/1.5/modules/generated/sklearn.preprocessing.StandardScaler.html\">?<span>Documentation for StandardScaler</span></a></label><div class=\"sk-toggleable__content \"><pre>StandardScaler()</pre></div> </div></div></div></div></div></div>"
      ],
      "text/plain": [
       "Pipeline(steps=[('fill_missing_values',\n",
       "                 FunctionTransformer(func=<function fill_missing_values at 0x0000029397DA8400>)),\n",
       "                ('label_encoder',\n",
       "                 FunctionTransformer(func=<function label_encoder at 0x0000029397DA84A0>)),\n",
       "                ('ordinal_encoder',\n",
       "                 FunctionTransformer(func=<function ordinal_encoder at 0x0000029397DA94E0>)),\n",
       "                ('log_transformation',\n",
       "                 FunctionTransformer(func=<function log_transform at 0x0000029397DA8720>)),\n",
       "                ('scaler', StandardScaler())])"
      ]
     },
     "execution_count": 20,
     "metadata": {},
     "output_type": "execute_result"
    }
   ],
   "source": [
    "''' Visualizing the Pipeline '''\n",
    "set_config(display='diagram')\n",
    "pipeline"
   ]
  },
  {
   "cell_type": "markdown",
   "id": "af04ba11-7f11-4ea9-956c-db074ca70c11",
   "metadata": {},
   "source": [
    "# Fit Pipeline"
   ]
  },
  {
   "cell_type": "code",
   "execution_count": 22,
   "id": "2d2a5470-bb39-493c-bbf5-7b5d1cd21286",
   "metadata": {},
   "outputs": [],
   "source": [
    "X = df"
   ]
  },
  {
   "cell_type": "code",
   "execution_count": 23,
   "id": "ef2a0d53-b486-4465-8bb4-15cb4c7742f9",
   "metadata": {},
   "outputs": [],
   "source": [
    "X_transformed = pipeline.fit_transform(X)"
   ]
  },
  {
   "cell_type": "code",
   "execution_count": 24,
   "id": "8955cd40-ed83-45ee-948d-0ecadffb1850",
   "metadata": {},
   "outputs": [
    {
     "data": {
      "text/plain": [
       "pandas.core.frame.DataFrame"
      ]
     },
     "execution_count": 24,
     "metadata": {},
     "output_type": "execute_result"
    }
   ],
   "source": [
    "type(X)"
   ]
  },
  {
   "cell_type": "code",
   "execution_count": 25,
   "id": "3b3e6493-f1b0-4c7b-9755-0c7c2646be12",
   "metadata": {},
   "outputs": [
    {
     "data": {
      "text/plain": [
       "numpy.ndarray"
      ]
     },
     "execution_count": 25,
     "metadata": {},
     "output_type": "execute_result"
    }
   ],
   "source": [
    "type(X_transformed)"
   ]
  },
  {
   "cell_type": "code",
   "execution_count": 26,
   "id": "6669f369-9cc7-4f4e-8472-13be7e47c825",
   "metadata": {},
   "outputs": [],
   "source": [
    "features_names = df.columns"
   ]
  },
  {
   "cell_type": "code",
   "execution_count": 27,
   "id": "92ad7fe0-d4d8-4629-853a-83d783546e91",
   "metadata": {},
   "outputs": [],
   "source": [
    "X_df = pd.DataFrame(X_transformed, columns=features_names)"
   ]
  },
  {
   "cell_type": "code",
   "execution_count": 28,
   "id": "53109877-5eb7-4d1b-bd19-53319c69d3bd",
   "metadata": {},
   "outputs": [
    {
     "data": {
      "text/plain": [
       "Index(['jobma_catcher_id', 'org_type', 'jobma_catcher_industry',\n",
       "       'jobma_catcher_type', 'is_premium', 'jobma_catcher_sub_accounts',\n",
       "       'jobma_catcher_is_deleted', 'jobma_verified', 'subscription_status',\n",
       "       'interview_rate', 'live_interview_credit', 'pre_recorded_credit',\n",
       "       'credit_value', 'interview_cost_type', 'subscription_type_x',\n",
       "       'jobma_support_rtc', 'interview_question', 'video_recording_suppport',\n",
       "       'sing_up_canditate_after_apply', 'currency', 'company_size',\n",
       "       'wallet_amount', 'plan_type', 'is_unlimited', 'premium_storage',\n",
       "       'subscription_amount', 'number_of_subscriptions',\n",
       "       'number_of_invitations', 'job_posted', 'number_of_kits'],\n",
       "      dtype='object')"
      ]
     },
     "execution_count": 28,
     "metadata": {},
     "output_type": "execute_result"
    }
   ],
   "source": [
    "X_df.columns"
   ]
  },
  {
   "cell_type": "code",
   "execution_count": 29,
   "id": "9d872121-740e-4613-ab2a-fa9454629ab4",
   "metadata": {},
   "outputs": [
    {
     "data": {
      "text/html": [
       "<div>\n",
       "<style scoped>\n",
       "    .dataframe tbody tr th:only-of-type {\n",
       "        vertical-align: middle;\n",
       "    }\n",
       "\n",
       "    .dataframe tbody tr th {\n",
       "        vertical-align: top;\n",
       "    }\n",
       "\n",
       "    .dataframe thead th {\n",
       "        text-align: right;\n",
       "    }\n",
       "</style>\n",
       "<table border=\"1\" class=\"dataframe\">\n",
       "  <thead>\n",
       "    <tr style=\"text-align: right;\">\n",
       "      <th></th>\n",
       "      <th>jobma_catcher_id</th>\n",
       "      <th>org_type</th>\n",
       "      <th>jobma_catcher_industry</th>\n",
       "      <th>jobma_catcher_type</th>\n",
       "      <th>is_premium</th>\n",
       "      <th>jobma_catcher_sub_accounts</th>\n",
       "      <th>jobma_catcher_is_deleted</th>\n",
       "      <th>jobma_verified</th>\n",
       "      <th>subscription_status</th>\n",
       "      <th>interview_rate</th>\n",
       "      <th>...</th>\n",
       "      <th>company_size</th>\n",
       "      <th>wallet_amount</th>\n",
       "      <th>plan_type</th>\n",
       "      <th>is_unlimited</th>\n",
       "      <th>premium_storage</th>\n",
       "      <th>subscription_amount</th>\n",
       "      <th>number_of_subscriptions</th>\n",
       "      <th>number_of_invitations</th>\n",
       "      <th>job_posted</th>\n",
       "      <th>number_of_kits</th>\n",
       "    </tr>\n",
       "  </thead>\n",
       "  <tbody>\n",
       "    <tr>\n",
       "      <th>0</th>\n",
       "      <td>-1.801958</td>\n",
       "      <td>-0.324121</td>\n",
       "      <td>0.485709</td>\n",
       "      <td>0.66236</td>\n",
       "      <td>-0.438409</td>\n",
       "      <td>0.0</td>\n",
       "      <td>0.018086</td>\n",
       "      <td>-1.092955</td>\n",
       "      <td>0.0</td>\n",
       "      <td>0.130641</td>\n",
       "      <td>...</td>\n",
       "      <td>0.0</td>\n",
       "      <td>1.136717</td>\n",
       "      <td>-0.176975</td>\n",
       "      <td>1.321832</td>\n",
       "      <td>0.853812</td>\n",
       "      <td>1.585420</td>\n",
       "      <td>0.0</td>\n",
       "      <td>-0.989747</td>\n",
       "      <td>-0.711360</td>\n",
       "      <td>2.504455</td>\n",
       "    </tr>\n",
       "    <tr>\n",
       "      <th>1</th>\n",
       "      <td>-1.673482</td>\n",
       "      <td>-0.324121</td>\n",
       "      <td>-1.162534</td>\n",
       "      <td>0.66236</td>\n",
       "      <td>-0.438409</td>\n",
       "      <td>0.0</td>\n",
       "      <td>0.018086</td>\n",
       "      <td>0.904210</td>\n",
       "      <td>0.0</td>\n",
       "      <td>0.130641</td>\n",
       "      <td>...</td>\n",
       "      <td>0.0</td>\n",
       "      <td>-0.234210</td>\n",
       "      <td>-0.176975</td>\n",
       "      <td>-0.372727</td>\n",
       "      <td>-0.383732</td>\n",
       "      <td>-0.385895</td>\n",
       "      <td>0.0</td>\n",
       "      <td>-0.111057</td>\n",
       "      <td>1.405758</td>\n",
       "      <td>-0.399288</td>\n",
       "    </tr>\n",
       "    <tr>\n",
       "      <th>2</th>\n",
       "      <td>-1.672561</td>\n",
       "      <td>-0.324121</td>\n",
       "      <td>0.140979</td>\n",
       "      <td>0.66236</td>\n",
       "      <td>-0.438409</td>\n",
       "      <td>0.0</td>\n",
       "      <td>0.018086</td>\n",
       "      <td>0.904210</td>\n",
       "      <td>0.0</td>\n",
       "      <td>0.130641</td>\n",
       "      <td>...</td>\n",
       "      <td>0.0</td>\n",
       "      <td>-0.042089</td>\n",
       "      <td>-0.176975</td>\n",
       "      <td>-0.372727</td>\n",
       "      <td>-0.383732</td>\n",
       "      <td>-0.385895</td>\n",
       "      <td>0.0</td>\n",
       "      <td>0.767632</td>\n",
       "      <td>1.405758</td>\n",
       "      <td>-0.399288</td>\n",
       "    </tr>\n",
       "    <tr>\n",
       "      <th>3</th>\n",
       "      <td>-1.672101</td>\n",
       "      <td>-0.324121</td>\n",
       "      <td>-1.539583</td>\n",
       "      <td>0.66236</td>\n",
       "      <td>-0.438409</td>\n",
       "      <td>0.0</td>\n",
       "      <td>0.018086</td>\n",
       "      <td>-1.092955</td>\n",
       "      <td>0.0</td>\n",
       "      <td>0.130641</td>\n",
       "      <td>...</td>\n",
       "      <td>0.0</td>\n",
       "      <td>1.139948</td>\n",
       "      <td>0.472322</td>\n",
       "      <td>-0.372727</td>\n",
       "      <td>0.853812</td>\n",
       "      <td>-0.385895</td>\n",
       "      <td>0.0</td>\n",
       "      <td>-0.111057</td>\n",
       "      <td>1.405758</td>\n",
       "      <td>-0.399288</td>\n",
       "    </tr>\n",
       "    <tr>\n",
       "      <th>4</th>\n",
       "      <td>-1.671640</td>\n",
       "      <td>-0.324121</td>\n",
       "      <td>-1.474946</td>\n",
       "      <td>0.66236</td>\n",
       "      <td>-0.438409</td>\n",
       "      <td>0.0</td>\n",
       "      <td>0.018086</td>\n",
       "      <td>0.904210</td>\n",
       "      <td>0.0</td>\n",
       "      <td>0.130641</td>\n",
       "      <td>...</td>\n",
       "      <td>0.0</td>\n",
       "      <td>1.078241</td>\n",
       "      <td>-0.176975</td>\n",
       "      <td>-0.372727</td>\n",
       "      <td>0.853812</td>\n",
       "      <td>-0.385895</td>\n",
       "      <td>0.0</td>\n",
       "      <td>-0.111057</td>\n",
       "      <td>1.405758</td>\n",
       "      <td>-0.399288</td>\n",
       "    </tr>\n",
       "  </tbody>\n",
       "</table>\n",
       "<p>5 rows × 30 columns</p>\n",
       "</div>"
      ],
      "text/plain": [
       "   jobma_catcher_id  org_type  jobma_catcher_industry  jobma_catcher_type  \\\n",
       "0         -1.801958 -0.324121                0.485709             0.66236   \n",
       "1         -1.673482 -0.324121               -1.162534             0.66236   \n",
       "2         -1.672561 -0.324121                0.140979             0.66236   \n",
       "3         -1.672101 -0.324121               -1.539583             0.66236   \n",
       "4         -1.671640 -0.324121               -1.474946             0.66236   \n",
       "\n",
       "   is_premium  jobma_catcher_sub_accounts  jobma_catcher_is_deleted  \\\n",
       "0   -0.438409                         0.0                  0.018086   \n",
       "1   -0.438409                         0.0                  0.018086   \n",
       "2   -0.438409                         0.0                  0.018086   \n",
       "3   -0.438409                         0.0                  0.018086   \n",
       "4   -0.438409                         0.0                  0.018086   \n",
       "\n",
       "   jobma_verified  subscription_status  interview_rate  ...  company_size  \\\n",
       "0       -1.092955                  0.0        0.130641  ...           0.0   \n",
       "1        0.904210                  0.0        0.130641  ...           0.0   \n",
       "2        0.904210                  0.0        0.130641  ...           0.0   \n",
       "3       -1.092955                  0.0        0.130641  ...           0.0   \n",
       "4        0.904210                  0.0        0.130641  ...           0.0   \n",
       "\n",
       "   wallet_amount  plan_type  is_unlimited  premium_storage  \\\n",
       "0       1.136717  -0.176975      1.321832         0.853812   \n",
       "1      -0.234210  -0.176975     -0.372727        -0.383732   \n",
       "2      -0.042089  -0.176975     -0.372727        -0.383732   \n",
       "3       1.139948   0.472322     -0.372727         0.853812   \n",
       "4       1.078241  -0.176975     -0.372727         0.853812   \n",
       "\n",
       "   subscription_amount  number_of_subscriptions  number_of_invitations  \\\n",
       "0             1.585420                      0.0              -0.989747   \n",
       "1            -0.385895                      0.0              -0.111057   \n",
       "2            -0.385895                      0.0               0.767632   \n",
       "3            -0.385895                      0.0              -0.111057   \n",
       "4            -0.385895                      0.0              -0.111057   \n",
       "\n",
       "   job_posted  number_of_kits  \n",
       "0   -0.711360        2.504455  \n",
       "1    1.405758       -0.399288  \n",
       "2    1.405758       -0.399288  \n",
       "3    1.405758       -0.399288  \n",
       "4    1.405758       -0.399288  \n",
       "\n",
       "[5 rows x 30 columns]"
      ]
     },
     "execution_count": 29,
     "metadata": {},
     "output_type": "execute_result"
    }
   ],
   "source": [
    "X_df.head(5)"
   ]
  },
  {
   "cell_type": "code",
   "execution_count": 30,
   "id": "30564a53-c4cd-4e92-8194-7d91cad4a395",
   "metadata": {},
   "outputs": [
    {
     "data": {
      "text/plain": [
       "(6116, 30)"
      ]
     },
     "execution_count": 30,
     "metadata": {},
     "output_type": "execute_result"
    }
   ],
   "source": [
    "X_df.shape"
   ]
  },
  {
   "cell_type": "code",
   "execution_count": 31,
   "id": "90da47d7-8e34-450a-a1c6-d46bb8c72ebc",
   "metadata": {},
   "outputs": [
    {
     "data": {
      "text/html": [
       "<div>\n",
       "<style scoped>\n",
       "    .dataframe tbody tr th:only-of-type {\n",
       "        vertical-align: middle;\n",
       "    }\n",
       "\n",
       "    .dataframe tbody tr th {\n",
       "        vertical-align: top;\n",
       "    }\n",
       "\n",
       "    .dataframe thead th {\n",
       "        text-align: right;\n",
       "    }\n",
       "</style>\n",
       "<table border=\"1\" class=\"dataframe\">\n",
       "  <thead>\n",
       "    <tr style=\"text-align: right;\">\n",
       "      <th></th>\n",
       "      <th>count</th>\n",
       "      <th>mean</th>\n",
       "      <th>std</th>\n",
       "      <th>min</th>\n",
       "      <th>25%</th>\n",
       "      <th>50%</th>\n",
       "      <th>75%</th>\n",
       "      <th>max</th>\n",
       "    </tr>\n",
       "  </thead>\n",
       "  <tbody>\n",
       "    <tr>\n",
       "      <th>jobma_catcher_id</th>\n",
       "      <td>6116.0</td>\n",
       "      <td>-1.487074e-16</td>\n",
       "      <td>1.000082</td>\n",
       "      <td>-1.801958</td>\n",
       "      <td>-0.845184</td>\n",
       "      <td>-0.033923</td>\n",
       "      <td>0.723001</td>\n",
       "      <td>1.826670</td>\n",
       "    </tr>\n",
       "    <tr>\n",
       "      <th>org_type</th>\n",
       "      <td>6116.0</td>\n",
       "      <td>9.294215e-18</td>\n",
       "      <td>1.000082</td>\n",
       "      <td>-0.324121</td>\n",
       "      <td>-0.324121</td>\n",
       "      <td>-0.324121</td>\n",
       "      <td>-0.324121</td>\n",
       "      <td>4.558455</td>\n",
       "    </tr>\n",
       "    <tr>\n",
       "      <th>jobma_catcher_industry</th>\n",
       "      <td>6116.0</td>\n",
       "      <td>-7.725816e-17</td>\n",
       "      <td>1.000082</td>\n",
       "      <td>-2.078224</td>\n",
       "      <td>-0.882440</td>\n",
       "      <td>0.302571</td>\n",
       "      <td>1.153624</td>\n",
       "      <td>1.175170</td>\n",
       "    </tr>\n",
       "    <tr>\n",
       "      <th>jobma_catcher_type</th>\n",
       "      <td>6116.0</td>\n",
       "      <td>1.115306e-16</td>\n",
       "      <td>1.000082</td>\n",
       "      <td>-1.509754</td>\n",
       "      <td>-1.509754</td>\n",
       "      <td>0.662360</td>\n",
       "      <td>0.662360</td>\n",
       "      <td>0.662360</td>\n",
       "    </tr>\n",
       "    <tr>\n",
       "      <th>is_premium</th>\n",
       "      <td>6116.0</td>\n",
       "      <td>0.000000e+00</td>\n",
       "      <td>1.000082</td>\n",
       "      <td>-0.438409</td>\n",
       "      <td>-0.438409</td>\n",
       "      <td>-0.438409</td>\n",
       "      <td>-0.438409</td>\n",
       "      <td>2.280973</td>\n",
       "    </tr>\n",
       "    <tr>\n",
       "      <th>jobma_catcher_sub_accounts</th>\n",
       "      <td>6116.0</td>\n",
       "      <td>0.000000e+00</td>\n",
       "      <td>0.000000</td>\n",
       "      <td>0.000000</td>\n",
       "      <td>0.000000</td>\n",
       "      <td>0.000000</td>\n",
       "      <td>0.000000</td>\n",
       "      <td>0.000000</td>\n",
       "    </tr>\n",
       "    <tr>\n",
       "      <th>jobma_catcher_is_deleted</th>\n",
       "      <td>6116.0</td>\n",
       "      <td>2.681381e-15</td>\n",
       "      <td>1.000082</td>\n",
       "      <td>-55.290144</td>\n",
       "      <td>0.018086</td>\n",
       "      <td>0.018086</td>\n",
       "      <td>0.018086</td>\n",
       "      <td>0.018086</td>\n",
       "    </tr>\n",
       "    <tr>\n",
       "      <th>jobma_verified</th>\n",
       "      <td>6116.0</td>\n",
       "      <td>2.230612e-16</td>\n",
       "      <td>1.000082</td>\n",
       "      <td>-3.090120</td>\n",
       "      <td>-1.092955</td>\n",
       "      <td>0.904210</td>\n",
       "      <td>0.904210</td>\n",
       "      <td>0.904210</td>\n",
       "    </tr>\n",
       "    <tr>\n",
       "      <th>subscription_status</th>\n",
       "      <td>6116.0</td>\n",
       "      <td>0.000000e+00</td>\n",
       "      <td>0.000000</td>\n",
       "      <td>0.000000</td>\n",
       "      <td>0.000000</td>\n",
       "      <td>0.000000</td>\n",
       "      <td>0.000000</td>\n",
       "      <td>0.000000</td>\n",
       "    </tr>\n",
       "    <tr>\n",
       "      <th>interview_rate</th>\n",
       "      <td>6116.0</td>\n",
       "      <td>-3.392388e-16</td>\n",
       "      <td>1.000082</td>\n",
       "      <td>-5.733589</td>\n",
       "      <td>0.130641</td>\n",
       "      <td>0.130641</td>\n",
       "      <td>0.130641</td>\n",
       "      <td>15.289454</td>\n",
       "    </tr>\n",
       "    <tr>\n",
       "      <th>live_interview_credit</th>\n",
       "      <td>6116.0</td>\n",
       "      <td>3.717686e-17</td>\n",
       "      <td>1.000082</td>\n",
       "      <td>-2.793013</td>\n",
       "      <td>-0.025060</td>\n",
       "      <td>-0.025060</td>\n",
       "      <td>-0.025060</td>\n",
       "      <td>33.987142</td>\n",
       "    </tr>\n",
       "    <tr>\n",
       "      <th>pre_recorded_credit</th>\n",
       "      <td>6116.0</td>\n",
       "      <td>-3.792040e-15</td>\n",
       "      <td>1.000082</td>\n",
       "      <td>-0.025582</td>\n",
       "      <td>-0.025582</td>\n",
       "      <td>-0.025582</td>\n",
       "      <td>-0.025582</td>\n",
       "      <td>39.089641</td>\n",
       "    </tr>\n",
       "    <tr>\n",
       "      <th>credit_value</th>\n",
       "      <td>6116.0</td>\n",
       "      <td>-5.576529e-17</td>\n",
       "      <td>1.000082</td>\n",
       "      <td>-0.894065</td>\n",
       "      <td>-0.894065</td>\n",
       "      <td>-0.894065</td>\n",
       "      <td>1.118487</td>\n",
       "      <td>1.118487</td>\n",
       "    </tr>\n",
       "    <tr>\n",
       "      <th>interview_cost_type</th>\n",
       "      <td>6116.0</td>\n",
       "      <td>0.000000e+00</td>\n",
       "      <td>0.000000</td>\n",
       "      <td>0.000000</td>\n",
       "      <td>0.000000</td>\n",
       "      <td>0.000000</td>\n",
       "      <td>0.000000</td>\n",
       "      <td>0.000000</td>\n",
       "    </tr>\n",
       "    <tr>\n",
       "      <th>subscription_type_x</th>\n",
       "      <td>6116.0</td>\n",
       "      <td>6.018004e-16</td>\n",
       "      <td>1.000082</td>\n",
       "      <td>-69.941690</td>\n",
       "      <td>0.017158</td>\n",
       "      <td>0.017158</td>\n",
       "      <td>0.017158</td>\n",
       "      <td>0.017158</td>\n",
       "    </tr>\n",
       "    <tr>\n",
       "      <th>jobma_support_rtc</th>\n",
       "      <td>6116.0</td>\n",
       "      <td>-2.393260e-15</td>\n",
       "      <td>1.000082</td>\n",
       "      <td>-4.959420</td>\n",
       "      <td>-0.020884</td>\n",
       "      <td>-0.020884</td>\n",
       "      <td>-0.020884</td>\n",
       "      <td>44.477848</td>\n",
       "    </tr>\n",
       "    <tr>\n",
       "      <th>interview_question</th>\n",
       "      <td>6116.0</td>\n",
       "      <td>0.000000e+00</td>\n",
       "      <td>0.000000</td>\n",
       "      <td>0.000000</td>\n",
       "      <td>0.000000</td>\n",
       "      <td>0.000000</td>\n",
       "      <td>0.000000</td>\n",
       "      <td>0.000000</td>\n",
       "    </tr>\n",
       "    <tr>\n",
       "      <th>video_recording_suppport</th>\n",
       "      <td>6116.0</td>\n",
       "      <td>0.000000e+00</td>\n",
       "      <td>0.000000</td>\n",
       "      <td>0.000000</td>\n",
       "      <td>0.000000</td>\n",
       "      <td>0.000000</td>\n",
       "      <td>0.000000</td>\n",
       "      <td>0.000000</td>\n",
       "    </tr>\n",
       "    <tr>\n",
       "      <th>sing_up_canditate_after_apply</th>\n",
       "      <td>6116.0</td>\n",
       "      <td>3.717686e-17</td>\n",
       "      <td>1.000082</td>\n",
       "      <td>-0.840803</td>\n",
       "      <td>-0.840803</td>\n",
       "      <td>-0.840803</td>\n",
       "      <td>1.189339</td>\n",
       "      <td>1.189339</td>\n",
       "    </tr>\n",
       "    <tr>\n",
       "      <th>currency</th>\n",
       "      <td>6116.0</td>\n",
       "      <td>-2.323554e-16</td>\n",
       "      <td>1.000082</td>\n",
       "      <td>-1.370507</td>\n",
       "      <td>-1.370507</td>\n",
       "      <td>0.370565</td>\n",
       "      <td>0.370565</td>\n",
       "      <td>5.162058</td>\n",
       "    </tr>\n",
       "    <tr>\n",
       "      <th>company_size</th>\n",
       "      <td>6116.0</td>\n",
       "      <td>0.000000e+00</td>\n",
       "      <td>0.000000</td>\n",
       "      <td>0.000000</td>\n",
       "      <td>0.000000</td>\n",
       "      <td>0.000000</td>\n",
       "      <td>0.000000</td>\n",
       "      <td>0.000000</td>\n",
       "    </tr>\n",
       "    <tr>\n",
       "      <th>wallet_amount</th>\n",
       "      <td>6116.0</td>\n",
       "      <td>3.299446e-16</td>\n",
       "      <td>1.000082</td>\n",
       "      <td>-1.206851</td>\n",
       "      <td>-1.206851</td>\n",
       "      <td>0.015954</td>\n",
       "      <td>1.033279</td>\n",
       "      <td>3.324749</td>\n",
       "    </tr>\n",
       "    <tr>\n",
       "      <th>plan_type</th>\n",
       "      <td>6116.0</td>\n",
       "      <td>-9.294215e-18</td>\n",
       "      <td>1.000082</td>\n",
       "      <td>-0.501623</td>\n",
       "      <td>-0.501623</td>\n",
       "      <td>-0.176975</td>\n",
       "      <td>-0.176975</td>\n",
       "      <td>37.157560</td>\n",
       "    </tr>\n",
       "    <tr>\n",
       "      <th>is_unlimited</th>\n",
       "      <td>6116.0</td>\n",
       "      <td>4.182397e-17</td>\n",
       "      <td>1.000082</td>\n",
       "      <td>-0.372727</td>\n",
       "      <td>-0.372727</td>\n",
       "      <td>-0.372727</td>\n",
       "      <td>-0.372727</td>\n",
       "      <td>11.020281</td>\n",
       "    </tr>\n",
       "    <tr>\n",
       "      <th>premium_storage</th>\n",
       "      <td>6116.0</td>\n",
       "      <td>9.294215e-18</td>\n",
       "      <td>1.000082</td>\n",
       "      <td>-0.383732</td>\n",
       "      <td>-0.383732</td>\n",
       "      <td>-0.383732</td>\n",
       "      <td>-0.383732</td>\n",
       "      <td>8.984301</td>\n",
       "    </tr>\n",
       "    <tr>\n",
       "      <th>subscription_amount</th>\n",
       "      <td>6116.0</td>\n",
       "      <td>-3.717686e-17</td>\n",
       "      <td>1.000082</td>\n",
       "      <td>-0.385895</td>\n",
       "      <td>-0.385895</td>\n",
       "      <td>-0.385895</td>\n",
       "      <td>-0.385895</td>\n",
       "      <td>9.806427</td>\n",
       "    </tr>\n",
       "    <tr>\n",
       "      <th>number_of_subscriptions</th>\n",
       "      <td>6116.0</td>\n",
       "      <td>0.000000e+00</td>\n",
       "      <td>0.000000</td>\n",
       "      <td>0.000000</td>\n",
       "      <td>0.000000</td>\n",
       "      <td>0.000000</td>\n",
       "      <td>0.000000</td>\n",
       "      <td>0.000000</td>\n",
       "    </tr>\n",
       "    <tr>\n",
       "      <th>number_of_invitations</th>\n",
       "      <td>6116.0</td>\n",
       "      <td>-1.115306e-16</td>\n",
       "      <td>1.000082</td>\n",
       "      <td>-0.989747</td>\n",
       "      <td>-0.989747</td>\n",
       "      <td>-0.111057</td>\n",
       "      <td>0.767632</td>\n",
       "      <td>2.525011</td>\n",
       "    </tr>\n",
       "    <tr>\n",
       "      <th>job_posted</th>\n",
       "      <td>6116.0</td>\n",
       "      <td>0.000000e+00</td>\n",
       "      <td>1.000082</td>\n",
       "      <td>-0.711360</td>\n",
       "      <td>-0.711360</td>\n",
       "      <td>-0.711360</td>\n",
       "      <td>1.405758</td>\n",
       "      <td>1.405758</td>\n",
       "    </tr>\n",
       "    <tr>\n",
       "      <th>number_of_kits</th>\n",
       "      <td>6116.0</td>\n",
       "      <td>4.182397e-17</td>\n",
       "      <td>1.000082</td>\n",
       "      <td>-0.399288</td>\n",
       "      <td>-0.399288</td>\n",
       "      <td>-0.399288</td>\n",
       "      <td>-0.399288</td>\n",
       "      <td>2.504455</td>\n",
       "    </tr>\n",
       "  </tbody>\n",
       "</table>\n",
       "</div>"
      ],
      "text/plain": [
       "                                count          mean       std        min  \\\n",
       "jobma_catcher_id               6116.0 -1.487074e-16  1.000082  -1.801958   \n",
       "org_type                       6116.0  9.294215e-18  1.000082  -0.324121   \n",
       "jobma_catcher_industry         6116.0 -7.725816e-17  1.000082  -2.078224   \n",
       "jobma_catcher_type             6116.0  1.115306e-16  1.000082  -1.509754   \n",
       "is_premium                     6116.0  0.000000e+00  1.000082  -0.438409   \n",
       "jobma_catcher_sub_accounts     6116.0  0.000000e+00  0.000000   0.000000   \n",
       "jobma_catcher_is_deleted       6116.0  2.681381e-15  1.000082 -55.290144   \n",
       "jobma_verified                 6116.0  2.230612e-16  1.000082  -3.090120   \n",
       "subscription_status            6116.0  0.000000e+00  0.000000   0.000000   \n",
       "interview_rate                 6116.0 -3.392388e-16  1.000082  -5.733589   \n",
       "live_interview_credit          6116.0  3.717686e-17  1.000082  -2.793013   \n",
       "pre_recorded_credit            6116.0 -3.792040e-15  1.000082  -0.025582   \n",
       "credit_value                   6116.0 -5.576529e-17  1.000082  -0.894065   \n",
       "interview_cost_type            6116.0  0.000000e+00  0.000000   0.000000   \n",
       "subscription_type_x            6116.0  6.018004e-16  1.000082 -69.941690   \n",
       "jobma_support_rtc              6116.0 -2.393260e-15  1.000082  -4.959420   \n",
       "interview_question             6116.0  0.000000e+00  0.000000   0.000000   \n",
       "video_recording_suppport       6116.0  0.000000e+00  0.000000   0.000000   \n",
       "sing_up_canditate_after_apply  6116.0  3.717686e-17  1.000082  -0.840803   \n",
       "currency                       6116.0 -2.323554e-16  1.000082  -1.370507   \n",
       "company_size                   6116.0  0.000000e+00  0.000000   0.000000   \n",
       "wallet_amount                  6116.0  3.299446e-16  1.000082  -1.206851   \n",
       "plan_type                      6116.0 -9.294215e-18  1.000082  -0.501623   \n",
       "is_unlimited                   6116.0  4.182397e-17  1.000082  -0.372727   \n",
       "premium_storage                6116.0  9.294215e-18  1.000082  -0.383732   \n",
       "subscription_amount            6116.0 -3.717686e-17  1.000082  -0.385895   \n",
       "number_of_subscriptions        6116.0  0.000000e+00  0.000000   0.000000   \n",
       "number_of_invitations          6116.0 -1.115306e-16  1.000082  -0.989747   \n",
       "job_posted                     6116.0  0.000000e+00  1.000082  -0.711360   \n",
       "number_of_kits                 6116.0  4.182397e-17  1.000082  -0.399288   \n",
       "\n",
       "                                    25%       50%       75%        max  \n",
       "jobma_catcher_id              -0.845184 -0.033923  0.723001   1.826670  \n",
       "org_type                      -0.324121 -0.324121 -0.324121   4.558455  \n",
       "jobma_catcher_industry        -0.882440  0.302571  1.153624   1.175170  \n",
       "jobma_catcher_type            -1.509754  0.662360  0.662360   0.662360  \n",
       "is_premium                    -0.438409 -0.438409 -0.438409   2.280973  \n",
       "jobma_catcher_sub_accounts     0.000000  0.000000  0.000000   0.000000  \n",
       "jobma_catcher_is_deleted       0.018086  0.018086  0.018086   0.018086  \n",
       "jobma_verified                -1.092955  0.904210  0.904210   0.904210  \n",
       "subscription_status            0.000000  0.000000  0.000000   0.000000  \n",
       "interview_rate                 0.130641  0.130641  0.130641  15.289454  \n",
       "live_interview_credit         -0.025060 -0.025060 -0.025060  33.987142  \n",
       "pre_recorded_credit           -0.025582 -0.025582 -0.025582  39.089641  \n",
       "credit_value                  -0.894065 -0.894065  1.118487   1.118487  \n",
       "interview_cost_type            0.000000  0.000000  0.000000   0.000000  \n",
       "subscription_type_x            0.017158  0.017158  0.017158   0.017158  \n",
       "jobma_support_rtc             -0.020884 -0.020884 -0.020884  44.477848  \n",
       "interview_question             0.000000  0.000000  0.000000   0.000000  \n",
       "video_recording_suppport       0.000000  0.000000  0.000000   0.000000  \n",
       "sing_up_canditate_after_apply -0.840803 -0.840803  1.189339   1.189339  \n",
       "currency                      -1.370507  0.370565  0.370565   5.162058  \n",
       "company_size                   0.000000  0.000000  0.000000   0.000000  \n",
       "wallet_amount                 -1.206851  0.015954  1.033279   3.324749  \n",
       "plan_type                     -0.501623 -0.176975 -0.176975  37.157560  \n",
       "is_unlimited                  -0.372727 -0.372727 -0.372727  11.020281  \n",
       "premium_storage               -0.383732 -0.383732 -0.383732   8.984301  \n",
       "subscription_amount           -0.385895 -0.385895 -0.385895   9.806427  \n",
       "number_of_subscriptions        0.000000  0.000000  0.000000   0.000000  \n",
       "number_of_invitations         -0.989747 -0.111057  0.767632   2.525011  \n",
       "job_posted                    -0.711360 -0.711360  1.405758   1.405758  \n",
       "number_of_kits                -0.399288 -0.399288 -0.399288   2.504455  "
      ]
     },
     "execution_count": 31,
     "metadata": {},
     "output_type": "execute_result"
    }
   ],
   "source": [
    "X_df.describe().T"
   ]
  },
  {
   "cell_type": "code",
   "execution_count": 32,
   "id": "79ae0908-be54-46f7-bd85-8b5976f32008",
   "metadata": {},
   "outputs": [
    {
     "data": {
      "text/plain": [
       "array(['Yes', 'No'], dtype=object)"
      ]
     },
     "execution_count": 32,
     "metadata": {},
     "output_type": "execute_result"
    }
   ],
   "source": [
    "df['is_unlimited'].unique()"
   ]
  },
  {
   "cell_type": "code",
   "execution_count": 33,
   "id": "44a4e44a-cb56-4fc9-a9e8-895b2a0b8ca9",
   "metadata": {},
   "outputs": [],
   "source": [
    "X_tensor = torch.tensor(X_transformed, dtype=torch.float32).to(device)"
   ]
  },
  {
   "cell_type": "code",
   "execution_count": 34,
   "id": "eec1ad24-abf7-4f4b-ad38-9f73c4ad2e36",
   "metadata": {},
   "outputs": [
    {
     "data": {
      "text/plain": [
       "torch.Tensor"
      ]
     },
     "execution_count": 34,
     "metadata": {},
     "output_type": "execute_result"
    }
   ],
   "source": [
    "type(X_tensor)"
   ]
  },
  {
   "cell_type": "code",
   "execution_count": 35,
   "id": "4259c571-1ee4-421c-92b4-b3a63b0e0567",
   "metadata": {},
   "outputs": [
    {
     "data": {
      "text/plain": [
       "6116"
      ]
     },
     "execution_count": 35,
     "metadata": {},
     "output_type": "execute_result"
    }
   ],
   "source": [
    "len(X_tensor)"
   ]
  },
  {
   "cell_type": "markdown",
   "id": "7489114f-5886-4d29-9314-19596bf0a8c6",
   "metadata": {},
   "source": [
    "# Dataset Class"
   ]
  },
  {
   "cell_type": "code",
   "execution_count": 37,
   "id": "86f26d21-3adf-4710-9a89-c39e942aec96",
   "metadata": {},
   "outputs": [],
   "source": [
    "class CustomDataset(Dataset):\n",
    "    def __init__(self, data):\n",
    "        self.data = torch.tensor(data, dtype=torch.float32)\n",
    "\n",
    "    def __len__(self):\n",
    "        return len(self.data)\n",
    "\n",
    "    def __getitem__(self, idx):\n",
    "        return self.data[idx]"
   ]
  },
  {
   "cell_type": "code",
   "execution_count": 38,
   "id": "8fc8eabe-1886-45e2-943e-fde239eda227",
   "metadata": {},
   "outputs": [],
   "source": [
    "X_data = CustomDataset(X_tensor)"
   ]
  },
  {
   "cell_type": "markdown",
   "id": "3e3b99b1-d31b-4fd2-8313-2c0d25cfeb94",
   "metadata": {},
   "source": [
    "# DataLoader"
   ]
  },
  {
   "cell_type": "code",
   "execution_count": 40,
   "id": "9884ce75-e2e7-4c9a-b7a4-189c35aa7b7f",
   "metadata": {},
   "outputs": [],
   "source": [
    "BATCH_SIZE = 8"
   ]
  },
  {
   "cell_type": "code",
   "execution_count": 41,
   "id": "adb1e508-937a-461c-98e1-49e40b2035bc",
   "metadata": {},
   "outputs": [],
   "source": [
    "dataloader = DataLoader(X_data, batch_size=BATCH_SIZE, shuffle=True)"
   ]
  },
  {
   "cell_type": "code",
   "execution_count": 42,
   "id": "4a699fa0-3c6f-4daf-9425-2aa434d70996",
   "metadata": {},
   "outputs": [
    {
     "data": {
      "text/plain": [
       "6116"
      ]
     },
     "execution_count": 42,
     "metadata": {},
     "output_type": "execute_result"
    }
   ],
   "source": [
    "len(X_data)"
   ]
  },
  {
   "cell_type": "code",
   "execution_count": 43,
   "id": "3df8a7b3-98c9-4dab-a787-f9461c8da235",
   "metadata": {},
   "outputs": [
    {
     "data": {
      "text/plain": [
       "765"
      ]
     },
     "execution_count": 43,
     "metadata": {},
     "output_type": "execute_result"
    }
   ],
   "source": [
    "len(dataloader)"
   ]
  },
  {
   "cell_type": "markdown",
   "id": "b2ef5609-75a3-494f-b360-ef6a5980cf7e",
   "metadata": {},
   "source": [
    "# Autoencoder"
   ]
  },
  {
   "cell_type": "code",
   "execution_count": 45,
   "id": "3e300eb2-2174-4f6e-b8a0-d6e9529702b9",
   "metadata": {},
   "outputs": [],
   "source": [
    "class AutoEncoder(nn.Module):\n",
    "    def __init__(self, input_shape):\n",
    "        super().__init__()\n",
    "        ''' Encoder (Compression) '''\n",
    "        # Shrinks job data into a small hidden representation (like a summary).\n",
    "        self.encoder = nn.Sequential(\n",
    "            nn.Linear(input_shape, 128),\n",
    "            nn.ReLU(),\n",
    "            nn.Linear(128, 64),\n",
    "            nn.ReLU(),\n",
    "            nn.Linear(64, 32)\n",
    "        )\n",
    "\n",
    "        ''' Decoder (Reconstruction) '''\n",
    "        # Tries to rebuild the original job data from that compressed version.\n",
    "        self.decoder = nn.Sequential(\n",
    "            nn.Linear(32,64),\n",
    "            nn.ReLU(),\n",
    "            nn.Linear(64,128),\n",
    "            nn.ReLU(),\n",
    "            nn.Linear(128, input_shape)\n",
    "        )\n",
    "\n",
    "    def forward(self, x):\n",
    "        encoded = self.encoder(x)\n",
    "        decoded = self.decoder(encoded)\n",
    "        return encoded, decoded"
   ]
  },
  {
   "cell_type": "markdown",
   "id": "a8cf39ed-5d5b-4f2e-9702-56711f46175b",
   "metadata": {},
   "source": [
    "**FLOW 1**\n",
    "\n",
    "Model's encoder(embeddings) ----->  DEC's Input1"
   ]
  },
  {
   "cell_type": "code",
   "execution_count": 47,
   "id": "e997c802-8aba-4b7e-8231-1e5d27428990",
   "metadata": {},
   "outputs": [
    {
     "data": {
      "text/plain": [
       "30"
      ]
     },
     "execution_count": 47,
     "metadata": {},
     "output_type": "execute_result"
    }
   ],
   "source": [
    "X_df.shape[1]"
   ]
  },
  {
   "cell_type": "code",
   "execution_count": 48,
   "id": "76e9cebd-670b-4807-9be2-b473f4d47fab",
   "metadata": {},
   "outputs": [
    {
     "data": {
      "text/plain": [
       "AutoEncoder(\n",
       "  (encoder): Sequential(\n",
       "    (0): Linear(in_features=30, out_features=128, bias=True)\n",
       "    (1): ReLU()\n",
       "    (2): Linear(in_features=128, out_features=64, bias=True)\n",
       "    (3): ReLU()\n",
       "    (4): Linear(in_features=64, out_features=32, bias=True)\n",
       "  )\n",
       "  (decoder): Sequential(\n",
       "    (0): Linear(in_features=32, out_features=64, bias=True)\n",
       "    (1): ReLU()\n",
       "    (2): Linear(in_features=64, out_features=128, bias=True)\n",
       "    (3): ReLU()\n",
       "    (4): Linear(in_features=128, out_features=30, bias=True)\n",
       "  )\n",
       ")"
      ]
     },
     "execution_count": 48,
     "metadata": {},
     "output_type": "execute_result"
    }
   ],
   "source": [
    "''' Initializing the model '''\n",
    "input_shape = X_df.shape[1]\n",
    "\n",
    "model_1 = AutoEncoder(input_shape)\n",
    "model_1.to(device)"
   ]
  },
  {
   "cell_type": "code",
   "execution_count": 49,
   "id": "dce1f91e-8612-4b00-b9dc-3cf8cd5c6e59",
   "metadata": {},
   "outputs": [],
   "source": [
    "''' Important Parameters '''\n",
    "\n",
    "learning_rate = 0.001\n",
    "epochs = 20"
   ]
  },
  {
   "cell_type": "code",
   "execution_count": 50,
   "id": "c6f9f4d0-7ce1-4aac-ba97-1700ab09296c",
   "metadata": {},
   "outputs": [],
   "source": [
    "''' Loss Function and Optimizer '''\n",
    "\n",
    "cosine_loss_function = nn.CosineEmbeddingLoss()\n",
    "mse_loss_function = nn.MSELoss()\n",
    "optimizer = torch.optim.Adam(model_1.parameters(), lr=learning_rate)"
   ]
  },
  {
   "cell_type": "code",
   "execution_count": 51,
   "id": "bf07f364-d26d-4ddc-bcc3-15d44ffcc857",
   "metadata": {},
   "outputs": [
    {
     "name": "stdout",
     "output_type": "stream",
     "text": [
      "Epoch 1/20 | Training Loss: 0.52693\n",
      "Epoch 2/20 | Training Loss: 0.31145\n",
      "Epoch 3/20 | Training Loss: 0.24965\n",
      "Epoch 4/20 | Training Loss: 0.21513\n",
      "Epoch 5/20 | Training Loss: 0.19061\n",
      "Epoch 6/20 | Training Loss: 0.17766\n",
      "Epoch 7/20 | Training Loss: 0.14124\n",
      "Epoch 8/20 | Training Loss: 0.13440\n",
      "Epoch 9/20 | Training Loss: 0.10422\n",
      "Epoch 10/20 | Training Loss: 0.09352\n",
      "Epoch 11/20 | Training Loss: 0.08562\n",
      "Epoch 12/20 | Training Loss: 0.07397\n",
      "Epoch 13/20 | Training Loss: 0.10079\n",
      "Epoch 14/20 | Training Loss: 0.07406\n",
      "Epoch 15/20 | Training Loss: 0.07738\n",
      "Epoch 16/20 | Training Loss: 0.04682\n",
      "Epoch 17/20 | Training Loss: 0.04511\n",
      "Epoch 18/20 | Training Loss: 0.06547\n",
      "Epoch 19/20 | Training Loss: 0.05162\n",
      "Epoch 20/20 | Training Loss: 0.06050\n"
     ]
    }
   ],
   "source": [
    "torch.manual_seed(42)\n",
    "\n",
    "model_1.train()\n",
    "model_1.to(device)\n",
    "\n",
    "for epoch in range(epochs):\n",
    "    epoch_total_loss = 0\n",
    "\n",
    "    for batch_X in dataloader:\n",
    "        batch_X = batch_X.to(device)\n",
    "\n",
    "        # Forward pass\n",
    "        encoded, decoded = model_1(batch_X)\n",
    "\n",
    "        # Reconstruction Loss\n",
    "        mse_loss = mse_loss_function(decoded, batch_X)\n",
    "\n",
    "        # Similarity Loss using randomly shuffled batch\n",
    "        # Get how many samples are in this batch\n",
    "        batch_size = encoded.shape[0]\n",
    "        # Create target labels (1 means we want vectors to be similar)\n",
    "        target_labels = torch.ones(batch_size, device=device)\n",
    "\n",
    "        # Shuffle the encoded vectors randomly\n",
    "        permuted_indices = torch.randperm(batch_size, device=device)\n",
    "        encoded_shuffled = encoded[permuted_indices]\n",
    "\n",
    "        # Calculate Cosine Embedding Loss on original vs shuffled\n",
    "        cosine_loss = cosine_loss_function(encoded, encoded_shuffled, target_labels)\n",
    "\n",
    "        # Total Loss\n",
    "        total_loss = mse_loss + cosine_loss\n",
    "\n",
    "        # Backpropagation\n",
    "        optimizer.zero_grad()\n",
    "        total_loss.backward()\n",
    "        optimizer.step()\n",
    "\n",
    "        epoch_total_loss += total_loss.item()\n",
    "\n",
    "    # Average loss over all batches in the epoch\n",
    "    training_loss = epoch_total_loss / len(dataloader)\n",
    "    print(f'Epoch {epoch+1}/{epochs} | Training Loss: {training_loss:.5f}')\n"
   ]
  },
  {
   "cell_type": "markdown",
   "id": "b7fa496c-dcd2-47f5-b68c-2ede215bfa36",
   "metadata": {},
   "source": [
    "# Clustering"
   ]
  },
  {
   "cell_type": "code",
   "execution_count": 53,
   "id": "2f829520-ea1e-4064-892f-d13861254980",
   "metadata": {},
   "outputs": [],
   "source": [
    "model_1.eval()\n",
    "\n",
    "with torch.no_grad():\n",
    "    encoder, _ = model_1(X_tensor)\n",
    "\n",
    "latent_np = encoder.cpu().numpy()"
   ]
  },
  {
   "cell_type": "code",
   "execution_count": 54,
   "id": "f003362e-3e47-42da-a564-ac03d606a87e",
   "metadata": {},
   "outputs": [],
   "source": [
    "wcss = []\n",
    "silhouette_scores = []\n",
    "k_range = range(2,11)"
   ]
  },
  {
   "cell_type": "code",
   "execution_count": 55,
   "id": "519c2624-11fb-46c0-89b8-c892e79ba554",
   "metadata": {},
   "outputs": [],
   "source": [
    "torch.manual_seed(42)\n",
    "\n",
    "for k in k_range:\n",
    "    kmeans = KMeans(n_clusters=k, random_state=42)\n",
    "    labels = kmeans.fit_predict(latent_np)\n",
    "    \n",
    "    wcss.append(kmeans.inertia_)  # Inertia = WCSS\n",
    "    silhouette_scores.append(silhouette_score(latent_np, labels))"
   ]
  },
  {
   "cell_type": "code",
   "execution_count": 56,
   "id": "9a6b35f3-508c-40fa-829d-59781369fdbd",
   "metadata": {},
   "outputs": [
    {
     "data": {
      "image/png": "[encoded data removed]",
      "text/plain": [
       "<Figure size 1200x500 with 2 Axes>"
      ]
     },
     "metadata": {},
     "output_type": "display_data"
    }
   ],
   "source": [
    "''' Elbow Rule to decide the number of clusters '''\n",
    "torch.manual_seed(42)\n",
    "plt.figure(figsize=(12, 5))\n",
    "\n",
    "plt.subplot(1, 2, 1)\n",
    "plt.plot(k_range, wcss, marker='o')\n",
    "plt.title('Elbow Method (WCSS vs K)')\n",
    "plt.xlabel('Number of clusters (K)')\n",
    "plt.ylabel('WCSS (Inertia)')\n",
    "\n",
    "# Step 5: Plot Silhouette Scores\n",
    "plt.subplot(1, 2, 2)\n",
    "plt.plot(k_range, silhouette_scores, marker='o', color='green')\n",
    "plt.title('Silhouette Score vs K')\n",
    "plt.xlabel('Number of clusters (K)')\n",
    "plt.ylabel('Average Silhouette Score')\n",
    "\n",
    "plt.tight_layout()\n",
    "plt.show()"
   ]
  },
  {
   "cell_type": "code",
   "execution_count": 57,
   "id": "e916de62-646f-49c0-9cc1-292700884e1b",
   "metadata": {},
   "outputs": [],
   "source": [
    "#Initialising KMeans\n",
    "kmeans = KMeans(n_clusters=3, n_init=50)\n",
    "cluster_ids = kmeans.fit_predict(latent_np)\n",
    "cluster_centers = torch.tensor(kmeans.cluster_centers_, dtype=torch.float32).to(device)"
   ]
  },
  {
   "cell_type": "markdown",
   "id": "6aa94cce-fe52-4e3b-9a65-3e82cd5000e3",
   "metadata": {},
   "source": [
    "**FLOW 2**\n",
    "\n",
    "KMeans Cluster_Centers(Centroids) ----->  DEC's Input2"
   ]
  },
  {
   "cell_type": "code",
   "execution_count": 59,
   "id": "947a9787-8e9b-42a8-bf62-df5a8704add3",
   "metadata": {},
   "outputs": [],
   "source": [
    "# Deep Embedding Clusturing Model\n",
    "class DEC(nn.Module):\n",
    "    def __init__(self, encoder, cluster_centers):\n",
    "        super(DEC, self).__init__()\n",
    "        self.encoder = encoder\n",
    "        self.cluster_centers = nn.Parameter(cluster_centers)\n",
    "\n",
    "    def forward(self, x):\n",
    "        z = self.encoder(x)\n",
    "        q = 1.0 / (1.0 + torch.sum((z.unsqueeze(1) - self.cluster_centers)**2, dim=2))\n",
    "        q = q.pow((1 + 1) / 2.0)\n",
    "        q = (q.t() / torch.sum(q, dim=1)).t()\n",
    "        return q, z\n",
    "\n",
    "def target_distribution(q):\n",
    "    weight = q**2 / q.sum(0)\n",
    "    return (weight.t() / weight.sum(1)).t()  "
   ]
  },
  {
   "cell_type": "code",
   "execution_count": 60,
   "id": "ae98ab11-db64-4889-9a83-e06b86b12d0c",
   "metadata": {},
   "outputs": [],
   "source": [
    "''' Initializing DEC Model '''\n",
    "dec = DEC(model_1.encoder, cluster_centers.clone()).to(device)"
   ]
  },
  {
   "cell_type": "code",
   "execution_count": 61,
   "id": "af61226d-540e-4a4d-a4b8-c2165f01f199",
   "metadata": {},
   "outputs": [],
   "source": [
    "''' Loss Function and Optimizer '''\n",
    "\n",
    "kl_loss = nn.KLDivLoss(reduction='batchmean')\n",
    "optimizer = torch.optim.Adam(dec.parameters(), lr=1e-4)"
   ]
  },
  {
   "cell_type": "code",
   "execution_count": 62,
   "id": "3c3d81bc-919f-4a63-b67a-bb634207d2e9",
   "metadata": {},
   "outputs": [
    {
     "name": "stdout",
     "output_type": "stream",
     "text": [
      "Epoch 1/50, Loss: 0.0702\n",
      "Epoch 2/50, Loss: 0.0214\n",
      "Epoch 3/50, Loss: 0.0218\n",
      "Epoch 4/50, Loss: 0.0022\n",
      "Epoch 5/50, Loss: 0.0005\n",
      "Epoch 6/50, Loss: 0.0143\n",
      "Epoch 7/50, Loss: 0.0409\n",
      "Epoch 8/50, Loss: 0.0052\n",
      "Epoch 9/50, Loss: 0.0202\n",
      "Epoch 10/50, Loss: 0.0006\n",
      "Epoch 11/50, Loss: 0.0055\n",
      "Epoch 12/50, Loss: 0.0047\n",
      "Epoch 13/50, Loss: 0.0105\n",
      "Epoch 14/50, Loss: 0.0019\n",
      "Epoch 15/50, Loss: 0.0000\n",
      "Epoch 16/50, Loss: 0.0046\n",
      "Epoch 17/50, Loss: 0.0043\n",
      "Epoch 18/50, Loss: 0.0040\n",
      "Epoch 19/50, Loss: 0.0017\n",
      "Epoch 20/50, Loss: 0.0046\n",
      "Epoch 21/50, Loss: 0.0000\n",
      "Epoch 22/50, Loss: 0.0000\n",
      "Epoch 23/50, Loss: 0.0035\n",
      "Epoch 24/50, Loss: 0.0000\n",
      "Epoch 25/50, Loss: 0.0037\n",
      "Epoch 26/50, Loss: 0.0051\n",
      "Epoch 27/50, Loss: 0.0194\n",
      "Epoch 28/50, Loss: 0.0000\n",
      "Epoch 29/50, Loss: 0.0031\n",
      "Epoch 30/50, Loss: 0.0033\n",
      "Epoch 31/50, Loss: 0.0029\n",
      "Epoch 32/50, Loss: 0.0000\n",
      "Epoch 33/50, Loss: 0.0054\n",
      "Epoch 34/50, Loss: 0.0000\n",
      "Epoch 35/50, Loss: 0.0003\n",
      "Epoch 36/50, Loss: 0.0030\n",
      "Epoch 37/50, Loss: 0.0026\n",
      "Epoch 38/50, Loss: 0.0026\n",
      "Epoch 39/50, Loss: 0.0026\n",
      "Epoch 40/50, Loss: 0.0024\n",
      "Epoch 41/50, Loss: 0.0025\n",
      "Epoch 42/50, Loss: 0.0030\n",
      "Epoch 43/50, Loss: 0.0000\n",
      "Epoch 44/50, Loss: 0.0022\n",
      "Epoch 45/50, Loss: 0.0024\n",
      "Epoch 46/50, Loss: 0.0003\n",
      "Epoch 47/50, Loss: 0.0027\n",
      "Epoch 48/50, Loss: 0.0020\n",
      "Epoch 49/50, Loss: 0.0022\n",
      "Epoch 50/50, Loss: 0.0031\n"
     ]
    }
   ],
   "source": [
    "''' Training Loop '''\n",
    "torch.manual_seed(42)\n",
    "dec.train()\n",
    "num_epochs = 50\n",
    "\n",
    "for epoch in range(num_epochs):\n",
    "    for batch in dataloader:\n",
    "        x = batch.to(device)\n",
    "\n",
    "        # Forward pass\n",
    "        q, z = dec(x)\n",
    "\n",
    "        # Target distribution\n",
    "        p = target_distribution(q)\n",
    "\n",
    "        # Compute loss\n",
    "        loss = kl_loss(q.log(), p)\n",
    "\n",
    "        # Backpropogation\n",
    "        optimizer.zero_grad()\n",
    "        loss.backward()\n",
    "        optimizer.step()\n",
    "\n",
    "    print(f\"Epoch {epoch + 1}/{num_epochs}, Loss: {loss.item():.4f}\")"
   ]
  },
  {
   "cell_type": "code",
   "execution_count": 63,
   "id": "625adf3a-9ce4-49e3-974c-bd53a10b3e59",
   "metadata": {},
   "outputs": [
    {
     "data": {
      "image/png": "[encoded data removed]",
      "text/plain": [
       "<Figure size 1500x600 with 1 Axes>"
      ]
     },
     "metadata": {},
     "output_type": "display_data"
    }
   ],
   "source": [
    "''' Visualizing the Clusters '''\n",
    "\n",
    "dec.eval()\n",
    "with torch.no_grad():\n",
    "    _, z= dec(X_tensor.to(device)) # Get embedded features\n",
    "    # Reduce dimensions for visualization (using t-SNE)\n",
    "    z_2d = TSNE(n_components=2).fit_transform(z.cpu().numpy())\n",
    "\n",
    "    # Visualize the clusters (color = cluster assignments)\n",
    "    plt.figure(figsize=(15,6))\n",
    "    plt.scatter(z_2d[:,0], z_2d[:,1], c=cluster_ids, cmap='viridis')\n",
    "    plt.title('t-SNE visualization of clustered data')\n",
    "    plt.show()"
   ]
  },
  {
   "cell_type": "code",
   "execution_count": 64,
   "id": "6b189493-7153-4e87-b184-8fd05e3d096d",
   "metadata": {},
   "outputs": [],
   "source": [
    "dec.eval()\n",
    "\n",
    "''' Assign each data point to a cluster (hard assignment) '''\n",
    "with torch.no_grad():\n",
    "    q, _ = dec(X_tensor.to(device))\n",
    "    preds = torch.argmax(q, dim=1).cpu().numpy()\n",
    "\n",
    "''' Add cluster labels to original dataframe '''\n",
    "df_train = df.iloc[-X_tensor.shape[0]:].copy()\n",
    "df_train['cluster_id'] = preds"
   ]
  },
  {
   "cell_type": "code",
   "execution_count": 65,
   "id": "665bfc9e-06bd-46e0-a7f7-4b3cbeecdcec",
   "metadata": {},
   "outputs": [
    {
     "name": "stdout",
     "output_type": "stream",
     "text": [
      "            jobma_catcher_id  org_type  jobma_catcher_type  is_premium  \\\n",
      "cluster_id                                                               \n",
      "0                9161.507246  0.376812            0.992754    0.108696   \n",
      "1                6910.890568  0.103386            0.002418    0.004837   \n",
      "2                6355.718779  0.136216            0.950509    0.222710   \n",
      "\n",
      "            jobma_catcher_sub_accounts  jobma_verified  subscription_status  \\\n",
      "cluster_id                                                                    \n",
      "0                                  0.0        1.000000             1.195652   \n",
      "1                                  0.0        0.998791             0.999395   \n",
      "2                                  0.0        1.000000             1.768039   \n",
      "\n",
      "            interview_rate  live_interview_credit  pre_recorded_credit  ...  \\\n",
      "cluster_id                                                              ...   \n",
      "0                      0.0               1.326087            90.065145  ...   \n",
      "1                      0.0               1.000000             1.000000  ...   \n",
      "2                      0.0               0.965310             1.029833  ...   \n",
      "\n",
      "            video_recording_suppport  sing_up_canditate_after_apply  currency  \\\n",
      "cluster_id                                                                      \n",
      "0                                2.0                            0.0  0.224638   \n",
      "1                                2.0                            0.0  0.266626   \n",
      "2                                2.0                            0.0  0.476642   \n",
      "\n",
      "            wallet_amount  premium_storage  subscription_amount  \\\n",
      "cluster_id                                                        \n",
      "0           439383.159420              0.0         40652.776812   \n",
      "1                0.145103              0.0            23.962515   \n",
      "2              170.642229              0.0        108883.377139   \n",
      "\n",
      "            number_of_subscriptions  number_of_invitations  job_posted  \\\n",
      "cluster_id                                                               \n",
      "0                          3.173913              11.079710    1.804348   \n",
      "1                          0.003628               1.619105    0.293229   \n",
      "2                          2.082794              18.613321    1.000000   \n",
      "\n",
      "            number_of_kits  \n",
      "cluster_id                  \n",
      "0                 2.347826  \n",
      "1                 0.215236  \n",
      "2                 1.136216  \n",
      "\n",
      "[3 rows x 25 columns]\n"
     ]
    }
   ],
   "source": [
    "cluster_summary = df_train.groupby('cluster_id').mean(numeric_only=True)\n",
    "print(cluster_summary)"
   ]
  },
  {
   "cell_type": "markdown",
   "id": "67255b0c-af83-43ac-ab60-a09efb472c3f",
   "metadata": {},
   "source": [
    "# Final Step: Add Meaningful Cluster Labels for Recommendation System"
   ]
  },
  {
   "cell_type": "code",
   "execution_count": 67,
   "id": "9b821af4-45f7-40bc-8886-ff67648e8d2d",
   "metadata": {},
   "outputs": [],
   "source": [
    "cluster_names = {\n",
    "    0: \"Passive\",   # Average\n",
    "    1: \"Engaged\",   # Active\n",
    "    2: \"Dormant\",   # Very Low Activity\n",
    "    3: \"Loyal\"      # Very High Activity\n",
    "}\n",
    "df_train['cluster_label'] = df_train['cluster_id'].map(cluster_names)"
   ]
  },
  {
   "cell_type": "code",
   "execution_count": 68,
   "id": "19441fc6-2e1b-4850-ba2c-67419546f09c",
   "metadata": {},
   "outputs": [
    {
     "data": {
      "text/plain": [
       "pandas.core.frame.DataFrame"
      ]
     },
     "execution_count": 68,
     "metadata": {},
     "output_type": "execute_result"
    }
   ],
   "source": [
    "type(df_train)"
   ]
  },
  {
   "cell_type": "code",
   "execution_count": 69,
   "id": "a3f14fdf-2b6d-40ee-a634-646a990bc2d0",
   "metadata": {},
   "outputs": [
    {
     "data": {
      "text/plain": [
       "(6116, 32)"
      ]
     },
     "execution_count": 69,
     "metadata": {},
     "output_type": "execute_result"
    }
   ],
   "source": [
    "df_train.shape"
   ]
  },
  {
   "cell_type": "code",
   "execution_count": 70,
   "id": "fc3b21d6-a87d-43d0-af0c-44f3a3556a09",
   "metadata": {},
   "outputs": [
    {
     "data": {
      "text/plain": [
       "Index(['jobma_catcher_id', 'org_type', 'jobma_catcher_industry',\n",
       "       'jobma_catcher_type', 'is_premium', 'jobma_catcher_sub_accounts',\n",
       "       'jobma_catcher_is_deleted', 'jobma_verified', 'subscription_status',\n",
       "       'interview_rate', 'live_interview_credit', 'pre_recorded_credit',\n",
       "       'credit_value', 'interview_cost_type', 'subscription_type_x',\n",
       "       'jobma_support_rtc', 'interview_question', 'video_recording_suppport',\n",
       "       'sing_up_canditate_after_apply', 'currency', 'company_size',\n",
       "       'wallet_amount', 'plan_type', 'is_unlimited', 'premium_storage',\n",
       "       'subscription_amount', 'number_of_subscriptions',\n",
       "       'number_of_invitations', 'job_posted', 'number_of_kits', 'cluster_id',\n",
       "       'cluster_label'],\n",
       "      dtype='object')"
      ]
     },
     "execution_count": 70,
     "metadata": {},
     "output_type": "execute_result"
    }
   ],
   "source": [
    "df_train.columns"
   ]
  },
  {
   "cell_type": "code",
   "execution_count": 71,
   "id": "5ea25418-f7bd-4fae-bf86-3923fd2c2df4",
   "metadata": {},
   "outputs": [
    {
     "data": {
      "image/png": "[encoded data removed]",
      "text/plain": [
       "<Figure size 640x480 with 1 Axes>"
      ]
     },
     "metadata": {},
     "output_type": "display_data"
    }
   ],
   "source": [
    "''' Visualizing the Cluster as a chart to determine the distribution of labels '''\n",
    "\n",
    "sns.countplot(x='cluster_label', data=df_train)\n",
    "plt.title('Cluster Distribution Chart')\n",
    "plt.show()"
   ]
  },
  {
   "cell_type": "markdown",
   "id": "ee06284e-e26d-4248-a3d4-0c0c45785b7c",
   "metadata": {},
   "source": [
    "# Recommendation System"
   ]
  },
  {
   "cell_type": "code",
   "execution_count": 73,
   "id": "1c181b96-bc11-487d-9ea7-bfc106c50f73",
   "metadata": {},
   "outputs": [],
   "source": [
    "original_df = pd.read_csv('recommend1.csv')"
   ]
  },
  {
   "cell_type": "code",
   "execution_count": 74,
   "id": "b01d78bf-e1bc-4210-9be1-8013fd883f21",
   "metadata": {},
   "outputs": [
    {
     "data": {
      "text/plain": [
       "Index(['jobma_catcher_id', 'org_type', 'jobma_catcher_industry',\n",
       "       'jobma_catcher_type', 'is_premium', 'jobma_catcher_sub_accounts',\n",
       "       'jobma_catcher_is_deleted', 'jobma_verified', 'subscription_status',\n",
       "       'interview_rate', 'live_interview_credit', 'pre_recorded_credit',\n",
       "       'credit_value', 'interview_cost_type', 'subscription_type_x',\n",
       "       'jobma_support_rtc', 'interview_question', 'video_recording_suppport',\n",
       "       'sing_up_canditate_after_apply', 'currency', 'company_size',\n",
       "       'wallet_amount', 'plan_type', 'is_unlimited', 'premium_storage',\n",
       "       'subscription_amount', 'number_of_subscriptions',\n",
       "       'number_of_invitations', 'job_posted', 'number_of_kits', 'cluster_id',\n",
       "       'cluster_label'],\n",
       "      dtype='object')"
      ]
     },
     "execution_count": 74,
     "metadata": {},
     "output_type": "execute_result"
    }
   ],
   "source": [
    "df_train.columns"
   ]
  },
  {
   "cell_type": "code",
   "execution_count": 75,
   "id": "bd8525d7-8b5a-48ab-a1d9-abd876203fd5",
   "metadata": {},
   "outputs": [
    {
     "data": {
      "text/plain": [
       "Index(['jobma_catcher_id', 'jobma_catcher_company', 'company_size',\n",
       "       'is_premium'],\n",
       "      dtype='object')"
      ]
     },
     "execution_count": 75,
     "metadata": {},
     "output_type": "execute_result"
    }
   ],
   "source": [
    "original_df.columns"
   ]
  },
  {
   "cell_type": "code",
   "execution_count": 76,
   "id": "fe5c1007-1daf-4cca-8e30-ff4a65aa4b2f",
   "metadata": {},
   "outputs": [],
   "source": [
    "def recommend(df, original_df, metric='wallet_amount', top_k=5, label='Loyal'):\n",
    "    loyal_df = df[df['cluster_label'] == label]\n",
    "    top_clients_df = loyal_df.sort_values(by=metric, ascending=False).head(top_k)\n",
    "    merged_df = pd.merge(top_clients_df,\n",
    "                         original_df[['jobma_catcher_id', 'jobma_catcher_company', 'company_size', 'is_premium']], \n",
    "                         on='jobma_catcher_id', \n",
    "                         how='left', \n",
    "                         suffixes=('_train', '_orig'))\n",
    "\n",
    "    # columns_to_return = [col for col in ['jobma_catcher_id', 'jobma_catcher_company', 'company_size', 'is_premium'] if col in merged_df.columns]\n",
    "    \n",
    "    \n",
    "    return merged_df[[\n",
    "        'jobma_catcher_id',\n",
    "        'jobma_catcher_company',\n",
    "        'company_size_orig',\n",
    "        'is_premium_orig'\n",
    "    ]].rename(columns={\n",
    "        'company_size_orig': 'company_size',\n",
    "        'is_premium_orig'  : 'is_premium'\n",
    "    })"
   ]
  },
  {
   "cell_type": "code",
   "execution_count": 77,
   "id": "7cd2b696-e43c-4c16-9e60-a8b656f9c4ec",
   "metadata": {},
   "outputs": [
    {
     "data": {
      "text/plain": [
       "Index(['jobma_catcher_id', 'jobma_catcher_company', 'company_size',\n",
       "       'is_premium'],\n",
       "      dtype='object')"
      ]
     },
     "execution_count": 77,
     "metadata": {},
     "output_type": "execute_result"
    }
   ],
   "source": [
    "original_df.columns"
   ]
  },
  {
   "cell_type": "code",
   "execution_count": 78,
   "id": "f1e200bf-ae0d-4ca6-a028-637b97a310aa",
   "metadata": {},
   "outputs": [
    {
     "name": "stdout",
     "output_type": "stream",
     "text": [
      "Empty DataFrame\n",
      "Columns: [jobma_catcher_id, jobma_catcher_company, company_size, is_premium]\n",
      "Index: []\n"
     ]
    }
   ],
   "source": [
    "''' Loyal '''\n",
    "\n",
    "result_loyal = recommend(df_train, original_df, metric='wallet_amount', top_k=5, label='Loyal')\n",
    "print(result_loyal)"
   ]
  },
  {
   "cell_type": "code",
   "execution_count": 79,
   "id": "01a5df64-69a7-4704-8bc4-0aca5bcf90cf",
   "metadata": {},
   "outputs": [
    {
     "name": "stdout",
     "output_type": "stream",
     "text": [
      "   jobma_catcher_id jobma_catcher_company company_size  is_premium\n",
      "0              5465                   ssi       26-100         0.0\n",
      "1              5466                   ssi         1-25         0.0\n",
      "2              3982                select      101-500         1.0\n",
      "3              3831                   SSI         1-25         1.0\n",
      "4              8292                 Jobma      101-500         0.0\n"
     ]
    }
   ],
   "source": [
    "''' Engaged '''\n",
    "\n",
    "result_engaged = recommend(df_train, original_df, metric='wallet_amount', top_k=5, label='Engaged')\n",
    "print(result_engaged)"
   ]
  },
  {
   "cell_type": "code",
   "execution_count": 80,
   "id": "1e5ec788-f364-48fc-9103-75545bb18478",
   "metadata": {},
   "outputs": [
    {
     "name": "stdout",
     "output_type": "stream",
     "text": [
      "   jobma_catcher_id jobma_catcher_company    company_size  is_premium\n",
      "0              7099                qwerty            1-25         0.0\n",
      "1              9577   Soyo NRI Enterprise         101-500         1.0\n",
      "2             10099                  Test          26-100         0.0\n",
      "3             10076         Mirja Dessert  More than 1000         0.0\n",
      "4             10078                 Jobma            1-25         0.0\n"
     ]
    }
   ],
   "source": [
    "''' Passive '''\n",
    "\n",
    "result_passive = recommend(df_train, original_df, metric='wallet_amount', top_k=5, label='Passive')\n",
    "print(result_passive)"
   ]
  },
  {
   "cell_type": "code",
   "execution_count": 81,
   "id": "4387674a-b841-4de6-9317-74f264958afc",
   "metadata": {},
   "outputs": [
    {
     "name": "stdout",
     "output_type": "stream",
     "text": [
      "   jobma_catcher_id jobma_catcher_company    company_size  is_premium\n",
      "0              9990                   SSI            1-25         0.0\n",
      "1              9863                 Ankit            1-25         1.0\n",
      "2              7810         apple company  More than 1000         1.0\n",
      "3              8535                 sdknj            1-25         1.0\n",
      "4              8636          Sri infotech          26-100         1.0\n"
     ]
    }
   ],
   "source": [
    "''' Dormant '''\n",
    "\n",
    "result_dormant = recommend(df_train, original_df, metric='wallet_amount', top_k=5, label='Dormant')\n",
    "print(result_dormant)"
   ]
  }
 ],
 "metadata": {
  "kernelspec": {
   "display_name": "Python 3 (ipykernel)",
   "language": "python",
   "name": "python3"
  },
  "language_info": {
   "codemirror_mode": {
    "name": "ipython",
    "version": 3
   },
   "file_extension": ".py",
   "mimetype": "text/x-python",
   "name": "python",
   "nbconvert_exporter": "python",
   "pygments_lexer": "ipython3",
   "version": "3.12.7"
  }
 },
 "nbformat": 4,
 "nbformat_minor": 5
}
