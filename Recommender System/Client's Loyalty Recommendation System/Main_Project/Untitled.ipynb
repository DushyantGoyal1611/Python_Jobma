{
 "cells": [
  {
   "cell_type": "code",
   "execution_count": 1,
   "id": "6071a3ce-df92-42c3-a156-e1f44460f251",
   "metadata": {},
   "outputs": [],
   "source": [
    "import pandas as pd\n",
    "import numpy as np\n",
    "import matplotlib.pyplot as plt\n",
    "import seaborn as sns\n",
    "import warnings\n",
    "\n",
    "# Torch\n",
    "import torch\n",
    "import torch.nn as nn\n",
    "from torch.utils.data import Dataset, DataLoader\n",
    "import torch.nn.functional as F\n",
    "\n",
    "# Data Encoding and Scaling\n",
    "from sklearn.preprocessing import LabelEncoder, OrdinalEncoder, MinMaxScaler, RobustScaler, StandardScaler, FunctionTransformer\n",
    "from sklearn.model_selection import train_test_split\n",
    "from sklearn.decomposition import PCA\n",
    "\n",
    "# Pipeline\n",
    "from sklearn.pipeline import Pipeline\n",
    "from sklearn import set_config"
   ]
  },
  {
   "cell_type": "code",
   "execution_count": 2,
   "id": "7ced7b88-3fa4-483c-9681-0ed81e8f0606",
   "metadata": {},
   "outputs": [],
   "source": [
    "warnings.filterwarnings('ignore')"
   ]
  },
  {
   "cell_type": "code",
   "execution_count": 3,
   "id": "fc23347c-aada-4e45-b1ea-3df8efaa08bb",
   "metadata": {},
   "outputs": [
    {
     "data": {
      "text/plain": [
       "'cpu'"
      ]
     },
     "execution_count": 3,
     "metadata": {},
     "output_type": "execute_result"
    }
   ],
   "source": [
    "device = 'cuda' if torch.cuda.is_available() else 'cpu'\n",
    "device"
   ]
  },
  {
   "cell_type": "code",
   "execution_count": 4,
   "id": "4a6f9c1e-ddeb-4c23-8181-49e0a1a53378",
   "metadata": {},
   "outputs": [],
   "source": [
    "df = pd.read_csv('test_data.csv')"
   ]
  },
  {
   "cell_type": "code",
   "execution_count": 5,
   "id": "925ad51f-d9f6-40a0-9e8a-1db9bea342cd",
   "metadata": {},
   "outputs": [
    {
     "data": {
      "text/plain": [
       "Index(['jobma_catcher_id', 'org_type', 'jobma_catcher_industry',\n",
       "       'jobma_catcher_type', 'is_premium', 'jobma_catcher_sub_accounts',\n",
       "       'jobma_catcher_is_deleted', 'jobma_verified', 'subscription_status',\n",
       "       'interview_rate', 'live_interview_credit', 'pre_recorded_credit',\n",
       "       'credit_value', 'interview_cost_type', 'subscription_type_x',\n",
       "       'jobma_support_rtc', 'interview_question', 'video_recording_suppport',\n",
       "       'sing_up_canditate_after_apply', 'currency', 'company_size',\n",
       "       'credit_amount', 'wallet_amount', 'subscription_type_y', 'plan_type',\n",
       "       'is_unlimited', 'premium_storage', 'subscription_amount',\n",
       "       'number_of_subscriptions', 'number_of_invitations', 'job_posted',\n",
       "       'number_of_kits'],\n",
       "      dtype='object')"
      ]
     },
     "execution_count": 5,
     "metadata": {},
     "output_type": "execute_result"
    }
   ],
   "source": [
    "df.columns"
   ]
  },
  {
   "cell_type": "code",
   "execution_count": 6,
   "id": "9d1e0c1e-534e-4c62-b78c-ed6cd284557b",
   "metadata": {},
   "outputs": [
    {
     "data": {
      "text/plain": [
       "(6116, 32)"
      ]
     },
     "execution_count": 6,
     "metadata": {},
     "output_type": "execute_result"
    }
   ],
   "source": [
    "df.shape"
   ]
  },
  {
   "cell_type": "code",
   "execution_count": 7,
   "id": "be7bd81a-c751-4a4b-9676-6dff806d5a03",
   "metadata": {},
   "outputs": [],
   "source": [
    "df.drop(['credit_amount',\n",
    "         'subscription_type_y',\n",
    "        'org_type'], axis=1, inplace=True)"
   ]
  },
  {
   "cell_type": "code",
   "execution_count": 8,
   "id": "6b06e895-3b21-44ad-bae2-0f2896b84840",
   "metadata": {},
   "outputs": [],
   "source": [
    "''' Filled all the null values before encoding the data '''\n",
    "\n",
    "for col in df.columns:\n",
    "    if df[col].dtype == np.int64:\n",
    "        df[col].fillna(0, inplace=True)\n",
    "    elif df[col].dtype == np.float64:\n",
    "        df[col].fillna(0.0, inplace=True)\n",
    "    elif df[col].dtype == object:\n",
    "        unique_vals = df[col].dropna().unique()\n",
    "        if set(unique_vals).issubset({'Yes', 'No'}):\n",
    "            df[col].fillna('No', inplace=True)\n",
    "        else:\n",
    "            df[col].fillna('Unknown', inplace=True)"
   ]
  },
  {
   "cell_type": "code",
   "execution_count": 9,
   "id": "e8445cf4-d4d3-459d-a0bd-07eeec88b341",
   "metadata": {},
   "outputs": [],
   "source": [
    "''' This Function is to fill all missing values (if col is int then 0, if col is float then 0.0 and if col is object then 'Unkmown') '''\n",
    "\n",
    "def fill_missing_values(df):\n",
    "    df = df.copy()\n",
    "    for col in df.columns:\n",
    "        if df[col].dtype == np.int64:\n",
    "            df[col].fillna(0, inplace=True)\n",
    "        elif df[col].dtype == np.float64:\n",
    "            df[col].fillna(0.0, inplace=True)\n",
    "        elif df[col].dtype == object:\n",
    "            unique_vals = df[col].dropna().unique()\n",
    "            if set(unique_vals).issubset({'Yes', 'No'}):\n",
    "                df[col].fillna('No', inplace=True)\n",
    "            else:\n",
    "                df[col].fillna('Unknown', inplace=True)\n",
    "    return df\n"
   ]
  },
  {
   "cell_type": "markdown",
   "id": "7d698e59-f2ce-4954-84a7-d849c5ca946b",
   "metadata": {},
   "source": [
    "# Data Encoding"
   ]
  },
  {
   "cell_type": "code",
   "execution_count": 11,
   "id": "4c39e074-5f1c-4b63-9356-f8f6eba75c4a",
   "metadata": {},
   "outputs": [],
   "source": [
    "label_col = ['jobma_catcher_industry',]\n",
    "\n",
    "def label_encoder(df):\n",
    "    for col in label_col:\n",
    "        if col in df.columns:\n",
    "            if df[col].dtype == object or df[col].dtype.name == 'category':\n",
    "                le_col = LabelEncoder()\n",
    "                df[col] = le_col.fit_transform(df[col].astype(str))\n",
    "    return df"
   ]
  },
  {
   "cell_type": "code",
   "execution_count": 12,
   "id": "5dc7c138-345c-4c7f-96a0-4a005694d513",
   "metadata": {},
   "outputs": [],
   "source": [
    "def ordinal_encoder(df):\n",
    "    ordinal_col = ['jobma_catcher_is_deleted', 'company_size', 'plan_type', 'is_unlimited']\n",
    "    \n",
    "    is_deleted_order = ['Yes', 'No']\n",
    "    company_size_order = ['Unknown', '1-25', '26-100', '101-500', '500-1000', 'More than 1000']\n",
    "    plan_type_order = ['Unknown', 'No', 'Yes']\n",
    "    is_unlimited_order = ['Unknown', 'No', 'Yes']\n",
    "\n",
    "    ordinal_order = [is_deleted_order, company_size_order, plan_type_order, is_unlimited_order]\n",
    "\n",
    "    ordinal = OrdinalEncoder(categories=ordinal_order)\n",
    "    encoded = ordinal.fit_transform(df[ordinal_col].astype(str))\n",
    "    encoded_df = pd.DataFrame(encoded, columns=[f'{col}_ord' for col in ordinal_col], index=df.index)\n",
    "\n",
    "    df.drop(columns=ordinal_col, inplace=True)\n",
    "\n",
    "    df = pd.concat([df, encoded_df], axis=1)\n",
    "    \n",
    "    return df"
   ]
  },
  {
   "cell_type": "markdown",
   "id": "4af138d6-8ca7-43f0-99d5-7368a577debb",
   "metadata": {},
   "source": [
    "# Log Transformation"
   ]
  },
  {
   "cell_type": "code",
   "execution_count": 14,
   "id": "b32ce46b-2276-4c2b-b880-c5ba61649af1",
   "metadata": {},
   "outputs": [],
   "source": [
    "log_cols = [\n",
    "    'wallet_amount',\n",
    "    'subscription_amount',\n",
    "    'number_of_invitations',\n",
    "    'job_posted',\n",
    "    'number_of_kits',\n",
    "    'interview_question',\n",
    "    'pre_recorded_credit',\n",
    "    'live_interview_credit'\n",
    "]"
   ]
  },
  {
   "cell_type": "code",
   "execution_count": 15,
   "id": "8e038a71-0db7-4699-b22f-dbbea1159d15",
   "metadata": {},
   "outputs": [],
   "source": [
    "def log_transform(df):\n",
    "    df = df.copy()\n",
    "    for col in log_cols:\n",
    "        if col in df.columns:\n",
    "            # fill NaNs\n",
    "            df[col] = df[col].fillna(0)\n",
    "            # if a number is less than zero, turn it into zero;\n",
    "            df[col] = df[col].clip(lower=0)\n",
    "            # safe log1p\n",
    "            df[col] = np.log1p(df[col])\n",
    "    return df"
   ]
  },
  {
   "cell_type": "markdown",
   "id": "1673964c-72cd-467c-bd24-4f06a988c021",
   "metadata": {},
   "source": [
    "# Pipeline"
   ]
  },
  {
   "cell_type": "code",
   "execution_count": 17,
   "id": "c8d303d8-a8bd-44ce-a4ee-d5c7dda16cc3",
   "metadata": {},
   "outputs": [],
   "source": [
    "pipeline = Pipeline([\n",
    "    # ('fill_missing_values', FunctionTransformer(fill_missing_values, validate=False)),\n",
    "    ('label_encoder', FunctionTransformer(label_encoder, validate=False)),\n",
    "    ('ordinal_encoder', FunctionTransformer(ordinal_encoder, validate=False)),\n",
    "    ('log_transformation', FunctionTransformer(log_transform, validate=False)), # log transforms the col with outliers\n",
    "    ('scaler', StandardScaler()), # Needs attention to improve model\n",
    "    # ('pca', PCA(n_components=0.97))\n",
    "])"
   ]
  },
  {
   "cell_type": "code",
   "execution_count": 18,
   "id": "adb2a46c-ee62-46e4-ac4b-74c262b012a3",
   "metadata": {},
   "outputs": [
    {
     "data": {
      "text/html": [
       "<style>#sk-container-id-1 {\n",
       "  /* Definition of color scheme common for light and dark mode */\n",
       "  --sklearn-color-text: black;\n",
       "  --sklearn-color-line: gray;\n",
       "  /* Definition of color scheme for unfitted estimators */\n",
       "  --sklearn-color-unfitted-level-0: #fff5e6;\n",
       "  --sklearn-color-unfitted-level-1: #f6e4d2;\n",
       "  --sklearn-color-unfitted-level-2: #ffe0b3;\n",
       "  --sklearn-color-unfitted-level-3: chocolate;\n",
       "  /* Definition of color scheme for fitted estimators */\n",
       "  --sklearn-color-fitted-level-0: #f0f8ff;\n",
       "  --sklearn-color-fitted-level-1: #d4ebff;\n",
       "  --sklearn-color-fitted-level-2: #b3dbfd;\n",
       "  --sklearn-color-fitted-level-3: cornflowerblue;\n",
       "\n",
       "  /* Specific color for light theme */\n",
       "  --sklearn-color-text-on-default-background: var(--sg-text-color, var(--theme-code-foreground, var(--jp-content-font-color1, black)));\n",
       "  --sklearn-color-background: var(--sg-background-color, var(--theme-background, var(--jp-layout-color0, white)));\n",
       "  --sklearn-color-border-box: var(--sg-text-color, var(--theme-code-foreground, var(--jp-content-font-color1, black)));\n",
       "  --sklearn-color-icon: #696969;\n",
       "\n",
       "  @media (prefers-color-scheme: dark) {\n",
       "    /* Redefinition of color scheme for dark theme */\n",
       "    --sklearn-color-text-on-default-background: var(--sg-text-color, var(--theme-code-foreground, var(--jp-content-font-color1, white)));\n",
       "    --sklearn-color-background: var(--sg-background-color, var(--theme-background, var(--jp-layout-color0, #111)));\n",
       "    --sklearn-color-border-box: var(--sg-text-color, var(--theme-code-foreground, var(--jp-content-font-color1, white)));\n",
       "    --sklearn-color-icon: #878787;\n",
       "  }\n",
       "}\n",
       "\n",
       "#sk-container-id-1 {\n",
       "  color: var(--sklearn-color-text);\n",
       "}\n",
       "\n",
       "#sk-container-id-1 pre {\n",
       "  padding: 0;\n",
       "}\n",
       "\n",
       "#sk-container-id-1 input.sk-hidden--visually {\n",
       "  border: 0;\n",
       "  clip: rect(1px 1px 1px 1px);\n",
       "  clip: rect(1px, 1px, 1px, 1px);\n",
       "  height: 1px;\n",
       "  margin: -1px;\n",
       "  overflow: hidden;\n",
       "  padding: 0;\n",
       "  position: absolute;\n",
       "  width: 1px;\n",
       "}\n",
       "\n",
       "#sk-container-id-1 div.sk-dashed-wrapped {\n",
       "  border: 1px dashed var(--sklearn-color-line);\n",
       "  margin: 0 0.4em 0.5em 0.4em;\n",
       "  box-sizing: border-box;\n",
       "  padding-bottom: 0.4em;\n",
       "  background-color: var(--sklearn-color-background);\n",
       "}\n",
       "\n",
       "#sk-container-id-1 div.sk-container {\n",
       "  /* jupyter's `normalize.less` sets `[hidden] { display: none; }`\n",
       "     but bootstrap.min.css set `[hidden] { display: none !important; }`\n",
       "     so we also need the `!important` here to be able to override the\n",
       "     default hidden behavior on the sphinx rendered scikit-learn.org.\n",
       "     See: https://github.com/scikit-learn/scikit-learn/issues/21755 */\n",
       "  display: inline-block !important;\n",
       "  position: relative;\n",
       "}\n",
       "\n",
       "#sk-container-id-1 div.sk-text-repr-fallback {\n",
       "  display: none;\n",
       "}\n",
       "\n",
       "div.sk-parallel-item,\n",
       "div.sk-serial,\n",
       "div.sk-item {\n",
       "  /* draw centered vertical line to link estimators */\n",
       "  background-image: linear-gradient(var(--sklearn-color-text-on-default-background), var(--sklearn-color-text-on-default-background));\n",
       "  background-size: 2px 100%;\n",
       "  background-repeat: no-repeat;\n",
       "  background-position: center center;\n",
       "}\n",
       "\n",
       "/* Parallel-specific style estimator block */\n",
       "\n",
       "#sk-container-id-1 div.sk-parallel-item::after {\n",
       "  content: \"\";\n",
       "  width: 100%;\n",
       "  border-bottom: 2px solid var(--sklearn-color-text-on-default-background);\n",
       "  flex-grow: 1;\n",
       "}\n",
       "\n",
       "#sk-container-id-1 div.sk-parallel {\n",
       "  display: flex;\n",
       "  align-items: stretch;\n",
       "  justify-content: center;\n",
       "  background-color: var(--sklearn-color-background);\n",
       "  position: relative;\n",
       "}\n",
       "\n",
       "#sk-container-id-1 div.sk-parallel-item {\n",
       "  display: flex;\n",
       "  flex-direction: column;\n",
       "}\n",
       "\n",
       "#sk-container-id-1 div.sk-parallel-item:first-child::after {\n",
       "  align-self: flex-end;\n",
       "  width: 50%;\n",
       "}\n",
       "\n",
       "#sk-container-id-1 div.sk-parallel-item:last-child::after {\n",
       "  align-self: flex-start;\n",
       "  width: 50%;\n",
       "}\n",
       "\n",
       "#sk-container-id-1 div.sk-parallel-item:only-child::after {\n",
       "  width: 0;\n",
       "}\n",
       "\n",
       "/* Serial-specific style estimator block */\n",
       "\n",
       "#sk-container-id-1 div.sk-serial {\n",
       "  display: flex;\n",
       "  flex-direction: column;\n",
       "  align-items: center;\n",
       "  background-color: var(--sklearn-color-background);\n",
       "  padding-right: 1em;\n",
       "  padding-left: 1em;\n",
       "}\n",
       "\n",
       "\n",
       "/* Toggleable style: style used for estimator/Pipeline/ColumnTransformer box that is\n",
       "clickable and can be expanded/collapsed.\n",
       "- Pipeline and ColumnTransformer use this feature and define the default style\n",
       "- Estimators will overwrite some part of the style using the `sk-estimator` class\n",
       "*/\n",
       "\n",
       "/* Pipeline and ColumnTransformer style (default) */\n",
       "\n",
       "#sk-container-id-1 div.sk-toggleable {\n",
       "  /* Default theme specific background. It is overwritten whether we have a\n",
       "  specific estimator or a Pipeline/ColumnTransformer */\n",
       "  background-color: var(--sklearn-color-background);\n",
       "}\n",
       "\n",
       "/* Toggleable label */\n",
       "#sk-container-id-1 label.sk-toggleable__label {\n",
       "  cursor: pointer;\n",
       "  display: block;\n",
       "  width: 100%;\n",
       "  margin-bottom: 0;\n",
       "  padding: 0.5em;\n",
       "  box-sizing: border-box;\n",
       "  text-align: center;\n",
       "}\n",
       "\n",
       "#sk-container-id-1 label.sk-toggleable__label-arrow:before {\n",
       "  /* Arrow on the left of the label */\n",
       "  content: \"▸\";\n",
       "  float: left;\n",
       "  margin-right: 0.25em;\n",
       "  color: var(--sklearn-color-icon);\n",
       "}\n",
       "\n",
       "#sk-container-id-1 label.sk-toggleable__label-arrow:hover:before {\n",
       "  color: var(--sklearn-color-text);\n",
       "}\n",
       "\n",
       "/* Toggleable content - dropdown */\n",
       "\n",
       "#sk-container-id-1 div.sk-toggleable__content {\n",
       "  max-height: 0;\n",
       "  max-width: 0;\n",
       "  overflow: hidden;\n",
       "  text-align: left;\n",
       "  /* unfitted */\n",
       "  background-color: var(--sklearn-color-unfitted-level-0);\n",
       "}\n",
       "\n",
       "#sk-container-id-1 div.sk-toggleable__content.fitted {\n",
       "  /* fitted */\n",
       "  background-color: var(--sklearn-color-fitted-level-0);\n",
       "}\n",
       "\n",
       "#sk-container-id-1 div.sk-toggleable__content pre {\n",
       "  margin: 0.2em;\n",
       "  border-radius: 0.25em;\n",
       "  color: var(--sklearn-color-text);\n",
       "  /* unfitted */\n",
       "  background-color: var(--sklearn-color-unfitted-level-0);\n",
       "}\n",
       "\n",
       "#sk-container-id-1 div.sk-toggleable__content.fitted pre {\n",
       "  /* unfitted */\n",
       "  background-color: var(--sklearn-color-fitted-level-0);\n",
       "}\n",
       "\n",
       "#sk-container-id-1 input.sk-toggleable__control:checked~div.sk-toggleable__content {\n",
       "  /* Expand drop-down */\n",
       "  max-height: 200px;\n",
       "  max-width: 100%;\n",
       "  overflow: auto;\n",
       "}\n",
       "\n",
       "#sk-container-id-1 input.sk-toggleable__control:checked~label.sk-toggleable__label-arrow:before {\n",
       "  content: \"▾\";\n",
       "}\n",
       "\n",
       "/* Pipeline/ColumnTransformer-specific style */\n",
       "\n",
       "#sk-container-id-1 div.sk-label input.sk-toggleable__control:checked~label.sk-toggleable__label {\n",
       "  color: var(--sklearn-color-text);\n",
       "  background-color: var(--sklearn-color-unfitted-level-2);\n",
       "}\n",
       "\n",
       "#sk-container-id-1 div.sk-label.fitted input.sk-toggleable__control:checked~label.sk-toggleable__label {\n",
       "  background-color: var(--sklearn-color-fitted-level-2);\n",
       "}\n",
       "\n",
       "/* Estimator-specific style */\n",
       "\n",
       "/* Colorize estimator box */\n",
       "#sk-container-id-1 div.sk-estimator input.sk-toggleable__control:checked~label.sk-toggleable__label {\n",
       "  /* unfitted */\n",
       "  background-color: var(--sklearn-color-unfitted-level-2);\n",
       "}\n",
       "\n",
       "#sk-container-id-1 div.sk-estimator.fitted input.sk-toggleable__control:checked~label.sk-toggleable__label {\n",
       "  /* fitted */\n",
       "  background-color: var(--sklearn-color-fitted-level-2);\n",
       "}\n",
       "\n",
       "#sk-container-id-1 div.sk-label label.sk-toggleable__label,\n",
       "#sk-container-id-1 div.sk-label label {\n",
       "  /* The background is the default theme color */\n",
       "  color: var(--sklearn-color-text-on-default-background);\n",
       "}\n",
       "\n",
       "/* On hover, darken the color of the background */\n",
       "#sk-container-id-1 div.sk-label:hover label.sk-toggleable__label {\n",
       "  color: var(--sklearn-color-text);\n",
       "  background-color: var(--sklearn-color-unfitted-level-2);\n",
       "}\n",
       "\n",
       "/* Label box, darken color on hover, fitted */\n",
       "#sk-container-id-1 div.sk-label.fitted:hover label.sk-toggleable__label.fitted {\n",
       "  color: var(--sklearn-color-text);\n",
       "  background-color: var(--sklearn-color-fitted-level-2);\n",
       "}\n",
       "\n",
       "/* Estimator label */\n",
       "\n",
       "#sk-container-id-1 div.sk-label label {\n",
       "  font-family: monospace;\n",
       "  font-weight: bold;\n",
       "  display: inline-block;\n",
       "  line-height: 1.2em;\n",
       "}\n",
       "\n",
       "#sk-container-id-1 div.sk-label-container {\n",
       "  text-align: center;\n",
       "}\n",
       "\n",
       "/* Estimator-specific */\n",
       "#sk-container-id-1 div.sk-estimator {\n",
       "  font-family: monospace;\n",
       "  border: 1px dotted var(--sklearn-color-border-box);\n",
       "  border-radius: 0.25em;\n",
       "  box-sizing: border-box;\n",
       "  margin-bottom: 0.5em;\n",
       "  /* unfitted */\n",
       "  background-color: var(--sklearn-color-unfitted-level-0);\n",
       "}\n",
       "\n",
       "#sk-container-id-1 div.sk-estimator.fitted {\n",
       "  /* fitted */\n",
       "  background-color: var(--sklearn-color-fitted-level-0);\n",
       "}\n",
       "\n",
       "/* on hover */\n",
       "#sk-container-id-1 div.sk-estimator:hover {\n",
       "  /* unfitted */\n",
       "  background-color: var(--sklearn-color-unfitted-level-2);\n",
       "}\n",
       "\n",
       "#sk-container-id-1 div.sk-estimator.fitted:hover {\n",
       "  /* fitted */\n",
       "  background-color: var(--sklearn-color-fitted-level-2);\n",
       "}\n",
       "\n",
       "/* Specification for estimator info (e.g. \"i\" and \"?\") */\n",
       "\n",
       "/* Common style for \"i\" and \"?\" */\n",
       "\n",
       ".sk-estimator-doc-link,\n",
       "a:link.sk-estimator-doc-link,\n",
       "a:visited.sk-estimator-doc-link {\n",
       "  float: right;\n",
       "  font-size: smaller;\n",
       "  line-height: 1em;\n",
       "  font-family: monospace;\n",
       "  background-color: var(--sklearn-color-background);\n",
       "  border-radius: 1em;\n",
       "  height: 1em;\n",
       "  width: 1em;\n",
       "  text-decoration: none !important;\n",
       "  margin-left: 1ex;\n",
       "  /* unfitted */\n",
       "  border: var(--sklearn-color-unfitted-level-1) 1pt solid;\n",
       "  color: var(--sklearn-color-unfitted-level-1);\n",
       "}\n",
       "\n",
       ".sk-estimator-doc-link.fitted,\n",
       "a:link.sk-estimator-doc-link.fitted,\n",
       "a:visited.sk-estimator-doc-link.fitted {\n",
       "  /* fitted */\n",
       "  border: var(--sklearn-color-fitted-level-1) 1pt solid;\n",
       "  color: var(--sklearn-color-fitted-level-1);\n",
       "}\n",
       "\n",
       "/* On hover */\n",
       "div.sk-estimator:hover .sk-estimator-doc-link:hover,\n",
       ".sk-estimator-doc-link:hover,\n",
       "div.sk-label-container:hover .sk-estimator-doc-link:hover,\n",
       ".sk-estimator-doc-link:hover {\n",
       "  /* unfitted */\n",
       "  background-color: var(--sklearn-color-unfitted-level-3);\n",
       "  color: var(--sklearn-color-background);\n",
       "  text-decoration: none;\n",
       "}\n",
       "\n",
       "div.sk-estimator.fitted:hover .sk-estimator-doc-link.fitted:hover,\n",
       ".sk-estimator-doc-link.fitted:hover,\n",
       "div.sk-label-container:hover .sk-estimator-doc-link.fitted:hover,\n",
       ".sk-estimator-doc-link.fitted:hover {\n",
       "  /* fitted */\n",
       "  background-color: var(--sklearn-color-fitted-level-3);\n",
       "  color: var(--sklearn-color-background);\n",
       "  text-decoration: none;\n",
       "}\n",
       "\n",
       "/* Span, style for the box shown on hovering the info icon */\n",
       ".sk-estimator-doc-link span {\n",
       "  display: none;\n",
       "  z-index: 9999;\n",
       "  position: relative;\n",
       "  font-weight: normal;\n",
       "  right: .2ex;\n",
       "  padding: .5ex;\n",
       "  margin: .5ex;\n",
       "  width: min-content;\n",
       "  min-width: 20ex;\n",
       "  max-width: 50ex;\n",
       "  color: var(--sklearn-color-text);\n",
       "  box-shadow: 2pt 2pt 4pt #999;\n",
       "  /* unfitted */\n",
       "  background: var(--sklearn-color-unfitted-level-0);\n",
       "  border: .5pt solid var(--sklearn-color-unfitted-level-3);\n",
       "}\n",
       "\n",
       ".sk-estimator-doc-link.fitted span {\n",
       "  /* fitted */\n",
       "  background: var(--sklearn-color-fitted-level-0);\n",
       "  border: var(--sklearn-color-fitted-level-3);\n",
       "}\n",
       "\n",
       ".sk-estimator-doc-link:hover span {\n",
       "  display: block;\n",
       "}\n",
       "\n",
       "/* \"?\"-specific style due to the `<a>` HTML tag */\n",
       "\n",
       "#sk-container-id-1 a.estimator_doc_link {\n",
       "  float: right;\n",
       "  font-size: 1rem;\n",
       "  line-height: 1em;\n",
       "  font-family: monospace;\n",
       "  background-color: var(--sklearn-color-background);\n",
       "  border-radius: 1rem;\n",
       "  height: 1rem;\n",
       "  width: 1rem;\n",
       "  text-decoration: none;\n",
       "  /* unfitted */\n",
       "  color: var(--sklearn-color-unfitted-level-1);\n",
       "  border: var(--sklearn-color-unfitted-level-1) 1pt solid;\n",
       "}\n",
       "\n",
       "#sk-container-id-1 a.estimator_doc_link.fitted {\n",
       "  /* fitted */\n",
       "  border: var(--sklearn-color-fitted-level-1) 1pt solid;\n",
       "  color: var(--sklearn-color-fitted-level-1);\n",
       "}\n",
       "\n",
       "/* On hover */\n",
       "#sk-container-id-1 a.estimator_doc_link:hover {\n",
       "  /* unfitted */\n",
       "  background-color: var(--sklearn-color-unfitted-level-3);\n",
       "  color: var(--sklearn-color-background);\n",
       "  text-decoration: none;\n",
       "}\n",
       "\n",
       "#sk-container-id-1 a.estimator_doc_link.fitted:hover {\n",
       "  /* fitted */\n",
       "  background-color: var(--sklearn-color-fitted-level-3);\n",
       "}\n",
       "</style><div id=\"sk-container-id-1\" class=\"sk-top-container\"><div class=\"sk-text-repr-fallback\"><pre>Pipeline(steps=[(&#x27;label_encoder&#x27;,\n",
       "                 FunctionTransformer(func=&lt;function label_encoder at 0x000001F65C4118A0&gt;)),\n",
       "                (&#x27;ordinal_encoder&#x27;,\n",
       "                 FunctionTransformer(func=&lt;function ordinal_encoder at 0x000001F65C410A40&gt;)),\n",
       "                (&#x27;log_transformation&#x27;,\n",
       "                 FunctionTransformer(func=&lt;function log_transform at 0x000001F65C412CA0&gt;)),\n",
       "                (&#x27;scaler&#x27;, StandardScaler())])</pre><b>In a Jupyter environment, please rerun this cell to show the HTML representation or trust the notebook. <br />On GitHub, the HTML representation is unable to render, please try loading this page with nbviewer.org.</b></div><div class=\"sk-container\" hidden><div class=\"sk-item sk-dashed-wrapped\"><div class=\"sk-label-container\"><div class=\"sk-label  sk-toggleable\"><input class=\"sk-toggleable__control sk-hidden--visually\" id=\"sk-estimator-id-1\" type=\"checkbox\" ><label for=\"sk-estimator-id-1\" class=\"sk-toggleable__label  sk-toggleable__label-arrow \">&nbsp;&nbsp;Pipeline<a class=\"sk-estimator-doc-link \" rel=\"noreferrer\" target=\"_blank\" href=\"https://scikit-learn.org/1.5/modules/generated/sklearn.pipeline.Pipeline.html\">?<span>Documentation for Pipeline</span></a><span class=\"sk-estimator-doc-link \">i<span>Not fitted</span></span></label><div class=\"sk-toggleable__content \"><pre>Pipeline(steps=[(&#x27;label_encoder&#x27;,\n",
       "                 FunctionTransformer(func=&lt;function label_encoder at 0x000001F65C4118A0&gt;)),\n",
       "                (&#x27;ordinal_encoder&#x27;,\n",
       "                 FunctionTransformer(func=&lt;function ordinal_encoder at 0x000001F65C410A40&gt;)),\n",
       "                (&#x27;log_transformation&#x27;,\n",
       "                 FunctionTransformer(func=&lt;function log_transform at 0x000001F65C412CA0&gt;)),\n",
       "                (&#x27;scaler&#x27;, StandardScaler())])</pre></div> </div></div><div class=\"sk-serial\"><div class=\"sk-item\"><div class=\"sk-estimator  sk-toggleable\"><input class=\"sk-toggleable__control sk-hidden--visually\" id=\"sk-estimator-id-2\" type=\"checkbox\" ><label for=\"sk-estimator-id-2\" class=\"sk-toggleable__label  sk-toggleable__label-arrow \">&nbsp;FunctionTransformer<a class=\"sk-estimator-doc-link \" rel=\"noreferrer\" target=\"_blank\" href=\"https://scikit-learn.org/1.5/modules/generated/sklearn.preprocessing.FunctionTransformer.html\">?<span>Documentation for FunctionTransformer</span></a></label><div class=\"sk-toggleable__content \"><pre>FunctionTransformer(func=&lt;function label_encoder at 0x000001F65C4118A0&gt;)</pre></div> </div></div><div class=\"sk-item\"><div class=\"sk-estimator  sk-toggleable\"><input class=\"sk-toggleable__control sk-hidden--visually\" id=\"sk-estimator-id-3\" type=\"checkbox\" ><label for=\"sk-estimator-id-3\" class=\"sk-toggleable__label  sk-toggleable__label-arrow \">&nbsp;FunctionTransformer<a class=\"sk-estimator-doc-link \" rel=\"noreferrer\" target=\"_blank\" href=\"https://scikit-learn.org/1.5/modules/generated/sklearn.preprocessing.FunctionTransformer.html\">?<span>Documentation for FunctionTransformer</span></a></label><div class=\"sk-toggleable__content \"><pre>FunctionTransformer(func=&lt;function ordinal_encoder at 0x000001F65C410A40&gt;)</pre></div> </div></div><div class=\"sk-item\"><div class=\"sk-estimator  sk-toggleable\"><input class=\"sk-toggleable__control sk-hidden--visually\" id=\"sk-estimator-id-4\" type=\"checkbox\" ><label for=\"sk-estimator-id-4\" class=\"sk-toggleable__label  sk-toggleable__label-arrow \">&nbsp;FunctionTransformer<a class=\"sk-estimator-doc-link \" rel=\"noreferrer\" target=\"_blank\" href=\"https://scikit-learn.org/1.5/modules/generated/sklearn.preprocessing.FunctionTransformer.html\">?<span>Documentation for FunctionTransformer</span></a></label><div class=\"sk-toggleable__content \"><pre>FunctionTransformer(func=&lt;function log_transform at 0x000001F65C412CA0&gt;)</pre></div> </div></div><div class=\"sk-item\"><div class=\"sk-estimator  sk-toggleable\"><input class=\"sk-toggleable__control sk-hidden--visually\" id=\"sk-estimator-id-5\" type=\"checkbox\" ><label for=\"sk-estimator-id-5\" class=\"sk-toggleable__label  sk-toggleable__label-arrow \">&nbsp;StandardScaler<a class=\"sk-estimator-doc-link \" rel=\"noreferrer\" target=\"_blank\" href=\"https://scikit-learn.org/1.5/modules/generated/sklearn.preprocessing.StandardScaler.html\">?<span>Documentation for StandardScaler</span></a></label><div class=\"sk-toggleable__content \"><pre>StandardScaler()</pre></div> </div></div></div></div></div></div>"
      ],
      "text/plain": [
       "Pipeline(steps=[('label_encoder',\n",
       "                 FunctionTransformer(func=<function label_encoder at 0x000001F65C4118A0>)),\n",
       "                ('ordinal_encoder',\n",
       "                 FunctionTransformer(func=<function ordinal_encoder at 0x000001F65C410A40>)),\n",
       "                ('log_transformation',\n",
       "                 FunctionTransformer(func=<function log_transform at 0x000001F65C412CA0>)),\n",
       "                ('scaler', StandardScaler())])"
      ]
     },
     "execution_count": 18,
     "metadata": {},
     "output_type": "execute_result"
    }
   ],
   "source": [
    "''' Visualizing the Pipeline '''\n",
    "set_config(display='diagram')\n",
    "pipeline"
   ]
  },
  {
   "cell_type": "markdown",
   "id": "be793847-7c8d-4d29-8874-a83ef2dfb968",
   "metadata": {},
   "source": [
    "# Data Splitting"
   ]
  },
  {
   "cell_type": "code",
   "execution_count": 20,
   "id": "c17e8b4a-44be-4f9d-9539-ee2492ce195c",
   "metadata": {},
   "outputs": [],
   "source": [
    "X = df"
   ]
  },
  {
   "cell_type": "code",
   "execution_count": 21,
   "id": "23cf0a95-bf70-4cd3-8e30-4d2b42d07a8a",
   "metadata": {},
   "outputs": [],
   "source": [
    "X_train, X_test = train_test_split(X, test_size=0.2, random_state=42)"
   ]
  },
  {
   "cell_type": "code",
   "execution_count": 22,
   "id": "f543d5ba-3d69-4e3f-b5b0-ae416701b187",
   "metadata": {},
   "outputs": [
    {
     "data": {
      "text/plain": [
       "(pandas.core.frame.DataFrame, pandas.core.frame.DataFrame)"
      ]
     },
     "execution_count": 22,
     "metadata": {},
     "output_type": "execute_result"
    }
   ],
   "source": [
    "type(X_train), type(X_test)"
   ]
  },
  {
   "cell_type": "code",
   "execution_count": 23,
   "id": "53e8acd0-4b78-469e-ae00-ac0595ee367b",
   "metadata": {},
   "outputs": [
    {
     "data": {
      "text/plain": [
       "(4892, 1224)"
      ]
     },
     "execution_count": 23,
     "metadata": {},
     "output_type": "execute_result"
    }
   ],
   "source": [
    "len(X_train), len(X_test)"
   ]
  },
  {
   "cell_type": "markdown",
   "id": "50b74905-a1d6-4409-8f2d-baaea36a6808",
   "metadata": {},
   "source": [
    "# Fit Pipeline"
   ]
  },
  {
   "cell_type": "code",
   "execution_count": 25,
   "id": "d83c8ee2-a7f4-4d50-966c-510254d01f53",
   "metadata": {},
   "outputs": [],
   "source": [
    "X_train_transformed = pipeline.fit_transform(X_train)\n",
    "X_test_transformed = pipeline.transform(X_test)"
   ]
  },
  {
   "cell_type": "code",
   "execution_count": 26,
   "id": "857a5011-f0d3-4806-a3f0-9113ea488a40",
   "metadata": {},
   "outputs": [
    {
     "data": {
      "text/plain": [
       "(numpy.ndarray, numpy.ndarray)"
      ]
     },
     "execution_count": 26,
     "metadata": {},
     "output_type": "execute_result"
    }
   ],
   "source": [
    "type(X_train_transformed), type(X_test_transformed)"
   ]
  },
  {
   "cell_type": "code",
   "execution_count": 27,
   "id": "c36aadf2-06f9-490d-a3d5-998b70b60688",
   "metadata": {},
   "outputs": [
    {
     "data": {
      "text/plain": [
       "(4892, 1224)"
      ]
     },
     "execution_count": 27,
     "metadata": {},
     "output_type": "execute_result"
    }
   ],
   "source": [
    "len(X_train_transformed), len(X_test_transformed)"
   ]
  },
  {
   "cell_type": "code",
   "execution_count": 28,
   "id": "7be9ea93-0676-4740-bcdc-4aaed12d3c89",
   "metadata": {},
   "outputs": [],
   "source": [
    "features_names = df.columns"
   ]
  },
  {
   "cell_type": "code",
   "execution_count": 29,
   "id": "c29c15f7-61f8-4eac-80c6-6d1667438a51",
   "metadata": {},
   "outputs": [],
   "source": [
    "X_df = pd.DataFrame(X_train_transformed, columns=features_names)\n",
    "# X'_df = pd.DataFrame(X_train_transformed)"
   ]
  },
  {
   "cell_type": "code",
   "execution_count": 30,
   "id": "a29af4c3-ae6c-4093-8b51-2e6405f362d3",
   "metadata": {},
   "outputs": [
    {
     "data": {
      "text/plain": [
       "(4892, 29)"
      ]
     },
     "execution_count": 30,
     "metadata": {},
     "output_type": "execute_result"
    }
   ],
   "source": [
    "X_df.shape"
   ]
  },
  {
   "cell_type": "markdown",
   "id": "48fc4cc1-4ef9-4416-a7f4-553070a2b975",
   "metadata": {},
   "source": [
    "# Convert into Tensor"
   ]
  },
  {
   "cell_type": "code",
   "execution_count": 32,
   "id": "7d179ef2-8665-455a-8aa7-9bea15775295",
   "metadata": {},
   "outputs": [],
   "source": [
    "X_train_tensor = torch.tensor(X_train_transformed, dtype=torch.float32)\n",
    "X_test_tensor = torch.tensor(X_test_transformed, dtype=torch.float32)"
   ]
  },
  {
   "cell_type": "code",
   "execution_count": 33,
   "id": "e44735e0-466e-4148-88d3-437f8d85d991",
   "metadata": {},
   "outputs": [
    {
     "data": {
      "text/plain": [
       "(torch.Tensor, torch.Tensor)"
      ]
     },
     "execution_count": 33,
     "metadata": {},
     "output_type": "execute_result"
    }
   ],
   "source": [
    "type(X_train_tensor), type(X_test_tensor)"
   ]
  },
  {
   "cell_type": "markdown",
   "id": "4c12efc6-4695-43de-87eb-4e06e7833f3f",
   "metadata": {},
   "source": [
    "# Dataset Class"
   ]
  },
  {
   "cell_type": "code",
   "execution_count": 35,
   "id": "303e30b5-5380-4f3c-b43c-d526cfdf3af2",
   "metadata": {},
   "outputs": [],
   "source": [
    "class CustomDataset(Dataset):\n",
    "    def __init__(self, data):\n",
    "        self.data = torch.tensor(data, dtype=torch.float32)\n",
    "\n",
    "    def __len__(self):\n",
    "        return len(self.data)\n",
    "\n",
    "    def __getitem__(self, idx):\n",
    "        return self.data[idx]"
   ]
  },
  {
   "cell_type": "code",
   "execution_count": 36,
   "id": "11ffcd34-4507-4e07-93c3-36d7cfdf377e",
   "metadata": {},
   "outputs": [],
   "source": [
    "train_data = CustomDataset(X_train_tensor)\n",
    "test_data = CustomDataset(X_test_tensor)"
   ]
  },
  {
   "cell_type": "markdown",
   "id": "396b5952-26cb-4b74-8e49-d7c70f3a54f1",
   "metadata": {},
   "source": [
    "# DataLoader"
   ]
  },
  {
   "cell_type": "code",
   "execution_count": 38,
   "id": "94877832-77c9-43e0-bfe1-9fa7e2c2bf4f",
   "metadata": {},
   "outputs": [],
   "source": [
    "BATCH_SIZE = 16"
   ]
  },
  {
   "cell_type": "code",
   "execution_count": 39,
   "id": "0fabf251-4c1c-4e43-a320-84069ae2dc94",
   "metadata": {},
   "outputs": [],
   "source": [
    "train_dataloader = DataLoader(train_data, batch_size=BATCH_SIZE, shuffle=True)\n",
    "test_dataloader = DataLoader(test_data, batch_size=BATCH_SIZE, shuffle=False)"
   ]
  },
  {
   "cell_type": "code",
   "execution_count": 40,
   "id": "cb037e23-a5c3-43e1-bbce-6bb3b0bad5a2",
   "metadata": {},
   "outputs": [
    {
     "data": {
      "text/plain": [
       "(4892, 1224)"
      ]
     },
     "execution_count": 40,
     "metadata": {},
     "output_type": "execute_result"
    }
   ],
   "source": [
    "len(train_data), len(test_data)"
   ]
  },
  {
   "cell_type": "code",
   "execution_count": 41,
   "id": "f3187c46-ed2d-41ad-8607-b8a1ae739855",
   "metadata": {},
   "outputs": [
    {
     "data": {
      "text/plain": [
       "(306, 77)"
      ]
     },
     "execution_count": 41,
     "metadata": {},
     "output_type": "execute_result"
    }
   ],
   "source": [
    "len(train_dataloader), len(test_dataloader)"
   ]
  },
  {
   "cell_type": "markdown",
   "id": "a752cf36-bbb9-414d-bb80-203a9a40565c",
   "metadata": {},
   "source": [
    "# Define a Model (AutoEncoder in this case)"
   ]
  },
  {
   "cell_type": "code",
   "execution_count": 43,
   "id": "b30f23f8-c61b-42ec-bb36-8a65a806880e",
   "metadata": {},
   "outputs": [],
   "source": [
    "class AutoEncoder(nn.Module):\n",
    "    def __init__(self, input_shape):\n",
    "        super().__init__()\n",
    "\n",
    "        self.encoder = nn.Sequential(\n",
    "            nn.Linear(input_shape, 256),\n",
    "            nn.ReLU(),\n",
    "            # nn.Dropout(0.3),\n",
    "            nn.Linear(256, 128),\n",
    "            nn.ReLU(),\n",
    "            # nn.Dropout(0.3),\n",
    "            nn.Linear(128, 64),\n",
    "            nn.ReLU(),\n",
    "            nn.Linear(64, 32)  # bottleneck\n",
    "        )\n",
    "\n",
    "        self.decoder = nn.Sequential(\n",
    "            nn.Linear(32, 64),\n",
    "            nn.ReLU(),\n",
    "            nn.Linear(64, 128),\n",
    "            nn.ReLU(),\n",
    "            nn.Linear(128, 256),\n",
    "            nn.ReLU(),\n",
    "            nn.Linear(256, input_shape)\n",
    "        )\n",
    "\n",
    "    def forward(self, X):\n",
    "        encoded = self.encoder(X)\n",
    "        decoded = self.decoder(encoded)\n",
    "        return encoded, decoded"
   ]
  },
  {
   "cell_type": "code",
   "execution_count": 44,
   "id": "918d4b5c-1cd7-49fa-ac32-cec9f5f5daed",
   "metadata": {},
   "outputs": [
    {
     "data": {
      "text/plain": [
       "AutoEncoder(\n",
       "  (encoder): Sequential(\n",
       "    (0): Linear(in_features=29, out_features=256, bias=True)\n",
       "    (1): ReLU()\n",
       "    (2): Linear(in_features=256, out_features=128, bias=True)\n",
       "    (3): ReLU()\n",
       "    (4): Linear(in_features=128, out_features=64, bias=True)\n",
       "    (5): ReLU()\n",
       "    (6): Linear(in_features=64, out_features=32, bias=True)\n",
       "  )\n",
       "  (decoder): Sequential(\n",
       "    (0): Linear(in_features=32, out_features=64, bias=True)\n",
       "    (1): ReLU()\n",
       "    (2): Linear(in_features=64, out_features=128, bias=True)\n",
       "    (3): ReLU()\n",
       "    (4): Linear(in_features=128, out_features=256, bias=True)\n",
       "    (5): ReLU()\n",
       "    (6): Linear(in_features=256, out_features=29, bias=True)\n",
       "  )\n",
       ")"
      ]
     },
     "execution_count": 44,
     "metadata": {},
     "output_type": "execute_result"
    }
   ],
   "source": [
    "''' Initializing the Model '''\n",
    "\n",
    "input_shape = X_df.shape[1]\n",
    "model_1 = AutoEncoder(input_shape)\n",
    "model_1.to(device)"
   ]
  },
  {
   "cell_type": "code",
   "execution_count": 45,
   "id": "cac6290d-8526-4576-b2b1-fea589cb3756",
   "metadata": {},
   "outputs": [],
   "source": [
    "''' Important Parameters '''\n",
    "learning_rate = 1e-4\n",
    "epochs = 50"
   ]
  },
  {
   "cell_type": "code",
   "execution_count": 46,
   "id": "de7f142d-6e5f-4916-8659-03474ae6c47b",
   "metadata": {},
   "outputs": [],
   "source": [
    "''' Loss Function and Optimizers '''\n",
    "\n",
    "mse_loss_function = nn.MSELoss()\n",
    "optimizer = torch.optim.AdamW(model_1.parameters(), lr=learning_rate, weight_decay=1e-5)\n",
    "scheduler = torch.optim.lr_scheduler.ReduceLROnPlateau(optimizer, mode='min', patience=5, factor=0.5, verbose=True)"
   ]
  },
  {
   "cell_type": "markdown",
   "id": "4474592c-f235-457c-aa5d-0dab3f62aaa2",
   "metadata": {},
   "source": [
    "# Training Loop"
   ]
  },
  {
   "cell_type": "code",
   "execution_count": 48,
   "id": "f3f5da4c-5a09-4419-bfbd-d4e42c68ecb1",
   "metadata": {},
   "outputs": [],
   "source": [
    "def train_step(model:torch.nn.Module,\n",
    "               dataloader:torch.utils.data.DataLoader,\n",
    "               mse_loss_function:torch.nn.Module,\n",
    "               optimizer:torch.optim.Optimizer\n",
    "              ):\n",
    "    model.train()\n",
    "    epoch_total_loss = 0\n",
    "\n",
    "    for batch_X in dataloader:\n",
    "        encoded, decoded = model(batch_X)\n",
    "\n",
    "        ''' Compute Loss '''\n",
    "        mse_loss = mse_loss_function(decoded, batch_X)\n",
    "\n",
    "        ''' BackPropagation '''\n",
    "        optimizer.zero_grad()\n",
    "        mse_loss.backward()\n",
    "        optimizer.step()\n",
    "\n",
    "        epoch_total_loss = mse_loss.item()\n",
    "\n",
    "    training_loss = epoch_total_loss / len(dataloader)\n",
    "    return training_loss"
   ]
  },
  {
   "cell_type": "markdown",
   "id": "0760815d-3ca4-4db1-acff-bf7f748359fe",
   "metadata": {},
   "source": [
    "# Testing Loop"
   ]
  },
  {
   "cell_type": "code",
   "execution_count": 50,
   "id": "98bf3e05-bb50-4e38-aa56-65023a4379bb",
   "metadata": {},
   "outputs": [],
   "source": [
    "def test_step(model:torch.nn.Module,\n",
    "              dataloader:torch.utils.data.DataLoader,\n",
    "              mse_loss_function:torch.nn.Module,\n",
    "             ):\n",
    "\n",
    "    epoch_total_loss = 0\n",
    "    \n",
    "    model.eval()\n",
    "    with torch.inference_mode():\n",
    "        for batch_X in dataloader:\n",
    "            encoded, decoded = model(batch_X)  # Forward pass\n",
    "\n",
    "            ''' Compute Loss '''\n",
    "            mse_loss = mse_loss_function(decoded, batch_X)  # Reconstruction Loss\n",
    "            \n",
    "            epoch_total_loss += mse_loss.item()\n",
    "\n",
    "        testing_loss = epoch_total_loss / len(dataloader)\n",
    "        return testing_loss"
   ]
  },
  {
   "cell_type": "markdown",
   "id": "0d2bb8f1-23cc-47cc-bdab-7e8506fef10d",
   "metadata": {},
   "source": [
    "## Combining Training and Testing Loop into evaluate()"
   ]
  },
  {
   "cell_type": "code",
   "execution_count": 52,
   "id": "82dc904b-40dc-4eef-b74a-d2e783930713",
   "metadata": {},
   "outputs": [],
   "source": [
    "def evaluate(model:torch.nn.Module,\n",
    "             train_dataloader:torch.utils.data.DataLoader,\n",
    "             test_dataloader:torch.utils.data.DataLoader,\n",
    "             mse_loss_function:torch.nn.Module,\n",
    "             optimizer:torch.optim.Optimizer,\n",
    "             scheduler:torch.optim.lr_scheduler.ReduceLROnPlateau,\n",
    "             epochs:int = 5,\n",
    "             patience:int = 3,\n",
    "             delta:float = 0.0001\n",
    "            ):\n",
    "    \n",
    "    results = {'training_loss':[],\n",
    "              'testing_loss':[]}\n",
    "\n",
    "    best_testing_loss = float('inf')\n",
    "    epochs_without_improvement = 0\n",
    "\n",
    "    for epoch in range(epochs):\n",
    "        training_loss = train_step(model=model,\n",
    "                                   dataloader=train_dataloader,\n",
    "                                   mse_loss_function=mse_loss_function,\n",
    "                                   optimizer=optimizer\n",
    "                                  )\n",
    "\n",
    "        testing_loss = test_step(model=model,\n",
    "                                   dataloader=test_dataloader,\n",
    "                                   mse_loss_function=mse_loss_function,\n",
    "                                  )\n",
    "\n",
    "        scheduler.step(testing_loss)\n",
    "        results['training_loss'].append(training_loss)\n",
    "        results['testing_loss'].append(testing_loss)\n",
    "\n",
    "        print(f'Epoch {epoch+1}/{epochs} | Training Loss: {training_loss:.5f} | Testing Loss: {testing_loss:.5f}')\n",
    "\n",
    "         # Early stopping: check if testing loss improved\n",
    "        if testing_loss < best_testing_loss - delta:\n",
    "            best_testing_loss = testing_loss\n",
    "            epochs_without_improvement = 0  # Reset counter since we had improvement\n",
    "        else:\n",
    "            epochs_without_improvement += 1\n",
    "        \n",
    "        # If no improvement for 'patience' epochs, stop training early\n",
    "        if epochs_without_improvement >= patience:\n",
    "            print(f\"Early stopping triggered at epoch {epoch+1}!\")\n",
    "            break\n",
    "        \n",
    "        # LR Scheduler\n",
    "        for param_group in optimizer.param_groups:\n",
    "            print(f\"Current Learning Rate: {param_group['lr']:.6f}\")\n",
    "    return results"
   ]
  },
  {
   "cell_type": "code",
   "execution_count": 53,
   "id": "4effe4a3-9806-43d4-bab8-15515103fcc0",
   "metadata": {},
   "outputs": [
    {
     "name": "stdout",
     "output_type": "stream",
     "text": [
      "Epoch 1/50 | Training Loss: 0.00084 | Testing Loss: 0.51113\n",
      "Current Learning Rate: 0.000100\n",
      "Epoch 2/50 | Training Loss: 0.00060 | Testing Loss: 0.40516\n",
      "Current Learning Rate: 0.000100\n",
      "Epoch 3/50 | Training Loss: 0.00064 | Testing Loss: 0.35784\n",
      "Current Learning Rate: 0.000100\n",
      "Epoch 4/50 | Training Loss: 0.00039 | Testing Loss: 0.32778\n",
      "Current Learning Rate: 0.000100\n",
      "Epoch 5/50 | Training Loss: 0.00083 | Testing Loss: 0.32679\n",
      "Current Learning Rate: 0.000100\n",
      "Epoch 6/50 | Training Loss: 0.00038 | Testing Loss: 0.29455\n",
      "Current Learning Rate: 0.000100\n",
      "Epoch 7/50 | Training Loss: 0.00043 | Testing Loss: 0.26539\n",
      "Current Learning Rate: 0.000100\n",
      "Epoch 8/50 | Training Loss: 0.00051 | Testing Loss: 0.27546\n",
      "Current Learning Rate: 0.000100\n",
      "Epoch 9/50 | Training Loss: 0.00034 | Testing Loss: 0.24506\n",
      "Current Learning Rate: 0.000100\n",
      "Epoch 10/50 | Training Loss: 0.00034 | Testing Loss: 0.23342\n",
      "Current Learning Rate: 0.000100\n",
      "Epoch 11/50 | Training Loss: 0.00030 | Testing Loss: 0.22215\n",
      "Current Learning Rate: 0.000100\n",
      "Epoch 12/50 | Training Loss: 0.00022 | Testing Loss: 0.20489\n",
      "Current Learning Rate: 0.000100\n",
      "Epoch 13/50 | Training Loss: 0.00023 | Testing Loss: 0.21207\n",
      "Current Learning Rate: 0.000100\n",
      "Epoch 14/50 | Training Loss: 0.00121 | Testing Loss: 0.19543\n",
      "Current Learning Rate: 0.000100\n",
      "Epoch 15/50 | Training Loss: 0.00028 | Testing Loss: 0.19807\n",
      "Current Learning Rate: 0.000100\n",
      "Epoch 16/50 | Training Loss: 0.00025 | Testing Loss: 0.18602\n",
      "Current Learning Rate: 0.000100\n",
      "Epoch 17/50 | Training Loss: 0.00036 | Testing Loss: 0.17068\n",
      "Current Learning Rate: 0.000100\n",
      "Epoch 18/50 | Training Loss: 0.00020 | Testing Loss: 0.15232\n",
      "Current Learning Rate: 0.000100\n",
      "Epoch 19/50 | Training Loss: 0.00020 | Testing Loss: 0.13924\n",
      "Current Learning Rate: 0.000100\n",
      "Epoch 20/50 | Training Loss: 0.00010 | Testing Loss: 0.12445\n",
      "Current Learning Rate: 0.000100\n",
      "Epoch 21/50 | Training Loss: 0.00009 | Testing Loss: 0.10604\n",
      "Current Learning Rate: 0.000100\n",
      "Epoch 22/50 | Training Loss: 0.00012 | Testing Loss: 0.09905\n",
      "Current Learning Rate: 0.000100\n",
      "Epoch 23/50 | Training Loss: 0.00019 | Testing Loss: 0.09693\n",
      "Current Learning Rate: 0.000100\n",
      "Epoch 24/50 | Training Loss: 0.00021 | Testing Loss: 0.08806\n",
      "Current Learning Rate: 0.000100\n",
      "Epoch 25/50 | Training Loss: 0.00039 | Testing Loss: 0.09120\n",
      "Current Learning Rate: 0.000100\n",
      "Epoch 26/50 | Training Loss: 0.00102 | Testing Loss: 0.08170\n",
      "Current Learning Rate: 0.000100\n",
      "Epoch 27/50 | Training Loss: 0.00010 | Testing Loss: 0.08414\n",
      "Current Learning Rate: 0.000100\n",
      "Epoch 28/50 | Training Loss: 0.00118 | Testing Loss: 0.07364\n",
      "Current Learning Rate: 0.000100\n",
      "Epoch 29/50 | Training Loss: 0.00004 | Testing Loss: 0.07382\n",
      "Current Learning Rate: 0.000100\n",
      "Epoch 30/50 | Training Loss: 0.00009 | Testing Loss: 0.07466\n",
      "Current Learning Rate: 0.000100\n",
      "Epoch 31/50 | Training Loss: 0.00011 | Testing Loss: 0.06832\n",
      "Current Learning Rate: 0.000100\n",
      "Epoch 32/50 | Training Loss: 0.00011 | Testing Loss: 0.06567\n",
      "Current Learning Rate: 0.000100\n",
      "Epoch 33/50 | Training Loss: 0.00014 | Testing Loss: 0.06521\n",
      "Current Learning Rate: 0.000100\n",
      "Epoch 34/50 | Training Loss: 0.00017 | Testing Loss: 0.06335\n",
      "Current Learning Rate: 0.000100\n",
      "Epoch 35/50 | Training Loss: 0.00008 | Testing Loss: 0.06720\n",
      "Current Learning Rate: 0.000100\n",
      "Epoch 36/50 | Training Loss: 0.00045 | Testing Loss: 0.07408\n",
      "Current Learning Rate: 0.000100\n",
      "Epoch 37/50 | Training Loss: 0.00033 | Testing Loss: 0.06585\n",
      "Early stopping triggered at epoch 37!\n"
     ]
    }
   ],
   "source": [
    "results = evaluate(model=model_1,\n",
    "                   train_dataloader=train_dataloader,\n",
    "                   test_dataloader=test_dataloader,\n",
    "                   mse_loss_function=mse_loss_function,\n",
    "                   optimizer=optimizer,\n",
    "                   scheduler=scheduler,\n",
    "                   epochs=epochs,\n",
    "                   patience=3,  # Stop after 3 epochs without improvement\n",
    "                   delta=0.0001)"
   ]
  },
  {
   "cell_type": "markdown",
   "id": "fd0bff64-448f-4f4d-ac25-daa1fd00f886",
   "metadata": {},
   "source": [
    "# Loss and Accuracy Curves"
   ]
  },
  {
   "cell_type": "code",
   "execution_count": 55,
   "id": "bd14cf30-7dda-4f5b-b2f2-69f655f168a5",
   "metadata": {},
   "outputs": [
    {
     "data": {
      "image/png": "[encoded data removed]",
      "text/plain": [
       "<Figure size 800x500 with 1 Axes>"
      ]
     },
     "metadata": {},
     "output_type": "display_data"
    }
   ],
   "source": [
    "epochs = range(len(results['training_loss']))\n",
    "\n",
    "plt.figure(figsize=(8, 5))\n",
    "plt.plot(epochs, results['training_loss'], label='Training Loss')\n",
    "plt.plot(epochs, results['testing_loss'], label='Testing Loss')\n",
    "plt.xlabel('Epochs')\n",
    "plt.ylabel('Loss')\n",
    "plt.title('Training VS Testing Loss')\n",
    "plt.legend()\n",
    "plt.show()"
   ]
  },
  {
   "cell_type": "markdown",
   "id": "f295c43f-8095-4659-b705-17fc69650098",
   "metadata": {},
   "source": [
    "## Test it on User's Preferences "
   ]
  },
  {
   "cell_type": "code",
   "execution_count": 57,
   "id": "99c79366-372e-443a-98e5-3e1da8403c2f",
   "metadata": {},
   "outputs": [
    {
     "data": {
      "text/plain": [
       "Index(['jobma_catcher_id', 'jobma_catcher_industry', 'jobma_catcher_type',\n",
       "       'is_premium', 'jobma_catcher_sub_accounts', 'jobma_catcher_is_deleted',\n",
       "       'jobma_verified', 'subscription_status', 'interview_rate',\n",
       "       'live_interview_credit', 'pre_recorded_credit', 'credit_value',\n",
       "       'interview_cost_type', 'subscription_type_x', 'jobma_support_rtc',\n",
       "       'interview_question', 'video_recording_suppport',\n",
       "       'sing_up_canditate_after_apply', 'currency', 'company_size',\n",
       "       'wallet_amount', 'plan_type', 'is_unlimited', 'premium_storage',\n",
       "       'subscription_amount', 'number_of_subscriptions',\n",
       "       'number_of_invitations', 'job_posted', 'number_of_kits'],\n",
       "      dtype='object')"
      ]
     },
     "execution_count": 57,
     "metadata": {},
     "output_type": "execute_result"
    }
   ],
   "source": [
    "X_df.columns"
   ]
  },
  {
   "cell_type": "code",
   "execution_count": 58,
   "id": "568629d4-f718-4a5e-a79e-fdd8f084f4de",
   "metadata": {},
   "outputs": [],
   "source": [
    "test_df = pd.read_csv('test_data.csv')"
   ]
  },
  {
   "cell_type": "code",
   "execution_count": 59,
   "id": "f3825e4a-76d8-44de-8860-3c515ef20a6a",
   "metadata": {},
   "outputs": [],
   "source": [
    "user_pref = {'jobma_catcher_id':1111,\n",
    "             'jobma_catcher_industry':'Unknown',\n",
    "             'jobma_catcher_type':'1',\n",
    "             'is_premium':'1',\n",
    "             'jobma_catcher_sub_accounts':0,\n",
    "             'jobma_catcher_is_deleted':'No',\n",
    "             'jobma_verified':1,\n",
    "             'subscription_status':2,\n",
    "             'interview_rate':0.,\n",
    "             'live_interview_credit':11.,\n",
    "             'pre_recorded_credit':1.00000e+02,\n",
    "             'credit_value':2,\n",
    "             'interview_cost_type':1,\n",
    "             'subscription_type_x':0,\n",
    "             'jobma_support_rtc':2,\n",
    "             'interview_question':20,\n",
    "             'video_recording_suppport':2,\n",
    "             'sing_up_canditate_after_apply':0,\n",
    "             'currency':1,\n",
    "             'company_size':'500-1000',\n",
    "             'wallet_amount':8.000000e+01,\n",
    "             'plan_type':'Yes',\n",
    "             'is_unlimited':'Yes',\n",
    "             'premium_storage':0.,\n",
    "             'subscription_amount': 1.13500000e+04,\n",
    "             'number_of_subscriptions':116.,\n",
    "             'number_of_invitations':2.0000e+02,\n",
    "             'job_posted':35.,\n",
    "             'number_of_kits':39.\n",
    "            }"
   ]
  },
  {
   "cell_type": "code",
   "execution_count": 60,
   "id": "336b6561-cab3-4c21-adb5-04a318a63c68",
   "metadata": {},
   "outputs": [],
   "source": [
    "original_df = pd.read_csv('recommend1.csv')"
   ]
  },
  {
   "cell_type": "code",
   "execution_count": 61,
   "id": "b9600e2c-22f0-45b0-b8dc-c2b5821819b6",
   "metadata": {},
   "outputs": [],
   "source": [
    "original_df = original_df[['jobma_catcher_id', 'jobma_catcher_company']]"
   ]
  },
  {
   "cell_type": "code",
   "execution_count": 62,
   "id": "aa864117-dbf4-4fa7-84e6-edd5f3b29ad3",
   "metadata": {},
   "outputs": [],
   "source": [
    "def recommend(user_input, model, dataloader, df_original, original_df, pipeline, top_k=5):\n",
    "    user_df = pd.DataFrame([user_input])\n",
    "    user_input_transformed = pipeline.transform(user_df)\n",
    "    user_input_tensor = torch.tensor(user_input_transformed, dtype=torch.float32)\n",
    "    \n",
    "    model.eval()\n",
    "    with torch.no_grad():\n",
    "        user_embedding, _ = model(user_input_tensor)\n",
    "        item_embeddings_list = []\n",
    "        for batch_X in dataloader:\n",
    "            item_embedding, _ = model(batch_X)\n",
    "            item_embeddings_list.append(item_embedding)\n",
    "\n",
    "        item_embeddings = torch.cat(item_embeddings_list, dim=0)\n",
    "\n",
    "        similarities = F.cosine_similarity(user_embedding, item_embeddings)\n",
    "        top_indices = similarities.topk(top_k).indices.cpu().numpy()\n",
    "\n",
    "    recommended = df_original.iloc[top_indices].copy()\n",
    "    recommended['similarity'] = similarities[top_indices].cpu().numpy()\n",
    "\n",
    "    merged_df = pd.merge(recommended, original_df[['jobma_catcher_id', 'jobma_catcher_company']], on='jobma_catcher_id', how='left')\n",
    "\n",
    "    return merged_df[['jobma_catcher_id', 'jobma_catcher_company', 'company_size', 'is_premium', 'wallet_amount', 'similarity']]"
   ]
  },
  {
   "cell_type": "code",
   "execution_count": 63,
   "id": "88db6ea8-2c30-4747-b2f5-4db904d9d76b",
   "metadata": {},
   "outputs": [
    {
     "name": "stdout",
     "output_type": "stream",
     "text": [
      "   jobma_catcher_id jobma_catcher_company company_size  is_premium  wallet_amount  similarity\n",
      "0              3483                   ssi       26-100         1.0           60.0    0.961839\n",
      "1              3058                   ssi       26-100         1.0           60.0    0.959124\n",
      "2              3897                   ssi       26-100         0.0           60.0    0.956374\n",
      "3              3522                   ssi         1-25         0.0            NaN    0.954512\n",
      "4              3463          selectsource       26-100         1.0           60.0    0.952754\n"
     ]
    }
   ],
   "source": [
    "result = recommend(user_pref, model_1, test_dataloader, test_df, original_df, pipeline, top_k=5)\n",
    "print(result.to_string())"
   ]
  },
  {
   "cell_type": "code",
   "execution_count": 64,
   "id": "05d5fb24-b327-4f93-ac1c-d42b4d826c05",
   "metadata": {},
   "outputs": [],
   "source": [
    "user_pref1 = {'jobma_catcher_id':1111,\n",
    "             'jobma_catcher_industry':'Unknown',\n",
    "             'jobma_catcher_type':'1',\n",
    "             'is_premium':'1',\n",
    "             'jobma_catcher_sub_accounts':0,\n",
    "             'jobma_catcher_is_deleted':'No',\n",
    "             'jobma_verified':1,\n",
    "             'subscription_status':2,\n",
    "             'interview_rate':0.,\n",
    "             'live_interview_credit':11.,\n",
    "             'pre_recorded_credit':1.00000e+02,\n",
    "             'credit_value':2,\n",
    "             'interview_cost_type':1,\n",
    "             'subscription_type_x':0,\n",
    "             'jobma_support_rtc':2,\n",
    "             'interview_question':20,\n",
    "             'video_recording_suppport':2,\n",
    "             'sing_up_canditate_after_apply':0,\n",
    "             'currency':1,\n",
    "             'company_size':'More than 1000',\n",
    "             'wallet_amount':8.000000e+01,\n",
    "             'plan_type':'Yes',\n",
    "             'is_unlimited':'Yes',\n",
    "             'premium_storage':0.,\n",
    "             'subscription_amount': 1.13500000e+04,\n",
    "             'number_of_subscriptions':116.,\n",
    "             'number_of_invitations':2.0000e+02,\n",
    "             'job_posted':35.,\n",
    "             'number_of_kits':139.\n",
    "            }"
   ]
  },
  {
   "cell_type": "code",
   "execution_count": 65,
   "id": "d0d5286d-bdb5-47a4-85e5-59ad5d8f808c",
   "metadata": {},
   "outputs": [
    {
     "name": "stdout",
     "output_type": "stream",
     "text": [
      "   jobma_catcher_id jobma_catcher_company company_size  is_premium  wallet_amount  similarity\n",
      "0              3483                   ssi       26-100         1.0           60.0    0.963696\n",
      "1              3058                   ssi       26-100         1.0           60.0    0.958722\n",
      "2              3897                   ssi       26-100         0.0           60.0    0.957616\n",
      "3              3522                   ssi         1-25         0.0            NaN    0.955445\n",
      "4              3463          selectsource       26-100         1.0           60.0    0.952306\n"
     ]
    }
   ],
   "source": [
    "result = recommend(user_pref1, model_1, test_dataloader, test_df, original_df, pipeline, top_k=5)\n",
    "print(result.to_string())"
   ]
  },
  {
   "cell_type": "code",
   "execution_count": 66,
   "id": "505aabfe-547c-4000-a24b-0becfa472202",
   "metadata": {},
   "outputs": [],
   "source": [
    "user_pref_dormant = {'jobma_catcher_id':0,\n",
    "             'jobma_catcher_industry':'Unknown',\n",
    "             'jobma_catcher_type':'1',\n",
    "             'is_premium':'1',\n",
    "             'jobma_catcher_sub_accounts':0,\n",
    "             'jobma_catcher_is_deleted':'No',\n",
    "             'jobma_verified':1,\n",
    "             'subscription_status':2,\n",
    "             'interview_rate':0.,\n",
    "             'live_interview_credit':11.,\n",
    "             'pre_recorded_credit':1.00000e+02,\n",
    "             'credit_value':2,\n",
    "             'interview_cost_type':1,\n",
    "             'subscription_type_x':0,\n",
    "             'jobma_support_rtc':2,\n",
    "             'interview_question':20,\n",
    "             'video_recording_suppport':2,\n",
    "             'sing_up_canditate_after_apply':0,\n",
    "             'currency':1,\n",
    "             'company_size':'More than 1000',\n",
    "             'wallet_amount':0.000000e+00,\n",
    "             'plan_type':'No',\n",
    "             'is_unlimited':'No',\n",
    "             'premium_storage':1.,\n",
    "             'subscription_amount': 1.000000e+02,\n",
    "             'number_of_subscriptions':1.,\n",
    "             'number_of_invitations':1.,\n",
    "             'job_posted':5.,\n",
    "             'number_of_kits':1.\n",
    "            }"
   ]
  },
  {
   "cell_type": "code",
   "execution_count": 67,
   "id": "98f13eab-2f6a-4a4b-a748-87b4cc4e5d81",
   "metadata": {},
   "outputs": [
    {
     "name": "stdout",
     "output_type": "stream",
     "text": [
      "   jobma_catcher_id jobma_catcher_company company_size  is_premium  wallet_amount  similarity\n",
      "0              3522                   ssi         1-25         0.0            NaN    0.920318\n",
      "1              3463          selectsource       26-100         1.0           60.0    0.903840\n",
      "2              3143                   ssi         1-25         0.0           60.0    0.890251\n",
      "3              3320                    mm         1-25         1.0           60.0    0.883538\n",
      "4              4026                   ssi       26-100         1.0           60.0    0.878858\n"
     ]
    }
   ],
   "source": [
    "result = recommend(user_pref_dormant, model_1, test_dataloader, test_df, original_df, pipeline, top_k=5)\n",
    "print(result.to_string())"
   ]
  },
  {
   "cell_type": "code",
   "execution_count": 125,
   "id": "5df837aa-846e-4481-b1c2-cbbe2cb76420",
   "metadata": {},
   "outputs": [],
   "source": [
    "user_pref_asdfg = {'jobma_catcher_id':0,\n",
    "             'jobma_catcher_industry':'Unknown',\n",
    "             'jobma_catcher_type':'1',\n",
    "             'is_premium':'0',\n",
    "             'jobma_catcher_sub_accounts':0,\n",
    "             'jobma_catcher_is_deleted':'No',\n",
    "             'jobma_verified':0,\n",
    "             'subscription_status':1,\n",
    "             'interview_rate':0.,\n",
    "             'live_interview_credit':11.,\n",
    "             'pre_recorded_credit':1.00000e+02,\n",
    "             'credit_value':2,\n",
    "             'interview_cost_type':1,\n",
    "             'subscription_type_x':0,\n",
    "             'jobma_support_rtc':2,\n",
    "             'interview_question':20,\n",
    "             'video_recording_suppport':2,\n",
    "             'sing_up_canditate_after_apply':0,\n",
    "             'currency':1,\n",
    "             'company_size':'More than 1000',\n",
    "             'wallet_amount':1.000000e+00,\n",
    "             'plan_type':'No',\n",
    "             'is_unlimited':'No',\n",
    "             'premium_storage':1.,\n",
    "             'subscription_amount': 1.000000e+02,\n",
    "             'number_of_subscriptions':1.,\n",
    "             'number_of_invitations':1.,\n",
    "             'job_posted':5.,\n",
    "             'number_of_kits':1.\n",
    "            }"
   ]
  },
  {
   "cell_type": "code",
   "execution_count": 127,
   "id": "356df921-76ed-44b8-ac3e-e753ff0cd371",
   "metadata": {},
   "outputs": [
    {
     "name": "stdout",
     "output_type": "stream",
     "text": [
      "   jobma_catcher_id jobma_catcher_company company_size  is_premium  wallet_amount  similarity\n",
      "0              3404                   ssi       26-100         0.0           60.0    0.970574\n",
      "1              3320                    mm         1-25         1.0           60.0    0.876913\n",
      "2              3141                   ssi         1-25         0.0            NaN    0.847383\n",
      "3              3145                  Test       26-100         1.0           60.0    0.842119\n",
      "4              3750                 JOBMA         1-25         0.0           60.0    0.840830\n"
     ]
    }
   ],
   "source": [
    "result1 = recommend(user_pref_asdfg, model_1, test_dataloader, test_df, original_df, pipeline, top_k=5)\n",
    "print(result1.to_string())"
   ]
  }
 ],
 "metadata": {
  "kernelspec": {
   "display_name": "Python 3 (ipykernel)",
   "language": "python",
   "name": "python3"
  },
  "language_info": {
   "codemirror_mode": {
    "name": "ipython",
    "version": 3
   },
   "file_extension": ".py",
   "mimetype": "text/x-python",
   "name": "python",
   "nbconvert_exporter": "python",
   "pygments_lexer": "ipython3",
   "version": "3.12.7"
  }
 },
 "nbformat": 4,
 "nbformat_minor": 5
}
