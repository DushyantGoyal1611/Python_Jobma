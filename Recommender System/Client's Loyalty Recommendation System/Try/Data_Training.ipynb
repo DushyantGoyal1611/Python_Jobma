{
 "cells": [
  {
   "cell_type": "code",
   "execution_count": 1,
   "id": "02627ae7-028e-4384-9479-123e71738db6",
   "metadata": {},
   "outputs": [],
   "source": [
    "import pandas as pd\n",
    "import numpy as np\n",
    "import matplotlib.pyplot as plt\n",
    "import seaborn as sns\n",
    "import warnings\n",
    "\n",
    "# Torch\n",
    "import torch\n",
    "import torch.nn as nn\n",
    "from torch.utils.data import Dataset, DataLoader\n",
    "import torch.nn.functional as F\n",
    "\n",
    "# Data Encoding and Scaling\n",
    "from sklearn.preprocessing import OrdinalEncoder, RobustScaler, StandardScaler, FunctionTransformer\n",
    "from sklearn.model_selection import train_test_split\n",
    "from sklearn.decomposition import PCA\n",
    "\n",
    "# Pipeline\n",
    "from sklearn.pipeline import Pipeline\n",
    "from sklearn import set_config\n",
    "\n",
    "# Clustering\n",
    "from sklearn.cluster import KMeans\n",
    "from sklearn.metrics import silhouette_score"
   ]
  },
  {
   "cell_type": "code",
   "execution_count": 2,
   "id": "1c1d7230-75f3-453f-90c4-bd8e90119a19",
   "metadata": {},
   "outputs": [],
   "source": [
    "warnings.filterwarnings('ignore')"
   ]
  },
  {
   "cell_type": "code",
   "execution_count": 3,
   "id": "5173f3d9-60ff-4dbf-a71d-071f45811717",
   "metadata": {},
   "outputs": [
    {
     "data": {
      "text/plain": [
       "'cpu'"
      ]
     },
     "execution_count": 3,
     "metadata": {},
     "output_type": "execute_result"
    }
   ],
   "source": [
    "device = 'cuda' if torch.cuda.is_available() else 'cpu'\n",
    "device"
   ]
  },
  {
   "cell_type": "code",
   "execution_count": 4,
   "id": "9dfc3d31-67ed-4eb5-b2bd-1b63582516f7",
   "metadata": {},
   "outputs": [],
   "source": [
    "df = pd.read_csv('try_data_processed.csv')"
   ]
  },
  {
   "cell_type": "code",
   "execution_count": 5,
   "id": "3daf36a0-fc32-4511-aa77-018fabc6859a",
   "metadata": {},
   "outputs": [
    {
     "data": {
      "text/html": [
       "<div>\n",
       "<style scoped>\n",
       "    .dataframe tbody tr th:only-of-type {\n",
       "        vertical-align: middle;\n",
       "    }\n",
       "\n",
       "    .dataframe tbody tr th {\n",
       "        vertical-align: top;\n",
       "    }\n",
       "\n",
       "    .dataframe thead th {\n",
       "        text-align: right;\n",
       "    }\n",
       "</style>\n",
       "<table border=\"1\" class=\"dataframe\">\n",
       "  <thead>\n",
       "    <tr style=\"text-align: right;\">\n",
       "      <th></th>\n",
       "      <th>jobma_catcher_id</th>\n",
       "      <th>is_premium</th>\n",
       "      <th>jobma_verified</th>\n",
       "      <th>subscription_status</th>\n",
       "      <th>company_size</th>\n",
       "      <th>plan_type</th>\n",
       "      <th>is_unlimited</th>\n",
       "      <th>jobma_catcher_sub_accounts</th>\n",
       "      <th>subscription_amount</th>\n",
       "      <th>number_of_subscriptions</th>\n",
       "      <th>number_of_invitations</th>\n",
       "      <th>job_posted</th>\n",
       "      <th>number_of_kits</th>\n",
       "      <th>number_of_recorded_interviews</th>\n",
       "      <th>number_of_live_interviews</th>\n",
       "    </tr>\n",
       "  </thead>\n",
       "  <tbody>\n",
       "    <tr>\n",
       "      <th>0</th>\n",
       "      <td>2656</td>\n",
       "      <td>0</td>\n",
       "      <td>1</td>\n",
       "      <td>1</td>\n",
       "      <td>1-25</td>\n",
       "      <td>0</td>\n",
       "      <td>1</td>\n",
       "      <td>0</td>\n",
       "      <td>15000.00</td>\n",
       "      <td>1</td>\n",
       "      <td>4</td>\n",
       "      <td>1</td>\n",
       "      <td>2</td>\n",
       "      <td>1</td>\n",
       "      <td>0</td>\n",
       "    </tr>\n",
       "    <tr>\n",
       "      <th>1</th>\n",
       "      <td>2935</td>\n",
       "      <td>0</td>\n",
       "      <td>1</td>\n",
       "      <td>2</td>\n",
       "      <td>26-100</td>\n",
       "      <td>1</td>\n",
       "      <td>0</td>\n",
       "      <td>0</td>\n",
       "      <td>53.10</td>\n",
       "      <td>1</td>\n",
       "      <td>74</td>\n",
       "      <td>4</td>\n",
       "      <td>0</td>\n",
       "      <td>0</td>\n",
       "      <td>0</td>\n",
       "    </tr>\n",
       "    <tr>\n",
       "      <th>2</th>\n",
       "      <td>2937</td>\n",
       "      <td>0</td>\n",
       "      <td>1</td>\n",
       "      <td>2</td>\n",
       "      <td>101-500</td>\n",
       "      <td>1</td>\n",
       "      <td>0</td>\n",
       "      <td>0</td>\n",
       "      <td>118.00</td>\n",
       "      <td>1</td>\n",
       "      <td>74</td>\n",
       "      <td>4</td>\n",
       "      <td>0</td>\n",
       "      <td>0</td>\n",
       "      <td>0</td>\n",
       "    </tr>\n",
       "    <tr>\n",
       "      <th>3</th>\n",
       "      <td>2938</td>\n",
       "      <td>0</td>\n",
       "      <td>1</td>\n",
       "      <td>1</td>\n",
       "      <td>26-100</td>\n",
       "      <td>1</td>\n",
       "      <td>0</td>\n",
       "      <td>0</td>\n",
       "      <td>15200.18</td>\n",
       "      <td>3</td>\n",
       "      <td>74</td>\n",
       "      <td>1</td>\n",
       "      <td>0</td>\n",
       "      <td>0</td>\n",
       "      <td>0</td>\n",
       "    </tr>\n",
       "    <tr>\n",
       "      <th>4</th>\n",
       "      <td>2939</td>\n",
       "      <td>0</td>\n",
       "      <td>1</td>\n",
       "      <td>2</td>\n",
       "      <td>26-100</td>\n",
       "      <td>1</td>\n",
       "      <td>0</td>\n",
       "      <td>0</td>\n",
       "      <td>11800.00</td>\n",
       "      <td>1</td>\n",
       "      <td>74</td>\n",
       "      <td>1</td>\n",
       "      <td>0</td>\n",
       "      <td>0</td>\n",
       "      <td>0</td>\n",
       "    </tr>\n",
       "  </tbody>\n",
       "</table>\n",
       "</div>"
      ],
      "text/plain": [
       "   jobma_catcher_id  is_premium  jobma_verified  subscription_status  \\\n",
       "0              2656           0               1                    1   \n",
       "1              2935           0               1                    2   \n",
       "2              2937           0               1                    2   \n",
       "3              2938           0               1                    1   \n",
       "4              2939           0               1                    2   \n",
       "\n",
       "  company_size  plan_type  is_unlimited  jobma_catcher_sub_accounts  \\\n",
       "0         1-25          0             1                           0   \n",
       "1       26-100          1             0                           0   \n",
       "2      101-500          1             0                           0   \n",
       "3       26-100          1             0                           0   \n",
       "4       26-100          1             0                           0   \n",
       "\n",
       "   subscription_amount  number_of_subscriptions  number_of_invitations  \\\n",
       "0             15000.00                        1                      4   \n",
       "1                53.10                        1                     74   \n",
       "2               118.00                        1                     74   \n",
       "3             15200.18                        3                     74   \n",
       "4             11800.00                        1                     74   \n",
       "\n",
       "   job_posted  number_of_kits  number_of_recorded_interviews  \\\n",
       "0           1               2                              1   \n",
       "1           4               0                              0   \n",
       "2           4               0                              0   \n",
       "3           1               0                              0   \n",
       "4           1               0                              0   \n",
       "\n",
       "   number_of_live_interviews  \n",
       "0                          0  \n",
       "1                          0  \n",
       "2                          0  \n",
       "3                          0  \n",
       "4                          0  "
      ]
     },
     "execution_count": 5,
     "metadata": {},
     "output_type": "execute_result"
    }
   ],
   "source": [
    "df.head()"
   ]
  },
  {
   "cell_type": "code",
   "execution_count": 6,
   "id": "79f1d1a0-f59e-45a9-87a1-e327d4ee949c",
   "metadata": {},
   "outputs": [
    {
     "data": {
      "text/plain": [
       "Index(['jobma_catcher_id', 'is_premium', 'jobma_verified',\n",
       "       'subscription_status', 'company_size', 'plan_type', 'is_unlimited',\n",
       "       'jobma_catcher_sub_accounts', 'subscription_amount',\n",
       "       'number_of_subscriptions', 'number_of_invitations', 'job_posted',\n",
       "       'number_of_kits', 'number_of_recorded_interviews',\n",
       "       'number_of_live_interviews'],\n",
       "      dtype='object')"
      ]
     },
     "execution_count": 6,
     "metadata": {},
     "output_type": "execute_result"
    }
   ],
   "source": [
    "df.columns"
   ]
  },
  {
   "cell_type": "code",
   "execution_count": 7,
   "id": "a1581a7d-075c-42d9-8f04-eb50e0608d3e",
   "metadata": {},
   "outputs": [
    {
     "name": "stdout",
     "output_type": "stream",
     "text": [
      "<class 'pandas.core.frame.DataFrame'>\n",
      "RangeIndex: 6116 entries, 0 to 6115\n",
      "Data columns (total 15 columns):\n",
      " #   Column                         Non-Null Count  Dtype  \n",
      "---  ------                         --------------  -----  \n",
      " 0   jobma_catcher_id               6116 non-null   int64  \n",
      " 1   is_premium                     6116 non-null   int64  \n",
      " 2   jobma_verified                 6116 non-null   int64  \n",
      " 3   subscription_status            6116 non-null   int64  \n",
      " 4   company_size                   6116 non-null   object \n",
      " 5   plan_type                      6116 non-null   int64  \n",
      " 6   is_unlimited                   6116 non-null   int64  \n",
      " 7   jobma_catcher_sub_accounts     6116 non-null   int64  \n",
      " 8   subscription_amount            6116 non-null   float64\n",
      " 9   number_of_subscriptions        6116 non-null   int64  \n",
      " 10  number_of_invitations          6116 non-null   int64  \n",
      " 11  job_posted                     6116 non-null   int64  \n",
      " 12  number_of_kits                 6116 non-null   int64  \n",
      " 13  number_of_recorded_interviews  6116 non-null   int64  \n",
      " 14  number_of_live_interviews      6116 non-null   int64  \n",
      "dtypes: float64(1), int64(13), object(1)\n",
      "memory usage: 716.8+ KB\n"
     ]
    }
   ],
   "source": [
    "df.info()"
   ]
  },
  {
   "cell_type": "markdown",
   "id": "f1aacf0f-5282-4d23-8213-508e07ce2757",
   "metadata": {},
   "source": [
    "# Use this for merging in the end"
   ]
  },
  {
   "cell_type": "code",
   "execution_count": 9,
   "id": "a90cc7c5-c621-4d68-8f80-d473f13f6cda",
   "metadata": {},
   "outputs": [],
   "source": [
    "''' Backup DataFrame '''\n",
    "backup_df = df.copy()"
   ]
  },
  {
   "cell_type": "code",
   "execution_count": 10,
   "id": "1b26e171-9016-438a-ad97-0fc6e74e6ce4",
   "metadata": {},
   "outputs": [],
   "source": [
    "df.drop(['jobma_catcher_id', 'jobma_verified'], axis=1, inplace=True)"
   ]
  },
  {
   "cell_type": "code",
   "execution_count": 11,
   "id": "28f8c80a-e49a-43cb-991b-fd4ccc852ad1",
   "metadata": {},
   "outputs": [
    {
     "name": "stdout",
     "output_type": "stream",
     "text": [
      "<class 'pandas.core.frame.DataFrame'>\n",
      "RangeIndex: 6116 entries, 0 to 6115\n",
      "Data columns (total 13 columns):\n",
      " #   Column                         Non-Null Count  Dtype  \n",
      "---  ------                         --------------  -----  \n",
      " 0   is_premium                     6116 non-null   int64  \n",
      " 1   subscription_status            6116 non-null   int64  \n",
      " 2   company_size                   6116 non-null   object \n",
      " 3   plan_type                      6116 non-null   int64  \n",
      " 4   is_unlimited                   6116 non-null   int64  \n",
      " 5   jobma_catcher_sub_accounts     6116 non-null   int64  \n",
      " 6   subscription_amount            6116 non-null   float64\n",
      " 7   number_of_subscriptions        6116 non-null   int64  \n",
      " 8   number_of_invitations          6116 non-null   int64  \n",
      " 9   job_posted                     6116 non-null   int64  \n",
      " 10  number_of_kits                 6116 non-null   int64  \n",
      " 11  number_of_recorded_interviews  6116 non-null   int64  \n",
      " 12  number_of_live_interviews      6116 non-null   int64  \n",
      "dtypes: float64(1), int64(11), object(1)\n",
      "memory usage: 621.3+ KB\n"
     ]
    }
   ],
   "source": [
    "df.info()"
   ]
  },
  {
   "cell_type": "code",
   "execution_count": 12,
   "id": "dd4d00fb-8527-4c1f-9c4f-fafe707b04f4",
   "metadata": {},
   "outputs": [],
   "source": [
    "''' This Function is to fill all missing values (if col is int then 0, if col is float then 0.0 and if col is object then 'Unkmown') '''\n",
    "\n",
    "def fill_missing_values(df):\n",
    "    df = df.copy()\n",
    "    for col in df.columns:\n",
    "        if df[col].dtype == np.int64:\n",
    "            df[col].fillna(0, inplace=True)\n",
    "        elif df[col].dtype == np.float64:\n",
    "            df[col].fillna(0.0, inplace=True)\n",
    "        elif df[col].dtype == object:\n",
    "            unique_vals = df[col].dropna().unique()\n",
    "            if set(unique_vals).issubset({'Yes', 'No'}):\n",
    "                df[col].fillna('No', inplace=True)\n",
    "            else:\n",
    "                df[col].fillna('Unknown', inplace=True)\n",
    "    return df"
   ]
  },
  {
   "cell_type": "markdown",
   "id": "0332700b-2574-4a21-b69c-a828926186be",
   "metadata": {},
   "source": [
    "# Data Encoding"
   ]
  },
  {
   "cell_type": "code",
   "execution_count": 14,
   "id": "4c883275-6bf3-412b-b2dd-407a08b1c8ca",
   "metadata": {},
   "outputs": [],
   "source": [
    "def ordinal_encoder(df):\n",
    "    # Define the ordinal column and the ordering\n",
    "    ordinal_col = ['company_size']\n",
    "    company_size_order = ['Unknown', '1-25', '26-100', '101-500', '500-1000', 'More than 1000']\n",
    "    \n",
    "    # Initialize OrdinalEncoder with specified categories\n",
    "    ordinal = OrdinalEncoder(categories=[company_size_order])\n",
    "    \n",
    "    # Fit and transform the data (make sure input is 2D for encoding)\n",
    "    encoded = ordinal.fit_transform(df[ordinal_col].astype(str).values.reshape(-1, 1))\n",
    "    \n",
    "    # Convert the encoded result to a DataFrame with the appropriate column name\n",
    "    encoded_df = pd.DataFrame(encoded, columns=[f'{col}_ord' for col in ordinal_col], index=df.index)\n",
    "\n",
    "    # Drop the original column\n",
    "    df.drop(columns=ordinal_col, inplace=True)\n",
    "\n",
    "    # Concatenate the encoded column to the original dataframe\n",
    "    df = pd.concat([df, encoded_df], axis=1)\n",
    "    \n",
    "    return df"
   ]
  },
  {
   "cell_type": "markdown",
   "id": "c58fb47c-c277-4e05-8409-af09e1da3252",
   "metadata": {},
   "source": [
    "# Log Transformation"
   ]
  },
  {
   "cell_type": "code",
   "execution_count": 16,
   "id": "cc546990-00be-4ff4-a751-bdcdd7686ca9",
   "metadata": {},
   "outputs": [],
   "source": [
    "log_cols = [\n",
    "    'jobma_catcher_sub_accounts',\n",
    "    'subscription_amount',\n",
    "    'number_of_subscriptions'\n",
    "    'number_of_invitations',\n",
    "    'job_posted',\n",
    "    'number_of_kits',\n",
    "    'number_of_recorded_interviews',\n",
    "    'number_of_live_interviews'\n",
    "]"
   ]
  },
  {
   "cell_type": "code",
   "execution_count": 17,
   "id": "5cc34a7a-725a-472d-9633-84ad5226360d",
   "metadata": {},
   "outputs": [],
   "source": [
    "def log_transform(df):\n",
    "    df = df.copy()\n",
    "    for col in log_cols:\n",
    "        if col in df.columns:\n",
    "            # fill NaNs\n",
    "            df[col] = df[col].fillna(0)\n",
    "            # if a number is less than zero, turn it into zero;\n",
    "            df[col] = df[col].clip(lower=0)\n",
    "            # safe log1p\n",
    "            df[col] = np.log1p(df[col])\n",
    "            \n",
    "    return df"
   ]
  },
  {
   "cell_type": "markdown",
   "id": "19fc111c-8acd-4761-b719-1c4c82f3d02c",
   "metadata": {},
   "source": [
    "# Pipeline"
   ]
  },
  {
   "cell_type": "code",
   "execution_count": 19,
   "id": "3299009b-0b2b-40d3-850b-dcd3f1be40f0",
   "metadata": {},
   "outputs": [],
   "source": [
    "pipeline = Pipeline([\n",
    "    ('fill_missing_values', FunctionTransformer(fill_missing_values, validate=False)),\n",
    "    ('ordinal_encoder', FunctionTransformer(ordinal_encoder, validate=False)),\n",
    "    ('log_transformation', FunctionTransformer(log_transform, validate=False)), # log transforms the col with outliers\n",
    "    ('scaler', StandardScaler()), # Needs attention to improve model\n",
    "    # ('pca', PCA(n_components=0.95))\n",
    "])"
   ]
  },
  {
   "cell_type": "code",
   "execution_count": 20,
   "id": "7bb1f491-8ccd-4998-b10b-e73caf39136c",
   "metadata": {},
   "outputs": [
    {
     "data": {
      "text/html": [
       "<style>#sk-container-id-1 {\n",
       "  /* Definition of color scheme common for light and dark mode */\n",
       "  --sklearn-color-text: black;\n",
       "  --sklearn-color-line: gray;\n",
       "  /* Definition of color scheme for unfitted estimators */\n",
       "  --sklearn-color-unfitted-level-0: #fff5e6;\n",
       "  --sklearn-color-unfitted-level-1: #f6e4d2;\n",
       "  --sklearn-color-unfitted-level-2: #ffe0b3;\n",
       "  --sklearn-color-unfitted-level-3: chocolate;\n",
       "  /* Definition of color scheme for fitted estimators */\n",
       "  --sklearn-color-fitted-level-0: #f0f8ff;\n",
       "  --sklearn-color-fitted-level-1: #d4ebff;\n",
       "  --sklearn-color-fitted-level-2: #b3dbfd;\n",
       "  --sklearn-color-fitted-level-3: cornflowerblue;\n",
       "\n",
       "  /* Specific color for light theme */\n",
       "  --sklearn-color-text-on-default-background: var(--sg-text-color, var(--theme-code-foreground, var(--jp-content-font-color1, black)));\n",
       "  --sklearn-color-background: var(--sg-background-color, var(--theme-background, var(--jp-layout-color0, white)));\n",
       "  --sklearn-color-border-box: var(--sg-text-color, var(--theme-code-foreground, var(--jp-content-font-color1, black)));\n",
       "  --sklearn-color-icon: #696969;\n",
       "\n",
       "  @media (prefers-color-scheme: dark) {\n",
       "    /* Redefinition of color scheme for dark theme */\n",
       "    --sklearn-color-text-on-default-background: var(--sg-text-color, var(--theme-code-foreground, var(--jp-content-font-color1, white)));\n",
       "    --sklearn-color-background: var(--sg-background-color, var(--theme-background, var(--jp-layout-color0, #111)));\n",
       "    --sklearn-color-border-box: var(--sg-text-color, var(--theme-code-foreground, var(--jp-content-font-color1, white)));\n",
       "    --sklearn-color-icon: #878787;\n",
       "  }\n",
       "}\n",
       "\n",
       "#sk-container-id-1 {\n",
       "  color: var(--sklearn-color-text);\n",
       "}\n",
       "\n",
       "#sk-container-id-1 pre {\n",
       "  padding: 0;\n",
       "}\n",
       "\n",
       "#sk-container-id-1 input.sk-hidden--visually {\n",
       "  border: 0;\n",
       "  clip: rect(1px 1px 1px 1px);\n",
       "  clip: rect(1px, 1px, 1px, 1px);\n",
       "  height: 1px;\n",
       "  margin: -1px;\n",
       "  overflow: hidden;\n",
       "  padding: 0;\n",
       "  position: absolute;\n",
       "  width: 1px;\n",
       "}\n",
       "\n",
       "#sk-container-id-1 div.sk-dashed-wrapped {\n",
       "  border: 1px dashed var(--sklearn-color-line);\n",
       "  margin: 0 0.4em 0.5em 0.4em;\n",
       "  box-sizing: border-box;\n",
       "  padding-bottom: 0.4em;\n",
       "  background-color: var(--sklearn-color-background);\n",
       "}\n",
       "\n",
       "#sk-container-id-1 div.sk-container {\n",
       "  /* jupyter's `normalize.less` sets `[hidden] { display: none; }`\n",
       "     but bootstrap.min.css set `[hidden] { display: none !important; }`\n",
       "     so we also need the `!important` here to be able to override the\n",
       "     default hidden behavior on the sphinx rendered scikit-learn.org.\n",
       "     See: https://github.com/scikit-learn/scikit-learn/issues/21755 */\n",
       "  display: inline-block !important;\n",
       "  position: relative;\n",
       "}\n",
       "\n",
       "#sk-container-id-1 div.sk-text-repr-fallback {\n",
       "  display: none;\n",
       "}\n",
       "\n",
       "div.sk-parallel-item,\n",
       "div.sk-serial,\n",
       "div.sk-item {\n",
       "  /* draw centered vertical line to link estimators */\n",
       "  background-image: linear-gradient(var(--sklearn-color-text-on-default-background), var(--sklearn-color-text-on-default-background));\n",
       "  background-size: 2px 100%;\n",
       "  background-repeat: no-repeat;\n",
       "  background-position: center center;\n",
       "}\n",
       "\n",
       "/* Parallel-specific style estimator block */\n",
       "\n",
       "#sk-container-id-1 div.sk-parallel-item::after {\n",
       "  content: \"\";\n",
       "  width: 100%;\n",
       "  border-bottom: 2px solid var(--sklearn-color-text-on-default-background);\n",
       "  flex-grow: 1;\n",
       "}\n",
       "\n",
       "#sk-container-id-1 div.sk-parallel {\n",
       "  display: flex;\n",
       "  align-items: stretch;\n",
       "  justify-content: center;\n",
       "  background-color: var(--sklearn-color-background);\n",
       "  position: relative;\n",
       "}\n",
       "\n",
       "#sk-container-id-1 div.sk-parallel-item {\n",
       "  display: flex;\n",
       "  flex-direction: column;\n",
       "}\n",
       "\n",
       "#sk-container-id-1 div.sk-parallel-item:first-child::after {\n",
       "  align-self: flex-end;\n",
       "  width: 50%;\n",
       "}\n",
       "\n",
       "#sk-container-id-1 div.sk-parallel-item:last-child::after {\n",
       "  align-self: flex-start;\n",
       "  width: 50%;\n",
       "}\n",
       "\n",
       "#sk-container-id-1 div.sk-parallel-item:only-child::after {\n",
       "  width: 0;\n",
       "}\n",
       "\n",
       "/* Serial-specific style estimator block */\n",
       "\n",
       "#sk-container-id-1 div.sk-serial {\n",
       "  display: flex;\n",
       "  flex-direction: column;\n",
       "  align-items: center;\n",
       "  background-color: var(--sklearn-color-background);\n",
       "  padding-right: 1em;\n",
       "  padding-left: 1em;\n",
       "}\n",
       "\n",
       "\n",
       "/* Toggleable style: style used for estimator/Pipeline/ColumnTransformer box that is\n",
       "clickable and can be expanded/collapsed.\n",
       "- Pipeline and ColumnTransformer use this feature and define the default style\n",
       "- Estimators will overwrite some part of the style using the `sk-estimator` class\n",
       "*/\n",
       "\n",
       "/* Pipeline and ColumnTransformer style (default) */\n",
       "\n",
       "#sk-container-id-1 div.sk-toggleable {\n",
       "  /* Default theme specific background. It is overwritten whether we have a\n",
       "  specific estimator or a Pipeline/ColumnTransformer */\n",
       "  background-color: var(--sklearn-color-background);\n",
       "}\n",
       "\n",
       "/* Toggleable label */\n",
       "#sk-container-id-1 label.sk-toggleable__label {\n",
       "  cursor: pointer;\n",
       "  display: block;\n",
       "  width: 100%;\n",
       "  margin-bottom: 0;\n",
       "  padding: 0.5em;\n",
       "  box-sizing: border-box;\n",
       "  text-align: center;\n",
       "}\n",
       "\n",
       "#sk-container-id-1 label.sk-toggleable__label-arrow:before {\n",
       "  /* Arrow on the left of the label */\n",
       "  content: \"▸\";\n",
       "  float: left;\n",
       "  margin-right: 0.25em;\n",
       "  color: var(--sklearn-color-icon);\n",
       "}\n",
       "\n",
       "#sk-container-id-1 label.sk-toggleable__label-arrow:hover:before {\n",
       "  color: var(--sklearn-color-text);\n",
       "}\n",
       "\n",
       "/* Toggleable content - dropdown */\n",
       "\n",
       "#sk-container-id-1 div.sk-toggleable__content {\n",
       "  max-height: 0;\n",
       "  max-width: 0;\n",
       "  overflow: hidden;\n",
       "  text-align: left;\n",
       "  /* unfitted */\n",
       "  background-color: var(--sklearn-color-unfitted-level-0);\n",
       "}\n",
       "\n",
       "#sk-container-id-1 div.sk-toggleable__content.fitted {\n",
       "  /* fitted */\n",
       "  background-color: var(--sklearn-color-fitted-level-0);\n",
       "}\n",
       "\n",
       "#sk-container-id-1 div.sk-toggleable__content pre {\n",
       "  margin: 0.2em;\n",
       "  border-radius: 0.25em;\n",
       "  color: var(--sklearn-color-text);\n",
       "  /* unfitted */\n",
       "  background-color: var(--sklearn-color-unfitted-level-0);\n",
       "}\n",
       "\n",
       "#sk-container-id-1 div.sk-toggleable__content.fitted pre {\n",
       "  /* unfitted */\n",
       "  background-color: var(--sklearn-color-fitted-level-0);\n",
       "}\n",
       "\n",
       "#sk-container-id-1 input.sk-toggleable__control:checked~div.sk-toggleable__content {\n",
       "  /* Expand drop-down */\n",
       "  max-height: 200px;\n",
       "  max-width: 100%;\n",
       "  overflow: auto;\n",
       "}\n",
       "\n",
       "#sk-container-id-1 input.sk-toggleable__control:checked~label.sk-toggleable__label-arrow:before {\n",
       "  content: \"▾\";\n",
       "}\n",
       "\n",
       "/* Pipeline/ColumnTransformer-specific style */\n",
       "\n",
       "#sk-container-id-1 div.sk-label input.sk-toggleable__control:checked~label.sk-toggleable__label {\n",
       "  color: var(--sklearn-color-text);\n",
       "  background-color: var(--sklearn-color-unfitted-level-2);\n",
       "}\n",
       "\n",
       "#sk-container-id-1 div.sk-label.fitted input.sk-toggleable__control:checked~label.sk-toggleable__label {\n",
       "  background-color: var(--sklearn-color-fitted-level-2);\n",
       "}\n",
       "\n",
       "/* Estimator-specific style */\n",
       "\n",
       "/* Colorize estimator box */\n",
       "#sk-container-id-1 div.sk-estimator input.sk-toggleable__control:checked~label.sk-toggleable__label {\n",
       "  /* unfitted */\n",
       "  background-color: var(--sklearn-color-unfitted-level-2);\n",
       "}\n",
       "\n",
       "#sk-container-id-1 div.sk-estimator.fitted input.sk-toggleable__control:checked~label.sk-toggleable__label {\n",
       "  /* fitted */\n",
       "  background-color: var(--sklearn-color-fitted-level-2);\n",
       "}\n",
       "\n",
       "#sk-container-id-1 div.sk-label label.sk-toggleable__label,\n",
       "#sk-container-id-1 div.sk-label label {\n",
       "  /* The background is the default theme color */\n",
       "  color: var(--sklearn-color-text-on-default-background);\n",
       "}\n",
       "\n",
       "/* On hover, darken the color of the background */\n",
       "#sk-container-id-1 div.sk-label:hover label.sk-toggleable__label {\n",
       "  color: var(--sklearn-color-text);\n",
       "  background-color: var(--sklearn-color-unfitted-level-2);\n",
       "}\n",
       "\n",
       "/* Label box, darken color on hover, fitted */\n",
       "#sk-container-id-1 div.sk-label.fitted:hover label.sk-toggleable__label.fitted {\n",
       "  color: var(--sklearn-color-text);\n",
       "  background-color: var(--sklearn-color-fitted-level-2);\n",
       "}\n",
       "\n",
       "/* Estimator label */\n",
       "\n",
       "#sk-container-id-1 div.sk-label label {\n",
       "  font-family: monospace;\n",
       "  font-weight: bold;\n",
       "  display: inline-block;\n",
       "  line-height: 1.2em;\n",
       "}\n",
       "\n",
       "#sk-container-id-1 div.sk-label-container {\n",
       "  text-align: center;\n",
       "}\n",
       "\n",
       "/* Estimator-specific */\n",
       "#sk-container-id-1 div.sk-estimator {\n",
       "  font-family: monospace;\n",
       "  border: 1px dotted var(--sklearn-color-border-box);\n",
       "  border-radius: 0.25em;\n",
       "  box-sizing: border-box;\n",
       "  margin-bottom: 0.5em;\n",
       "  /* unfitted */\n",
       "  background-color: var(--sklearn-color-unfitted-level-0);\n",
       "}\n",
       "\n",
       "#sk-container-id-1 div.sk-estimator.fitted {\n",
       "  /* fitted */\n",
       "  background-color: var(--sklearn-color-fitted-level-0);\n",
       "}\n",
       "\n",
       "/* on hover */\n",
       "#sk-container-id-1 div.sk-estimator:hover {\n",
       "  /* unfitted */\n",
       "  background-color: var(--sklearn-color-unfitted-level-2);\n",
       "}\n",
       "\n",
       "#sk-container-id-1 div.sk-estimator.fitted:hover {\n",
       "  /* fitted */\n",
       "  background-color: var(--sklearn-color-fitted-level-2);\n",
       "}\n",
       "\n",
       "/* Specification for estimator info (e.g. \"i\" and \"?\") */\n",
       "\n",
       "/* Common style for \"i\" and \"?\" */\n",
       "\n",
       ".sk-estimator-doc-link,\n",
       "a:link.sk-estimator-doc-link,\n",
       "a:visited.sk-estimator-doc-link {\n",
       "  float: right;\n",
       "  font-size: smaller;\n",
       "  line-height: 1em;\n",
       "  font-family: monospace;\n",
       "  background-color: var(--sklearn-color-background);\n",
       "  border-radius: 1em;\n",
       "  height: 1em;\n",
       "  width: 1em;\n",
       "  text-decoration: none !important;\n",
       "  margin-left: 1ex;\n",
       "  /* unfitted */\n",
       "  border: var(--sklearn-color-unfitted-level-1) 1pt solid;\n",
       "  color: var(--sklearn-color-unfitted-level-1);\n",
       "}\n",
       "\n",
       ".sk-estimator-doc-link.fitted,\n",
       "a:link.sk-estimator-doc-link.fitted,\n",
       "a:visited.sk-estimator-doc-link.fitted {\n",
       "  /* fitted */\n",
       "  border: var(--sklearn-color-fitted-level-1) 1pt solid;\n",
       "  color: var(--sklearn-color-fitted-level-1);\n",
       "}\n",
       "\n",
       "/* On hover */\n",
       "div.sk-estimator:hover .sk-estimator-doc-link:hover,\n",
       ".sk-estimator-doc-link:hover,\n",
       "div.sk-label-container:hover .sk-estimator-doc-link:hover,\n",
       ".sk-estimator-doc-link:hover {\n",
       "  /* unfitted */\n",
       "  background-color: var(--sklearn-color-unfitted-level-3);\n",
       "  color: var(--sklearn-color-background);\n",
       "  text-decoration: none;\n",
       "}\n",
       "\n",
       "div.sk-estimator.fitted:hover .sk-estimator-doc-link.fitted:hover,\n",
       ".sk-estimator-doc-link.fitted:hover,\n",
       "div.sk-label-container:hover .sk-estimator-doc-link.fitted:hover,\n",
       ".sk-estimator-doc-link.fitted:hover {\n",
       "  /* fitted */\n",
       "  background-color: var(--sklearn-color-fitted-level-3);\n",
       "  color: var(--sklearn-color-background);\n",
       "  text-decoration: none;\n",
       "}\n",
       "\n",
       "/* Span, style for the box shown on hovering the info icon */\n",
       ".sk-estimator-doc-link span {\n",
       "  display: none;\n",
       "  z-index: 9999;\n",
       "  position: relative;\n",
       "  font-weight: normal;\n",
       "  right: .2ex;\n",
       "  padding: .5ex;\n",
       "  margin: .5ex;\n",
       "  width: min-content;\n",
       "  min-width: 20ex;\n",
       "  max-width: 50ex;\n",
       "  color: var(--sklearn-color-text);\n",
       "  box-shadow: 2pt 2pt 4pt #999;\n",
       "  /* unfitted */\n",
       "  background: var(--sklearn-color-unfitted-level-0);\n",
       "  border: .5pt solid var(--sklearn-color-unfitted-level-3);\n",
       "}\n",
       "\n",
       ".sk-estimator-doc-link.fitted span {\n",
       "  /* fitted */\n",
       "  background: var(--sklearn-color-fitted-level-0);\n",
       "  border: var(--sklearn-color-fitted-level-3);\n",
       "}\n",
       "\n",
       ".sk-estimator-doc-link:hover span {\n",
       "  display: block;\n",
       "}\n",
       "\n",
       "/* \"?\"-specific style due to the `<a>` HTML tag */\n",
       "\n",
       "#sk-container-id-1 a.estimator_doc_link {\n",
       "  float: right;\n",
       "  font-size: 1rem;\n",
       "  line-height: 1em;\n",
       "  font-family: monospace;\n",
       "  background-color: var(--sklearn-color-background);\n",
       "  border-radius: 1rem;\n",
       "  height: 1rem;\n",
       "  width: 1rem;\n",
       "  text-decoration: none;\n",
       "  /* unfitted */\n",
       "  color: var(--sklearn-color-unfitted-level-1);\n",
       "  border: var(--sklearn-color-unfitted-level-1) 1pt solid;\n",
       "}\n",
       "\n",
       "#sk-container-id-1 a.estimator_doc_link.fitted {\n",
       "  /* fitted */\n",
       "  border: var(--sklearn-color-fitted-level-1) 1pt solid;\n",
       "  color: var(--sklearn-color-fitted-level-1);\n",
       "}\n",
       "\n",
       "/* On hover */\n",
       "#sk-container-id-1 a.estimator_doc_link:hover {\n",
       "  /* unfitted */\n",
       "  background-color: var(--sklearn-color-unfitted-level-3);\n",
       "  color: var(--sklearn-color-background);\n",
       "  text-decoration: none;\n",
       "}\n",
       "\n",
       "#sk-container-id-1 a.estimator_doc_link.fitted:hover {\n",
       "  /* fitted */\n",
       "  background-color: var(--sklearn-color-fitted-level-3);\n",
       "}\n",
       "</style><div id=\"sk-container-id-1\" class=\"sk-top-container\"><div class=\"sk-text-repr-fallback\"><pre>Pipeline(steps=[(&#x27;fill_missing_values&#x27;,\n",
       "                 FunctionTransformer(func=&lt;function fill_missing_values at 0x00000193C1D1E660&gt;)),\n",
       "                (&#x27;ordinal_encoder&#x27;,\n",
       "                 FunctionTransformer(func=&lt;function ordinal_encoder at 0x00000193C1D1EA20&gt;)),\n",
       "                (&#x27;log_transformation&#x27;,\n",
       "                 FunctionTransformer(func=&lt;function log_transform at 0x00000193C1D1E980&gt;)),\n",
       "                (&#x27;scaler&#x27;, StandardScaler())])</pre><b>In a Jupyter environment, please rerun this cell to show the HTML representation or trust the notebook. <br />On GitHub, the HTML representation is unable to render, please try loading this page with nbviewer.org.</b></div><div class=\"sk-container\" hidden><div class=\"sk-item sk-dashed-wrapped\"><div class=\"sk-label-container\"><div class=\"sk-label  sk-toggleable\"><input class=\"sk-toggleable__control sk-hidden--visually\" id=\"sk-estimator-id-1\" type=\"checkbox\" ><label for=\"sk-estimator-id-1\" class=\"sk-toggleable__label  sk-toggleable__label-arrow \">&nbsp;&nbsp;Pipeline<a class=\"sk-estimator-doc-link \" rel=\"noreferrer\" target=\"_blank\" href=\"https://scikit-learn.org/1.5/modules/generated/sklearn.pipeline.Pipeline.html\">?<span>Documentation for Pipeline</span></a><span class=\"sk-estimator-doc-link \">i<span>Not fitted</span></span></label><div class=\"sk-toggleable__content \"><pre>Pipeline(steps=[(&#x27;fill_missing_values&#x27;,\n",
       "                 FunctionTransformer(func=&lt;function fill_missing_values at 0x00000193C1D1E660&gt;)),\n",
       "                (&#x27;ordinal_encoder&#x27;,\n",
       "                 FunctionTransformer(func=&lt;function ordinal_encoder at 0x00000193C1D1EA20&gt;)),\n",
       "                (&#x27;log_transformation&#x27;,\n",
       "                 FunctionTransformer(func=&lt;function log_transform at 0x00000193C1D1E980&gt;)),\n",
       "                (&#x27;scaler&#x27;, StandardScaler())])</pre></div> </div></div><div class=\"sk-serial\"><div class=\"sk-item\"><div class=\"sk-estimator  sk-toggleable\"><input class=\"sk-toggleable__control sk-hidden--visually\" id=\"sk-estimator-id-2\" type=\"checkbox\" ><label for=\"sk-estimator-id-2\" class=\"sk-toggleable__label  sk-toggleable__label-arrow \">&nbsp;FunctionTransformer<a class=\"sk-estimator-doc-link \" rel=\"noreferrer\" target=\"_blank\" href=\"https://scikit-learn.org/1.5/modules/generated/sklearn.preprocessing.FunctionTransformer.html\">?<span>Documentation for FunctionTransformer</span></a></label><div class=\"sk-toggleable__content \"><pre>FunctionTransformer(func=&lt;function fill_missing_values at 0x00000193C1D1E660&gt;)</pre></div> </div></div><div class=\"sk-item\"><div class=\"sk-estimator  sk-toggleable\"><input class=\"sk-toggleable__control sk-hidden--visually\" id=\"sk-estimator-id-3\" type=\"checkbox\" ><label for=\"sk-estimator-id-3\" class=\"sk-toggleable__label  sk-toggleable__label-arrow \">&nbsp;FunctionTransformer<a class=\"sk-estimator-doc-link \" rel=\"noreferrer\" target=\"_blank\" href=\"https://scikit-learn.org/1.5/modules/generated/sklearn.preprocessing.FunctionTransformer.html\">?<span>Documentation for FunctionTransformer</span></a></label><div class=\"sk-toggleable__content \"><pre>FunctionTransformer(func=&lt;function ordinal_encoder at 0x00000193C1D1EA20&gt;)</pre></div> </div></div><div class=\"sk-item\"><div class=\"sk-estimator  sk-toggleable\"><input class=\"sk-toggleable__control sk-hidden--visually\" id=\"sk-estimator-id-4\" type=\"checkbox\" ><label for=\"sk-estimator-id-4\" class=\"sk-toggleable__label  sk-toggleable__label-arrow \">&nbsp;FunctionTransformer<a class=\"sk-estimator-doc-link \" rel=\"noreferrer\" target=\"_blank\" href=\"https://scikit-learn.org/1.5/modules/generated/sklearn.preprocessing.FunctionTransformer.html\">?<span>Documentation for FunctionTransformer</span></a></label><div class=\"sk-toggleable__content \"><pre>FunctionTransformer(func=&lt;function log_transform at 0x00000193C1D1E980&gt;)</pre></div> </div></div><div class=\"sk-item\"><div class=\"sk-estimator  sk-toggleable\"><input class=\"sk-toggleable__control sk-hidden--visually\" id=\"sk-estimator-id-5\" type=\"checkbox\" ><label for=\"sk-estimator-id-5\" class=\"sk-toggleable__label  sk-toggleable__label-arrow \">&nbsp;StandardScaler<a class=\"sk-estimator-doc-link \" rel=\"noreferrer\" target=\"_blank\" href=\"https://scikit-learn.org/1.5/modules/generated/sklearn.preprocessing.StandardScaler.html\">?<span>Documentation for StandardScaler</span></a></label><div class=\"sk-toggleable__content \"><pre>StandardScaler()</pre></div> </div></div></div></div></div></div>"
      ],
      "text/plain": [
       "Pipeline(steps=[('fill_missing_values',\n",
       "                 FunctionTransformer(func=<function fill_missing_values at 0x00000193C1D1E660>)),\n",
       "                ('ordinal_encoder',\n",
       "                 FunctionTransformer(func=<function ordinal_encoder at 0x00000193C1D1EA20>)),\n",
       "                ('log_transformation',\n",
       "                 FunctionTransformer(func=<function log_transform at 0x00000193C1D1E980>)),\n",
       "                ('scaler', StandardScaler())])"
      ]
     },
     "execution_count": 20,
     "metadata": {},
     "output_type": "execute_result"
    }
   ],
   "source": [
    "set_config(display='diagram')\n",
    "pipeline"
   ]
  },
  {
   "cell_type": "markdown",
   "id": "93cbe0e1-626c-4a5e-8d38-d300a28178c8",
   "metadata": {},
   "source": [
    "# Data Splitting"
   ]
  },
  {
   "cell_type": "code",
   "execution_count": 22,
   "id": "d1123333-cc55-403b-b988-4ee6eb8c425b",
   "metadata": {},
   "outputs": [],
   "source": [
    "X = df"
   ]
  },
  {
   "cell_type": "code",
   "execution_count": 23,
   "id": "43ac7c91-cfbb-44e4-bed2-d15a883595b8",
   "metadata": {},
   "outputs": [],
   "source": [
    "X_train, X_test = train_test_split(X, test_size=0.2, random_state=42)"
   ]
  },
  {
   "cell_type": "code",
   "execution_count": 24,
   "id": "ce36c295-2b85-4d63-9866-7ffb806fda89",
   "metadata": {},
   "outputs": [
    {
     "data": {
      "text/plain": [
       "(pandas.core.frame.DataFrame, pandas.core.frame.DataFrame)"
      ]
     },
     "execution_count": 24,
     "metadata": {},
     "output_type": "execute_result"
    }
   ],
   "source": [
    "type(X_train), type(X_test)"
   ]
  },
  {
   "cell_type": "code",
   "execution_count": 25,
   "id": "b725131d-ec2e-4bb8-b146-f9882865d03c",
   "metadata": {},
   "outputs": [
    {
     "data": {
      "text/plain": [
       "(4892, 1224)"
      ]
     },
     "execution_count": 25,
     "metadata": {},
     "output_type": "execute_result"
    }
   ],
   "source": [
    "len(X_train), len(X_test)"
   ]
  },
  {
   "cell_type": "markdown",
   "id": "3199c271-c28c-4f3b-943f-d3551d1483a5",
   "metadata": {},
   "source": [
    "# Fit Pipeline"
   ]
  },
  {
   "cell_type": "code",
   "execution_count": 27,
   "id": "366b6135-f85f-44d3-9415-d4d0790aca57",
   "metadata": {},
   "outputs": [],
   "source": [
    "X_train_transformed = pipeline.fit_transform(X_train)\n",
    "X_test_transformed = pipeline.transform(X_test)"
   ]
  },
  {
   "cell_type": "code",
   "execution_count": 28,
   "id": "c7d8d7da-1b8a-461a-b8f0-ff6cdbf8162d",
   "metadata": {},
   "outputs": [
    {
     "data": {
      "text/plain": [
       "(numpy.ndarray, numpy.ndarray)"
      ]
     },
     "execution_count": 28,
     "metadata": {},
     "output_type": "execute_result"
    }
   ],
   "source": [
    "type(X_train_transformed), type(X_test_transformed)"
   ]
  },
  {
   "cell_type": "code",
   "execution_count": 29,
   "id": "54bc7ab3-9627-4b90-be1b-42c68bd9a75b",
   "metadata": {},
   "outputs": [
    {
     "data": {
      "text/plain": [
       "(4892, 1224)"
      ]
     },
     "execution_count": 29,
     "metadata": {},
     "output_type": "execute_result"
    }
   ],
   "source": [
    "len(X_train_transformed), len(X_test_transformed)"
   ]
  },
  {
   "cell_type": "code",
   "execution_count": 30,
   "id": "35ff36cc-fb66-4788-945b-6bc0473a21ed",
   "metadata": {},
   "outputs": [],
   "source": [
    "features_names = df.columns"
   ]
  },
  {
   "cell_type": "code",
   "execution_count": 31,
   "id": "e67b9493-6f6c-4396-b47f-bd127419d39f",
   "metadata": {},
   "outputs": [],
   "source": [
    "X_df = pd.DataFrame(X_train_transformed, columns=features_names)\n",
    "# X_df = pd.DataFrame(X_train_transformed)"
   ]
  },
  {
   "cell_type": "code",
   "execution_count": 32,
   "id": "ca637161-78f0-4c3e-9467-f1107ed333ea",
   "metadata": {},
   "outputs": [
    {
     "data": {
      "text/plain": [
       "Index(['is_premium', 'subscription_status', 'company_size', 'plan_type',\n",
       "       'is_unlimited', 'jobma_catcher_sub_accounts', 'subscription_amount',\n",
       "       'number_of_subscriptions', 'number_of_invitations', 'job_posted',\n",
       "       'number_of_kits', 'number_of_recorded_interviews',\n",
       "       'number_of_live_interviews'],\n",
       "      dtype='object')"
      ]
     },
     "execution_count": 32,
     "metadata": {},
     "output_type": "execute_result"
    }
   ],
   "source": [
    "X_df.columns"
   ]
  },
  {
   "cell_type": "markdown",
   "id": "43160baa-fd22-47b2-9a8d-0cd427edbbb3",
   "metadata": {},
   "source": [
    "# Convert into Tensor"
   ]
  },
  {
   "cell_type": "code",
   "execution_count": 34,
   "id": "5f16f1d4-e260-46ae-814a-fcf410fdd1ae",
   "metadata": {},
   "outputs": [],
   "source": [
    "X_train_tensor = torch.tensor(X_train_transformed, dtype=torch.float32).to(device)\n",
    "X_test_tensor = torch.tensor(X_test_transformed, dtype=torch.float32).to(device)"
   ]
  },
  {
   "cell_type": "code",
   "execution_count": 35,
   "id": "a1426612-ea21-40f5-920d-d78d52f70035",
   "metadata": {},
   "outputs": [
    {
     "data": {
      "text/plain": [
       "(torch.Tensor, torch.Tensor)"
      ]
     },
     "execution_count": 35,
     "metadata": {},
     "output_type": "execute_result"
    }
   ],
   "source": [
    "type(X_train_tensor), type(X_test_tensor)"
   ]
  },
  {
   "cell_type": "markdown",
   "id": "50c85444-2eef-4f24-ad7b-043d361cf53c",
   "metadata": {},
   "source": [
    "# Dataset Class"
   ]
  },
  {
   "cell_type": "code",
   "execution_count": 37,
   "id": "51513b75-4745-46f2-b79e-13b29dc736ab",
   "metadata": {},
   "outputs": [],
   "source": [
    "class CustomDataset(Dataset):\n",
    "    def __init__(self, data):\n",
    "        self.data = torch.tensor(data, dtype=torch.float32)\n",
    "\n",
    "    def __len__(self):\n",
    "        return len(self.data)\n",
    "\n",
    "    def __getitem__(self, idx):\n",
    "        return self.data[idx]"
   ]
  },
  {
   "cell_type": "code",
   "execution_count": 38,
   "id": "00ed2db2-594f-4dfa-8be3-270ee132f32c",
   "metadata": {},
   "outputs": [],
   "source": [
    "train_data = CustomDataset(X_train_tensor)\n",
    "test_data = CustomDataset(X_test_tensor)"
   ]
  },
  {
   "cell_type": "markdown",
   "id": "ad50de8a-f928-48cc-81e8-440557ce517a",
   "metadata": {},
   "source": [
    "# DataLoader"
   ]
  },
  {
   "cell_type": "code",
   "execution_count": 40,
   "id": "effab9bd-6ef8-4a6a-8f02-f4f494ed0a4b",
   "metadata": {},
   "outputs": [],
   "source": [
    "BATCH_SIZE = 16"
   ]
  },
  {
   "cell_type": "code",
   "execution_count": 41,
   "id": "c1c52b82-0904-4402-9ba8-11bd5c64d00b",
   "metadata": {},
   "outputs": [],
   "source": [
    "train_dataloader = DataLoader(train_data, batch_size=BATCH_SIZE, shuffle=True)\n",
    "test_dataloader = DataLoader(test_data, batch_size=BATCH_SIZE, shuffle=False)"
   ]
  },
  {
   "cell_type": "code",
   "execution_count": 42,
   "id": "79ba0c47-0526-436a-ac5a-6f84d8ed10c7",
   "metadata": {},
   "outputs": [
    {
     "data": {
      "text/plain": [
       "(4892, 1224)"
      ]
     },
     "execution_count": 42,
     "metadata": {},
     "output_type": "execute_result"
    }
   ],
   "source": [
    "len(train_data), len(test_data)"
   ]
  },
  {
   "cell_type": "code",
   "execution_count": 43,
   "id": "a94dea92-2e00-41c0-9734-7ce9ec22f301",
   "metadata": {},
   "outputs": [
    {
     "data": {
      "text/plain": [
       "(306, 77)"
      ]
     },
     "execution_count": 43,
     "metadata": {},
     "output_type": "execute_result"
    }
   ],
   "source": [
    "len(train_dataloader), len(test_dataloader)"
   ]
  },
  {
   "cell_type": "markdown",
   "id": "ed90ddc7-8b5b-4723-b403-c1b1b08d033c",
   "metadata": {},
   "source": [
    "# Define a Model (AutoEncoder in this case)"
   ]
  },
  {
   "cell_type": "code",
   "execution_count": 45,
   "id": "6746c7db-ffbe-46e5-a1f7-8c595ad3b93a",
   "metadata": {},
   "outputs": [],
   "source": [
    "class AutoEncoder(nn.Module):\n",
    "    def __init__(self, input_shape):\n",
    "        super().__init__()\n",
    "\n",
    "        self.encoder = nn.Sequential(\n",
    "            nn.Linear(input_shape, 256),\n",
    "            nn.ReLU(),\n",
    "            nn.Dropout(0.3),\n",
    "            nn.Linear(256, 128),\n",
    "            nn.ReLU(),\n",
    "            nn.Dropout(0.3),\n",
    "            nn.Linear(128, 64),\n",
    "            nn.ReLU(),\n",
    "            nn.Linear(64, 32)  # bottleneck\n",
    "        )\n",
    "\n",
    "        self.decoder = nn.Sequential(\n",
    "            nn.Linear(32, 64),\n",
    "            nn.ReLU(),\n",
    "            nn.Linear(64, 128),\n",
    "            nn.ReLU(),\n",
    "            nn.Linear(128, 256),\n",
    "            nn.ReLU(),\n",
    "            nn.Linear(256, input_shape)\n",
    "        )\n",
    "\n",
    "    def forward(self, X):\n",
    "        encoded = self.encoder(X)\n",
    "        decoded = self.decoder(encoded)\n",
    "        return encoded, decoded"
   ]
  },
  {
   "cell_type": "code",
   "execution_count": 46,
   "id": "7b34fec2-df55-4d4a-9b90-b9307aae7887",
   "metadata": {},
   "outputs": [
    {
     "data": {
      "text/plain": [
       "AutoEncoder(\n",
       "  (encoder): Sequential(\n",
       "    (0): Linear(in_features=13, out_features=256, bias=True)\n",
       "    (1): ReLU()\n",
       "    (2): Dropout(p=0.3, inplace=False)\n",
       "    (3): Linear(in_features=256, out_features=128, bias=True)\n",
       "    (4): ReLU()\n",
       "    (5): Dropout(p=0.3, inplace=False)\n",
       "    (6): Linear(in_features=128, out_features=64, bias=True)\n",
       "    (7): ReLU()\n",
       "    (8): Linear(in_features=64, out_features=32, bias=True)\n",
       "  )\n",
       "  (decoder): Sequential(\n",
       "    (0): Linear(in_features=32, out_features=64, bias=True)\n",
       "    (1): ReLU()\n",
       "    (2): Linear(in_features=64, out_features=128, bias=True)\n",
       "    (3): ReLU()\n",
       "    (4): Linear(in_features=128, out_features=256, bias=True)\n",
       "    (5): ReLU()\n",
       "    (6): Linear(in_features=256, out_features=13, bias=True)\n",
       "  )\n",
       ")"
      ]
     },
     "execution_count": 46,
     "metadata": {},
     "output_type": "execute_result"
    }
   ],
   "source": [
    "''' Initializing the Model '''\n",
    "\n",
    "input_shape = X_df.shape[1]\n",
    "model_1 = AutoEncoder(input_shape)\n",
    "model_1.to(device)"
   ]
  },
  {
   "cell_type": "code",
   "execution_count": 47,
   "id": "64721583-2e33-4c32-b96e-8666dc05af5d",
   "metadata": {},
   "outputs": [],
   "source": [
    "''' Important Parameters '''\n",
    "learning_rate = 0.001\n",
    "epochs = 50"
   ]
  },
  {
   "cell_type": "code",
   "execution_count": 48,
   "id": "1638f1b6-665e-4de6-ba7d-9c6540dea20b",
   "metadata": {},
   "outputs": [],
   "source": [
    "''' Loss Function and Optimizers '''\n",
    "\n",
    "# mse_loss_function = nn.MSELoss()\n",
    "mse_loss_function = nn.SmoothL1Loss()\n",
    "optimizer = torch.optim.AdamW(model_1.parameters(), lr=learning_rate, weight_decay=1e-5)\n",
    "scheduler = torch.optim.lr_scheduler.ReduceLROnPlateau(optimizer, mode='min', patience=3, factor=0.5, verbose=True)"
   ]
  },
  {
   "cell_type": "markdown",
   "id": "cd43167b-a58d-4ae1-8b80-a169c1b9f4cd",
   "metadata": {},
   "source": [
    "# Training Loop"
   ]
  },
  {
   "cell_type": "code",
   "execution_count": 50,
   "id": "40431939-d159-4f26-93ae-0971598c8e2d",
   "metadata": {},
   "outputs": [],
   "source": [
    "def train_step(model:torch.nn.Module,\n",
    "               dataloader:torch.utils.data.DataLoader,\n",
    "               mse_loss_function:torch.nn.Module,\n",
    "               optimizer:torch.optim.Optimizer\n",
    "              ):\n",
    "    model.train()\n",
    "    epoch_total_loss = 0\n",
    "\n",
    "    for batch_X in dataloader:\n",
    "        encoded, decoded = model(batch_X)\n",
    "\n",
    "        ''' Compute Loss '''\n",
    "        mse_loss = mse_loss_function(decoded, batch_X)\n",
    "\n",
    "        ''' BackPropagation '''\n",
    "        optimizer.zero_grad()\n",
    "        mse_loss.backward()\n",
    "        optimizer.step()\n",
    "\n",
    "        epoch_total_loss += mse_loss.item()\n",
    "\n",
    "    training_loss = epoch_total_loss / len(dataloader)\n",
    "    return training_loss"
   ]
  },
  {
   "cell_type": "markdown",
   "id": "2dd21691-d907-4985-a4b6-d692b840b5e3",
   "metadata": {},
   "source": [
    "# Testing Loop"
   ]
  },
  {
   "cell_type": "code",
   "execution_count": 52,
   "id": "3480ece8-4c1a-4acc-9618-5c1c4030a29a",
   "metadata": {},
   "outputs": [],
   "source": [
    "def test_step(model:torch.nn.Module,\n",
    "              dataloader:torch.utils.data.DataLoader,\n",
    "              mse_loss_function:torch.nn.Module,\n",
    "             ):\n",
    "\n",
    "    epoch_total_loss = 0\n",
    "    \n",
    "    model.eval()\n",
    "    with torch.inference_mode():\n",
    "        for batch_X in dataloader:\n",
    "            encoded, decoded = model(batch_X)  # Forward pass\n",
    "\n",
    "            ''' Compute Loss '''\n",
    "            mse_loss = mse_loss_function(decoded, batch_X)  # Reconstruction Loss\n",
    "            \n",
    "            epoch_total_loss += mse_loss.item()\n",
    "\n",
    "        testing_loss = epoch_total_loss / len(dataloader)\n",
    "        return testing_loss"
   ]
  },
  {
   "cell_type": "markdown",
   "id": "64ba3b60-5b78-459f-bcb3-7f2981ed93bf",
   "metadata": {},
   "source": [
    "# Combining Training and Testing Loop into evaluate()"
   ]
  },
  {
   "cell_type": "code",
   "execution_count": 54,
   "id": "b836f780-6752-4503-85a2-1f27ae70aac9",
   "metadata": {},
   "outputs": [],
   "source": [
    "def evaluate(model:torch.nn.Module,\n",
    "             train_dataloader:torch.utils.data.DataLoader,\n",
    "             test_dataloader:torch.utils.data.DataLoader,\n",
    "             mse_loss_function:torch.nn.Module,\n",
    "             optimizer:torch.optim.Optimizer,\n",
    "             scheduler:torch.optim.lr_scheduler.ReduceLROnPlateau,\n",
    "             epochs:int = 5,\n",
    "             patience:int = 5,\n",
    "             delta:float = 0.0001\n",
    "            ):\n",
    "    \n",
    "    results = {'training_loss':[],\n",
    "              'testing_loss':[]}\n",
    "\n",
    "    best_testing_loss = float('inf')\n",
    "    epochs_without_improvement = 0\n",
    "\n",
    "    for epoch in range(epochs):\n",
    "        training_loss = train_step(model=model,\n",
    "                                   dataloader=train_dataloader,\n",
    "                                   mse_loss_function=mse_loss_function,\n",
    "                                   optimizer=optimizer\n",
    "                                  )\n",
    "\n",
    "        testing_loss = test_step(model=model,\n",
    "                                   dataloader=test_dataloader,\n",
    "                                   mse_loss_function=mse_loss_function,\n",
    "                                  )\n",
    "\n",
    "        scheduler.step(testing_loss)\n",
    "        results['training_loss'].append(training_loss)\n",
    "        results['testing_loss'].append(testing_loss)\n",
    "\n",
    "        print(f'Epoch {epoch+1}/{epochs} | Training Loss: {training_loss:.5f} | Testing Loss: {testing_loss:.5f}')\n",
    "\n",
    "         # Early stopping: check if testing loss improved\n",
    "        if testing_loss < best_testing_loss - delta:\n",
    "            best_testing_loss = testing_loss\n",
    "            epochs_without_improvement = 0  # Reset counter since we had improvement\n",
    "        else:\n",
    "            epochs_without_improvement += 1\n",
    "        \n",
    "        # If no improvement for 'patience' epochs, stop training early\n",
    "        if epochs_without_improvement >= patience:\n",
    "            print(f\"Early stopping triggered at epoch {epoch+1}!\")\n",
    "            break\n",
    "        \n",
    "        # LR Scheduler\n",
    "        for param_group in optimizer.param_groups:\n",
    "            print(f\"Current Learning Rate: {param_group['lr']:.6f}\")\n",
    "    return results"
   ]
  },
  {
   "cell_type": "code",
   "execution_count": 55,
   "id": "1120bd24-03c9-45ab-9d99-d01a61f13ba6",
   "metadata": {},
   "outputs": [
    {
     "name": "stdout",
     "output_type": "stream",
     "text": [
      "Epoch 1/50 | Training Loss: 0.15963 | Testing Loss: 0.08174\n",
      "Current Learning Rate: 0.001000\n",
      "Epoch 2/50 | Training Loss: 0.07532 | Testing Loss: 0.04909\n",
      "Current Learning Rate: 0.001000\n",
      "Epoch 3/50 | Training Loss: 0.05640 | Testing Loss: 0.03695\n",
      "Current Learning Rate: 0.001000\n",
      "Epoch 4/50 | Training Loss: 0.04841 | Testing Loss: 0.02920\n",
      "Current Learning Rate: 0.001000\n",
      "Epoch 5/50 | Training Loss: 0.04378 | Testing Loss: 0.02414\n",
      "Current Learning Rate: 0.001000\n",
      "Epoch 6/50 | Training Loss: 0.03967 | Testing Loss: 0.02738\n",
      "Current Learning Rate: 0.001000\n",
      "Epoch 7/50 | Training Loss: 0.03816 | Testing Loss: 0.02402\n",
      "Current Learning Rate: 0.001000\n",
      "Epoch 8/50 | Training Loss: 0.03533 | Testing Loss: 0.02061\n",
      "Current Learning Rate: 0.001000\n",
      "Epoch 9/50 | Training Loss: 0.03346 | Testing Loss: 0.02022\n",
      "Current Learning Rate: 0.001000\n",
      "Epoch 10/50 | Training Loss: 0.03235 | Testing Loss: 0.01918\n",
      "Current Learning Rate: 0.001000\n",
      "Epoch 11/50 | Training Loss: 0.03154 | Testing Loss: 0.01962\n",
      "Current Learning Rate: 0.001000\n",
      "Epoch 12/50 | Training Loss: 0.02891 | Testing Loss: 0.01985\n",
      "Current Learning Rate: 0.001000\n",
      "Epoch 13/50 | Training Loss: 0.02910 | Testing Loss: 0.01664\n",
      "Current Learning Rate: 0.001000\n",
      "Epoch 14/50 | Training Loss: 0.02683 | Testing Loss: 0.01575\n",
      "Current Learning Rate: 0.001000\n",
      "Epoch 15/50 | Training Loss: 0.02733 | Testing Loss: 0.01746\n",
      "Current Learning Rate: 0.001000\n",
      "Epoch 16/50 | Training Loss: 0.02622 | Testing Loss: 0.01527\n",
      "Current Learning Rate: 0.001000\n",
      "Epoch 17/50 | Training Loss: 0.02545 | Testing Loss: 0.01639\n",
      "Current Learning Rate: 0.001000\n",
      "Epoch 18/50 | Training Loss: 0.02544 | Testing Loss: 0.01534\n",
      "Current Learning Rate: 0.001000\n",
      "Epoch 19/50 | Training Loss: 0.02503 | Testing Loss: 0.01265\n",
      "Current Learning Rate: 0.001000\n",
      "Epoch 20/50 | Training Loss: 0.02502 | Testing Loss: 0.01467\n",
      "Current Learning Rate: 0.001000\n",
      "Epoch 21/50 | Training Loss: 0.02371 | Testing Loss: 0.01351\n",
      "Current Learning Rate: 0.001000\n",
      "Epoch 22/50 | Training Loss: 0.02281 | Testing Loss: 0.01364\n",
      "Current Learning Rate: 0.001000\n",
      "Epoch 23/50 | Training Loss: 0.02366 | Testing Loss: 0.01381\n",
      "Current Learning Rate: 0.000500\n",
      "Epoch 24/50 | Training Loss: 0.02049 | Testing Loss: 0.01108\n",
      "Current Learning Rate: 0.000500\n",
      "Epoch 25/50 | Training Loss: 0.01882 | Testing Loss: 0.01116\n",
      "Current Learning Rate: 0.000500\n",
      "Epoch 26/50 | Training Loss: 0.01869 | Testing Loss: 0.01057\n",
      "Current Learning Rate: 0.000500\n",
      "Epoch 27/50 | Training Loss: 0.01823 | Testing Loss: 0.01177\n",
      "Current Learning Rate: 0.000500\n",
      "Epoch 28/50 | Training Loss: 0.01823 | Testing Loss: 0.01028\n",
      "Current Learning Rate: 0.000500\n",
      "Epoch 29/50 | Training Loss: 0.01838 | Testing Loss: 0.01070\n",
      "Current Learning Rate: 0.000500\n",
      "Epoch 30/50 | Training Loss: 0.01821 | Testing Loss: 0.01034\n",
      "Current Learning Rate: 0.000500\n",
      "Epoch 31/50 | Training Loss: 0.01776 | Testing Loss: 0.00978\n",
      "Current Learning Rate: 0.000500\n",
      "Epoch 32/50 | Training Loss: 0.01713 | Testing Loss: 0.00954\n",
      "Current Learning Rate: 0.000500\n",
      "Epoch 33/50 | Training Loss: 0.01781 | Testing Loss: 0.00977\n",
      "Current Learning Rate: 0.000500\n",
      "Epoch 34/50 | Training Loss: 0.01757 | Testing Loss: 0.00977\n",
      "Current Learning Rate: 0.000500\n",
      "Epoch 35/50 | Training Loss: 0.01686 | Testing Loss: 0.01037\n",
      "Current Learning Rate: 0.000500\n",
      "Epoch 36/50 | Training Loss: 0.01667 | Testing Loss: 0.00941\n",
      "Current Learning Rate: 0.000500\n",
      "Epoch 37/50 | Training Loss: 0.01710 | Testing Loss: 0.01010\n",
      "Current Learning Rate: 0.000500\n",
      "Epoch 38/50 | Training Loss: 0.01627 | Testing Loss: 0.00973\n",
      "Current Learning Rate: 0.000500\n",
      "Epoch 39/50 | Training Loss: 0.01668 | Testing Loss: 0.00959\n",
      "Current Learning Rate: 0.000500\n",
      "Epoch 40/50 | Training Loss: 0.01654 | Testing Loss: 0.00961\n",
      "Current Learning Rate: 0.000250\n",
      "Epoch 41/50 | Training Loss: 0.01476 | Testing Loss: 0.00818\n",
      "Current Learning Rate: 0.000250\n",
      "Epoch 42/50 | Training Loss: 0.01439 | Testing Loss: 0.00850\n",
      "Current Learning Rate: 0.000250\n",
      "Epoch 43/50 | Training Loss: 0.01515 | Testing Loss: 0.00814\n",
      "Current Learning Rate: 0.000250\n",
      "Epoch 44/50 | Training Loss: 0.01475 | Testing Loss: 0.00846\n",
      "Current Learning Rate: 0.000250\n",
      "Epoch 45/50 | Training Loss: 0.01468 | Testing Loss: 0.00840\n",
      "Current Learning Rate: 0.000250\n",
      "Epoch 46/50 | Training Loss: 0.01466 | Testing Loss: 0.00849\n",
      "Early stopping triggered at epoch 46!\n"
     ]
    }
   ],
   "source": [
    "results = evaluate(model=model_1,\n",
    "                   train_dataloader=train_dataloader,\n",
    "                   test_dataloader=test_dataloader,\n",
    "                   mse_loss_function=mse_loss_function,\n",
    "                   optimizer=optimizer,\n",
    "                   scheduler=scheduler,\n",
    "                   epochs=epochs,\n",
    "                   patience=5,  # Stop after 3 epochs without improvement\n",
    "                   delta=0.0001)"
   ]
  },
  {
   "cell_type": "markdown",
   "id": "983c0986-315f-406e-a982-f7437ce88650",
   "metadata": {},
   "source": [
    "# Loss and Accuracy Curves"
   ]
  },
  {
   "cell_type": "code",
   "execution_count": 57,
   "id": "4ed21b6b-a063-49f7-9875-aee5bbc523fb",
   "metadata": {},
   "outputs": [
    {
     "data": {
      "image/png": "[encoded data removed]",
      "text/plain": [
       "<Figure size 800x500 with 1 Axes>"
      ]
     },
     "metadata": {},
     "output_type": "display_data"
    }
   ],
   "source": [
    "epochs = range(len(results['training_loss']))\n",
    "\n",
    "plt.figure(figsize=(8, 5))\n",
    "plt.plot(epochs, results['training_loss'], label='Training Loss')\n",
    "plt.plot(epochs, results['testing_loss'], label='Testing Loss')\n",
    "plt.xlabel('Epochs')\n",
    "plt.ylabel('Loss')\n",
    "plt.title('Training VS Testing Loss')\n",
    "plt.legend()\n",
    "plt.show()"
   ]
  },
  {
   "cell_type": "markdown",
   "id": "0d1a1830-5fab-4eaf-bf43-f46c087901f6",
   "metadata": {},
   "source": [
    "# Clustering"
   ]
  },
  {
   "cell_type": "code",
   "execution_count": 59,
   "id": "4cb21ca9-cf71-43fd-959b-0a1ddb67b11e",
   "metadata": {},
   "outputs": [],
   "source": [
    "model_1.eval()\n",
    "\n",
    "with torch.no_grad():\n",
    "    encoder, _ = model_1(X_train_tensor)\n",
    "\n",
    "latent_np = encoder.cpu().numpy()"
   ]
  },
  {
   "cell_type": "code",
   "execution_count": 60,
   "id": "b3064803-fb75-4b1e-814c-52f2b9ead2de",
   "metadata": {},
   "outputs": [],
   "source": [
    "wcss = []\n",
    "silhouette_scores = []\n",
    "k_range = range(2,11)"
   ]
  },
  {
   "cell_type": "code",
   "execution_count": 61,
   "id": "ad25d95a-11f5-43ef-bd13-70216da86e9c",
   "metadata": {},
   "outputs": [],
   "source": [
    "torch.manual_seed(42)\n",
    "\n",
    "for k in k_range:\n",
    "    kmeans = KMeans(n_clusters=k, random_state=42)\n",
    "    labels = kmeans.fit_predict(latent_np)\n",
    "    \n",
    "    wcss.append(kmeans.inertia_)  # Inertia = WCSS\n",
    "    silhouette_scores.append(silhouette_score(latent_np, labels))"
   ]
  },
  {
   "cell_type": "code",
   "execution_count": 62,
   "id": "5aa9f996-498e-4dca-81c7-895b87cf2044",
   "metadata": {},
   "outputs": [
    {
     "data": {
      "image/png": "[encoded data removed]",
      "text/plain": [
       "<Figure size 1200x500 with 2 Axes>"
      ]
     },
     "metadata": {},
     "output_type": "display_data"
    }
   ],
   "source": [
    "''' Elbow Rule to decide the number of clusters '''\n",
    "torch.manual_seed(42)\n",
    "plt.figure(figsize=(12, 5))\n",
    "\n",
    "plt.subplot(1, 2, 1)\n",
    "plt.plot(k_range, wcss, marker='o')\n",
    "plt.title('Elbow Method (WCSS vs K)')\n",
    "plt.xlabel('Number of clusters (K)')\n",
    "plt.ylabel('WCSS (Inertia)')\n",
    "\n",
    "# Step 5: Plot Silhouette Scores\n",
    "plt.subplot(1, 2, 2)\n",
    "plt.plot(k_range, silhouette_scores, marker='o', color='green')\n",
    "plt.title('Silhouette Score vs K')\n",
    "plt.xlabel('Number of clusters (K)')\n",
    "plt.ylabel('Average Silhouette Score')\n",
    "\n",
    "plt.tight_layout()\n",
    "plt.show()"
   ]
  },
  {
   "cell_type": "code",
   "execution_count": 63,
   "id": "653b0cfc-a1b9-4097-9ccf-0de782f0d2a7",
   "metadata": {},
   "outputs": [],
   "source": [
    "#Initialising KMeans\n",
    "kmeans = KMeans(n_clusters=4, n_init=50, init='k-means++', random_state=42)\n",
    "cluster_ids = kmeans.fit_predict(latent_np)\n",
    "cluster_centers = torch.tensor(kmeans.cluster_centers_, dtype=torch.float32).to(device)"
   ]
  },
  {
   "cell_type": "code",
   "execution_count": 64,
   "id": "6d5553ea-bcd2-46dd-946f-80e1003a2290",
   "metadata": {},
   "outputs": [
    {
     "data": {
      "image/png": "[encoded data removed]",
      "text/plain": [
       "<Figure size 1000x600 with 2 Axes>"
      ]
     },
     "metadata": {},
     "output_type": "display_data"
    }
   ],
   "source": [
    "latent_2d = PCA(n_components=2).fit_transform(latent_np)\n",
    "plt.figure(figsize=(10, 6))\n",
    "plt.scatter(latent_2d[:, 0], latent_2d[:, 1], c=cluster_ids, cmap='tab10', s=10)\n",
    "plt.title(\"KMeans clusters on latent space (Before DEC)\")\n",
    "plt.colorbar()\n",
    "plt.show()"
   ]
  },
  {
   "cell_type": "markdown",
   "id": "19047923-7c9e-4b84-95a6-6a74c53c9686",
   "metadata": {},
   "source": [
    "## Test it on User's Preferences "
   ]
  },
  {
   "cell_type": "code",
   "execution_count": 66,
   "id": "a2323692-79c6-4eb2-b3a0-36deb34b973d",
   "metadata": {},
   "outputs": [
    {
     "data": {
      "text/plain": [
       "Index(['is_premium', 'subscription_status', 'company_size', 'plan_type',\n",
       "       'is_unlimited', 'jobma_catcher_sub_accounts', 'subscription_amount',\n",
       "       'number_of_subscriptions', 'number_of_invitations', 'job_posted',\n",
       "       'number_of_kits', 'number_of_recorded_interviews',\n",
       "       'number_of_live_interviews'],\n",
       "      dtype='object')"
      ]
     },
     "execution_count": 66,
     "metadata": {},
     "output_type": "execute_result"
    }
   ],
   "source": [
    "X_df.columns"
   ]
  },
  {
   "cell_type": "code",
   "execution_count": 67,
   "id": "d4bd5749-7b60-4525-8467-9d2af0291781",
   "metadata": {},
   "outputs": [],
   "source": [
    "backup_df = backup_df[['jobma_catcher_id',\n",
    "                       'is_premium',\n",
    "                         'subscription_status',\n",
    "                         'company_size',\n",
    "                         'plan_type',\n",
    "                         'is_unlimited',\n",
    "                         'jobma_catcher_sub_accounts',\n",
    "                         'subscription_amount',\n",
    "                         'number_of_subscriptions',\n",
    "                         'number_of_invitations',\n",
    "                         'job_posted',\n",
    "                         'number_of_kits',\n",
    "                         'number_of_recorded_interviews',\n",
    "                        'number_of_live_interviews']]"
   ]
  },
  {
   "cell_type": "code",
   "execution_count": 68,
   "id": "c086ecba-069d-4282-99c2-12af15450abc",
   "metadata": {},
   "outputs": [],
   "source": [
    "user_pref_good = {'is_premium':'0',\n",
    "             'subscription_status':0,\n",
    "             'company_size':'500-1000',\n",
    "             'plan_type':'0',\n",
    "             'is_unlimited':'0',\n",
    "             'jobma_catcher_sub_accounts':115,\n",
    "             'subscription_amount': 118872599.99,\n",
    "             'number_of_subscriptions':20.,\n",
    "             'number_of_invitations':131,\n",
    "             'job_posted':35.,\n",
    "             'number_of_kits':31.,\n",
    "             'number_of_recorded_interviews':181,\n",
    "            'number_of_live_interviews':225  \n",
    "            }"
   ]
  },
  {
   "cell_type": "code",
   "execution_count": 69,
   "id": "2e2daa5d-b4e2-4368-b11d-bf6b1a9df9f0",
   "metadata": {},
   "outputs": [],
   "source": [
    "compare_df = pd.read_csv('try_data_processed.csv')"
   ]
  },
  {
   "cell_type": "code",
   "execution_count": 70,
   "id": "87f6bb4e-793e-47a1-9b82-66e1ec124afb",
   "metadata": {},
   "outputs": [
    {
     "data": {
      "text/plain": [
       "Index(['jobma_catcher_id', 'is_premium', 'jobma_verified',\n",
       "       'subscription_status', 'company_size', 'plan_type', 'is_unlimited',\n",
       "       'jobma_catcher_sub_accounts', 'subscription_amount',\n",
       "       'number_of_subscriptions', 'number_of_invitations', 'job_posted',\n",
       "       'number_of_kits', 'number_of_recorded_interviews',\n",
       "       'number_of_live_interviews'],\n",
       "      dtype='object')"
      ]
     },
     "execution_count": 70,
     "metadata": {},
     "output_type": "execute_result"
    }
   ],
   "source": [
    "compare_df.columns"
   ]
  },
  {
   "cell_type": "code",
   "execution_count": 71,
   "id": "133398fc-4bbd-4875-8ae4-da04f2005801",
   "metadata": {},
   "outputs": [],
   "source": [
    "def recommend(user_input, model, dataloader, compare_df, backup_df, pipeline, top_k=5):\n",
    "    user_df = pd.DataFrame([user_input])\n",
    "    user_input_transformed = pipeline.transform(user_df)\n",
    "    user_input_tensor = torch.tensor(user_input_transformed, dtype=torch.float32)\n",
    "\n",
    "    model.eval()\n",
    "    with torch.no_grad():\n",
    "        user_embedding, _ = model(user_input_tensor)\n",
    "        item_embeddings_list = []\n",
    "        for batch_X in dataloader:\n",
    "            item_embedding, _ = model(batch_X)\n",
    "            item_embeddings_list.append(item_embedding)\n",
    "\n",
    "        item_embeddings = torch.cat(item_embeddings_list, dim=0)\n",
    "\n",
    "        similarities = F.cosine_similarity(user_embedding, item_embeddings, dim=1)\n",
    "        top_indices = similarities.topk(top_k).indices.cpu().numpy()\n",
    "\n",
    "    recommended = compare_df.iloc[top_indices].copy()\n",
    "    recommended['similarity'] = similarities[top_indices].cpu().numpy()\n",
    "    recommended = recommended[['jobma_catcher_id', 'similarity']]\n",
    "    merged_df = pd.merge(recommended, backup_df, on='jobma_catcher_id', how='inner')\n",
    "\n",
    "    return merged_df"
   ]
  },
  {
   "cell_type": "code",
   "execution_count": 72,
   "id": "8004bea2-caec-4cf2-a696-da54577ca323",
   "metadata": {},
   "outputs": [
    {
     "data": {
      "text/html": [
       "<div>\n",
       "<style scoped>\n",
       "    .dataframe tbody tr th:only-of-type {\n",
       "        vertical-align: middle;\n",
       "    }\n",
       "\n",
       "    .dataframe tbody tr th {\n",
       "        vertical-align: top;\n",
       "    }\n",
       "\n",
       "    .dataframe thead th {\n",
       "        text-align: right;\n",
       "    }\n",
       "</style>\n",
       "<table border=\"1\" class=\"dataframe\">\n",
       "  <thead>\n",
       "    <tr style=\"text-align: right;\">\n",
       "      <th></th>\n",
       "      <th>jobma_catcher_id</th>\n",
       "      <th>similarity</th>\n",
       "      <th>is_premium</th>\n",
       "      <th>subscription_status</th>\n",
       "      <th>company_size</th>\n",
       "      <th>plan_type</th>\n",
       "      <th>is_unlimited</th>\n",
       "      <th>jobma_catcher_sub_accounts</th>\n",
       "      <th>subscription_amount</th>\n",
       "      <th>number_of_subscriptions</th>\n",
       "      <th>number_of_invitations</th>\n",
       "      <th>job_posted</th>\n",
       "      <th>number_of_kits</th>\n",
       "      <th>number_of_recorded_interviews</th>\n",
       "      <th>number_of_live_interviews</th>\n",
       "    </tr>\n",
       "  </thead>\n",
       "  <tbody>\n",
       "    <tr>\n",
       "      <th>0</th>\n",
       "      <td>3824</td>\n",
       "      <td>0.733944</td>\n",
       "      <td>0</td>\n",
       "      <td>2</td>\n",
       "      <td>1-25</td>\n",
       "      <td>1</td>\n",
       "      <td>0</td>\n",
       "      <td>0</td>\n",
       "      <td>33.6</td>\n",
       "      <td>2</td>\n",
       "      <td>74</td>\n",
       "      <td>4</td>\n",
       "      <td>0</td>\n",
       "      <td>0</td>\n",
       "      <td>0</td>\n",
       "    </tr>\n",
       "    <tr>\n",
       "      <th>1</th>\n",
       "      <td>3624</td>\n",
       "      <td>0.720095</td>\n",
       "      <td>1</td>\n",
       "      <td>2</td>\n",
       "      <td>26-100</td>\n",
       "      <td>1</td>\n",
       "      <td>0</td>\n",
       "      <td>0</td>\n",
       "      <td>23600.0</td>\n",
       "      <td>1</td>\n",
       "      <td>74</td>\n",
       "      <td>4</td>\n",
       "      <td>0</td>\n",
       "      <td>0</td>\n",
       "      <td>0</td>\n",
       "    </tr>\n",
       "    <tr>\n",
       "      <th>2</th>\n",
       "      <td>4236</td>\n",
       "      <td>0.717947</td>\n",
       "      <td>0</td>\n",
       "      <td>2</td>\n",
       "      <td>26-100</td>\n",
       "      <td>0</td>\n",
       "      <td>0</td>\n",
       "      <td>0</td>\n",
       "      <td>0.0</td>\n",
       "      <td>1</td>\n",
       "      <td>74</td>\n",
       "      <td>4</td>\n",
       "      <td>0</td>\n",
       "      <td>0</td>\n",
       "      <td>0</td>\n",
       "    </tr>\n",
       "    <tr>\n",
       "      <th>3</th>\n",
       "      <td>4045</td>\n",
       "      <td>0.692973</td>\n",
       "      <td>1</td>\n",
       "      <td>2</td>\n",
       "      <td>26-100</td>\n",
       "      <td>1</td>\n",
       "      <td>0</td>\n",
       "      <td>0</td>\n",
       "      <td>1180.0</td>\n",
       "      <td>1</td>\n",
       "      <td>74</td>\n",
       "      <td>4</td>\n",
       "      <td>0</td>\n",
       "      <td>0</td>\n",
       "      <td>0</td>\n",
       "    </tr>\n",
       "    <tr>\n",
       "      <th>4</th>\n",
       "      <td>4002</td>\n",
       "      <td>0.685416</td>\n",
       "      <td>0</td>\n",
       "      <td>2</td>\n",
       "      <td>500-1000</td>\n",
       "      <td>1</td>\n",
       "      <td>0</td>\n",
       "      <td>0</td>\n",
       "      <td>11800354.0</td>\n",
       "      <td>7</td>\n",
       "      <td>74</td>\n",
       "      <td>4</td>\n",
       "      <td>0</td>\n",
       "      <td>0</td>\n",
       "      <td>0</td>\n",
       "    </tr>\n",
       "  </tbody>\n",
       "</table>\n",
       "</div>"
      ],
      "text/plain": [
       "   jobma_catcher_id  similarity  is_premium  subscription_status company_size  \\\n",
       "0              3824    0.733944           0                    2         1-25   \n",
       "1              3624    0.720095           1                    2       26-100   \n",
       "2              4236    0.717947           0                    2       26-100   \n",
       "3              4045    0.692973           1                    2       26-100   \n",
       "4              4002    0.685416           0                    2     500-1000   \n",
       "\n",
       "   plan_type  is_unlimited  jobma_catcher_sub_accounts  subscription_amount  \\\n",
       "0          1             0                           0                 33.6   \n",
       "1          1             0                           0              23600.0   \n",
       "2          0             0                           0                  0.0   \n",
       "3          1             0                           0               1180.0   \n",
       "4          1             0                           0           11800354.0   \n",
       "\n",
       "   number_of_subscriptions  number_of_invitations  job_posted  number_of_kits  \\\n",
       "0                        2                     74           4               0   \n",
       "1                        1                     74           4               0   \n",
       "2                        1                     74           4               0   \n",
       "3                        1                     74           4               0   \n",
       "4                        7                     74           4               0   \n",
       "\n",
       "   number_of_recorded_interviews  number_of_live_interviews  \n",
       "0                              0                          0  \n",
       "1                              0                          0  \n",
       "2                              0                          0  \n",
       "3                              0                          0  \n",
       "4                              0                          0  "
      ]
     },
     "execution_count": 72,
     "metadata": {},
     "output_type": "execute_result"
    }
   ],
   "source": [
    "result = recommend(user_pref_good, model_1, test_dataloader, compare_df, backup_df, pipeline, top_k=5)\n",
    "result.head(5)"
   ]
  },
  {
   "cell_type": "code",
   "execution_count": 73,
   "id": "e7d309e1-9ce9-4af9-91fd-849d2e8e3f91",
   "metadata": {},
   "outputs": [],
   "source": [
    "user_pref_test = {'is_premium':'0',\n",
    "             'subscription_status':2,\n",
    "             'company_size':'1-25',\n",
    "             'plan_type':'0',\n",
    "             'is_unlimited':'1',\n",
    "             'jobma_catcher_sub_accounts':0,\n",
    "             'subscription_amount': 199.0,\n",
    "             'number_of_subscriptions':2,\n",
    "             'number_of_invitations':74,\n",
    "             'job_posted':4,\n",
    "             'number_of_kits':0,\n",
    "             'number_of_recorded_interviews':0,\n",
    "            'number_of_live_interviews':0  \n",
    "            }"
   ]
  },
  {
   "cell_type": "code",
   "execution_count": 74,
   "id": "eb2d3d16-f911-40df-8465-da8b46771529",
   "metadata": {},
   "outputs": [
    {
     "data": {
      "text/html": [
       "<div>\n",
       "<style scoped>\n",
       "    .dataframe tbody tr th:only-of-type {\n",
       "        vertical-align: middle;\n",
       "    }\n",
       "\n",
       "    .dataframe tbody tr th {\n",
       "        vertical-align: top;\n",
       "    }\n",
       "\n",
       "    .dataframe thead th {\n",
       "        text-align: right;\n",
       "    }\n",
       "</style>\n",
       "<table border=\"1\" class=\"dataframe\">\n",
       "  <thead>\n",
       "    <tr style=\"text-align: right;\">\n",
       "      <th></th>\n",
       "      <th>jobma_catcher_id</th>\n",
       "      <th>similarity</th>\n",
       "      <th>is_premium</th>\n",
       "      <th>subscription_status</th>\n",
       "      <th>company_size</th>\n",
       "      <th>plan_type</th>\n",
       "      <th>is_unlimited</th>\n",
       "      <th>jobma_catcher_sub_accounts</th>\n",
       "      <th>subscription_amount</th>\n",
       "      <th>number_of_subscriptions</th>\n",
       "      <th>number_of_invitations</th>\n",
       "      <th>job_posted</th>\n",
       "      <th>number_of_kits</th>\n",
       "      <th>number_of_recorded_interviews</th>\n",
       "      <th>number_of_live_interviews</th>\n",
       "    </tr>\n",
       "  </thead>\n",
       "  <tbody>\n",
       "    <tr>\n",
       "      <th>0</th>\n",
       "      <td>3226</td>\n",
       "      <td>0.994499</td>\n",
       "      <td>1</td>\n",
       "      <td>2</td>\n",
       "      <td>26-100</td>\n",
       "      <td>1</td>\n",
       "      <td>1</td>\n",
       "      <td>0</td>\n",
       "      <td>141.6</td>\n",
       "      <td>1</td>\n",
       "      <td>74</td>\n",
       "      <td>4</td>\n",
       "      <td>0</td>\n",
       "      <td>0</td>\n",
       "      <td>0</td>\n",
       "    </tr>\n",
       "    <tr>\n",
       "      <th>1</th>\n",
       "      <td>3378</td>\n",
       "      <td>0.994499</td>\n",
       "      <td>1</td>\n",
       "      <td>2</td>\n",
       "      <td>1-25</td>\n",
       "      <td>1</td>\n",
       "      <td>1</td>\n",
       "      <td>0</td>\n",
       "      <td>10000.0</td>\n",
       "      <td>1</td>\n",
       "      <td>74</td>\n",
       "      <td>4</td>\n",
       "      <td>0</td>\n",
       "      <td>0</td>\n",
       "      <td>0</td>\n",
       "    </tr>\n",
       "    <tr>\n",
       "      <th>2</th>\n",
       "      <td>3444</td>\n",
       "      <td>0.994499</td>\n",
       "      <td>1</td>\n",
       "      <td>2</td>\n",
       "      <td>1-25</td>\n",
       "      <td>0</td>\n",
       "      <td>0</td>\n",
       "      <td>0</td>\n",
       "      <td>50.0</td>\n",
       "      <td>1</td>\n",
       "      <td>74</td>\n",
       "      <td>4</td>\n",
       "      <td>0</td>\n",
       "      <td>0</td>\n",
       "      <td>0</td>\n",
       "    </tr>\n",
       "    <tr>\n",
       "      <th>3</th>\n",
       "      <td>3571</td>\n",
       "      <td>0.994456</td>\n",
       "      <td>0</td>\n",
       "      <td>2</td>\n",
       "      <td>1-25</td>\n",
       "      <td>1</td>\n",
       "      <td>0</td>\n",
       "      <td>0</td>\n",
       "      <td>118.0</td>\n",
       "      <td>1</td>\n",
       "      <td>74</td>\n",
       "      <td>4</td>\n",
       "      <td>0</td>\n",
       "      <td>0</td>\n",
       "      <td>0</td>\n",
       "    </tr>\n",
       "    <tr>\n",
       "      <th>4</th>\n",
       "      <td>2941</td>\n",
       "      <td>0.990482</td>\n",
       "      <td>0</td>\n",
       "      <td>2</td>\n",
       "      <td>26-100</td>\n",
       "      <td>1</td>\n",
       "      <td>0</td>\n",
       "      <td>0</td>\n",
       "      <td>11800.0</td>\n",
       "      <td>1</td>\n",
       "      <td>74</td>\n",
       "      <td>1</td>\n",
       "      <td>0</td>\n",
       "      <td>0</td>\n",
       "      <td>0</td>\n",
       "    </tr>\n",
       "  </tbody>\n",
       "</table>\n",
       "</div>"
      ],
      "text/plain": [
       "   jobma_catcher_id  similarity  is_premium  subscription_status company_size  \\\n",
       "0              3226    0.994499           1                    2       26-100   \n",
       "1              3378    0.994499           1                    2         1-25   \n",
       "2              3444    0.994499           1                    2         1-25   \n",
       "3              3571    0.994456           0                    2         1-25   \n",
       "4              2941    0.990482           0                    2       26-100   \n",
       "\n",
       "   plan_type  is_unlimited  jobma_catcher_sub_accounts  subscription_amount  \\\n",
       "0          1             1                           0                141.6   \n",
       "1          1             1                           0              10000.0   \n",
       "2          0             0                           0                 50.0   \n",
       "3          1             0                           0                118.0   \n",
       "4          1             0                           0              11800.0   \n",
       "\n",
       "   number_of_subscriptions  number_of_invitations  job_posted  number_of_kits  \\\n",
       "0                        1                     74           4               0   \n",
       "1                        1                     74           4               0   \n",
       "2                        1                     74           4               0   \n",
       "3                        1                     74           4               0   \n",
       "4                        1                     74           1               0   \n",
       "\n",
       "   number_of_recorded_interviews  number_of_live_interviews  \n",
       "0                              0                          0  \n",
       "1                              0                          0  \n",
       "2                              0                          0  \n",
       "3                              0                          0  \n",
       "4                              0                          0  "
      ]
     },
     "execution_count": 74,
     "metadata": {},
     "output_type": "execute_result"
    }
   ],
   "source": [
    "result1 = recommend(user_pref_test, model_1, test_dataloader, compare_df, backup_df, pipeline, top_k=5)\n",
    "result1.head(5)"
   ]
  }
 ],
 "metadata": {
  "kernelspec": {
   "display_name": "Python 3 (ipykernel)",
   "language": "python",
   "name": "python3"
  },
  "language_info": {
   "codemirror_mode": {
    "name": "ipython",
    "version": 3
   },
   "file_extension": ".py",
   "mimetype": "text/x-python",
   "name": "python",
   "nbconvert_exporter": "python",
   "pygments_lexer": "ipython3",
   "version": "3.12.7"
  }
 },
 "nbformat": 4,
 "nbformat_minor": 5
}
