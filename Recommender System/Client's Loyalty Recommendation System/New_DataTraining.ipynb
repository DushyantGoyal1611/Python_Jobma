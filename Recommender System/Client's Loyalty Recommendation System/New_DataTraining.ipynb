{
 "cells": [
  {
   "cell_type": "code",
   "execution_count": 1,
   "id": "6071a3ce-df92-42c3-a156-e1f44460f251",
   "metadata": {},
   "outputs": [],
   "source": [
    "import pandas as pd\n",
    "import numpy as np\n",
    "import matplotlib.pyplot as plt\n",
    "import seaborn as sns\n",
    "import warnings\n",
    "\n",
    "# Torch\n",
    "import torch\n",
    "import torch.nn as nn\n",
    "from torch.utils.data import Dataset, DataLoader\n",
    "import torch.nn.functional as F\n",
    "\n",
    "# Data Encoding and Scaling\n",
    "from sklearn.preprocessing import LabelEncoder, OrdinalEncoder, MinMaxScaler, RobustScaler, StandardScaler, FunctionTransformer\n",
    "from sklearn.model_selection import train_test_split\n",
    "from sklearn.decomposition import PCA\n",
    "\n",
    "# Pipeline\n",
    "from sklearn.pipeline import Pipeline\n",
    "from sklearn import set_config"
   ]
  },
  {
   "cell_type": "code",
   "execution_count": 2,
   "id": "7ced7b88-3fa4-483c-9681-0ed81e8f0606",
   "metadata": {},
   "outputs": [],
   "source": [
    "warnings.filterwarnings('ignore')"
   ]
  },
  {
   "cell_type": "code",
   "execution_count": 3,
   "id": "fc23347c-aada-4e45-b1ea-3df8efaa08bb",
   "metadata": {},
   "outputs": [
    {
     "data": {
      "text/plain": [
       "'cpu'"
      ]
     },
     "execution_count": 3,
     "metadata": {},
     "output_type": "execute_result"
    }
   ],
   "source": [
    "device = 'cuda' if torch.cuda.is_available() else 'cpu'\n",
    "device"
   ]
  },
  {
   "cell_type": "code",
   "execution_count": 4,
   "id": "4a6f9c1e-ddeb-4c23-8181-49e0a1a53378",
   "metadata": {},
   "outputs": [
    {
     "ename": "FileNotFoundError",
     "evalue": "[Errno 2] No such file or directory: 'test_data_processed.csv'",
     "output_type": "error",
     "traceback": [
      "\u001b[1;31m---------------------------------------------------------------------------\u001b[0m",
      "\u001b[1;31mFileNotFoundError\u001b[0m                         Traceback (most recent call last)",
      "Cell \u001b[1;32mIn[4], line 1\u001b[0m\n\u001b[1;32m----> 1\u001b[0m df \u001b[38;5;241m=\u001b[39m pd\u001b[38;5;241m.\u001b[39mread_csv(\u001b[38;5;124m'\u001b[39m\u001b[38;5;124mtest_data_processed.csv\u001b[39m\u001b[38;5;124m'\u001b[39m)\n",
      "File \u001b[1;32mC:\\ProgramData\\anaconda3\\Lib\\site-packages\\pandas\\io\\parsers\\readers.py:1026\u001b[0m, in \u001b[0;36mread_csv\u001b[1;34m(filepath_or_buffer, sep, delimiter, header, names, index_col, usecols, dtype, engine, converters, true_values, false_values, skipinitialspace, skiprows, skipfooter, nrows, na_values, keep_default_na, na_filter, verbose, skip_blank_lines, parse_dates, infer_datetime_format, keep_date_col, date_parser, date_format, dayfirst, cache_dates, iterator, chunksize, compression, thousands, decimal, lineterminator, quotechar, quoting, doublequote, escapechar, comment, encoding, encoding_errors, dialect, on_bad_lines, delim_whitespace, low_memory, memory_map, float_precision, storage_options, dtype_backend)\u001b[0m\n\u001b[0;32m   1013\u001b[0m kwds_defaults \u001b[38;5;241m=\u001b[39m _refine_defaults_read(\n\u001b[0;32m   1014\u001b[0m     dialect,\n\u001b[0;32m   1015\u001b[0m     delimiter,\n\u001b[1;32m   (...)\u001b[0m\n\u001b[0;32m   1022\u001b[0m     dtype_backend\u001b[38;5;241m=\u001b[39mdtype_backend,\n\u001b[0;32m   1023\u001b[0m )\n\u001b[0;32m   1024\u001b[0m kwds\u001b[38;5;241m.\u001b[39mupdate(kwds_defaults)\n\u001b[1;32m-> 1026\u001b[0m \u001b[38;5;28;01mreturn\u001b[39;00m _read(filepath_or_buffer, kwds)\n",
      "File \u001b[1;32mC:\\ProgramData\\anaconda3\\Lib\\site-packages\\pandas\\io\\parsers\\readers.py:620\u001b[0m, in \u001b[0;36m_read\u001b[1;34m(filepath_or_buffer, kwds)\u001b[0m\n\u001b[0;32m    617\u001b[0m _validate_names(kwds\u001b[38;5;241m.\u001b[39mget(\u001b[38;5;124m\"\u001b[39m\u001b[38;5;124mnames\u001b[39m\u001b[38;5;124m\"\u001b[39m, \u001b[38;5;28;01mNone\u001b[39;00m))\n\u001b[0;32m    619\u001b[0m \u001b[38;5;66;03m# Create the parser.\u001b[39;00m\n\u001b[1;32m--> 620\u001b[0m parser \u001b[38;5;241m=\u001b[39m TextFileReader(filepath_or_buffer, \u001b[38;5;241m*\u001b[39m\u001b[38;5;241m*\u001b[39mkwds)\n\u001b[0;32m    622\u001b[0m \u001b[38;5;28;01mif\u001b[39;00m chunksize \u001b[38;5;129;01mor\u001b[39;00m iterator:\n\u001b[0;32m    623\u001b[0m     \u001b[38;5;28;01mreturn\u001b[39;00m parser\n",
      "File \u001b[1;32mC:\\ProgramData\\anaconda3\\Lib\\site-packages\\pandas\\io\\parsers\\readers.py:1620\u001b[0m, in \u001b[0;36mTextFileReader.__init__\u001b[1;34m(self, f, engine, **kwds)\u001b[0m\n\u001b[0;32m   1617\u001b[0m     \u001b[38;5;28mself\u001b[39m\u001b[38;5;241m.\u001b[39moptions[\u001b[38;5;124m\"\u001b[39m\u001b[38;5;124mhas_index_names\u001b[39m\u001b[38;5;124m\"\u001b[39m] \u001b[38;5;241m=\u001b[39m kwds[\u001b[38;5;124m\"\u001b[39m\u001b[38;5;124mhas_index_names\u001b[39m\u001b[38;5;124m\"\u001b[39m]\n\u001b[0;32m   1619\u001b[0m \u001b[38;5;28mself\u001b[39m\u001b[38;5;241m.\u001b[39mhandles: IOHandles \u001b[38;5;241m|\u001b[39m \u001b[38;5;28;01mNone\u001b[39;00m \u001b[38;5;241m=\u001b[39m \u001b[38;5;28;01mNone\u001b[39;00m\n\u001b[1;32m-> 1620\u001b[0m \u001b[38;5;28mself\u001b[39m\u001b[38;5;241m.\u001b[39m_engine \u001b[38;5;241m=\u001b[39m \u001b[38;5;28mself\u001b[39m\u001b[38;5;241m.\u001b[39m_make_engine(f, \u001b[38;5;28mself\u001b[39m\u001b[38;5;241m.\u001b[39mengine)\n",
      "File \u001b[1;32mC:\\ProgramData\\anaconda3\\Lib\\site-packages\\pandas\\io\\parsers\\readers.py:1880\u001b[0m, in \u001b[0;36mTextFileReader._make_engine\u001b[1;34m(self, f, engine)\u001b[0m\n\u001b[0;32m   1878\u001b[0m     \u001b[38;5;28;01mif\u001b[39;00m \u001b[38;5;124m\"\u001b[39m\u001b[38;5;124mb\u001b[39m\u001b[38;5;124m\"\u001b[39m \u001b[38;5;129;01mnot\u001b[39;00m \u001b[38;5;129;01min\u001b[39;00m mode:\n\u001b[0;32m   1879\u001b[0m         mode \u001b[38;5;241m+\u001b[39m\u001b[38;5;241m=\u001b[39m \u001b[38;5;124m\"\u001b[39m\u001b[38;5;124mb\u001b[39m\u001b[38;5;124m\"\u001b[39m\n\u001b[1;32m-> 1880\u001b[0m \u001b[38;5;28mself\u001b[39m\u001b[38;5;241m.\u001b[39mhandles \u001b[38;5;241m=\u001b[39m get_handle(\n\u001b[0;32m   1881\u001b[0m     f,\n\u001b[0;32m   1882\u001b[0m     mode,\n\u001b[0;32m   1883\u001b[0m     encoding\u001b[38;5;241m=\u001b[39m\u001b[38;5;28mself\u001b[39m\u001b[38;5;241m.\u001b[39moptions\u001b[38;5;241m.\u001b[39mget(\u001b[38;5;124m\"\u001b[39m\u001b[38;5;124mencoding\u001b[39m\u001b[38;5;124m\"\u001b[39m, \u001b[38;5;28;01mNone\u001b[39;00m),\n\u001b[0;32m   1884\u001b[0m     compression\u001b[38;5;241m=\u001b[39m\u001b[38;5;28mself\u001b[39m\u001b[38;5;241m.\u001b[39moptions\u001b[38;5;241m.\u001b[39mget(\u001b[38;5;124m\"\u001b[39m\u001b[38;5;124mcompression\u001b[39m\u001b[38;5;124m\"\u001b[39m, \u001b[38;5;28;01mNone\u001b[39;00m),\n\u001b[0;32m   1885\u001b[0m     memory_map\u001b[38;5;241m=\u001b[39m\u001b[38;5;28mself\u001b[39m\u001b[38;5;241m.\u001b[39moptions\u001b[38;5;241m.\u001b[39mget(\u001b[38;5;124m\"\u001b[39m\u001b[38;5;124mmemory_map\u001b[39m\u001b[38;5;124m\"\u001b[39m, \u001b[38;5;28;01mFalse\u001b[39;00m),\n\u001b[0;32m   1886\u001b[0m     is_text\u001b[38;5;241m=\u001b[39mis_text,\n\u001b[0;32m   1887\u001b[0m     errors\u001b[38;5;241m=\u001b[39m\u001b[38;5;28mself\u001b[39m\u001b[38;5;241m.\u001b[39moptions\u001b[38;5;241m.\u001b[39mget(\u001b[38;5;124m\"\u001b[39m\u001b[38;5;124mencoding_errors\u001b[39m\u001b[38;5;124m\"\u001b[39m, \u001b[38;5;124m\"\u001b[39m\u001b[38;5;124mstrict\u001b[39m\u001b[38;5;124m\"\u001b[39m),\n\u001b[0;32m   1888\u001b[0m     storage_options\u001b[38;5;241m=\u001b[39m\u001b[38;5;28mself\u001b[39m\u001b[38;5;241m.\u001b[39moptions\u001b[38;5;241m.\u001b[39mget(\u001b[38;5;124m\"\u001b[39m\u001b[38;5;124mstorage_options\u001b[39m\u001b[38;5;124m\"\u001b[39m, \u001b[38;5;28;01mNone\u001b[39;00m),\n\u001b[0;32m   1889\u001b[0m )\n\u001b[0;32m   1890\u001b[0m \u001b[38;5;28;01massert\u001b[39;00m \u001b[38;5;28mself\u001b[39m\u001b[38;5;241m.\u001b[39mhandles \u001b[38;5;129;01mis\u001b[39;00m \u001b[38;5;129;01mnot\u001b[39;00m \u001b[38;5;28;01mNone\u001b[39;00m\n\u001b[0;32m   1891\u001b[0m f \u001b[38;5;241m=\u001b[39m \u001b[38;5;28mself\u001b[39m\u001b[38;5;241m.\u001b[39mhandles\u001b[38;5;241m.\u001b[39mhandle\n",
      "File \u001b[1;32mC:\\ProgramData\\anaconda3\\Lib\\site-packages\\pandas\\io\\common.py:873\u001b[0m, in \u001b[0;36mget_handle\u001b[1;34m(path_or_buf, mode, encoding, compression, memory_map, is_text, errors, storage_options)\u001b[0m\n\u001b[0;32m    868\u001b[0m \u001b[38;5;28;01melif\u001b[39;00m \u001b[38;5;28misinstance\u001b[39m(handle, \u001b[38;5;28mstr\u001b[39m):\n\u001b[0;32m    869\u001b[0m     \u001b[38;5;66;03m# Check whether the filename is to be opened in binary mode.\u001b[39;00m\n\u001b[0;32m    870\u001b[0m     \u001b[38;5;66;03m# Binary mode does not support 'encoding' and 'newline'.\u001b[39;00m\n\u001b[0;32m    871\u001b[0m     \u001b[38;5;28;01mif\u001b[39;00m ioargs\u001b[38;5;241m.\u001b[39mencoding \u001b[38;5;129;01mand\u001b[39;00m \u001b[38;5;124m\"\u001b[39m\u001b[38;5;124mb\u001b[39m\u001b[38;5;124m\"\u001b[39m \u001b[38;5;129;01mnot\u001b[39;00m \u001b[38;5;129;01min\u001b[39;00m ioargs\u001b[38;5;241m.\u001b[39mmode:\n\u001b[0;32m    872\u001b[0m         \u001b[38;5;66;03m# Encoding\u001b[39;00m\n\u001b[1;32m--> 873\u001b[0m         handle \u001b[38;5;241m=\u001b[39m \u001b[38;5;28mopen\u001b[39m(\n\u001b[0;32m    874\u001b[0m             handle,\n\u001b[0;32m    875\u001b[0m             ioargs\u001b[38;5;241m.\u001b[39mmode,\n\u001b[0;32m    876\u001b[0m             encoding\u001b[38;5;241m=\u001b[39mioargs\u001b[38;5;241m.\u001b[39mencoding,\n\u001b[0;32m    877\u001b[0m             errors\u001b[38;5;241m=\u001b[39merrors,\n\u001b[0;32m    878\u001b[0m             newline\u001b[38;5;241m=\u001b[39m\u001b[38;5;124m\"\u001b[39m\u001b[38;5;124m\"\u001b[39m,\n\u001b[0;32m    879\u001b[0m         )\n\u001b[0;32m    880\u001b[0m     \u001b[38;5;28;01melse\u001b[39;00m:\n\u001b[0;32m    881\u001b[0m         \u001b[38;5;66;03m# Binary mode\u001b[39;00m\n\u001b[0;32m    882\u001b[0m         handle \u001b[38;5;241m=\u001b[39m \u001b[38;5;28mopen\u001b[39m(handle, ioargs\u001b[38;5;241m.\u001b[39mmode)\n",
      "\u001b[1;31mFileNotFoundError\u001b[0m: [Errno 2] No such file or directory: 'test_data_processed.csv'"
     ]
    }
   ],
   "source": [
    "df = pd.read_csv('test_data_processed.csv')"
   ]
  },
  {
   "cell_type": "code",
   "execution_count": null,
   "id": "925ad51f-d9f6-40a0-9e8a-1db9bea342cd",
   "metadata": {},
   "outputs": [],
   "source": [
    "df.columns"
   ]
  },
  {
   "cell_type": "code",
   "execution_count": null,
   "id": "9d1e0c1e-534e-4c62-b78c-ed6cd284557b",
   "metadata": {},
   "outputs": [],
   "source": [
    "df.shape"
   ]
  },
  {
   "cell_type": "code",
   "execution_count": null,
   "id": "9689a9db-42ca-4b31-9f66-04735694139f",
   "metadata": {},
   "outputs": [],
   "source": [
    "df.isnull().sum()"
   ]
  },
  {
   "cell_type": "code",
   "execution_count": null,
   "id": "9cdcd96f-31e7-4913-b018-7c943a85664f",
   "metadata": {},
   "outputs": [],
   "source": [
    "kjhugvfycdtxrsz"
   ]
  },
  {
   "cell_type": "code",
   "execution_count": null,
   "id": "6b06e895-3b21-44ad-bae2-0f2896b84840",
   "metadata": {},
   "outputs": [],
   "source": [
    "''' Filled all the null values before encoding the data '''\n",
    "\n",
    "for col in df.columns:\n",
    "    if df[col].dtype == np.int64:\n",
    "        df[col].fillna(0, inplace=True)\n",
    "    elif df[col].dtype == np.float64:\n",
    "        df[col].fillna(0.0, inplace=True)\n",
    "    elif df[col].dtype == object:\n",
    "        unique_vals = df[col].dropna().unique()\n",
    "        if set(unique_vals).issubset({'Yes', 'No'}):\n",
    "            df[col].fillna('No', inplace=True)\n",
    "        else:\n",
    "            df[col].fillna('Unknown', inplace=True)"
   ]
  },
  {
   "cell_type": "code",
   "execution_count": null,
   "id": "e8445cf4-d4d3-459d-a0bd-07eeec88b341",
   "metadata": {},
   "outputs": [],
   "source": [
    "''' This Function is to fill all missing values (if col is int then 0, if col is float then 0.0 and if col is object then 'Unkmown') '''\n",
    "\n",
    "def fill_missing_values(df):\n",
    "    df = df.copy()\n",
    "    for col in df.columns:\n",
    "        if df[col].dtype == np.int64:\n",
    "            df[col].fillna(0, inplace=True)\n",
    "        elif df[col].dtype == np.float64:\n",
    "            df[col].fillna(0.0, inplace=True)\n",
    "        elif df[col].dtype == object:\n",
    "            unique_vals = df[col].dropna().unique()\n",
    "            if set(unique_vals).issubset({'Yes', 'No'}):\n",
    "                df[col].fillna('No', inplace=True)\n",
    "            else:\n",
    "                df[col].fillna('Unknown', inplace=True)\n",
    "    return df\n"
   ]
  },
  {
   "cell_type": "markdown",
   "id": "7d698e59-f2ce-4954-84a7-d849c5ca946b",
   "metadata": {},
   "source": [
    "# Data Encoding"
   ]
  },
  {
   "cell_type": "code",
   "execution_count": null,
   "id": "4c39e074-5f1c-4b63-9356-f8f6eba75c4a",
   "metadata": {},
   "outputs": [],
   "source": [
    "label_col = ['jobma_catcher_industry',]\n",
    "\n",
    "def label_encoder(df):\n",
    "    for col in label_col:\n",
    "        if col in df.columns:\n",
    "            if df[col].dtype == object or df[col].dtype.name == 'category':\n",
    "                le_col = LabelEncoder()\n",
    "                df[col] = le_col.fit_transform(df[col].astype(str))\n",
    "    return df"
   ]
  },
  {
   "cell_type": "code",
   "execution_count": null,
   "id": "5dc7c138-345c-4c7f-96a0-4a005694d513",
   "metadata": {},
   "outputs": [],
   "source": [
    "def ordinal_encoder(df):\n",
    "    ordinal_col = ['jobma_catcher_is_deleted', 'company_size', 'plan_type', 'is_unlimited']\n",
    "    \n",
    "    is_deleted_order = ['Yes', 'No']\n",
    "    company_size_order = ['Unknown', '1-25', '26-100', '101-500', '500-1000', 'More than 1000']\n",
    "    plan_type_order = ['Unknown', 'No', 'Yes']\n",
    "    is_unlimited_order = ['Unknown', 'No', 'Yes']\n",
    "\n",
    "    ordinal_order = [is_deleted_order, company_size_order, plan_type_order, is_unlimited_order]\n",
    "\n",
    "    ordinal = OrdinalEncoder(categories=ordinal_order)\n",
    "    encoded = ordinal.fit_transform(df[ordinal_col].astype(str))\n",
    "    encoded_df = pd.DataFrame(encoded, columns=[f'{col}_ord' for col in ordinal_col], index=df.index)\n",
    "\n",
    "    df.drop(columns=ordinal_col, inplace=True)\n",
    "\n",
    "    df = pd.concat([df, encoded_df], axis=1)\n",
    "    \n",
    "    return df"
   ]
  },
  {
   "cell_type": "markdown",
   "id": "4af138d6-8ca7-43f0-99d5-7368a577debb",
   "metadata": {},
   "source": [
    "# Log Transformation"
   ]
  },
  {
   "cell_type": "code",
   "execution_count": null,
   "id": "b32ce46b-2276-4c2b-b880-c5ba61649af1",
   "metadata": {},
   "outputs": [],
   "source": [
    "log_cols = [\n",
    "    'wallet_amount',\n",
    "    'subscription_amount',\n",
    "    'number_of_invitations',\n",
    "    'job_posted',\n",
    "    'number_of_kits',\n",
    "    'interview_question',\n",
    "    'pre_recorded_credit',\n",
    "    'live_interview_credit'\n",
    "]"
   ]
  },
  {
   "cell_type": "code",
   "execution_count": null,
   "id": "8e038a71-0db7-4699-b22f-dbbea1159d15",
   "metadata": {},
   "outputs": [],
   "source": [
    "def log_transform(df):\n",
    "    df = df.copy()\n",
    "    for col in log_cols:\n",
    "        if col in df.columns:\n",
    "            # fill NaNs\n",
    "            df[col] = df[col].fillna(0)\n",
    "            # if a number is less than zero, turn it into zero;\n",
    "            df[col] = df[col].clip(lower=0)\n",
    "            # safe log1p\n",
    "            df[col] = np.log1p(df[col])\n",
    "    return df"
   ]
  },
  {
   "cell_type": "markdown",
   "id": "1673964c-72cd-467c-bd24-4f06a988c021",
   "metadata": {},
   "source": [
    "# Pipeline"
   ]
  },
  {
   "cell_type": "code",
   "execution_count": null,
   "id": "c8d303d8-a8bd-44ce-a4ee-d5c7dda16cc3",
   "metadata": {},
   "outputs": [],
   "source": [
    "pipeline = Pipeline([\n",
    "    # ('fill_missing_values', FunctionTransformer(fill_missing_values, validate=False)),\n",
    "    ('label_encoder', FunctionTransformer(label_encoder, validate=False)),\n",
    "    ('ordinal_encoder', FunctionTransformer(ordinal_encoder, validate=False)),\n",
    "    ('log_transformation', FunctionTransformer(log_transform, validate=False)), # log transforms the col with outliers\n",
    "    ('scaler', StandardScaler()), # Needs attention to improve model\n",
    "    # ('pca', PCA(n_components=0.97))\n",
    "])"
   ]
  },
  {
   "cell_type": "code",
   "execution_count": null,
   "id": "adb2a46c-ee62-46e4-ac4b-74c262b012a3",
   "metadata": {},
   "outputs": [],
   "source": [
    "''' Visualizing the Pipeline '''\n",
    "set_config(display='diagram')\n",
    "pipeline"
   ]
  },
  {
   "cell_type": "markdown",
   "id": "be793847-7c8d-4d29-8874-a83ef2dfb968",
   "metadata": {},
   "source": [
    "# Data Splitting"
   ]
  },
  {
   "cell_type": "code",
   "execution_count": null,
   "id": "c17e8b4a-44be-4f9d-9539-ee2492ce195c",
   "metadata": {},
   "outputs": [],
   "source": [
    "X = df"
   ]
  },
  {
   "cell_type": "code",
   "execution_count": null,
   "id": "23cf0a95-bf70-4cd3-8e30-4d2b42d07a8a",
   "metadata": {},
   "outputs": [],
   "source": [
    "X_train, X_test = train_test_split(X, test_size=0.2, random_state=42)"
   ]
  },
  {
   "cell_type": "code",
   "execution_count": null,
   "id": "f543d5ba-3d69-4e3f-b5b0-ae416701b187",
   "metadata": {},
   "outputs": [],
   "source": [
    "type(X_train), type(X_test)"
   ]
  },
  {
   "cell_type": "code",
   "execution_count": null,
   "id": "53e8acd0-4b78-469e-ae00-ac0595ee367b",
   "metadata": {},
   "outputs": [],
   "source": [
    "len(X_train), len(X_test)"
   ]
  },
  {
   "cell_type": "markdown",
   "id": "50b74905-a1d6-4409-8f2d-baaea36a6808",
   "metadata": {},
   "source": [
    "# Fit Pipeline"
   ]
  },
  {
   "cell_type": "code",
   "execution_count": null,
   "id": "d83c8ee2-a7f4-4d50-966c-510254d01f53",
   "metadata": {},
   "outputs": [],
   "source": [
    "X_train_transformed = pipeline.fit_transform(X_train)\n",
    "X_test_transformed = pipeline.transform(X_test)"
   ]
  },
  {
   "cell_type": "code",
   "execution_count": null,
   "id": "857a5011-f0d3-4806-a3f0-9113ea488a40",
   "metadata": {},
   "outputs": [],
   "source": [
    "type(X_train_transformed), type(X_test_transformed)"
   ]
  },
  {
   "cell_type": "code",
   "execution_count": null,
   "id": "c36aadf2-06f9-490d-a3d5-998b70b60688",
   "metadata": {},
   "outputs": [],
   "source": [
    "len(X_train_transformed), len(X_test_transformed)"
   ]
  },
  {
   "cell_type": "code",
   "execution_count": null,
   "id": "7be9ea93-0676-4740-bcdc-4aaed12d3c89",
   "metadata": {},
   "outputs": [],
   "source": [
    "features_names = df.columns"
   ]
  },
  {
   "cell_type": "code",
   "execution_count": null,
   "id": "c29c15f7-61f8-4eac-80c6-6d1667438a51",
   "metadata": {},
   "outputs": [],
   "source": [
    "X_df = pd.DataFrame(X_train_transformed, columns=features_names)\n",
    "# X'_df = pd.DataFrame(X_train_transformed)"
   ]
  },
  {
   "cell_type": "code",
   "execution_count": null,
   "id": "a29af4c3-ae6c-4093-8b51-2e6405f362d3",
   "metadata": {},
   "outputs": [],
   "source": [
    "X_df.shape"
   ]
  },
  {
   "cell_type": "markdown",
   "id": "48fc4cc1-4ef9-4416-a7f4-553070a2b975",
   "metadata": {},
   "source": [
    "# Convert into Tensor"
   ]
  },
  {
   "cell_type": "code",
   "execution_count": null,
   "id": "7d179ef2-8665-455a-8aa7-9bea15775295",
   "metadata": {},
   "outputs": [],
   "source": [
    "X_train_tensor = torch.tensor(X_train_transformed, dtype=torch.float32)\n",
    "X_test_tensor = torch.tensor(X_test_transformed, dtype=torch.float32)"
   ]
  },
  {
   "cell_type": "code",
   "execution_count": null,
   "id": "e44735e0-466e-4148-88d3-437f8d85d991",
   "metadata": {},
   "outputs": [],
   "source": [
    "type(X_train_tensor), type(X_test_tensor)"
   ]
  },
  {
   "cell_type": "markdown",
   "id": "4c12efc6-4695-43de-87eb-4e06e7833f3f",
   "metadata": {},
   "source": [
    "# Dataset Class"
   ]
  },
  {
   "cell_type": "code",
   "execution_count": null,
   "id": "303e30b5-5380-4f3c-b43c-d526cfdf3af2",
   "metadata": {},
   "outputs": [],
   "source": [
    "class CustomDataset(Dataset):\n",
    "    def __init__(self, data):\n",
    "        self.data = torch.tensor(data, dtype=torch.float32)\n",
    "\n",
    "    def __len__(self):\n",
    "        return len(self.data)\n",
    "\n",
    "    def __getitem__(self, idx):\n",
    "        return self.data[idx]"
   ]
  },
  {
   "cell_type": "code",
   "execution_count": null,
   "id": "11ffcd34-4507-4e07-93c3-36d7cfdf377e",
   "metadata": {},
   "outputs": [],
   "source": [
    "train_data = CustomDataset(X_train_tensor)\n",
    "test_data = CustomDataset(X_test_tensor)"
   ]
  },
  {
   "cell_type": "markdown",
   "id": "396b5952-26cb-4b74-8e49-d7c70f3a54f1",
   "metadata": {},
   "source": [
    "# DataLoader"
   ]
  },
  {
   "cell_type": "code",
   "execution_count": null,
   "id": "94877832-77c9-43e0-bfe1-9fa7e2c2bf4f",
   "metadata": {},
   "outputs": [],
   "source": [
    "BATCH_SIZE = 16"
   ]
  },
  {
   "cell_type": "code",
   "execution_count": null,
   "id": "0fabf251-4c1c-4e43-a320-84069ae2dc94",
   "metadata": {},
   "outputs": [],
   "source": [
    "train_dataloader = DataLoader(train_data, batch_size=BATCH_SIZE, shuffle=True)\n",
    "test_dataloader = DataLoader(test_data, batch_size=BATCH_SIZE, shuffle=False)"
   ]
  },
  {
   "cell_type": "code",
   "execution_count": null,
   "id": "cb037e23-a5c3-43e1-bbce-6bb3b0bad5a2",
   "metadata": {},
   "outputs": [],
   "source": [
    "len(train_data), len(test_data)"
   ]
  },
  {
   "cell_type": "code",
   "execution_count": null,
   "id": "f3187c46-ed2d-41ad-8607-b8a1ae739855",
   "metadata": {},
   "outputs": [],
   "source": [
    "len(train_dataloader), len(test_dataloader)"
   ]
  },
  {
   "cell_type": "markdown",
   "id": "a752cf36-bbb9-414d-bb80-203a9a40565c",
   "metadata": {},
   "source": [
    "# Define a Model (AutoEncoder in this case)"
   ]
  },
  {
   "cell_type": "code",
   "execution_count": null,
   "id": "b30f23f8-c61b-42ec-bb36-8a65a806880e",
   "metadata": {},
   "outputs": [],
   "source": [
    "class AutoEncoder(nn.Module):\n",
    "    def __init__(self, input_shape):\n",
    "        super().__init__()\n",
    "\n",
    "        self.encoder = nn.Sequential(\n",
    "            nn.Linear(input_shape, 256),\n",
    "            nn.ReLU(),\n",
    "            # nn.Dropout(0.3),\n",
    "            nn.Linear(256, 128),\n",
    "            nn.ReLU(),\n",
    "            # nn.Dropout(0.3),\n",
    "            nn.Linear(128, 64),\n",
    "            nn.ReLU(),\n",
    "            nn.Linear(64, 32)  # bottleneck\n",
    "        )\n",
    "\n",
    "        self.decoder = nn.Sequential(\n",
    "            nn.Linear(32, 64),\n",
    "            nn.ReLU(),\n",
    "            nn.Linear(64, 128),\n",
    "            nn.ReLU(),\n",
    "            nn.Linear(128, 256),\n",
    "            nn.ReLU(),\n",
    "            nn.Linear(256, input_shape)\n",
    "        )\n",
    "\n",
    "    def forward(self, X):\n",
    "        encoded = self.encoder(X)\n",
    "        decoded = self.decoder(encoded)\n",
    "        return encoded, decoded"
   ]
  },
  {
   "cell_type": "code",
   "execution_count": null,
   "id": "918d4b5c-1cd7-49fa-ac32-cec9f5f5daed",
   "metadata": {},
   "outputs": [],
   "source": [
    "''' Initializing the Model '''\n",
    "\n",
    "input_shape = X_df.shape[1]\n",
    "model_1 = AutoEncoder(input_shape)\n",
    "model_1.to(device)"
   ]
  },
  {
   "cell_type": "code",
   "execution_count": null,
   "id": "cac6290d-8526-4576-b2b1-fea589cb3756",
   "metadata": {},
   "outputs": [],
   "source": [
    "''' Important Parameters '''\n",
    "learning_rate = 1e-4\n",
    "epochs = 50"
   ]
  },
  {
   "cell_type": "code",
   "execution_count": null,
   "id": "de7f142d-6e5f-4916-8659-03474ae6c47b",
   "metadata": {},
   "outputs": [],
   "source": [
    "''' Loss Function and Optimizers '''\n",
    "\n",
    "mse_loss_function = nn.MSELoss()\n",
    "optimizer = torch.optim.AdamW(model_1.parameters(), lr=learning_rate, weight_decay=1e-5)\n",
    "scheduler = torch.optim.lr_scheduler.ReduceLROnPlateau(optimizer, mode='min', patience=5, factor=0.5, verbose=True)"
   ]
  },
  {
   "cell_type": "markdown",
   "id": "4474592c-f235-457c-aa5d-0dab3f62aaa2",
   "metadata": {},
   "source": [
    "# Training Loop"
   ]
  },
  {
   "cell_type": "code",
   "execution_count": null,
   "id": "f3f5da4c-5a09-4419-bfbd-d4e42c68ecb1",
   "metadata": {},
   "outputs": [],
   "source": [
    "def train_step(model:torch.nn.Module,\n",
    "               dataloader:torch.utils.data.DataLoader,\n",
    "               mse_loss_function:torch.nn.Module,\n",
    "               optimizer:torch.optim.Optimizer\n",
    "              ):\n",
    "    model.train()\n",
    "    epoch_total_loss = 0\n",
    "\n",
    "    for batch_X in dataloader:\n",
    "        encoded, decoded = model(batch_X)\n",
    "\n",
    "        ''' Compute Loss '''\n",
    "        mse_loss = mse_loss_function(decoded, batch_X)\n",
    "\n",
    "        ''' BackPropagation '''\n",
    "        optimizer.zero_grad()\n",
    "        mse_loss.backward()\n",
    "        optimizer.step()\n",
    "\n",
    "        epoch_total_loss = mse_loss.item()\n",
    "\n",
    "    training_loss = epoch_total_loss / len(dataloader)\n",
    "    return training_loss"
   ]
  },
  {
   "cell_type": "markdown",
   "id": "0760815d-3ca4-4db1-acff-bf7f748359fe",
   "metadata": {},
   "source": [
    "# Testing Loop"
   ]
  },
  {
   "cell_type": "code",
   "execution_count": null,
   "id": "98bf3e05-bb50-4e38-aa56-65023a4379bb",
   "metadata": {},
   "outputs": [],
   "source": [
    "def test_step(model:torch.nn.Module,\n",
    "              dataloader:torch.utils.data.DataLoader,\n",
    "              mse_loss_function:torch.nn.Module,\n",
    "             ):\n",
    "\n",
    "    epoch_total_loss = 0\n",
    "    \n",
    "    model.eval()\n",
    "    with torch.inference_mode():\n",
    "        for batch_X in dataloader:\n",
    "            encoded, decoded = model(batch_X)  # Forward pass\n",
    "\n",
    "            ''' Compute Loss '''\n",
    "            mse_loss = mse_loss_function(decoded, batch_X)  # Reconstruction Loss\n",
    "            \n",
    "            epoch_total_loss += mse_loss.item()\n",
    "\n",
    "        testing_loss = epoch_total_loss / len(dataloader)\n",
    "        return testing_loss"
   ]
  },
  {
   "cell_type": "markdown",
   "id": "0d2bb8f1-23cc-47cc-bdab-7e8506fef10d",
   "metadata": {},
   "source": [
    "## Combining Training and Testing Loop into evaluate()"
   ]
  },
  {
   "cell_type": "code",
   "execution_count": null,
   "id": "82dc904b-40dc-4eef-b74a-d2e783930713",
   "metadata": {},
   "outputs": [],
   "source": [
    "def evaluate(model:torch.nn.Module,\n",
    "             train_dataloader:torch.utils.data.DataLoader,\n",
    "             test_dataloader:torch.utils.data.DataLoader,\n",
    "             mse_loss_function:torch.nn.Module,\n",
    "             optimizer:torch.optim.Optimizer,\n",
    "             scheduler:torch.optim.lr_scheduler.ReduceLROnPlateau,\n",
    "             epochs:int = 5,\n",
    "             patience:int = 3,\n",
    "             delta:float = 0.0001\n",
    "            ):\n",
    "    \n",
    "    results = {'training_loss':[],\n",
    "              'testing_loss':[]}\n",
    "\n",
    "    best_testing_loss = float('inf')\n",
    "    epochs_without_improvement = 0\n",
    "\n",
    "    for epoch in range(epochs):\n",
    "        training_loss = train_step(model=model,\n",
    "                                   dataloader=train_dataloader,\n",
    "                                   mse_loss_function=mse_loss_function,\n",
    "                                   optimizer=optimizer\n",
    "                                  )\n",
    "\n",
    "        testing_loss = test_step(model=model,\n",
    "                                   dataloader=test_dataloader,\n",
    "                                   mse_loss_function=mse_loss_function,\n",
    "                                  )\n",
    "\n",
    "        scheduler.step(testing_loss)\n",
    "        results['training_loss'].append(training_loss)\n",
    "        results['testing_loss'].append(testing_loss)\n",
    "\n",
    "        print(f'Epoch {epoch+1}/{epochs} | Training Loss: {training_loss:.5f} | Testing Loss: {testing_loss:.5f}')\n",
    "\n",
    "         # Early stopping: check if testing loss improved\n",
    "        if testing_loss < best_testing_loss - delta:\n",
    "            best_testing_loss = testing_loss\n",
    "            epochs_without_improvement = 0  # Reset counter since we had improvement\n",
    "        else:\n",
    "            epochs_without_improvement += 1\n",
    "        \n",
    "        # If no improvement for 'patience' epochs, stop training early\n",
    "        if epochs_without_improvement >= patience:\n",
    "            print(f\"Early stopping triggered at epoch {epoch+1}!\")\n",
    "            break\n",
    "        \n",
    "        # LR Scheduler\n",
    "        for param_group in optimizer.param_groups:\n",
    "            print(f\"Current Learning Rate: {param_group['lr']:.6f}\")\n",
    "    return results"
   ]
  },
  {
   "cell_type": "code",
   "execution_count": null,
   "id": "4effe4a3-9806-43d4-bab8-15515103fcc0",
   "metadata": {},
   "outputs": [],
   "source": [
    "results = evaluate(model=model_1,\n",
    "                   train_dataloader=train_dataloader,\n",
    "                   test_dataloader=test_dataloader,\n",
    "                   mse_loss_function=mse_loss_function,\n",
    "                   optimizer=optimizer,\n",
    "                   scheduler=scheduler,\n",
    "                   epochs=epochs,\n",
    "                   patience=3,  # Stop after 3 epochs without improvement\n",
    "                   delta=0.0001)"
   ]
  },
  {
   "cell_type": "markdown",
   "id": "fd0bff64-448f-4f4d-ac25-daa1fd00f886",
   "metadata": {},
   "source": [
    "# Loss and Accuracy Curves"
   ]
  },
  {
   "cell_type": "code",
   "execution_count": null,
   "id": "bd14cf30-7dda-4f5b-b2f2-69f655f168a5",
   "metadata": {},
   "outputs": [],
   "source": [
    "epochs = range(len(results['training_loss']))\n",
    "\n",
    "plt.figure(figsize=(8, 5))\n",
    "plt.plot(epochs, results['training_loss'], label='Training Loss')\n",
    "plt.plot(epochs, results['testing_loss'], label='Testing Loss')\n",
    "plt.xlabel('Epochs')\n",
    "plt.ylabel('Loss')\n",
    "plt.title('Training VS Testing Loss')\n",
    "plt.legend()\n",
    "plt.show()"
   ]
  },
  {
   "cell_type": "markdown",
   "id": "f295c43f-8095-4659-b705-17fc69650098",
   "metadata": {},
   "source": [
    "## Test it on User's Preferences "
   ]
  },
  {
   "cell_type": "code",
   "execution_count": null,
   "id": "99c79366-372e-443a-98e5-3e1da8403c2f",
   "metadata": {},
   "outputs": [],
   "source": [
    "X_df.columns"
   ]
  },
  {
   "cell_type": "code",
   "execution_count": null,
   "id": "568629d4-f718-4a5e-a79e-fdd8f084f4de",
   "metadata": {},
   "outputs": [],
   "source": [
    "test_df = pd.read_csv('test_data.csv')"
   ]
  },
  {
   "cell_type": "code",
   "execution_count": null,
   "id": "f3825e4a-76d8-44de-8860-3c515ef20a6a",
   "metadata": {},
   "outputs": [],
   "source": [
    "user_pref = {'jobma_catcher_id':1111,\n",
    "             'jobma_catcher_industry':'Unknown',\n",
    "             'jobma_catcher_type':'1',\n",
    "             'is_premium':'1',\n",
    "             'jobma_catcher_sub_accounts':0,\n",
    "             'jobma_catcher_is_deleted':'No',\n",
    "             'jobma_verified':1,\n",
    "             'subscription_status':2,\n",
    "             'interview_rate':0.,\n",
    "             'live_interview_credit':11.,\n",
    "             'pre_recorded_credit':1.00000e+02,\n",
    "             'credit_value':2,\n",
    "             'interview_cost_type':1,\n",
    "             'subscription_type_x':0,\n",
    "             'jobma_support_rtc':2,\n",
    "             'interview_question':20,\n",
    "             'video_recording_suppport':2,\n",
    "             'sing_up_canditate_after_apply':0,\n",
    "             'currency':1,\n",
    "             'company_size':'500-1000',\n",
    "             'wallet_amount':8.000000e+01,\n",
    "             'plan_type':'Yes',\n",
    "             'is_unlimited':'Yes',\n",
    "             'premium_storage':0.,\n",
    "             'subscription_amount': 1.13500000e+04,\n",
    "             'number_of_subscriptions':116.,\n",
    "             'number_of_invitations':2.0000e+02,\n",
    "             'job_posted':35.,\n",
    "             'number_of_kits':39.\n",
    "            }"
   ]
  },
  {
   "cell_type": "code",
   "execution_count": null,
   "id": "336b6561-cab3-4c21-adb5-04a318a63c68",
   "metadata": {},
   "outputs": [],
   "source": [
    "original_df = pd.read_csv('recommend1.csv')"
   ]
  },
  {
   "cell_type": "code",
   "execution_count": null,
   "id": "b9600e2c-22f0-45b0-b8dc-c2b5821819b6",
   "metadata": {},
   "outputs": [],
   "source": [
    "original_df = original_df[['jobma_catcher_id', 'jobma_catcher_company']]"
   ]
  },
  {
   "cell_type": "code",
   "execution_count": null,
   "id": "aa864117-dbf4-4fa7-84e6-edd5f3b29ad3",
   "metadata": {},
   "outputs": [],
   "source": [
    "def recommend(user_input, model, dataloader, df_original, original_df, pipeline, top_k=5):\n",
    "    user_df = pd.DataFrame([user_input])\n",
    "    user_input_transformed = pipeline.transform(user_df)\n",
    "    user_input_tensor = torch.tensor(user_input_transformed, dtype=torch.float32)\n",
    "    \n",
    "    model.eval()\n",
    "    with torch.no_grad():\n",
    "        user_embedding, _ = model(user_input_tensor)\n",
    "        item_embeddings_list = []\n",
    "        for batch_X in dataloader:\n",
    "            item_embedding, _ = model(batch_X)\n",
    "            item_embeddings_list.append(item_embedding)\n",
    "\n",
    "        item_embeddings = torch.cat(item_embeddings_list, dim=0)\n",
    "\n",
    "        similarities = F.cosine_similarity(user_embedding, item_embeddings)\n",
    "        top_indices = similarities.topk(top_k).indices.cpu().numpy()\n",
    "\n",
    "    recommended = df_original.iloc[top_indices].copy()\n",
    "    recommended['similarity'] = similarities[top_indices].cpu().numpy()\n",
    "\n",
    "    merged_df = pd.merge(recommended, original_df[['jobma_catcher_id', 'jobma_catcher_company']], on='jobma_catcher_id', how='left')\n",
    "\n",
    "    return merged_df[['jobma_catcher_id', 'jobma_catcher_company', 'company_size', 'is_premium', 'wallet_amount', 'similarity']]"
   ]
  },
  {
   "cell_type": "code",
   "execution_count": null,
   "id": "88db6ea8-2c30-4747-b2f5-4db904d9d76b",
   "metadata": {},
   "outputs": [],
   "source": [
    "result = recommend(user_pref, model_1, test_dataloader, test_df, original_df, pipeline, top_k=5)\n",
    "print(result.to_string())"
   ]
  },
  {
   "cell_type": "code",
   "execution_count": null,
   "id": "05d5fb24-b327-4f93-ac1c-d42b4d826c05",
   "metadata": {},
   "outputs": [],
   "source": [
    "user_pref1 = {'jobma_catcher_id':1111,\n",
    "             'jobma_catcher_industry':'Unknown',\n",
    "             'jobma_catcher_type':'1',\n",
    "             'is_premium':'1',\n",
    "             'jobma_catcher_sub_accounts':0,\n",
    "             'jobma_catcher_is_deleted':'No',\n",
    "             'jobma_verified':1,\n",
    "             'subscription_status':2,\n",
    "             'interview_rate':0.,\n",
    "             'live_interview_credit':11.,\n",
    "             'pre_recorded_credit':1.00000e+02,\n",
    "             'credit_value':2,\n",
    "             'interview_cost_type':1,\n",
    "             'subscription_type_x':0,\n",
    "             'jobma_support_rtc':2,\n",
    "             'interview_question':20,\n",
    "             'video_recording_suppport':2,\n",
    "             'sing_up_canditate_after_apply':0,\n",
    "             'currency':1,\n",
    "             'company_size':'More than 1000',\n",
    "             'wallet_amount':8.000000e+01,\n",
    "             'plan_type':'Yes',\n",
    "             'is_unlimited':'Yes',\n",
    "             'premium_storage':0.,\n",
    "             'subscription_amount': 1.13500000e+04,\n",
    "             'number_of_subscriptions':116.,\n",
    "             'number_of_invitations':2.0000e+02,\n",
    "             'job_posted':35.,\n",
    "             'number_of_kits':139.\n",
    "            }"
   ]
  },
  {
   "cell_type": "code",
   "execution_count": null,
   "id": "d0d5286d-bdb5-47a4-85e5-59ad5d8f808c",
   "metadata": {},
   "outputs": [],
   "source": [
    "result = recommend(user_pref1, model_1, test_dataloader, test_df, original_df, pipeline, top_k=5)\n",
    "print(result.to_string())"
   ]
  },
  {
   "cell_type": "code",
   "execution_count": null,
   "id": "505aabfe-547c-4000-a24b-0becfa472202",
   "metadata": {},
   "outputs": [],
   "source": [
    "user_pref_dormant = {'jobma_catcher_id':0,\n",
    "             'jobma_catcher_industry':'Unknown',\n",
    "             'jobma_catcher_type':'1',\n",
    "             'is_premium':'1',\n",
    "             'jobma_catcher_sub_accounts':0,\n",
    "             'jobma_catcher_is_deleted':'No',\n",
    "             'jobma_verified':1,\n",
    "             'subscription_status':2,\n",
    "             'interview_rate':0.,\n",
    "             'live_interview_credit':11.,\n",
    "             'pre_recorded_credit':1.00000e+02,\n",
    "             'credit_value':2,\n",
    "             'interview_cost_type':1,\n",
    "             'subscription_type_x':0,\n",
    "             'jobma_support_rtc':2,\n",
    "             'interview_question':20,\n",
    "             'video_recording_suppport':2,\n",
    "             'sing_up_canditate_after_apply':0,\n",
    "             'currency':1,\n",
    "             'company_size':'More than 1000',\n",
    "             'wallet_amount':0.000000e+00,\n",
    "             'plan_type':'No',\n",
    "             'is_unlimited':'No',\n",
    "             'premium_storage':1.,\n",
    "             'subscription_amount': 1.000000e+02,\n",
    "             'number_of_subscriptions':1.,\n",
    "             'number_of_invitations':1.,\n",
    "             'job_posted':5.,\n",
    "             'number_of_kits':1.\n",
    "            }"
   ]
  },
  {
   "cell_type": "code",
   "execution_count": null,
   "id": "98f13eab-2f6a-4a4b-a748-87b4cc4e5d81",
   "metadata": {},
   "outputs": [],
   "source": [
    "result = recommend(user_pref_dormant, model_1, test_dataloader, test_df, original_df, pipeline, top_k=5)\n",
    "print(result.to_string())"
   ]
  },
  {
   "cell_type": "code",
   "execution_count": null,
   "id": "5df837aa-846e-4481-b1c2-cbbe2cb76420",
   "metadata": {},
   "outputs": [],
   "source": [
    "user_pref_asdfg = {'jobma_catcher_id':0,\n",
    "             'jobma_catcher_industry':'Unknown',\n",
    "             'jobma_catcher_type':'1',\n",
    "             'is_premium':'0',\n",
    "             'jobma_catcher_sub_accounts':0,\n",
    "             'jobma_catcher_is_deleted':'No',\n",
    "             'jobma_verified':0,\n",
    "             'subscription_status':1,\n",
    "             'interview_rate':0.,\n",
    "             'live_interview_credit':11.,\n",
    "             'pre_recorded_credit':1.00000e+02,\n",
    "             'credit_value':2,\n",
    "             'interview_cost_type':1,\n",
    "             'subscription_type_x':0,\n",
    "             'jobma_support_rtc':2,\n",
    "             'interview_question':20,\n",
    "             'video_recording_suppport':2,\n",
    "             'sing_up_canditate_after_apply':0,\n",
    "             'currency':1,\n",
    "             'company_size':'More than 1000',\n",
    "             'wallet_amount':1.000000e+00,\n",
    "             'plan_type':'No',\n",
    "             'is_unlimited':'No',\n",
    "             'premium_storage':1.,\n",
    "             'subscription_amount': 1.000000e+02,\n",
    "             'number_of_subscriptions':1.,\n",
    "             'number_of_invitations':1.,\n",
    "             'job_posted':5.,\n",
    "             'number_of_kits':1.\n",
    "            }"
   ]
  },
  {
   "cell_type": "code",
   "execution_count": null,
   "id": "356df921-76ed-44b8-ac3e-e753ff0cd371",
   "metadata": {},
   "outputs": [],
   "source": [
    "result1 = recommend(user_pref_asdfg, model_1, test_dataloader, test_df, original_df, pipeline, top_k=5)\n",
    "print(result1.to_string())"
   ]
  }
 ],
 "metadata": {
  "kernelspec": {
   "display_name": "Python 3 (ipykernel)",
   "language": "python",
   "name": "python3"
  },
  "language_info": {
   "codemirror_mode": {
    "name": "ipython",
    "version": 3
   },
   "file_extension": ".py",
   "mimetype": "text/x-python",
   "name": "python",
   "nbconvert_exporter": "python",
   "pygments_lexer": "ipython3",
   "version": "3.12.7"
  }
 },
 "nbformat": 4,
 "nbformat_minor": 5
}
