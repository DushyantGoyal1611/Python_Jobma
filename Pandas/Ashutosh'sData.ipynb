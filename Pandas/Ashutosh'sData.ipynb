{
 "cells": [
  {
   "cell_type": "code",
   "execution_count": 1,
   "id": "7d45f5b2-67f5-49e7-9c11-ff083076a2e4",
   "metadata": {},
   "outputs": [],
   "source": [
    "import pandas as pd"
   ]
  },
  {
   "cell_type": "code",
   "execution_count": 2,
   "id": "b60ac62f-baed-43ff-ab2d-6d51712754bb",
   "metadata": {},
   "outputs": [],
   "source": [
    "import json"
   ]
  },
  {
   "cell_type": "code",
   "execution_count": 3,
   "id": "2a0cb251-c6f8-488f-8fd6-1c627dd3b711",
   "metadata": {},
   "outputs": [],
   "source": [
    "import re"
   ]
  },
  {
   "cell_type": "code",
   "execution_count": 4,
   "id": "058ad80b-e58f-432d-ae5c-3f0317cc1ef4",
   "metadata": {},
   "outputs": [],
   "source": [
    "import os"
   ]
  },
  {
   "cell_type": "code",
   "execution_count": 5,
   "id": "a80aa6f2-7261-4cfe-bf17-881fa66819da",
   "metadata": {},
   "outputs": [],
   "source": [
    "import xlsxwriter"
   ]
  },
  {
   "cell_type": "code",
   "execution_count": 6,
   "id": "6ee84e3e-64ab-44aa-8706-5717c8b39259",
   "metadata": {},
   "outputs": [],
   "source": [
    "df = pd.read_csv('Testkits2.csv')"
   ]
  },
  {
   "cell_type": "code",
   "execution_count": 7,
   "id": "e1356b24-eb1e-461f-a9e5-29e4da7c95d4",
   "metadata": {},
   "outputs": [
    {
     "data": {
      "text/html": [
       "<div>\n",
       "<style scoped>\n",
       "    .dataframe tbody tr th:only-of-type {\n",
       "        vertical-align: middle;\n",
       "    }\n",
       "\n",
       "    .dataframe tbody tr th {\n",
       "        vertical-align: top;\n",
       "    }\n",
       "\n",
       "    .dataframe thead th {\n",
       "        text-align: right;\n",
       "    }\n",
       "</style>\n",
       "<table border=\"1\" class=\"dataframe\">\n",
       "  <thead>\n",
       "    <tr style=\"text-align: right;\">\n",
       "      <th></th>\n",
       "      <th>Title</th>\n",
       "      <th>JSON Response</th>\n",
       "    </tr>\n",
       "  </thead>\n",
       "  <tbody>\n",
       "    <tr>\n",
       "      <th>0</th>\n",
       "      <td>Django</td>\n",
       "      <td>{\\n    \"id\": 1250569,\\n    \"name\": \"Django\",\\n...</td>\n",
       "    </tr>\n",
       "    <tr>\n",
       "      <th>1</th>\n",
       "      <td>Coding: Intermediate level</td>\n",
       "      <td>{\\n    \"id\": 1471468,\\n    \"name\": \"Coding: In...</td>\n",
       "    </tr>\n",
       "    <tr>\n",
       "      <th>2</th>\n",
       "      <td>Docker</td>\n",
       "      <td>{\\n    \"id\": 170977,\\n    \"name\": \"Docker\",\\n ...</td>\n",
       "    </tr>\n",
       "    <tr>\n",
       "      <th>3</th>\n",
       "      <td>ASP.NET</td>\n",
       "      <td>{\\n    \"id\": 895134,\\n    \"name\": \"ASP.NET (in...</td>\n",
       "    </tr>\n",
       "    <tr>\n",
       "      <th>4</th>\n",
       "      <td>Creating REST APIs</td>\n",
       "      <td>{\\n    \"id\": 1950355,\\n    \"name\": \"Creating R...</td>\n",
       "    </tr>\n",
       "    <tr>\n",
       "      <th>...</th>\n",
       "      <td>...</td>\n",
       "      <td>...</td>\n",
       "    </tr>\n",
       "    <tr>\n",
       "      <th>218</th>\n",
       "      <td>NetSuite Administration</td>\n",
       "      <td>{\\n    \"id\": 1258902,\\n    \"name\": \"NetSuite A...</td>\n",
       "    </tr>\n",
       "    <tr>\n",
       "      <th>219</th>\n",
       "      <td>Advanced Networking in Amazon Web Services (AWS)</td>\n",
       "      <td>{\\n    \"id\": 1431343,\\n    \"name\": \"Advanced N...</td>\n",
       "    </tr>\n",
       "    <tr>\n",
       "      <th>220</th>\n",
       "      <td>Linux</td>\n",
       "      <td>{\\n    \"id\": 925544,\\n    \"name\": \"Linux\",\\n  ...</td>\n",
       "    </tr>\n",
       "    <tr>\n",
       "      <th>221</th>\n",
       "      <td>Wireshark</td>\n",
       "      <td>{\\n    \"id\": 996346,\\n    \"name\": \"Wireshark\",...</td>\n",
       "    </tr>\n",
       "    <tr>\n",
       "      <th>222</th>\n",
       "      <td>Ansible</td>\n",
       "      <td>{\\n    \"id\": 561768,\\n    \"name\": \"Ansible\",\\n...</td>\n",
       "    </tr>\n",
       "  </tbody>\n",
       "</table>\n",
       "<p>223 rows × 2 columns</p>\n",
       "</div>"
      ],
      "text/plain": [
       "                                                Title  \\\n",
       "0                                              Django   \n",
       "1                          Coding: Intermediate level   \n",
       "2                                              Docker   \n",
       "3                                             ASP.NET   \n",
       "4                                  Creating REST APIs   \n",
       "..                                                ...   \n",
       "218                           NetSuite Administration   \n",
       "219  Advanced Networking in Amazon Web Services (AWS)   \n",
       "220                                             Linux   \n",
       "221                                         Wireshark   \n",
       "222                                           Ansible   \n",
       "\n",
       "                                         JSON Response  \n",
       "0    {\\n    \"id\": 1250569,\\n    \"name\": \"Django\",\\n...  \n",
       "1    {\\n    \"id\": 1471468,\\n    \"name\": \"Coding: In...  \n",
       "2    {\\n    \"id\": 170977,\\n    \"name\": \"Docker\",\\n ...  \n",
       "3    {\\n    \"id\": 895134,\\n    \"name\": \"ASP.NET (in...  \n",
       "4    {\\n    \"id\": 1950355,\\n    \"name\": \"Creating R...  \n",
       "..                                                 ...  \n",
       "218  {\\n    \"id\": 1258902,\\n    \"name\": \"NetSuite A...  \n",
       "219  {\\n    \"id\": 1431343,\\n    \"name\": \"Advanced N...  \n",
       "220  {\\n    \"id\": 925544,\\n    \"name\": \"Linux\",\\n  ...  \n",
       "221  {\\n    \"id\": 996346,\\n    \"name\": \"Wireshark\",...  \n",
       "222  {\\n    \"id\": 561768,\\n    \"name\": \"Ansible\",\\n...  \n",
       "\n",
       "[223 rows x 2 columns]"
      ]
     },
     "execution_count": 7,
     "metadata": {},
     "output_type": "execute_result"
    }
   ],
   "source": [
    "df"
   ]
  },
  {
   "cell_type": "code",
   "execution_count": 8,
   "id": "ace4e16f-b10e-4a8d-a731-ede6781a3d91",
   "metadata": {},
   "outputs": [
    {
     "data": {
      "text/plain": [
       "Title            4\n",
       "JSON Response    5\n",
       "dtype: int64"
      ]
     },
     "execution_count": 8,
     "metadata": {},
     "output_type": "execute_result"
    }
   ],
   "source": [
    "df.isnull().sum()"
   ]
  },
  {
   "cell_type": "code",
   "execution_count": 9,
   "id": "59333fc0-760a-4b2e-ba57-8ab01dd87196",
   "metadata": {},
   "outputs": [],
   "source": [
    "df.dropna(inplace=True)"
   ]
  },
  {
   "cell_type": "code",
   "execution_count": 10,
   "id": "5ced771c-9f87-46b9-ba42-8722038639ca",
   "metadata": {},
   "outputs": [
    {
     "data": {
      "text/plain": [
       "Title            0\n",
       "JSON Response    0\n",
       "dtype: int64"
      ]
     },
     "execution_count": 10,
     "metadata": {},
     "output_type": "execute_result"
    }
   ],
   "source": [
    "df.isnull().sum()"
   ]
  },
  {
   "cell_type": "code",
   "execution_count": 11,
   "id": "25a2eaaa-5553-4002-af0f-420c5ea3455f",
   "metadata": {},
   "outputs": [],
   "source": [
    "# function to clean tags\n",
    "def cleanText(text):\n",
    "    text = re.sub(r\"<.*?>\",'',str(text)).replace('&nbsp',' ').replace(';','').strip()\n",
    "    return text"
   ]
  },
  {
   "cell_type": "code",
   "execution_count": 12,
   "id": "c394256a-0a30-4e16-b799-3b307429a46d",
   "metadata": {},
   "outputs": [],
   "source": [
    "# function to extract data from json\n",
    "\n",
    "def extract_data(json_str):\n",
    "    try:\n",
    "        parsed = json.loads(json_str)\n",
    "        question_set = []\n",
    "\n",
    "        for question in parsed.get('preview_questions',[]):\n",
    "            title = cleanText(question.get('text',''))\n",
    "            ques_type = None\n",
    "            options = []\n",
    "            score = None\n",
    "\n",
    "            if question.get('type') == 'multiple-choice':\n",
    "                ques_type = 2\n",
    "                options = [answer.get('text') for answer in question.get('answers',[])]\n",
    "                score = scorecheck(question)\n",
    "            elif question.get('type') == 'multiple-response':\n",
    "                ques_type = 15\n",
    "                options = [answer.get('text') for answer in question.get('answers',[])]\n",
    "                score = scorecheck(question)\n",
    "            elif question.get('type') == 'truefalse':\n",
    "                ques_type = 11\n",
    "                options = ['true', 'false']\n",
    "                score = scorecheck(question)\n",
    "            \n",
    "            question_set.append(\n",
    "                {\n",
    "                    'title':title,\n",
    "                    'ques_type':ques_type,\n",
    "                    'options':options,\n",
    "                    'score':score\n",
    "                }\n",
    "            )\n",
    "\n",
    "        return question_set\n",
    "\n",
    "    except (json.JSONDecodeError, TypeError) as e:\n",
    "        print(f\"Error: {e}\")\n",
    "        return []"
   ]
  },
  {
   "cell_type": "code",
   "execution_count": 13,
   "id": "99c97f1d-23c9-4e3a-a1b3-c0e3cb4ed5df",
   "metadata": {},
   "outputs": [],
   "source": [
    "def scorecheck(parsed):\n",
    "    try:    \n",
    "        score = [] if parsed.get('type') == 'multiple-response' else None \n",
    "        for answer in parsed.get('answers',[]):\n",
    "            if isinstance(score,list):\n",
    "                if answer.get('score',0)>0:\n",
    "                    score.append(cleanText(answer.get('text')))\n",
    "            else:\n",
    "                if answer.get('score',0)>0:   \n",
    "                    score = cleanText(answer.get('text'))\n",
    "                    break\n",
    "    \n",
    "        return score if score else None\n",
    "    except (json.JSONDecodeError, TypeError):\n",
    "        return None\n"
   ]
  },
  {
   "cell_type": "code",
   "execution_count": 14,
   "id": "5a5e37b0-d2fb-4e93-9e32-cf307d54f86f",
   "metadata": {},
   "outputs": [],
   "source": [
    "# to check if json is valid or not\n",
    "\n",
    "def isJsonValid(json_str):\n",
    "    try:\n",
    "        json.loads(json_str)\n",
    "        return True\n",
    "    except (json.JSONDecodeError, TypeError):\n",
    "        return False"
   ]
  },
  {
   "cell_type": "code",
   "execution_count": 15,
   "id": "b817ff52-c9dc-44fe-b9a0-303637306e4c",
   "metadata": {},
   "outputs": [],
   "source": [
    "df = df[df['JSON Response'].apply(isJsonValid)]"
   ]
  },
  {
   "cell_type": "code",
   "execution_count": 16,
   "id": "92d032f1-fc7c-4def-954a-19a6f3f1da23",
   "metadata": {},
   "outputs": [
    {
     "data": {
      "text/plain": [
       "(217, 2)"
      ]
     },
     "execution_count": 16,
     "metadata": {},
     "output_type": "execute_result"
    }
   ],
   "source": [
    "df.shape"
   ]
  },
  {
   "cell_type": "code",
   "execution_count": 17,
   "id": "f8302a69-f491-4f5f-a230-6240c622e738",
   "metadata": {},
   "outputs": [
    {
     "data": {
      "text/plain": [
       "Title            0\n",
       "JSON Response    0\n",
       "dtype: int64"
      ]
     },
     "execution_count": 17,
     "metadata": {},
     "output_type": "execute_result"
    }
   ],
   "source": [
    "df.isnull().sum()"
   ]
  },
  {
   "cell_type": "code",
   "execution_count": 18,
   "id": "cf870ab4-ff5b-4197-ace1-fe3a822f9d11",
   "metadata": {},
   "outputs": [],
   "source": [
    "df['Questions'] = df['JSON Response'].apply(lambda x: extract_data(x))"
   ]
  },
  {
   "cell_type": "code",
   "execution_count": 19,
   "id": "c3ba13ae-e4f6-4cb1-91b6-660f4d353466",
   "metadata": {},
   "outputs": [
    {
     "data": {
      "text/html": [
       "<div>\n",
       "<style scoped>\n",
       "    .dataframe tbody tr th:only-of-type {\n",
       "        vertical-align: middle;\n",
       "    }\n",
       "\n",
       "    .dataframe tbody tr th {\n",
       "        vertical-align: top;\n",
       "    }\n",
       "\n",
       "    .dataframe thead th {\n",
       "        text-align: right;\n",
       "    }\n",
       "</style>\n",
       "<table border=\"1\" class=\"dataframe\">\n",
       "  <thead>\n",
       "    <tr style=\"text-align: right;\">\n",
       "      <th></th>\n",
       "      <th>Title</th>\n",
       "      <th>JSON Response</th>\n",
       "      <th>Questions</th>\n",
       "    </tr>\n",
       "  </thead>\n",
       "  <tbody>\n",
       "    <tr>\n",
       "      <th>0</th>\n",
       "      <td>Django</td>\n",
       "      <td>{\\n    \"id\": 1250569,\\n    \"name\": \"Django\",\\n...</td>\n",
       "      <td>[{'title': 'You are working on a Django projec...</td>\n",
       "    </tr>\n",
       "    <tr>\n",
       "      <th>1</th>\n",
       "      <td>Coding: Intermediate level</td>\n",
       "      <td>{\\n    \"id\": 1471468,\\n    \"name\": \"Coding: In...</td>\n",
       "      <td>[{'title': 'The MEX number of a non-negative s...</td>\n",
       "    </tr>\n",
       "    <tr>\n",
       "      <th>2</th>\n",
       "      <td>Docker</td>\n",
       "      <td>{\\n    \"id\": 170977,\\n    \"name\": \"Docker\",\\n ...</td>\n",
       "      <td>[{'title': 'Given the Dockerfile below, what i...</td>\n",
       "    </tr>\n",
       "    <tr>\n",
       "      <th>3</th>\n",
       "      <td>ASP.NET</td>\n",
       "      <td>{\\n    \"id\": 895134,\\n    \"name\": \"ASP.NET (in...</td>\n",
       "      <td>[{'title': 'Which code snippet can you use to ...</td>\n",
       "    </tr>\n",
       "    <tr>\n",
       "      <th>4</th>\n",
       "      <td>Creating REST APIs</td>\n",
       "      <td>{\\n    \"id\": 1950355,\\n    \"name\": \"Creating R...</td>\n",
       "      <td>[{'title': 'You're building a high-throughput ...</td>\n",
       "    </tr>\n",
       "  </tbody>\n",
       "</table>\n",
       "</div>"
      ],
      "text/plain": [
       "                        Title  \\\n",
       "0                      Django   \n",
       "1  Coding: Intermediate level   \n",
       "2                      Docker   \n",
       "3                     ASP.NET   \n",
       "4          Creating REST APIs   \n",
       "\n",
       "                                       JSON Response  \\\n",
       "0  {\\n    \"id\": 1250569,\\n    \"name\": \"Django\",\\n...   \n",
       "1  {\\n    \"id\": 1471468,\\n    \"name\": \"Coding: In...   \n",
       "2  {\\n    \"id\": 170977,\\n    \"name\": \"Docker\",\\n ...   \n",
       "3  {\\n    \"id\": 895134,\\n    \"name\": \"ASP.NET (in...   \n",
       "4  {\\n    \"id\": 1950355,\\n    \"name\": \"Creating R...   \n",
       "\n",
       "                                           Questions  \n",
       "0  [{'title': 'You are working on a Django projec...  \n",
       "1  [{'title': 'The MEX number of a non-negative s...  \n",
       "2  [{'title': 'Given the Dockerfile below, what i...  \n",
       "3  [{'title': 'Which code snippet can you use to ...  \n",
       "4  [{'title': 'You're building a high-throughput ...  "
      ]
     },
     "execution_count": 19,
     "metadata": {},
     "output_type": "execute_result"
    }
   ],
   "source": [
    "df.head()"
   ]
  },
  {
   "cell_type": "code",
   "execution_count": 20,
   "id": "b2d0d25e-fe97-442e-8ec4-34612f952ac5",
   "metadata": {},
   "outputs": [
    {
     "data": {
      "text/plain": [
       "[['score=============> Alice should encrypt the document using Bob’s public key and send it to Bob Bob should decrypt it using his private key\\n\\n',\n",
       "  'Alice wants to securely send a confidential document to Bob via email. What steps should Alice take to ensure that the document is exchanged securely, and how should Bob decrypt and verify the document?'],\n",
       " [\"score=============> Give each employee a unique public/private key pair, encrypt the AES secret key using each employee's public key and email the encrypted key to them.\\n\\n\",\n",
       "  'Your insurance company keeps customer data safe by storing it in encrypted form using AES-256 bit encryption. Now you need to send your employees the secret AES key to allow them to decrypt customer data. How should you send your employees the secret AES key?'],\n",
       " ['score=============> False\\n\\n',\n",
       "  'Each employee in your company has a unique public/private key pair using RSA to securely exchange documents. Now you want to incorporate digital signatures into the documents your employees send. True or false: You will have to generate a new set of public/private key pairs for each of your employees.'],\n",
       " ['score=============> The document has not been tampered with\\n\\n',\n",
       "  'You receive a document along with its hash pasted on the back of the document over a trusted, secure channel. You calculate the hash of the document you received, and it matches the hash on the back of the document.  What does this tell you about the document?']]"
      ]
     },
     "execution_count": 20,
     "metadata": {},
     "output_type": "execute_result"
    }
   ],
   "source": [
    "[[\"score=============> \"+i['score']+\"\\n\\n\",i['title']] for i in df['Questions'].loc[6]]"
   ]
  },
  {
   "cell_type": "code",
   "execution_count": 21,
   "id": "e72d2c08-d7e1-41c5-8210-683659395ea2",
   "metadata": {},
   "outputs": [
    {
     "data": {
      "text/plain": [
       "Title            0\n",
       "JSON Response    0\n",
       "Questions        0\n",
       "dtype: int64"
      ]
     },
     "execution_count": 21,
     "metadata": {},
     "output_type": "execute_result"
    }
   ],
   "source": [
    "df.isnull().sum()"
   ]
  },
  {
   "cell_type": "code",
   "execution_count": 22,
   "id": "3efcdaec-e46d-42cf-b55b-c8ee98ca7e3c",
   "metadata": {},
   "outputs": [
    {
     "data": {
      "text/plain": [
       "(217, 3)"
      ]
     },
     "execution_count": 22,
     "metadata": {},
     "output_type": "execute_result"
    }
   ],
   "source": [
    "df.shape"
   ]
  },
  {
   "cell_type": "code",
   "execution_count": 23,
   "id": "6a6fa36d-0a48-4ac6-96d0-a19895df930e",
   "metadata": {},
   "outputs": [],
   "source": [
    "# function to extract keys from json\n",
    "def extractFromJson(json_str,key,subkey):\n",
    "    try:\n",
    "        parsed = json.loads(json_str)\n",
    "        value = parsed.get(key,None)\n",
    "\n",
    "        if isinstance(value,list) and len(value)>0 and isinstance(value[0],dict):\n",
    "            return value[0].get(subkey,None) if subkey else value[0]\n",
    "        return value\n",
    "    except (json.JSONDecodeError,TypeError) as e:\n",
    "        print(f\"Error: {e}\")\n",
    "        return None"
   ]
  },
  {
   "cell_type": "code",
   "execution_count": 24,
   "id": "9ae3d6b2-3ee0-43bb-b419-59057222fece",
   "metadata": {
    "scrolled": true
   },
   "outputs": [],
   "source": [
    "df['Type'] = df['JSON Response'].apply(lambda x: extractFromJson(x,'type','name'))"
   ]
  },
  {
   "cell_type": "code",
   "execution_count": 25,
   "id": "639cc0c7-3cf9-4e46-9b3c-ab93ece37a4d",
   "metadata": {},
   "outputs": [
    {
     "data": {
      "text/html": [
       "<div>\n",
       "<style scoped>\n",
       "    .dataframe tbody tr th:only-of-type {\n",
       "        vertical-align: middle;\n",
       "    }\n",
       "\n",
       "    .dataframe tbody tr th {\n",
       "        vertical-align: top;\n",
       "    }\n",
       "\n",
       "    .dataframe thead th {\n",
       "        text-align: right;\n",
       "    }\n",
       "</style>\n",
       "<table border=\"1\" class=\"dataframe\">\n",
       "  <thead>\n",
       "    <tr style=\"text-align: right;\">\n",
       "      <th></th>\n",
       "      <th>Title</th>\n",
       "      <th>JSON Response</th>\n",
       "      <th>Questions</th>\n",
       "      <th>Type</th>\n",
       "    </tr>\n",
       "  </thead>\n",
       "  <tbody>\n",
       "    <tr>\n",
       "      <th>0</th>\n",
       "      <td>Django</td>\n",
       "      <td>{\\n    \"id\": 1250569,\\n    \"name\": \"Django\",\\n...</td>\n",
       "      <td>[{'title': 'You are working on a Django projec...</td>\n",
       "      <td>Programming skills</td>\n",
       "    </tr>\n",
       "    <tr>\n",
       "      <th>1</th>\n",
       "      <td>Coding: Intermediate level</td>\n",
       "      <td>{\\n    \"id\": 1471468,\\n    \"name\": \"Coding: In...</td>\n",
       "      <td>[{'title': 'The MEX number of a non-negative s...</td>\n",
       "      <td>Programming skills</td>\n",
       "    </tr>\n",
       "    <tr>\n",
       "      <th>2</th>\n",
       "      <td>Docker</td>\n",
       "      <td>{\\n    \"id\": 170977,\\n    \"name\": \"Docker\",\\n ...</td>\n",
       "      <td>[{'title': 'Given the Dockerfile below, what i...</td>\n",
       "      <td>Software skills</td>\n",
       "    </tr>\n",
       "    <tr>\n",
       "      <th>3</th>\n",
       "      <td>ASP.NET</td>\n",
       "      <td>{\\n    \"id\": 895134,\\n    \"name\": \"ASP.NET (in...</td>\n",
       "      <td>[{'title': 'Which code snippet can you use to ...</td>\n",
       "      <td>Programming skills</td>\n",
       "    </tr>\n",
       "    <tr>\n",
       "      <th>4</th>\n",
       "      <td>Creating REST APIs</td>\n",
       "      <td>{\\n    \"id\": 1950355,\\n    \"name\": \"Creating R...</td>\n",
       "      <td>[{'title': 'You're building a high-throughput ...</td>\n",
       "      <td>Programming skills</td>\n",
       "    </tr>\n",
       "  </tbody>\n",
       "</table>\n",
       "</div>"
      ],
      "text/plain": [
       "                        Title  \\\n",
       "0                      Django   \n",
       "1  Coding: Intermediate level   \n",
       "2                      Docker   \n",
       "3                     ASP.NET   \n",
       "4          Creating REST APIs   \n",
       "\n",
       "                                       JSON Response  \\\n",
       "0  {\\n    \"id\": 1250569,\\n    \"name\": \"Django\",\\n...   \n",
       "1  {\\n    \"id\": 1471468,\\n    \"name\": \"Coding: In...   \n",
       "2  {\\n    \"id\": 170977,\\n    \"name\": \"Docker\",\\n ...   \n",
       "3  {\\n    \"id\": 895134,\\n    \"name\": \"ASP.NET (in...   \n",
       "4  {\\n    \"id\": 1950355,\\n    \"name\": \"Creating R...   \n",
       "\n",
       "                                           Questions                Type  \n",
       "0  [{'title': 'You are working on a Django projec...  Programming skills  \n",
       "1  [{'title': 'The MEX number of a non-negative s...  Programming skills  \n",
       "2  [{'title': 'Given the Dockerfile below, what i...     Software skills  \n",
       "3  [{'title': 'Which code snippet can you use to ...  Programming skills  \n",
       "4  [{'title': 'You're building a high-throughput ...  Programming skills  "
      ]
     },
     "execution_count": 25,
     "metadata": {},
     "output_type": "execute_result"
    }
   ],
   "source": [
    "df.head()"
   ]
  },
  {
   "cell_type": "code",
   "execution_count": 26,
   "id": "3305493d-8452-48ea-8892-73251d178b24",
   "metadata": {},
   "outputs": [
    {
     "data": {
      "text/plain": [
       "array(['Programming skills', 'Software skills', 'Role-specific skills',\n",
       "       'Cognitive ability', 'Situational judgment'], dtype=object)"
      ]
     },
     "execution_count": 26,
     "metadata": {},
     "output_type": "execute_result"
    }
   ],
   "source": [
    "df['Type'].unique()"
   ]
  },
  {
   "cell_type": "code",
   "execution_count": 27,
   "id": "8be6426b-5bed-4f41-9c51-22ac21928a1b",
   "metadata": {},
   "outputs": [
    {
     "data": {
      "text/plain": [
       "list"
      ]
     },
     "execution_count": 27,
     "metadata": {},
     "output_type": "execute_result"
    }
   ],
   "source": [
    "type(df['Questions'].loc[0])"
   ]
  },
  {
   "cell_type": "code",
   "execution_count": 35,
   "id": "c35d332d-d767-4a9d-9d1f-73012e8fa98e",
   "metadata": {},
   "outputs": [],
   "source": [
    "main_folder = 'Question_Set2'\n",
    "os.makedirs(main_folder, exist_ok=True)\n",
    "\n",
    "for _,row in df.iterrows():\n",
    "    type_folder = os.path.join(main_folder,str(row['Type']))\n",
    "    os.makedirs(type_folder, exist_ok=True)\n",
    "\n",
    "    file_name = re.sub(r'[\\\\/*?:\"<>|]', \"\", row['Title']) + \".xlsx\"\n",
    "    file_path = os.path.join(type_folder,file_name)\n",
    "\n",
    "    questions_data = \"questions = \"+ cleanText(json.dumps(row['Questions'],indent=4))\n",
    "    questions_df = pd.DataFrame([questions_data])\n",
    "    questions_df.reset_index(drop=True, inplace=True)\n",
    "\n",
    "    with pd.ExcelWriter(file_path, engine='xlsxwriter') as writer:\n",
    "        questions_df.to_excel(writer, index=False, header=False, sheet_name=\"Questions\")\n",
    "            "
   ]
  }
 ],
 "metadata": {
  "kernelspec": {
   "display_name": "Python 3 (ipykernel)",
   "language": "python",
   "name": "python3"
  },
  "language_info": {
   "codemirror_mode": {
    "name": "ipython",
    "version": 3
   },
   "file_extension": ".py",
   "mimetype": "text/x-python",
   "name": "python",
   "nbconvert_exporter": "python",
   "pygments_lexer": "ipython3",
   "version": "3.13.1"
  }
 },
 "nbformat": 4,
 "nbformat_minor": 5
}
